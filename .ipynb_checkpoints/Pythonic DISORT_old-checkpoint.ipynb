{
 "cells": [
  {
   "cell_type": "markdown",
   "id": "5bbada7c",
   "metadata": {},
   "source": [
    "# Discrete Ordinates Method"
   ]
  },
  {
   "cell_type": "markdown",
   "id": "7650e02f",
   "metadata": {
    "hide_input": true
   },
   "source": [
    "by Dion Ho"
   ]
  },
  {
   "cell_type": "code",
   "execution_count": 1,
   "id": "d438e85f",
   "metadata": {},
   "outputs": [],
   "source": [
    "import numpy as np\n",
    "import scipy as sc\n",
    "\n",
    "from math import pi\n",
    "from numpy.polynomial import legendre\n",
    "from scipy import integrate"
   ]
  },
  {
   "cell_type": "markdown",
   "id": "1252f792",
   "metadata": {},
   "source": [
    "We wish to solve the radiative transfer equation\n",
    "\n",
    "\\begin{align*}\n",
    "\\mu \\frac{d u(\\tau, \\mu, \\phi)}{d \\tau} = \\ u(\\tau, \\mu, \\phi) &-\\frac{\\omega_0}{4 \\pi} \\int_{-1}^{1} \\int_{0}^{2 \\pi} p\\left(\\mu, \\phi ; \\mu^{\\prime}, \\phi^{\\prime}\\right) u\\left(\\tau, \\mu^{\\prime}, \\phi^{\\prime}\\right) d \\phi^{\\prime} d \\mu^{\\prime} \\\\\n",
    "&-\\frac{\\omega_0 u_0}{4 \\pi} p\\left(\\mu, \\phi ;-\\mu_{0}, \\phi_{0}\\right) e^{-\\frac{\\tau}{\\mu_{0}}}\n",
    "\\end{align*}\n",
    "\n",
    "to determine the intensity $u$."
   ]
  },
  {
   "cell_type": "markdown",
   "id": "66dde436",
   "metadata": {},
   "source": [
    "========================================================================================================================="
   ]
  },
  {
   "cell_type": "markdown",
   "id": "ff99ba1a",
   "metadata": {},
   "source": [
    "# List of parameters to set"
   ]
  },
  {
   "cell_type": "markdown",
   "id": "1d52f3ac",
   "metadata": {},
   "source": [
    "### Hyperparameter list (excludes phase function)\n",
    "\n",
    "The variable names generally follow **STWJ1988:** Knut Stamnes, S-Chee Tsay, Warren Wiscombe, and Kolf Jayaweera, \"Numerically stable algorithm for discrete-ordinate-method radiative transfer in multiple scattering and emitting layered media,\" Appl. Opt. 27, 2502-2509 (1988), with the equivalent variable in Stamnes' DISORT code indicated in brackets"
   ]
  },
  {
   "cell_type": "markdown",
   "id": "b107ce7d",
   "metadata": {},
   "source": [
    "*NOTE: The current values are adapted from disotest1a.py*"
   ]
  },
  {
   "cell_type": "markdown",
   "id": "f0f3328a",
   "metadata": {},
   "source": [
    "Optical depth (DTAUC), i.e. bottom of atmosphere as we define the top to be $\\tau = 0$"
   ]
  },
  {
   "cell_type": "code",
   "execution_count": 2,
   "id": "bee29338",
   "metadata": {},
   "outputs": [],
   "source": [
    "tau_p = (25 / 8) * (10**-2)  # There may be ill-conditioning if tau_p > 1"
   ]
  },
  {
   "cell_type": "markdown",
   "id": "49494bae",
   "metadata": {},
   "source": [
    "*TODO: Implement the scheme by Yamamoto et al. (1971) to address potential ill-conditioning if $\\tau_p > 1$? See SS1981 as a first reference*"
   ]
  },
  {
   "cell_type": "markdown",
   "id": "9a7cb9f8",
   "metadata": {},
   "source": [
    "Single-scattering albedo (SSALB)"
   ]
  },
  {
   "cell_type": "code",
   "execution_count": 3,
   "id": "da1154a5",
   "metadata": {},
   "outputs": [],
   "source": [
    "w0 = 0.2 "
   ]
  },
  {
   "cell_type": "markdown",
   "id": "88d2926d",
   "metadata": {},
   "source": [
    "Parameters for the incident collimated beam "
   ]
  },
  {
   "cell_type": "code",
   "execution_count": 4,
   "id": "52dafd3a",
   "metadata": {},
   "outputs": [],
   "source": [
    "# Intensity (FBEAM)\n",
    "I0 = 10 * pi\n",
    "# Cosine of polar angle (UMU0)\n",
    "mu0 = pi / 4\n",
    "# Azimuthal angle (PHI0)\n",
    "phi0 = pi / 4"
   ]
  },
  {
   "cell_type": "markdown",
   "id": "855af7bc",
   "metadata": {},
   "source": [
    "### Computational variables list"
   ]
  },
  {
   "cell_type": "code",
   "execution_count": 5,
   "id": "d329e9ff",
   "metadata": {},
   "outputs": [],
   "source": [
    "# Number of phase function Legendre coefficients (NMOM)\n",
    "NLeg = 16\n",
    "# Number of evaluation points for quadrature approximation of the polar / mu integral\n",
    "# also known as the number of \"streams\" (NSTR)\n",
    "NQuad = 16\n",
    "\n",
    "# We require NQuad to be >2, even and <= NLeg\n",
    "assert NQuad > 2\n",
    "assert NQuad % 2 == 0\n",
    "assert NQuad <= NLeg"
   ]
  },
  {
   "cell_type": "markdown",
   "id": "4f834616",
   "metadata": {},
   "source": [
    "## Legendre expansion of the phase function"
   ]
  },
  {
   "cell_type": "markdown",
   "id": "59d5c631",
   "metadata": {},
   "source": [
    "We perform the following expansions, details in STWJ1988\n",
    "\n",
    "$$\n",
    "u(\\tau, \\mu, \\phi) = \\sum_m u^m(\\tau, \\mu)\\cos(m(\\phi_0 - \\phi)) \\\\\n",
    "p(\\cos\\gamma) = \\sum_\\ell g_\\ell P_\\ell(\\cos\\gamma)\n",
    "$$"
   ]
  },
  {
   "cell_type": "markdown",
   "id": "05020faa",
   "metadata": {},
   "source": [
    "The angle $\\gamma$ is between the incident vector $(\\theta_0, \\phi_0)$ and the scattering vector $(\\theta, \\phi)$ such that\n",
    "\n",
    "$$\\cos\\gamma \\equiv \\cos\\theta_0\\cos\\theta + \\sin\\theta_0\\sin\\theta\\cos(\\phi_0-\\phi)$$\n",
    "\n",
    "and so by the addition theorem for spherical harmonics\n",
    "\n",
    "$$P_\\ell(\\cos\\gamma) = P_\\ell(\\cos\\theta_0)P_\\ell(\\cos\\theta) + 2\\sum_{m=1}^\\ell \\frac{(\\ell-m)!}{(\\ell+m)!}P_\\ell^m(\\cos\\theta_0)P_\\ell^m(\\cos\\theta)\\cos(m(\\phi_0-\\phi))$$"
   ]
  },
  {
   "cell_type": "markdown",
   "id": "49d29fc7",
   "metadata": {},
   "source": [
    "### Phase functions"
   ]
  },
  {
   "cell_type": "markdown",
   "id": "843eb5b7",
   "metadata": {},
   "source": [
    "Phase functions in Stamnes' DISORT:\n",
    "\n",
    "    1) Isotropic\n",
    "    2) Rayleigh\n",
    "    3) Henyey-Greenstein with asymmetry factor GG\n",
    "    4) Haze L as specified by Garcia/Siewert\n",
    "    5) Cloud C.1 as specified by Garcia/Siewert\n",
    "    6) Aerosol as specified by Kokhanovsky \n",
    "    7) Cloud as specified by Kokhanovsky"
   ]
  },
  {
   "cell_type": "markdown",
   "id": "5a04bb03",
   "metadata": {},
   "source": [
    "#### Henyey-Greenstein phase function"
   ]
  },
  {
   "cell_type": "markdown",
   "id": "ab39f82f",
   "metadata": {},
   "source": [
    "$$\\frac{1-g^2}{\\left(1+g^2-2 g \\cos \\gamma\\right)^{3 / 2}}$$"
   ]
  },
  {
   "cell_type": "markdown",
   "id": "58a7fe7d",
   "metadata": {},
   "source": [
    "*TODO: Implement delta-scaled HG function (follow Wis1977 & JWW1976?)*"
   ]
  },
  {
   "cell_type": "code",
   "execution_count": 6,
   "id": "d62297c9",
   "metadata": {},
   "outputs": [],
   "source": [
    "# Asymmetry factor (GG)\n",
    "g = 0.75"
   ]
  },
  {
   "cell_type": "code",
   "execution_count": 7,
   "id": "31dcb77c",
   "metadata": {},
   "outputs": [],
   "source": [
    "# The exact definition of p_HG varies between sources by a constant factor\n",
    "# This definition follows STWJ1988\n",
    "p_HG = lambda gamma: (1 - g**2) / ((1 + g**2 - 2 * g * np.cos(gamma)) ** (3 / 2))"
   ]
  },
  {
   "cell_type": "code",
   "execution_count": 8,
   "id": "30c7248d",
   "metadata": {},
   "outputs": [],
   "source": [
    "# Array of g_l values as per STWJ1988 (PMOM)\n",
    "Leg_coeffs = np.empty(NLeg)\n",
    "for ell in range(NLeg):\n",
    "    integrand = lambda gamma: p_HG(gamma) * legendre.Legendre(\n",
    "        np.append(np.zeros(ell), 1)\n",
    "    )(np.cos(gamma))\n",
    "    Leg_coeffs[ell] = 1 / 2 * integrate.quad(integrand, -1, 1)[0]\n",
    "\n",
    "# For well known phase functions like HG we should be able to determine an analytic formula for the Legendre moments\n",
    "# and so bypass the need for numerical integration"
   ]
  },
  {
   "cell_type": "markdown",
   "id": "eafa75ff",
   "metadata": {},
   "source": [
    "#### Rayleigh phase function"
   ]
  },
  {
   "cell_type": "code",
   "execution_count": null,
   "id": "524d7a0e",
   "metadata": {},
   "outputs": [],
   "source": []
  },
  {
   "cell_type": "code",
   "execution_count": null,
   "id": "aa50fca2",
   "metadata": {},
   "outputs": [],
   "source": []
  },
  {
   "cell_type": "markdown",
   "id": "8d865c41",
   "metadata": {},
   "source": [
    "========================================================================================================================="
   ]
  },
  {
   "cell_type": "markdown",
   "id": "0de7c502",
   "metadata": {},
   "source": [
    "## PyDISORT algorithm"
   ]
  },
  {
   "cell_type": "markdown",
   "id": "1579d47e",
   "metadata": {},
   "source": [
    "### Subroutines"
   ]
  },
  {
   "cell_type": "code",
   "execution_count": 9,
   "id": "1ddf63a1",
   "metadata": {},
   "outputs": [],
   "source": [
    "def generate_Ds(m):\n",
    "    ells = np.arange(m, NQuad)\n",
    "\n",
    "    Dm_term1 = np.diag(2 * ells + 1)\n",
    "    Dm_term2 = np.diag(\n",
    "        Leg_coeffs[ells]\n",
    "        * sc.special.factorial(ells - m)\n",
    "        / sc.special.factorial(ells + m)\n",
    "    )\n",
    "    Dm_pos_term3 = sc.special.lpmv(\n",
    "        m, np.tile(np.arange(m, NQuad), (N, 1)).T, eval_pts_pos\n",
    "    )\n",
    "    Dm_neg_term3 = sc.special.lpmv(\n",
    "        m, np.tile(np.arange(m, NQuad), (N, 1)).T, eval_pts_neg\n",
    "    )\n",
    "\n",
    "    D_temp = Dm_term1 @ Dm_term2 @ Dm_pos_term3\n",
    "    D_pos = w0 / 2 * np.tensordot(D_temp, Dm_pos_term3, axes=([0, 0]))\n",
    "    D_neg = w0 / 2 * np.tensordot(D_temp, Dm_neg_term3, axes=([0, 0]))\n",
    "\n",
    "    return D_pos, D_neg\n",
    "\n",
    "\n",
    "# Vector X is vector Q in STWJ1988 but without the exponential term (our formulation has no thermal term)\n",
    "def generate_Xs(m):\n",
    "    if m != 0:\n",
    "        return np.full(N, w0 * I0 / (2 * pi)), np.full(N, w0 * I0 / (2 * pi))\n",
    "\n",
    "    else:\n",
    "        ells = np.arange(NQuad)\n",
    "\n",
    "        Xm_term1 = (-1) ** ells\n",
    "        Xm_term2 = np.diag(2 * ells + 1)\n",
    "        Xm_term3 = np.diag(Leg_coeffs)\n",
    "        Xm_pos_term4 = sc.special.eval_legendre(\n",
    "            np.tile(np.arange(NQuad), (N, 1)).T, eval_pts_pos\n",
    "        )\n",
    "        Xm_neg_term4 = sc.special.eval_legendre(\n",
    "            np.tile(np.arange(NQuad), (N, 1)).T, eval_pts_neg\n",
    "        )\n",
    "        Xm_term5 = np.diag(sc.special.eval_legendre(np.arange(NQuad), mu0))\n",
    "\n",
    "        X_temp = Xm_term1 @ Xm_term2 @ Xm_term3 @ Xm_term5\n",
    "        X_pos = w0 * I0 / (2 * pi) - w0 * I0 / (4 * pi) * (X_temp @ Xm_pos_term4)\n",
    "        X_neg = w0 * I0 / (2 * pi) - w0 * I0 / (4 * pi) * (X_temp @ Xm_neg_term4)\n",
    "\n",
    "        return X_pos, X_neg"
   ]
  },
  {
   "cell_type": "markdown",
   "id": "e2113c05",
   "metadata": {},
   "source": [
    "### Main algorithm"
   ]
  },
  {
   "cell_type": "code",
   "execution_count": 10,
   "id": "7dc741e3",
   "metadata": {},
   "outputs": [],
   "source": [
    "def PyDISORT(\n",
    "    NQuad, tau_p, w0, Leg_coeffs, mu0, phi0, I0\n",
    "):  # The argument order somewhat follows Stamnes' DISORT\n",
    "    NLeg = len(Leg_coeffs)\n",
    "    # We require NQuad to be >2, even and <= NLeg\n",
    "    assert NQuad > 2\n",
    "    assert NQuad % 2 == 0\n",
    "    assert NQuad <= NLeg\n",
    "    # We assume that NQuad is EVEN\n",
    "    N = NQuad // 2\n",
    "\n",
    "    # For negative mu values\n",
    "    Leg_poly_neg = legendre.Legendre(np.append(np.zeros(N), 1), [-1, 0])\n",
    "    eval_pts_neg = Leg_poly_neg.roots()\n",
    "    # For positive mu values\n",
    "    eval_pts_pos = -eval_pts_neg\n",
    "    # The weights are identical in both domains\n",
    "    weights = 2 / ((1 - eval_pts_neg**2) * Leg_poly_neg.deriv(1)(eval_pts_neg) ** 2)\n",
    "\n",
    "    GC_collect = np.empty((NQuad, NQuad, NLeg), dtype=complex)\n",
    "    eigenvals_collect = np.empty((NQuad, NLeg), dtype=complex)\n",
    "    B_collect = np.empty((NQuad, NLeg))\n",
    "    for m in range(NLeg):\n",
    "        D_pos, D_neg = generate_Ds(m)\n",
    "        M_inv = np.diag(1 / eval_pts_pos)\n",
    "        W = np.diag(weights)\n",
    "        alpha = M_inv @ (D_pos @ W - np.eye(N))\n",
    "        beta = M_inv @ D_neg @ W\n",
    "        A = np.vstack((np.hstack((-alpha, -beta)), np.hstack((beta, alpha))))\n",
    "\n",
    "        eigenvals_squared, eigenvecs_GpG = np.linalg.eig(\n",
    "            (alpha - beta) @ (alpha + beta)\n",
    "        )\n",
    "        eigenvals = np.hstack(\n",
    "            (\n",
    "                np.sqrt(eigenvals_squared.astype(complex)),\n",
    "                -np.sqrt(eigenvals_squared.astype(complex)),\n",
    "            )\n",
    "        )\n",
    "\n",
    "        eigenvecs_GpG = np.hstack((eigenvecs_GpG, eigenvecs_GpG))\n",
    "        eigenvecs_GmG = (alpha + beta) @ eigenvecs_GpG / -eigenvals\n",
    "\n",
    "        G_pos = (eigenvecs_GpG + eigenvecs_GmG) / 2\n",
    "        G_neg = (eigenvecs_GpG - eigenvecs_GmG) / 2\n",
    "        G = np.vstack((G_pos, G_neg))\n",
    "\n",
    "        mu0_inv = 1 / mu0\n",
    "        X_pos, X_neg = generate_Xs(m)\n",
    "        X_tilde = np.hstack((M_inv @ X_pos, M_inv @ X_neg))\n",
    "\n",
    "        B = np.linalg.solve(-(mu0_inv * np.eye(NQuad) + A), X_tilde)\n",
    "        B_pos, B_neg = B[:N], B[N:]\n",
    "        Dk_tau_p = np.diag(np.exp(eigenvals * tau_p))\n",
    "\n",
    "        LHS = np.vstack((G_pos @ Dk_tau_p, G_neg))\n",
    "        RHS = np.hstack((-B_pos * np.exp(-tau_p * mu0_inv), I0 * mu0 - B_neg))\n",
    "        C = np.linalg.solve(LHS, RHS)\n",
    "\n",
    "        GC_collect[:, :, m] = G @ np.diag(C)\n",
    "        eigenvals_collect[:, m] = eigenvals\n",
    "        B_collect[:, m] = B\n",
    "\n",
    "    def u(tau, phi):\n",
    "        result = np.zeros((NQuad, len(np.atleast_1d(tau)), len(np.atleast_1d(phi))))\n",
    "        for m in range(NLeg):\n",
    "            um = GC_collect[:, :, m] @ np.exp(\n",
    "                np.outer(eigenvals_collect[:, m], tau)\n",
    "            ) + np.outer(B_collect[:, m], np.exp(-tau / mu0))\n",
    "\n",
    "            # Our solution must be real\n",
    "            assert np.allclose(np.imag(result), 0)\n",
    "            um = np.real(um)\n",
    "\n",
    "            result += np.tensordot(um, np.atleast_1d(np.cos(m * (phi0 - phi))), axes=0)\n",
    "        return result\n",
    "\n",
    "    return u"
   ]
  },
  {
   "cell_type": "markdown",
   "id": "9d68b02f",
   "metadata": {},
   "source": [
    "========================================================================================================================="
   ]
  },
  {
   "cell_type": "markdown",
   "id": "5fdfd5bc",
   "metadata": {},
   "source": [
    "## Breakdown and verification of PyDISORT"
   ]
  },
  {
   "cell_type": "code",
   "execution_count": 11,
   "id": "180909f8",
   "metadata": {},
   "outputs": [],
   "source": [
    "# We assume that NQuad is EVEN\n",
    "N = NQuad // 2\n",
    "\n",
    "# For negative mu values\n",
    "Leg_poly_neg = legendre.Legendre(np.append(np.zeros(N), 1), [-1, 0])\n",
    "eval_pts_neg = Leg_poly_neg.roots()\n",
    "\n",
    "# For positive mu values\n",
    "eval_pts_pos = -eval_pts_neg\n",
    "\n",
    "# The weights are identical in both domains\n",
    "weights = 2 / ((1 - eval_pts_neg**2) * Leg_poly_neg.deriv(1)(eval_pts_neg) ** 2)"
   ]
  },
  {
   "cell_type": "markdown",
   "id": "5671656b",
   "metadata": {},
   "source": [
    "This is the non-vectorized version of the `generate_Ds` subroutine for verification"
   ]
  },
  {
   "cell_type": "code",
   "execution_count": 12,
   "id": "d01e4f67",
   "metadata": {},
   "outputs": [
    {
     "name": "stdout",
     "output_type": "stream",
     "text": [
      "Passed all tests\n"
     ]
    }
   ],
   "source": [
    "for m in range(NLeg):\n",
    "    D_pos_test, D_neg_test = np.zeros((N, N)), np.zeros((N, N))\n",
    "    for i in range(N):\n",
    "        for j in range(N):\n",
    "            for ell in range(m, NQuad):\n",
    "                D_pos_test[i, j] += (\n",
    "                    w0\n",
    "                    / 2\n",
    "                    * (2 * ell + 1)\n",
    "                    * Leg_coeffs[ell]\n",
    "                    * sc.special.factorial(ell - m)\n",
    "                    / sc.special.factorial(ell + m)\n",
    "                    * sc.special.lpmv(m, ell, eval_pts_pos[i])\n",
    "                    * sc.special.lpmv(m, ell, eval_pts_pos[j])\n",
    "                )\n",
    "                D_neg_test[i, j] += (\n",
    "                    w0\n",
    "                    / 2\n",
    "                    * (2 * ell + 1)\n",
    "                    * Leg_coeffs[ell]\n",
    "                    * sc.special.factorial(ell - m)\n",
    "                    / sc.special.factorial(ell + m)\n",
    "                    * sc.special.lpmv(m, ell, eval_pts_neg[i])\n",
    "                    * sc.special.lpmv(m, ell, eval_pts_pos[j])\n",
    "                )\n",
    "\n",
    "    assert np.allclose(D_pos_test, generate_Ds(m)[0])\n",
    "    assert np.allclose(D_neg_test, generate_Ds(m)[1])\n",
    "\n",
    "print('Passed all tests')"
   ]
  },
  {
   "cell_type": "markdown",
   "id": "5f025fde",
   "metadata": {},
   "source": [
    "This is the non-vectorized version of the `generate_Xs` subroutine (for the case m = 0) for verification"
   ]
  },
  {
   "cell_type": "code",
   "execution_count": 13,
   "id": "2fb669fb",
   "metadata": {},
   "outputs": [
    {
     "name": "stdout",
     "output_type": "stream",
     "text": [
      "Passed all tests\n"
     ]
    }
   ],
   "source": [
    "X_pos_test, X_neg_test = np.full(N, w0 * I0 / (2 * pi)), np.full(N, w0 * I0 / (2 * pi))\n",
    "for i in range(N):\n",
    "    for ell in range(NQuad):\n",
    "        X_pos_test[i] -= (\n",
    "            w0\n",
    "            * I0\n",
    "            / (4 * pi)\n",
    "            * (-1) ** ell\n",
    "            * (2 * ell + 1)\n",
    "            * Leg_coeffs[ell]\n",
    "            * sc.special.eval_legendre(ell, eval_pts_pos[i])\n",
    "            * sc.special.eval_legendre(ell, mu0)\n",
    "        )\n",
    "        X_neg_test[i] -= (\n",
    "            w0\n",
    "            * I0\n",
    "            / (4 * pi)\n",
    "            * (-1) ** ell\n",
    "            * (2 * ell + 1)\n",
    "            * Leg_coeffs[ell]\n",
    "            * sc.special.eval_legendre(ell, eval_pts_neg[i])\n",
    "            * sc.special.eval_legendre(ell, mu0)\n",
    "        )\n",
    "\n",
    "assert np.allclose(X_pos_test, generate_Xs(0)[0])\n",
    "assert np.allclose(X_neg_test, generate_Xs(0)[1])\n",
    "\n",
    "print('Passed all tests')"
   ]
  },
  {
   "cell_type": "markdown",
   "id": "f240be08",
   "metadata": {},
   "source": [
    "### The system of ODEs we need to solve for each Fourier mode"
   ]
  },
  {
   "cell_type": "markdown",
   "id": "493c3a5a",
   "metadata": {},
   "source": [
    "$$\n",
    "\\begin{bmatrix} \\frac{\\mathrm{d}u^+}{\\mathrm{d}\\tau} \\\\ \\frac{\\mathrm{d}u^-}{\\mathrm{d}\\tau} \\end{bmatrix} = \\begin{bmatrix} -\\alpha & -\\beta \\\\ \\beta & \\alpha \\end{bmatrix} \\begin{bmatrix} u^+ \\\\ u^- \\end{bmatrix} + \\begin{bmatrix} \\tilde{Q}^+ \\\\ \\tilde{Q}^- \\end{bmatrix}\n",
    "$$"
   ]
  },
  {
   "cell_type": "markdown",
   "id": "7b5331b7",
   "metadata": {},
   "source": [
    "We first address the homogeneous problem $\\left( \\tilde{Q} = 0 \\right)$ and solve for the eigenpairs of the coefficient matrix by solving\n",
    "\n",
    "$$\n",
    "\\begin{bmatrix} -\\alpha & -\\beta \\\\ \\beta & \\alpha \\end{bmatrix} \\begin{bmatrix} G^+ \\\\ G^- \\end{bmatrix} = k \\begin{bmatrix} G^+ \\\\ G^- \\end{bmatrix}\n",
    "$$\n",
    "\n",
    "Our formulation has sign differences from the formulation in STWJ1988."
   ]
  },
  {
   "cell_type": "markdown",
   "id": "b1d6a3f9",
   "metadata": {},
   "source": [
    "Following the reduction order method in STWJ1988, we can solve\n",
    "\n",
    "$$\n",
    "(\\alpha - \\beta) (\\alpha + \\beta) \\left(G^+ + G^-\\right) = k^2 \\left(G^+ + G^-\\right)\n",
    "$$\n",
    "\n",
    "for eigenvalues $k$. Given also that\n",
    "\n",
    "$$\n",
    "(\\alpha + \\beta) \\left(G^+ + G^-\\right) = k \\left(G^+ - G^-\\right)\n",
    "$$\n",
    "\n",
    "we can solve for $G^+$ and $G^-$, and consequently construct the eigenvector matrix $G = \\begin{pmatrix} G^+ & G^- \\end{pmatrix}^T$."
   ]
  },
  {
   "cell_type": "code",
   "execution_count": 14,
   "id": "8dafa772",
   "metadata": {},
   "outputs": [],
   "source": [
    "m = 3 # We will need to repeat the following blocks of code for each Fourier mode, m"
   ]
  },
  {
   "cell_type": "code",
   "execution_count": 15,
   "id": "2a54d8ca",
   "metadata": {},
   "outputs": [],
   "source": [
    "D_pos, D_neg = generate_Ds(m)\n",
    "M_inv = np.diag(1 / eval_pts_pos)\n",
    "W = np.diag(weights)\n",
    "alpha = M_inv @ (D_pos @ W - np.eye(N))\n",
    "beta = M_inv @ D_neg @ W\n",
    "A = np.vstack((np.hstack((-alpha, -beta)), np.hstack((beta, alpha))))\n",
    "\n",
    "eigenvals_squared, eigenvecs_GpG = np.linalg.eig((alpha - beta) @ (alpha + beta))\n",
    "eigenvals = np.hstack(\n",
    "    (\n",
    "        np.sqrt(eigenvals_squared.astype(complex)),\n",
    "        -np.sqrt(eigenvals_squared.astype(complex)),\n",
    "    )\n",
    ")\n",
    "\n",
    "eigenvecs_GpG = np.hstack((eigenvecs_GpG, eigenvecs_GpG))\n",
    "eigenvecs_GmG = (alpha + beta) @ eigenvecs_GpG / -eigenvals\n",
    "\n",
    "G_pos = (eigenvecs_GpG + eigenvecs_GmG) / 2\n",
    "G_neg = (eigenvecs_GpG - eigenvecs_GmG) / 2\n",
    "G = np.vstack((G_pos, G_neg))"
   ]
  },
  {
   "cell_type": "markdown",
   "id": "b09cb38f",
   "metadata": {},
   "source": [
    "Verification of eigenpairs"
   ]
  },
  {
   "cell_type": "code",
   "execution_count": 16,
   "id": "bab724ae",
   "metadata": {},
   "outputs": [
    {
     "name": "stdout",
     "output_type": "stream",
     "text": [
      "Passed all tests\n"
     ]
    }
   ],
   "source": [
    "assert np.allclose((A @ G) / eigenvals, G)\n",
    "\n",
    "print(\"Passed all tests\")"
   ]
  },
  {
   "cell_type": "markdown",
   "id": "c553318d",
   "metadata": {},
   "source": [
    "### Constructing the general solution (for each Fourier mode)"
   ]
  },
  {
   "cell_type": "markdown",
   "id": "12c0bd99",
   "metadata": {},
   "source": [
    "The general solution is\n",
    "\n",
    "$$\n",
    "u = u_h + u_p\n",
    "$$"
   ]
  },
  {
   "cell_type": "markdown",
   "id": "eb4a6eba",
   "metadata": {},
   "source": [
    "The particular solution, $u_p$, satisfies\n",
    "\n",
    "$$\n",
    "\\frac{\\mathrm{d}u_p}{\\mathrm{d}\\tau} = A u_p + \\tilde{Q}\n",
    "$$\n",
    "\n",
    "where\n",
    "\n",
    "$$\n",
    "A = \\begin{bmatrix} -\\alpha & -\\beta \\\\ \\beta & \\alpha \\end{bmatrix}, \\quad \\tilde{Q} = \\tilde{X} \\exp\\left(-\\tau \\mu_0^{-1}\\right)\n",
    "$$\n",
    "\n",
    "Assume the ansatz\n",
    "\n",
    "$$\n",
    "u_p = B\\exp\\left(-\\tau \\mu_0^{-1}\\right)\n",
    "$$\n",
    "\n",
    "Substitution into the full equation gives\n",
    "\n",
    "\\begin{align*}\n",
    "&-\\mu_0^{-1} B\\exp\\left(-\\tau \\mu_0^{-1}\\right) = AB\\exp\\left(-\\tau \\mu_0^{-1}\\right) + \\tilde{X}\\exp\\left(-\\tau \\mu_0^{-1}\\right) \\\\\n",
    "&\\implies -\\mu_0^{-1} B = AB + \\tilde{X} \\\\\n",
    "&\\implies -\\left(\\mu_0^{-1} I + A\\right)B = \\tilde{X}\n",
    "\\end{align*}\n",
    "\n",
    "which we can solve for $B$. There are some special methods to invert $\\mu_0^{-1} I + A$ but it seems like each method will have similar time complexity to LU factorization."
   ]
  },
  {
   "cell_type": "code",
   "execution_count": 17,
   "id": "bad8564d",
   "metadata": {},
   "outputs": [],
   "source": [
    "mu0_inv = 1 / mu0"
   ]
  },
  {
   "cell_type": "code",
   "execution_count": 18,
   "id": "8468afe1",
   "metadata": {},
   "outputs": [],
   "source": [
    "X_pos, X_neg = generate_Xs(m)\n",
    "X_tilde = np.hstack((M_inv @ X_pos, M_inv @ X_neg))\n",
    "\n",
    "B = np.linalg.solve(-(mu0_inv * np.eye(NQuad) + A), X_tilde)"
   ]
  },
  {
   "cell_type": "markdown",
   "id": "3f3b4aa0",
   "metadata": {},
   "source": [
    "Verification of particular solution"
   ]
  },
  {
   "cell_type": "code",
   "execution_count": 19,
   "id": "4d119f8a",
   "metadata": {},
   "outputs": [
    {
     "name": "stdout",
     "output_type": "stream",
     "text": [
      "L2 error: 3.025625477768259e-07\n"
     ]
    }
   ],
   "source": [
    "Ntau = 10**3  # Number of tau grid points\n",
    "tau_arr = np.linspace(0, tau_p, Ntau)\n",
    "h = tau_arr[1] - tau_arr[0]  # grid spacing\n",
    "\n",
    "# Construct first derivative matrix\n",
    "first_deriv = np.zeros((Ntau, Ntau))\n",
    "diagonal = np.ones(Ntau) / (2 * h)\n",
    "first_deriv += np.diag(diagonal[:-1], 1)\n",
    "first_deriv += np.diag(-diagonal[:-1], -1)\n",
    "first_deriv[0, :3] = np.array([-3 / 2, 2, -1 / 2]) / h\n",
    "first_deriv[-1, -3:] = np.array([1 / 2, -2, 3 / 2]) / h\n",
    "first_deriv = first_deriv.T # This is due to tau being indexed by columns instead of rows\n",
    "\n",
    "up = np.outer(B, np.exp(-tau_arr * mu0_inv))\n",
    "RHS = up @ first_deriv\n",
    "LHS = A @ up + np.outer(X_tilde, np.exp(-tau_arr * mu0_inv))\n",
    "\n",
    "print(\"L2 error:\", np.linalg.norm(RHS - LHS))"
   ]
  },
  {
   "cell_type": "markdown",
   "id": "4100c34a",
   "metadata": {},
   "source": [
    "The homogenous solution, $u_h$, is\n",
    "\n",
    "$$\n",
    "u_h = \\begin{bmatrix} u_h^+ \\\\ u_h^- \\end{bmatrix}, \\quad u_h^\\pm(\\tau) = G^\\pm \\mbox{Diag}(C) K\n",
    "$$\n",
    "\n",
    "where the entries of vector $K$ are $\\exp(k\\tau)$ and the coefficient vector $C$ is to be determined from the boundary conditions. With $\\tau \\in [0, \\tau']$, our BCs are\n",
    "\n",
    "$$\n",
    "u^-(0) = I_0 \\mu_0, \\quad u^+(\\tau') = 0\n",
    "$$\n",
    "\n",
    "and by superposition\n",
    "\n",
    "$$\n",
    "u_h^-(0) = I_0 \\mu_0 - B^-, \\quad u_h^+(\\tau') = -B^+\\exp\\left(\\tau' \\mu_0^{-1}\\right)\n",
    "$$\n",
    "\n",
    "This produces the system\n",
    "\n",
    "$$\n",
    "\\begin{bmatrix} G^+ D_k(\\tau') \\\\ G^- \\end{bmatrix} C = \\begin{bmatrix} -B^+\\exp\\left(\\tau' \\mu_0^{-1}\\right) \\\\ I_0 \\mu_0 - B^- \\end{bmatrix}\n",
    "$$\n",
    "\n",
    "which we can solve to determine $C$."
   ]
  },
  {
   "cell_type": "code",
   "execution_count": 20,
   "id": "e78c4ef4",
   "metadata": {},
   "outputs": [],
   "source": [
    "B_pos, B_neg = B[:N], B[N:]\n",
    "Dk_tau_p = np.diag(np.exp(eigenvals * tau_p))\n",
    "\n",
    "LHS = np.vstack((G_pos @ Dk_tau_p, G_neg))\n",
    "RHS = np.hstack((-B_pos * np.exp(-tau_p * mu0_inv), I0 * mu0 - B_neg))\n",
    "C = np.linalg.solve(LHS, RHS)"
   ]
  },
  {
   "cell_type": "markdown",
   "id": "049e5894",
   "metadata": {},
   "source": [
    "### General solution for one Fourier mode"
   ]
  },
  {
   "cell_type": "code",
   "execution_count": 21,
   "id": "c215d3bb",
   "metadata": {},
   "outputs": [],
   "source": [
    "def um(tau):\n",
    "    result = G @ np.diag(C) @ np.exp(np.outer(eigenvals, tau)) + np.outer(\n",
    "        B, np.exp(-tau / mu0)\n",
    "    )\n",
    "\n",
    "    # Our solution must be real\n",
    "    assert np.allclose(np.imag(result), 0)\n",
    "    return np.real(result)"
   ]
  },
  {
   "cell_type": "markdown",
   "id": "e7626dda",
   "metadata": {},
   "source": [
    "Does the solution satisfy the BCs?"
   ]
  },
  {
   "cell_type": "code",
   "execution_count": 22,
   "id": "b29cfbc1",
   "metadata": {},
   "outputs": [
    {
     "name": "stdout",
     "output_type": "stream",
     "text": [
      "Passed all tests\n"
     ]
    }
   ],
   "source": [
    "assert np.allclose(um(tau_p)[:N], np.zeros(N))\n",
    "assert np.allclose(um(0)[N:], np.full(N, I0 * mu0))\n",
    "\n",
    "print(\"Passed all tests\")"
   ]
  },
  {
   "cell_type": "markdown",
   "id": "e01c22d3",
   "metadata": {},
   "source": [
    "Does the solution satisfy the ODE?"
   ]
  },
  {
   "cell_type": "code",
   "execution_count": 23,
   "id": "9c391d3b",
   "metadata": {},
   "outputs": [
    {
     "name": "stdout",
     "output_type": "stream",
     "text": [
      "L2 error: 0.007072038377488572\n"
     ]
    }
   ],
   "source": [
    "RHS = um(tau_arr) @ first_deriv\n",
    "LHS = A @ um(tau_arr) + np.outer(X_tilde, np.exp(-tau_arr * mu0_inv))\n",
    "\n",
    "print(\"L2 error:\", np.linalg.norm(RHS - LHS))"
   ]
  },
  {
   "cell_type": "markdown",
   "id": "718b99ec",
   "metadata": {},
   "source": [
    "### The full solution"
   ]
  },
  {
   "cell_type": "markdown",
   "id": "d6a7a4bd",
   "metadata": {},
   "source": [
    "The above must be repeated for each Fourier mode. The full solution is\n",
    "\n",
    "$$\n",
    "u(\\tau, \\phi) = \\sum_m u^m(\\tau)\\cos(m(\\phi_0 - \\phi))\n",
    "$$\n",
    "\n",
    "and it is continuous with respect to $\\tau$ and $\\phi$ but discrete with respect to $\\mu$. The solution $u$ is easily split into $u^+$ and $u^-$ and we can calculate fluxes by summing over $\\mu$."
   ]
  },
  {
   "cell_type": "markdown",
   "id": "e9570524",
   "metadata": {},
   "source": [
    "Verification of full solution"
   ]
  },
  {
   "cell_type": "markdown",
   "id": "0e9a3a28",
   "metadata": {},
   "source": [
    "*TODO: Verify that $u$ satisfies the radiative transfer integro-differential equation*"
   ]
  },
  {
   "cell_type": "code",
   "execution_count": 24,
   "id": "09446670",
   "metadata": {},
   "outputs": [],
   "source": [
    "Nphi = 10**2\n",
    "phi_arr = np.linspace(0, 2 * pi, Nphi)\n",
    "\n",
    "u = PyDISORT(NQuad, tau_p, w0, Leg_coeffs, mu0, phi0, I0)"
   ]
  }
 ],
 "metadata": {
  "kernelspec": {
   "display_name": "Python 3 (ipykernel)",
   "language": "python",
   "name": "python3"
  },
  "language_info": {
   "codemirror_mode": {
    "name": "ipython",
    "version": 3
   },
   "file_extension": ".py",
   "mimetype": "text/x-python",
   "name": "python",
   "nbconvert_exporter": "python",
   "pygments_lexer": "ipython3",
   "version": "3.10.0"
  }
 },
 "nbformat": 4,
 "nbformat_minor": 5
}
