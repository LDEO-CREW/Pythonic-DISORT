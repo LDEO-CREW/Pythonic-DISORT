{
 "cells": [
  {
   "cell_type": "code",
   "execution_count": 1,
   "id": "b2925dfb",
   "metadata": {},
   "outputs": [],
   "source": [
    "import PyDISORT\n",
    "import disort\n",
    "import numpy as np\n",
    "import matplotlib.pyplot as plt\n",
    "from math import pi"
   ]
  },
  {
   "cell_type": "markdown",
   "id": "6e7d8b46",
   "metadata": {},
   "source": [
    "# PyDISORT"
   ]
  },
  {
   "cell_type": "code",
   "execution_count": 2,
   "id": "eaeaf144",
   "metadata": {},
   "outputs": [],
   "source": [
    "######################################### PYDISORT ARGUMENTS #######################################\n",
    "\n",
    "tau_arr = 8\n",
    "omega_arr = 0.99  # Reduced from 1 because we have not implemented that special case\n",
    "NQuad = 16\n",
    "Leg_coeffs_all = 0.75 ** np.arange(32)\n",
    "mu0 = 1\n",
    "I0 = pi / mu0\n",
    "phi0 = 0\n",
    "\n",
    "# Optional (used)\n",
    "f_arr = Leg_coeffs_all[NQuad]\n",
    "NT_cor = True\n",
    "\n",
    "# Optional (unused)\n",
    "NLeg=None\n",
    "NLoops=None\n",
    "b_pos=0\n",
    "b_neg=0\n",
    "only_flux=False\n",
    "Leg_coeffs_BDRF=np.array([])\n",
    "s_poly_coeffs=np.array([[]])\n",
    "use_sparse_NLayers=6\n",
    "\n",
    "####################################################################################################"
   ]
  },
  {
   "cell_type": "code",
   "execution_count": 3,
   "id": "e21756a3",
   "metadata": {},
   "outputs": [],
   "source": [
    "# Call PyDISORT\n",
    "mu_arr, flux_up, flux_down, u = PyDISORT.pydisort(\n",
    "    tau_arr, omega_arr,\n",
    "    NQuad,\n",
    "    Leg_coeffs_all,\n",
    "    mu0, I0, phi0,\n",
    "    f_arr=f_arr,\n",
    "    NT_cor=NT_cor\n",
    ")"
   ]
  },
  {
   "cell_type": "markdown",
   "id": "659da73a",
   "metadata": {},
   "source": [
    "## Setup for tests"
   ]
  },
  {
   "cell_type": "code",
   "execution_count": 4,
   "id": "cf7b5e45",
   "metadata": {},
   "outputs": [],
   "source": [
    "# mu_arr is arranged as it is for code efficiency and readability\n",
    "# For presentation purposes we re-arrange mu_arr from smallest to largest\n",
    "reorder_mu = np.argsort(mu_arr)\n",
    "mu_arr_RO = mu_arr[reorder_mu]\n",
    "\n",
    "# By default we do not compare intensities 1 degree around the direct beam\n",
    "# The size of the region can be changed using the parameter below\n",
    "mu_around_beam_to_not_compare = 0.1\n",
    "\n",
    "mu_to_compare = np.abs(np.abs(mu_arr_RO) - mu0) > mu_around_beam_to_not_compare\n",
    "mu_test_arr_RO = mu_arr_RO[mu_to_compare]"
   ]
  },
  {
   "cell_type": "code",
   "execution_count": 5,
   "id": "7b8801dc",
   "metadata": {},
   "outputs": [],
   "source": [
    "# Number of phi grid points\n",
    "# This selection should ensure that the phi quadrature is at least as accurate as the mu quadrature\n",
    "Nphi = int((NQuad * pi) // 2) * 2 + 1\n",
    "phi_arr, full_weights_phi = PyDISORT.subroutines.Clenshaw_Curtis_quad(Nphi)\n",
    "\n",
    "Ntau = 1000 # Number of tau test points\n",
    "tau_test_arr = np.random.random(Ntau) * tau_arr\n",
    "\n",
    "MU_ARR, PHI_ARR = np.meshgrid(phi_arr, mu_arr_RO)"
   ]
  },
  {
   "cell_type": "markdown",
   "id": "5a7fefca",
   "metadata": {},
   "source": [
    "## Stamnes' DISORT"
   ]
  },
  {
   "cell_type": "code",
   "execution_count": 6,
   "id": "1bf8a9d2",
   "metadata": {},
   "outputs": [],
   "source": [
    "# Stamnes' DISORT arguments\n",
    "nlyr = 1\n",
    "nmom = NLeg\n",
    "nstr = NQuad\n",
    "numu = NQuad\n",
    "nphi = Nphi\n",
    "ntau = Ntau\n",
    "usrang = True\n",
    "usrtau = True\n",
    "ibcnd = 0\n",
    "onlyfl = False\n",
    "prnt = np.array([False, False, False, False, False])  # Prints to CMD instead of this notebook\n",
    "plank = False\n",
    "lamber = True\n",
    "deltamplus = False\n",
    "do_pseudo_sphere = False\n",
    "dtauc = tau_arr\n",
    "ssalb = omega_arr\n",
    "pmom = Leg_coeffs_all.T\n",
    "temper = np.zeros(nlyr + 1)\n",
    "wvnmlo = 0\n",
    "wvnmhi = 0\n",
    "utau = tau_test_arr\n",
    "umu0 = mu0\n",
    "phi0 = phi0\n",
    "umu = mu_arr_RO\n",
    "phi = phi_arr\n",
    "fbeam = I0\n",
    "fisot = 0\n",
    "albedo = 0\n",
    "btemp = 0\n",
    "ttemp = 0\n",
    "temis = 0\n",
    "earth_radius = 6371\n",
    "h_lyr = np.zeros(nlyr + 1)\n",
    "rhoq = np.zeros((nstr // 2, nstr + 1, nstr))\n",
    "rhou = np.zeros((numu, nstr // 2 + 1, nstr))\n",
    "rho_accurate = np.zeros((numu, nphi))\n",
    "bemst = np.zeros(nstr // 2)\n",
    "emust = np.zeros(numu)\n",
    "accur = 0\n",
    "header = \"\"\n",
    "rfldir = np.zeros(ntau)\n",
    "rfldn = np.zeros(ntau)\n",
    "flup = np.zeros(ntau)\n",
    "dfdt = np.zeros(ntau)\n",
    "uavg = np.zeros(ntau)\n",
    "uu = np.zeros((numu, ntau, nphi))\n",
    "albmed = np.zeros(numu)\n",
    "trnmed = np.zeros(numu)"
   ]
  },
  {
   "cell_type": "code",
   "execution_count": 7,
   "id": "795dd2ef",
   "metadata": {},
   "outputs": [],
   "source": [
    "# Run disort, putting DFDT, UAVG, and UU in a, b, and c, respectively\n",
    "rfldir, rfldn, flup, dfdt, uavg, uu, albmed, trnmed = disort.disort(usrang, usrtau, ibcnd, onlyfl, prnt, plank, lamber, deltamplus, do_pseudo_sphere, dtauc, ssalb,\n",
    "                        pmom, temper, wvnmlo, wvnmhi, utau, umu0, phi0 * 180/pi, umu, phi * 180/pi, fbeam, fisot, albedo, btemp, ttemp,\n",
    "                        temis, earth_radius, h_lyr, rhoq, rhou, rho_accurate, bemst, emust, accur, header, rfldir,\n",
    "                        rfldn, flup, dfdt, uavg, uu, albmed, trnmed)"
   ]
  },
  {
   "cell_type": "code",
   "execution_count": 8,
   "id": "3112298e",
   "metadata": {},
   "outputs": [
    {
     "name": "stdout",
     "output_type": "stream",
     "text": [
      "Max pointwise differences\n",
      "\n",
      "Upward (diffuse) fluxes\n",
      "Difference = 9.489384882321872e-07\n",
      "Difference ratio = 0.00019538128847042038\n",
      "\n",
      "Downward (diffuse) fluxes\n",
      "Difference = 1.9955358561141168e-06\n",
      "Difference ratio = 3.1995458735771437e-05\n",
      "\n",
      "Direct (downward) fluxes\n",
      "Difference = 2.569131236640487e-07\n",
      "Difference ratio = 3.4052007432790645e-07\n"
     ]
    }
   ],
   "source": [
    "print(\"Max pointwise differences\")\n",
    "print()\n",
    "\n",
    "# Upward (diffuse) fluxes\n",
    "print(\"Upward (diffuse) fluxes\")\n",
    "diff_flux_up = np.abs(flup - flux_up(tau_test_arr))\n",
    "ratio_flux_up = diff_flux_up / np.clip(flup, a_min=1e-6, a_max=None)\n",
    "print(\"Difference =\", np.max(diff_flux_up))\n",
    "print(\"Difference ratio =\", np.max(ratio_flux_up))\n",
    "print()\n",
    "\n",
    "# Downward (diffuse) fluxes\n",
    "print(\"Downward (diffuse) fluxes\")\n",
    "diff_flux_down_diffuse = np.abs(rfldn - flux_down(tau_test_arr)[0])\n",
    "ratio_flux_down_diffuse = diff_flux_down_diffuse / np.clip(\n",
    "    rfldn, a_min=1e-6, a_max=None\n",
    ")\n",
    "print(\"Difference =\", np.max(diff_flux_down_diffuse))\n",
    "print(\n",
    "    \"Difference ratio =\",\n",
    "    np.max(ratio_flux_down_diffuse),\n",
    ")\n",
    "print()\n",
    "\n",
    "# Direct (downward) fluxes\n",
    "print(\"Direct (downward) fluxes\")\n",
    "diff_flux_down_direct = np.abs(rfldir - flux_down(tau_test_arr)[1])\n",
    "ratio_flux_down_direct = diff_flux_down_direct / np.clip(rfldir, a_min=1e-6, a_max=None)\n",
    "print(\"Difference =\", np.max(diff_flux_down_direct))\n",
    "print(\n",
    "    \"Difference ratio =\",\n",
    "    np.max(ratio_flux_down_direct),\n",
    ")"
   ]
  },
  {
   "cell_type": "code",
   "execution_count": 9,
   "id": "324b21c7",
   "metadata": {},
   "outputs": [],
   "source": [
    "diff = np.abs(uu - u(tau_test_arr, phi_arr)[reorder_mu])[mu_to_compare]\n",
    "diff_ratio = diff / np.clip(uu[mu_to_compare], a_min=1e-6, a_max=None)"
   ]
  },
  {
   "cell_type": "code",
   "execution_count": 10,
   "id": "b7dce812",
   "metadata": {},
   "outputs": [],
   "source": [
    "max_diff_tau_index = np.argmax(np.max(np.max(diff, axis=0), axis=1))\n",
    "max_ratio_tau_index = np.argmax(np.max(np.max(diff_ratio, axis=0), axis=1))\n",
    "\n",
    "# Plots will be created for only these values of tau\n",
    "diff_tau_pt = tau_test_arr[max_diff_tau_index]\n",
    "ratio_tau_pt = tau_test_arr[max_ratio_tau_index]"
   ]
  },
  {
   "cell_type": "code",
   "execution_count": 11,
   "id": "f97ce4cd",
   "metadata": {},
   "outputs": [
    {
     "name": "stdout",
     "output_type": "stream",
     "text": [
      "At tau = 2.0040280348549953\n",
      "Max pointwise difference = 0.00019724428412204453\n",
      "At tau = 7.995823265652622\n",
      "Max pointwise difference ratio = 0.00020245309142409045\n"
     ]
    }
   ],
   "source": [
    "print(\"At tau = \" + str(diff_tau_pt))\n",
    "print(\"Max pointwise difference =\", np.max(diff[:, max_diff_tau_index, :]))\n",
    "print(\"At tau = \" + str(ratio_tau_pt))\n",
    "print(\"Max pointwise difference ratio =\", np.max(diff_ratio[:, max_ratio_tau_index, :]))"
   ]
  },
  {
   "cell_type": "markdown",
   "id": "64634b9b",
   "metadata": {},
   "source": [
    "**Does the test pass?**"
   ]
  },
  {
   "cell_type": "code",
   "execution_count": 12,
   "id": "e3b31888",
   "metadata": {},
   "outputs": [
    {
     "name": "stdout",
     "output_type": "stream",
     "text": [
      "The test passes\n"
     ]
    }
   ],
   "source": [
    "assert np.max(ratio_flux_up) <= 1e-3 or np.max(diff_flux_up) <= 1e-2 / pi\n",
    "assert np.max(ratio_flux_down_diffuse) <= 1e-3 or np.max(diff_flux_down_diffuse) <= 1e-2 / pi\n",
    "assert np.max(ratio_flux_down_direct) <= 1e-3 or np.max(diff_flux_down_direct) <= 1e-2 / pi\n",
    "assert np.max(diff_ratio) <= 1e-2 or np.max(diff) <= 1e-2\n",
    "\n",
    "print(\"The test passes\")"
   ]
  },
  {
   "cell_type": "code",
   "execution_count": 13,
   "id": "64913aa0",
   "metadata": {},
   "outputs": [
    {
     "ename": "NameError",
     "evalue": "name 'STOP' is not defined",
     "output_type": "error",
     "traceback": [
      "\u001b[1;31m---------------------------------------------------------------------------\u001b[0m",
      "\u001b[1;31mNameError\u001b[0m                                 Traceback (most recent call last)",
      "Cell \u001b[1;32mIn[13], line 1\u001b[0m\n\u001b[1;32m----> 1\u001b[0m \u001b[43mSTOP\u001b[49m\n",
      "\u001b[1;31mNameError\u001b[0m: name 'STOP' is not defined"
     ]
    }
   ],
   "source": [
    "STOP"
   ]
  },
  {
   "cell_type": "markdown",
   "id": "2c5d0ff3",
   "metadata": {},
   "source": [
    "# Save outputs"
   ]
  },
  {
   "cell_type": "code",
   "execution_count": 14,
   "id": "78240fde",
   "metadata": {},
   "outputs": [],
   "source": [
    "np.savez(\n",
    "    \"Stamnes_results/3b_test\",\n",
    "    phi_arr=phi_arr,\n",
    "    tau_test_arr=tau_test_arr,\n",
    "    uu=uu,\n",
    "    flup=flup,\n",
    "    rfldn=rfldn,\n",
    "    rfldir=rfldir,\n",
    ")"
   ]
  },
  {
   "cell_type": "markdown",
   "id": "5f04db02",
   "metadata": {},
   "source": [
    "## Plots (for diagnosis)"
   ]
  },
  {
   "cell_type": "code",
   "execution_count": null,
   "id": "6a7556ba",
   "metadata": {},
   "outputs": [],
   "source": [
    "MU_ARR, PHI_ARR = np.meshgrid(phi_arr, mu_test_arr_RO)"
   ]
  },
  {
   "cell_type": "code",
   "execution_count": null,
   "id": "ccb4da97",
   "metadata": {},
   "outputs": [],
   "source": [
    "#%matplotlib ipympl\n",
    "\n",
    "plot = np.log10(diff_ratio[:, max_ratio_tau_index, :])\n",
    "\n",
    "fig = plt.figure(figsize=(9, 6))\n",
    "ax = plt.axes(projection=\"3d\")\n",
    "ax.contourf(MU_ARR, PHI_ARR, plot, 200)\n",
    "ax.scatter(\n",
    "    phi0,\n",
    "    -mu0,\n",
    "    np.linspace(np.min(plot), np.max(plot), 200),\n",
    "    marker=\".\",\n",
    "    color=\"red\",\n",
    "    label=\"direct beam at $\\mu$ = \"\n",
    "    + str(-mu0)\n",
    "    + \", $\\phi$ = \"\n",
    "    + str(np.around(phi0, 3)),\n",
    ")\n",
    "ax.set_xlabel(r\"$\\phi$\")\n",
    "ax.set_ylabel(r\"$\\mu$\")\n",
    "ax.set_zlabel(\"Log10 of difference ratios\")\n",
    "ax.view_init(30, 140)\n",
    "plt.title(r\"Log10 difference ratios of intensities at $\\tau =$\" + str(np.around(ratio_tau_pt, 3)))\n",
    "plt.legend()"
   ]
  },
  {
   "cell_type": "code",
   "execution_count": null,
   "id": "6e904f72",
   "metadata": {},
   "outputs": [],
   "source": [
    "#%matplotlib ipympl\n",
    "\n",
    "diff_tau_pt = tau_test_arr[max_diff_tau_index]\n",
    "\n",
    "plot = np.log10(diff[:, max_diff_tau_index, :])\n",
    "\n",
    "fig = plt.figure(figsize=(9, 6))\n",
    "ax = plt.axes(projection=\"3d\")\n",
    "ax.contourf(MU_ARR, PHI_ARR, plot, 200)\n",
    "ax.scatter(\n",
    "    phi0,\n",
    "    -mu0,\n",
    "    np.linspace(np.min(plot), np.max(plot), 200),\n",
    "    marker=\".\",\n",
    "    color=\"red\",\n",
    "    label=\"direct beam at $\\mu$ = \"\n",
    "    + str(-mu0)\n",
    "    + \", $\\phi$ = \"\n",
    "    + str(np.around(phi0, 3)),\n",
    ")\n",
    "ax.set_xlabel(r\"$\\phi$\")\n",
    "ax.set_ylabel(r\"$\\mu$\")\n",
    "ax.set_zlabel(\"Log10 of difference\")\n",
    "ax.view_init(30, 140)\n",
    "plt.title(r\"Log10 difference in intensities at $\\tau =$\" + str(np.around(diff_tau_pt, 3)))\n",
    "plt.legend()"
   ]
  }
 ],
 "metadata": {
  "hide_input": false,
  "kernelspec": {
   "display_name": "Python 3 (ipykernel)",
   "language": "python",
   "name": "python3"
  },
  "language_info": {
   "codemirror_mode": {
    "name": "ipython",
    "version": 3
   },
   "file_extension": ".py",
   "mimetype": "text/x-python",
   "name": "python",
   "nbconvert_exporter": "python",
   "pygments_lexer": "ipython3",
   "version": "3.11.0"
  }
 },
 "nbformat": 4,
 "nbformat_minor": 5
}
