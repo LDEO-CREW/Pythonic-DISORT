{
 "cells": [
  {
   "cell_type": "code",
   "execution_count": 1,
   "id": "b2925dfb",
   "metadata": {},
   "outputs": [],
   "source": [
    "import PyDISORT\n",
    "import disort\n",
    "import numpy as np\n",
    "import matplotlib.pyplot as plt\n",
    "from math import pi"
   ]
  },
  {
   "cell_type": "markdown",
   "id": "6e7d8b46",
   "metadata": {},
   "source": [
    "# PyDISORT"
   ]
  },
  {
   "cell_type": "code",
   "execution_count": 2,
   "id": "eaeaf144",
   "metadata": {},
   "outputs": [],
   "source": [
    "Leg_coeffs_ALL = np.array([1,\n",
    "                           2.544,  3.883,  4.568,  5.235,  5.887,  6.457,  7.177,  7.859,\n",
    "                           8.494,  9.286,  9.856, 10.615, 11.229, 11.851, 12.503, 13.058,\n",
    "                           13.626, 14.209, 14.660, 15.231, 15.641, 16.126, 16.539, 16.934,\n",
    "                           17.325, 17.673, 17.999, 18.329, 18.588, 18.885, 19.103, 19.345,\n",
    "                           19.537, 19.721, 19.884, 20.024, 20.145, 20.251, 20.330, 20.401,\n",
    "                           20.444, 20.477, 20.489, 20.483, 20.467, 20.427, 20.382, 20.310,\n",
    "                           20.236, 20.136, 20.036, 19.909, 19.785, 19.632, 19.486, 19.311,\n",
    "                           19.145, 18.949, 18.764, 18.551, 18.348, 18.119, 17.901, 17.659,\n",
    "                           17.428, 17.174, 16.931, 16.668, 16.415, 16.144, 15.883, 15.606,\n",
    "                           15.338, 15.058, 14.784, 14.501, 14.225, 13.941, 13.662, 13.378,\n",
    "                           13.098, 12.816, 12.536, 12.257, 11.978, 11.703, 11.427, 11.156,\n",
    "                           10.884, 10.618, 10.350, 10.090,  9.827,  9.574,  9.318,  9.072,\n",
    "                           8.822, 8.584, 8.340, 8.110, 7.874, 7.652, 7.424, 7.211, 6.990,\n",
    "                           6.785, 6.573, 6.377, 6.173, 5.986, 5.790, 5.612, 5.424, 5.255,\n",
    "                           5.075, 4.915, 4.744, 4.592, 4.429, 4.285, 4.130, 3.994, 3.847,\n",
    "                           3.719, 3.580, 3.459, 3.327, 3.214, 3.090, 2.983, 2.866, 2.766,\n",
    "                           2.656, 2.562, 2.459, 2.372, 2.274, 2.193, 2.102, 2.025, 1.940,\n",
    "                           1.869, 1.790, 1.723, 1.649, 1.588, 1.518, 1.461, 1.397, 1.344,\n",
    "                           1.284, 1.235, 1.179, 1.134, 1.082, 1.040, 0.992, 0.954, 0.909,\n",
    "                           0.873, 0.832, 0.799, 0.762, 0.731, 0.696, 0.668, 0.636, 0.610,\n",
    "                           0.581, 0.557, 0.530, 0.508, 0.483, 0.463, 0.440, 0.422, 0.401,\n",
    "                           0.384, 0.364, 0.349, 0.331, 0.317, 0.301, 0.288, 0.273, 0.262,\n",
    "                           0.248, 0.238, 0.225, 0.215, 0.204, 0.195, 0.185, 0.177, 0.167,\n",
    "                           0.160, 0.151, 0.145, 0.137, 0.131, 0.124, 0.118, 0.112, 0.107,\n",
    "                           0.101, 0.097, 0.091, 0.087, 0.082, 0.079, 0.074, 0.071, 0.067,\n",
    "                           0.064, 0.060, 0.057, 0.054, 0.052, 0.049, 0.047, 0.044, 0.042,\n",
    "                           0.039, 0.038, 0.035, 0.034, 0.032, 0.030, 0.029, 0.027, 0.026,\n",
    "                           0.024, 0.023, 0.022, 0.021, 0.020, 0.018, 0.018, 0.017, 0.016,\n",
    "                           0.015, 0.014, 0.013, 0.013, 0.012, 0.011, 0.011, 0.010, 0.009,\n",
    "                           0.009, 0.008, 0.008, 0.008, 0.007, 0.007, 0.006, 0.006, 0.006,\n",
    "                           0.005, 0.005, 0.005, 0.005, 0.004, 0.004, 0.004, 0.004, 0.003,\n",
    "                           0.003, 0.003, 0.003, 0.003, 0.003, 0.002, 0.002, 0.002, 0.002,\n",
    "                           0.002, 0.002, 0.002, 0.002, 0.002, 0.001, 0.001, 0.001, 0.001,\n",
    "                           0.001, 0.001, 0.001, 0.001, 0.001, 0.001, 0.001, 0.001, 0.001,\n",
    "                           0.001, 0.001, 0.001, 0.001, 0.001])\n",
    "\n",
    "######################################### PYDISORT ARGUMENTS #######################################\n",
    "\n",
    "tau_arr = 1\n",
    "omega_arr = 0.99 # Reduced from 1 because we have not implemented that special case\n",
    "NQuad = 48\n",
    "Leg_coeffs_all = Leg_coeffs_ALL / (2 * np.arange(300) + 1)\n",
    "mu0 = 1\n",
    "I0 = pi\n",
    "phi0 = 0\n",
    "\n",
    "# Optional (used)\n",
    "f_arr = Leg_coeffs_all[NQuad]\n",
    "NT_cor = True\n",
    "Leg_coeffs_BDRF=np.array([1])\n",
    "\n",
    "# Optional (unused)\n",
    "NLeg=None\n",
    "NLoops=None\n",
    "b_pos=0\n",
    "b_neg=0\n",
    "only_flux=False\n",
    "s_poly_coeffs=np.array([[]])\n",
    "use_sparse_NLayers=6\n",
    "\n",
    "####################################################################################################"
   ]
  },
  {
   "cell_type": "code",
   "execution_count": 3,
   "id": "e21756a3",
   "metadata": {},
   "outputs": [],
   "source": [
    "# Call PyDISORT\n",
    "mu_arr, flux_up, flux_down, u = PyDISORT.pydisort(\n",
    "    tau_arr, omega_arr,\n",
    "    NQuad,\n",
    "    Leg_coeffs_all,\n",
    "    mu0, I0, phi0,\n",
    "    f_arr=f_arr,\n",
    "    NT_cor=NT_cor,\n",
    "    Leg_coeffs_BDRF=Leg_coeffs_BDRF,\n",
    ")"
   ]
  },
  {
   "cell_type": "markdown",
   "id": "659da73a",
   "metadata": {},
   "source": [
    "## Setup for tests"
   ]
  },
  {
   "cell_type": "code",
   "execution_count": 4,
   "id": "cf7b5e45",
   "metadata": {},
   "outputs": [],
   "source": [
    "# mu_arr is arranged as it is for code efficiency and readability\n",
    "# For presentation purposes we re-arrange mu_arr from smallest to largest\n",
    "reorder_mu = np.argsort(mu_arr)\n",
    "mu_arr_RO = mu_arr[reorder_mu]\n",
    "\n",
    "# By default we do not compare intensities 1 degree around the direct beam\n",
    "# The size of the region can be changed using the parameter below\n",
    "mu_around_beam_to_not_compare = 0.1\n",
    "\n",
    "mu_to_compare = np.abs(np.abs(mu_arr_RO) - mu0) > mu_around_beam_to_not_compare\n",
    "mu_test_arr_RO = mu_arr_RO[mu_to_compare]"
   ]
  },
  {
   "cell_type": "code",
   "execution_count": 5,
   "id": "7b8801dc",
   "metadata": {},
   "outputs": [],
   "source": [
    "# Number of phi grid points\n",
    "# This selection should ensure that the phi quadrature is at least as accurate as the mu quadrature\n",
    "Nphi = int((NQuad * pi) // 2) * 2 + 1\n",
    "phi_arr, full_weights_phi = PyDISORT.subroutines.Clenshaw_Curtis_quad(Nphi)\n",
    "\n",
    "Ntau = 1000 # Number of tau test points\n",
    "tau_test_arr = np.random.random(Ntau) * tau_arr\n",
    "\n",
    "MU_ARR, PHI_ARR = np.meshgrid(phi_arr, mu_arr_RO)"
   ]
  },
  {
   "cell_type": "markdown",
   "id": "5a7fefca",
   "metadata": {},
   "source": [
    "## Stamnes' DISORT"
   ]
  },
  {
   "cell_type": "code",
   "execution_count": 6,
   "id": "1bf8a9d2",
   "metadata": {},
   "outputs": [],
   "source": [
    "# Stamnes' DISORT arguments\n",
    "nlyr = 1\n",
    "nmom = NLeg\n",
    "nstr = NQuad\n",
    "numu = NQuad\n",
    "nphi = Nphi\n",
    "ntau = Ntau\n",
    "usrang = True\n",
    "usrtau = True\n",
    "ibcnd = 0\n",
    "onlyfl = False\n",
    "prnt = np.array([False, False, False, False, False])  # Prints to CMD instead of this notebook\n",
    "plank = False\n",
    "lamber = True\n",
    "deltamplus = False\n",
    "do_pseudo_sphere = False\n",
    "dtauc = tau_arr\n",
    "ssalb = omega_arr\n",
    "pmom = Leg_coeffs_all.T\n",
    "temper = np.zeros(nlyr + 1)\n",
    "wvnmlo = 0\n",
    "wvnmhi = 0\n",
    "utau = tau_test_arr\n",
    "umu0 = mu0\n",
    "phi0 = phi0\n",
    "umu = mu_arr_RO\n",
    "phi = phi_arr\n",
    "fbeam = I0\n",
    "fisot = 0\n",
    "albedo = Leg_coeffs_BDRF[0]\n",
    "btemp = 0\n",
    "ttemp = 0\n",
    "temis = 0\n",
    "earth_radius = 6371\n",
    "h_lyr = np.zeros(nlyr + 1)\n",
    "rhoq = np.zeros((nstr // 2, nstr + 1, nstr))\n",
    "rhou = np.zeros((numu, nstr // 2 + 1, nstr))\n",
    "rho_accurate = np.zeros((numu, nphi))\n",
    "bemst = np.zeros(nstr // 2)\n",
    "emust = np.zeros(numu)\n",
    "accur = 0\n",
    "header = \"\"\n",
    "rfldir = np.zeros(ntau)\n",
    "rfldn = np.zeros(ntau)\n",
    "flup = np.zeros(ntau)\n",
    "dfdt = np.zeros(ntau)\n",
    "uavg = np.zeros(ntau)\n",
    "uu = np.zeros((numu, ntau, nphi))\n",
    "albmed = np.zeros(numu)\n",
    "trnmed = np.zeros(numu)"
   ]
  },
  {
   "cell_type": "code",
   "execution_count": 7,
   "id": "795dd2ef",
   "metadata": {},
   "outputs": [],
   "source": [
    "# Run disort, putting DFDT, UAVG, and UU in a, b, and c, respectively\n",
    "rfldir, rfldn, flup, dfdt, uavg, uu, albmed, trnmed = disort.disort(usrang, usrtau, ibcnd, onlyfl, prnt, plank, lamber, deltamplus, do_pseudo_sphere, dtauc, ssalb,\n",
    "                        pmom, temper, wvnmlo, wvnmhi, utau, umu0, phi0 * 180/pi, umu, phi * 180/pi, fbeam, fisot, albedo, btemp, ttemp,\n",
    "                        temis, earth_radius, h_lyr, rhoq, rhou, rho_accurate, bemst, emust, accur, header, rfldir,\n",
    "                        rfldn, flup, dfdt, uavg, uu, albmed, trnmed)"
   ]
  },
  {
   "cell_type": "code",
   "execution_count": 8,
   "id": "3112298e",
   "metadata": {},
   "outputs": [
    {
     "name": "stdout",
     "output_type": "stream",
     "text": [
      "Max pointwise differences\n",
      "\n",
      "Upward (diffuse) fluxes\n",
      "Difference = 1.4270126587057064e-05\n",
      "Difference ratio = 4.296772407087056e-06\n",
      "\n",
      "Downward (diffuse) fluxes\n",
      "Difference = 1.4299531079231542e-05\n",
      "Difference ratio = 0.0010494175632151349\n",
      "\n",
      "Direct (downward) fluxes\n",
      "Difference = 2.7862903895226054e-07\n",
      "Difference ratio = 1.3245248156698824e-07\n"
     ]
    }
   ],
   "source": [
    "print(\"Max pointwise differences\")\n",
    "print()\n",
    "\n",
    "# Upward (diffuse) fluxes\n",
    "print(\"Upward (diffuse) fluxes\")\n",
    "diff_flux_up = np.abs(flup - flux_up(tau_test_arr))\n",
    "ratio_flux_up = diff_flux_up / np.clip(flup, a_min=1e-6, a_max=None)\n",
    "print(\"Difference =\", np.max(diff_flux_up))\n",
    "print(\"Difference ratio =\", np.max(ratio_flux_up))\n",
    "print()\n",
    "\n",
    "# Downward (diffuse) fluxes\n",
    "print(\"Downward (diffuse) fluxes\")\n",
    "diff_flux_down_diffuse = np.abs(rfldn - flux_down(tau_test_arr)[0])\n",
    "ratio_flux_down_diffuse = diff_flux_down_diffuse / np.clip(\n",
    "    rfldn, a_min=1e-6, a_max=None\n",
    ")\n",
    "print(\"Difference =\", np.max(diff_flux_down_diffuse))\n",
    "print(\n",
    "    \"Difference ratio =\",\n",
    "    np.max(ratio_flux_down_diffuse),\n",
    ")\n",
    "print()\n",
    "\n",
    "# Direct (downward) fluxes\n",
    "print(\"Direct (downward) fluxes\")\n",
    "diff_flux_down_direct = np.abs(rfldir - flux_down(tau_test_arr)[1])\n",
    "ratio_flux_down_direct = diff_flux_down_direct / np.clip(rfldir, a_min=1e-6, a_max=None)\n",
    "print(\"Difference =\", np.max(diff_flux_down_direct))\n",
    "print(\n",
    "    \"Difference ratio =\",\n",
    "    np.max(ratio_flux_down_direct),\n",
    ")"
   ]
  },
  {
   "cell_type": "code",
   "execution_count": 9,
   "id": "324b21c7",
   "metadata": {},
   "outputs": [],
   "source": [
    "diff = np.abs(uu - u(tau_test_arr, phi_arr)[reorder_mu])[mu_to_compare]\n",
    "diff_ratio = diff / np.clip(uu[mu_to_compare], a_min=1e-6, a_max=None)"
   ]
  },
  {
   "cell_type": "code",
   "execution_count": 10,
   "id": "b7dce812",
   "metadata": {},
   "outputs": [],
   "source": [
    "max_diff_tau_index = np.argmax(np.max(np.max(diff, axis=0), axis=1))\n",
    "max_ratio_tau_index = np.argmax(np.max(np.max(diff_ratio, axis=0), axis=1))\n",
    "\n",
    "# Plots will be created for only these values of tau\n",
    "diff_tau_pt = tau_test_arr[max_diff_tau_index]\n",
    "ratio_tau_pt = tau_test_arr[max_ratio_tau_index]"
   ]
  },
  {
   "cell_type": "code",
   "execution_count": 11,
   "id": "f97ce4cd",
   "metadata": {},
   "outputs": [
    {
     "name": "stdout",
     "output_type": "stream",
     "text": [
      "At tau = 0.9961149676189829\n",
      "Max pointwise difference = 0.00026971455441149317\n",
      "At tau = 0.0006166431536261952\n",
      "Max pointwise difference ratio = 0.0006330910698462557\n"
     ]
    }
   ],
   "source": [
    "print(\"At tau = \" + str(diff_tau_pt))\n",
    "print(\"Max pointwise difference =\", np.max(diff[:, max_diff_tau_index, :]))\n",
    "print(\"At tau = \" + str(ratio_tau_pt))\n",
    "print(\"Max pointwise difference ratio =\", np.max(diff_ratio[:, max_ratio_tau_index, :]))"
   ]
  },
  {
   "cell_type": "markdown",
   "id": "64634b9b",
   "metadata": {},
   "source": [
    "**Does the test pass?**"
   ]
  },
  {
   "cell_type": "code",
   "execution_count": 12,
   "id": "e3b31888",
   "metadata": {},
   "outputs": [
    {
     "name": "stdout",
     "output_type": "stream",
     "text": [
      "The test passes\n"
     ]
    }
   ],
   "source": [
    "assert np.max(ratio_flux_up) <= 1e-3 or np.max(diff_flux_up) <= 1e-2 / pi\n",
    "assert np.max(ratio_flux_down_diffuse) <= 1e-3 or np.max(diff_flux_down_diffuse) <= 1e-2 / pi\n",
    "assert np.max(ratio_flux_down_direct) <= 1e-3 or np.max(diff_flux_down_direct) <= 1e-2 / pi\n",
    "assert np.max(diff_ratio) <= 1e-2 or np.max(diff) <= 1e-2\n",
    "\n",
    "print(\"The test passes\")"
   ]
  },
  {
   "cell_type": "code",
   "execution_count": 13,
   "id": "64913aa0",
   "metadata": {},
   "outputs": [
    {
     "ename": "NameError",
     "evalue": "name 'STOP' is not defined",
     "output_type": "error",
     "traceback": [
      "\u001b[1;31m---------------------------------------------------------------------------\u001b[0m",
      "\u001b[1;31mNameError\u001b[0m                                 Traceback (most recent call last)",
      "Cell \u001b[1;32mIn[13], line 1\u001b[0m\n\u001b[1;32m----> 1\u001b[0m \u001b[43mSTOP\u001b[49m\n",
      "\u001b[1;31mNameError\u001b[0m: name 'STOP' is not defined"
     ]
    }
   ],
   "source": [
    "STOP"
   ]
  },
  {
   "cell_type": "markdown",
   "id": "2c5d0ff3",
   "metadata": {},
   "source": [
    "# Save outputs"
   ]
  },
  {
   "cell_type": "code",
   "execution_count": 14,
   "id": "78240fde",
   "metadata": {},
   "outputs": [],
   "source": [
    "np.savez(\n",
    "    \"Stamnes_results/5BDRF_test\",\n",
    "    phi_arr=phi_arr,\n",
    "    tau_test_arr=tau_test_arr,\n",
    "    uu=uu,\n",
    "    flup=flup,\n",
    "    rfldn=rfldn,\n",
    "    rfldir=rfldir,\n",
    ")"
   ]
  },
  {
   "cell_type": "markdown",
   "id": "5f04db02",
   "metadata": {},
   "source": [
    "## Plots (for diagnosis)"
   ]
  },
  {
   "cell_type": "code",
   "execution_count": null,
   "id": "6a7556ba",
   "metadata": {},
   "outputs": [],
   "source": [
    "MU_ARR, PHI_ARR = np.meshgrid(phi_arr, mu_test_arr_RO)"
   ]
  },
  {
   "cell_type": "code",
   "execution_count": null,
   "id": "ccb4da97",
   "metadata": {},
   "outputs": [],
   "source": [
    "#%matplotlib ipympl\n",
    "\n",
    "plot = np.log10(diff_ratio[:, max_ratio_tau_index, :])\n",
    "\n",
    "fig = plt.figure(figsize=(9, 6))\n",
    "ax = plt.axes(projection=\"3d\")\n",
    "ax.contourf(MU_ARR, PHI_ARR, plot, 200)\n",
    "ax.scatter(\n",
    "    phi0,\n",
    "    -mu0,\n",
    "    np.linspace(np.min(plot), np.max(plot), 200),\n",
    "    marker=\".\",\n",
    "    color=\"red\",\n",
    "    label=\"direct beam at $\\mu$ = \"\n",
    "    + str(-mu0)\n",
    "    + \", $\\phi$ = \"\n",
    "    + str(np.around(phi0, 3)),\n",
    ")\n",
    "ax.set_xlabel(r\"$\\phi$\")\n",
    "ax.set_ylabel(r\"$\\mu$\")\n",
    "ax.set_zlabel(\"Log10 of difference ratios\")\n",
    "ax.view_init(30, 140)\n",
    "plt.title(r\"Log10 difference ratios of intensities at $\\tau =$\" + str(np.around(ratio_tau_pt, 3)))\n",
    "plt.legend()"
   ]
  },
  {
   "cell_type": "code",
   "execution_count": null,
   "id": "6e904f72",
   "metadata": {},
   "outputs": [],
   "source": [
    "#%matplotlib ipympl\n",
    "\n",
    "diff_tau_pt = tau_test_arr[max_diff_tau_index]\n",
    "\n",
    "plot = np.log10(diff[:, max_diff_tau_index, :])\n",
    "\n",
    "fig = plt.figure(figsize=(9, 6))\n",
    "ax = plt.axes(projection=\"3d\")\n",
    "ax.contourf(MU_ARR, PHI_ARR, plot, 200)\n",
    "ax.scatter(\n",
    "    phi0,\n",
    "    -mu0,\n",
    "    np.linspace(np.min(plot), np.max(plot), 200),\n",
    "    marker=\".\",\n",
    "    color=\"red\",\n",
    "    label=\"direct beam at $\\mu$ = \"\n",
    "    + str(-mu0)\n",
    "    + \", $\\phi$ = \"\n",
    "    + str(np.around(phi0, 3)),\n",
    ")\n",
    "ax.set_xlabel(r\"$\\phi$\")\n",
    "ax.set_ylabel(r\"$\\mu$\")\n",
    "ax.set_zlabel(\"Log10 of difference\")\n",
    "ax.view_init(30, 140)\n",
    "plt.title(r\"Log10 difference in intensities at $\\tau =$\" + str(np.around(diff_tau_pt, 3)))\n",
    "plt.legend()"
   ]
  }
 ],
 "metadata": {
  "hide_input": false,
  "kernelspec": {
   "display_name": "Python 3 (ipykernel)",
   "language": "python",
   "name": "python3"
  },
  "language_info": {
   "codemirror_mode": {
    "name": "ipython",
    "version": 3
   },
   "file_extension": ".py",
   "mimetype": "text/x-python",
   "name": "python",
   "nbconvert_exporter": "python",
   "pygments_lexer": "ipython3",
   "version": "3.11.0"
  }
 },
 "nbformat": 4,
 "nbformat_minor": 5
}
