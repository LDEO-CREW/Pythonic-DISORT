{
 "cells": [
  {
   "cell_type": "code",
   "execution_count": 1,
   "id": "b2925dfb",
   "metadata": {},
   "outputs": [],
   "source": [
    "import PythonicDISORT\n",
    "from PythonicDISORT.subroutines import _compare\n",
    "import numpy as np\n",
    "import matplotlib.pyplot as plt\n",
    "import matplotlib as mpl\n",
    "from math import pi"
   ]
  },
  {
   "cell_type": "markdown",
   "id": "93d0cdc0",
   "metadata": {},
   "source": [
    "Previously saved reference solutions will be loaded if F2PY-wrapped Stamnes' DISORT is unavailable."
   ]
  },
  {
   "cell_type": "code",
   "execution_count": 2,
   "id": "dbacba8b",
   "metadata": {},
   "outputs": [
    {
     "name": "stdout",
     "output_type": "stream",
     "text": [
      "Stamnes' DISORT imported.\n"
     ]
    }
   ],
   "source": [
    "disort_is_installed = True\n",
    "try:\n",
    "    import disort\n",
    "    print(\"Stamnes' DISORT imported.\")\n",
    "except ImportError:\n",
    "    disort_is_installed = False\n",
    "    print(\"Stamnes' DISORT unavailable. Cached results will be used.\")"
   ]
  },
  {
   "cell_type": "markdown",
   "id": "15bb0f21",
   "metadata": {},
   "source": [
    "# Table of Contents\n",
    "* [1a and setup](#1a-and-setup)\n",
    "* [1b](#1b)\n",
    "* [1c](#1c)\n",
    "* [1d](#1d)\n",
    "* [1e](#1e)\n"
   ]
  },
  {
   "cell_type": "markdown",
   "id": "8991c0c6",
   "metadata": {},
   "source": [
    "# Test Problem 1:  Isotropic Scattering"
   ]
  },
  {
   "cell_type": "markdown",
   "id": "ad3c6ef4",
   "metadata": {},
   "source": [
    "The *isotropic phase function* is a simple way to model diffusion-like radiative transfer. Consequently, it should be paired with thick (large `tau_arr`) and conservative (`omega_arr` close to 1) atmospheres, though the test problems are not intended to serve as realistic models. The isotropic phase function is also the simplest possible phase function with its only non-zero Legendre coefficient being its zeroth coefficient which equals $1$, but that is true of every phase function. These problems are thus the simplest multiple scattering problems on which to test PythonicDISORT. Note that when the single-scattering albedo `omega_arr` is small, e.g. in problem 1d, the solution is approximately that of single-scattering (this is true irrespective of the phase function). This is useful because 1D single-scattering problems can be solved analytically and so provide a baseline for comparison.\n",
    "\n",
    "Results can be compared to Table 12 of Van de Hulst, H.C., 1980: *Multiple Light Scattering, Tables, Formulas and Applications*, Volume 1, Academic Press, New York. The intensity field of the upwelling radiation, which can be compared to satellite measurements, is plotted for each subproblem."
   ]
  },
  {
   "cell_type": "markdown",
   "id": "6b15a310",
   "metadata": {},
   "source": [
    "# 1a and setup"
   ]
  },
  {
   "cell_type": "markdown",
   "id": "02881e0a",
   "metadata": {},
   "source": [
    "**PythonicDISORT**"
   ]
  },
  {
   "cell_type": "code",
   "execution_count": 3,
   "id": "eaeaf144",
   "metadata": {},
   "outputs": [],
   "source": [
    "######################################### PYDISORT ARGUMENTS #######################################\n",
    "\n",
    "tau_arr = 0.03125  # One layer of thickness 0.03125 (very thin atmosphere)\n",
    "omega_arr = 0.2  # 20% of light is scattered each interaction (very highly absorbing medium)\n",
    "NQuad = 16  # 16 streams (8 quadrature nodes for each hemisphere)\n",
    "Leg_coeffs_all = np.zeros(17)\n",
    "Leg_coeffs_all[0] = 1  # Isotropic phase function\n",
    "mu0 = 0.1  # Cosine of solar zenith angle (low, glancing angle)\n",
    "I0 = pi / mu0  # Intensity of direct beam\n",
    "phi0 = pi  # Azimuthal angle of direct beam\n",
    "\n",
    "# Optional (used)\n",
    "\n",
    "# Optional (unused)\n",
    "NLeg = None\n",
    "NFourier = None\n",
    "b_pos = 0\n",
    "b_neg = 0\n",
    "only_flux = False\n",
    "f_arr = 0\n",
    "NT_cor = False\n",
    "BDRF_Fourier_modes = []\n",
    "s_poly_coeffs = np.array([[]])\n",
    "use_banded_solver_NLayers = 10\n",
    "autograd_compatible=False\n",
    "\n",
    "####################################################################################################"
   ]
  },
  {
   "cell_type": "code",
   "execution_count": 4,
   "id": "e21756a3",
   "metadata": {},
   "outputs": [],
   "source": [
    "# Call pydisort function\n",
    "mu_arr, flux_up, flux_down, u0, u = PythonicDISORT.pydisort(\n",
    "    tau_arr, omega_arr,\n",
    "    NQuad,\n",
    "    Leg_coeffs_all,\n",
    "    mu0, I0, phi0,\n",
    ")"
   ]
  },
  {
   "cell_type": "markdown",
   "id": "659da73a",
   "metadata": {},
   "source": [
    "**Setup for tests**"
   ]
  },
  {
   "cell_type": "code",
   "execution_count": 5,
   "id": "cf7b5e45",
   "metadata": {},
   "outputs": [],
   "source": [
    "# Reorder mu_arr from smallest to largest\n",
    "reorder_mu = np.argsort(mu_arr)\n",
    "mu_arr_RO = mu_arr[reorder_mu]\n",
    "\n",
    "# We may not want to compare intensities around the direct beam\n",
    "deg_around_beam_to_not_compare = 0\n",
    "mu_to_compare = (\n",
    "    np.abs(np.arccos(np.abs(mu_arr_RO)) - np.arccos(mu0)) * 180 / pi\n",
    "    > deg_around_beam_to_not_compare\n",
    ")\n",
    "mu_test_arr_RO = mu_arr_RO[mu_to_compare]"
   ]
  },
  {
   "cell_type": "code",
   "execution_count": 6,
   "id": "7b8801dc",
   "metadata": {},
   "outputs": [],
   "source": [
    "# Number of phi grid points\n",
    "Nphi = 2\n",
    "phi_arr = np.random.random(Nphi) * 2 * pi\n",
    "\n",
    "# tau test points\n",
    "tau_test_arr = np.array([0, 0.03125])\n",
    "Ntau = len(tau_test_arr)"
   ]
  },
  {
   "cell_type": "markdown",
   "id": "5a7fefca",
   "metadata": {},
   "source": [
    "**Stamnes' DISORT**"
   ]
  },
  {
   "cell_type": "code",
   "execution_count": 7,
   "id": "1bf8a9d2",
   "metadata": {},
   "outputs": [],
   "source": [
    "# Stamnes' DISORT arguments\n",
    "nlyr = 1\n",
    "nmom = NQuad\n",
    "nstr = NQuad\n",
    "numu = NQuad\n",
    "nphi = Nphi\n",
    "ntau = Ntau\n",
    "usrang = True\n",
    "usrtau = True\n",
    "ibcnd = 0\n",
    "onlyfl = False\n",
    "prnt = np.array([False, False, False, False, False])  # Prints to CMD instead of this notebook\n",
    "plank = False\n",
    "lamber = True\n",
    "deltamplus = False\n",
    "do_pseudo_sphere = False\n",
    "dtauc = tau_arr\n",
    "ssalb = omega_arr\n",
    "pmom = Leg_coeffs_all.T\n",
    "temper = np.zeros(nlyr + 1)\n",
    "wvnmlo = 0\n",
    "wvnmhi = 0\n",
    "utau = tau_test_arr\n",
    "umu0 = mu0\n",
    "phi0 = phi0\n",
    "umu = mu_arr_RO\n",
    "phi = phi_arr\n",
    "fbeam = I0\n",
    "fisot = 0\n",
    "albedo = 0\n",
    "btemp = 0\n",
    "ttemp = 0\n",
    "temis = 0\n",
    "earth_radius = 6371\n",
    "h_lyr = np.zeros(nlyr + 1)\n",
    "rhoq = np.zeros((nstr // 2, nstr + 1, nstr))\n",
    "rhou = np.zeros((numu, nstr // 2 + 1, nstr))\n",
    "rho_accurate = np.zeros((numu, nphi))\n",
    "bemst = np.zeros(nstr // 2)\n",
    "emust = np.zeros(numu)\n",
    "accur = 0\n",
    "header = \"\"\n",
    "rfldir = np.zeros(ntau)\n",
    "rfldn = np.zeros(ntau)\n",
    "flup = np.zeros(ntau)\n",
    "dfdt = np.zeros(ntau)\n",
    "uavg = np.zeros(ntau)\n",
    "uu = np.zeros((numu, ntau, nphi))\n",
    "albmed = np.zeros(numu)\n",
    "trnmed = np.zeros(numu)"
   ]
  },
  {
   "cell_type": "code",
   "execution_count": 8,
   "id": "795dd2ef",
   "metadata": {},
   "outputs": [],
   "source": [
    "if disort_is_installed:\n",
    "    # Run disort, putting DFDT, UAVG, and UU in a, b, and c, respectively\n",
    "    rfldir, rfldn, flup, dfdt, uavg, uu, albmed, trnmed = disort.disort(usrang, usrtau, ibcnd, onlyfl, prnt, plank, lamber, deltamplus, do_pseudo_sphere, dtauc, ssalb,\n",
    "                            pmom, temper, wvnmlo, wvnmhi, utau, umu0, phi0 * 180/pi, umu, phi * 180/pi, fbeam, fisot, albedo, btemp, ttemp,\n",
    "                            temis, earth_radius, h_lyr, rhoq, rhou, rho_accurate, bemst, emust, accur, header, rfldir,\n",
    "                            rfldn, flup, dfdt, uavg, uu, albmed, trnmed)\n",
    "    results = {\n",
    "        \"uu\": uu,\n",
    "        \"flup\": flup,\n",
    "        \"rfldn\": rfldn,\n",
    "        \"rfldir\": rfldir,\n",
    "        \"tau_test_arr\": tau_test_arr,\n",
    "        \"phi_arr\": phi_arr\n",
    "    }\n",
    "else:\n",
    "    # Load saved results from Stamnes' DISORT\n",
    "    results = np.load(\"Stamnes_results/1a_test.npz\")"
   ]
  },
  {
   "cell_type": "markdown",
   "id": "06841963",
   "metadata": {},
   "source": [
    "**Comparisons**"
   ]
  },
  {
   "cell_type": "code",
   "execution_count": 9,
   "id": "b06865bd",
   "metadata": {},
   "outputs": [
    {
     "name": "stdout",
     "output_type": "stream",
     "text": [
      "Max pointwise differences\n",
      "\n",
      "Upward (diffuse) fluxes\n",
      "Difference = 4.989720206954782e-09\n",
      "Difference ratio = 6.056479273432073e-08\n",
      "\n",
      "Downward (diffuse) fluxes\n",
      "Difference = 3.974040291288006e-09\n",
      "Difference ratio = 5.004408369910034e-08\n",
      "\n",
      "Direct (downward) fluxes\n",
      "Difference = 2.1294565577534286e-07\n",
      "Difference ratio = 9.264798488614142e-08\n",
      "\n",
      "Intensities\n",
      "\n",
      "At tau = 0.03125\n",
      "Max pointwise difference = 8.556747426308187e-07\n",
      "At tau = 0.03125\n",
      "Max pointwise difference ratio = 7.4868069282740945e-06\n",
      "\n"
     ]
    }
   ],
   "source": [
    "(\n",
    "    diff_flux_up,\n",
    "    ratio_flux_up,\n",
    "    diff_flux_down_diffuse,\n",
    "    ratio_flux_down_diffuse,\n",
    "    diff_flux_down_direct,\n",
    "    ratio_flux_down_direct,\n",
    "    diff,\n",
    "    diff_ratio,\n",
    ") = _compare(results, mu_to_compare, reorder_mu, flux_up, flux_down, u)"
   ]
  },
  {
   "cell_type": "markdown",
   "id": "64634b9b",
   "metadata": {},
   "source": [
    "**Does the test pass?**"
   ]
  },
  {
   "cell_type": "code",
   "execution_count": 10,
   "id": "e3b31888",
   "metadata": {},
   "outputs": [
    {
     "name": "stdout",
     "output_type": "stream",
     "text": [
      "The test passes\n"
     ]
    }
   ],
   "source": [
    "assert np.max(ratio_flux_up[diff_flux_up > 1e-3], initial=0) < 1e-3\n",
    "assert np.max(ratio_flux_down_diffuse[diff_flux_down_diffuse > 1e-3], initial=0) < 1e-3\n",
    "assert np.max(ratio_flux_down_direct[diff_flux_down_direct > 1e-3], initial=0) < 1e-3\n",
    "assert np.max(diff_ratio[diff > 1e-3], initial=0) < 1e-2\n",
    "\n",
    "'''np.savez_compressed (\n",
    "    \"Stamnes_results/1a_test\",\n",
    "    phi_arr=phi_arr,\n",
    "    tau_test_arr=tau_test_arr,\n",
    "    uu=uu,\n",
    "    flup=flup,\n",
    "    rfldn=rfldn,\n",
    "    rfldir=rfldir,\n",
    ")'''\n",
    "\n",
    "print(\"The test passes\")"
   ]
  },
  {
   "cell_type": "markdown",
   "id": "430cdc10",
   "metadata": {},
   "source": [
    "**Plots**"
   ]
  },
  {
   "cell_type": "code",
   "execution_count": 11,
   "id": "1af9251a",
   "metadata": {},
   "outputs": [],
   "source": [
    "Nphi_plot = int((NQuad * pi) // 2) * 2 + 1\n",
    "phi_arr_plot, full_weights_phi = PythonicDISORT.subroutines.Clenshaw_Curtis_quad(Nphi_plot)\n",
    "\n",
    "MU_ARR, PHI_ARR = np.meshgrid(phi_arr_plot, mu_arr[:NQuad // 2])"
   ]
  },
  {
   "cell_type": "code",
   "execution_count": 12,
   "id": "b86e9a5d",
   "metadata": {},
   "outputs": [
    {
     "data": {
      "text/plain": [
       "<matplotlib.legend.Legend at 0x219091a2c90>"
      ]
     },
     "execution_count": 12,
     "metadata": {},
     "output_type": "execute_result"
    },
    {
     "data": {
      "image/png": "[encoded data removed]",
      "text/plain": [
       "<Figure size 900x600 with 2 Axes>"
      ]
     },
     "metadata": {},
     "output_type": "display_data"
    }
   ],
   "source": [
    "plot = u(0, phi_arr_plot)[:NQuad // 2]\n",
    "\n",
    "fig = plt.figure(figsize=(9, 6))\n",
    "_contourf = plt.contourf(MU_ARR, PHI_ARR, plot)\n",
    "plt.plot(phi0, mu0, \"o\", color=\"red\", label=\"Direct beam\")\n",
    "plt.xlabel(r\"$\\phi$\")\n",
    "plt.ylabel(r\"$\\mu$\")\n",
    "plt.colorbar(_contourf)\n",
    "plt.title(\n",
    "    \"Upward intensity field at top of atmosphere\"\n",
    ")\n",
    "plt.legend()"
   ]
  },
  {
   "cell_type": "markdown",
   "id": "ea49a4a0",
   "metadata": {},
   "source": [
    "----------"
   ]
  },
  {
   "cell_type": "markdown",
   "id": "f73df097",
   "metadata": {},
   "source": [
    "# 1b"
   ]
  },
  {
   "cell_type": "markdown",
   "id": "4f84e2a4",
   "metadata": {},
   "source": [
    "**PythonicDISORT**"
   ]
  },
  {
   "cell_type": "code",
   "execution_count": 13,
   "id": "006fcb3e",
   "metadata": {},
   "outputs": [],
   "source": [
    "######################################### PYDISORT ARGUMENTS #######################################\n",
    "\n",
    "tau_arr = 0.03125\n",
    "omega_arr = 1 - 1e-6  # Reduced from 1 (conservative scattering) which is not implemented\n",
    "NQuad = 16\n",
    "Leg_coeffs_all = np.zeros(17)\n",
    "Leg_coeffs_all[0] = 1\n",
    "mu0 = 0.1\n",
    "I0 = pi / mu0\n",
    "phi0 = pi\n",
    "\n",
    "# Optional (used)\n",
    "\n",
    "# Optional (unused)\n",
    "NLeg=None\n",
    "NFourier=None\n",
    "b_pos=0\n",
    "b_neg=0\n",
    "only_flux=False\n",
    "f_arr=0\n",
    "NT_cor=False\n",
    "BDRF_Fourier_modes=[]\n",
    "s_poly_coeffs=np.array([[]])\n",
    "use_banded_solver_NLayers=10\n",
    "autograd_compatible=False\n",
    "\n",
    "####################################################################################################"
   ]
  },
  {
   "cell_type": "code",
   "execution_count": 14,
   "id": "441b0638",
   "metadata": {},
   "outputs": [],
   "source": [
    "# Call pydisort function\n",
    "mu_arr, flux_up, flux_down, u0, u = PythonicDISORT.pydisort(\n",
    "    tau_arr, omega_arr,\n",
    "    NQuad,\n",
    "    Leg_coeffs_all,\n",
    "    mu0, I0, phi0,\n",
    ")"
   ]
  },
  {
   "cell_type": "markdown",
   "id": "923b92a0",
   "metadata": {},
   "source": [
    "**Stamnes' DISORT**"
   ]
  },
  {
   "cell_type": "code",
   "execution_count": 15,
   "id": "785e784e",
   "metadata": {},
   "outputs": [],
   "source": [
    "# tau test points\n",
    "tau_test_arr = np.array([0, 0.03125])\n",
    "Ntau = len(tau_test_arr)"
   ]
  },
  {
   "cell_type": "code",
   "execution_count": 16,
   "id": "5c64fd85",
   "metadata": {
    "code_folding": []
   },
   "outputs": [],
   "source": [
    "# Stamnes' DISORT arguments\n",
    "nlyr = 1\n",
    "nmom = NQuad\n",
    "nstr = NQuad\n",
    "numu = NQuad\n",
    "nphi = Nphi\n",
    "ntau = Ntau\n",
    "usrang = True\n",
    "usrtau = True\n",
    "ibcnd = 0\n",
    "onlyfl = False\n",
    "prnt = np.array([False, False, False, False, False])  # Prints to CMD instead of this notebook\n",
    "plank = False\n",
    "lamber = True\n",
    "deltamplus = False\n",
    "do_pseudo_sphere = False\n",
    "dtauc = tau_arr\n",
    "ssalb = omega_arr\n",
    "pmom = Leg_coeffs_all.T\n",
    "temper = np.zeros(nlyr + 1)\n",
    "wvnmlo = 0\n",
    "wvnmhi = 0\n",
    "utau = tau_test_arr\n",
    "umu0 = mu0\n",
    "phi0 = phi0\n",
    "umu = mu_arr_RO\n",
    "phi = phi_arr\n",
    "fbeam = I0\n",
    "fisot = 0\n",
    "albedo = 0\n",
    "btemp = 0\n",
    "ttemp = 0\n",
    "temis = 0\n",
    "earth_radius = 6371\n",
    "h_lyr = np.zeros(nlyr + 1)\n",
    "rhoq = np.zeros((nstr // 2, nstr + 1, nstr))\n",
    "rhou = np.zeros((numu, nstr // 2 + 1, nstr))\n",
    "rho_accurate = np.zeros((numu, nphi))\n",
    "bemst = np.zeros(nstr // 2)\n",
    "emust = np.zeros(numu)\n",
    "accur = 0\n",
    "header = \"\"\n",
    "rfldir = np.zeros(ntau)\n",
    "rfldn = np.zeros(ntau)\n",
    "flup = np.zeros(ntau)\n",
    "dfdt = np.zeros(ntau)\n",
    "uavg = np.zeros(ntau)\n",
    "uu = np.zeros((numu, ntau, nphi))\n",
    "albmed = np.zeros(numu)\n",
    "trnmed = np.zeros(numu)"
   ]
  },
  {
   "cell_type": "code",
   "execution_count": 17,
   "id": "5ad6bd31",
   "metadata": {},
   "outputs": [],
   "source": [
    "if disort_is_installed:\n",
    "    # Run disort, putting DFDT, UAVG, and UU in a, b, and c, respectively\n",
    "    rfldir, rfldn, flup, dfdt, uavg, uu, albmed, trnmed = disort.disort(usrang, usrtau, ibcnd, onlyfl, prnt, plank, lamber, deltamplus, do_pseudo_sphere, dtauc, ssalb,\n",
    "                            pmom, temper, wvnmlo, wvnmhi, utau, umu0, phi0 * 180/pi, umu, phi * 180/pi, fbeam, fisot, albedo, btemp, ttemp,\n",
    "                            temis, earth_radius, h_lyr, rhoq, rhou, rho_accurate, bemst, emust, accur, header, rfldir,\n",
    "                            rfldn, flup, dfdt, uavg, uu, albmed, trnmed)\n",
    "    results = {\n",
    "        \"uu\": uu,\n",
    "        \"flup\": flup,\n",
    "        \"rfldn\": rfldn,\n",
    "        \"rfldir\": rfldir,\n",
    "        \"tau_test_arr\": tau_test_arr,\n",
    "        \"phi_arr\": phi_arr\n",
    "    }\n",
    "else:\n",
    "    # Load saved results from Stamnes' DISORT\n",
    "    results = np.load(\"Stamnes_results/1b_test.npz\")"
   ]
  },
  {
   "cell_type": "markdown",
   "id": "ea997022",
   "metadata": {},
   "source": [
    "**Comparisons**"
   ]
  },
  {
   "cell_type": "code",
   "execution_count": 18,
   "id": "3161d930",
   "metadata": {},
   "outputs": [
    {
     "name": "stdout",
     "output_type": "stream",
     "text": [
      "Max pointwise differences\n",
      "\n",
      "Upward (diffuse) fluxes\n",
      "Difference = 9.584928420297567e-05\n",
      "Difference ratio = 1.0000000036542924\n",
      "\n",
      "Downward (diffuse) fluxes\n",
      "Difference = 9.584426904297892e-05\n",
      "Difference ratio = 1.0000000025473699\n",
      "\n",
      "Direct (downward) fluxes\n",
      "Difference = 2.1294565577534286e-07\n",
      "Difference ratio = 9.264798488614142e-08\n",
      "\n",
      "Intensities\n",
      "\n",
      "At tau = 0.0\n",
      "Max pointwise difference = 1.7629263271867757e-05\n",
      "At tau = 0.0\n",
      "Max pointwise difference ratio = 0.00011486994899685668\n",
      "\n"
     ]
    }
   ],
   "source": [
    "(\n",
    "    diff_flux_up,\n",
    "    ratio_flux_up,\n",
    "    diff_flux_down_diffuse,\n",
    "    ratio_flux_down_diffuse,\n",
    "    diff_flux_down_direct,\n",
    "    ratio_flux_down_direct,\n",
    "    diff,\n",
    "    diff_ratio,\n",
    ") = _compare(results, mu_to_compare, reorder_mu, flux_up, flux_down, u)"
   ]
  },
  {
   "cell_type": "markdown",
   "id": "88544ef2",
   "metadata": {},
   "source": [
    "**Does the test pass?**"
   ]
  },
  {
   "cell_type": "code",
   "execution_count": 19,
   "id": "f385d558",
   "metadata": {},
   "outputs": [
    {
     "name": "stdout",
     "output_type": "stream",
     "text": [
      "The test passes\n"
     ]
    }
   ],
   "source": [
    "assert np.max(ratio_flux_up[diff_flux_up > 1e-3], initial=0) < 1e-3\n",
    "assert np.max(ratio_flux_down_diffuse[diff_flux_down_diffuse > 1e-3], initial=0) < 1e-3\n",
    "assert np.max(ratio_flux_down_direct[diff_flux_down_direct > 1e-3], initial=0) < 1e-3\n",
    "assert np.max(diff_ratio[diff > 1e-3], initial=0) < 1e-2\n",
    "\n",
    "'''np.savez_compressed (\n",
    "    \"Stamnes_results/1b_test\",\n",
    "    phi_arr=phi_arr,\n",
    "    tau_test_arr=tau_test_arr,\n",
    "    uu=uu,\n",
    "    flup=flup,\n",
    "    rfldn=rfldn,\n",
    "    rfldir=rfldir,\n",
    ")'''\n",
    "\n",
    "print(\"The test passes\")"
   ]
  },
  {
   "cell_type": "markdown",
   "id": "256e102a",
   "metadata": {},
   "source": [
    "**Plots**"
   ]
  },
  {
   "cell_type": "code",
   "execution_count": 20,
   "id": "df01f944",
   "metadata": {},
   "outputs": [],
   "source": [
    "Nphi_plot = int((NQuad * pi) // 2) * 2 + 1\n",
    "phi_arr_plot, full_weights_phi = PythonicDISORT.subroutines.Clenshaw_Curtis_quad(Nphi_plot)\n",
    "\n",
    "MU_ARR, PHI_ARR = np.meshgrid(phi_arr_plot, mu_arr[:NQuad // 2])"
   ]
  },
  {
   "cell_type": "code",
   "execution_count": 21,
   "id": "3bfa1d16",
   "metadata": {},
   "outputs": [
    {
     "data": {
      "text/plain": [
       "<matplotlib.legend.Legend at 0x21909902c90>"
      ]
     },
     "execution_count": 21,
     "metadata": {},
     "output_type": "execute_result"
    },
    {
     "data": {
      "image/png": "[encoded data removed]",
      "text/plain": [
       "<Figure size 900x600 with 2 Axes>"
      ]
     },
     "metadata": {},
     "output_type": "display_data"
    }
   ],
   "source": [
    "plot = u(0, phi_arr_plot)[:NQuad // 2]\n",
    "\n",
    "fig = plt.figure(figsize=(9, 6))\n",
    "_contourf = plt.contourf(MU_ARR, PHI_ARR, plot)\n",
    "plt.plot(phi0, mu0, \"o\", color=\"red\", label=\"Direct beam\")\n",
    "plt.xlabel(r\"$\\phi$\")\n",
    "plt.ylabel(r\"$\\mu$\")\n",
    "plt.colorbar(_contourf)\n",
    "plt.title(\n",
    "    \"Upward intensity field at top of atmosphere\"\n",
    ")\n",
    "plt.legend()"
   ]
  },
  {
   "cell_type": "markdown",
   "id": "a1325a30",
   "metadata": {},
   "source": [
    "-------"
   ]
  },
  {
   "cell_type": "markdown",
   "id": "5b1bc794",
   "metadata": {},
   "source": [
    "# 1c"
   ]
  },
  {
   "cell_type": "markdown",
   "id": "e54282cd",
   "metadata": {},
   "source": [
    "**PythonicDISORT**"
   ]
  },
  {
   "cell_type": "code",
   "execution_count": 22,
   "id": "b1a76c54",
   "metadata": {},
   "outputs": [],
   "source": [
    "######################################### PYDISORT ARGUMENTS #######################################\n",
    "\n",
    "tau_arr = 0.03125\n",
    "omega_arr = 0.99\n",
    "NQuad = 16\n",
    "Leg_coeffs_all = np.zeros(17)\n",
    "Leg_coeffs_all[0] = 1\n",
    "mu0 = 0.1\n",
    "I0 = pi / mu0\n",
    "phi0 = pi\n",
    "\n",
    "# Optional (used)\n",
    "\n",
    "# Optional (unused)\n",
    "NLeg=None\n",
    "NFourier=None\n",
    "b_pos=0\n",
    "b_neg=0\n",
    "only_flux=False\n",
    "f_arr=0\n",
    "NT_cor=False\n",
    "BDRF_Fourier_modes=[]\n",
    "s_poly_coeffs=np.array([[]])\n",
    "use_banded_solver_NLayers=10\n",
    "autograd_compatible=False\n",
    "\n",
    "####################################################################################################"
   ]
  },
  {
   "cell_type": "code",
   "execution_count": 23,
   "id": "6d68dac2",
   "metadata": {},
   "outputs": [],
   "source": [
    "# Call pydisort function\n",
    "mu_arr, flux_up, flux_down, u0, u = PythonicDISORT.pydisort(\n",
    "    tau_arr, omega_arr,\n",
    "    NQuad,\n",
    "    Leg_coeffs_all,\n",
    "    mu0, I0, phi0,\n",
    ")"
   ]
  },
  {
   "cell_type": "markdown",
   "id": "d451dd1f",
   "metadata": {},
   "source": [
    "**Stamnes' DISORT**"
   ]
  },
  {
   "cell_type": "code",
   "execution_count": 24,
   "id": "4ce5518c",
   "metadata": {},
   "outputs": [],
   "source": [
    "# tau test points\n",
    "tau_test_arr = np.array([0, 0.03125])\n",
    "Ntau = len(tau_test_arr)"
   ]
  },
  {
   "cell_type": "code",
   "execution_count": 25,
   "id": "e528dff1",
   "metadata": {
    "code_folding": []
   },
   "outputs": [],
   "source": [
    "# Stamnes' DISORT arguments\n",
    "nlyr = 1\n",
    "nmom = NQuad\n",
    "nstr = NQuad\n",
    "numu = NQuad\n",
    "nphi = Nphi\n",
    "ntau = Ntau\n",
    "usrang = True\n",
    "usrtau = True\n",
    "ibcnd = 0\n",
    "onlyfl = False\n",
    "prnt = np.array([False, False, False, False, False])  # Prints to CMD instead of this notebook\n",
    "plank = False\n",
    "lamber = True\n",
    "deltamplus = False\n",
    "do_pseudo_sphere = False\n",
    "dtauc = tau_arr\n",
    "ssalb = omega_arr\n",
    "pmom = Leg_coeffs_all.T\n",
    "temper = np.zeros(nlyr + 1)\n",
    "wvnmlo = 0\n",
    "wvnmhi = 0\n",
    "utau = tau_test_arr\n",
    "umu0 = mu0\n",
    "phi0 = phi0\n",
    "umu = mu_arr_RO\n",
    "phi = phi_arr\n",
    "fbeam = I0\n",
    "fisot = 0\n",
    "albedo = 0\n",
    "btemp = 0\n",
    "ttemp = 0\n",
    "temis = 0\n",
    "earth_radius = 6371\n",
    "h_lyr = np.zeros(nlyr + 1)\n",
    "rhoq = np.zeros((nstr // 2, nstr + 1, nstr))\n",
    "rhou = np.zeros((numu, nstr // 2 + 1, nstr))\n",
    "rho_accurate = np.zeros((numu, nphi))\n",
    "bemst = np.zeros(nstr // 2)\n",
    "emust = np.zeros(numu)\n",
    "accur = 0\n",
    "header = \"\"\n",
    "rfldir = np.zeros(ntau)\n",
    "rfldn = np.zeros(ntau)\n",
    "flup = np.zeros(ntau)\n",
    "dfdt = np.zeros(ntau)\n",
    "uavg = np.zeros(ntau)\n",
    "uu = np.zeros((numu, ntau, nphi))\n",
    "albmed = np.zeros(numu)\n",
    "trnmed = np.zeros(numu)"
   ]
  },
  {
   "cell_type": "code",
   "execution_count": 26,
   "id": "4ebaa414",
   "metadata": {},
   "outputs": [],
   "source": [
    "if disort_is_installed:\n",
    "    # Run disort, putting DFDT, UAVG, and UU in a, b, and c, respectively\n",
    "    rfldir, rfldn, flup, dfdt, uavg, uu, albmed, trnmed = disort.disort(usrang, usrtau, ibcnd, onlyfl, prnt, plank, lamber, deltamplus, do_pseudo_sphere, dtauc, ssalb,\n",
    "                            pmom, temper, wvnmlo, wvnmhi, utau, umu0, phi0 * 180/pi, umu, phi * 180/pi, fbeam, fisot, albedo, btemp, ttemp,\n",
    "                            temis, earth_radius, h_lyr, rhoq, rhou, rho_accurate, bemst, emust, accur, header, rfldir,\n",
    "                            rfldn, flup, dfdt, uavg, uu, albmed, trnmed)\n",
    "    results = {\n",
    "        \"uu\": uu,\n",
    "        \"flup\": flup,\n",
    "        \"rfldn\": rfldn,\n",
    "        \"rfldir\": rfldir,\n",
    "        \"tau_test_arr\": tau_test_arr,\n",
    "        \"phi_arr\": phi_arr\n",
    "    }\n",
    "else:\n",
    "    # Load saved results from Stamnes' DISORT\n",
    "    results = np.load(\"Stamnes_results/1c_test.npz\")"
   ]
  },
  {
   "cell_type": "markdown",
   "id": "020d4808",
   "metadata": {},
   "source": [
    "**Comparisons**"
   ]
  },
  {
   "cell_type": "code",
   "execution_count": 27,
   "id": "8283aeb7",
   "metadata": {},
   "outputs": [
    {
     "name": "stdout",
     "output_type": "stream",
     "text": [
      "Max pointwise differences\n",
      "\n",
      "Upward (diffuse) fluxes\n",
      "Difference = 3.59991539078397e-07\n",
      "Difference ratio = 0.9999999963309277\n",
      "\n",
      "Downward (diffuse) fluxes\n",
      "Difference = 4.951527421415136e-07\n",
      "Difference ratio = 1.1910542954052538e-06\n",
      "\n",
      "Direct (downward) fluxes\n",
      "Difference = 2.1294565577534286e-07\n",
      "Difference ratio = 9.264798488614142e-08\n",
      "\n",
      "Intensities\n",
      "\n",
      "At tau = 0.03125\n",
      "Max pointwise difference = 1.4695158209176995e-06\n",
      "At tau = 0.03125\n",
      "Max pointwise difference ratio = 2.4555039563885992e-06\n",
      "\n"
     ]
    }
   ],
   "source": [
    "(\n",
    "    diff_flux_up,\n",
    "    ratio_flux_up,\n",
    "    diff_flux_down_diffuse,\n",
    "    ratio_flux_down_diffuse,\n",
    "    diff_flux_down_direct,\n",
    "    ratio_flux_down_direct,\n",
    "    diff,\n",
    "    diff_ratio,\n",
    ") = _compare(results, mu_to_compare, reorder_mu, flux_up, flux_down, u)"
   ]
  },
  {
   "cell_type": "markdown",
   "id": "292a8965",
   "metadata": {},
   "source": [
    "**Does the test pass?**"
   ]
  },
  {
   "cell_type": "code",
   "execution_count": 28,
   "id": "44d45892",
   "metadata": {},
   "outputs": [
    {
     "name": "stdout",
     "output_type": "stream",
     "text": [
      "The test passes\n"
     ]
    }
   ],
   "source": [
    "assert np.max(ratio_flux_up[diff_flux_up > 1e-3], initial=0) < 1e-3\n",
    "assert np.max(ratio_flux_down_diffuse[diff_flux_down_diffuse > 1e-3], initial=0) < 1e-3\n",
    "assert np.max(ratio_flux_down_direct[diff_flux_down_direct > 1e-3], initial=0) < 1e-3\n",
    "assert np.max(diff_ratio[diff > 1e-3], initial=0) < 1e-2\n",
    "\n",
    "'''np.savez_compressed (\n",
    "    \"Stamnes_results/1c_test\",\n",
    "    phi_arr=phi_arr,\n",
    "    tau_test_arr=tau_test_arr,\n",
    "    uu=uu,\n",
    "    flup=flup,\n",
    "    rfldn=rfldn,\n",
    "    rfldir=rfldir,\n",
    ")'''\n",
    "\n",
    "print(\"The test passes\")"
   ]
  },
  {
   "cell_type": "markdown",
   "id": "93845bd1",
   "metadata": {},
   "source": [
    "**Plots**"
   ]
  },
  {
   "cell_type": "code",
   "execution_count": 29,
   "id": "710ac62b",
   "metadata": {},
   "outputs": [],
   "source": [
    "Nphi_plot = int((NQuad * pi) // 2) * 2 + 1\n",
    "phi_arr_plot, full_weights_phi = PythonicDISORT.subroutines.Clenshaw_Curtis_quad(Nphi_plot)\n",
    "\n",
    "MU_ARR, PHI_ARR = np.meshgrid(phi_arr_plot, mu_arr[:NQuad // 2])"
   ]
  },
  {
   "cell_type": "code",
   "execution_count": 30,
   "id": "ea8c2a2d",
   "metadata": {},
   "outputs": [
    {
     "data": {
      "text/plain": [
       "<matplotlib.legend.Legend at 0x21909de2dd0>"
      ]
     },
     "execution_count": 30,
     "metadata": {},
     "output_type": "execute_result"
    },
    {
     "data": {
      "image/png": "[encoded data removed]",
      "text/plain": [
       "<Figure size 900x600 with 2 Axes>"
      ]
     },
     "metadata": {},
     "output_type": "display_data"
    }
   ],
   "source": [
    "plot = u(0, phi_arr_plot)[:NQuad // 2]\n",
    "\n",
    "fig = plt.figure(figsize=(9, 6))\n",
    "_contourf = plt.contourf(MU_ARR, PHI_ARR, plot)\n",
    "plt.plot(phi0, mu0, \"o\", color=\"red\", label=\"Direct beam\")\n",
    "plt.xlabel(r\"$\\phi$\")\n",
    "plt.ylabel(r\"$\\mu$\")\n",
    "plt.colorbar(_contourf)\n",
    "plt.title(\n",
    "    \"Upward intensity field at top of atmosphere\"\n",
    ")\n",
    "plt.legend()"
   ]
  },
  {
   "cell_type": "markdown",
   "id": "9886278d",
   "metadata": {},
   "source": [
    "-------"
   ]
  },
  {
   "cell_type": "markdown",
   "id": "4e0ca9ca",
   "metadata": {},
   "source": [
    "# 1d"
   ]
  },
  {
   "cell_type": "markdown",
   "id": "6285f5af",
   "metadata": {},
   "source": [
    "**PythonicDISORT**"
   ]
  },
  {
   "cell_type": "code",
   "execution_count": 31,
   "id": "1e5f2d54",
   "metadata": {},
   "outputs": [],
   "source": [
    "######################################### PYDISORT ARGUMENTS #######################################\n",
    "\n",
    "tau_arr = 32\n",
    "omega_arr = 0.2\n",
    "NQuad = 16\n",
    "Leg_coeffs_all = np.zeros(17)\n",
    "Leg_coeffs_all[0] = 1\n",
    "mu0 = 0.1\n",
    "I0 = pi / mu0\n",
    "phi0 = pi\n",
    "\n",
    "# Optional (used)\n",
    "\n",
    "# Optional (unused)\n",
    "NLeg=None\n",
    "NFourier=None\n",
    "b_pos=0\n",
    "b_neg=0\n",
    "only_flux=False\n",
    "f_arr=0\n",
    "NT_cor=False\n",
    "BDRF_Fourier_modes=[]\n",
    "s_poly_coeffs=np.array([[]])\n",
    "use_banded_solver_NLayers=10\n",
    "autograd_compatible=False\n",
    "\n",
    "####################################################################################################"
   ]
  },
  {
   "cell_type": "code",
   "execution_count": 32,
   "id": "15e3bb13",
   "metadata": {},
   "outputs": [],
   "source": [
    "# Call pydisort function\n",
    "mu_arr, flux_up, flux_down, u0, u = PythonicDISORT.pydisort(\n",
    "    tau_arr, omega_arr,\n",
    "    NQuad,\n",
    "    Leg_coeffs_all,\n",
    "    mu0, I0, phi0,\n",
    ")"
   ]
  },
  {
   "cell_type": "markdown",
   "id": "1de0f082",
   "metadata": {},
   "source": [
    "**Stamnes' DISORT**"
   ]
  },
  {
   "cell_type": "code",
   "execution_count": 33,
   "id": "d56e3f14",
   "metadata": {},
   "outputs": [],
   "source": [
    "# tau test points\n",
    "tau_test_arr = np.array([0, 32])\n",
    "Ntau = len(tau_test_arr)"
   ]
  },
  {
   "cell_type": "code",
   "execution_count": 34,
   "id": "4adda5fe",
   "metadata": {
    "code_folding": []
   },
   "outputs": [],
   "source": [
    "# Stamnes' DISORT arguments\n",
    "nlyr = 1\n",
    "nmom = NQuad\n",
    "nstr = NQuad\n",
    "numu = NQuad\n",
    "nphi = Nphi\n",
    "ntau = Ntau\n",
    "usrang = True\n",
    "usrtau = True\n",
    "ibcnd = 0\n",
    "onlyfl = False\n",
    "prnt = np.array([False, False, False, False, False])  # Prints to CMD instead of this notebook\n",
    "plank = False\n",
    "lamber = True\n",
    "deltamplus = False\n",
    "do_pseudo_sphere = False\n",
    "dtauc = tau_arr\n",
    "ssalb = omega_arr\n",
    "pmom = Leg_coeffs_all.T\n",
    "temper = np.zeros(nlyr + 1)\n",
    "wvnmlo = 0\n",
    "wvnmhi = 0\n",
    "utau = tau_test_arr\n",
    "umu0 = mu0\n",
    "phi0 = phi0\n",
    "umu = mu_arr_RO\n",
    "phi = phi_arr\n",
    "fbeam = I0\n",
    "fisot = 0\n",
    "albedo = 0\n",
    "btemp = 0\n",
    "ttemp = 0\n",
    "temis = 0\n",
    "earth_radius = 6371\n",
    "h_lyr = np.zeros(nlyr + 1)\n",
    "rhoq = np.zeros((nstr // 2, nstr + 1, nstr))\n",
    "rhou = np.zeros((numu, nstr // 2 + 1, nstr))\n",
    "rho_accurate = np.zeros((numu, nphi))\n",
    "bemst = np.zeros(nstr // 2)\n",
    "emust = np.zeros(numu)\n",
    "accur = 0\n",
    "header = \"\"\n",
    "rfldir = np.zeros(ntau)\n",
    "rfldn = np.zeros(ntau)\n",
    "flup = np.zeros(ntau)\n",
    "dfdt = np.zeros(ntau)\n",
    "uavg = np.zeros(ntau)\n",
    "uu = np.zeros((numu, ntau, nphi))\n",
    "albmed = np.zeros(numu)\n",
    "trnmed = np.zeros(numu)"
   ]
  },
  {
   "cell_type": "code",
   "execution_count": 35,
   "id": "3f609dae",
   "metadata": {},
   "outputs": [],
   "source": [
    "if disort_is_installed:\n",
    "    # Run disort, putting DFDT, UAVG, and UU in a, b, and c, respectively\n",
    "    rfldir, rfldn, flup, dfdt, uavg, uu, albmed, trnmed = disort.disort(usrang, usrtau, ibcnd, onlyfl, prnt, plank, lamber, deltamplus, do_pseudo_sphere, dtauc, ssalb,\n",
    "                            pmom, temper, wvnmlo, wvnmhi, utau, umu0, phi0 * 180/pi, umu, phi * 180/pi, fbeam, fisot, albedo, btemp, ttemp,\n",
    "                            temis, earth_radius, h_lyr, rhoq, rhou, rho_accurate, bemst, emust, accur, header, rfldir,\n",
    "                            rfldn, flup, dfdt, uavg, uu, albmed, trnmed)\n",
    "    results = {\n",
    "        \"uu\": uu,\n",
    "        \"flup\": flup,\n",
    "        \"rfldn\": rfldn,\n",
    "        \"rfldir\": rfldir,\n",
    "        \"tau_test_arr\": tau_test_arr,\n",
    "        \"phi_arr\": phi_arr\n",
    "    }\n",
    "else:\n",
    "    # Load saved results from Stamnes' DISORT\n",
    "    results = np.load(\"Stamnes_results/1d_test.npz\")"
   ]
  },
  {
   "cell_type": "markdown",
   "id": "e791cd70",
   "metadata": {},
   "source": [
    "**Comparisons**"
   ]
  },
  {
   "cell_type": "code",
   "execution_count": 36,
   "id": "d64c0244",
   "metadata": {},
   "outputs": [
    {
     "name": "stdout",
     "output_type": "stream",
     "text": [
      "Max pointwise differences\n",
      "\n",
      "Upward (diffuse) fluxes\n",
      "Difference = 9.177695825535181e-09\n",
      "Difference ratio = 3.534147213738622e-08\n",
      "\n",
      "Downward (diffuse) fluxes\n",
      "Difference = 2.384185795375461e-07\n",
      "Difference ratio = 1.0000000018286477\n",
      "\n",
      "Direct (downward) fluxes\n",
      "Difference = 8.742278012618954e-08\n",
      "Difference ratio = 2.7827534417466256e-08\n",
      "\n",
      "Intensities\n",
      "\n",
      "At tau = 0\n",
      "Max pointwise difference = 2.227532713838798e-08\n",
      "At tau = 0\n",
      "Max pointwise difference ratio = 1.0377275011374847e-07\n",
      "\n"
     ]
    }
   ],
   "source": [
    "(\n",
    "    diff_flux_up,\n",
    "    ratio_flux_up,\n",
    "    diff_flux_down_diffuse,\n",
    "    ratio_flux_down_diffuse,\n",
    "    diff_flux_down_direct,\n",
    "    ratio_flux_down_direct,\n",
    "    diff,\n",
    "    diff_ratio,\n",
    ") = _compare(results, mu_to_compare, reorder_mu, flux_up, flux_down, u)"
   ]
  },
  {
   "cell_type": "markdown",
   "id": "ce18dc8b",
   "metadata": {},
   "source": [
    "**Does the test pass?**"
   ]
  },
  {
   "cell_type": "code",
   "execution_count": 37,
   "id": "e231f7f2",
   "metadata": {},
   "outputs": [
    {
     "name": "stdout",
     "output_type": "stream",
     "text": [
      "The test passes\n"
     ]
    }
   ],
   "source": [
    "assert np.max(ratio_flux_up[diff_flux_up > 1e-3], initial=0) < 1e-3\n",
    "assert np.max(ratio_flux_down_diffuse[diff_flux_down_diffuse > 1e-3], initial=0) < 1e-3\n",
    "assert np.max(ratio_flux_down_direct[diff_flux_down_direct > 1e-3], initial=0) < 1e-3\n",
    "assert np.max(diff_ratio[diff > 1e-3], initial=0) < 1e-2\n",
    "\n",
    "'''np.savez_compressed (\n",
    "    \"Stamnes_results/1d_test\",\n",
    "    phi_arr=phi_arr,\n",
    "    tau_test_arr=tau_test_arr,\n",
    "    uu=uu,\n",
    "    flup=flup,\n",
    "    rfldn=rfldn,\n",
    "    rfldir=rfldir,\n",
    ")'''\n",
    "\n",
    "print(\"The test passes\")"
   ]
  },
  {
   "cell_type": "markdown",
   "id": "7d514155",
   "metadata": {},
   "source": [
    "**Plots**"
   ]
  },
  {
   "cell_type": "code",
   "execution_count": 38,
   "id": "acc39e3f",
   "metadata": {},
   "outputs": [],
   "source": [
    "Nphi_plot = int((NQuad * pi) // 2) * 2 + 1\n",
    "phi_arr_plot, full_weights_phi = PythonicDISORT.subroutines.Clenshaw_Curtis_quad(Nphi_plot)\n",
    "\n",
    "MU_ARR, PHI_ARR = np.meshgrid(phi_arr_plot, mu_arr[:NQuad // 2])"
   ]
  },
  {
   "cell_type": "code",
   "execution_count": 39,
   "id": "facfaa8d",
   "metadata": {},
   "outputs": [
    {
     "data": {
      "text/plain": [
       "<matplotlib.legend.Legend at 0x21909e45390>"
      ]
     },
     "execution_count": 39,
     "metadata": {},
     "output_type": "execute_result"
    },
    {
     "data": {
      "image/png": "[encoded data removed]",
      "text/plain": [
       "<Figure size 900x600 with 2 Axes>"
      ]
     },
     "metadata": {},
     "output_type": "display_data"
    }
   ],
   "source": [
    "plot = u(0, phi_arr_plot)[:NQuad // 2]\n",
    "\n",
    "fig = plt.figure(figsize=(9, 6))\n",
    "_contourf = plt.contourf(MU_ARR, PHI_ARR, plot)\n",
    "plt.plot(phi0, mu0, \"o\", color=\"red\", label=\"Direct beam\")\n",
    "plt.xlabel(r\"$\\phi$\")\n",
    "plt.ylabel(r\"$\\mu$\")\n",
    "plt.colorbar(_contourf)\n",
    "plt.title(\n",
    "    \"Upward intensity field at top of atmosphere\"\n",
    ")\n",
    "plt.legend()"
   ]
  },
  {
   "cell_type": "markdown",
   "id": "1b961b59",
   "metadata": {},
   "source": [
    "-------"
   ]
  },
  {
   "cell_type": "markdown",
   "id": "27c0cb0b",
   "metadata": {},
   "source": [
    "# 1e"
   ]
  },
  {
   "cell_type": "markdown",
   "id": "d48f2bd8",
   "metadata": {},
   "source": [
    "**PythonicDISORT**"
   ]
  },
  {
   "cell_type": "code",
   "execution_count": 40,
   "id": "6c17fcbe",
   "metadata": {},
   "outputs": [],
   "source": [
    "######################################### PYDISORT ARGUMENTS #######################################\n",
    "\n",
    "tau_arr = 32\n",
    "omega_arr = 1 - 1e-6  # Reduced from 1 (conservative scattering) which is not implemented\n",
    "NQuad = 16\n",
    "Leg_coeffs_all = np.zeros(17)\n",
    "Leg_coeffs_all[0] = 1\n",
    "mu0 = 0.1\n",
    "I0 = pi / mu0\n",
    "phi0 = pi\n",
    "\n",
    "# Optional (used)\n",
    "\n",
    "# Optional (unused)\n",
    "NLeg=None\n",
    "NFourier=None\n",
    "b_pos=0\n",
    "b_neg=0\n",
    "only_flux=False\n",
    "f_arr=0\n",
    "NT_cor=False\n",
    "BDRF_Fourier_modes=[]\n",
    "s_poly_coeffs=np.array([[]])\n",
    "use_banded_solver_NLayers=10\n",
    "autograd_compatible=False\n",
    "\n",
    "####################################################################################################"
   ]
  },
  {
   "cell_type": "code",
   "execution_count": 41,
   "id": "445c1e3a",
   "metadata": {},
   "outputs": [],
   "source": [
    "# Call pydisort function\n",
    "mu_arr, flux_up, flux_down, u0, u = PythonicDISORT.pydisort(\n",
    "    tau_arr, omega_arr,\n",
    "    NQuad,\n",
    "    Leg_coeffs_all,\n",
    "    mu0, I0, phi0,\n",
    ")"
   ]
  },
  {
   "cell_type": "markdown",
   "id": "ea3a5ed9",
   "metadata": {},
   "source": [
    "**Stamnes' DISORT**"
   ]
  },
  {
   "cell_type": "code",
   "execution_count": 42,
   "id": "cf4dbfb1",
   "metadata": {},
   "outputs": [],
   "source": [
    "# tau test points\n",
    "tau_test_arr = np.array([0, 32])\n",
    "Ntau = len(tau_test_arr)"
   ]
  },
  {
   "cell_type": "code",
   "execution_count": 43,
   "id": "86b493bf",
   "metadata": {
    "code_folding": []
   },
   "outputs": [],
   "source": [
    "# Stamnes' DISORT arguments\n",
    "nlyr = 1\n",
    "nmom = NQuad\n",
    "nstr = NQuad\n",
    "numu = NQuad\n",
    "nphi = Nphi\n",
    "ntau = Ntau\n",
    "usrang = True\n",
    "usrtau = True\n",
    "ibcnd = 0\n",
    "onlyfl = False\n",
    "prnt = np.array([False, False, False, False, False])  # Prints to CMD instead of this notebook\n",
    "plank = False\n",
    "lamber = True\n",
    "deltamplus = False\n",
    "do_pseudo_sphere = False\n",
    "dtauc = tau_arr\n",
    "ssalb = omega_arr\n",
    "pmom = Leg_coeffs_all.T\n",
    "temper = np.zeros(nlyr + 1)\n",
    "wvnmlo = 0\n",
    "wvnmhi = 0\n",
    "utau = tau_test_arr\n",
    "umu0 = mu0\n",
    "phi0 = phi0\n",
    "umu = mu_arr_RO\n",
    "phi = phi_arr\n",
    "fbeam = I0\n",
    "fisot = 0\n",
    "albedo = 0\n",
    "btemp = 0\n",
    "ttemp = 0\n",
    "temis = 0\n",
    "earth_radius = 6371\n",
    "h_lyr = np.zeros(nlyr + 1)\n",
    "rhoq = np.zeros((nstr // 2, nstr + 1, nstr))\n",
    "rhou = np.zeros((numu, nstr // 2 + 1, nstr))\n",
    "rho_accurate = np.zeros((numu, nphi))\n",
    "bemst = np.zeros(nstr // 2)\n",
    "emust = np.zeros(numu)\n",
    "accur = 0\n",
    "header = \"\"\n",
    "rfldir = np.zeros(ntau)\n",
    "rfldn = np.zeros(ntau)\n",
    "flup = np.zeros(ntau)\n",
    "dfdt = np.zeros(ntau)\n",
    "uavg = np.zeros(ntau)\n",
    "uu = np.zeros((numu, ntau, nphi))\n",
    "albmed = np.zeros(numu)\n",
    "trnmed = np.zeros(numu)"
   ]
  },
  {
   "cell_type": "code",
   "execution_count": 44,
   "id": "a53807cc",
   "metadata": {},
   "outputs": [],
   "source": [
    "if disort_is_installed:\n",
    "    # Run disort, putting DFDT, UAVG, and UU in a, b, and c, respectively\n",
    "    rfldir, rfldn, flup, dfdt, uavg, uu, albmed, trnmed = disort.disort(usrang, usrtau, ibcnd, onlyfl, prnt, plank, lamber, deltamplus, do_pseudo_sphere, dtauc, ssalb,\n",
    "                            pmom, temper, wvnmlo, wvnmhi, utau, umu0, phi0 * 180/pi, umu, phi * 180/pi, fbeam, fisot, albedo, btemp, ttemp,\n",
    "                            temis, earth_radius, h_lyr, rhoq, rhou, rho_accurate, bemst, emust, accur, header, rfldir,\n",
    "                            rfldn, flup, dfdt, uavg, uu, albmed, trnmed)\n",
    "    results = {\n",
    "        \"uu\": uu,\n",
    "        \"flup\": flup,\n",
    "        \"rfldn\": rfldn,\n",
    "        \"rfldir\": rfldir,\n",
    "        \"tau_test_arr\": tau_test_arr,\n",
    "        \"phi_arr\": phi_arr\n",
    "    }\n",
    "else:\n",
    "    # Load saved results from Stamnes' DISORT\n",
    "    results = np.load(\"Stamnes_results/1e_test.npz\")"
   ]
  },
  {
   "cell_type": "markdown",
   "id": "da5396ba",
   "metadata": {},
   "source": [
    "**Comparisons**"
   ]
  },
  {
   "cell_type": "code",
   "execution_count": 45,
   "id": "cab1023e",
   "metadata": {},
   "outputs": [
    {
     "name": "stdout",
     "output_type": "stream",
     "text": [
      "Max pointwise differences\n",
      "\n",
      "Upward (diffuse) fluxes\n",
      "Difference = 5.5710055160140826e-06\n",
      "Difference ratio = 1.812406503540574e-06\n",
      "\n",
      "Downward (diffuse) fluxes\n",
      "Difference = 1.460565357144783e-06\n",
      "Difference ratio = 2.158806903330425e-05\n",
      "\n",
      "Direct (downward) fluxes\n",
      "Difference = 8.742278012618954e-08\n",
      "Difference ratio = 2.7827534417466256e-08\n",
      "\n",
      "Intensities\n",
      "\n",
      "At tau = 0\n",
      "Max pointwise difference = 2.4804170175585227e-06\n",
      "At tau = 32\n",
      "Max pointwise difference ratio = 8.317010150984958e-05\n",
      "\n"
     ]
    }
   ],
   "source": [
    "(\n",
    "    diff_flux_up,\n",
    "    ratio_flux_up,\n",
    "    diff_flux_down_diffuse,\n",
    "    ratio_flux_down_diffuse,\n",
    "    diff_flux_down_direct,\n",
    "    ratio_flux_down_direct,\n",
    "    diff,\n",
    "    diff_ratio,\n",
    ") = _compare(results, mu_to_compare, reorder_mu, flux_up, flux_down, u)"
   ]
  },
  {
   "cell_type": "markdown",
   "id": "7bb3b332",
   "metadata": {},
   "source": [
    "**Does the test pass?**"
   ]
  },
  {
   "cell_type": "code",
   "execution_count": 46,
   "id": "bfa8c3a3",
   "metadata": {},
   "outputs": [
    {
     "name": "stdout",
     "output_type": "stream",
     "text": [
      "The test passes\n"
     ]
    }
   ],
   "source": [
    "assert np.max(ratio_flux_up[diff_flux_up > 1e-3], initial=0) < 1e-3\n",
    "assert np.max(ratio_flux_down_diffuse[diff_flux_down_diffuse > 1e-3], initial=0) < 1e-3\n",
    "assert np.max(ratio_flux_down_direct[diff_flux_down_direct > 1e-3], initial=0) < 1e-3\n",
    "assert np.max(diff_ratio[diff > 1e-3], initial=0) < 1e-2\n",
    "\n",
    "'''np.savez_compressed (\n",
    "    \"Stamnes_results/1e_test\",\n",
    "    phi_arr=phi_arr,\n",
    "    tau_test_arr=tau_test_arr,\n",
    "    uu=uu,\n",
    "    flup=flup,\n",
    "    rfldn=rfldn,\n",
    "    rfldir=rfldir,\n",
    ")\n",
    "'''\n",
    "print(\"The test passes\")"
   ]
  },
  {
   "cell_type": "markdown",
   "id": "0eecb123",
   "metadata": {},
   "source": [
    "**Plots**"
   ]
  },
  {
   "cell_type": "code",
   "execution_count": 47,
   "id": "11327a14",
   "metadata": {},
   "outputs": [],
   "source": [
    "Nphi_plot = int((NQuad * pi) // 2) * 2 + 1\n",
    "phi_arr_plot, full_weights_phi = PythonicDISORT.subroutines.Clenshaw_Curtis_quad(Nphi_plot)\n",
    "\n",
    "MU_ARR, PHI_ARR = np.meshgrid(phi_arr_plot, mu_arr[:NQuad // 2])"
   ]
  },
  {
   "cell_type": "code",
   "execution_count": 48,
   "id": "7b88958c",
   "metadata": {},
   "outputs": [
    {
     "data": {
      "text/plain": [
       "<matplotlib.legend.Legend at 0x2190a3273d0>"
      ]
     },
     "execution_count": 48,
     "metadata": {},
     "output_type": "execute_result"
    },
    {
     "data": {
      "image/png": "[encoded data removed]",
      "text/plain": [
       "<Figure size 900x600 with 2 Axes>"
      ]
     },
     "metadata": {},
     "output_type": "display_data"
    }
   ],
   "source": [
    "plot = u(0, phi_arr_plot)[:NQuad // 2]\n",
    "\n",
    "fig = plt.figure(figsize=(9, 6))\n",
    "_contourf = plt.contourf(MU_ARR, PHI_ARR, plot)\n",
    "plt.plot(phi0, mu0, \"o\", color=\"red\", label=\"Direct beam\")\n",
    "plt.xlabel(r\"$\\phi$\")\n",
    "plt.ylabel(r\"$\\mu$\")\n",
    "plt.colorbar(_contourf)\n",
    "plt.title(\n",
    "    \"Upward intensity field at top of atmosphere\"\n",
    ")\n",
    "plt.legend()"
   ]
  },
  {
   "cell_type": "markdown",
   "id": "fe5aeb7d",
   "metadata": {},
   "source": [
    "-------"
   ]
  },
  {
   "cell_type": "markdown",
   "id": "d8f8f8c2",
   "metadata": {},
   "source": [
    "# 1f"
   ]
  },
  {
   "cell_type": "markdown",
   "id": "0d34b27f",
   "metadata": {},
   "source": [
    "**PythonicDISORT**"
   ]
  },
  {
   "cell_type": "code",
   "execution_count": 49,
   "id": "adc03a15",
   "metadata": {},
   "outputs": [],
   "source": [
    "######################################### PYDISORT ARGUMENTS #######################################\n",
    "\n",
    "tau_arr = 32\n",
    "omega_arr = 0.99\n",
    "NQuad = 16\n",
    "Leg_coeffs_all = np.zeros(17)\n",
    "Leg_coeffs_all[0] = 1\n",
    "mu0 = 0.1\n",
    "I0 = pi / mu0\n",
    "phi0 = pi\n",
    "\n",
    "# Optional (used)\n",
    "\n",
    "# Optional (unused)\n",
    "NLeg=None\n",
    "NFourier=None\n",
    "b_pos=0\n",
    "b_neg=0\n",
    "only_flux=False\n",
    "f_arr=0\n",
    "NT_cor=False\n",
    "BDRF_Fourier_modes=[]\n",
    "s_poly_coeffs=np.array([[]])\n",
    "use_banded_solver_NLayers=10\n",
    "autograd_compatible=False\n",
    "\n",
    "####################################################################################################"
   ]
  },
  {
   "cell_type": "code",
   "execution_count": 50,
   "id": "b2441ca4",
   "metadata": {},
   "outputs": [],
   "source": [
    "# Call pydisort function\n",
    "mu_arr, flux_up, flux_down, u0, u = PythonicDISORT.pydisort(\n",
    "    tau_arr, omega_arr,\n",
    "    NQuad,\n",
    "    Leg_coeffs_all,\n",
    "    mu0, I0, phi0,\n",
    ")"
   ]
  },
  {
   "cell_type": "markdown",
   "id": "9130c74c",
   "metadata": {},
   "source": [
    "**Stamnes' DISORT**"
   ]
  },
  {
   "cell_type": "code",
   "execution_count": 51,
   "id": "6f8d3b72",
   "metadata": {},
   "outputs": [],
   "source": [
    "# tau test points\n",
    "tau_test_arr = np.array([0, 32])\n",
    "Ntau = len(tau_test_arr)"
   ]
  },
  {
   "cell_type": "code",
   "execution_count": 52,
   "id": "8c848bc7",
   "metadata": {
    "code_folding": []
   },
   "outputs": [],
   "source": [
    "# Stamnes' DISORT arguments\n",
    "nlyr = 1\n",
    "nmom = NQuad\n",
    "nstr = NQuad\n",
    "numu = NQuad\n",
    "nphi = Nphi\n",
    "ntau = Ntau\n",
    "usrang = True\n",
    "usrtau = True\n",
    "ibcnd = 0\n",
    "onlyfl = False\n",
    "prnt = np.array([False, False, False, False, False])  # Prints to CMD instead of this notebook\n",
    "plank = False\n",
    "lamber = True\n",
    "deltamplus = False\n",
    "do_pseudo_sphere = False\n",
    "dtauc = tau_arr\n",
    "ssalb = omega_arr\n",
    "pmom = Leg_coeffs_all.T\n",
    "temper = np.zeros(nlyr + 1)\n",
    "wvnmlo = 0\n",
    "wvnmhi = 0\n",
    "utau = tau_test_arr\n",
    "umu0 = mu0\n",
    "phi0 = phi0\n",
    "umu = mu_arr_RO\n",
    "phi = phi_arr\n",
    "fbeam = I0\n",
    "fisot = 0\n",
    "albedo = 0\n",
    "btemp = 0\n",
    "ttemp = 0\n",
    "temis = 0\n",
    "earth_radius = 6371\n",
    "h_lyr = np.zeros(nlyr + 1)\n",
    "rhoq = np.zeros((nstr // 2, nstr + 1, nstr))\n",
    "rhou = np.zeros((numu, nstr // 2 + 1, nstr))\n",
    "rho_accurate = np.zeros((numu, nphi))\n",
    "bemst = np.zeros(nstr // 2)\n",
    "emust = np.zeros(numu)\n",
    "accur = 0\n",
    "header = \"\"\n",
    "rfldir = np.zeros(ntau)\n",
    "rfldn = np.zeros(ntau)\n",
    "flup = np.zeros(ntau)\n",
    "dfdt = np.zeros(ntau)\n",
    "uavg = np.zeros(ntau)\n",
    "uu = np.zeros((numu, ntau, nphi))\n",
    "albmed = np.zeros(numu)\n",
    "trnmed = np.zeros(numu)"
   ]
  },
  {
   "cell_type": "code",
   "execution_count": 53,
   "id": "835ced53",
   "metadata": {},
   "outputs": [],
   "source": [
    "if disort_is_installed:\n",
    "    # Run disort, putting DFDT, UAVG, and UU in a, b, and c, respectively\n",
    "    rfldir, rfldn, flup, dfdt, uavg, uu, albmed, trnmed = disort.disort(usrang, usrtau, ibcnd, onlyfl, prnt, plank, lamber, deltamplus, do_pseudo_sphere, dtauc, ssalb,\n",
    "                            pmom, temper, wvnmlo, wvnmhi, utau, umu0, phi0 * 180/pi, umu, phi * 180/pi, fbeam, fisot, albedo, btemp, ttemp,\n",
    "                            temis, earth_radius, h_lyr, rhoq, rhou, rho_accurate, bemst, emust, accur, header, rfldir,\n",
    "                            rfldn, flup, dfdt, uavg, uu, albmed, trnmed)\n",
    "    results = {\n",
    "        \"uu\": uu,\n",
    "        \"flup\": flup,\n",
    "        \"rfldn\": rfldn,\n",
    "        \"rfldir\": rfldir,\n",
    "        \"tau_test_arr\": tau_test_arr,\n",
    "        \"phi_arr\": phi_arr\n",
    "    }\n",
    "else:\n",
    "    # Load saved results from Stamnes' DISORT\n",
    "    results = np.load(\"Stamnes_results/1f_test.npz\")"
   ]
  },
  {
   "cell_type": "markdown",
   "id": "cbe384a5",
   "metadata": {},
   "source": [
    "**Comparisons**"
   ]
  },
  {
   "cell_type": "code",
   "execution_count": 54,
   "id": "9b6748fc",
   "metadata": {},
   "outputs": [
    {
     "name": "stdout",
     "output_type": "stream",
     "text": [
      "Max pointwise differences\n",
      "\n",
      "Upward (diffuse) fluxes\n",
      "Difference = 4.2272282163580144e-07\n",
      "Difference ratio = 1.5333933030934691e-07\n",
      "\n",
      "Downward (diffuse) fluxes\n",
      "Difference = 2.384185791015625e-07\n",
      "Difference ratio = 1.0\n",
      "\n",
      "Direct (downward) fluxes\n",
      "Difference = 8.742278012618954e-08\n",
      "Difference ratio = 2.7827534417466256e-08\n",
      "\n",
      "Intensities\n",
      "\n",
      "At tau = 0\n",
      "Max pointwise difference = 5.523037964749733e-07\n",
      "At tau = 32\n",
      "Max pointwise difference ratio = 9.106947762695392e-06\n",
      "\n"
     ]
    }
   ],
   "source": [
    "(\n",
    "    diff_flux_up,\n",
    "    ratio_flux_up,\n",
    "    diff_flux_down_diffuse,\n",
    "    ratio_flux_down_diffuse,\n",
    "    diff_flux_down_direct,\n",
    "    ratio_flux_down_direct,\n",
    "    diff,\n",
    "    diff_ratio,\n",
    ") = _compare(results, mu_to_compare, reorder_mu, flux_up, flux_down, u)"
   ]
  },
  {
   "cell_type": "markdown",
   "id": "4dec7d6c",
   "metadata": {},
   "source": [
    "**Does the test pass?**"
   ]
  },
  {
   "cell_type": "code",
   "execution_count": 55,
   "id": "4acf4416",
   "metadata": {},
   "outputs": [
    {
     "name": "stdout",
     "output_type": "stream",
     "text": [
      "The test passes\n"
     ]
    }
   ],
   "source": [
    "assert np.max(ratio_flux_up[diff_flux_up > 1e-3], initial=0) < 1e-3\n",
    "assert np.max(ratio_flux_down_diffuse[diff_flux_down_diffuse > 1e-3], initial=0) < 1e-3\n",
    "assert np.max(ratio_flux_down_direct[diff_flux_down_direct > 1e-3], initial=0) < 1e-3\n",
    "assert np.max(diff_ratio[diff > 1e-3], initial=0) < 1e-2\n",
    "\n",
    "'''np.savez_compressed (\n",
    "    \"Stamnes_results/1f_test\",\n",
    "    phi_arr=phi_arr,\n",
    "    tau_test_arr=tau_test_arr,\n",
    "    uu=uu,\n",
    "    flup=flup,\n",
    "    rfldn=rfldn,\n",
    "    rfldir=rfldir,\n",
    ")'''\n",
    "\n",
    "print(\"The test passes\")"
   ]
  },
  {
   "cell_type": "markdown",
   "id": "fc750a79",
   "metadata": {},
   "source": [
    "**Plots**"
   ]
  },
  {
   "cell_type": "code",
   "execution_count": 56,
   "id": "b5d06fd7",
   "metadata": {},
   "outputs": [],
   "source": [
    "Nphi_plot = int((NQuad * pi) // 2) * 2 + 1\n",
    "phi_arr_plot, full_weights_phi = PythonicDISORT.subroutines.Clenshaw_Curtis_quad(Nphi_plot)\n",
    "\n",
    "MU_ARR, PHI_ARR = np.meshgrid(phi_arr_plot, mu_arr[:NQuad // 2])"
   ]
  },
  {
   "cell_type": "code",
   "execution_count": 57,
   "id": "327acb06",
   "metadata": {},
   "outputs": [
    {
     "data": {
      "text/plain": [
       "<matplotlib.legend.Legend at 0x2190a3275d0>"
      ]
     },
     "execution_count": 57,
     "metadata": {},
     "output_type": "execute_result"
    },
    {
     "data": {
      "image/png": "[encoded data removed]",
      "text/plain": [
       "<Figure size 900x600 with 2 Axes>"
      ]
     },
     "metadata": {},
     "output_type": "display_data"
    }
   ],
   "source": [
    "plot = u(0, phi_arr_plot)[:NQuad // 2]\n",
    "\n",
    "fig = plt.figure(figsize=(9, 6))\n",
    "_contourf = plt.contourf(MU_ARR, PHI_ARR, plot)\n",
    "plt.plot(phi0, mu0, \"o\", color=\"red\", label=\"Direct beam\")\n",
    "plt.xlabel(r\"$\\phi$\")\n",
    "plt.ylabel(r\"$\\mu$\")\n",
    "plt.colorbar(_contourf)\n",
    "plt.title(\n",
    "    \"Upward intensity field at top of atmosphere\"\n",
    ")\n",
    "plt.legend()"
   ]
  },
  {
   "cell_type": "markdown",
   "id": "f61002f2",
   "metadata": {},
   "source": [
    "-------"
   ]
  }
 ],
 "metadata": {
  "hide_input": false,
  "kernelspec": {
   "display_name": "Python 3 (ipykernel)",
   "language": "python",
   "name": "python3"
  },
  "language_info": {
   "codemirror_mode": {
    "name": "ipython",
    "version": 3
   },
   "file_extension": ".py",
   "mimetype": "text/x-python",
   "name": "python",
   "nbconvert_exporter": "python",
   "pygments_lexer": "ipython3",
   "version": "3.11.8"
  }
 },
 "nbformat": 4,
 "nbformat_minor": 5
}
