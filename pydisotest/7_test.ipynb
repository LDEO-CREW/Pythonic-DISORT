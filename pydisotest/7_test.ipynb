{
 "cells": [
  {
   "cell_type": "code",
   "execution_count": 1,
   "id": "b2925dfb",
   "metadata": {},
   "outputs": [],
   "source": [
    "import PythonicDISORT\n",
    "from PythonicDISORT.subroutines import _compare\n",
    "import numpy as np\n",
    "import matplotlib.pyplot as plt\n",
    "import matplotlib as mpl\n",
    "from math import pi\n",
    "\n",
    "import scipy as sc\n",
    "from scipy import constants"
   ]
  },
  {
   "cell_type": "markdown",
   "id": "93d0cdc0",
   "metadata": {},
   "source": [
    "Previously saved reference solutions will be loaded if F2PY-wrapped Stamnes' DISORT is unavailable."
   ]
  },
  {
   "cell_type": "code",
   "execution_count": 2,
   "id": "dbacba8b",
   "metadata": {},
   "outputs": [
    {
     "name": "stdout",
     "output_type": "stream",
     "text": [
      "Stamnes' DISORT imported.\n"
     ]
    }
   ],
   "source": [
    "disort_is_installed = True\n",
    "try:\n",
    "    import disort\n",
    "    print(\"Stamnes' DISORT imported.\")\n",
    "except ImportError:\n",
    "    disort_is_installed = False\n",
    "    print(\"Stamnes' DISORT unavailable. Cached results will be used.\")"
   ]
  },
  {
   "cell_type": "markdown",
   "id": "554bd5dd",
   "metadata": {},
   "source": [
    "# Table of Contents\n",
    "* [7a and setup](#7a-and-setup)\n",
    "* [7b](#7b)\n",
    "* [7c and new setup](#7c-and-new-setup)\n",
    "* [7d](#7d)\n",
    "* [7e](#7e)\n"
   ]
  },
  {
   "cell_type": "markdown",
   "id": "8991c0c6",
   "metadata": {},
   "source": [
    "# Test Problem 7:  Absorption + Scattering + All Possible Sources, Lambertian and Hapke Surface Reflectivities (One Layer)"
   ]
  },
  {
   "cell_type": "markdown",
   "id": "ad3c6ef4",
   "metadata": {},
   "source": [
    "These problems thoroughly test our single-layer solver. Results for 7a, b can be compared to Table I of Kylling, A. and K. Stamnes, 1992: Efficient yet accurate solution of the linear transport equation in the presence of internal sources: The exponential-linear-in-depth approximation, *J. Comp. Phys., 102(2)*, 265-276. The intensity field of the upwelling radiation, which can be compared to satellite measurements, is plotted for each subproblem."
   ]
  },
  {
   "cell_type": "markdown",
   "id": "6b15a310",
   "metadata": {},
   "source": [
    "# 7a and setup"
   ]
  },
  {
   "cell_type": "markdown",
   "id": "2b9dcc79-9399-4fef-a108-b5ace236e2c7",
   "metadata": {},
   "source": [
    "Internal blackbody emission and low scattering."
   ]
  },
  {
   "cell_type": "markdown",
   "id": "02881e0a",
   "metadata": {},
   "source": [
    "**PythonicDISORT**"
   ]
  },
  {
   "cell_type": "code",
   "execution_count": 3,
   "id": "c33a8537",
   "metadata": {},
   "outputs": [],
   "source": [
    "from PythonicDISORT.subroutines import generate_s_poly_coeffs"
   ]
  },
  {
   "cell_type": "code",
   "execution_count": 4,
   "id": "eaeaf144",
   "metadata": {},
   "outputs": [],
   "source": [
    "######################################### PYDISORT ARGUMENTS #######################################\n",
    "\n",
    "tau_arr = 1  # One layer of thickness 1 (medium-thick atmosphere)\n",
    "omega_arr = 0.1  # Very low scattering\n",
    "NQuad = 16  # 16 streams (8 quadrature nodes for each hemisphere)\n",
    "Leg_coeffs_all = 0.05 ** np.arange(NQuad + 1) # Henyey-Greenstein phase function with g = 0.05\n",
    "mu0 = 0  # No direct beam\n",
    "I0 = 0  # No direct beam\n",
    "phi0 = 0  # No direct beam\n",
    "\n",
    "# Optional (used)\n",
    "TEMPER = np.array([200, 300])\n",
    "WVNMLO = 300\n",
    "WVNMHI = 800\n",
    "# Emissivity is (1 - omega_arr) by Kirchoff's law of thermal radiation\n",
    "s_poly_coeffs=generate_s_poly_coeffs(tau_arr, TEMPER, WVNMLO, WVNMHI) * (1 - omega_arr)\n",
    "\n",
    "# Optional (unused)\n",
    "NLeg = None\n",
    "NFourier = None\n",
    "b_pos = 0\n",
    "b_neg = 0\n",
    "only_flux = False\n",
    "f_arr = 0\n",
    "NT_cor = False\n",
    "BDRF_Fourier_modes = []\n",
    "use_banded_solver_NLayers = 10\n",
    "autograd_compatible=False\n",
    "\n",
    "####################################################################################################"
   ]
  },
  {
   "cell_type": "code",
   "execution_count": 5,
   "id": "e21756a3",
   "metadata": {},
   "outputs": [],
   "source": [
    "# Call pydisort function\n",
    "mu_arr, flux_up, flux_down, u0, u = PythonicDISORT.pydisort(\n",
    "    tau_arr, omega_arr,\n",
    "    NQuad,\n",
    "    Leg_coeffs_all,\n",
    "    mu0, I0, phi0,\n",
    "    s_poly_coeffs=s_poly_coeffs,\n",
    ")"
   ]
  },
  {
   "cell_type": "markdown",
   "id": "659da73a",
   "metadata": {},
   "source": [
    "**Setup for tests**"
   ]
  },
  {
   "cell_type": "code",
   "execution_count": 6,
   "id": "cf7b5e45",
   "metadata": {},
   "outputs": [],
   "source": [
    "# Reorder mu_arr from smallest to largest\n",
    "reorder_mu = np.argsort(mu_arr)\n",
    "mu_arr_RO = mu_arr[reorder_mu]\n",
    "\n",
    "# We may not want to compare intensities around the direct beam\n",
    "deg_around_beam_to_not_compare = 0\n",
    "mu_to_compare = (\n",
    "    np.abs(np.arccos(np.abs(mu_arr_RO)) - np.arccos(mu0)) * 180 / pi\n",
    "    > deg_around_beam_to_not_compare\n",
    ")\n",
    "mu_test_arr_RO = mu_arr_RO[mu_to_compare]"
   ]
  },
  {
   "cell_type": "code",
   "execution_count": 7,
   "id": "7b8801dc",
   "metadata": {},
   "outputs": [],
   "source": [
    "# Number of phi grid points\n",
    "Nphi = 2\n",
    "phi_arr = np.random.random(Nphi) * 2 * pi\n",
    "\n",
    "# tau test points\n",
    "tau_test_arr = np.array([0, 1])\n",
    "Ntau = len(tau_test_arr)"
   ]
  },
  {
   "cell_type": "markdown",
   "id": "5a7fefca",
   "metadata": {},
   "source": [
    "**Stamnes' DISORT**"
   ]
  },
  {
   "cell_type": "code",
   "execution_count": 8,
   "id": "1bf8a9d2",
   "metadata": {},
   "outputs": [],
   "source": [
    "# Stamnes' DISORT arguments\n",
    "nlyr = 1\n",
    "nmom = NQuad\n",
    "nstr = NQuad\n",
    "numu = NQuad\n",
    "nphi = Nphi\n",
    "ntau = Ntau\n",
    "usrang = True\n",
    "usrtau = True\n",
    "ibcnd = 0\n",
    "onlyfl = False\n",
    "prnt = np.array([False, False, False, False, False])  # Prints to CMD instead of this notebook\n",
    "plank = True\n",
    "lamber = False\n",
    "deltamplus = False\n",
    "do_pseudo_sphere = False\n",
    "dtauc = tau_arr\n",
    "ssalb = omega_arr\n",
    "pmom = Leg_coeffs_all.T\n",
    "temper = TEMPER\n",
    "wvnmlo = WVNMLO\n",
    "wvnmhi = WVNMHI\n",
    "utau = tau_test_arr\n",
    "umu0 = mu0\n",
    "phi0 = phi0\n",
    "umu = mu_arr_RO\n",
    "phi = phi_arr\n",
    "fbeam = I0\n",
    "fisot = 0\n",
    "albedo = 0\n",
    "btemp = 0\n",
    "ttemp = 0\n",
    "temis = 0\n",
    "earth_radius = 6371\n",
    "h_lyr = np.zeros(nlyr + 1)\n",
    "rhoq = np.zeros((nstr // 2, nstr + 1, nstr))\n",
    "rhou = np.zeros((numu, nstr // 2 + 1, nstr))\n",
    "rho_accurate = np.zeros((numu, nphi))\n",
    "bemst = np.zeros(nstr // 2)\n",
    "emust = np.zeros(numu)\n",
    "accur = 0\n",
    "header = \"\"\n",
    "rfldir = np.zeros(ntau)\n",
    "rfldn = np.zeros(ntau)\n",
    "flup = np.zeros(ntau)\n",
    "dfdt = np.zeros(ntau)\n",
    "uavg = np.zeros(ntau)\n",
    "uu = np.zeros((numu, ntau, nphi))\n",
    "albmed = np.zeros(numu)\n",
    "trnmed = np.zeros(numu)"
   ]
  },
  {
   "cell_type": "code",
   "execution_count": 9,
   "id": "795dd2ef",
   "metadata": {},
   "outputs": [],
   "source": [
    "if disort_is_installed:\n",
    "    # Run disort, putting DFDT, UAVG, and UU in a, b, and c, respectively\n",
    "    rfldir, rfldn, flup, dfdt, uavg, uu, albmed, trnmed = disort.disort(usrang, usrtau, ibcnd, onlyfl, prnt, plank, lamber, deltamplus, do_pseudo_sphere, dtauc, ssalb,\n",
    "                            pmom, temper, wvnmlo, wvnmhi, utau, umu0, phi0 * 180/pi, umu, phi * 180/pi, fbeam, fisot, albedo, btemp, ttemp,\n",
    "                            temis, earth_radius, h_lyr, rhoq, rhou, rho_accurate, bemst, emust, accur, header, rfldir,\n",
    "                            rfldn, flup, dfdt, uavg, uu, albmed, trnmed)\n",
    "    results = {\n",
    "        \"uu\": uu,\n",
    "        \"flup\": flup,\n",
    "        \"rfldn\": rfldn,\n",
    "        \"rfldir\": rfldir,\n",
    "        \"tau_test_arr\": tau_test_arr,\n",
    "        \"phi_arr\": phi_arr\n",
    "    }\n",
    "else:\n",
    "    # Load saved results from Stamnes' DISORT\n",
    "    results = np.load(\"Stamnes_results/7a_test.npz\")"
   ]
  },
  {
   "cell_type": "markdown",
   "id": "06841963",
   "metadata": {},
   "source": [
    "**Comparisons**"
   ]
  },
  {
   "cell_type": "code",
   "execution_count": 10,
   "id": "b06865bd",
   "metadata": {},
   "outputs": [
    {
     "name": "stdout",
     "output_type": "stream",
     "text": [
      "Max pointwise differences\n",
      "\n",
      "Upward (diffuse) fluxes\n",
      "Difference = 0.0003609140789819776\n",
      "Difference ratio = 1.000000042482824\n",
      "\n",
      "Downward (diffuse) fluxes\n",
      "Difference = 0.00037085277658377436\n",
      "Difference ratio = 1.0000000007308605\n",
      "\n",
      "Direct (downward) fluxes\n",
      "Difference = 0.0\n",
      "Difference ratio = 0.0\n",
      "\n",
      "Intensities\n",
      "\n",
      "At tau = 1\n",
      "Max pointwise difference = 0.0001506712594050441\n",
      "At tau = 0\n",
      "Max pointwise difference ratio = 7.523099342785171e-06\n",
      "\n"
     ]
    }
   ],
   "source": [
    "(\n",
    "    diff_flux_up,\n",
    "    ratio_flux_up,\n",
    "    diff_flux_down_diffuse,\n",
    "    ratio_flux_down_diffuse,\n",
    "    diff_flux_down_direct,\n",
    "    ratio_flux_down_direct,\n",
    "    diff,\n",
    "    diff_ratio,\n",
    ") = _compare(results, mu_to_compare, reorder_mu, flux_up, flux_down, u)"
   ]
  },
  {
   "cell_type": "markdown",
   "id": "64634b9b",
   "metadata": {},
   "source": [
    "**Does the test pass?**"
   ]
  },
  {
   "cell_type": "code",
   "execution_count": 11,
   "id": "e3b31888",
   "metadata": {},
   "outputs": [
    {
     "name": "stdout",
     "output_type": "stream",
     "text": [
      "The test passes\n"
     ]
    }
   ],
   "source": [
    "assert np.max(ratio_flux_up[diff_flux_up > 1e-3], initial=0) < 1e-3\n",
    "assert np.max(ratio_flux_down_diffuse[diff_flux_down_diffuse > 1e-3], initial=0) < 1e-3\n",
    "assert np.max(ratio_flux_down_direct[diff_flux_down_direct > 1e-3], initial=0) < 1e-3\n",
    "assert np.max(diff_ratio[diff > 1e-3], initial=0) < 1e-2\n",
    "\n",
    "'''np.savez_compressed (\n",
    "    \"Stamnes_results/7a_test\",\n",
    "    phi_arr=phi_arr,\n",
    "    tau_test_arr=tau_test_arr,\n",
    "    uu=uu,\n",
    "    flup=flup,\n",
    "    rfldn=rfldn,\n",
    "    rfldir=rfldir,\n",
    ")'''\n",
    "\n",
    "print(\"The test passes\")"
   ]
  },
  {
   "cell_type": "markdown",
   "id": "a442a1c9",
   "metadata": {},
   "source": [
    "**Plots**"
   ]
  },
  {
   "cell_type": "code",
   "execution_count": 12,
   "id": "32c84ebc",
   "metadata": {},
   "outputs": [],
   "source": [
    "Nphi_plot = int((NQuad * pi) // 2) * 2 + 1\n",
    "phi_arr_plot, full_weights_phi = PythonicDISORT.subroutines.Clenshaw_Curtis_quad(Nphi_plot)\n",
    "\n",
    "MU_ARR, PHI_ARR = np.meshgrid(phi_arr_plot, mu_arr[:NQuad // 2])"
   ]
  },
  {
   "cell_type": "code",
   "execution_count": 13,
   "id": "fa0d90b9",
   "metadata": {
    "scrolled": false
   },
   "outputs": [
    {
     "data": {
      "text/plain": [
       "Text(0.5, 1.0, 'Upward intensity field at top of atmosphere')"
      ]
     },
     "execution_count": 13,
     "metadata": {},
     "output_type": "execute_result"
    },
    {
     "data": {
      "image/png": "[encoded data removed]",
      "text/plain": [
       "<Figure size 900x600 with 2 Axes>"
      ]
     },
     "metadata": {},
     "output_type": "display_data"
    }
   ],
   "source": [
    "plot = u(0, phi_arr_plot)[:NQuad // 2]\n",
    "\n",
    "fig = plt.figure(figsize=(9, 6))\n",
    "_contourf = plt.contourf(MU_ARR, PHI_ARR, plot)\n",
    "plt.xlabel(r\"$\\phi$\")\n",
    "plt.ylabel(r\"$\\mu$\")\n",
    "plt.colorbar(_contourf)\n",
    "plt.title(\n",
    "    \"Upward intensity field at top of atmosphere\"\n",
    ")"
   ]
  },
  {
   "cell_type": "markdown",
   "id": "79a6b62f",
   "metadata": {},
   "source": [
    "-------"
   ]
  },
  {
   "cell_type": "markdown",
   "id": "b74bbd28",
   "metadata": {},
   "source": [
    "# 7b"
   ]
  },
  {
   "cell_type": "markdown",
   "id": "67c3c69e",
   "metadata": {},
   "source": [
    "Internal blackbody emission, high scattering and thick atmosphere."
   ]
  },
  {
   "cell_type": "markdown",
   "id": "02ff26c0",
   "metadata": {},
   "source": [
    "**PythonicDISORT**"
   ]
  },
  {
   "cell_type": "code",
   "execution_count": 14,
   "id": "00f074ec",
   "metadata": {},
   "outputs": [],
   "source": [
    "######################################### PYDISORT ARGUMENTS #######################################\n",
    "\n",
    "tau_arr = 100  # One layer of thickness 100 (Very thick atmosphere)\n",
    "omega_arr = 0.95  # High scattering\n",
    "NQuad = 16  # 16 streams (8 quadrature nodes for each hemisphere)\n",
    "Leg_coeffs_all = 0.75 ** np.arange(NQuad + 1) # Henyey-Greenstein phase function with g = 0.75\n",
    "mu0 = 0  # No direct beam\n",
    "I0 = 0  # No direct beam\n",
    "phi0 = 0  # No direct beam\n",
    "\n",
    "# Optional (used)\n",
    "TEMPER = np.array([200, 300])\n",
    "WVNMLO = 2702.99\n",
    "WVNMHI = 2703.01\n",
    "# Emissivity is (1 - omega_arr) by Kirchoff's law of thermal radiation\n",
    "s_poly_coeffs=generate_s_poly_coeffs(tau_arr, TEMPER, WVNMLO, WVNMHI) * (1 - omega_arr)\n",
    "\n",
    "# Optional (unused)\n",
    "NLeg = None\n",
    "NFourier = None\n",
    "b_pos = 0\n",
    "b_neg = 0\n",
    "only_flux = False\n",
    "f_arr = 0\n",
    "NT_cor = False\n",
    "BDRF_Fourier_modes = []\n",
    "use_banded_solver_NLayers = 10\n",
    "autograd_compatible=False\n",
    "\n",
    "####################################################################################################"
   ]
  },
  {
   "cell_type": "code",
   "execution_count": 15,
   "id": "1e54301c",
   "metadata": {},
   "outputs": [],
   "source": [
    "# Call pydisort function\n",
    "mu_arr, flux_up, flux_down, u0, u = PythonicDISORT.pydisort(\n",
    "    tau_arr, omega_arr,\n",
    "    NQuad,\n",
    "    Leg_coeffs_all,\n",
    "    mu0, I0, phi0,\n",
    "    s_poly_coeffs=s_poly_coeffs,\n",
    ")"
   ]
  },
  {
   "cell_type": "code",
   "execution_count": 16,
   "id": "d0af3ee8",
   "metadata": {},
   "outputs": [],
   "source": [
    "tau_test_arr = np.array([0, 100])"
   ]
  },
  {
   "cell_type": "markdown",
   "id": "2aa02d09",
   "metadata": {},
   "source": [
    "**Stamnes' DISORT**"
   ]
  },
  {
   "cell_type": "code",
   "execution_count": 17,
   "id": "1cf7ec04",
   "metadata": {},
   "outputs": [],
   "source": [
    "# Stamnes' DISORT arguments\n",
    "nlyr = 1\n",
    "nmom = NQuad\n",
    "nstr = NQuad\n",
    "numu = NQuad\n",
    "nphi = Nphi\n",
    "ntau = Ntau\n",
    "usrang = True\n",
    "usrtau = True\n",
    "ibcnd = 0\n",
    "onlyfl = False\n",
    "prnt = np.array([False, False, False, False, False])  # Prints to CMD instead of this notebook\n",
    "plank = True\n",
    "lamber = False\n",
    "deltamplus = False\n",
    "do_pseudo_sphere = False\n",
    "dtauc = tau_arr\n",
    "ssalb = omega_arr\n",
    "pmom = Leg_coeffs_all.T\n",
    "temper = TEMPER\n",
    "wvnmlo = WVNMLO\n",
    "wvnmhi = WVNMHI\n",
    "utau = tau_test_arr\n",
    "umu0 = mu0\n",
    "phi0 = phi0\n",
    "umu = mu_arr_RO\n",
    "phi = phi_arr\n",
    "fbeam = I0\n",
    "fisot = 0\n",
    "albedo = 0\n",
    "btemp = 0\n",
    "ttemp = 0\n",
    "temis = 0\n",
    "earth_radius = 6371\n",
    "h_lyr = np.zeros(nlyr + 1)\n",
    "rhoq = np.zeros((nstr // 2, nstr + 1, nstr))\n",
    "rhou = np.zeros((numu, nstr // 2 + 1, nstr))\n",
    "rho_accurate = np.zeros((numu, nphi))\n",
    "bemst = np.zeros(nstr // 2)\n",
    "emust = np.zeros(numu)\n",
    "accur = 0\n",
    "header = \"\"\n",
    "rfldir = np.zeros(ntau)\n",
    "rfldn = np.zeros(ntau)\n",
    "flup = np.zeros(ntau)\n",
    "dfdt = np.zeros(ntau)\n",
    "uavg = np.zeros(ntau)\n",
    "uu = np.zeros((numu, ntau, nphi))\n",
    "albmed = np.zeros(numu)\n",
    "trnmed = np.zeros(numu)"
   ]
  },
  {
   "cell_type": "code",
   "execution_count": 18,
   "id": "5ae57b47",
   "metadata": {},
   "outputs": [],
   "source": [
    "if disort_is_installed:\n",
    "    # Run disort, putting DFDT, UAVG, and UU in a, b, and c, respectively\n",
    "    rfldir, rfldn, flup, dfdt, uavg, uu, albmed, trnmed = disort.disort(usrang, usrtau, ibcnd, onlyfl, prnt, plank, lamber, deltamplus, do_pseudo_sphere, dtauc, ssalb,\n",
    "                            pmom, temper, wvnmlo, wvnmhi, utau, umu0, phi0 * 180/pi, umu, phi * 180/pi, fbeam, fisot, albedo, btemp, ttemp,\n",
    "                            temis, earth_radius, h_lyr, rhoq, rhou, rho_accurate, bemst, emust, accur, header, rfldir,\n",
    "                            rfldn, flup, dfdt, uavg, uu, albmed, trnmed)\n",
    "    results = {\n",
    "        \"uu\": uu,\n",
    "        \"flup\": flup,\n",
    "        \"rfldn\": rfldn,\n",
    "        \"rfldir\": rfldir,\n",
    "        \"tau_test_arr\": tau_test_arr,\n",
    "        \"phi_arr\": phi_arr\n",
    "    }\n",
    "else:\n",
    "    # Load saved results from Stamnes' DISORT\n",
    "    results = np.load(\"Stamnes_results/7b_test.npz\")"
   ]
  },
  {
   "cell_type": "markdown",
   "id": "d97ff7d7",
   "metadata": {},
   "source": [
    "**Comparisons**"
   ]
  },
  {
   "cell_type": "code",
   "execution_count": 19,
   "id": "79adcbea",
   "metadata": {},
   "outputs": [
    {
     "name": "stdout",
     "output_type": "stream",
     "text": [
      "Max pointwise differences\n",
      "\n",
      "Upward (diffuse) fluxes\n",
      "Difference = 6.454001466676577e-09\n",
      "Difference ratio = 1.0000000003524094\n",
      "\n",
      "Downward (diffuse) fluxes\n",
      "Difference = 1.208869708114702e-07\n",
      "Difference ratio = 0.005851504923270324\n",
      "\n",
      "Direct (downward) fluxes\n",
      "Difference = 0.0\n",
      "Difference ratio = 0.0\n",
      "\n",
      "Intensities\n",
      "\n",
      "At tau = 100\n",
      "Max pointwise difference = 4.36438113629516e-08\n",
      "At tau = 100\n",
      "Max pointwise difference ratio = 0.00591364096197912\n",
      "\n"
     ]
    }
   ],
   "source": [
    "(\n",
    "    diff_flux_up,\n",
    "    ratio_flux_up,\n",
    "    diff_flux_down_diffuse,\n",
    "    ratio_flux_down_diffuse,\n",
    "    diff_flux_down_direct,\n",
    "    ratio_flux_down_direct,\n",
    "    diff,\n",
    "    diff_ratio,\n",
    ") = _compare(results, mu_to_compare, reorder_mu, flux_up, flux_down, u)"
   ]
  },
  {
   "cell_type": "markdown",
   "id": "736c1fce",
   "metadata": {},
   "source": [
    "**Does the test pass?**"
   ]
  },
  {
   "cell_type": "code",
   "execution_count": 20,
   "id": "c1108710",
   "metadata": {},
   "outputs": [
    {
     "name": "stdout",
     "output_type": "stream",
     "text": [
      "The test passes\n"
     ]
    }
   ],
   "source": [
    "assert np.max(ratio_flux_up[diff_flux_up > 1e-3], initial=0) < 1e-3\n",
    "assert np.max(ratio_flux_down_diffuse[diff_flux_down_diffuse > 1e-3], initial=0) < 1e-3\n",
    "assert np.max(ratio_flux_down_direct[diff_flux_down_direct > 1e-3], initial=0) < 1e-3\n",
    "assert np.max(diff_ratio[diff > 1e-3], initial=0) < 1e-2\n",
    "\n",
    "'''np.savez_compressed (\n",
    "    \"Stamnes_results/7b_test\",\n",
    "    phi_arr=phi_arr,\n",
    "    tau_test_arr=tau_test_arr,\n",
    "    uu=uu,\n",
    "    flup=flup,\n",
    "    rfldn=rfldn,\n",
    "    rfldir=rfldir,\n",
    ")'''\n",
    "\n",
    "print(\"The test passes\")"
   ]
  },
  {
   "cell_type": "markdown",
   "id": "fccb537f",
   "metadata": {},
   "source": [
    "**Plots**"
   ]
  },
  {
   "cell_type": "code",
   "execution_count": 21,
   "id": "a1bdbdd1",
   "metadata": {},
   "outputs": [],
   "source": [
    "Nphi_plot = int((NQuad * pi) // 2) * 2 + 1\n",
    "phi_arr_plot, full_weights_phi = PythonicDISORT.subroutines.Clenshaw_Curtis_quad(Nphi_plot)\n",
    "\n",
    "MU_ARR, PHI_ARR = np.meshgrid(phi_arr_plot, mu_arr[:NQuad // 2])"
   ]
  },
  {
   "cell_type": "code",
   "execution_count": 22,
   "id": "d5bfca6b",
   "metadata": {
    "scrolled": false
   },
   "outputs": [
    {
     "data": {
      "text/plain": [
       "Text(0.5, 1.0, 'Upward intensity field at top of atmosphere')"
      ]
     },
     "execution_count": 22,
     "metadata": {},
     "output_type": "execute_result"
    },
    {
     "data": {
      "image/png": "[encoded data removed]",
      "text/plain": [
       "<Figure size 900x600 with 2 Axes>"
      ]
     },
     "metadata": {},
     "output_type": "display_data"
    }
   ],
   "source": [
    "plot = u(0, phi_arr_plot)[:NQuad // 2]\n",
    "\n",
    "fig = plt.figure(figsize=(9, 6))\n",
    "_contourf = plt.contourf(MU_ARR, PHI_ARR, plot)\n",
    "#plt.plot(phi0, mu0, \"o\", color=\"red\", label=\"Direct beam\")\n",
    "plt.xlabel(r\"$\\phi$\")\n",
    "plt.ylabel(r\"$\\mu$\")\n",
    "plt.colorbar(_contourf)\n",
    "plt.title(\n",
    "    \"Upward intensity field at top of atmosphere\"\n",
    ")\n",
    "#plt.legend()"
   ]
  },
  {
   "cell_type": "markdown",
   "id": "2fd7ac2e",
   "metadata": {},
   "source": [
    "------"
   ]
  },
  {
   "cell_type": "markdown",
   "id": "21edf794",
   "metadata": {},
   "source": [
    "# 7c and new setup"
   ]
  },
  {
   "cell_type": "markdown",
   "id": "806e6307",
   "metadata": {},
   "source": [
    "Turn on every source."
   ]
  },
  {
   "cell_type": "markdown",
   "id": "dec66e9e",
   "metadata": {},
   "source": [
    "**PythonicDISORT**"
   ]
  },
  {
   "cell_type": "code",
   "execution_count": 23,
   "id": "f2ef448a",
   "metadata": {},
   "outputs": [],
   "source": [
    "from PythonicDISORT.subroutines import blackbody_contrib_to_BCs\n",
    "from PythonicDISORT.subroutines import generate_s_poly_coeffs"
   ]
  },
  {
   "cell_type": "code",
   "execution_count": 24,
   "id": "64c7d45f",
   "metadata": {},
   "outputs": [],
   "source": [
    "######################################### PYDISORT ARGUMENTS #######################################\n",
    "\n",
    "tau_arr = 1  # One layer of thickness 1 (Medium-thick atmosphere)\n",
    "omega_arr = 0.5  # Low scattering\n",
    "NQuad = 12  # 12 streams (6 quadrature nodes for each hemisphere)\n",
    "Leg_coeffs_all = 0.8 ** np.arange(2 * NQuad) # Henyey-Greenstein phase function with g = 0.8\n",
    "mu0 = 0.5  # Cosine of solar zenith angle (directly downwards)\n",
    "I0 = 200  # Intensity of direct beam\n",
    "phi0 = 0  # Azimuthal angle of direct beam\n",
    "\n",
    "# Optional (used)\n",
    "TEMPER = np.array([300, 200])\n",
    "WVNMLO = 0\n",
    "WVNMHI = 80000\n",
    "BTEMP = 320\n",
    "TTEMP = 100\n",
    "# Emissivity is (1 - omega_arr) by Kirchoff's law of thermal radiation\n",
    "s_poly_coeffs=generate_s_poly_coeffs(tau_arr, TEMPER, WVNMLO, WVNMHI, epsrel=1e-15) * (1 - omega_arr)\n",
    "b_pos = blackbody_contrib_to_BCs(BTEMP, WVNMLO, WVNMHI, epsrel=1e-15) # Emissivity 1\n",
    "b_neg = blackbody_contrib_to_BCs(TTEMP, WVNMLO, WVNMHI, epsrel=1e-15) + 100 # Emissivity 1\n",
    "\n",
    "f_arr = Leg_coeffs_all[NQuad]\n",
    "NT_cor = True\n",
    "\n",
    "# Optional (unused)\n",
    "NLeg = None\n",
    "NFourier = None\n",
    "only_flux = False\n",
    "BDRF_Fourier_modes = []\n",
    "use_banded_solver_NLayers = 10\n",
    "autograd_compatible=False\n",
    "\n",
    "####################################################################################################"
   ]
  },
  {
   "cell_type": "code",
   "execution_count": 25,
   "id": "aac1d535",
   "metadata": {},
   "outputs": [],
   "source": [
    "# Call pydisort function\n",
    "mu_arr, flux_up, flux_down, u0, u = PythonicDISORT.pydisort(\n",
    "    tau_arr, omega_arr,\n",
    "    NQuad,\n",
    "    Leg_coeffs_all,\n",
    "    mu0, I0, phi0,\n",
    "    b_pos=b_pos,\n",
    "    b_neg=b_neg,\n",
    "    s_poly_coeffs=s_poly_coeffs,\n",
    "    f_arr=f_arr,\n",
    "    NT_cor=NT_cor,\n",
    ")"
   ]
  },
  {
   "cell_type": "markdown",
   "id": "f6fb4afd",
   "metadata": {},
   "source": [
    "**Setup for tests**"
   ]
  },
  {
   "cell_type": "code",
   "execution_count": 26,
   "id": "6b191a7b",
   "metadata": {},
   "outputs": [],
   "source": [
    "# Reorder mu_arr from smallest to largest\n",
    "reorder_mu = np.argsort(mu_arr)\n",
    "mu_arr_RO = mu_arr[reorder_mu]\n",
    "\n",
    "# We may not want to compare intensities around the direct beam\n",
    "deg_around_beam_to_not_compare = 0\n",
    "mu_to_compare = (\n",
    "    np.abs(np.arccos(np.abs(mu_arr_RO)) - np.arccos(mu0)) * 180 / pi\n",
    "    > deg_around_beam_to_not_compare\n",
    ")\n",
    "mu_test_arr_RO = mu_arr_RO[mu_to_compare]"
   ]
  },
  {
   "cell_type": "code",
   "execution_count": 27,
   "id": "9954fcce",
   "metadata": {},
   "outputs": [],
   "source": [
    "# Number of phi grid points\n",
    "Nphi = 2\n",
    "phi_arr = np.random.random(Nphi) * 2 * pi\n",
    "\n",
    "# tau test points\n",
    "tau_test_arr = np.array([0, 1])\n",
    "Ntau = len(tau_test_arr)"
   ]
  },
  {
   "cell_type": "markdown",
   "id": "72a565a8",
   "metadata": {},
   "source": [
    "**Stamnes' DISORT**"
   ]
  },
  {
   "cell_type": "code",
   "execution_count": 28,
   "id": "17d354a0",
   "metadata": {},
   "outputs": [],
   "source": [
    "# Stamnes' DISORT arguments\n",
    "nlyr = 1\n",
    "nmom = NQuad\n",
    "nstr = NQuad\n",
    "numu = NQuad\n",
    "nphi = Nphi\n",
    "ntau = Ntau\n",
    "usrang = True\n",
    "usrtau = True\n",
    "ibcnd = 0\n",
    "onlyfl = False\n",
    "prnt = np.array([False, False, False, False, False])  # Prints to CMD instead of this notebook\n",
    "plank = True\n",
    "lamber = True\n",
    "deltamplus = False\n",
    "do_pseudo_sphere = False\n",
    "dtauc = tau_arr\n",
    "ssalb = omega_arr\n",
    "pmom = Leg_coeffs_all.T\n",
    "temper = TEMPER\n",
    "wvnmlo = WVNMLO\n",
    "wvnmhi = WVNMHI\n",
    "utau = tau_test_arr\n",
    "umu0 = mu0\n",
    "phi0 = phi0\n",
    "umu = mu_arr_RO\n",
    "phi = phi_arr\n",
    "fbeam = I0\n",
    "fisot = 100\n",
    "albedo = 0\n",
    "btemp = BTEMP\n",
    "ttemp = TTEMP\n",
    "temis = 1\n",
    "earth_radius = 6371\n",
    "h_lyr = np.zeros(nlyr + 1)\n",
    "rhoq = np.zeros((nstr // 2, nstr + 1, nstr))\n",
    "rhou = np.zeros((numu, nstr // 2 + 1, nstr))\n",
    "rho_accurate = np.zeros((numu, nphi))\n",
    "bemst = np.zeros(nstr // 2)\n",
    "emust = np.zeros(numu)\n",
    "accur = 0\n",
    "header = \"\"\n",
    "rfldir = np.zeros(ntau)\n",
    "rfldn = np.zeros(ntau)\n",
    "flup = np.zeros(ntau)\n",
    "dfdt = np.zeros(ntau)\n",
    "uavg = np.zeros(ntau)\n",
    "uu = np.zeros((numu, ntau, nphi))\n",
    "albmed = np.zeros(numu)\n",
    "trnmed = np.zeros(numu)"
   ]
  },
  {
   "cell_type": "code",
   "execution_count": 29,
   "id": "9eab928f",
   "metadata": {},
   "outputs": [],
   "source": [
    "if disort_is_installed:\n",
    "    # Run disort, putting DFDT, UAVG, and UU in a, b, and c, respectively\n",
    "    rfldir, rfldn, flup, dfdt, uavg, uu, albmed, trnmed = disort.disort(usrang, usrtau, ibcnd, onlyfl, prnt, plank, lamber, deltamplus, do_pseudo_sphere, dtauc, ssalb,\n",
    "                            pmom, temper, wvnmlo, wvnmhi, utau, umu0, phi0 * 180/pi, umu, phi * 180/pi, fbeam, fisot, albedo, btemp, ttemp,\n",
    "                            temis, earth_radius, h_lyr, rhoq, rhou, rho_accurate, bemst, emust, accur, header, rfldir,\n",
    "                            rfldn, flup, dfdt, uavg, uu, albmed, trnmed)\n",
    "    results = {\n",
    "        \"uu\": uu,\n",
    "        \"flup\": flup,\n",
    "        \"rfldn\": rfldn,\n",
    "        \"rfldir\": rfldir,\n",
    "        \"tau_test_arr\": tau_test_arr,\n",
    "        \"phi_arr\": phi_arr\n",
    "    }\n",
    "else:\n",
    "    # Load saved results from Stamnes' DISORT\n",
    "    results = np.load(\"Stamnes_results/7c_test.npz\")"
   ]
  },
  {
   "cell_type": "markdown",
   "id": "5ead3fba",
   "metadata": {},
   "source": [
    "**Comparisons**"
   ]
  },
  {
   "cell_type": "code",
   "execution_count": 30,
   "id": "1a94ca15",
   "metadata": {},
   "outputs": [
    {
     "name": "stdout",
     "output_type": "stream",
     "text": [
      "Max pointwise differences\n",
      "\n",
      "Upward (diffuse) fluxes\n",
      "Difference = 0.005680822073827585\n",
      "Difference ratio = 9.554405881946251e-06\n",
      "\n",
      "Downward (diffuse) fluxes\n",
      "Difference = 0.0015585893128786665\n",
      "Difference ratio = 5.172303206114839e-06\n",
      "\n",
      "Direct (downward) fluxes\n",
      "Difference = 4.280623855379417e-09\n",
      "Difference ratio = 3.162976979581489e-10\n",
      "\n",
      "Intensities\n",
      "\n",
      "At tau = 1\n",
      "Max pointwise difference = 0.008105930163637254\n",
      "At tau = 1\n",
      "Max pointwise difference ratio = 8.864380022709193e-05\n",
      "\n"
     ]
    }
   ],
   "source": [
    "(\n",
    "    diff_flux_up,\n",
    "    ratio_flux_up,\n",
    "    diff_flux_down_diffuse,\n",
    "    ratio_flux_down_diffuse,\n",
    "    diff_flux_down_direct,\n",
    "    ratio_flux_down_direct,\n",
    "    diff,\n",
    "    diff_ratio,\n",
    ") = _compare(results, mu_to_compare, reorder_mu, flux_up, flux_down, u)"
   ]
  },
  {
   "cell_type": "markdown",
   "id": "cf0837b6",
   "metadata": {},
   "source": [
    "**Does the test pass?**"
   ]
  },
  {
   "cell_type": "code",
   "execution_count": 31,
   "id": "575767ee",
   "metadata": {},
   "outputs": [
    {
     "name": "stdout",
     "output_type": "stream",
     "text": [
      "The test passes\n"
     ]
    }
   ],
   "source": [
    "assert np.max(ratio_flux_up[diff_flux_up > 1e-3], initial=0) < 1e-3\n",
    "assert np.max(ratio_flux_down_diffuse[diff_flux_down_diffuse > 1e-3], initial=0) < 1e-3\n",
    "assert np.max(ratio_flux_down_direct[diff_flux_down_direct > 1e-3], initial=0) < 1e-3\n",
    "assert np.max(diff_ratio[diff > 1e-3], initial=0) < 1e-2\n",
    "\n",
    "'''np.savez_compressed (\n",
    "    \"Stamnes_results/7c_test\",\n",
    "    phi_arr=phi_arr,\n",
    "    tau_test_arr=tau_test_arr,\n",
    "    uu=uu,\n",
    "    flup=flup,\n",
    "    rfldn=rfldn,\n",
    "    rfldir=rfldir,\n",
    ")'''\n",
    "\n",
    "print(\"The test passes\")"
   ]
  },
  {
   "cell_type": "markdown",
   "id": "df0c3ab5",
   "metadata": {},
   "source": [
    "**Plots**"
   ]
  },
  {
   "cell_type": "code",
   "execution_count": 32,
   "id": "45d62b5b",
   "metadata": {},
   "outputs": [],
   "source": [
    "Nphi_plot = int((NQuad * pi) // 2) * 2 + 1\n",
    "phi_arr_plot, full_weights_phi = PythonicDISORT.subroutines.Clenshaw_Curtis_quad(Nphi_plot)\n",
    "\n",
    "MU_ARR, PHI_ARR = np.meshgrid(phi_arr_plot, mu_arr[:NQuad // 2])"
   ]
  },
  {
   "cell_type": "code",
   "execution_count": 33,
   "id": "6db0501d",
   "metadata": {
    "scrolled": false
   },
   "outputs": [
    {
     "data": {
      "text/plain": [
       "<matplotlib.legend.Legend at 0x1eef247ced0>"
      ]
     },
     "execution_count": 33,
     "metadata": {},
     "output_type": "execute_result"
    },
    {
     "data": {
      "image/png": "[encoded data removed]",
      "text/plain": [
       "<Figure size 900x600 with 2 Axes>"
      ]
     },
     "metadata": {},
     "output_type": "display_data"
    }
   ],
   "source": [
    "plot = u(0, phi_arr_plot)[:NQuad // 2]\n",
    "\n",
    "fig = plt.figure(figsize=(9, 6))\n",
    "_contourf = plt.contourf(MU_ARR, PHI_ARR, plot)\n",
    "plt.plot(phi0, mu0, \"o\", color=\"red\", label=\"Direct beam\")\n",
    "plt.xlabel(r\"$\\phi$\")\n",
    "plt.ylabel(r\"$\\mu$\")\n",
    "plt.colorbar(_contourf)\n",
    "plt.title(\n",
    "    \"Upward intensity field at top of atmosphere\"\n",
    ")\n",
    "plt.legend()"
   ]
  },
  {
   "cell_type": "markdown",
   "id": "18db6f2f",
   "metadata": {},
   "source": [
    "------"
   ]
  },
  {
   "cell_type": "markdown",
   "id": "f31fd099",
   "metadata": {},
   "source": [
    "# 7d"
   ]
  },
  {
   "cell_type": "markdown",
   "id": "825037de",
   "metadata": {},
   "source": [
    "Every source turned on with conservative Lambertian surface reflection."
   ]
  },
  {
   "cell_type": "markdown",
   "id": "f91e28b5",
   "metadata": {},
   "source": [
    "**PythonicDISORT**"
   ]
  },
  {
   "cell_type": "code",
   "execution_count": 34,
   "id": "334b0fe1",
   "metadata": {},
   "outputs": [],
   "source": [
    "from PythonicDISORT.subroutines import blackbody_contrib_to_BCs\n",
    "from PythonicDISORT.subroutines import generate_s_poly_coeffs"
   ]
  },
  {
   "cell_type": "code",
   "execution_count": 35,
   "id": "ea3e6ef2",
   "metadata": {},
   "outputs": [],
   "source": [
    "######################################### PYDISORT ARGUMENTS #######################################\n",
    "\n",
    "tau_arr = 1  # One layer of thickness 1 (Medium-thick atmosphere)\n",
    "omega_arr = 0.5  # Low scattering\n",
    "NQuad = 12  # 12 streams (6 quadrature nodes for each hemisphere)\n",
    "Leg_coeffs_all = 0.8 ** np.arange(2 * NQuad) # Henyey-Greenstein phase function with g = 0.8\n",
    "mu0 = 0.5  # Cosine of solar zenith angle (directly downwards)\n",
    "I0 = 200  # Intensity of direct beam\n",
    "phi0 = 0  # Azimuthal angle of direct beam\n",
    "\n",
    "# Optional (used)\n",
    "TEMPER = np.array([300, 200])\n",
    "WVNMLO = 0\n",
    "WVNMHI = 80000\n",
    "BTEMP = 320\n",
    "TTEMP = 100\n",
    "# Emissivity is (1 - omega_arr) by Kirchoff's law of thermal radiation\n",
    "s_poly_coeffs=generate_s_poly_coeffs(tau_arr, TEMPER, WVNMLO, WVNMHI, epsrel=1e-15) * (1 - omega_arr)\n",
    "b_neg = blackbody_contrib_to_BCs(TTEMP, WVNMLO, WVNMHI, epsrel=1e-15) + 100 # Emissivity 1\n",
    "omega_s = 1\n",
    "BDRF_Fourier_modes=[lambda mu, neg_mup: np.full((len(mu), len(neg_mup)), omega_s)]\n",
    "\n",
    "f_arr = Leg_coeffs_all[NQuad]\n",
    "NT_cor = True\n",
    "\n",
    "# Optional (unused)\n",
    "NLeg = None\n",
    "NFourier = None\n",
    "b_pos = 0\n",
    "only_flux = False\n",
    "use_banded_solver_NLayers = 10\n",
    "autograd_compatible=False\n",
    "\n",
    "####################################################################################################"
   ]
  },
  {
   "cell_type": "code",
   "execution_count": 36,
   "id": "ee17562e",
   "metadata": {},
   "outputs": [],
   "source": [
    "# Call pydisort function\n",
    "mu_arr, flux_up, flux_down, u0, u = PythonicDISORT.pydisort(\n",
    "    tau_arr, omega_arr,\n",
    "    NQuad,\n",
    "    Leg_coeffs_all,\n",
    "    mu0, I0, phi0,\n",
    "    b_neg=b_neg,\n",
    "    s_poly_coeffs=s_poly_coeffs,\n",
    "    BDRF_Fourier_modes=BDRF_Fourier_modes,\n",
    "    f_arr=f_arr,\n",
    "    NT_cor=NT_cor,\n",
    ")"
   ]
  },
  {
   "cell_type": "markdown",
   "id": "6d9bf909",
   "metadata": {},
   "source": [
    "**Stamnes' DISORT**"
   ]
  },
  {
   "cell_type": "code",
   "execution_count": 37,
   "id": "b65d865f",
   "metadata": {},
   "outputs": [],
   "source": [
    "# Stamnes' DISORT arguments\n",
    "nlyr = 1\n",
    "nmom = NQuad\n",
    "nstr = NQuad\n",
    "numu = NQuad\n",
    "nphi = Nphi\n",
    "ntau = Ntau\n",
    "usrang = True\n",
    "usrtau = True\n",
    "ibcnd = 0\n",
    "onlyfl = False\n",
    "prnt = np.array([False, False, False, False, False])  # Prints to CMD instead of this notebook\n",
    "plank = True\n",
    "lamber = True\n",
    "deltamplus = False\n",
    "do_pseudo_sphere = False\n",
    "dtauc = tau_arr\n",
    "ssalb = omega_arr\n",
    "pmom = Leg_coeffs_all.T\n",
    "temper = TEMPER\n",
    "wvnmlo = WVNMLO\n",
    "wvnmhi = WVNMHI\n",
    "utau = tau_test_arr\n",
    "umu0 = mu0\n",
    "phi0 = phi0\n",
    "umu = mu_arr_RO\n",
    "phi = phi_arr\n",
    "fbeam = I0\n",
    "fisot = 100\n",
    "albedo = omega_s\n",
    "btemp = BTEMP\n",
    "ttemp = TTEMP\n",
    "temis = 1\n",
    "earth_radius = 6371\n",
    "h_lyr = np.zeros(nlyr + 1)\n",
    "rhoq = np.zeros((nstr // 2, nstr + 1, nstr))\n",
    "rhou = np.zeros((numu, nstr // 2 + 1, nstr))\n",
    "rho_accurate = np.zeros((numu, nphi))\n",
    "bemst = np.zeros(nstr // 2)\n",
    "emust = np.zeros(numu)\n",
    "accur = 0\n",
    "header = \"\"\n",
    "rfldir = np.zeros(ntau)\n",
    "rfldn = np.zeros(ntau)\n",
    "flup = np.zeros(ntau)\n",
    "dfdt = np.zeros(ntau)\n",
    "uavg = np.zeros(ntau)\n",
    "uu = np.zeros((numu, ntau, nphi))\n",
    "albmed = np.zeros(numu)\n",
    "trnmed = np.zeros(numu)"
   ]
  },
  {
   "cell_type": "code",
   "execution_count": 38,
   "id": "eadc38f9",
   "metadata": {},
   "outputs": [],
   "source": [
    "if disort_is_installed:\n",
    "    # Run disort, putting DFDT, UAVG, and UU in a, b, and c, respectively\n",
    "    rfldir, rfldn, flup, dfdt, uavg, uu, albmed, trnmed = disort.disort(usrang, usrtau, ibcnd, onlyfl, prnt, plank, lamber, deltamplus, do_pseudo_sphere, dtauc, ssalb,\n",
    "                            pmom, temper, wvnmlo, wvnmhi, utau, umu0, phi0 * 180/pi, umu, phi * 180/pi, fbeam, fisot, albedo, btemp, ttemp,\n",
    "                            temis, earth_radius, h_lyr, rhoq, rhou, rho_accurate, bemst, emust, accur, header, rfldir,\n",
    "                            rfldn, flup, dfdt, uavg, uu, albmed, trnmed)\n",
    "    results = {\n",
    "        \"uu\": uu,\n",
    "        \"flup\": flup,\n",
    "        \"rfldn\": rfldn,\n",
    "        \"rfldir\": rfldir,\n",
    "        \"tau_test_arr\": tau_test_arr,\n",
    "        \"phi_arr\": phi_arr\n",
    "    }\n",
    "else:\n",
    "    # Load saved results from Stamnes' DISORT\n",
    "    results = np.load(\"Stamnes_results/7d_test.npz\")"
   ]
  },
  {
   "cell_type": "markdown",
   "id": "5927fe6b",
   "metadata": {},
   "source": [
    "**Comparisons**"
   ]
  },
  {
   "cell_type": "code",
   "execution_count": 39,
   "id": "c6fb0077",
   "metadata": {},
   "outputs": [
    {
     "name": "stdout",
     "output_type": "stream",
     "text": [
      "Max pointwise differences\n",
      "\n",
      "Upward (diffuse) fluxes\n",
      "Difference = 0.002258723149054731\n",
      "Difference ratio = 7.226456788570022e-06\n",
      "\n",
      "Downward (diffuse) fluxes\n",
      "Difference = 0.0014112028268868926\n",
      "Difference ratio = 4.831849654115629e-06\n",
      "\n",
      "Direct (downward) fluxes\n",
      "Difference = 4.280623855379417e-09\n",
      "Difference ratio = 3.162976979581489e-10\n",
      "\n",
      "Intensities\n",
      "\n",
      "At tau = 1\n",
      "Max pointwise difference = 0.008072988061485376\n",
      "At tau = 1\n",
      "Max pointwise difference ratio = 9.104718902397816e-05\n",
      "\n"
     ]
    }
   ],
   "source": [
    "(\n",
    "    diff_flux_up,\n",
    "    ratio_flux_up,\n",
    "    diff_flux_down_diffuse,\n",
    "    ratio_flux_down_diffuse,\n",
    "    diff_flux_down_direct,\n",
    "    ratio_flux_down_direct,\n",
    "    diff,\n",
    "    diff_ratio,\n",
    ") = _compare(results, mu_to_compare, reorder_mu, flux_up, flux_down, u)"
   ]
  },
  {
   "cell_type": "markdown",
   "id": "f7c697de",
   "metadata": {},
   "source": [
    "**Does the test pass?**"
   ]
  },
  {
   "cell_type": "code",
   "execution_count": 40,
   "id": "962f4581",
   "metadata": {},
   "outputs": [
    {
     "name": "stdout",
     "output_type": "stream",
     "text": [
      "The test passes\n"
     ]
    }
   ],
   "source": [
    "assert np.max(ratio_flux_up[diff_flux_up > 1e-3], initial=0) < 1e-3\n",
    "assert np.max(ratio_flux_down_diffuse[diff_flux_down_diffuse > 1e-3], initial=0) < 1e-3\n",
    "assert np.max(ratio_flux_down_direct[diff_flux_down_direct > 1e-3], initial=0) < 1e-3\n",
    "assert np.max(diff_ratio[diff > 1e-3], initial=0) < 1e-2\n",
    "\n",
    "'''np.savez_compressed (\n",
    "    \"Stamnes_results/7d_test\",\n",
    "    phi_arr=phi_arr,\n",
    "    tau_test_arr=tau_test_arr,\n",
    "    uu=uu,\n",
    "    flup=flup,\n",
    "    rfldn=rfldn,\n",
    "    rfldir=rfldir,\n",
    ")'''\n",
    "\n",
    "print(\"The test passes\")"
   ]
  },
  {
   "cell_type": "markdown",
   "id": "cfdeb07c",
   "metadata": {},
   "source": [
    "**Plots**"
   ]
  },
  {
   "cell_type": "code",
   "execution_count": 41,
   "id": "65463346",
   "metadata": {},
   "outputs": [],
   "source": [
    "Nphi_plot = int((NQuad * pi) // 2) * 2 + 1\n",
    "phi_arr_plot, full_weights_phi = PythonicDISORT.subroutines.Clenshaw_Curtis_quad(Nphi_plot)\n",
    "\n",
    "MU_ARR, PHI_ARR = np.meshgrid(phi_arr_plot, mu_arr[:NQuad // 2])"
   ]
  },
  {
   "cell_type": "code",
   "execution_count": 42,
   "id": "e0cfe20f",
   "metadata": {
    "scrolled": false
   },
   "outputs": [
    {
     "data": {
      "text/plain": [
       "<matplotlib.legend.Legend at 0x1eef234a9d0>"
      ]
     },
     "execution_count": 42,
     "metadata": {},
     "output_type": "execute_result"
    },
    {
     "data": {
      "image/png": "[encoded data removed]",
      "text/plain": [
       "<Figure size 900x600 with 2 Axes>"
      ]
     },
     "metadata": {},
     "output_type": "display_data"
    }
   ],
   "source": [
    "plot = u(0, phi_arr_plot)[:NQuad // 2]\n",
    "\n",
    "fig = plt.figure(figsize=(9, 6))\n",
    "_contourf = plt.contourf(MU_ARR, PHI_ARR, plot)\n",
    "plt.plot(phi0, mu0, \"o\", color=\"red\", label=\"Direct beam\")\n",
    "plt.xlabel(r\"$\\phi$\")\n",
    "plt.ylabel(r\"$\\mu$\")\n",
    "plt.colorbar(_contourf)\n",
    "plt.title(\n",
    "    \"Upward intensity field at top of atmosphere\"\n",
    ")\n",
    "plt.legend()"
   ]
  },
  {
   "cell_type": "markdown",
   "id": "1f5fa5a9",
   "metadata": {},
   "source": [
    "------"
   ]
  },
  {
   "cell_type": "markdown",
   "id": "3ee4050a",
   "metadata": {},
   "source": [
    "# 7e"
   ]
  },
  {
   "cell_type": "markdown",
   "id": "c9d4cc7c",
   "metadata": {},
   "source": [
    "Every source turned on with Hapke (see [[1, p. 233]](#cite-Hap1993) and [[2, p. 44]](#cite-STWLE2000)) surface reflection. Only flux values are compared."
   ]
  },
  {
   "cell_type": "markdown",
   "id": "883b5a5c",
   "metadata": {},
   "source": [
    "**PythonicDISORT**"
   ]
  },
  {
   "cell_type": "code",
   "execution_count": 43,
   "id": "7bbaeada",
   "metadata": {},
   "outputs": [],
   "source": [
    "from PythonicDISORT.subroutines import generate_emissivity_from_BDRF\n",
    "from PythonicDISORT.subroutines import blackbody_contrib_to_BCs\n",
    "from PythonicDISORT.subroutines import generate_s_poly_coeffs"
   ]
  },
  {
   "cell_type": "code",
   "execution_count": 44,
   "id": "6fa2d3a2",
   "metadata": {},
   "outputs": [],
   "source": [
    "def Hapke(mu, neg_mup, dphi, B0, HH, W):\n",
    "    cos_alpha = (mu[:, None] * neg_mup[None, :] - np.sqrt(1 - mu**2)[:, None] * np.sqrt(\n",
    "        (1 - neg_mup**2)[None, :]\n",
    "    ) * np.cos(dphi)).clip(min=-1, max=1)\n",
    "    alpha = np.arccos(cos_alpha)\n",
    "\n",
    "    P = 1 + cos_alpha / 2\n",
    "    B = B0 * HH / (HH + np.tan(alpha / 2))\n",
    "\n",
    "    gamma = np.sqrt(1 - W)\n",
    "    H0 = ((1 + 2 * neg_mup) / (1 + 2 * neg_mup * gamma))[None, :]\n",
    "    H = ((1 + 2 * mu) / (1 + 2 * mu * gamma))[:, None]\n",
    "\n",
    "    return W / 4 / (mu[:, None] + neg_mup[None, :]) * ((1 + B) * P + H0 * H - 1)"
   ]
  },
  {
   "cell_type": "code",
   "execution_count": 45,
   "id": "eed862d9",
   "metadata": {},
   "outputs": [],
   "source": [
    "######################################### PYDISORT ARGUMENTS #######################################\n",
    "\n",
    "tau_arr = 1  # One layer of thickness 1 (Medium-thick atmosphere)\n",
    "omega_arr = 0.5  # Low scattering\n",
    "NQuad = 12  # 12 streams (6 quadrature nodes for each hemisphere)\n",
    "Leg_coeffs_all = 0.8 ** np.arange(NQuad + 1) # Henyey-Greenstein phase function with g = 0.8\n",
    "mu0 = 0.5  # Cosine of solar zenith angle (directly downwards)\n",
    "I0 = 200  # Intensity of direct beam\n",
    "phi0 = 0  # Azimuthal angle of direct beam\n",
    "\n",
    "# Optional (used)\n",
    "B0, HH, W = 1, 0.06, 0.6\n",
    "BDRF_Fourier_modes = [\n",
    "    lambda mu, neg_mup, m=m: (sc.integrate.quad_vec(\n",
    "        lambda dphi: Hapke(mu, neg_mup, dphi, B0, HH, W) * np.cos(m * dphi),\n",
    "        0,\n",
    "        2 * pi,\n",
    "    )[0] / ((1 + (m == 0)) * pi))\n",
    "    for m in range(NQuad)\n",
    "]\n",
    "TEMPER = np.array([300, 200])\n",
    "WVNMLO = 0\n",
    "WVNMHI = 80000\n",
    "BTEMP = 320\n",
    "TTEMP = 100\n",
    "# Emissivity is (1 - omega_arr) by Kirchoff's law of thermal radiation\n",
    "s_poly_coeffs=generate_s_poly_coeffs(tau_arr, TEMPER, WVNMLO, WVNMHI, epsrel=1e-15) * (1 - omega_arr)\n",
    "# The emissivity of the surface should be consistent with the BDRF \n",
    "# in accordance with Kirchoff's law of thermal radiation\n",
    "emissivity = generate_emissivity_from_BDRF(NQuad // 2, BDRF_Fourier_modes[0])\n",
    "b_pos = emissivity * blackbody_contrib_to_BCs(BTEMP, WVNMLO, WVNMHI)\n",
    "b_neg = blackbody_contrib_to_BCs(TTEMP, WVNMLO, WVNMHI, epsrel=1e-15) + 100 # Emissivity 1\n",
    "only_flux = True\n",
    "\n",
    "f_arr = Leg_coeffs_all[NQuad]\n",
    "\n",
    "# Optional (unused)\n",
    "NLeg = None\n",
    "NFourier = None\n",
    "NT_cor = False\n",
    "use_banded_solver_NLayers = 10\n",
    "autograd_compatible=False\n",
    "\n",
    "####################################################################################################"
   ]
  },
  {
   "cell_type": "code",
   "execution_count": 46,
   "id": "d2caddf2",
   "metadata": {},
   "outputs": [],
   "source": [
    "# Call pydisort function\n",
    "mu_arr, flux_up, flux_down, u0 = PythonicDISORT.pydisort(\n",
    "    tau_arr, omega_arr,\n",
    "    NQuad,\n",
    "    Leg_coeffs_all,\n",
    "    mu0, I0, phi0,\n",
    "    b_pos=b_pos,\n",
    "    b_neg=b_neg,\n",
    "    s_poly_coeffs=s_poly_coeffs,\n",
    "    BDRF_Fourier_modes=BDRF_Fourier_modes,\n",
    "    only_flux=only_flux,\n",
    "    f_arr=f_arr,\n",
    ")"
   ]
  },
  {
   "cell_type": "code",
   "execution_count": 47,
   "id": "546d6817",
   "metadata": {},
   "outputs": [],
   "source": [
    "# Load saved results from `DISOTESTAUX.f` of Stamnes' DISORT\n",
    "results = np.load(\"Stamnes_results/7e_test.npz\")"
   ]
  },
  {
   "cell_type": "markdown",
   "id": "c3101b7e",
   "metadata": {},
   "source": [
    "**Comparisons**"
   ]
  },
  {
   "cell_type": "code",
   "execution_count": 48,
   "id": "a110d054",
   "metadata": {},
   "outputs": [
    {
     "name": "stdout",
     "output_type": "stream",
     "text": [
      "Max pointwise differences\n",
      "\n",
      "Upward (diffuse) fluxes\n",
      "Difference = 0.17742463921331364\n",
      "Difference ratio = 0.0003352391302627759\n",
      "\n",
      "Downward (diffuse) fluxes\n",
      "Difference = 0.0032692557526843302\n",
      "Difference ratio = 1.0933892591635943e-05\n",
      "\n",
      "Direct (downward) fluxes\n",
      "Difference = 4.411714423468993e-05\n",
      "Difference ratio = 2.0928556005904317e-06\n",
      "\n"
     ]
    }
   ],
   "source": [
    "(\n",
    "    diff_flux_up,\n",
    "    ratio_flux_up,\n",
    "    diff_flux_down_diffuse,\n",
    "    ratio_flux_down_diffuse,\n",
    "    diff_flux_down_direct,\n",
    "    ratio_flux_down_direct,\n",
    "    #diff,\n",
    "    #diff_ratio,\n",
    ") = _compare(results, mu_to_compare, reorder_mu, flux_up, flux_down)"
   ]
  },
  {
   "cell_type": "markdown",
   "id": "4a80d9b9",
   "metadata": {},
   "source": [
    "**Does the test pass?**"
   ]
  },
  {
   "cell_type": "code",
   "execution_count": 49,
   "id": "84eff681",
   "metadata": {},
   "outputs": [
    {
     "name": "stdout",
     "output_type": "stream",
     "text": [
      "The test passes\n"
     ]
    }
   ],
   "source": [
    "assert np.max(ratio_flux_up[diff_flux_up > 1e-3], initial=0) < 1e-3\n",
    "assert np.max(ratio_flux_down_diffuse[diff_flux_down_diffuse > 1e-3], initial=0) < 1e-3\n",
    "assert np.max(ratio_flux_down_direct[diff_flux_down_direct > 1e-3], initial=0) < 1e-3\n",
    "#assert np.max(diff_ratio[diff > 1e-3], initial=0) < 1e-2\n",
    "\n",
    "print(\"The test passes\")"
   ]
  },
  {
   "cell_type": "markdown",
   "id": "bce77127",
   "metadata": {},
   "source": [
    "**Plots**"
   ]
  },
  {
   "cell_type": "code",
   "execution_count": 50,
   "id": "28964916",
   "metadata": {},
   "outputs": [],
   "source": [
    "Nphi_plot = int((NQuad * pi) // 2) * 2 + 1\n",
    "phi_arr_plot, full_weights_phi = PythonicDISORT.subroutines.Clenshaw_Curtis_quad(Nphi_plot)\n",
    "\n",
    "MU_ARR, PHI_ARR = np.meshgrid(phi_arr_plot, mu_arr[:NQuad // 2])"
   ]
  },
  {
   "cell_type": "code",
   "execution_count": 51,
   "id": "f6c457c7",
   "metadata": {
    "scrolled": false
   },
   "outputs": [
    {
     "data": {
      "text/plain": [
       "<matplotlib.legend.Legend at 0x1eef29d74d0>"
      ]
     },
     "execution_count": 51,
     "metadata": {},
     "output_type": "execute_result"
    },
    {
     "data": {
      "image/png": "[encoded data removed]",
      "text/plain": [
       "<Figure size 900x600 with 2 Axes>"
      ]
     },
     "metadata": {},
     "output_type": "display_data"
    }
   ],
   "source": [
    "plot = u(0, phi_arr_plot)[:NQuad // 2]\n",
    "\n",
    "fig = plt.figure(figsize=(9, 6))\n",
    "_contourf = plt.contourf(MU_ARR, PHI_ARR, plot)\n",
    "plt.plot(phi0, mu0, \"o\", color=\"red\", label=\"Direct beam\")\n",
    "plt.xlabel(r\"$\\phi$\")\n",
    "plt.ylabel(r\"$\\mu$\")\n",
    "plt.colorbar(_contourf)\n",
    "plt.title(\n",
    "    \"Upward intensity field at top of atmosphere\"\n",
    ")\n",
    "plt.legend()"
   ]
  },
  {
   "cell_type": "markdown",
   "id": "e54e848e",
   "metadata": {},
   "source": [
    "------"
   ]
  },
  {
   "cell_type": "markdown",
   "id": "3540f5b3",
   "metadata": {},
   "source": [
    "<!--bibtex\n",
    "\n",
    "@article{STWLE2000,\n",
    "author = {Tsay, Si-Chee and Stamnes, Knut and Wiscombe, Warren and Laszlo, Istvan and Einaudi, Franco},\n",
    "year = {2000},\n",
    "month = {02},\n",
    "pages = {},\n",
    "title = {General Purpose Fortran Program for Discrete-Ordinate-Method Radiative Transfer in Scattering and Emitting Layered Media: An Update of DISORT}\n",
    "}\n",
    "\n",
    "@inbook{Hap1993, place={Cambridge}, series={Topics in Remote Sensing}, title={The bidirectional reflectance of a semiinfinite medium}, booktitle={Theory of Reflectance and Emittance Spectroscopy}, publisher={Cambridge University Press}, author={Hapke, Bruce}, year={1993}, pages={181–235}, collection={Topics in Remote Sensing}}\n",
    "\n",
    "-->"
   ]
  },
  {
   "cell_type": "markdown",
   "id": "7943925f",
   "metadata": {},
   "source": [
    "# References\n",
    "\n",
    "<a id=\"cite-Hap1993\"/><sup><a href=#ref-1>[^]</a></sup>Hapke, Bruce. 1993. _The bidirectional reflectance of a semiinfinite medium_.\n",
    "\n",
    "<a id=\"cite-STWLE2000\"/><sup><a href=#ref-2>[^]</a></sup>Tsay, Si-Chee and Stamnes, Knut and Wiscombe, Warren and Laszlo, Istvan and Einaudi, Franco. 2000. _General Purpose Fortran Program for Discrete-Ordinate-Method Radiative Transfer in Scattering and Emitting Layered Media: An Update of DISORT_.\n",
    "\n"
   ]
  }
 ],
 "metadata": {
  "hide_input": false,
  "kernelspec": {
   "display_name": "Python 3 (ipykernel)",
   "language": "python",
   "name": "python3"
  },
  "language_info": {
   "codemirror_mode": {
    "name": "ipython",
    "version": 3
   },
   "file_extension": ".py",
   "mimetype": "text/x-python",
   "name": "python",
   "nbconvert_exporter": "python",
   "pygments_lexer": "ipython3",
   "version": "3.11.8"
  }
 },
 "nbformat": 4,
 "nbformat_minor": 5
}
