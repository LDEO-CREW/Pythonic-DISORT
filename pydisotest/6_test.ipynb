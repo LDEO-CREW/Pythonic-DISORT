{
 "cells": [
  {
   "cell_type": "code",
   "execution_count": 1,
   "id": "b2925dfb",
   "metadata": {},
   "outputs": [],
   "source": [
    "import PythonicDISORT\n",
    "from PythonicDISORT.subroutines import _compare\n",
    "import numpy as np\n",
    "import matplotlib.pyplot as plt\n",
    "import matplotlib as mpl\n",
    "from math import pi\n",
    "\n",
    "import scipy as sc\n",
    "from scipy import constants"
   ]
  },
  {
   "cell_type": "markdown",
   "id": "93d0cdc0",
   "metadata": {},
   "source": [
    "Previously saved reference solutions will be loaded if F2PY-wrapped Stamnes' DISORT is unavailable."
   ]
  },
  {
   "cell_type": "code",
   "execution_count": 2,
   "id": "dbacba8b",
   "metadata": {},
   "outputs": [
    {
     "name": "stdout",
     "output_type": "stream",
     "text": [
      "Stamnes' DISORT imported.\n"
     ]
    }
   ],
   "source": [
    "disort_is_installed = True\n",
    "try:\n",
    "    import disort\n",
    "    print(\"Stamnes' DISORT imported.\")\n",
    "except ImportError:\n",
    "    disort_is_installed = False\n",
    "    print(\"Stamnes' DISORT unavailable. Cached results will be used.\")"
   ]
  },
  {
   "cell_type": "markdown",
   "id": "15bb0f21",
   "metadata": {},
   "source": [
    "# Table of Contents\n",
    "* [6b and setup](#6b-and-setup)\n",
    "* [6c](#6c)\n",
    "* [6d](#6d)\n",
    "* [6e](#6e)\n",
    "* [6f](#6f)\n",
    "* [6g](#6g)\n",
    "* [6h](#6h)\n"
   ]
  },
  {
   "cell_type": "markdown",
   "id": "8991c0c6",
   "metadata": {},
   "source": [
    "# Test Problem 6:  No Scattering, Increasingly Complex Sources (relevant for modeling longwave radiation)"
   ]
  },
  {
   "cell_type": "markdown",
   "id": "ad3c6ef4",
   "metadata": {},
   "source": [
    "When modeling longwave radiation, scattering is often negligable ($\\omega = 0$) but there are many sources that have to be accounted for, not to mention surface reflection. Increasingly complex sources, most of which are relevant for modeling longwave radiation, are added for each subsequent subproblem."
   ]
  },
  {
   "cell_type": "markdown",
   "id": "6b15a310",
   "metadata": {},
   "source": [
    "# 6b and setup"
   ]
  },
  {
   "cell_type": "markdown",
   "id": "2b9dcc79-9399-4fef-a108-b5ace236e2c7",
   "metadata": {},
   "source": [
    "The only source is the direct beam. Since there is no scattering, there is only direct radiation which is trivially modeled by Beer's law."
   ]
  },
  {
   "cell_type": "markdown",
   "id": "02881e0a",
   "metadata": {},
   "source": [
    "**PythonicDISORT**"
   ]
  },
  {
   "cell_type": "code",
   "execution_count": 3,
   "id": "eaeaf144",
   "metadata": {},
   "outputs": [],
   "source": [
    "######################################### PYDISORT ARGUMENTS #######################################\n",
    "\n",
    "tau_arr = 1  # One layer of thickness 1 (medium-thick atmosphere)\n",
    "omega_arr = 0  # No scattering\n",
    "NQuad = 16  # 16 streams (8 quadrature nodes for each hemisphere)\n",
    "Leg_coeffs_all = np.zeros(NQuad + 1)\n",
    "mu0 = 0.5  # Cosine of solar zenith angle (low, glancing angle)\n",
    "I0 = 200  # Intensity of direct beam\n",
    "phi0 = 0  # Azimuthal angle of direct beam\n",
    "\n",
    "# Optional (used)\n",
    "\n",
    "# Optional (unused)\n",
    "NLeg = None\n",
    "NFourier = None\n",
    "b_pos = 0\n",
    "b_neg = 0\n",
    "only_flux = False\n",
    "f_arr = 0\n",
    "NT_cor = False\n",
    "BDRF_Fourier_modes = []\n",
    "s_poly_coeffs=np.array([[]])\n",
    "use_banded_solver_NLayers = 10\n",
    "autograd_compatible=False\n",
    "\n",
    "####################################################################################################"
   ]
  },
  {
   "cell_type": "code",
   "execution_count": 4,
   "id": "e21756a3",
   "metadata": {},
   "outputs": [],
   "source": [
    "# Call pydisort function\n",
    "mu_arr, flux_up, flux_down, u0, u = PythonicDISORT.pydisort(\n",
    "    tau_arr, omega_arr,\n",
    "    NQuad,\n",
    "    Leg_coeffs_all,\n",
    "    mu0, I0, phi0,\n",
    ")"
   ]
  },
  {
   "cell_type": "markdown",
   "id": "659da73a",
   "metadata": {},
   "source": [
    "**Setup for tests**"
   ]
  },
  {
   "cell_type": "code",
   "execution_count": 5,
   "id": "cf7b5e45",
   "metadata": {},
   "outputs": [],
   "source": [
    "# Reorder mu_arr from smallest to largest\n",
    "reorder_mu = np.argsort(mu_arr)\n",
    "mu_arr_RO = mu_arr[reorder_mu]\n",
    "\n",
    "# We may not want to compare intensities around the direct beam\n",
    "deg_around_beam_to_not_compare = 0\n",
    "mu_to_compare = (\n",
    "    np.abs(np.arccos(np.abs(mu_arr_RO)) - np.arccos(mu0)) * 180 / pi\n",
    "    > deg_around_beam_to_not_compare\n",
    ")\n",
    "mu_test_arr_RO = mu_arr_RO[mu_to_compare]"
   ]
  },
  {
   "cell_type": "code",
   "execution_count": 6,
   "id": "7b8801dc",
   "metadata": {},
   "outputs": [],
   "source": [
    "# Number of phi grid points\n",
    "Nphi = 2\n",
    "phi_arr = np.random.random(Nphi) * 2 * pi\n",
    "\n",
    "# tau test points\n",
    "tau_test_arr = np.array([0, 0.5, 1])\n",
    "Ntau = len(tau_test_arr)"
   ]
  },
  {
   "cell_type": "markdown",
   "id": "5a7fefca",
   "metadata": {},
   "source": [
    "**Stamnes' DISORT**"
   ]
  },
  {
   "cell_type": "code",
   "execution_count": 7,
   "id": "1bf8a9d2",
   "metadata": {},
   "outputs": [],
   "source": [
    "# Stamnes' DISORT arguments\n",
    "nlyr = 1\n",
    "nmom = NQuad\n",
    "nstr = NQuad\n",
    "numu = NQuad\n",
    "nphi = Nphi\n",
    "ntau = Ntau\n",
    "usrang = True\n",
    "usrtau = True\n",
    "ibcnd = 0\n",
    "onlyfl = False\n",
    "prnt = np.array([False, False, False, False, False])  # Prints to CMD instead of this notebook\n",
    "plank = False\n",
    "lamber = False\n",
    "deltamplus = False\n",
    "do_pseudo_sphere = False\n",
    "dtauc = tau_arr\n",
    "ssalb = omega_arr\n",
    "pmom = Leg_coeffs_all.T\n",
    "temper = np.zeros(nlyr + 1)\n",
    "wvnmlo = 0\n",
    "wvnmhi = 0\n",
    "utau = tau_test_arr\n",
    "umu0 = mu0\n",
    "phi0 = phi0\n",
    "umu = mu_arr_RO\n",
    "phi = phi_arr\n",
    "fbeam = I0\n",
    "fisot = 0\n",
    "albedo = 0\n",
    "btemp = 0\n",
    "ttemp = 0\n",
    "temis = 0\n",
    "earth_radius = 6371\n",
    "h_lyr = np.zeros(nlyr + 1)\n",
    "rhoq = np.zeros((nstr // 2, nstr + 1, nstr))\n",
    "rhou = np.zeros((numu, nstr // 2 + 1, nstr))\n",
    "rho_accurate = np.zeros((numu, nphi))\n",
    "bemst = np.zeros(nstr // 2)\n",
    "emust = np.zeros(numu)\n",
    "accur = 0\n",
    "header = \"\"\n",
    "rfldir = np.zeros(ntau)\n",
    "rfldn = np.zeros(ntau)\n",
    "flup = np.zeros(ntau)\n",
    "dfdt = np.zeros(ntau)\n",
    "uavg = np.zeros(ntau)\n",
    "uu = np.zeros((numu, ntau, nphi))\n",
    "albmed = np.zeros(numu)\n",
    "trnmed = np.zeros(numu)"
   ]
  },
  {
   "cell_type": "code",
   "execution_count": 8,
   "id": "795dd2ef",
   "metadata": {},
   "outputs": [],
   "source": [
    "if disort_is_installed:\n",
    "    # Run disort, putting DFDT, UAVG, and UU in a, b, and c, respectively\n",
    "    rfldir, rfldn, flup, dfdt, uavg, uu, albmed, trnmed = disort.disort(usrang, usrtau, ibcnd, onlyfl, prnt, plank, lamber, deltamplus, do_pseudo_sphere, dtauc, ssalb,\n",
    "                            pmom, temper, wvnmlo, wvnmhi, utau, umu0, phi0 * 180/pi, umu, phi * 180/pi, fbeam, fisot, albedo, btemp, ttemp,\n",
    "                            temis, earth_radius, h_lyr, rhoq, rhou, rho_accurate, bemst, emust, accur, header, rfldir,\n",
    "                            rfldn, flup, dfdt, uavg, uu, albmed, trnmed)\n",
    "    results = {\n",
    "        \"uu\": uu,\n",
    "        \"flup\": flup,\n",
    "        \"rfldn\": rfldn,\n",
    "        \"rfldir\": rfldir,\n",
    "        \"tau_test_arr\": tau_test_arr,\n",
    "        \"phi_arr\": phi_arr\n",
    "    }\n",
    "else:\n",
    "    # Load saved results from Stamnes' DISORT\n",
    "    results = np.load(\"Stamnes_results/6b_test.npz\")"
   ]
  },
  {
   "cell_type": "markdown",
   "id": "06841963",
   "metadata": {},
   "source": [
    "**Comparisons**"
   ]
  },
  {
   "cell_type": "code",
   "execution_count": 9,
   "id": "b06865bd",
   "metadata": {},
   "outputs": [
    {
     "name": "stdout",
     "output_type": "stream",
     "text": [
      "Max pointwise differences\n",
      "\n",
      "Upward (diffuse) fluxes\n",
      "Difference = 0.0\n",
      "Difference ratio = 0.0\n",
      "\n",
      "Downward (diffuse) fluxes\n",
      "Difference = 0.0\n",
      "Difference ratio = 0.0\n",
      "\n",
      "Direct (downward) fluxes\n",
      "Difference = 6.765569366962154e-07\n",
      "Difference ratio = 1.8390723931173657e-08\n",
      "\n",
      "Intensities\n",
      "\n",
      "At tau = 0.0\n",
      "Max pointwise difference = 0.0\n",
      "At tau = 0.0\n",
      "Max pointwise difference ratio = 0.0\n",
      "\n"
     ]
    }
   ],
   "source": [
    "(\n",
    "    diff_flux_up,\n",
    "    ratio_flux_up,\n",
    "    diff_flux_down_diffuse,\n",
    "    ratio_flux_down_diffuse,\n",
    "    diff_flux_down_direct,\n",
    "    ratio_flux_down_direct,\n",
    "    diff,\n",
    "    diff_ratio,\n",
    ") = _compare(results, mu_to_compare, reorder_mu, flux_up, flux_down, u)"
   ]
  },
  {
   "cell_type": "markdown",
   "id": "64634b9b",
   "metadata": {},
   "source": [
    "**Does the test pass?**"
   ]
  },
  {
   "cell_type": "code",
   "execution_count": 10,
   "id": "e3b31888",
   "metadata": {},
   "outputs": [
    {
     "name": "stdout",
     "output_type": "stream",
     "text": [
      "The test passes\n"
     ]
    }
   ],
   "source": [
    "assert np.max(ratio_flux_up[diff_flux_up > 1e-3], initial=0) < 1e-3\n",
    "assert np.max(ratio_flux_down_diffuse[diff_flux_down_diffuse > 1e-3], initial=0) < 1e-3\n",
    "assert np.max(ratio_flux_down_direct[diff_flux_down_direct > 1e-3], initial=0) < 1e-3\n",
    "assert np.max(diff_ratio[diff > 1e-3], initial=0) < 1e-2\n",
    "\n",
    "'''\n",
    "np.savez_compressed (\n",
    "    \"Stamnes_results/6b_test\",\n",
    "    phi_arr=phi_arr,\n",
    "    tau_test_arr=tau_test_arr,\n",
    "    uu=uu,\n",
    "    flup=flup,\n",
    "    rfldn=rfldn,\n",
    "    rfldir=rfldir,\n",
    ")\n",
    "'''\n",
    "\n",
    "print(\"The test passes\")"
   ]
  },
  {
   "cell_type": "markdown",
   "id": "79a6b62f",
   "metadata": {},
   "source": [
    "-------"
   ]
  },
  {
   "cell_type": "markdown",
   "id": "ab9ffe3f",
   "metadata": {},
   "source": [
    "# 6c"
   ]
  },
  {
   "cell_type": "markdown",
   "id": "de98740a",
   "metadata": {},
   "source": [
    "Direct beam source and Lambertian (isotropic) surface reflection with albedo $\\omega_s$."
   ]
  },
  {
   "cell_type": "markdown",
   "id": "0570f661",
   "metadata": {},
   "source": [
    "**PythonicDISORT**"
   ]
  },
  {
   "cell_type": "code",
   "execution_count": 11,
   "id": "0998b722",
   "metadata": {},
   "outputs": [],
   "source": [
    "######################################### PYDISORT ARGUMENTS #######################################\n",
    "\n",
    "tau_arr = 1  # One layer of thickness 1 (medium-thick atmosphere)\n",
    "omega_arr = 0  # No scattering\n",
    "NQuad = 16  # 16 streams (8 quadrature nodes for each hemisphere)\n",
    "Leg_coeffs_all = np.zeros(NQuad + 1)\n",
    "mu0 = 0.5  # Cosine of solar zenith angle (low, glancing angle)\n",
    "I0 = 200  # Intensity of direct beam\n",
    "phi0 = 0  # Azimuthal angle of direct beam\n",
    "\n",
    "# Optional (used)\n",
    "omega_s = 0.5\n",
    "BDRF_Fourier_modes = [lambda mu, neg_mup: np.full((len(mu), len(neg_mup)), omega_s)]\n",
    "\n",
    "# Optional (unused)\n",
    "NLeg = None\n",
    "NFourier = None\n",
    "b_pos = 0\n",
    "b_neg = 0\n",
    "only_flux = False\n",
    "f_arr = 0\n",
    "NT_cor = False\n",
    "s_poly_coeffs=np.array([[]])\n",
    "use_banded_solver_NLayers = 10\n",
    "autograd_compatible=False\n",
    "\n",
    "####################################################################################################"
   ]
  },
  {
   "cell_type": "code",
   "execution_count": 12,
   "id": "c8474d99",
   "metadata": {},
   "outputs": [],
   "source": [
    "# Call pydisort function\n",
    "mu_arr, flux_up, flux_down, u0, u = PythonicDISORT.pydisort(\n",
    "    tau_arr, omega_arr,\n",
    "    NQuad,\n",
    "    Leg_coeffs_all,\n",
    "    mu0, I0, phi0,\n",
    "    BDRF_Fourier_modes=BDRF_Fourier_modes,\n",
    ")"
   ]
  },
  {
   "cell_type": "markdown",
   "id": "faac0f92",
   "metadata": {},
   "source": [
    "**Stamnes' DISORT**"
   ]
  },
  {
   "cell_type": "code",
   "execution_count": 13,
   "id": "03cdbcd4",
   "metadata": {},
   "outputs": [],
   "source": [
    "# Stamnes' DISORT arguments\n",
    "nlyr = 1\n",
    "nmom = NQuad\n",
    "nstr = NQuad\n",
    "numu = NQuad\n",
    "nphi = Nphi\n",
    "ntau = Ntau\n",
    "usrang = True\n",
    "usrtau = True\n",
    "ibcnd = 0\n",
    "onlyfl = False\n",
    "prnt = np.array([False, False, False, False, False])  # Prints to CMD instead of this notebook\n",
    "plank = False\n",
    "lamber = True\n",
    "deltamplus = False\n",
    "do_pseudo_sphere = False\n",
    "dtauc = tau_arr\n",
    "ssalb = omega_arr\n",
    "pmom = Leg_coeffs_all.T\n",
    "temper = np.zeros(nlyr + 1)\n",
    "wvnmlo = 0\n",
    "wvnmhi = 0\n",
    "utau = tau_test_arr\n",
    "umu0 = mu0\n",
    "phi0 = phi0\n",
    "umu = mu_arr_RO\n",
    "phi = phi_arr\n",
    "fbeam = I0\n",
    "fisot = 0\n",
    "albedo = omega_s\n",
    "btemp = 0\n",
    "ttemp = 0\n",
    "temis = 0\n",
    "earth_radius = 6371\n",
    "h_lyr = np.zeros(nlyr + 1)\n",
    "rhoq = np.zeros((nstr // 2, nstr + 1, nstr))\n",
    "rhou = np.zeros((numu, nstr // 2 + 1, nstr))\n",
    "rho_accurate = np.zeros((numu, nphi))\n",
    "bemst = np.zeros(nstr // 2)\n",
    "emust = np.zeros(numu)\n",
    "accur = 0\n",
    "header = \"\"\n",
    "rfldir = np.zeros(ntau)\n",
    "rfldn = np.zeros(ntau)\n",
    "flup = np.zeros(ntau)\n",
    "dfdt = np.zeros(ntau)\n",
    "uavg = np.zeros(ntau)\n",
    "uu = np.zeros((numu, ntau, nphi))\n",
    "albmed = np.zeros(numu)\n",
    "trnmed = np.zeros(numu)"
   ]
  },
  {
   "cell_type": "code",
   "execution_count": 14,
   "id": "650a2b6a",
   "metadata": {},
   "outputs": [],
   "source": [
    "if disort_is_installed:\n",
    "    # Run disort, putting DFDT, UAVG, and UU in a, b, and c, respectively\n",
    "    rfldir, rfldn, flup, dfdt, uavg, uu, albmed, trnmed = disort.disort(usrang, usrtau, ibcnd, onlyfl, prnt, plank, lamber, deltamplus, do_pseudo_sphere, dtauc, ssalb,\n",
    "                            pmom, temper, wvnmlo, wvnmhi, utau, umu0, phi0 * 180/pi, umu, phi * 180/pi, fbeam, fisot, albedo, btemp, ttemp,\n",
    "                            temis, earth_radius, h_lyr, rhoq, rhou, rho_accurate, bemst, emust, accur, header, rfldir,\n",
    "                            rfldn, flup, dfdt, uavg, uu, albmed, trnmed)\n",
    "    results = {\n",
    "        \"uu\": uu,\n",
    "        \"flup\": flup,\n",
    "        \"rfldn\": rfldn,\n",
    "        \"rfldir\": rfldir,\n",
    "        \"tau_test_arr\": tau_test_arr,\n",
    "        \"phi_arr\": phi_arr\n",
    "    }\n",
    "else:\n",
    "    # Load saved results from `DISOTESTAUX.f` of Stamnes' DISORT\n",
    "    results = np.load(\"Stamnes_results/6c_test.npz\")"
   ]
  },
  {
   "cell_type": "markdown",
   "id": "21afb82d",
   "metadata": {},
   "source": [
    "**Comparisons**"
   ]
  },
  {
   "cell_type": "code",
   "execution_count": 15,
   "id": "1673a5c6",
   "metadata": {},
   "outputs": [
    {
     "name": "stdout",
     "output_type": "stream",
     "text": [
      "Max pointwise differences\n",
      "\n",
      "Upward (diffuse) fluxes\n",
      "Difference = 1.0844606856963424e-07\n",
      "Difference ratio = 7.305203278103334e-08\n",
      "\n",
      "Downward (diffuse) fluxes\n",
      "Difference = 0.0\n",
      "Difference ratio = 0.0\n",
      "\n",
      "Direct (downward) fluxes\n",
      "Difference = 6.765569366962154e-07\n",
      "Difference ratio = 1.8390723931173657e-08\n",
      "\n",
      "Intensities\n",
      "\n",
      "At tau = 0.5\n",
      "Max pointwise difference = 1.300719061347877e-07\n",
      "At tau = 0.0\n",
      "Max pointwise difference ratio = 2.1190420643433356e-06\n",
      "\n"
     ]
    }
   ],
   "source": [
    "(\n",
    "    diff_flux_up,\n",
    "    ratio_flux_up,\n",
    "    diff_flux_down_diffuse,\n",
    "    ratio_flux_down_diffuse,\n",
    "    diff_flux_down_direct,\n",
    "    ratio_flux_down_direct,\n",
    "    diff,\n",
    "    diff_ratio,\n",
    ") = _compare(results, mu_to_compare, reorder_mu, flux_up, flux_down, u)"
   ]
  },
  {
   "cell_type": "markdown",
   "id": "851920a2",
   "metadata": {},
   "source": [
    "**Does the test pass?**"
   ]
  },
  {
   "cell_type": "code",
   "execution_count": 16,
   "id": "2486ac2c",
   "metadata": {},
   "outputs": [
    {
     "name": "stdout",
     "output_type": "stream",
     "text": [
      "The test passes\n"
     ]
    }
   ],
   "source": [
    "assert np.max(ratio_flux_up[diff_flux_up > 1e-3], initial=0) < 1e-3\n",
    "assert np.max(ratio_flux_down_diffuse[diff_flux_down_diffuse > 1e-3], initial=0) < 1e-3\n",
    "assert np.max(ratio_flux_down_direct[diff_flux_down_direct > 1e-3], initial=0) < 1e-3\n",
    "assert np.max(diff_ratio[diff > 1e-3], initial=0) < 1e-2\n",
    "\n",
    "'''\n",
    "np.savez_compressed (\n",
    "    \"Stamnes_results/6c_test\",\n",
    "    phi_arr=phi_arr,\n",
    "    tau_test_arr=tau_test_arr,\n",
    "    uu=uu,\n",
    "    flup=flup,\n",
    "    rfldn=rfldn,\n",
    "    rfldir=rfldir,\n",
    ")\n",
    "'''\n",
    "\n",
    "print(\"The test passes\")"
   ]
  },
  {
   "cell_type": "markdown",
   "id": "ea49a4a0",
   "metadata": {},
   "source": [
    "----------"
   ]
  },
  {
   "cell_type": "markdown",
   "id": "704f58e6",
   "metadata": {},
   "source": [
    "# 6d"
   ]
  },
  {
   "cell_type": "markdown",
   "id": "f8945ce5",
   "metadata": {},
   "source": [
    "Direct beam source and Hapke (anisotropic) surface reflection (see [[1, p. 233]](#cite-Hap1993) and [[2, p. 44]](#cite-STWLE2000)). Only flux values are compared."
   ]
  },
  {
   "cell_type": "markdown",
   "id": "a7aa9b64",
   "metadata": {},
   "source": [
    "**PythonicDISORT**"
   ]
  },
  {
   "cell_type": "code",
   "execution_count": 17,
   "id": "8f09f5b4",
   "metadata": {},
   "outputs": [],
   "source": [
    "from PythonicDISORT.subroutines import cache_BDRF_Fourier_modes"
   ]
  },
  {
   "cell_type": "code",
   "execution_count": 18,
   "id": "99b40042",
   "metadata": {},
   "outputs": [],
   "source": [
    "def Hapke(mu, neg_mup, dphi, B0, HH, W):\n",
    "    cos_alpha = (mu[:, None] * neg_mup[None, :] - np.sqrt(1 - mu**2)[:, None] * np.sqrt(\n",
    "        (1 - neg_mup**2)[None, :]\n",
    "    ) * np.cos(dphi)).clip(min=-1, max=1)\n",
    "    alpha = np.arccos(cos_alpha)\n",
    "\n",
    "    P = 1 + cos_alpha / 2\n",
    "    B = B0 * HH / (HH + np.tan(alpha / 2))\n",
    "\n",
    "    gamma = np.sqrt(1 - W)\n",
    "    H0 = ((1 + 2 * neg_mup) / (1 + 2 * neg_mup * gamma))[None, :]\n",
    "    H = ((1 + 2 * mu) / (1 + 2 * mu * gamma))[:, None]\n",
    "\n",
    "    return W / 4 / (mu[:, None] + neg_mup[None, :]) * ((1 + B) * P + H0 * H - 1)"
   ]
  },
  {
   "cell_type": "code",
   "execution_count": 19,
   "id": "78ef8ab9",
   "metadata": {},
   "outputs": [],
   "source": [
    "######################################### PYDISORT ARGUMENTS #######################################\n",
    "\n",
    "tau_arr = 1  # One layer of thickness 1 (medium-thick atmosphere)\n",
    "omega_arr = 0  # No scattering\n",
    "NQuad = 16  # 16 streams (8 quadrature nodes for each hemisphere)\n",
    "Leg_coeffs_all = np.zeros(NQuad + 1)\n",
    "mu0 = 0.5  # Cosine of solar zenith angle (low, glancing angle)\n",
    "I0 = 200  # Intensity of direct beam\n",
    "phi0 = 0  # Azimuthal angle of direct beam\n",
    "\n",
    "# Optional (used)\n",
    "B0, HH, W = 1, 0.06, 0.6\n",
    "# It is very inefficient to determine the Fourier modes of the BDRF through numerical integration,\n",
    "# solve for the modes analytically if possible\n",
    "BDRF_Fourier_modes = [\n",
    "    lambda mu, neg_mup, m=m: (sc.integrate.quad_vec(\n",
    "        lambda dphi: Hapke(mu, neg_mup, dphi, B0, HH, W) * np.cos(m * dphi),\n",
    "        0,\n",
    "        2 * pi,\n",
    "    )[0] / ((1 + (m == 0)) * pi))\n",
    "    for m in range(NQuad)\n",
    "]\n",
    "# We cache ``BDRF_Fourier_modes`` since we will re-use them in later tests\n",
    "cached_BDRF_Fourier_modes = cache_BDRF_Fourier_modes(NQuad // 2, mu0, BDRF_Fourier_modes)\n",
    "only_flux = True\n",
    "\n",
    "# Optional (unused)\n",
    "NLeg = None\n",
    "NFourier = None\n",
    "b_pos = 0\n",
    "b_neg = 0\n",
    "f_arr = 0\n",
    "NT_cor = False\n",
    "s_poly_coeffs = np.array([[]])\n",
    "use_banded_solver_NLayers = 10\n",
    "autograd_compatible = False\n",
    "\n",
    "####################################################################################################\n"
   ]
  },
  {
   "cell_type": "code",
   "execution_count": 20,
   "id": "670dc3e8",
   "metadata": {},
   "outputs": [],
   "source": [
    "# Call pydisort function\n",
    "mu_arr, flux_up, flux_down, u0 = PythonicDISORT.pydisort(\n",
    "    tau_arr, omega_arr,\n",
    "    NQuad,\n",
    "    Leg_coeffs_all,\n",
    "    mu0, I0, phi0,\n",
    "    BDRF_Fourier_modes=cached_BDRF_Fourier_modes,\n",
    "    only_flux=only_flux,\n",
    ")"
   ]
  },
  {
   "cell_type": "code",
   "execution_count": 21,
   "id": "3b4e9ac3",
   "metadata": {},
   "outputs": [],
   "source": [
    "# Load saved results from `DISOTESTAUX.f` of Stamnes' DISORT\n",
    "results = np.load(\"Stamnes_results/6d_test.npz\")"
   ]
  },
  {
   "cell_type": "markdown",
   "id": "7b114c97",
   "metadata": {},
   "source": [
    "**Comparisons**"
   ]
  },
  {
   "cell_type": "code",
   "execution_count": 22,
   "id": "4d2eee6f",
   "metadata": {},
   "outputs": [
    {
     "name": "stdout",
     "output_type": "stream",
     "text": [
      "Max pointwise differences\n",
      "\n",
      "Upward (diffuse) fluxes\n",
      "Difference = 2.9980446845101483e-06\n",
      "Difference ratio = 2.155564036488847e-06\n",
      "\n",
      "Downward (diffuse) fluxes\n",
      "Difference = 0.0\n",
      "Difference ratio = 0.0\n",
      "\n",
      "Direct (downward) fluxes\n",
      "Difference = 4.411714423468993e-05\n",
      "Difference ratio = 2.0928556005904317e-06\n",
      "\n"
     ]
    }
   ],
   "source": [
    "(\n",
    "    diff_flux_up,\n",
    "    ratio_flux_up,\n",
    "    diff_flux_down_diffuse,\n",
    "    ratio_flux_down_diffuse,\n",
    "    diff_flux_down_direct,\n",
    "    ratio_flux_down_direct,\n",
    "    #diff,\n",
    "    #diff_ratio,\n",
    ") = _compare(results, mu_to_compare, reorder_mu, flux_up, flux_down)"
   ]
  },
  {
   "cell_type": "markdown",
   "id": "4a231c1c",
   "metadata": {},
   "source": [
    "**Does the test pass?**"
   ]
  },
  {
   "cell_type": "code",
   "execution_count": 23,
   "id": "54a56fc3",
   "metadata": {},
   "outputs": [
    {
     "name": "stdout",
     "output_type": "stream",
     "text": [
      "The test passes\n"
     ]
    }
   ],
   "source": [
    "assert np.max(ratio_flux_up[diff_flux_up > 1e-3], initial=0) < 1e-3\n",
    "assert np.max(ratio_flux_down_diffuse[diff_flux_down_diffuse > 1e-3], initial=0) < 1e-3\n",
    "assert np.max(ratio_flux_down_direct[diff_flux_down_direct > 1e-3], initial=0) < 1e-3\n",
    "#assert np.max(diff_ratio[diff > 1e-3], initial=0) < 1e-2\n",
    "\n",
    "print(\"The test passes\")"
   ]
  },
  {
   "cell_type": "markdown",
   "id": "f73df097",
   "metadata": {},
   "source": [
    "# 6e"
   ]
  },
  {
   "cell_type": "markdown",
   "id": "2be375c7",
   "metadata": {},
   "source": [
    "Sources: direct beam and blackbody emission from the surface (usually these sources are not used together). There is also Hapke surface reflection and the surface directional emissivity is consistent with the surface reflection in accordance with Kirchoff's law of thermal radiation. Only flux values are compared."
   ]
  },
  {
   "cell_type": "markdown",
   "id": "4f84e2a4",
   "metadata": {},
   "source": [
    "**PythonicDISORT**"
   ]
  },
  {
   "cell_type": "code",
   "execution_count": 24,
   "id": "3f03bacd",
   "metadata": {},
   "outputs": [],
   "source": [
    "from PythonicDISORT.subroutines import generate_emissivity_from_BDRF\n",
    "from PythonicDISORT.subroutines import blackbody_contrib_to_BCs"
   ]
  },
  {
   "cell_type": "code",
   "execution_count": 25,
   "id": "9bd75389",
   "metadata": {},
   "outputs": [],
   "source": [
    "def Hapke(mu, neg_mup, dphi, B0, HH, W):\n",
    "    cos_alpha = (mu[:, None] * neg_mup[None, :] - np.sqrt(1 - mu**2)[:, None] * np.sqrt(\n",
    "        (1 - neg_mup**2)[None, :]\n",
    "    ) * np.cos(dphi)).clip(min=-1, max=1)\n",
    "    alpha = np.arccos(cos_alpha)\n",
    "\n",
    "    P = 1 + cos_alpha / 2\n",
    "    B = B0 * HH / (HH + np.tan(alpha / 2))\n",
    "\n",
    "    gamma = np.sqrt(1 - W)\n",
    "    H0 = ((1 + 2 * neg_mup) / (1 + 2 * neg_mup * gamma))[None, :]\n",
    "    H = ((1 + 2 * mu) / (1 + 2 * mu * gamma))[:, None]\n",
    "\n",
    "    return W / 4 / (mu[:, None] + neg_mup[None, :]) * ((1 + B) * P + H0 * H - 1)"
   ]
  },
  {
   "cell_type": "code",
   "execution_count": 26,
   "id": "7678204a",
   "metadata": {},
   "outputs": [],
   "source": [
    "######################################### PYDISORT ARGUMENTS #######################################\n",
    "\n",
    "tau_arr = 1  # One layer of thickness 1 (medium-thick atmosphere)\n",
    "omega_arr = 0  # No scattering\n",
    "NQuad = 16  # 16 streams (8 quadrature nodes for each hemisphere)\n",
    "Leg_coeffs_all = np.zeros(NQuad + 1)\n",
    "mu0 = 0.5  # Cosine of solar zenith angle (low, glancing angle)\n",
    "I0 = 200  # Intensity of direct beam\n",
    "phi0 = 0  # Azimuthal angle of direct beam\n",
    "\n",
    "# Optional (used)\n",
    "B0, HH, W = 1, 0.06, 0.6\n",
    "BDRF_Fourier_modes = [\n",
    "    lambda mu, neg_mup, m=m: (sc.integrate.quad_vec(\n",
    "        lambda dphi: Hapke(mu, neg_mup, dphi, B0, HH, W) * np.cos(m * dphi),\n",
    "        0,\n",
    "        2 * pi,\n",
    "    )[0] / ((1 + (m == 0)) * pi))\n",
    "    for m in range(NQuad)\n",
    "] # We will actually use ``cached_BDRF_Fourier_modes`` from test 6d\n",
    "\n",
    "BTEMP = 300\n",
    "WVNMLO = 0\n",
    "WVNMHI = 50000\n",
    "# The emissivity of the surface should be consistent with the BDRF \n",
    "# in accordance with Kirchoff's law of thermal radiation\n",
    "emissivity = generate_emissivity_from_BDRF(NQuad // 2, BDRF_Fourier_modes[0])\n",
    "b_pos = emissivity * blackbody_contrib_to_BCs(BTEMP, WVNMLO, WVNMHI)\n",
    "only_flux = True\n",
    "\n",
    "# Optional (unused)\n",
    "NLeg = None\n",
    "NFourier = None\n",
    "b_neg = 0\n",
    "f_arr = 0\n",
    "NT_cor = False\n",
    "s_poly_coeffs = np.array([[]])\n",
    "use_banded_solver_NLayers = 10\n",
    "autograd_compatible = False\n",
    "\n",
    "####################################################################################################\n"
   ]
  },
  {
   "cell_type": "code",
   "execution_count": 27,
   "id": "bfa884d8",
   "metadata": {},
   "outputs": [],
   "source": [
    "# Call pydisort function\n",
    "mu_arr, flux_up, flux_down, u0 = PythonicDISORT.pydisort(\n",
    "    tau_arr, omega_arr,\n",
    "    NQuad,\n",
    "    Leg_coeffs_all,\n",
    "    mu0, I0, phi0,\n",
    "    b_pos=b_pos,\n",
    "    BDRF_Fourier_modes=cached_BDRF_Fourier_modes,\n",
    "    only_flux=only_flux,\n",
    ")"
   ]
  },
  {
   "cell_type": "code",
   "execution_count": 28,
   "id": "b96bca70",
   "metadata": {},
   "outputs": [],
   "source": [
    "# Load saved results from `DISOTESTAUX.f` of Stamnes' DISORT\n",
    "results = np.load(\"Stamnes_results/6e_test.npz\")"
   ]
  },
  {
   "cell_type": "markdown",
   "id": "31f1e6cc",
   "metadata": {},
   "source": [
    "**Comparisons**"
   ]
  },
  {
   "cell_type": "code",
   "execution_count": 29,
   "id": "784ad635",
   "metadata": {},
   "outputs": [
    {
     "name": "stdout",
     "output_type": "stream",
     "text": [
      "Max pointwise differences\n",
      "\n",
      "Upward (diffuse) fluxes\n",
      "Difference = 0.07146771916177386\n",
      "Difference ratio = 0.00022678643977689422\n",
      "\n",
      "Downward (diffuse) fluxes\n",
      "Difference = 0.0\n",
      "Difference ratio = 0.0\n",
      "\n",
      "Direct (downward) fluxes\n",
      "Difference = 4.411714423468993e-05\n",
      "Difference ratio = 2.0928556005904317e-06\n",
      "\n"
     ]
    }
   ],
   "source": [
    "(\n",
    "    diff_flux_up,\n",
    "    ratio_flux_up,\n",
    "    diff_flux_down_diffuse,\n",
    "    ratio_flux_down_diffuse,\n",
    "    diff_flux_down_direct,\n",
    "    ratio_flux_down_direct,\n",
    "    #diff,\n",
    "    #diff_ratio,\n",
    ") = _compare(results, mu_to_compare, reorder_mu, flux_up, flux_down)"
   ]
  },
  {
   "cell_type": "markdown",
   "id": "5c8877d4",
   "metadata": {},
   "source": [
    "**Does the test pass?**"
   ]
  },
  {
   "cell_type": "code",
   "execution_count": 30,
   "id": "8dc0183b",
   "metadata": {},
   "outputs": [
    {
     "name": "stdout",
     "output_type": "stream",
     "text": [
      "The test passes\n"
     ]
    }
   ],
   "source": [
    "assert np.max(ratio_flux_up[diff_flux_up > 1e-3], initial=0) < 1e-3\n",
    "assert np.max(ratio_flux_down_diffuse[diff_flux_down_diffuse > 1e-3], initial=0) < 1e-3\n",
    "assert np.max(ratio_flux_down_direct[diff_flux_down_direct > 1e-3], initial=0) < 1e-3\n",
    "#assert np.max(diff_ratio[diff > 1e-3], initial=0) < 1e-2\n",
    "\n",
    "print(\"The test passes\")"
   ]
  },
  {
   "cell_type": "markdown",
   "id": "ff9ac3eb",
   "metadata": {},
   "source": [
    "-------"
   ]
  },
  {
   "cell_type": "markdown",
   "id": "48331a02",
   "metadata": {},
   "source": [
    "# 6f"
   ]
  },
  {
   "cell_type": "markdown",
   "id": "4a62203b",
   "metadata": {},
   "source": [
    "Sources: direct beam, blackbody emission from the surface, blackbody emission plus additional isotropic radiation from the top boundary. There is also Hapke surface reflection and the surface directional emissivity is consistent with the surface reflection in accordance with Kirchoff's law of thermal radiation. The emissivity of the top boundary is set to $1$. Only flux values are compared."
   ]
  },
  {
   "cell_type": "markdown",
   "id": "6b4c0aa8",
   "metadata": {},
   "source": [
    "**PythonicDISORT**"
   ]
  },
  {
   "cell_type": "code",
   "execution_count": 31,
   "id": "ea1db302",
   "metadata": {},
   "outputs": [],
   "source": [
    "from PythonicDISORT.subroutines import generate_emissivity_from_BDRF\n",
    "from PythonicDISORT.subroutines import blackbody_contrib_to_BCs"
   ]
  },
  {
   "cell_type": "code",
   "execution_count": 32,
   "id": "9a090362",
   "metadata": {},
   "outputs": [],
   "source": [
    "def Hapke(mu, neg_mup, dphi, B0, HH, W):\n",
    "    cos_alpha = (mu[:, None] * neg_mup[None, :] - np.sqrt(1 - mu**2)[:, None] * np.sqrt(\n",
    "        (1 - neg_mup**2)[None, :]\n",
    "    ) * np.cos(dphi)).clip(min=-1, max=1)\n",
    "    alpha = np.arccos(cos_alpha)\n",
    "\n",
    "    P = 1 + cos_alpha / 2\n",
    "    B = B0 * HH / (HH + np.tan(alpha / 2))\n",
    "\n",
    "    gamma = np.sqrt(1 - W)\n",
    "    H0 = ((1 + 2 * neg_mup) / (1 + 2 * neg_mup * gamma))[None, :]\n",
    "    H = ((1 + 2 * mu) / (1 + 2 * mu * gamma))[:, None]\n",
    "\n",
    "    return W / 4 / (mu[:, None] + neg_mup[None, :]) * ((1 + B) * P + H0 * H - 1)"
   ]
  },
  {
   "cell_type": "code",
   "execution_count": 33,
   "id": "c17a545d",
   "metadata": {},
   "outputs": [],
   "source": [
    "######################################### PYDISORT ARGUMENTS #######################################\n",
    "\n",
    "tau_arr = 1  # One layer of thickness 1 (medium-thick atmosphere)\n",
    "omega_arr = 0  # No scattering\n",
    "NQuad = 16  # 16 streams (8 quadrature nodes for each hemisphere)\n",
    "Leg_coeffs_all = np.zeros(NQuad + 1)\n",
    "mu0 = 0.5  # Cosine of solar zenith angle (low, glancing angle)\n",
    "I0 = 200  # Intensity of direct beam\n",
    "phi0 = 0  # Azimuthal angle of direct beam\n",
    "\n",
    "# Optional (used)\n",
    "B0, HH, W = 1, 0.06, 0.6\n",
    "BDRF_Fourier_modes = [\n",
    "    lambda mu, neg_mup, m=m: (sc.integrate.quad_vec(\n",
    "        lambda dphi: Hapke(mu, neg_mup, dphi, B0, HH, W) * np.cos(m * dphi),\n",
    "        0,\n",
    "        2 * pi,\n",
    "    )[0] / ((1 + (m == 0)) * pi))\n",
    "    for m in range(NQuad)\n",
    "] # We will actually use ``cached_BDRF_Fourier_modes`` from test 6d\n",
    "\n",
    "BTEMP = 300\n",
    "TTEMP = 250\n",
    "WVNMLO = 0\n",
    "WVNMHI = 50000\n",
    "# The emissivity of the surface should be consistent with the BDRF \n",
    "# in accordance with Kirchoff's law of thermal radiation\n",
    "emissivity = generate_emissivity_from_BDRF(NQuad // 2, BDRF_Fourier_modes[0])\n",
    "b_pos = emissivity * blackbody_contrib_to_BCs(BTEMP, WVNMLO, WVNMHI) \n",
    "b_neg = blackbody_contrib_to_BCs(TTEMP, WVNMLO, WVNMHI) + 100 / pi # Emissivity 1\n",
    "only_flux = True\n",
    "\n",
    "# Optional (unused)\n",
    "NLeg = None\n",
    "NFourier = None\n",
    "f_arr = 0\n",
    "NT_cor = False\n",
    "s_poly_coeffs = np.array([[]])\n",
    "use_banded_solver_NLayers = 10\n",
    "autograd_compatible = False\n",
    "\n",
    "####################################################################################################\n"
   ]
  },
  {
   "cell_type": "code",
   "execution_count": 34,
   "id": "6e45373b",
   "metadata": {},
   "outputs": [],
   "source": [
    "# Call pydisort function\n",
    "mu_arr, flux_up, flux_down, u0 = PythonicDISORT.pydisort(\n",
    "    tau_arr, omega_arr,\n",
    "    NQuad,\n",
    "    Leg_coeffs_all,\n",
    "    mu0, I0, phi0,\n",
    "    b_pos=b_pos,\n",
    "    b_neg=b_neg,\n",
    "    BDRF_Fourier_modes=cached_BDRF_Fourier_modes,\n",
    "    only_flux=only_flux,\n",
    ")"
   ]
  },
  {
   "cell_type": "code",
   "execution_count": 35,
   "id": "e073c16e",
   "metadata": {},
   "outputs": [],
   "source": [
    "# Load saved results from `DISOTESTAUX.f` of Stamnes' DISORT\n",
    "results = np.load(\"Stamnes_results/6f_test.npz\")"
   ]
  },
  {
   "cell_type": "markdown",
   "id": "ffda97ce",
   "metadata": {},
   "source": [
    "**Comparisons**"
   ]
  },
  {
   "cell_type": "code",
   "execution_count": 36,
   "id": "038dab88",
   "metadata": {},
   "outputs": [
    {
     "name": "stdout",
     "output_type": "stream",
     "text": [
      "Max pointwise differences\n",
      "\n",
      "Upward (diffuse) fluxes\n",
      "Difference = 0.07142052789885156\n",
      "Difference ratio = 0.00021798172634933044\n",
      "\n",
      "Downward (diffuse) fluxes\n",
      "Difference = 0.0020007493918683394\n",
      "Difference ratio = 7.137215957925398e-06\n",
      "\n",
      "Direct (downward) fluxes\n",
      "Difference = 4.411714423468993e-05\n",
      "Difference ratio = 2.0928556005904317e-06\n",
      "\n"
     ]
    }
   ],
   "source": [
    "(\n",
    "    diff_flux_up,\n",
    "    ratio_flux_up,\n",
    "    diff_flux_down_diffuse,\n",
    "    ratio_flux_down_diffuse,\n",
    "    diff_flux_down_direct,\n",
    "    ratio_flux_down_direct,\n",
    "    #diff,\n",
    "    #diff_ratio,\n",
    ") = _compare(results, mu_to_compare, reorder_mu, flux_up, flux_down)"
   ]
  },
  {
   "cell_type": "markdown",
   "id": "3add831a",
   "metadata": {},
   "source": [
    "**Does the test pass?**"
   ]
  },
  {
   "cell_type": "code",
   "execution_count": 37,
   "id": "5ee2e766",
   "metadata": {},
   "outputs": [
    {
     "name": "stdout",
     "output_type": "stream",
     "text": [
      "The test passes\n"
     ]
    }
   ],
   "source": [
    "assert np.max(ratio_flux_up[diff_flux_up > 1e-3], initial=0) < 1e-3\n",
    "assert np.max(ratio_flux_down_diffuse[diff_flux_down_diffuse > 1e-3], initial=0) < 1e-3\n",
    "assert np.max(ratio_flux_down_direct[diff_flux_down_direct > 1e-3], initial=0) < 1e-3\n",
    "#assert np.max(diff_ratio[diff > 1e-3], initial=0) < 1e-2\n",
    "\n",
    "print(\"The test passes\")"
   ]
  },
  {
   "cell_type": "markdown",
   "id": "f5bf8fa7",
   "metadata": {},
   "source": [
    "--------"
   ]
  },
  {
   "cell_type": "markdown",
   "id": "8397d482",
   "metadata": {},
   "source": [
    "# 6g"
   ]
  },
  {
   "cell_type": "markdown",
   "id": "9d06cdb1",
   "metadata": {},
   "source": [
    "Sources: direct beam, blackbody emission from the surface, blackbody emission plus additional isotropic radiation from the top boundary, internal blackbody emission. There is also Hapke surface reflection and the surface directional emissivity is consistent with the surface reflection in accordance with Kirchoff's law of thermal radiation. The emissivities of other blackbodies are set to $1$. Only flux values are compared."
   ]
  },
  {
   "cell_type": "markdown",
   "id": "fa9130db",
   "metadata": {},
   "source": [
    "**PythonicDISORT**"
   ]
  },
  {
   "cell_type": "code",
   "execution_count": 38,
   "id": "3571a025",
   "metadata": {},
   "outputs": [],
   "source": [
    "from PythonicDISORT.subroutines import generate_emissivity_from_BDRF\n",
    "from PythonicDISORT.subroutines import blackbody_contrib_to_BCs\n",
    "from PythonicDISORT.subroutines import generate_s_poly_coeffs"
   ]
  },
  {
   "cell_type": "code",
   "execution_count": 39,
   "id": "0e9a321f",
   "metadata": {},
   "outputs": [],
   "source": [
    "def Hapke(mu, neg_mup, dphi, B0, HH, W):\n",
    "    cos_alpha = (mu[:, None] * neg_mup[None, :] - np.sqrt(1 - mu**2)[:, None] * np.sqrt(\n",
    "        (1 - neg_mup**2)[None, :]\n",
    "    ) * np.cos(dphi)).clip(min=-1, max=1)\n",
    "    alpha = np.arccos(cos_alpha)\n",
    "\n",
    "    P = 1 + cos_alpha / 2\n",
    "    B = B0 * HH / (HH + np.tan(alpha / 2))\n",
    "\n",
    "    gamma = np.sqrt(1 - W)\n",
    "    H0 = ((1 + 2 * neg_mup) / (1 + 2 * neg_mup * gamma))[None, :]\n",
    "    H = ((1 + 2 * mu) / (1 + 2 * mu * gamma))[:, None]\n",
    "\n",
    "    return W / 4 / (mu[:, None] + neg_mup[None, :]) * ((1 + B) * P + H0 * H - 1)"
   ]
  },
  {
   "cell_type": "code",
   "execution_count": 40,
   "id": "0900dbdc",
   "metadata": {},
   "outputs": [],
   "source": [
    "######################################### PYDISORT ARGUMENTS #######################################\n",
    "\n",
    "tau_arr = 1  # One layer of thickness 1 (medium-thick atmosphere)\n",
    "omega_arr = 0  # No scattering\n",
    "NQuad = 16  # 16 streams (8 quadrature nodes for each hemisphere)\n",
    "Leg_coeffs_all = np.zeros(NQuad + 1)\n",
    "mu0 = 0.5  # Cosine of solar zenith angle (low, glancing angle)\n",
    "I0 = 200  # Intensity of direct beam\n",
    "phi0 = 0  # Azimuthal angle of direct beam\n",
    "\n",
    "# Optional (used)\n",
    "B0, HH, W = 1, 0.06, 0.6\n",
    "BDRF_Fourier_modes = [\n",
    "    lambda mu, neg_mup, m=m: (sc.integrate.quad_vec(\n",
    "        lambda dphi: Hapke(mu, neg_mup, dphi, B0, HH, W) * np.cos(m * dphi),\n",
    "        0,\n",
    "        2 * pi,\n",
    "    )[0] / ((1 + (m == 0)) * pi))\n",
    "    for m in range(NQuad)\n",
    "] # We will actually use ``cached_BDRF_Fourier_modes`` from test 6d\n",
    "\n",
    "BTEMP = 300\n",
    "TTEMP = 250\n",
    "TEMPER = np.array([250, 300])\n",
    "WVNMLO = 0\n",
    "WVNMHI = 50000\n",
    "# The emissivity of the surface should be consistent with the BDRF \n",
    "# in accordance with Kirchoff's law of thermal radiation\n",
    "emissivity = generate_emissivity_from_BDRF(NQuad // 2, BDRF_Fourier_modes[0])\n",
    "b_pos = emissivity * blackbody_contrib_to_BCs(BTEMP, WVNMLO, WVNMHI) \n",
    "b_neg = blackbody_contrib_to_BCs(TTEMP, WVNMLO, WVNMHI) + 100 / pi # Emissivity 1\n",
    "s_poly_coeffs = generate_s_poly_coeffs(tau_arr, TEMPER, WVNMLO, WVNMHI) # Emissivity 1\n",
    "only_flux = True\n",
    "\n",
    "# Optional (unused)\n",
    "NLeg = None\n",
    "NFourier = None\n",
    "f_arr = 0\n",
    "NT_cor = False\n",
    "use_banded_solver_NLayers = 10\n",
    "autograd_compatible = False\n",
    "\n",
    "####################################################################################################\n"
   ]
  },
  {
   "cell_type": "code",
   "execution_count": 41,
   "id": "570cf762",
   "metadata": {},
   "outputs": [],
   "source": [
    "# Call pydisort function\n",
    "mu_arr, flux_up, flux_down, u0 = PythonicDISORT.pydisort(\n",
    "    tau_arr, omega_arr,\n",
    "    NQuad,\n",
    "    Leg_coeffs_all,\n",
    "    mu0, I0, phi0,\n",
    "    b_pos=b_pos,\n",
    "    b_neg=b_neg,\n",
    "    BDRF_Fourier_modes=cached_BDRF_Fourier_modes,\n",
    "    s_poly_coeffs=s_poly_coeffs,\n",
    "    only_flux=only_flux,\n",
    ")"
   ]
  },
  {
   "cell_type": "code",
   "execution_count": 42,
   "id": "ce7e14d8",
   "metadata": {},
   "outputs": [],
   "source": [
    "# Load saved results from `DISOTESTAUX.f` of Stamnes' DISORT\n",
    "results = np.load(\"Stamnes_results/6g_test.npz\")"
   ]
  },
  {
   "cell_type": "markdown",
   "id": "d6d0b427",
   "metadata": {},
   "source": [
    "**Comparisons**"
   ]
  },
  {
   "cell_type": "code",
   "execution_count": 43,
   "id": "8aa92dbc",
   "metadata": {},
   "outputs": [
    {
     "name": "stdout",
     "output_type": "stream",
     "text": [
      "Max pointwise differences\n",
      "\n",
      "Upward (diffuse) fluxes\n",
      "Difference = 0.07081099427045956\n",
      "Difference ratio = 0.0001605236481053206\n",
      "\n",
      "Downward (diffuse) fluxes\n",
      "Difference = 0.0037395118030758567\n",
      "Difference ratio = 1.0283780863828972e-05\n",
      "\n",
      "Direct (downward) fluxes\n",
      "Difference = 4.411714423468993e-05\n",
      "Difference ratio = 2.0928556005904317e-06\n",
      "\n"
     ]
    }
   ],
   "source": [
    "(\n",
    "    diff_flux_up,\n",
    "    ratio_flux_up,\n",
    "    diff_flux_down_diffuse,\n",
    "    ratio_flux_down_diffuse,\n",
    "    diff_flux_down_direct,\n",
    "    ratio_flux_down_direct,\n",
    "    #diff,\n",
    "    #diff_ratio,\n",
    ") = _compare(results, mu_to_compare, reorder_mu, flux_up, flux_down)"
   ]
  },
  {
   "cell_type": "markdown",
   "id": "9dc35430",
   "metadata": {},
   "source": [
    "**Does the test pass?**"
   ]
  },
  {
   "cell_type": "code",
   "execution_count": 44,
   "id": "090c5658",
   "metadata": {},
   "outputs": [
    {
     "name": "stdout",
     "output_type": "stream",
     "text": [
      "The test passes\n"
     ]
    }
   ],
   "source": [
    "assert np.max(ratio_flux_up[diff_flux_up > 1e-3], initial=0) < 1e-3\n",
    "assert np.max(ratio_flux_down_diffuse[diff_flux_down_diffuse > 1e-3], initial=0) < 1e-3\n",
    "assert np.max(ratio_flux_down_direct[diff_flux_down_direct > 1e-3], initial=0) < 1e-3\n",
    "#assert np.max(diff_ratio[diff > 1e-3], initial=0) < 1e-2\n",
    "\n",
    "print(\"The test passes\")"
   ]
  },
  {
   "cell_type": "markdown",
   "id": "bcf63cef",
   "metadata": {},
   "source": [
    "--------"
   ]
  },
  {
   "cell_type": "markdown",
   "id": "1b112c1e",
   "metadata": {},
   "source": [
    "# 6h"
   ]
  },
  {
   "cell_type": "markdown",
   "id": "eb8b1c17",
   "metadata": {},
   "source": [
    "Same as test 6g but the optical depth is increased from $1$ to $10$."
   ]
  },
  {
   "cell_type": "markdown",
   "id": "c219f0b5",
   "metadata": {},
   "source": [
    "**PythonicDISORT**"
   ]
  },
  {
   "cell_type": "code",
   "execution_count": 45,
   "id": "5a1ea97d",
   "metadata": {},
   "outputs": [],
   "source": [
    "from PythonicDISORT.subroutines import generate_emissivity_from_BDRF\n",
    "from PythonicDISORT.subroutines import blackbody_contrib_to_BCs\n",
    "from PythonicDISORT.subroutines import generate_s_poly_coeffs"
   ]
  },
  {
   "cell_type": "code",
   "execution_count": 46,
   "id": "db271738",
   "metadata": {},
   "outputs": [],
   "source": [
    "def Hapke(mu, neg_mup, dphi, B0, HH, W):\n",
    "    cos_alpha = (mu[:, None] * neg_mup[None, :] - np.sqrt(1 - mu**2)[:, None] * np.sqrt(\n",
    "        (1 - neg_mup**2)[None, :]\n",
    "    ) * np.cos(dphi)).clip(min=-1, max=1)\n",
    "    alpha = np.arccos(cos_alpha)\n",
    "\n",
    "    P = 1 + cos_alpha / 2\n",
    "    B = B0 * HH / (HH + np.tan(alpha / 2))\n",
    "\n",
    "    gamma = np.sqrt(1 - W)\n",
    "    H0 = ((1 + 2 * neg_mup) / (1 + 2 * neg_mup * gamma))[None, :]\n",
    "    H = ((1 + 2 * mu) / (1 + 2 * mu * gamma))[:, None]\n",
    "\n",
    "    return W / 4 / (mu[:, None] + neg_mup[None, :]) * ((1 + B) * P + H0 * H - 1)"
   ]
  },
  {
   "cell_type": "code",
   "execution_count": 47,
   "id": "63b7bd6c",
   "metadata": {},
   "outputs": [],
   "source": [
    "######################################### PYDISORT ARGUMENTS #######################################\n",
    "\n",
    "tau_arr = 10  # One layer of thickness 1 (thick atmosphere)\n",
    "omega_arr = 0  # No scattering\n",
    "NQuad = 16  # 16 streams (8 quadrature nodes for each hemisphere)\n",
    "Leg_coeffs_all = np.zeros(NQuad + 1)\n",
    "mu0 = 0.5  # Cosine of solar zenith angle (low, glancing angle)\n",
    "I0 = 200  # Intensity of direct beam\n",
    "phi0 = 0  # Azimuthal angle of direct beam\n",
    "\n",
    "# Optional (used)\n",
    "B0, HH, W = 1, 0.06, 0.6\n",
    "BDRF_Fourier_modes = [\n",
    "    lambda mu, neg_mup, m=m: (sc.integrate.quad_vec(\n",
    "        lambda dphi: Hapke(mu, neg_mup, dphi, B0, HH, W) * np.cos(m * dphi),\n",
    "        0,\n",
    "        2 * pi,\n",
    "    )[0] / ((1 + (m == 0)) * pi))\n",
    "    for m in range(NQuad)\n",
    "] # We will actually use ``cached_BDRF_Fourier_modes`` from test 6d\n",
    "\n",
    "BTEMP = 300\n",
    "TTEMP = 250\n",
    "TEMPER = np.array([250, 300])\n",
    "WVNMLO = 0\n",
    "WVNMHI = 50000\n",
    "# The emissivity of the surface should be consistent with the BDRF \n",
    "# in accordance with Kirchoff's law of thermal radiation\n",
    "emissivity = generate_emissivity_from_BDRF(NQuad // 2, BDRF_Fourier_modes[0])\n",
    "b_pos = emissivity * blackbody_contrib_to_BCs(BTEMP, WVNMLO, WVNMHI) \n",
    "b_neg = blackbody_contrib_to_BCs(TTEMP, WVNMLO, WVNMHI) + 100 / pi # Emissivity 1\n",
    "s_poly_coeffs = generate_s_poly_coeffs(tau_arr, TEMPER, WVNMLO, WVNMHI) # Emissivity 1\n",
    "only_flux = True\n",
    "\n",
    "# Optional (unused)\n",
    "NLeg = None\n",
    "NFourier = None\n",
    "f_arr = 0\n",
    "NT_cor = False\n",
    "use_banded_solver_NLayers = 10\n",
    "autograd_compatible = False\n",
    "\n",
    "####################################################################################################\n"
   ]
  },
  {
   "cell_type": "code",
   "execution_count": 48,
   "id": "ad181e47",
   "metadata": {},
   "outputs": [],
   "source": [
    "# Call pydisort function\n",
    "mu_arr, flux_up, flux_down, u0 = PythonicDISORT.pydisort(\n",
    "    tau_arr, omega_arr,\n",
    "    NQuad,\n",
    "    Leg_coeffs_all,\n",
    "    mu0, I0, phi0,\n",
    "    b_pos=b_pos,\n",
    "    b_neg=b_neg,\n",
    "    BDRF_Fourier_modes=cached_BDRF_Fourier_modes,\n",
    "    s_poly_coeffs=s_poly_coeffs,\n",
    "    only_flux=only_flux,\n",
    ")"
   ]
  },
  {
   "cell_type": "code",
   "execution_count": 49,
   "id": "ce70a573",
   "metadata": {},
   "outputs": [],
   "source": [
    "# Load saved results from `DISOTESTAUX.f` of Stamnes' DISORT\n",
    "results = np.load(\"Stamnes_results/6h_test.npz\")"
   ]
  },
  {
   "cell_type": "markdown",
   "id": "43d1fa77",
   "metadata": {},
   "source": [
    "**Comparisons**"
   ]
  },
  {
   "cell_type": "code",
   "execution_count": 50,
   "id": "d9ba4e70",
   "metadata": {},
   "outputs": [
    {
     "name": "stdout",
     "output_type": "stream",
     "text": [
      "Max pointwise differences\n",
      "\n",
      "Upward (diffuse) fluxes\n",
      "Difference = 0.07012573446155557\n",
      "Difference ratio = 0.0001538313969862646\n",
      "\n",
      "Downward (diffuse) fluxes\n",
      "Difference = 0.003773035576273287\n",
      "Difference ratio = 8.508482641039877e-06\n",
      "\n",
      "Direct (downward) fluxes\n",
      "Difference = 2.8323661270590605e-05\n",
      "Difference ratio = 2.0928556005904317e-06\n",
      "\n"
     ]
    }
   ],
   "source": [
    "(\n",
    "    diff_flux_up,\n",
    "    ratio_flux_up,\n",
    "    diff_flux_down_diffuse,\n",
    "    ratio_flux_down_diffuse,\n",
    "    diff_flux_down_direct,\n",
    "    ratio_flux_down_direct,\n",
    "    #diff,\n",
    "    #diff_ratio,\n",
    ") = _compare(results, mu_to_compare, reorder_mu, flux_up, flux_down)"
   ]
  },
  {
   "cell_type": "markdown",
   "id": "753ce422",
   "metadata": {},
   "source": [
    "**Does the test pass?**"
   ]
  },
  {
   "cell_type": "code",
   "execution_count": 51,
   "id": "3f4ee1d4",
   "metadata": {},
   "outputs": [
    {
     "name": "stdout",
     "output_type": "stream",
     "text": [
      "The test passes\n"
     ]
    }
   ],
   "source": [
    "assert np.max(ratio_flux_up[diff_flux_up > 1e-3], initial=0) < 1e-3\n",
    "assert np.max(ratio_flux_down_diffuse[diff_flux_down_diffuse > 1e-3], initial=0) < 1e-3\n",
    "assert np.max(ratio_flux_down_direct[diff_flux_down_direct > 1e-3], initial=0) < 1e-3\n",
    "#assert np.max(diff_ratio[diff > 1e-3], initial=0) < 1e-2\n",
    "\n",
    "print(\"The test passes\")"
   ]
  },
  {
   "cell_type": "markdown",
   "id": "7bf52873",
   "metadata": {},
   "source": [
    "--------"
   ]
  },
  {
   "cell_type": "markdown",
   "id": "8f369990",
   "metadata": {},
   "source": [
    "<!--bibtex\n",
    "\n",
    "@article{STWLE2000,\n",
    "author = {Tsay, Si-Chee and Stamnes, Knut and Wiscombe, Warren and Laszlo, Istvan and Einaudi, Franco},\n",
    "year = {2000},\n",
    "month = {02},\n",
    "pages = {},\n",
    "title = {General Purpose Fortran Program for Discrete-Ordinate-Method Radiative Transfer in Scattering and Emitting Layered Media: An Update of DISORT}\n",
    "}\n",
    "\n",
    "@inbook{Hap1993, place={Cambridge}, series={Topics in Remote Sensing}, title={The bidirectional reflectance of a semiinfinite medium}, booktitle={Theory of Reflectance and Emittance Spectroscopy}, publisher={Cambridge University Press}, author={Hapke, Bruce}, year={1993}, pages={181–235}, collection={Topics in Remote Sensing}}\n",
    "\n",
    "-->"
   ]
  },
  {
   "cell_type": "markdown",
   "id": "53ac79ba",
   "metadata": {},
   "source": [
    "# References\n",
    "\n",
    "<a id=\"cite-Hap1993\"/><sup><a href=#ref-1>[^]</a></sup>Hapke, Bruce. 1993. _The bidirectional reflectance of a semiinfinite medium_.\n",
    "\n",
    "<a id=\"cite-STWLE2000\"/><sup><a href=#ref-2>[^]</a></sup>Tsay, Si-Chee and Stamnes, Knut and Wiscombe, Warren and Laszlo, Istvan and Einaudi, Franco. 2000. _General Purpose Fortran Program for Discrete-Ordinate-Method Radiative Transfer in Scattering and Emitting Layered Media: An Update of DISORT_.\n",
    "\n"
   ]
  }
 ],
 "metadata": {
  "hide_input": false,
  "kernelspec": {
   "display_name": "Python 3 (ipykernel)",
   "language": "python",
   "name": "python3"
  },
  "language_info": {
   "codemirror_mode": {
    "name": "ipython",
    "version": 3
   },
   "file_extension": ".py",
   "mimetype": "text/x-python",
   "name": "python",
   "nbconvert_exporter": "python",
   "pygments_lexer": "ipython3",
   "version": "3.11.8"
  }
 },
 "nbformat": 4,
 "nbformat_minor": 5
}
