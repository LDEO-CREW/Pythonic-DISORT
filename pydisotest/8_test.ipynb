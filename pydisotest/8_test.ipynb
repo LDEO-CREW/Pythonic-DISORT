{
 "cells": [
  {
   "cell_type": "code",
   "execution_count": 1,
   "id": "b2925dfb",
   "metadata": {},
   "outputs": [],
   "source": [
    "import PythonicDISORT\n",
    "from PythonicDISORT.subroutines import _compare\n",
    "import numpy as np\n",
    "import matplotlib.pyplot as plt\n",
    "import matplotlib as mpl\n",
    "from math import pi"
   ]
  },
  {
   "cell_type": "markdown",
   "id": "93d0cdc0",
   "metadata": {},
   "source": [
    "Previously saved reference solutions will be loaded if F2PY-wrapped Stamnes' DISORT is unavailable."
   ]
  },
  {
   "cell_type": "code",
   "execution_count": 2,
   "id": "dbacba8b",
   "metadata": {},
   "outputs": [],
   "source": [
    "disort_is_installed = True\n",
    "try:\n",
    "    import disort\n",
    "except ImportError:\n",
    "    disort_is_installed = False"
   ]
  },
  {
   "cell_type": "markdown",
   "id": "15bb0f21",
   "metadata": {},
   "source": [
    "# Table of Contents\n",
    "* [8a and setup](#8a-and-setup)\n",
    "* [8b](#8b)\n",
    "* [8c](#8c)\n",
    "* [8ARTS](#8ARTS)\n"
   ]
  },
  {
   "cell_type": "markdown",
   "id": "8991c0c6",
   "metadata": {},
   "source": [
    "# Test Problem 8:  Absorbing/Isotropic-Scattering Medium With Two Computational Layers"
   ]
  },
  {
   "cell_type": "markdown",
   "id": "ad3c6ef4",
   "metadata": {},
   "source": [
    "In this test problem we return to the isotropic phase function, however, there are now two atmospheric layers with different optical properties. Realistic atmospheres are vertically and horizontally inhomogeneous. PythonicDISORT, and DISORT, cannot model horizontal inhomogeneity as they fundamentally assume a plane-parallel atmosphere. Vertical inhomogeneity on the other hand can be modeled by discretizing the atmosphere into layers. Naturally, if consecutive atmospheric layers have identical optical properties then they can be merged and test problem 11 checks for this consistency. \n",
    "\n",
    "Note that the source has also been changed from a direct beam (modeling sunlight) to isotropic illumination at the top-boundary (modeling radiation which has been emitted or scattered by a higher atmospheric object). Test 8ARTS is a unique test wherein the source is internal blackbody emission, which is isotropic, and the intensity results are compared to ARTS [[1](#cite-ARTS), [2](#cite-ARTSwebsite)] instead of DISORT (thank you Richard Larsson for the data and test idea).\n",
    "\n",
    "Flux results for 8a, 8b and 8c can be compared to Table 1 of Ozisik, M. and S. Shouman, 1980: *Source Function Expansion Method for Radiative Transfer in a Two-Layer Slab*, J.Q.S.R.T. 24, 441-449. The intensity field of the upwelling radiation, which can be compared to satellite measurements, is plotted for each subproblem."
   ]
  },
  {
   "cell_type": "markdown",
   "id": "6b15a310",
   "metadata": {},
   "source": [
    "# 8a and setup"
   ]
  },
  {
   "cell_type": "markdown",
   "id": "02881e0a",
   "metadata": {},
   "source": [
    "**PythonicDISORT**"
   ]
  },
  {
   "cell_type": "code",
   "execution_count": 3,
   "id": "eaeaf144",
   "metadata": {},
   "outputs": [],
   "source": [
    "######################################### PYDISORT ARGUMENTS #######################################\n",
    "\n",
    "tau_arr = np.array([0.25, 0.5])  # Two layers; total thickness is 0.5\n",
    "omega_arr = np.array([0.5, 0.3])  # Single-scattering albedo for each layer\n",
    "NQuad = 8  # 8 streams (4 quadrature nodes for each hemisphere)\n",
    "Leg_coeffs_all = np.zeros((2, 9))\n",
    "Leg_coeffs_all[:, 0] = 1  # The phase functions for both layers are isotropic\n",
    "mu0 = 0\n",
    "I0 = 0  # No direct beam\n",
    "phi0 = 0\n",
    "\n",
    "# Optional (used)\n",
    "b_neg = 1 / pi  # Intensity of top-boundary isotropic illumination\n",
    "\n",
    "# Optional (unused)\n",
    "NLeg = None\n",
    "NLoops = None\n",
    "b_pos = 0\n",
    "only_flux = False\n",
    "f_arr = 0\n",
    "NT_cor = False\n",
    "BDRF_Fourier_modes=[]\n",
    "s_poly_coeffs = np.array([[]])\n",
    "use_banded_solver_NLayers=10\n",
    "autograd_compatible=False\n",
    "\n",
    "####################################################################################################"
   ]
  },
  {
   "cell_type": "code",
   "execution_count": 4,
   "id": "e21756a3",
   "metadata": {},
   "outputs": [],
   "source": [
    "# Call pydisort function\n",
    "mu_arr, flux_up, flux_down, u0, u = PythonicDISORT.pydisort(\n",
    "    tau_arr, omega_arr,\n",
    "    NQuad,\n",
    "    Leg_coeffs_all,\n",
    "    mu0, I0, phi0,\n",
    "    b_neg=b_neg,\n",
    ")"
   ]
  },
  {
   "cell_type": "markdown",
   "id": "659da73a",
   "metadata": {},
   "source": [
    "**Setup for tests**"
   ]
  },
  {
   "cell_type": "code",
   "execution_count": 5,
   "id": "cf7b5e45",
   "metadata": {},
   "outputs": [],
   "source": [
    "# Reorder mu_arr from smallest to largest\n",
    "reorder_mu = np.argsort(mu_arr)\n",
    "mu_arr_RO = mu_arr[reorder_mu]\n",
    "\n",
    "# We may not want to compare intensities around the direct beam\n",
    "deg_around_beam_to_not_compare = 0\n",
    "mu_to_compare = (\n",
    "    np.abs(np.arccos(np.abs(mu_arr_RO)) - np.arccos(mu0)) * 180 / pi\n",
    "    > deg_around_beam_to_not_compare\n",
    ")\n",
    "mu_test_arr_RO = mu_arr_RO[mu_to_compare]"
   ]
  },
  {
   "cell_type": "code",
   "execution_count": 6,
   "id": "7b8801dc",
   "metadata": {},
   "outputs": [],
   "source": [
    "# Number of phi grid points\n",
    "Nphi = 2\n",
    "phi_arr = np.random.random(Nphi) * 2 * pi\n",
    "\n",
    "# tau test points\n",
    "tau_test_arr = np.array([0, 0.25, 0.5])\n",
    "Ntau = len(tau_test_arr)"
   ]
  },
  {
   "cell_type": "markdown",
   "id": "5a7fefca",
   "metadata": {},
   "source": [
    "**Stamnes' DISORT**"
   ]
  },
  {
   "cell_type": "code",
   "execution_count": 7,
   "id": "1bf8a9d2",
   "metadata": {},
   "outputs": [],
   "source": [
    "# Stamnes' DISORT arguments\n",
    "nlyr = 2\n",
    "nmom = NQuad\n",
    "nstr = NQuad\n",
    "numu = NQuad\n",
    "nphi = Nphi\n",
    "ntau = Ntau\n",
    "usrang = True\n",
    "usrtau = True\n",
    "ibcnd = 0\n",
    "onlyfl = False\n",
    "prnt = np.array([False, False, False, False, False])  # Prints to CMD instead of this notebook\n",
    "plank = False\n",
    "lamber = True\n",
    "deltamplus = False\n",
    "do_pseudo_sphere = False\n",
    "dtauc = np.concatenate([[tau_arr[0]], np.diff(tau_arr)])\n",
    "ssalb = omega_arr\n",
    "pmom = Leg_coeffs_all.T[: NQuad + 1]\n",
    "temper = np.zeros(nlyr + 1)\n",
    "wvnmlo = 0\n",
    "wvnmhi = 0\n",
    "utau = tau_test_arr\n",
    "umu0 = mu0\n",
    "phi0 = phi0\n",
    "umu = mu_arr_RO\n",
    "phi = phi_arr\n",
    "fbeam = I0\n",
    "fisot = b_neg\n",
    "albedo = 0\n",
    "btemp = 0\n",
    "ttemp = 0\n",
    "temis = 0\n",
    "earth_radius = 6371\n",
    "h_lyr = np.zeros(nlyr + 1)\n",
    "rhoq = np.zeros((nstr // 2, nstr + 1, nstr))\n",
    "rhou = np.zeros((numu, nstr // 2 + 1, nstr))\n",
    "rho_accurate = np.zeros((numu, nphi))\n",
    "bemst = np.zeros(nstr // 2)\n",
    "emust = np.zeros(numu)\n",
    "accur = 0\n",
    "header = \"\"\n",
    "rfldir = np.zeros(ntau)\n",
    "rfldn = np.zeros(ntau)\n",
    "flup = np.zeros(ntau)\n",
    "dfdt = np.zeros(ntau)\n",
    "uavg = np.zeros(ntau)\n",
    "uu = np.zeros((numu, ntau, nphi))\n",
    "albmed = np.zeros(numu)\n",
    "trnmed = np.zeros(numu)"
   ]
  },
  {
   "cell_type": "code",
   "execution_count": 8,
   "id": "795dd2ef",
   "metadata": {},
   "outputs": [],
   "source": [
    "if disort_is_installed:\n",
    "    # Run disort, putting DFDT, UAVG, and UU in a, b, and c, respectively\n",
    "    rfldir, rfldn, flup, dfdt, uavg, uu, albmed, trnmed = disort.disort(usrang, usrtau, ibcnd, onlyfl, prnt, plank, lamber, deltamplus, do_pseudo_sphere, dtauc, ssalb,\n",
    "                            pmom, temper, wvnmlo, wvnmhi, utau, umu0, phi0 * 180/pi, umu, phi * 180/pi, fbeam, fisot, albedo, btemp, ttemp,\n",
    "                            temis, earth_radius, h_lyr, rhoq, rhou, rho_accurate, bemst, emust, accur, header, rfldir,\n",
    "                            rfldn, flup, dfdt, uavg, uu, albmed, trnmed)\n",
    "    results = {\n",
    "        \"uu\": uu,\n",
    "        \"flup\": flup,\n",
    "        \"rfldn\": rfldn,\n",
    "        \"rfldir\": rfldir,\n",
    "        \"tau_test_arr\": tau_test_arr,\n",
    "        \"phi_arr\": phi_arr\n",
    "    }\n",
    "else:\n",
    "    results = np.load(\"Stamnes_results/8a_test.npz\")\n",
    "    # Load saved results from Stamnes' DISORT\n",
    "    uu = results[\"uu\"]\n",
    "    flup = results[\"flup\"]\n",
    "    rfldn = results[\"rfldn\"]\n",
    "    rfldir = results[\"rfldir\"]\n",
    "    # Load comparison points\n",
    "    tau_test_arr = results[\"tau_test_arr\"]\n",
    "    phi_arr = results[\"phi_arr\"]"
   ]
  },
  {
   "cell_type": "markdown",
   "id": "06841963",
   "metadata": {},
   "source": [
    "**Comparisons**"
   ]
  },
  {
   "cell_type": "code",
   "execution_count": 9,
   "id": "b06865bd",
   "metadata": {},
   "outputs": [
    {
     "name": "stdout",
     "output_type": "stream",
     "text": [
      "Max pointwise differences\n",
      "\n",
      "Upward (diffuse) fluxes\n",
      "Difference = 1.8563882042688107e-08\n",
      "Difference ratio = 3.591943270012311e-07\n",
      "\n",
      "Downward (diffuse) fluxes\n",
      "Difference = 6.096862981141982e-08\n",
      "Difference ratio = 1.1881677483398373e-07\n",
      "\n",
      "Direct (downward) fluxes\n",
      "Difference = 0.0\n",
      "Difference ratio = 0.0\n",
      "\n",
      "Intensities\n",
      "\n",
      "At tau = 0.25\n",
      "Max pointwise difference = 1.4667068448659393e-08\n",
      "At tau = 0.0\n",
      "Max pointwise difference ratio = 2.5768167547070643e-07\n",
      "\n"
     ]
    }
   ],
   "source": [
    "(\n",
    "    diff_flux_up,\n",
    "    ratio_flux_up,\n",
    "    diff_flux_down_diffuse,\n",
    "    ratio_flux_down_diffuse,\n",
    "    diff_flux_down_direct,\n",
    "    ratio_flux_down_direct,\n",
    "    diff,\n",
    "    diff_ratio,\n",
    ") = _compare(results, mu_to_compare, reorder_mu, flux_up, flux_down, u)"
   ]
  },
  {
   "cell_type": "markdown",
   "id": "64634b9b",
   "metadata": {},
   "source": [
    "**Does the test pass?**"
   ]
  },
  {
   "cell_type": "code",
   "execution_count": 10,
   "id": "e3b31888",
   "metadata": {},
   "outputs": [
    {
     "name": "stdout",
     "output_type": "stream",
     "text": [
      "The test passes\n"
     ]
    }
   ],
   "source": [
    "assert np.max(ratio_flux_up[diff_flux_up > 1e-3], initial=0) < 1e-3\n",
    "assert np.max(ratio_flux_down_diffuse[diff_flux_down_diffuse > 1e-3], initial=0) < 1e-3\n",
    "assert np.max(ratio_flux_down_direct[diff_flux_down_direct > 1e-3], initial=0) < 1e-3\n",
    "assert np.max(diff_ratio[diff > 1e-3], initial=0) < 1e-2\n",
    "\n",
    "'''np.savez_compressed (\n",
    "    \"Stamnes_results/8a_test\",\n",
    "    phi_arr=phi_arr,\n",
    "    tau_test_arr=tau_test_arr,\n",
    "    uu=uu,\n",
    "    flup=flup,\n",
    "    rfldn=rfldn,\n",
    "    rfldir=rfldir,\n",
    ")'''\n",
    "\n",
    "print(\"The test passes\")"
   ]
  },
  {
   "cell_type": "markdown",
   "id": "430cdc10",
   "metadata": {},
   "source": [
    "**Plots**"
   ]
  },
  {
   "cell_type": "code",
   "execution_count": 11,
   "id": "1af9251a",
   "metadata": {},
   "outputs": [],
   "source": [
    "Nphi_plot = int((NQuad * pi) // 2) * 2 + 1\n",
    "phi_arr_plot, full_weights_phi = PythonicDISORT.subroutines.Clenshaw_Curtis_quad(Nphi_plot)\n",
    "\n",
    "MU_ARR, PHI_ARR = np.meshgrid(phi_arr_plot, mu_arr[:NQuad // 2])"
   ]
  },
  {
   "cell_type": "code",
   "execution_count": 12,
   "id": "b86e9a5d",
   "metadata": {},
   "outputs": [
    {
     "data": {
      "text/plain": [
       "Text(0.5, 1.0, 'Upward intensity field at top of atmosphere')"
      ]
     },
     "execution_count": 12,
     "metadata": {},
     "output_type": "execute_result"
    },
    {
     "data": {
      "image/png": "[encoded data removed]",
      "text/plain": [
       "<Figure size 900x600 with 2 Axes>"
      ]
     },
     "metadata": {},
     "output_type": "display_data"
    }
   ],
   "source": [
    "plot = u(0, phi_arr_plot)[:NQuad // 2]\n",
    "\n",
    "fig = plt.figure(figsize=(9, 6))\n",
    "_contourf = plt.contourf(MU_ARR, PHI_ARR, plot)\n",
    "plt.xlabel(r\"$\\phi$\")\n",
    "plt.ylabel(r\"$\\mu$\")\n",
    "plt.colorbar(_contourf)\n",
    "plt.title(\n",
    "    \"Upward intensity field at top of atmosphere\"\n",
    ")"
   ]
  },
  {
   "cell_type": "markdown",
   "id": "ea49a4a0",
   "metadata": {},
   "source": [
    "----------"
   ]
  },
  {
   "cell_type": "markdown",
   "id": "64a969df",
   "metadata": {},
   "source": [
    "# 8b"
   ]
  },
  {
   "cell_type": "markdown",
   "id": "ed23e363",
   "metadata": {},
   "source": [
    "**PythonicDISORT**"
   ]
  },
  {
   "cell_type": "code",
   "execution_count": 13,
   "id": "a3c14a41",
   "metadata": {},
   "outputs": [],
   "source": [
    "######################################### PYDISORT ARGUMENTS #######################################\n",
    "\n",
    "tau_arr = np.array([0.25, 0.5])\n",
    "omega_arr = np.array([0.8, 0.95])\n",
    "NQuad = 8\n",
    "Leg_coeffs_all = np.zeros((2, 9))\n",
    "Leg_coeffs_all[:, 0] = 1\n",
    "mu0 = 0\n",
    "I0 = 0\n",
    "phi0 = 0\n",
    "\n",
    "# Optional (used)\n",
    "b_neg = 1 / pi\n",
    "\n",
    "# Optional (unused)\n",
    "NLeg = None\n",
    "NLoops = None\n",
    "b_pos = 0\n",
    "only_flux = False\n",
    "f_arr = 0\n",
    "NT_cor = False\n",
    "BDRF_Fourier_modes=[]\n",
    "s_poly_coeffs = np.array([[]])\n",
    "use_banded_solver_NLayers=10\n",
    "autograd_compatible=False\n",
    "\n",
    "####################################################################################################"
   ]
  },
  {
   "cell_type": "code",
   "execution_count": 14,
   "id": "24ee2f0e",
   "metadata": {},
   "outputs": [],
   "source": [
    "# Call pydisort function\n",
    "mu_arr, flux_up, flux_down, u0, u = PythonicDISORT.pydisort(\n",
    "    tau_arr, omega_arr,\n",
    "    NQuad,\n",
    "    Leg_coeffs_all,\n",
    "    mu0, I0, phi0,\n",
    "    b_neg=b_neg,\n",
    ")"
   ]
  },
  {
   "cell_type": "markdown",
   "id": "f330cab5",
   "metadata": {},
   "source": [
    "**Stamnes' DISORT**"
   ]
  },
  {
   "cell_type": "code",
   "execution_count": 15,
   "id": "2499610d",
   "metadata": {},
   "outputs": [],
   "source": [
    "# tau test points\n",
    "tau_test_arr = np.array([0, 0.25, 0.5])\n",
    "Ntau = len(tau_test_arr)"
   ]
  },
  {
   "cell_type": "code",
   "execution_count": 16,
   "id": "b58ea865",
   "metadata": {
    "code_folding": [
     0
    ]
   },
   "outputs": [],
   "source": [
    "# Stamnes' DISORT arguments\n",
    "nlyr = 2\n",
    "nmom = NQuad\n",
    "nstr = NQuad\n",
    "numu = NQuad\n",
    "nphi = Nphi\n",
    "ntau = Ntau\n",
    "usrang = True\n",
    "usrtau = True\n",
    "ibcnd = 0\n",
    "onlyfl = False\n",
    "prnt = np.array([False, False, False, False, False])  # Prints to CMD instead of this notebook\n",
    "plank = False\n",
    "lamber = True\n",
    "deltamplus = False\n",
    "do_pseudo_sphere = False\n",
    "dtauc = np.concatenate([[tau_arr[0]], np.diff(tau_arr)])\n",
    "ssalb = omega_arr\n",
    "pmom = Leg_coeffs_all.T[: NQuad + 1]\n",
    "temper = np.zeros(nlyr + 1)\n",
    "wvnmlo = 0\n",
    "wvnmhi = 0\n",
    "utau = tau_test_arr\n",
    "umu0 = mu0\n",
    "phi0 = phi0\n",
    "umu = mu_arr_RO\n",
    "phi = phi_arr\n",
    "fbeam = I0\n",
    "fisot = b_neg\n",
    "albedo = 0\n",
    "btemp = 0\n",
    "ttemp = 0\n",
    "temis = 0\n",
    "earth_radius = 6371\n",
    "h_lyr = np.zeros(nlyr + 1)\n",
    "rhoq = np.zeros((nstr // 2, nstr + 1, nstr))\n",
    "rhou = np.zeros((numu, nstr // 2 + 1, nstr))\n",
    "rho_accurate = np.zeros((numu, nphi))\n",
    "bemst = np.zeros(nstr // 2)\n",
    "emust = np.zeros(numu)\n",
    "accur = 0\n",
    "header = \"\"\n",
    "rfldir = np.zeros(ntau)\n",
    "rfldn = np.zeros(ntau)\n",
    "flup = np.zeros(ntau)\n",
    "dfdt = np.zeros(ntau)\n",
    "uavg = np.zeros(ntau)\n",
    "uu = np.zeros((numu, ntau, nphi))\n",
    "albmed = np.zeros(numu)\n",
    "trnmed = np.zeros(numu)"
   ]
  },
  {
   "cell_type": "code",
   "execution_count": 17,
   "id": "6cb8c03c",
   "metadata": {},
   "outputs": [],
   "source": [
    "if disort_is_installed:\n",
    "    # Run disort, putting DFDT, UAVG, and UU in a, b, and c, respectively\n",
    "    rfldir, rfldn, flup, dfdt, uavg, uu, albmed, trnmed = disort.disort(usrang, usrtau, ibcnd, onlyfl, prnt, plank, lamber, deltamplus, do_pseudo_sphere, dtauc, ssalb,\n",
    "                            pmom, temper, wvnmlo, wvnmhi, utau, umu0, phi0 * 180/pi, umu, phi * 180/pi, fbeam, fisot, albedo, btemp, ttemp,\n",
    "                            temis, earth_radius, h_lyr, rhoq, rhou, rho_accurate, bemst, emust, accur, header, rfldir,\n",
    "                            rfldn, flup, dfdt, uavg, uu, albmed, trnmed)\n",
    "    results = {\n",
    "        \"uu\": uu,\n",
    "        \"flup\": flup,\n",
    "        \"rfldn\": rfldn,\n",
    "        \"rfldir\": rfldir,\n",
    "        \"tau_test_arr\": tau_test_arr,\n",
    "        \"phi_arr\": phi_arr\n",
    "    }\n",
    "else:\n",
    "    results = np.load(\"Stamnes_results/8b_test.npz\")\n",
    "    # Load saved results from Stamnes' DISORT\n",
    "    uu = results[\"uu\"]\n",
    "    flup = results[\"flup\"]\n",
    "    rfldn = results[\"rfldn\"]\n",
    "    rfldir = results[\"rfldir\"]\n",
    "    # Load comparison points\n",
    "    tau_test_arr = results[\"tau_test_arr\"]\n",
    "    phi_arr = results[\"phi_arr\"]"
   ]
  },
  {
   "cell_type": "markdown",
   "id": "5580894b",
   "metadata": {},
   "source": [
    "**Comparisons**"
   ]
  },
  {
   "cell_type": "code",
   "execution_count": 18,
   "id": "3f40ba5f",
   "metadata": {},
   "outputs": [
    {
     "name": "stdout",
     "output_type": "stream",
     "text": [
      "Max pointwise differences\n",
      "\n",
      "Upward (diffuse) fluxes\n",
      "Difference = 8.567015889156432e-08\n",
      "Difference ratio = 4.8097059311447086e-08\n",
      "\n",
      "Downward (diffuse) fluxes\n",
      "Difference = 1.0243884362992617e-07\n",
      "Difference ratio = 1.5749710107460493e-07\n",
      "\n",
      "Direct (downward) fluxes\n",
      "Difference = 0.0\n",
      "Difference ratio = 0.0\n",
      "\n",
      "Intensities\n",
      "\n",
      "At tau = 0.5\n",
      "Max pointwise difference = 3.871370936325835e-08\n",
      "At tau = 0.5\n",
      "Max pointwise difference ratio = 3.8447849243053636e-07\n",
      "\n"
     ]
    }
   ],
   "source": [
    "(\n",
    "    diff_flux_up,\n",
    "    ratio_flux_up,\n",
    "    diff_flux_down_diffuse,\n",
    "    ratio_flux_down_diffuse,\n",
    "    diff_flux_down_direct,\n",
    "    ratio_flux_down_direct,\n",
    "    diff,\n",
    "    diff_ratio,\n",
    ") = _compare(results, mu_to_compare, reorder_mu, flux_up, flux_down, u)"
   ]
  },
  {
   "cell_type": "markdown",
   "id": "258606b4",
   "metadata": {},
   "source": [
    "**Does the test pass?**"
   ]
  },
  {
   "cell_type": "code",
   "execution_count": 19,
   "id": "c7eb2bbe",
   "metadata": {},
   "outputs": [
    {
     "name": "stdout",
     "output_type": "stream",
     "text": [
      "The test passes\n"
     ]
    }
   ],
   "source": [
    "assert np.max(ratio_flux_up[diff_flux_up > 1e-3], initial=0) < 1e-3\n",
    "assert np.max(ratio_flux_down_diffuse[diff_flux_down_diffuse > 1e-3], initial=0) < 1e-3\n",
    "assert np.max(ratio_flux_down_direct[diff_flux_down_direct > 1e-3], initial=0) < 1e-3\n",
    "assert np.max(diff_ratio[diff > 1e-3], initial=0) < 1e-2\n",
    "\n",
    "'''np.savez_compressed (\n",
    "    \"Stamnes_results/8b_test\",\n",
    "    phi_arr=phi_arr,\n",
    "    tau_test_arr=tau_test_arr,\n",
    "    uu=uu,\n",
    "    flup=flup,\n",
    "    rfldn=rfldn,\n",
    "    rfldir=rfldir,\n",
    ")'''\n",
    "\n",
    "print(\"The test passes\")"
   ]
  },
  {
   "cell_type": "markdown",
   "id": "df3ab7e4",
   "metadata": {},
   "source": [
    "**Plots**"
   ]
  },
  {
   "cell_type": "code",
   "execution_count": 20,
   "id": "9858ce5e",
   "metadata": {},
   "outputs": [],
   "source": [
    "Nphi_plot = int((NQuad * pi) // 2) * 2 + 1\n",
    "phi_arr_plot, full_weights_phi = PythonicDISORT.subroutines.Clenshaw_Curtis_quad(Nphi_plot)\n",
    "\n",
    "MU_ARR, PHI_ARR = np.meshgrid(phi_arr_plot, mu_arr[:NQuad // 2])"
   ]
  },
  {
   "cell_type": "code",
   "execution_count": 21,
   "id": "ae421e6e",
   "metadata": {},
   "outputs": [
    {
     "data": {
      "text/plain": [
       "Text(0.5, 1.0, 'Upward intensity field at top of atmosphere')"
      ]
     },
     "execution_count": 21,
     "metadata": {},
     "output_type": "execute_result"
    },
    {
     "data": {
      "image/png": "[encoded data removed]",
      "text/plain": [
       "<Figure size 900x600 with 2 Axes>"
      ]
     },
     "metadata": {},
     "output_type": "display_data"
    }
   ],
   "source": [
    "plot = u(0, phi_arr_plot)[:NQuad // 2]\n",
    "\n",
    "fig = plt.figure(figsize=(9, 6))\n",
    "_contourf = plt.contourf(MU_ARR, PHI_ARR, plot)\n",
    "plt.xlabel(r\"$\\phi$\")\n",
    "plt.ylabel(r\"$\\mu$\")\n",
    "plt.colorbar(_contourf)\n",
    "plt.title(\n",
    "    \"Upward intensity field at top of atmosphere\"\n",
    ")"
   ]
  },
  {
   "cell_type": "markdown",
   "id": "4ac2740d",
   "metadata": {},
   "source": [
    "-------"
   ]
  },
  {
   "cell_type": "markdown",
   "id": "59b27006",
   "metadata": {},
   "source": [
    "# 8c"
   ]
  },
  {
   "cell_type": "markdown",
   "id": "a50dcf4b",
   "metadata": {},
   "source": [
    "**PythonicDISORT**"
   ]
  },
  {
   "cell_type": "code",
   "execution_count": 22,
   "id": "7a2e4e1a",
   "metadata": {},
   "outputs": [],
   "source": [
    "######################################### PYDISORT ARGUMENTS #######################################\n",
    "\n",
    "tau_arr = np.array([1, 3])\n",
    "omega_arr = np.array([0.8, 0.95])\n",
    "NQuad = 8\n",
    "Leg_coeffs_all = np.zeros((2, 9))\n",
    "Leg_coeffs_all[:, 0] = 1\n",
    "mu0 = 0\n",
    "I0 = 0\n",
    "phi0 = 0\n",
    "\n",
    "# Optional (used)\n",
    "b_neg = 1 / pi\n",
    "\n",
    "# Optional (unused)\n",
    "NLeg = None\n",
    "NLoops = None\n",
    "b_pos = 0\n",
    "only_flux = False\n",
    "f_arr = 0\n",
    "NT_cor = False\n",
    "BDRF_Fourier_modes=[]\n",
    "s_poly_coeffs = np.array([[]])\n",
    "use_banded_solver_NLayers=10\n",
    "autograd_compatible=False\n",
    "\n",
    "####################################################################################################"
   ]
  },
  {
   "cell_type": "code",
   "execution_count": 23,
   "id": "1f2b7eca",
   "metadata": {},
   "outputs": [],
   "source": [
    "# Call pydisort function\n",
    "mu_arr, flux_up, flux_down, u0, u = PythonicDISORT.pydisort(\n",
    "    tau_arr, omega_arr,\n",
    "    NQuad,\n",
    "    Leg_coeffs_all,\n",
    "    mu0, I0, phi0,\n",
    "    b_neg=b_neg,\n",
    ")"
   ]
  },
  {
   "cell_type": "markdown",
   "id": "852d53fc",
   "metadata": {},
   "source": [
    "**Stamnes' DISORT**"
   ]
  },
  {
   "cell_type": "code",
   "execution_count": 24,
   "id": "f38ebcd2",
   "metadata": {},
   "outputs": [],
   "source": [
    "# tau test points\n",
    "tau_test_arr = np.array([0, 0.25, 0.5])\n",
    "Ntau = len(tau_test_arr)"
   ]
  },
  {
   "cell_type": "code",
   "execution_count": 25,
   "id": "e915d056",
   "metadata": {
    "code_folding": [
     0
    ]
   },
   "outputs": [],
   "source": [
    "# Stamnes' DISORT arguments\n",
    "nlyr = 2\n",
    "nmom = NQuad\n",
    "nstr = NQuad\n",
    "numu = NQuad\n",
    "nphi = Nphi\n",
    "ntau = Ntau\n",
    "usrang = True\n",
    "usrtau = True\n",
    "ibcnd = 0\n",
    "onlyfl = False\n",
    "prnt = np.array([False, False, False, False, False])  # Prints to CMD instead of this notebook\n",
    "plank = False\n",
    "lamber = True\n",
    "deltamplus = False\n",
    "do_pseudo_sphere = False\n",
    "dtauc = np.concatenate([[tau_arr[0]], np.diff(tau_arr)])\n",
    "ssalb = omega_arr\n",
    "pmom = Leg_coeffs_all.T[: NQuad + 1]\n",
    "temper = np.zeros(nlyr + 1)\n",
    "wvnmlo = 0\n",
    "wvnmhi = 0\n",
    "utau = tau_test_arr\n",
    "umu0 = mu0\n",
    "phi0 = phi0\n",
    "umu = mu_arr_RO\n",
    "phi = phi_arr\n",
    "fbeam = I0\n",
    "fisot = b_neg\n",
    "albedo = 0\n",
    "btemp = 0\n",
    "ttemp = 0\n",
    "temis = 0\n",
    "earth_radius = 6371\n",
    "h_lyr = np.zeros(nlyr + 1)\n",
    "rhoq = np.zeros((nstr // 2, nstr + 1, nstr))\n",
    "rhou = np.zeros((numu, nstr // 2 + 1, nstr))\n",
    "rho_accurate = np.zeros((numu, nphi))\n",
    "bemst = np.zeros(nstr // 2)\n",
    "emust = np.zeros(numu)\n",
    "accur = 0\n",
    "header = \"\"\n",
    "rfldir = np.zeros(ntau)\n",
    "rfldn = np.zeros(ntau)\n",
    "flup = np.zeros(ntau)\n",
    "dfdt = np.zeros(ntau)\n",
    "uavg = np.zeros(ntau)\n",
    "uu = np.zeros((numu, ntau, nphi))\n",
    "albmed = np.zeros(numu)\n",
    "trnmed = np.zeros(numu)"
   ]
  },
  {
   "cell_type": "code",
   "execution_count": 26,
   "id": "655bdb7e",
   "metadata": {},
   "outputs": [],
   "source": [
    "if disort_is_installed:\n",
    "    # Run disort, putting DFDT, UAVG, and UU in a, b, and c, respectively\n",
    "    rfldir, rfldn, flup, dfdt, uavg, uu, albmed, trnmed = disort.disort(usrang, usrtau, ibcnd, onlyfl, prnt, plank, lamber, deltamplus, do_pseudo_sphere, dtauc, ssalb,\n",
    "                            pmom, temper, wvnmlo, wvnmhi, utau, umu0, phi0 * 180/pi, umu, phi * 180/pi, fbeam, fisot, albedo, btemp, ttemp,\n",
    "                            temis, earth_radius, h_lyr, rhoq, rhou, rho_accurate, bemst, emust, accur, header, rfldir,\n",
    "                            rfldn, flup, dfdt, uavg, uu, albmed, trnmed)\n",
    "    results = {\n",
    "        \"uu\": uu,\n",
    "        \"flup\": flup,\n",
    "        \"rfldn\": rfldn,\n",
    "        \"rfldir\": rfldir,\n",
    "        \"tau_test_arr\": tau_test_arr,\n",
    "        \"phi_arr\": phi_arr\n",
    "    }\n",
    "else:\n",
    "    results = np.load(\"Stamnes_results/8c_test.npz\")\n",
    "    # Load saved results from Stamnes' DISORT\n",
    "    uu = results[\"uu\"]\n",
    "    flup = results[\"flup\"]\n",
    "    rfldn = results[\"rfldn\"]\n",
    "    rfldir = results[\"rfldir\"]\n",
    "    # Load comparison points\n",
    "    tau_test_arr = results[\"tau_test_arr\"]\n",
    "    phi_arr = results[\"phi_arr\"]"
   ]
  },
  {
   "cell_type": "markdown",
   "id": "64dc5f4a",
   "metadata": {},
   "source": [
    "**Comparisons**"
   ]
  },
  {
   "cell_type": "code",
   "execution_count": 27,
   "id": "a0617df3",
   "metadata": {},
   "outputs": [
    {
     "name": "stdout",
     "output_type": "stream",
     "text": [
      "Max pointwise differences\n",
      "\n",
      "Upward (diffuse) fluxes\n",
      "Difference = 3.935641129659828e-08\n",
      "Difference ratio = 1.3939494914070688e-07\n",
      "\n",
      "Downward (diffuse) fluxes\n",
      "Difference = 1.1920928955078125e-07\n",
      "Difference ratio = 1.1920927533992823e-07\n",
      "\n",
      "Direct (downward) fluxes\n",
      "Difference = 0.0\n",
      "Difference ratio = 0.0\n",
      "\n",
      "Intensities\n",
      "\n",
      "At tau = 0.5\n",
      "Max pointwise difference = 2.394231335411945e-08\n",
      "At tau = 0.5\n",
      "Max pointwise difference ratio = 1.3725599423860182e-07\n",
      "\n"
     ]
    }
   ],
   "source": [
    "(\n",
    "    diff_flux_up,\n",
    "    ratio_flux_up,\n",
    "    diff_flux_down_diffuse,\n",
    "    ratio_flux_down_diffuse,\n",
    "    diff_flux_down_direct,\n",
    "    ratio_flux_down_direct,\n",
    "    diff,\n",
    "    diff_ratio,\n",
    ") = _compare(results, mu_to_compare, reorder_mu, flux_up, flux_down, u)"
   ]
  },
  {
   "cell_type": "markdown",
   "id": "7ba131b3",
   "metadata": {},
   "source": [
    "**Does the test pass?**"
   ]
  },
  {
   "cell_type": "code",
   "execution_count": 28,
   "id": "7a08d3e8",
   "metadata": {},
   "outputs": [
    {
     "name": "stdout",
     "output_type": "stream",
     "text": [
      "The test passes\n"
     ]
    }
   ],
   "source": [
    "assert np.max(ratio_flux_up[diff_flux_up > 1e-3], initial=0) < 1e-3\n",
    "assert np.max(ratio_flux_down_diffuse[diff_flux_down_diffuse > 1e-3], initial=0) < 1e-3\n",
    "assert np.max(ratio_flux_down_direct[diff_flux_down_direct > 1e-3], initial=0) < 1e-3\n",
    "assert np.max(diff_ratio[diff > 1e-3], initial=0) < 1e-2\n",
    "\n",
    "'''np.savez_compressed (\n",
    "    \"Stamnes_results/8c_test\",\n",
    "    phi_arr=phi_arr,\n",
    "    tau_test_arr=tau_test_arr,\n",
    "    uu=uu,\n",
    "    flup=flup,\n",
    "    rfldn=rfldn,\n",
    "    rfldir=rfldir,\n",
    ")'''\n",
    "\n",
    "print(\"The test passes\")"
   ]
  },
  {
   "cell_type": "markdown",
   "id": "6d8ccc89",
   "metadata": {},
   "source": [
    "**Plots**"
   ]
  },
  {
   "cell_type": "code",
   "execution_count": 29,
   "id": "92db4ae3",
   "metadata": {},
   "outputs": [],
   "source": [
    "Nphi_plot = int((NQuad * pi) // 2) * 2 + 1\n",
    "phi_arr_plot, full_weights_phi = PythonicDISORT.subroutines.Clenshaw_Curtis_quad(Nphi_plot)\n",
    "\n",
    "MU_ARR, PHI_ARR = np.meshgrid(phi_arr_plot, mu_arr[:NQuad // 2])"
   ]
  },
  {
   "cell_type": "code",
   "execution_count": 30,
   "id": "b6922d39",
   "metadata": {},
   "outputs": [
    {
     "data": {
      "text/plain": [
       "Text(0.5, 1.0, 'Upward intensity field at top of atmosphere')"
      ]
     },
     "execution_count": 30,
     "metadata": {},
     "output_type": "execute_result"
    },
    {
     "data": {
      "image/png": "[encoded data removed]",
      "text/plain": [
       "<Figure size 900x600 with 2 Axes>"
      ]
     },
     "metadata": {},
     "output_type": "display_data"
    }
   ],
   "source": [
    "plot = u(0, phi_arr_plot)[:NQuad // 2]\n",
    "\n",
    "fig = plt.figure(figsize=(9, 6))\n",
    "_contourf = plt.contourf(MU_ARR, PHI_ARR, plot)\n",
    "plt.xlabel(r\"$\\phi$\")\n",
    "plt.ylabel(r\"$\\mu$\")\n",
    "plt.colorbar(_contourf)\n",
    "plt.title(\n",
    "    \"Upward intensity field at top of atmosphere\"\n",
    ")"
   ]
  },
  {
   "cell_type": "markdown",
   "id": "f2c7efdf",
   "metadata": {},
   "source": [
    "-------"
   ]
  },
  {
   "cell_type": "markdown",
   "id": "3c2fa787",
   "metadata": {},
   "source": [
    "# 8ARTS"
   ]
  },
  {
   "cell_type": "markdown",
   "id": "b19e3f2e",
   "metadata": {},
   "source": [
    "**PythonicDISORT**"
   ]
  },
  {
   "cell_type": "code",
   "execution_count": 31,
   "id": "bc241b1c",
   "metadata": {},
   "outputs": [],
   "source": [
    "from inpydis import src, tau\n",
    "\n",
    "nv = len(src)\n",
    "pyth = np.empty((nv, 20, 8))\n",
    "\n",
    "for i in range(nv):\n",
    "    mu_arr, flux_up, flux_down, u0, u = PythonicDISORT.pydisort(\n",
    "        tau_arr=tau[i],\n",
    "        omega_arr=tau[i] * 0,\n",
    "        NQuad=8,\n",
    "        Leg_coeffs_all=np.ones((len(tau[i]), 1)),\n",
    "        I0=0.0, \n",
    "        mu0=0.0, \n",
    "        phi0=0.0,\n",
    "        NLeg=1,\n",
    "        NFourier=1,\n",
    "        s_poly_coeffs=src[i] * 1e15,\n",
    "    )\n",
    "\n",
    "    pyth[i] = u(tau[i], 0.0).T\n",
    "\n",
    "    \n",
    "# Unused optional arguments\n",
    "NLeg = None\n",
    "NFourier = None\n",
    "b_pos = 0\n",
    "b_neg = 0\n",
    "only_flux = False\n",
    "f_arr = 0\n",
    "NT_cor = False\n",
    "BDRF_Fourier_modes = []\n",
    "use_banded_solver_NLayers = 10\n",
    "autograd_compatible = False"
   ]
  },
  {
   "cell_type": "code",
   "execution_count": 32,
   "id": "502d36bf",
   "metadata": {},
   "outputs": [],
   "source": [
    "ARTS_results = np.load(\"Stamnes_results/8ARTS_test.npy\")\n",
    "assert np.max(np.abs(pyth[:, -1, -1] - ARTS_results) / ARTS_results) < 1e-2"
   ]
  },
  {
   "cell_type": "code",
   "execution_count": 33,
   "id": "3526c3d6",
   "metadata": {},
   "outputs": [
    {
     "data": {
      "text/plain": [
       "Text(0.5, 0, 'Dirac frequency [index count]')"
      ]
     },
     "execution_count": 33,
     "metadata": {},
     "output_type": "execute_result"
    },
    {
     "data": {
      "image/png": "[encoded data removed]",
      "text/plain": [
       "<Figure size 640x480 with 1 Axes>"
      ]
     },
     "metadata": {},
     "output_type": "display_data"
    }
   ],
   "source": [
    "plt.plot(pyth[:, -1, -1])\n",
    "plt.xlabel(\"Dirac frequency [index count]\")"
   ]
  },
  {
   "cell_type": "markdown",
   "id": "5ef5ac90",
   "metadata": {},
   "source": [
    "# References\n",
    "\n",
    "**1)** <a id=\"cite-ARTS\"/><sup><a href=#ref-1>[^]</a>Buehler, Stefan Alexander and Larsson, Richard and Lemke, Oliver and Pfreundschuh, Simon and Brath, Manfred and Adams, Ian and Fox, Stuart and Roemer, Florian Elias and Czarnecki, Paulina and Eriksson, Patrick, The Atmospheric Radiative Transfer Simulator Arts, Version 2.6 — Deep Python Integration. Available at SSRN: [URL](https://ssrn.com/abstract=4815661) or [URL](http://dx.doi.org/10.2139/ssrn.4815661)\n",
    "\n",
    "**2)** <a id=\"cite-ARTSwebsite\"/><sup><a href=#ref-2>[^]</a>_ARTS - Atmospheric Radiative Transfer Simulator_. [URL](https://www.radiativetransfer.org/)"
   ]
  }
 ],
 "metadata": {
  "hide_input": false,
  "kernelspec": {
   "display_name": "Python 3 (ipykernel)",
   "language": "python",
   "name": "python3"
  },
  "language_info": {
   "codemirror_mode": {
    "name": "ipython",
    "version": 3
   },
   "file_extension": ".py",
   "mimetype": "text/x-python",
   "name": "python",
   "nbconvert_exporter": "python",
   "pygments_lexer": "ipython3",
   "version": "3.11.8"
  }
 },
 "nbformat": 4,
 "nbformat_minor": 5
}
