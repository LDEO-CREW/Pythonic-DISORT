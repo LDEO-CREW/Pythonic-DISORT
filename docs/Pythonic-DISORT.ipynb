{
 "cells": [
  {
   "cell_type": "code",
   "execution_count": 1,
   "id": "2c6244a4",
   "metadata": {
    "code_folding": []
   },
   "outputs": [],
   "source": [
    "# Required by PythonicDISORT\n",
    "import numpy as np\n",
    "import scipy as sc\n",
    "from numpy.polynomial.legendre import Legendre\n",
    "from math import pi\n",
    "from scipy import integrate\n",
    "from warnings import warn\n",
    "\n",
    "import PythonicDISORT"
   ]
  },
  {
   "cell_type": "code",
   "execution_count": 2,
   "id": "d438e85f",
   "metadata": {
    "code_folding": [],
    "format": "row",
    "tags": [
     "hide_input"
    ]
   },
   "outputs": [],
   "source": [
    "# Required only in this notebook for tests and exposition\n",
    "import autograd as ag\n",
    "import autograd.numpy as np\n",
    "import matplotlib as mpl\n",
    "import matplotlib.pyplot as plt\n",
    "from scipy import constants"
   ]
  },
  {
   "cell_type": "markdown",
   "id": "fd874e5a",
   "metadata": {},
   "source": [
    "**Installation and more examples of use**\n",
    "\n",
    "`pip install PythonicDISORT`\n",
    "\n",
    "See https://github.com/LDEO-CREW/Pythonic-DISORT for other installation options. See the Jupyter Notebooks in the `pydisotest` directory for more examples of use."
   ]
  },
  {
   "cell_type": "markdown",
   "id": "5373074c",
   "metadata": {},
   "source": [
    "**Setup and overview**\n",
    "\n",
    "Denote the optical depth as $\\tau$, the cosine of the polar angle as $\\mu$ (positive is upward), and the azimuthal angle as $\\phi$ (positive is counterclockwise when looking down on the atmospheric layer). The goal is to solve the (time-independent and 1D) Radiative Transfer Equation for a plane-parallel atmosphere:\n",
    "\n",
    "$$\n",
    "\\begin{aligned}\n",
    "\\mu \\frac{\\partial u(\\tau, \\mu, \\phi)}{\\partial \\tau} = u(\\tau, \\mu, \\phi) &-\\frac{\\omega}{4 \\pi} \\int_{-1}^{1} \\int_{0}^{2 \\pi} p\\left(\\mu, \\phi ; \\mu', \\phi'\\right) u\\left(\\tau, \\mu', \\phi'\\right) \\mathrm{d} \\phi' \\mathrm{d} \\mu' \\\\\n",
    "&-\\frac{\\omega I_0}{4 \\pi} p\\left(\\mu, \\phi ;-\\mu_{0}, \\phi_{0}\\right) \\exp\\left(-\\mu_{0}^{-1} \\tau\\right) - s(\\tau)\n",
    "\\end{aligned}\n",
    "$$\n",
    "\n",
    "for the **diffuse** intensity, $u = u_\\text{diffuse}$ using the Discrete Ordinates Method. Our setup is equivalent to that of Stamnes et. al. [[1]](#cite-STWJ1988). The total intensity is given by\n",
    "\n",
    "$$u_\\text{total} = u_\\text{diffuse} + u_\\text{direct}$$\n",
    "\n",
    "where for $-\\mu_0 < 0$ (downwards),\n",
    "\n",
    "$$\n",
    "\\begin{aligned}\n",
    "&\\mu\\frac{\\partial u_\\text{direct}(\\tau, \\mu, \\phi)}{\\partial\\tau} = u_\\text{direct}(\\tau, \\mu, \\phi), \\quad u_\\text{direct}(0, \\mu, \\phi) = I_0 \\delta(\\mu + \\mu_0) \\delta(\\phi - \\phi_0) \\\\\n",
    "&\\implies u_\\text{direct}(\\tau, \\mu, \\phi) = I_0 \\delta(\\mu + \\mu_0) \\delta(\\phi - \\phi_0) \\exp\\left(-\\mu_{0}^{-1} \\tau\\right)\n",
    "\\end{aligned}\n",
    "$$"
   ]
  },
  {
   "cell_type": "markdown",
   "id": "1cf1dadf",
   "metadata": {},
   "source": [
    "The fundamental idea behind the Discrete Ordinates Method, from Chandrasekhar [[2]](#cite-Cha1960), is to perform the following series expansions\n",
    "\n",
    "$$\n",
    "\\begin{aligned}\n",
    "u\\left(\\tau, \\mu, \\phi\\right) &\\approx \\sum_{n=0}^\\text{NFourier} u^n\\left(\\tau, \\mu\\right)\\cos\\left(n\\left(\\phi_0 - \\phi\\right)\\right) \\quad \\text{(Fourier cosine series)}\\\\\n",
    "p\\left(\\mu, \\phi ; \\mu', \\phi'\\right) = p\\left(\\cos\\gamma\\right) &\\approx \\sum_{\\ell=0}^\\text{NLeg} (2\\ell + 1) g_\\ell P_\\ell\\left(\\cos\\gamma\\right) \\quad \\text{(Legendre series)}\n",
    "\\end{aligned}\n",
    "$$\n",
    "\n",
    "which will deal with the $\\phi'$ integral, and approximate the $\\mu'$ integral using Gauss-Legendre quadrature with $\\text{NQuad} = 2N$ quadrature points, i.e.\n",
    "\n",
    "$$\\int_{-1}^1 [\\dots] \\ \\mathrm{d}\\mu' \\approx \\sum_{|j|=1}^\\text{N} [\\dots]$$\n",
    "\n",
    "to get a linear system of ODEs which can be solved."
   ]
  },
  {
   "cell_type": "markdown",
   "id": "d3e7be3c",
   "metadata": {},
   "source": [
    "**Multiple atmospheric layers**"
   ]
  },
  {
   "cell_type": "markdown",
   "id": "1fc5f6c5",
   "metadata": {},
   "source": [
    "The single-scattering albedo $\\omega$ and scattering phase function $p$ \n",
    "are assumed to be independent of $\\tau$, i.e. homogeneous in the atmospheric layer.\n",
    "An atmosphere with $\\tau$-dependent $\\omega$ and $p$ can be modelled by \n",
    "a multi-layer atmosphere with different $\\omega$ and $p$ for each layer.\n",
    "\n",
    "It is mathematically straightforward to generalize the Discrete Ordinates Method to multiple atmospheric layers, each demarcated by $\\tau_l$ for index $l = 0, 1, \\dots, L$. Each layer is modeled by its own radiative transfer equation, and until section [3.6](#3.6-General-solution-for-each-mode-and-layer) the method is the same for each layer. The only complication from moving to a multi-layered atmosphere is that the boundary conditions for each layer are coupled. Consequently, one would need to implement section [4](#4.-Solve-for-multiple-layers) instead of section [3.6](#3.6-General-solution-for-each-mode-and-layer)."
   ]
  },
  {
   "cell_type": "markdown",
   "id": "098fdc1c",
   "metadata": {},
   "source": [
    "# Table of Contents\n",
    "* [1. USER INPUT REQUIRED: Choose parameters](#1.-USER-INPUT-REQUIRED:-Choose-parameters)\n",
    "\t* [1.1 Choose optical properties](#1.1-Choose-optical-properties)\n",
    "\t* [1.2 Choose computational parameters](#1.2-Choose-computational-parameters)\n",
    "\t* [1.3 Choose phase function](#1.3-Choose-phase-function)\n",
    "\t\t* [1.3.1 OPTIONAL: Choose delta-M scaling](#1.3.1-OPTIONAL:-Choose-delta-M-scaling)\n",
    "\t* [1.4 Choose direct beam source](#1.4-Choose-direct-beam-source)\n",
    "\t* [1.5 OPTIONAL: Choose BDRF](#1.5-OPTIONAL:-Choose-BDRF)\n",
    "\t* [1.6 OPTIONAL: Choose boundary sources](#1.6-OPTIONAL:-Choose-boundary-sources)\n",
    "\t* [1.7 OPTIONAL: Choose isotropic internal source](#1.7-OPTIONAL:-Choose-isotropic-internal-source)\n",
    "* [2. PythonicDISORT modules and outputs](#2.-PythonicDISORT-modules-and-outputs)\n",
    "* [3. Breakdown of single layer solver](#3.-Breakdown-of-single-layer-solver)\n",
    "\t* [3.1 Quadrature](#3.1-Quadrature)\n",
    "\t* [3.2 Fourier expansion of solution](#3.2-Fourier-expansion-of-solution)\n",
    "\t\t* [3.2.1 Surface reflection](#3.2.1-Surface-reflection)\n",
    "\t\t* [3.2.2 Important terms](#3.2.2-Important-terms)\n",
    "\t* [3.3 Delta-M scaling](#3.3-Delta-M-scaling)\n",
    "\t\t* [3.3.1 Scaling a multi-layer atmosphere](#3.3.1-Scaling-a-multi-layer-atmosphere)\n",
    "\t* [3.4 System of ODEs](#3.4-System-of-ODEs)\n",
    "\t\t* [3.4.1 How to choose NQuad and NLeg?](#3.4.1-How-to-choose-NQuad-and-NLeg?)\n",
    "\t\t* [3.4.2 Assembly of system](#3.4.2-Assembly-of-system)\n",
    "\t* [3.5 Diagonalization of coefficient matrix](#3.5-Diagonalization-of-coefficient-matrix)\n",
    "\t* [3.6 General solution for each mode and layer](#3.6-General-solution-for-each-mode-and-layer)\n",
    "\t\t* [3.6.1 The particular solutions](#3.6.1-The-particular-solutions)\n",
    "\t\t* [3.6.2 The homogeneous solution](#3.6.2-The-homogeneous-solution)\n",
    "\t\t* [3.6.3 Verification of the general solution](#3.6.3-Verification-of-the-general-solution)\n",
    "\t* [3.7 The full solution](#3.7-The-full-solution)\n",
    "\t\t* [3.7.1 Verification and visualization: uncorrected](#3.7.1-Verification-and-visualization:-uncorrected)\n",
    "\t\t* [3.7.2 NT corrections](#3.7.2-NT-corrections)\n",
    "\t\t* [3.7.3 Verification and visualization: NT corrected](#3.7.3-Verification-and-visualization:-NT-corrected)\n",
    "\t* [3.8 Computation of flux](#3.8-Computation-of-flux)\n",
    "\t\t* [3.8.1 Impact of delta-M scaling on flux calculations](#3.8.1-Impact-of-delta-M-scaling-on-flux-calculations)\n",
    "\t\t* [3.8.2 Verification of flux](#3.8.2-Verification-of-flux)\n",
    "\t\t* [3.8.3 Reflectance and transmittance](#3.8.3-Reflectance-and-transmittance)\n",
    "* [4. Solve for multiple layers](#4.-Solve-for-multiple-layers)\n",
    "\t* [4.1 Verification of multi-layer solver](#4.1-Verification-of-multi-layer-solver)\n",
    "* [5. Timing PythonicDISORT](#5.-Timing-PythonicDISORT)\n",
    "* [6. Comparisons against Stamnes' DISORT](#6.-Comparisons-against-Stamnes'-DISORT)\n",
    "\t* [6.1 Flux comparisons](#6.1-Flux-comparisons)\n",
    "\t* [6.2 Intensity comparisons](#6.2-Intensity-comparisons)\n",
    "\t* [6.3 Intensity comparisons at interpolation points](#6.3-Intensity-comparisons-at-interpolation-points)\n",
    "\t* [6.4 PyTest](#6.4-PyTest)\n",
    "\t* [6.5 Timing Stamnes' DISORT](#6.5-Timing-Stamnes'-DISORT)\n"
   ]
  },
  {
   "cell_type": "markdown",
   "id": "c226d5d5",
   "metadata": {},
   "source": [
    "# 1. USER INPUT REQUIRED: Choose parameters"
   ]
  },
  {
   "cell_type": "markdown",
   "id": "27764183",
   "metadata": {},
   "source": [
    "Our notations somewhat follow those of Stamnes et. al.'s 1988 paper [[1]](#cite-STWJ1988) **with the equivalent variable in their FORTRAN DISORT code** [[3]](#cite-Sta1999)**, if available, in brackets**. The values provided here correspond to *Test Problem 3b: Henyey-Greenstein Scattering* of Stamnes' DISORT but with $(\\mu_0, \\phi_0)$ changed from $\\left(1, 0\\right)$ to $(0.6, 0.9 \\pi)$ for better plots.\n",
    "\n",
    "These inputs are for the solver function `pydisort`. Input checks are performed in `pydisort.py`. Refer to the `*_test.ipynb` Jupyter Notebooks in the `pydisotest` directory for examples of other inputs."
   ]
  },
  {
   "cell_type": "markdown",
   "id": "1d52f3ac",
   "metadata": {},
   "source": [
    "## 1.1 Choose optical properties"
   ]
  },
  {
   "cell_type": "markdown",
   "id": "96889d85",
   "metadata": {},
   "source": [
    "The phase function will be chosen later in section [1.3](#1.3-Choose-phase-function)."
   ]
  },
  {
   "cell_type": "markdown",
   "id": "5f10e74f",
   "metadata": {},
   "source": [
    "* **Optical depth (DTAUC denotes the optical thickness of each layer)**\n",
    "\n",
    "Take the top of the atmosphere to have $\\tau = 0$. The first (zeroth index) atmospheric layer from the top has optical thickness $\\tau_0$ and each subsequent layer $l$ has optical thickness $\\tau_l - \\tau_{l-1}$. The number of layers $\\text{NLayers}$ (denoted $\\text{NLYR}$ in Stamnes' DISORT [[3]](#cite-Sta1999)) is set by `len(tau_arr)`. Stamnes-Conklin substitutions [[4]](#cite-SC1984) allow large thickness to be accomodated, though there will still be inaccuracies. We require each $\\tau_l$ and the optical thickness of each layer to be positive."
   ]
  },
  {
   "cell_type": "code",
   "execution_count": 3,
   "id": "1f555ceb",
   "metadata": {},
   "outputs": [],
   "source": [
    "# While we specify multiple atmospheric layers for illustrative purposes, every layer\n",
    "# has identical optical properties, and so this model is equivalent to a one layer model\n",
    "\n",
    "#################### SUPPLIED TO PYDISORT ########################\n",
    "\n",
    "tau_arr = np.arange(16) / 2 + 0.5\n",
    "\n",
    "##################################################################"
   ]
  },
  {
   "cell_type": "code",
   "execution_count": 4,
   "id": "6f83bcb0",
   "metadata": {},
   "outputs": [],
   "source": [
    "# Used internally in PythonicDISORT\n",
    "NLayers = len(tau_arr)"
   ]
  },
  {
   "cell_type": "markdown",
   "id": "924d306e",
   "metadata": {},
   "source": [
    "* **Single-scattering albedo (SSALB)**\n",
    "\n",
    "As before, **the zeroth index corresponds to the layer at the top of the atmosphere**. Within each layer $\\omega$ is assumed to be independent from $\\tau$. We require each $\\omega \\in [0,1)$, and values too close to $1$ will cause instability. Nonetheless, one may use $\\omega$ close to $1$ to approximate conservative scattering. **We suggest using** $\\omega \\leq 1 - 10^{-6}$. See section [3.5](#3.5-Diagonalization-of-coefficient-matrix) for more details."
   ]
  },
  {
   "cell_type": "code",
   "execution_count": 5,
   "id": "da1154a5",
   "metadata": {},
   "outputs": [],
   "source": [
    "#################### SUPPLIED TO PYDISORT ########################\n",
    "\n",
    "omega_arr = np.full(NLayers, 1 - 1e-6)\n",
    "\n",
    "##################################################################"
   ]
  },
  {
   "cell_type": "markdown",
   "id": "855af7bc",
   "metadata": {},
   "source": [
    "## 1.2 Choose computational parameters"
   ]
  },
  {
   "cell_type": "markdown",
   "id": "70d51344",
   "metadata": {},
   "source": [
    "* **Number of quadrature points for the** $\\mu'$ **integral (NSTR)**\n",
    "\n",
    "This parameter is also known as the number of \"streams\" in the radiation literature and in Stamnes' DISORT [[3]](#cite-Sta1999). We require an even $\\text{NQuad} \\geq 2$. This parameter incurs the largest computational cost in `pydisort`, with scaling like $\\mathcal{O}\\left(\\text{NQuad}^3\\right)$."
   ]
  },
  {
   "cell_type": "code",
   "execution_count": 6,
   "id": "70938256",
   "metadata": {},
   "outputs": [],
   "source": [
    "#################### SUPPLIED TO PYDISORT ########################\n",
    "\n",
    "NQuad = 16\n",
    "\n",
    "##################################################################"
   ]
  },
  {
   "cell_type": "markdown",
   "id": "94c51440",
   "metadata": {},
   "source": [
    "Define $N = \\text{NQuad} \\ / \\ 2$. This variable will be used extensively."
   ]
  },
  {
   "cell_type": "code",
   "execution_count": 7,
   "id": "7873aa19",
   "metadata": {},
   "outputs": [],
   "source": [
    "N = NQuad // 2"
   ]
  },
  {
   "cell_type": "markdown",
   "id": "70b40ab3",
   "metadata": {},
   "source": [
    "* **(OPTIONAL) Number of phase function Legendre coefficients to use**\n",
    "\n",
    "We require $\\text{NLeg} \\leq \\text{NQuad}$. In general, we recommend choosing `NLeg = NQuad` which the default value for `NLeg` and the only option allowed in Stamnes' DISORT [[3]](#cite-Sta1999). See section [3.4.1](#3.4.1-How-to-choose-NQuad-and-NLeg?) for an explanation of this requirement."
   ]
  },
  {
   "cell_type": "code",
   "execution_count": 8,
   "id": "fd9dc96c",
   "metadata": {},
   "outputs": [],
   "source": [
    "#################### SUPPLIED TO PYDISORT ########################\n",
    "\n",
    "NLeg = NQuad\n",
    "\n",
    "##################################################################"
   ]
  },
  {
   "cell_type": "markdown",
   "id": "8f75ef7f",
   "metadata": {},
   "source": [
    "* **(OPTIONAL) Number of Fourier modes to use in the intensity function**\n",
    "\n",
    "The number of Fourier modes must be positive and cannot exceed the number of phase function Legendre coefficients ($\\text{NLeg}$). The default is `NFourier = NQuad` though if $\\text{NFourier}$ is too large it may cause problems; we recommend $\\text{NFourier} \\leq 64$ and it often should be much lower. See section [3.4.1](#3.4.1-How-to-choose-NQuad-and-NLeg?) for an explanation of this parameter and how it is adaptive in Stamnes' DISORT [[3]](#cite-Sta1999). Note that `only_flux = True` overwrites this parameter and is equivalent to `NFourier = 1`, except that `only_flux = True` will also cause the intensity function to not be returned. "
   ]
  },
  {
   "cell_type": "code",
   "execution_count": 9,
   "id": "d37b5fa5",
   "metadata": {},
   "outputs": [],
   "source": [
    "#################### SUPPLIED TO PYDISORT ########################\n",
    "\n",
    "NFourier = NQuad # Maximum NFourier\n",
    "\n",
    "##################################################################"
   ]
  },
  {
   "cell_type": "markdown",
   "id": "82ef686f",
   "metadata": {},
   "source": [
    "* **(OPTIONAL) Whether to compute only the flux, or compute both flux and intensity (ONLYFL)**\n",
    "\n",
    "If `only_flux = True` (default is `False`), PythonicDISORT will be much faster because only the $0$th Fourier mode equation needs to be solved, see section [3.8](#3.8-Computation-of-flux)."
   ]
  },
  {
   "cell_type": "code",
   "execution_count": 10,
   "id": "e1330118",
   "metadata": {},
   "outputs": [],
   "source": [
    "#################### SUPPLIED TO PYDISORT ########################\n",
    "\n",
    "only_flux = False\n",
    "\n",
    "##################################################################"
   ]
  },
  {
   "cell_type": "markdown",
   "id": "5eac78cc",
   "metadata": {},
   "source": [
    "* **(OPTIONAL) Threshold to use** `scipy.linalg.solve_banded`\n",
    "\n",
    "As the number of atmospheric layers increases, the matrix used in solving for the coefficients of the homogenous solution gets sparser and becomes banded, see section [4](#4.-Solve-for-multiple-layers). The banded solver `scipy.linalg.solve_banded` is used if `NLayers >= use_banded_solver_NLayers`. The default is `10` and the minimum is $3$."
   ]
  },
  {
   "cell_type": "code",
   "execution_count": 11,
   "id": "8252f9c8",
   "metadata": {},
   "outputs": [],
   "source": [
    "#################### SUPPLIED TO PYDISORT ########################\n",
    "\n",
    "use_banded_solver_NLayers = 10\n",
    "\n",
    "##################################################################"
   ]
  },
  {
   "cell_type": "markdown",
   "id": "0b3372c6",
   "metadata": {},
   "source": [
    "* **(OPTIONAL) Should the function outputs be compatible with the *autograd* package: https://github.com/HIPS/autograd?**"
   ]
  },
  {
   "cell_type": "code",
   "execution_count": 12,
   "id": "2b724525",
   "metadata": {},
   "outputs": [],
   "source": [
    "#################### SUPPLIED TO PYDISORT ########################\n",
    "\n",
    "autograd_compatible = False\n",
    "\n",
    "##################################################################"
   ]
  },
  {
   "cell_type": "markdown",
   "id": "3955c7cf",
   "metadata": {},
   "source": [
    "If `True`, the *autograd* package can be used to compute the $\\tau$-derivatives of the output functions but `pydisort` and function evaluations will be less efficient. The default is `False`."
   ]
  },
  {
   "cell_type": "markdown",
   "id": "4f834616",
   "metadata": {},
   "source": [
    "## 1.3 Choose phase function"
   ]
  },
  {
   "cell_type": "markdown",
   "id": "59d5c631",
   "metadata": {},
   "source": [
    "***Background and fundamental assumption of spherical symmetry***\n",
    "\n",
    "Assume that the phase function is directly dependent on only the scattering angle $\\gamma$, i.e. the scattering medium has spherical symmetry. Then, follow the method in [[1]](#cite-STWJ1988), but with slightly different notations and definitions, and expand the phase function in a Legendre series with respect to $\\cos\\gamma$:\n",
    "\n",
    "$$\n",
    "p(\\cos\\gamma) \\approx \\sum_{\\ell=0}^\\text{NLeg} (2\\ell + 1)g_\\ell P_\\ell(\\cos\\gamma), \\quad g_\\ell = \\frac{1}{2}\\int_{-1}^{1} p(\\cos\\gamma) P_\\ell(\\cos\\gamma) \\mathrm{d}\\cos\\gamma\n",
    "$$"
   ]
  },
  {
   "cell_type": "markdown",
   "id": "05020faa",
   "metadata": {},
   "source": [
    "The scattering angle $\\gamma$ is between the incident angular vector $\\left(\\theta', \\phi'\\right)$ and the outgoing angular vector $(\\theta, \\phi)$ such that\n",
    "\n",
    "$$\n",
    "\\begin{aligned}\n",
    "\\cos\\gamma &= \\cos\\theta'\\cos\\theta + \\sin\\theta'\\sin\\theta\\cos\\left(\\phi'-\\phi\\right) \\\\\n",
    "\\iff \\nu &= \\mu' \\mu + \\sqrt{1 - \\mu'^2} \\sqrt{1 - \\mu^2} \\cos\\left(\\phi'-\\phi\\right)\n",
    "\\end{aligned}\n",
    "$$\n",
    "\n",
    "where\n",
    "\n",
    "$$\n",
    "\\nu = \\cos\\gamma, \\quad \\mu = \\cos\\theta, \\quad\\mu' = \\cos\\theta'\n",
    "$$\n",
    "\n",
    "Therefore, by the addition theorem for spherical harmonics\n",
    "\n",
    "$$\n",
    "P_\\ell(\\nu) = P_\\ell\\left(\\mu'\\right)P_\\ell(\\mu) + 2\\sum_{m=1}^\\ell \\frac{(\\ell-m)!}{(\\ell+m)!}P_\\ell^m\\left(\\mu'\\right)P_\\ell^m(\\mu)\\cos\\left(m\\left(\\phi'-\\phi\\right)\\right)\n",
    "$$"
   ]
  },
  {
   "cell_type": "markdown",
   "id": "3f9b2d19",
   "metadata": {},
   "source": [
    "In general, we will use the $\\nu$-argument form in PythonicDISORT as it is the most straightforward to integrate. In our exposition, however, we will generally express a phase function with arguments $\\mu, \\phi, \\mu', \\phi'$ for consistency with the radiative transfer equation."
   ]
  },
  {
   "cell_type": "markdown",
   "id": "5a04bb03",
   "metadata": {},
   "source": [
    "***Henyey-Greenstein phase function***"
   ]
  },
  {
   "cell_type": "markdown",
   "id": "962d17ec",
   "metadata": {},
   "source": [
    "This definition excludes $\\omega$ and is normalized to $1$,\n",
    "\n",
    "$$p(\\nu) = \\frac{1-g^2}{\\left(1+g^2-2 g \\nu\\right)^{3 / 2}}$$"
   ]
  },
  {
   "cell_type": "code",
   "execution_count": 13,
   "id": "1e995352",
   "metadata": {},
   "outputs": [],
   "source": [
    "p_HG_nu = lambda nu: (1 - g**2) / (1 + g**2 - 2 * g * nu) ** (3 / 2)"
   ]
  },
  {
   "cell_type": "code",
   "execution_count": 14,
   "id": "4e400ab7",
   "metadata": {},
   "outputs": [],
   "source": [
    "def p_HG_muphi(mu, phi, mu_p, phi_p):\n",
    "    nu = PythonicDISORT.subroutines.calculate_nu(mu, phi, mu_p, phi_p)\n",
    "    return p_HG_nu(nu)"
   ]
  },
  {
   "cell_type": "markdown",
   "id": "0c55f15d",
   "metadata": {},
   "source": [
    "**Asymmetry factor (GG)**\n",
    "\n",
    "The magnitude of $g$ must be less than $1$. Magnitudes close to $1$ will cause instability."
   ]
  },
  {
   "cell_type": "code",
   "execution_count": 15,
   "id": "d62297c9",
   "metadata": {},
   "outputs": [],
   "source": [
    "g = 0.75"
   ]
  },
  {
   "cell_type": "markdown",
   "id": "115fe98a",
   "metadata": {},
   "source": [
    "**Number of phase function Legendre coefficients supplied (NMOM)**"
   ]
  },
  {
   "cell_type": "code",
   "execution_count": 16,
   "id": "debaf671",
   "metadata": {},
   "outputs": [],
   "source": [
    "NLeg_all = 32"
   ]
  },
  {
   "cell_type": "markdown",
   "id": "06b14d0e",
   "metadata": {},
   "source": [
    "* **Unweighted phase function Legendre coefficients** $g_\\ell$ **(PMOM)**\n",
    "\n",
    "We require at least $\\text{NLeg}$ coefficients each between $0$ and $1$ inclusive. For a multi-layer atmosphere, `Leg_coeffs_all` must be a matrix which $l$th row index corresponds to the atmospheric layer indexed by $l$."
   ]
  },
  {
   "cell_type": "code",
   "execution_count": 17,
   "id": "22713e49",
   "metadata": {},
   "outputs": [],
   "source": [
    "#################### SUPPLIED TO PYDISORT ########################\n",
    "\n",
    "Leg_coeffs_all = np.tile(g ** np.arange(NLeg_all), (NLayers, 1))\n",
    "\n",
    "##################################################################\n",
    "\n",
    "# Used internally in PythonicDISORT\n",
    "Leg_coeffs = Leg_coeffs_all[:, :NLeg]"
   ]
  },
  {
   "cell_type": "markdown",
   "id": "51d07f3b",
   "metadata": {},
   "source": [
    "We encourage having `Leg_coeffs_all` contain as many phase function Legendre coefficients as are available. PythonicDISORT will for most part use only $\\text{NLeg}$ coefficients, but the remaining coefficients are important for approximating the true phase function as accurately as possible for NT corrections, see section [3.7.2](#3.7.2-NT-corrections)."
   ]
  },
  {
   "cell_type": "markdown",
   "id": "1b777425",
   "metadata": {},
   "source": [
    "***Rayleigh phase function (not used in this Notebook)***"
   ]
  },
  {
   "cell_type": "markdown",
   "id": "167955ce",
   "metadata": {},
   "source": [
    "$$p(\\nu) = \\frac{3}{4} (1 + \\nu^2)$$"
   ]
  },
  {
   "cell_type": "code",
   "execution_count": 18,
   "id": "5516bff6",
   "metadata": {},
   "outputs": [],
   "source": [
    "p_R_nu = lambda nu: (3 / 4) * (1 + nu**2)  # Not used in this Notebook"
   ]
  },
  {
   "cell_type": "markdown",
   "id": "4868357a",
   "metadata": {},
   "source": [
    "### 1.3.1 OPTIONAL: Choose delta-M scaling"
   ]
  },
  {
   "cell_type": "markdown",
   "id": "11a4325a",
   "metadata": {},
   "source": [
    "Standard Legendre series approximation of highly anisotropic phase functions require a large number of terms to accurately capture the strong directional scattering. This is due to the slow decay of the Legendre coefficients. Using the HG phase function as an illustrative example, its Legendre coefficients are given by $\\mathscr{g}_\\ell = g^\\ell$ where $g$ is the asymmetry factor. It is clear therefore that the closer $|g|$ is to $1$, i.e. the more anisotropic the HG phase function is, the slower its Legendre coefficients decay.\n",
    "\n",
    "Fewer Legendre terms are required for accuracy if the phase function is re-expressed as a linear combination of a Dirac $\\delta$-function and a more isotropic remainder. We follow the method in [[5]](#cite-Wis1977) for scaling the first $2M$ Legendre coefficients of a phase function such that they become the coefficients of the remainder."
   ]
  },
  {
   "cell_type": "markdown",
   "id": "c9f5735d",
   "metadata": {},
   "source": [
    "$$\n",
    "\\begin{aligned}\n",
    "&p(\\nu) \\approx 2 f \\delta(1-\\nu) + (1 - f) \\sum_{\\ell=0}^{2 M-1} (2\\ell + 1) g_\\ell^* P_\\ell(\\nu), \\quad g^*_\\ell = \\frac{g_\\ell - f}{1 - f} \\\\\n",
    "&\\iff p\\left(\\mu, \\phi; \\mu', \\phi'\\right) \\approx 4 \\pi f \\delta\\left(\\mu - \\mu'\\right)\\delta\\left(\\phi - \\phi'\\right) + (1 - f) p^*\\left(\\mu, \\phi; \\mu', \\phi'\\right)\n",
    "\\end{aligned}\n",
    "$$\n",
    "\n",
    "where the fractional scattering into peak parameter $f \\in [0, 1]$ is to be chosen, with $f = 0$ equivalent to no $\\delta-M$ scaling. The method is equivalent to approximating the truncated coefficients as $f$ instead of $0$. The first $2M$ Legendre coefficients of this re-expression will agree with those of the phase function."
   ]
  },
  {
   "cell_type": "markdown",
   "id": "251603bc",
   "metadata": {},
   "source": [
    "The standard choice is $f = g_{2M} = g_\\text{NLeg}$ so that the first $2M + 1$, and not just $2M$, Legendre coefficients of the re-expression agree with those of the phase function. This choice is automatic in Stamnes' DISORT [[3]](#cite-Sta1999). Choosing $f = g_{2M}$ with $M = 1$ is equivalent to the delta-Eddington method, see [[6]](#cite-JWW1976). We will discuss the impact of this phase function re-expression on the radiative transfer equation in section [3.3](#3.3-Delta-M-scaling)."
   ]
  },
  {
   "cell_type": "markdown",
   "id": "4e172a8e",
   "metadata": {},
   "source": [
    "* **(OPTIONAL) Fractional scattering into peak parameter (Automatically chosen in Stamnes' DISORT** [[3]](#cite-Sta1999)**)**\n",
    "\n",
    "We require $f \\in [0, 1)$ and the default is `0` (no scaling). Values close to $1$ will cause instability. The zeroth entry of the array corresponds to the zeroth (topmost) atmospheric layer. We recommend setting `f_arr` to ``Leg_coeffs_all[NQuad]``, or ``Leg_coeffs_all[:, NQuad]`` for a multi-layer atmosphere."
   ]
  },
  {
   "cell_type": "code",
   "execution_count": 19,
   "id": "962f6f2d",
   "metadata": {},
   "outputs": [],
   "source": [
    "#################### SUPPLIED TO PYDISORT ########################\n",
    "\n",
    "f_arr = np.full(NLayers, Leg_coeffs_all[0, NLeg])\n",
    "\n",
    "##################################################################"
   ]
  },
  {
   "cell_type": "markdown",
   "id": "2ef87ed2",
   "metadata": {},
   "source": [
    "* **(OPTIONAL) Whether to perform Nakajima-Tanaka intensity corrections, see section** [3.7.2](#3.7.2-NT-corrections) **(Always true in Stamnes' DISORT** [[3]](#cite-Sta1999)**)**\n",
    "\n",
    "Our default is `False`, but in practice this should almost always be set to `True`."
   ]
  },
  {
   "cell_type": "code",
   "execution_count": 20,
   "id": "563cae85",
   "metadata": {},
   "outputs": [],
   "source": [
    "#################### SUPPLIED TO PYDISORT ########################\n",
    "\n",
    "NT_cor = False\n",
    "\n",
    "##################################################################"
   ]
  },
  {
   "cell_type": "markdown",
   "id": "952e789d",
   "metadata": {},
   "source": [
    "## 1.4 Choose direct beam source"
   ]
  },
  {
   "cell_type": "markdown",
   "id": "88d2926d",
   "metadata": {},
   "source": [
    "* **Parameters for the incident direct collimated beam of starlight**\n",
    "\n",
    "If `NT_cor = True`, then to prevent singularities in the NT corrections $\\mu_0$ must not coincide with a quadrature angle, see section [3.7.2](#3.7.2-NT-corrections). If that happens either $\\text{NQuad}$ or $\\mu_0$ should be tweaked. In the future this can be implemented as a special case. In addition, we do not allow $\\mu_0 \\leq 0$. Small $\\mu_0$ values will cause instability. We require both angles to be principal and $I_0 \\geq 0$. Choosing $I_0 = 0$ will disable this source. The flux contribution of this source is $I_0 \\mu_0$."
   ]
  },
  {
   "cell_type": "code",
   "execution_count": 21,
   "id": "52dafd3a",
   "metadata": {
    "code_folding": []
   },
   "outputs": [],
   "source": [
    "#################### SUPPLIED TO PYDISORT ########################\n",
    "\n",
    "# Cosine of polar angle (UMU0) -- MOST IMPORTANT\n",
    "mu0 = 0.6\n",
    "# Intensity (FBEAM) -- Simply a scale factor\n",
    "I0 = pi / mu0\n",
    "# Azimuthal angle (PHI0) -- No effect on fluxes\n",
    "phi0 = 0.9 * pi\n",
    "\n",
    "##################################################################"
   ]
  },
  {
   "cell_type": "markdown",
   "id": "987a5cf6",
   "metadata": {},
   "source": [
    "**Rescale of sources**\n",
    "\n",
    "Given lone source $\\mathcal{S} = \\mathcal{S}_0$, e.g. $I_0 = \\mathcal{S}_0$, $\\mathcal{S}_0$ is a simple scale factor for the outputs, i.e. for all $\\tau, \\phi,  \\mathcal{S}_0$,\n",
    "\n",
    "$$\\frac{u(\\tau, \\phi; \\mathcal{S} = \\mathcal{S}_0)}{u(\\tau, \\phi; \\mathcal{S} = 1)} = \\mathcal{S}_0 = \\frac{F(\\tau; \\mathcal{S} = \\mathcal{S}_0)}{F(\\tau;  \\mathcal{S} = 1)}$$\n",
    "\n",
    "where $F$ is any of the different types of fluxes, see section [3.8](#3.8-Computation-of-flux). PythonicDISORT will internally rescale sources for numerical stability.\n",
    "\n",
    "Users should be careful with large inputs. The resolution of `float64`, per `numpy.finfo`, is $10^{-15}$ and so scaling values up with $I_0 = 10^{15}$, for example, will greatly magnify computational noise and result in boundary conditions appearing unsatisfied among other problems."
   ]
  },
  {
   "cell_type": "markdown",
   "id": "4cf0da42",
   "metadata": {},
   "source": [
    "## 1.5 OPTIONAL: Choose BDRF"
   ]
  },
  {
   "cell_type": "markdown",
   "id": "e3aa1596",
   "metadata": {},
   "source": [
    "Denote the Bi-Directional Reflectance Function (BDRF) as $q$. Assume that the BDRF can be expressed as a Fourier cosine series with respect to $\\Delta \\phi := \\phi' - \\phi$; this is weaker than the spherical symmetry assumption made in section [1.3](#1.3-Choose-phase-function). The BDRF argument should be a **list** of max length $\\text{NFourier}$ which $m$-indexed element is either a scalar (the function is constant) or the $m$th Fourier mode function\n",
    "\n",
    "$$q^m\\left(\\mu, -\\mu'\\right) = \\frac{1}{(1 + \\delta_{0m})\\pi}\\int_0^{2\\pi} q\\left(\\mu, \\phi; -\\mu', \\phi'\\right)\\cos(m\\Delta \\phi) \\mathrm{d}(\\Delta \\phi)$$\n",
    "\n",
    "with exactly two arguments $\\mu, -\\mu' > 0$ of type **array** and its output must have the **same dimensions as the outer product** $\\mu \\otimes -\\mu'$."
   ]
  },
  {
   "cell_type": "markdown",
   "id": "47a91966",
   "metadata": {},
   "source": [
    "***Lambertian BDRF***"
   ]
  },
  {
   "cell_type": "markdown",
   "id": "5c91551a",
   "metadata": {},
   "source": [
    "$$q\\left(\\mu, \\phi; -\\mu', \\phi'\\right) = \\omega_s$$\n",
    "\n",
    "This BDRF has only the zeroth Fourier mode $\\omega_s$."
   ]
  },
  {
   "cell_type": "markdown",
   "id": "8b9e9315",
   "metadata": {},
   "source": [
    "**Surface albedo (ALBEDO)**"
   ]
  },
  {
   "cell_type": "code",
   "execution_count": 22,
   "id": "2cb63ba0",
   "metadata": {},
   "outputs": [],
   "source": [
    "omega_s = 0.1 # Ocean albedo is approximately 0.1"
   ]
  },
  {
   "cell_type": "markdown",
   "id": "6b33ce2f",
   "metadata": {},
   "source": [
    " * **(OPTIONAL) BDRF Fourier modes (No direct equivalent in Stamnes' DISORT** [[3]](#cite-Sta1999)**, but see variables *BDREF* and *LAMBER*)**\n",
    " \n",
    "The number of BDRF Fourier modes must be non-negative and $\\leq \\text{NLeg}$. The default is a black surface, i.e. $q\\left(\\mu, \\phi; -\\mu', \\phi'\\right) = 0$. If the same BDRF, number of streams ($\\text{NQuad}$), and solar zenith angle ($\\mu_0$) will be used repeatedly, consider caching `BDRF_Fourier_modes` using `PythonicDISORT.subroutines.cache_BDRF_Fourier_modes` and instead input `cached_BDRF_Fourier_modes` into `pydisort`."
   ]
  },
  {
   "cell_type": "code",
   "execution_count": 23,
   "id": "b7aabefc",
   "metadata": {},
   "outputs": [],
   "source": [
    "#################### SUPPLIED TO PYDISORT ########################\n",
    "\n",
    "BDRF_Fourier_modes = [lambda mu, neg_mup: np.full((len(mu), len(neg_mup)), omega_s)]\n",
    "\n",
    "##################################################################\n",
    "\n",
    "# Used internally in PythonicDISORT\n",
    "NBDRF = len(BDRF_Fourier_modes)"
   ]
  },
  {
   "cell_type": "markdown",
   "id": "64e9b571",
   "metadata": {},
   "source": [
    "## 1.6 OPTIONAL: Choose boundary sources"
   ]
  },
  {
   "cell_type": "markdown",
   "id": "265b83a4",
   "metadata": {},
   "source": [
    " * **(OPTIONAL) Boundary sources, i.e. Dirichlet boundary conditions (FISOT is similar to** $b^-$**)**"
   ]
  },
  {
   "cell_type": "markdown",
   "id": "ab6a7466",
   "metadata": {},
   "source": [
    "$$\n",
    "u\\left(\\tau_{\\text{BoA}}, \\mu_i, \\phi \\right) = \\sum_{m = 0}^{\\text{NFourier}}b^+_{im}\\cos(m(\\phi_0 - \\phi)), \\quad u(0, -\\mu_i, \\phi) = \\sum_{m = 0}^{\\text{NFourier}}b^-_{im}\\cos(m(\\phi_0 - \\phi))\n",
    "$$\n",
    "\n",
    "for $i = 1, \\dots, N$, where $b^\\pm$ are matrices to be specified and \"BoA\" stands for \"Bottom of Atmosphere\". The row and column indices are $i$ and $m$ respectively. We allow each of $b^+$ and $b^-$ to be a constant instead. The default is $b^+ = 0 = b^-$ (homogeneous BCs)."
   ]
  },
  {
   "cell_type": "markdown",
   "id": "bdeac418",
   "metadata": {},
   "source": [
    "If $u\\left(\\tau_{\\text{BoA}}, \\mu, \\phi \\right) = \\psi^+(\\mu, \\phi)$ and $u\\left(0, -\\mu, \\phi \\right) = \\psi^-(\\mu, \\phi)$, then $\\psi^+$ and $\\psi^-$ must first be discretized in $\\mu$, following which $b^+_{im}$ and $b^-_{im}$ are the truncated Fourier coefficients of $\\psi^+_i$ and $\\psi^-_i$ respectively. Note that `PythonicDISORT.subroutines.Gauss_Legendre_quad(N)[0]` can be used to get the grid points $\\mu_i$. We require $\\psi^+$ and $\\psi^-$ to be even about some $\\phi$ value (not necessarily $\\phi_0$) for them to be compatible with the pure cosine series expansion of the solution. Each BC input must be a matrix of dimension $N \\times \\text{NLeg}$, a vector of length $N$, or a scalar. If the input is a vector the BC will be taken to be **isotropic radiation of that magnitude**, e.g. `b_neg = np.arange(N)` implies\n",
    "\n",
    "$$b^-_{i0} = i, b^-_{im} = 0 \\quad \\forall m = 1, \\dots, \\text{NFourier}, \\forall i = 1, \\dots, N$$\n",
    "\n",
    "and a scalar input would simply be broadcasted to a vector of length $N$. A scalar `b_neg` is equivalent to the argument `FISOT` in Stamnes' DISORT [[3]](#cite-Sta1999) plus blackbody emission from the bottom boundary. The contribution of blackbody emission to `b_pos` or `b_neg` can be computed using `PythonicDISORT.subroutines.blackbody_contrib_to_BCs`. Users are responsible for determining emissivities, though `PythonicDISORT.subroutines.generate_emissivity_from_BDRF` can be used to determine the (directional) emissivity of the surface given the BDRF (see section [1.5](#1.5-OPTIONAL:-Choose-BDRF)) in accordance with Kirchoff's law of thermal radiation."
   ]
  },
  {
   "cell_type": "code",
   "execution_count": 24,
   "id": "60e17b5a",
   "metadata": {},
   "outputs": [
    {
     "name": "stdout",
     "output_type": "stream",
     "text": [
      "[0.9 0.9 0.9 0.9 0.9 0.9 0.9 0.9]\n"
     ]
    }
   ],
   "source": [
    "#################### Parameters to choose ########################\n",
    "\n",
    "WVNMLO = 0 # Lower bound of wavenumber interval with units m^-1\n",
    "WVNMHI = 50000 # Upper bound of wavenumber interval with units m^-1\n",
    "\n",
    "T_Surf = 288  # Average surface temperature in kelvin\n",
    "T_CMB = 2.7 # Temperature for cosmic microwave background radiation in kelvin\n",
    "\n",
    "##################################################################\n",
    "\n",
    "emissivity_top_boundary = 1\n",
    "emissivity_surface = PythonicDISORT.subroutines.generate_emissivity_from_BDRF(NQuad // 2, BDRF_Fourier_modes[0])\n",
    "print(emissivity_surface)"
   ]
  },
  {
   "cell_type": "code",
   "execution_count": 25,
   "id": "8c2bd769",
   "metadata": {
    "code_folding": []
   },
   "outputs": [],
   "source": [
    "#################### SUPPLIED TO PYDISORT ########################\n",
    "\n",
    "# At bottom of atmosphere\n",
    "b_pos = (\n",
    "    PythonicDISORT.subroutines.blackbody_contrib_to_BCs(T_Surf, WVNMLO, WVNMHI)\n",
    "    * emissivity_top_boundary\n",
    ")\n",
    "\n",
    "# At top of atmosphere\n",
    "b_neg = (\n",
    "    PythonicDISORT.subroutines.blackbody_contrib_to_BCs(T_CMB, WVNMLO, WVNMHI)\n",
    "    * emissivity_surface\n",
    ")\n",
    "\n",
    "##################################################################\n",
    "\n",
    "# Code within `pydisort` to ensure that the BC inputs are of the correct shape\n",
    "b_pos_is_scalar = False\n",
    "b_neg_is_scalar = False\n",
    "b_pos_is_vector = False\n",
    "b_neg_is_vector = False\n",
    "\n",
    "if len(np.atleast_1d(b_pos)) == 1:\n",
    "    b_pos_is_scalar = True\n",
    "elif len(b_pos) == N:\n",
    "    b_pos_is_vector = True\n",
    "elif not np.shape(b_pos) == (N, NFourier):\n",
    "    raise ValueError(\"The shape of the bottom boundary condition is incorrect.\")\n",
    "if len(np.atleast_1d(b_neg)) == 1:\n",
    "    b_neg_is_scalar = True\n",
    "elif len(b_neg) == N:\n",
    "    b_neg_is_vector = True\n",
    "elif not np.shape(b_neg) == (N, NFourier):\n",
    "    raise ValueError(\"The shape of the top boundary condition is incorrect.\")"
   ]
  },
  {
   "cell_type": "markdown",
   "id": "5d6aaa05",
   "metadata": {},
   "source": [
    "## 1.7 OPTIONAL: Choose isotropic internal source"
   ]
  },
  {
   "cell_type": "markdown",
   "id": "1dd2014f",
   "metadata": {},
   "source": [
    "For each atmospheric layer $l$, let\n",
    "\n",
    "$$s_l(\\tau) = \\mathscr{a}_{l0} + \\mathscr{a}_{l1} \\tau + \\dots + \\mathscr{a}_{ln} \\tau^n$$\n",
    "\n",
    "If $s_l$ is not a polynomial then the above should be a polynomial approximation of the true $s_l$. Note that continuity between layers is not required. The coefficient matrix $\\mathscr{a}$ defaults to an empty matrix which means no isotropic internal sources."
   ]
  },
  {
   "cell_type": "markdown",
   "id": "ad060078",
   "metadata": {},
   "source": [
    "* **(OPTIONAL) Coefficient matrix** $\\mathscr{a}$"
   ]
  },
  {
   "cell_type": "markdown",
   "id": "2037ce84",
   "metadata": {},
   "source": [
    "**Example with parameters: Blackbody radiation**"
   ]
  },
  {
   "cell_type": "markdown",
   "id": "67fbe54d",
   "metadata": {},
   "source": [
    "Let $B$ denote the Planck function for intensity leaving a blackbody surface, with units $W m^{-2}$ to match Stamnes' DISORT [[3]](#cite-Sta1999). For each layer $l$, let the isotropic internal source be blackbody emission:\n",
    "\n",
    "$$s_l(\\tau) = \\epsilon_l \\int_{\\tilde{\\nu}_0}^{\\tilde{\\nu}_1} B\\left(T(\\tau); \\tilde{\\nu}\\,\\right) \\mathrm{d}\\tilde{\\nu}$$\n",
    "\n",
    "for some wavenumber interval $[\\tilde{\\nu}_0, \\tilde{\\nu}_1]$ (see [[4, section 3.2.3]](#cite-STWLE2000) on the nuances of integrating the Planck function) and emissivities $\\epsilon_l$ that, following Kirchoff's law of thermal radiation, should equal $1 - \\omega_l$. Following [[4, section 2.5]](#cite-STWLE2000), it is common to use linear splines to profile the blackbody emission, i.e. in each layer $l$,\n",
    "\n",
    "$$B(T(\\tau)) = a_{l0} + a_{l1} \\tau$$\n",
    "\n",
    "for constants $a_{l0}, a_{l1}$ to be specified. The convenience function `PythonicDISORT.subroutines.generate_s_poly_coeffs` is provided to generate `s_poly_coeffs` such that the outputs of PythonicDISORT will match those of Stamnes' DISORT given the same inputs. PythonicDISORT allows much more flexibility in choosing blackbody emission profiles than DISORT."
   ]
  },
  {
   "cell_type": "code",
   "execution_count": 26,
   "id": "1bc8b5d1",
   "metadata": {},
   "outputs": [],
   "source": [
    "#################### (DISORT) Parameters to choose ########################\n",
    "\n",
    "WVNMLO = 0 # Lower bound of wavenumber interval with units m^-1\n",
    "WVNMHI = 50000 # Upper bound of wavenumber interval with units m^-1\n",
    "\n",
    "T_ToA = 250  # Temperature at Top of Atmosphere in kelvin\n",
    "T_BoA = 300  # Temperature at Bottom of Atmosphere in kelvin\n",
    "TEMPER = np.linspace(T_ToA, T_BoA, NLayers + 1) # These values pertain to boundaries / interfaces, not layers\n",
    "\n",
    "##################################################################\n",
    "\n",
    "emissivity = 1 # This should actually be determined using Kirchoff's law of thermal radiation"
   ]
  },
  {
   "cell_type": "code",
   "execution_count": 27,
   "id": "822e3680",
   "metadata": {},
   "outputs": [],
   "source": [
    "###################################### SUPPLIED TO PYDISORT #########################################\n",
    "\n",
    "# This is the coefficient matrix \\mathscr{a}\n",
    "s_poly_coeffs = PythonicDISORT.subroutines.generate_s_poly_coeffs(\n",
    "    tau_arr, TEMPER, WVNMLO, WVNMHI\n",
    ") * emissivity\n",
    "\n",
    "#####################################################################################################\n",
    "\n",
    "# Used internally in PythonicDISORT\n",
    "Nscoeffs = np.shape(s_poly_coeffs)[1]"
   ]
  },
  {
   "cell_type": "code",
   "execution_count": 28,
   "id": "2ba91551",
   "metadata": {},
   "outputs": [],
   "source": [
    "# Used only in tests\n",
    "def s(tau):\n",
    "    l = np.argmax(tau[:, None] <= tau_arr[None, :], axis=1)\n",
    "    return np.einsum(\n",
    "        \"tc, tc -> t\",\n",
    "        tau[:, None] ** np.arange(Nscoeffs)[None, :],\n",
    "        s_poly_coeffs[l, :],\n",
    "        optimize=True,\n",
    "    )"
   ]
  },
  {
   "cell_type": "code",
   "execution_count": 58,
   "id": "8a7efd24-6208-4065-b734-5d7c43ab9817",
   "metadata": {},
   "outputs": [
    {
     "data": {
      "image/png": "[encoded data removed]",
      "text/plain": [
       "<Figure size 640x480 with 1 Axes>"
      ]
     },
     "metadata": {},
     "output_type": "display_data"
    }
   ],
   "source": [
    "tau_plot = np.linspace(0, tau_arr[-1], 100)\n",
    "tau_arr_with_0 = np.insert(tau_arr, 0, 0)\n",
    "plt.plot(tau_plot, s(tau_plot), label=\"Linear spline (DISORT)\", linewidth=2.5)\n",
    "plt.plot(\n",
    "    tau_plot,\n",
    "    sc.interpolate.CubicSpline(tau_arr_with_0[0::4], s(tau_arr_with_0[0::4]))(tau_plot),\n",
    "    label=\"Cubic spline with fewer layers\",\n",
    ")\n",
    "plt.plot(tau_arr_with_0, s(tau_arr_with_0), \"o\", color=\"#1f77b4\")\n",
    "plt.plot(tau_arr_with_0[0::4], s(tau_arr_with_0[0::4]), \"o\", color=\"#ff7f0e\")\n",
    "plt.xlabel(r\"$\\tau$\")\n",
    "plt.ylabel(r\"$s(\\tau)$\")\n",
    "plt.legend()\n",
    "plt.grid()"
   ]
  },
  {
   "cell_type": "markdown",
   "id": "b16349bf-b9cc-470a-bf8c-7fd0d55b123a",
   "metadata": {},
   "source": [
    "Remember to rescale sources so that they will not be so large as to magnify floating-point errors into significance."
   ]
  },
  {
   "cell_type": "markdown",
   "id": "2882ef4f",
   "metadata": {},
   "source": [
    "# 2. PythonicDISORT modules and outputs"
   ]
  },
  {
   "cell_type": "markdown",
   "id": "5ae28b30",
   "metadata": {},
   "source": [
    "The PythonicDISORT package has two public modules: `pydisort` and `subroutines`. The `pydisort` module contains a single eponymous function. The `subroutines` module contains miscellaneous functions that are called in `pydisort`, provide additional features like interpolation, or are useful for testing."
   ]
  },
  {
   "cell_type": "markdown",
   "id": "b78f8524",
   "metadata": {},
   "source": [
    "**The outputs of the** `pydisort` **function**"
   ]
  },
  {
   "cell_type": "markdown",
   "id": "17a83658",
   "metadata": {},
   "source": [
    "The solver function `pydisort` will always return `mu_arr` (type: array), `flux_up` (type: function), `flux_down` (type: function) and `u0` (type: function). The array `mu_arr` contains the $\\mu_i$ values, i.e. the $\\mu$ quadrature nodes. Input `tau` $\\tau$ into `flux_up` $F^+$ and `flux_down` $F^-$ to get the diffuse fluxes at the specified optical depths. The latter also returns the direct flux as its second output. More details on the flux functions can be found in section [3.8](#3.8-Computation-of-flux). The distinction between \"direct\" and \"diffuse\" is explained in the introduction.\n",
    "\n",
    "The function `u0` $u^0$ is the zeroth Fourier moment of the (diffuse) intensity, i.e. the azimuthal average, and it is continuous and variable in $\\tau$ but discrete in $\\mu$ and fixed to the quadrature points $\\mu_i$. The function output is 2D and its $0, 1$ axes capture variation with $\\mu$ and $\\tau$ respectively. The first half of the $\\mu$ indices correspond to the upward direction and the second half to the downward direction in alignment with `mu_arr`. This function is useful for calculating actinic flux and other intensity moments, but reclassification of delta-scaled flux (see section [3.8.1](#3.8.1-Impact-of-delta-M-scaling-on-flux-calculations)) and other corrections must be done manually (actinic flux can be calculated by inputing `u0` into `PythonicDISORT.subroutines.generate_diff_act_flux_funcs` and the flux reclassification will be automatic).\n",
    "\n",
    "When `only_flux = False` (default), `pydisort` will also output the intensity function `u` $u$ which is continuous and variable in $\\tau$ and $\\phi$, which are its arguments, but discrete in $\\mu$ and fixed to the quadrature points $\\mu_i$. The function output is 3D and its $0, 1, 2$ axes capture variation with $\\mu, \\tau, \\phi$ respectively. The function also has the optional flag `return_Fourier_error` which defaults to `False`, see section [3.7](#3.7-The-full-solution) for more details.\n",
    "\n",
    "Each of these functions has the optional flag `indefinite_tau_integral` (defaults to `False`) which if set to `True` switches to  an antiderivative of the function with respect to $\\tau$. For example, `flux_up(tau0, is_antiderivative_wrt_tau=True) - flux_up(0, is_antiderivative_wrt_tau=True)` will give the integral of `flux_up` over $\\tau \\in [0, \\tau_0]$."
   ]
  },
  {
   "cell_type": "markdown",
   "id": "1a32f4b7",
   "metadata": {},
   "source": [
    "# 3. Breakdown of single layer solver"
   ]
  },
  {
   "cell_type": "markdown",
   "id": "a3a4f605",
   "metadata": {},
   "source": [
    "In this section we break down and explain the code for solving the radiative transfer equation for a single atmospheric layer. Unless otherwise stated, we will disable $\\delta-M$ scaling (`f = 0`), NT corrections (`NT_cor = False`) and have no isotropic internal sources, i.e. `s_poly_coeffs=np.array([[]])`. We will explain $\\delta-M$ scaling and NT corrections in their independent subsections."
   ]
  },
  {
   "cell_type": "markdown",
   "id": "2c48098e",
   "metadata": {},
   "source": [
    "**Tensor product coding philosophy**"
   ]
  },
  {
   "cell_type": "markdown",
   "id": "75344836",
   "metadata": {},
   "source": [
    "First, a foreword on our coding philosophy for tensor products. We will use the following methods in order of preference:\n",
    "\n",
    "* Broadcasting: e.g. outer product of `array1` and `array2` is coded as `array1[:, None] * array2[None, :]`.\n",
    "* NumPy `einsum` (Einstein's summation convention) function with `optimize = True`. The documentation can be found at https://numpy.org/doc/stable/reference/generated/numpy.einsum.html.\n",
    "\n",
    "We believe that this is the best balance between code readability and speed. Other common NumPy functions for tensor products are `numpy.outer` and `numpy.tensordot` but we do not use them."
   ]
  },
  {
   "cell_type": "markdown",
   "id": "df50562e",
   "metadata": {},
   "source": [
    "## 3.1 Quadrature"
   ]
  },
  {
   "cell_type": "markdown",
   "id": "29043208",
   "metadata": {},
   "source": [
    "We use Double Gauss-Legendre quadrature weights and points to numerically integrate over $\\mu$ from $-1$ to $1$."
   ]
  },
  {
   "cell_type": "code",
   "execution_count": 29,
   "id": "180909f8",
   "metadata": {},
   "outputs": [],
   "source": [
    "# For positive mu values (the weights are identical for both domains)\n",
    "mu_arr_pos, W = PythonicDISORT.subroutines.Gauss_Legendre_quad(N) # mu_arr_neg = -mu_arr_pos\n",
    "mu_arr = np.concatenate([mu_arr_pos, -mu_arr_pos])\n",
    "full_weights_mu = np.concatenate([W, W])"
   ]
  },
  {
   "cell_type": "markdown",
   "id": "157d2874",
   "metadata": {},
   "source": [
    "Test integral:\n",
    "\n",
    "$$\\int_{a}^{b} e^x \\mathrm{d}x = e^b - e^a$$"
   ]
  },
  {
   "cell_type": "code",
   "execution_count": 30,
   "id": "3a8926fa",
   "metadata": {
    "code_folding": [],
    "tags": [
     "hide_input"
    ]
   },
   "outputs": [
    {
     "name": "stdout",
     "output_type": "stream",
     "text": [
      "Gauss-Legendre quadrature error ratio = 0.0\n"
     ]
    }
   ],
   "source": [
    "# Double Gauss-Legendre quadrature; integrate from -1 to 1\n",
    "true_sol = np.exp(1) - np.exp(-1)\n",
    "\n",
    "print(\n",
    "    \"Gauss-Legendre quadrature error ratio =\",\n",
    "    np.abs((true_sol - np.sum(np.exp(mu_arr) * full_weights_mu)) / true_sol),\n",
    ")"
   ]
  },
  {
   "cell_type": "code",
   "execution_count": 31,
   "id": "3c5f8be3",
   "metadata": {},
   "outputs": [],
   "source": [
    "# Number of phi grid points\n",
    "# This selection should ensure that the phi quadrature is at least as accurate as the mu quadrature\n",
    "Nphi = int((NQuad * pi) // 2) * 2 + 1   "
   ]
  },
  {
   "cell_type": "markdown",
   "id": "fb0b39d4-6969-490d-aa0d-f70e15065268",
   "metadata": {},
   "source": [
    "We use Clenshaw-Curtis quadrature to numerically integrate over $\\phi$ from $0$ to $2\\pi$. This will only be used in tests."
   ]
  },
  {
   "cell_type": "code",
   "execution_count": 32,
   "id": "f449ffd3",
   "metadata": {
    "code_folding": [],
    "tags": [
     "hide_input"
    ]
   },
   "outputs": [
    {
     "name": "stdout",
     "output_type": "stream",
     "text": [
      "Clenshaw-Curtis quadrature error ratio = 2.1270086547936496e-16\n"
     ]
    }
   ],
   "source": [
    "# Clenshaw-Curtis quadrature; integrate from -1 to 1\n",
    "phi_arr, full_weights_phi = PythonicDISORT.subroutines.Clenshaw_Curtis_quad(Nphi)\n",
    "true_sol = np.exp(2 * pi) - 1\n",
    "\n",
    "print(\n",
    "    \"Clenshaw-Curtis quadrature error ratio =\",\n",
    "    np.abs((true_sol - np.sum(np.exp(phi_arr) * full_weights_phi)) / true_sol),\n",
    ")"
   ]
  },
  {
   "cell_type": "markdown",
   "id": "0b135f22",
   "metadata": {},
   "source": [
    "## 3.2 Fourier expansion of solution"
   ]
  },
  {
   "cell_type": "markdown",
   "id": "be81279f",
   "metadata": {},
   "source": [
    "*We will re-derive equations (6a) to (6d) of* [[1]](#cite-STWJ1988) *in this subsection.*"
   ]
  },
  {
   "cell_type": "markdown",
   "id": "1fae7cb1",
   "metadata": {},
   "source": [
    "The goal is to turn the problem of solving the radiative transfer equation\n",
    "\n",
    "$$\n",
    "\\begin{aligned}\n",
    "\\mu \\frac{\\partial u(\\tau, \\mu, \\phi)}{\\partial \\tau} = u(\\tau, \\mu, \\phi) &-\\frac{\\omega}{4 \\pi} \\int_{-1}^{1} \\int_{0}^{2 \\pi} p\\left(\\mu, \\phi ; \\mu', \\phi'\\right) u\\left(\\tau, \\mu', \\phi'\\right) \\mathrm{d} \\phi' \\mathrm{d} \\mu' \\\\\n",
    "&-\\frac{\\omega I_0}{4 \\pi} p\\left(\\mu, \\phi ;-\\mu_{0}, \\phi_{0}\\right) \\exp\\left(-\\mu_{0}^{-1} \\tau\\right) - s(\\tau)\n",
    "\\end{aligned}\n",
    "$$\n",
    "\n",
    "into the problem of solving\n",
    "\n",
    "$$\n",
    "\\mu \\frac{d u^m(\\tau, \\mu)}{d \\tau}=u^m(\\tau, \\mu)-\\int_{-1}^1 D^m\\left(\\mu, \\mu'\\right) u^m\\left(\\tau, \\mu'\\right) \\mathrm{d} \\mu' - Q^m(\\tau, \\mu) - \\delta_{0m}s(\\tau)\n",
    "$$\n",
    "\n",
    "for each Fourier mode $m$, where $\\delta_{0m}$ is the Kronecker delta for indices $0$ and $m$."
   ]
  },
  {
   "cell_type": "markdown",
   "id": "d96955f2",
   "metadata": {},
   "source": [
    "**Definitions and expansions**"
   ]
  },
  {
   "cell_type": "markdown",
   "id": "7a99d371",
   "metadata": {},
   "source": [
    "The relevant definitions and expansions are\n",
    "\n",
    "$$\n",
    "\\begin{aligned}\n",
    "u\\left(\\tau, \\mu, \\phi\\right) &\\approx \\sum_{m=0}^\\text{NFourier} u^m\\left(\\tau, \\mu\\right)\\cos\\left(m\\left(\\phi_0 - \\phi\\right)\\right) \\quad \\text{(Fourier cosine series)} \\\\\n",
    "p\\left(\\mu, \\phi ; \\mu', \\phi'\\right) = p\\left(\\nu\\right) &\\approx \\sum_{\\ell=0}^\\text{NLeg} \\mathscr{g}_\\ell P_\\ell\\left(\\nu\\right) \\quad \\text{(Legendre series)}\n",
    "\\end{aligned}\n",
    "$$\n",
    "$$\n",
    "\\begin{aligned}\n",
    "\\mathscr{g}_\\ell &= \\frac{2\\ell + 1}{2}\\int_{-1}^{1} p\\left(\\nu\\right) P_\\ell\\left(\\nu\\right) \\mathrm{d}\\nu, \\quad &&\\mathscr{g}_\\ell^m = \\frac{\\left(\\ell-m\\right)!}{\\left(\\ell+m\\right)!} \\mathscr{g}_\\ell\n",
    "\\end{aligned}\n",
    "$$\n",
    "\n",
    "where $\\mathscr{g}_\\ell$ are the *weighted* Legendre coefficients, $\\mathscr{g}_\\ell = (2 \\ell + 1) g_\\ell$. As elaborated upon in section [1.3](#1.3-Choose-phase-function),\n",
    "\n",
    "$$\n",
    "P_\\ell\\left(\\nu\\right) = P_\\ell\\left(\\mu'\\right)P_\\ell\\left(\\mu\\right) + 2\\sum_{m=1}^\\ell \\frac{\\left(\\ell-m\\right)!}{\\left(\\ell+m\\right)!}P_\\ell^m\\left(\\mu'\\right)P_\\ell^m\\left(\\mu\\right)\\cos\\left(m\\left(\\phi'-\\phi\\right)\\right)\n",
    "$$\n",
    "\n",
    "Consequently, the $\\mu, \\phi, \\mu', \\phi'$ form of the phase function can be expanded as\n",
    "\n",
    "$$\n",
    "p\\left(\\mu, \\phi; \\mu', \\phi'\\right) \\approx \\sum_{\\ell=0}^\\text{NLeg} \\left[ \\mathscr{g}_\\ell P_\\ell\\left(\\mu'\\right)P_\\ell\\left(\\mu\\right) + 2\\sum_{m=1}^\\ell \\mathscr{g}_\\ell^m P_\\ell^m\\left(\\mu'\\right)P_\\ell^m\\left(\\mu\\right)\\cos\\left(m\\left(\\phi'-\\phi\\right)\\right) \\right]\n",
    "$$\n",
    "\n",
    "Going forward we will omit the upper limit of a sum when it is irrelevant to reduce the clutter of the expressions."
   ]
  },
  {
   "cell_type": "markdown",
   "id": "e4b5f6c3",
   "metadata": {},
   "source": [
    "**Multiple scattering term**"
   ]
  },
  {
   "cell_type": "markdown",
   "id": "877d8d22",
   "metadata": {},
   "source": [
    "First, focus on the multiple scattering term of the radiative transfer equation. Substitute the expansion of $p\\left(\\mu, \\phi; \\mu', \\phi'\\right)$ and $u(\\tau, \\mu, \\phi)$ to get\n",
    "\n",
    "$$\n",
    "\\begin{aligned}\n",
    "&\\frac{\\omega}{4 \\pi} \\int_{-1}^{1} \\int_{0}^{2 \\pi} p\\left(\\mu, \\phi ; \\mu', \\phi'\\right) u\\left(\\tau, \\mu', \\phi'\\right) \\mathrm{d} \\phi' \\mathrm{d} \\mu' \\\\\n",
    "&\\approx \\frac{\\omega}{4 \\pi} \\int_{-1}^{1} \\Bigg[ \\int_{0}^{2 \\pi} \\sum_{m=0} \\sum_{\\ell=0} u^m\\left(\\tau, \\mu'\\right) \\left(\\mathscr{g}_\\ell P_\\ell\\left(\\mu'\\right)P_\\ell(\\mu)\\right) \\cos\\left(m\\left(\\phi_0 - \\phi'\\right)\\right) \\\\\n",
    "&\\quad+ 2\\sum_{m=0} \\sum_{\\ell=0} \\sum_{n=1}^\\ell u^m\\left(\\tau, \\mu'\\right) \\left(\\mathscr{g}_\\ell^n P_\\ell^n\\left(\\mu'\\right)P_\\ell^n(\\mu)\\right)\\cos\\left(n\\left(\\phi'-\\phi\\right)\\right) \\cos\\left(m\\left(\\phi_0 - \\phi'\\right)\\right) \\mathrm{d} \\phi' \\Bigg] \\mathrm{d} \\mu' \\\\\n",
    "&= \\frac{\\omega}{4 \\pi} \\int_{-1}^{1} \\Bigg[ 2\\pi \\sum_{\\ell=0} u^0\\left(\\tau, \\mu'\\right) \\mathscr{g}_\\ell P_\\ell\\left(\\mu'\\right)P_\\ell(\\mu) \\\\\n",
    "&\\quad+ 2\\sum_{m=1} \\sum_{\\ell=m} \\sum_{n=1}^\\ell u^m\\left(\\tau, \\mu'\\right) \\mathscr{g}_\\ell^n P_\\ell^n\\left(\\mu'\\right)P_\\ell^n(\\mu)\\int_{0}^{2 \\pi}\\cos\\left(n\\left(\\phi'-\\phi\\right)\\right) \\cos\\left(m\\left(\\phi_0 - \\phi'\\right)\\right) \\mathrm{d} \\phi' \\Bigg] \\mathrm{d} \\mu' \\\\\n",
    "&= \\frac{\\omega}{4 \\pi} \\int_{-1}^{1} \\left[ 2\\pi \\sum_{\\ell=0} u^0\\left(\\tau, \\mu'\\right) \\mathscr{g}_\\ell P_\\ell\\left(\\mu'\\right)P_\\ell(\\mu) + 2\\pi\\sum_{m=1} \\sum_{\\ell=m} u^m\\left(\\tau, \\mu'\\right) \\mathscr{g}_\\ell^m P_\\ell^m\\left(\\mu'\\right)P_\\ell^m(\\mu)\\cos\\left(m\\left(\\phi_0 - \\phi\\right)\\right) \\right] \\mathrm{d} \\mu' \\\\\n",
    "&= \\sum_{m=0} \\left\\{ \\frac{\\omega}{2} \\int_{-1}^{1} u^m\\left(\\tau, \\mu'\\right) \\sum_{\\ell=m} \\mathscr{g}_\\ell^m P_\\ell^m\\left(\\mu'\\right)P_\\ell^m(\\mu) \\mathrm{d} \\mu'\\right\\} \\cos\\left(m\\left(\\phi_0 - \\phi\\right)\\right)\n",
    "\\end{aligned}\n",
    "$$\n",
    "\n",
    "The term in the curly brackets of the last line is the contribution of the multiple scttering term to the $m$th Fourier mode of the radiative transfer equation."
   ]
  },
  {
   "cell_type": "markdown",
   "id": "0fdd37d3",
   "metadata": {},
   "source": [
    "**Direct beam source term**"
   ]
  },
  {
   "cell_type": "markdown",
   "id": "4332606f",
   "metadata": {},
   "source": [
    "Next, focus on the direct beam source term -- the isotropic internal source will contribute only to the $0$th Fourier mode as they have no $\\phi$ dependence. Substitute the expansion of $p\\left(\\mu, \\phi; \\mu', \\phi'\\right)$ once again to get\n",
    "\n",
    "$$\n",
    "\\begin{aligned}\n",
    "&\\frac{\\omega I_0}{4 \\pi} p\\left(\\mu, \\phi ;-\\mu_{0}, \\phi_{0}\\right) \\exp\\left(-\\mu_{0}^{-1} \\tau\\right) \\approx \\\\\n",
    "&\\frac{\\omega I_0}{4 \\pi} \\exp\\left(-\\mu_{0}^{-1} \\tau\\right) \\left[ \\sum_{\\ell=0} \\mathscr{g}_\\ell P_\\ell\\left(-\\mu_0\\right)P_\\ell(\\mu) + 2\\sum_{\\ell=0}\\sum_{m=1}^\\ell \\mathscr{g}_\\ell^m P_\\ell^m\\left(-\\mu_0\\right)P_\\ell^m(\\mu)\\cos\\left(m\\left(\\phi_0-\\phi\\right)\\right) \\right]\n",
    "\\end{aligned}\n",
    "$$\n",
    "\n",
    "It is immediately apparent that the contribution to the $0$th moment is\n",
    "\n",
    "$$\n",
    "\\frac{\\omega I_0}{4 \\pi} \\exp\\left(-\\mu_{0}^{-1} \\tau\\right)\\sum_{\\ell=0} \\mathscr{g}_\\ell P_\\ell\\left(-\\mu_0\\right)P_\\ell(\\mu)\n",
    "$$\n",
    "\n",
    "For $n \\geq 1$, to determine the contribution to the $n$th moment, multiply by $\\pi^{-1}\\cos\\left(n\\left(\\phi_0-\\phi\\right)\\right)$ and integrate over $\\phi$ from $0$ to $2\\pi$ to get\n",
    "\n",
    "$$\n",
    "\\begin{aligned}\n",
    "&\\frac{\\omega I_0}{4 \\pi} \\exp\\left(-\\mu_{0}^{-1} \\tau\\right) \\int_{0}^{2\\pi} \\frac{2}{\\pi}\\sum_{\\ell=0}\\sum_{m=1}^\\ell \\mathscr{g}_\\ell^m P_\\ell^m\\left(-\\mu_0\\right)P_\\ell^m(\\mu)\\cos\\left(m\\left(\\phi_0-\\phi\\right)\\right)\\cos\\left(n\\left(\\phi_0-\\phi\\right)\\right) \\mathrm{d}\\phi \\\\\n",
    "&= \\frac{\\omega I_0}{4 \\pi} \\exp\\left(-\\mu_{0}^{-1} \\tau\\right) \\frac{2}{\\pi}\\sum_{\\ell=n}\\sum_{m=1}^\\ell \\mathscr{g}_\\ell^m P_\\ell^m\\left(-\\mu_0\\right)P_\\ell^m(\\mu)\\int_{0}^{2\\pi}\\cos\\left(m\\left(\\phi_0-\\phi\\right)\\right)\\cos\\left(n\\left(\\phi_0-\\phi\\right)\\right) \\mathrm{d}\\phi \\\\\n",
    "&= \\frac{\\omega I_0}{2 \\pi} \\exp\\left(-\\mu_{0}^{-1} \\tau\\right) \\sum_{\\ell=n} \\mathscr{g}_\\ell^n P_\\ell^n\\left(-\\mu_0\\right)P_\\ell^n(\\mu)\n",
    "\\end{aligned}\n",
    "$$\n",
    "\n",
    "Therefore, the contribution of the source term to the $m$th Fourier mode of the radiative transfer equation (perform the change of variables $m = n$) is\n",
    "\n",
    "$$\n",
    "\\frac{\\omega I_0 (2 - \\delta_{0m})}{4 \\pi}\\exp\\left(-\\mu_{0}^{-1} \\tau\\right)\\sum_{\\ell=m} \\mathscr{g}_\\ell^m P_\\ell^m\\left(-\\mu_0\\right)P_\\ell^m(\\mu)\n",
    "$$"
   ]
  },
  {
   "cell_type": "markdown",
   "id": "a0346b18",
   "metadata": {},
   "source": [
    "### 3.2.1 Surface reflection"
   ]
  },
  {
   "cell_type": "markdown",
   "id": "fbf6fe7b",
   "metadata": {},
   "source": [
    "The surface reflection is given by\n",
    "\n",
    "$$\n",
    "\\begin{aligned}\n",
    "&\\frac{1}{\\pi}\\int_0^1 \\int_0^{2\\pi} \\mu' \\left[u\\left(\\tau, -\\mu', \\phi'\\right) + u_\\text{direct}\\left(\\tau, -\\mu', \\phi'\\right)\\right] q\\left(\\mu, \\phi; -\\mu', \\phi'\\right)  \\mathrm{d}\\phi' \\mathrm{d}\\mu' \\Bigg |_{\\,\\tau \\,=\\, \\tau_\\text{BoA}} \\\\\n",
    "&= \\frac{1}{\\pi}\\int_0^1 \\int_0^{2\\pi} \\mu' \\left[u\\left(\\tau_\\text{BoA}, -\\mu', \\phi'\\right) + I_0 \\delta\\left(\\mu_0 - \\mu'\\right) \\delta(\\phi - \\phi_0) \\exp\\left(-\\mu_{0}^{-1} \\tau_\\text{BoA}\\right)\\right] q\\left(\\mu, \\phi; -\\mu', \\phi'\\right)  \\mathrm{d}\\phi' \\mathrm{d}\\mu' \\\\\n",
    "&= \\frac{1}{\\pi}\\int_0^1 \\int_0^{2\\pi} \\mu' u\\left(\\tau_\\text{BoA}, -\\mu', \\phi'\\right) q\\left(\\mu, \\phi; -\\mu', \\phi'\\right) \\mathrm{d}\\phi' \\mathrm{d}\\mu' + \\frac{I_0 \\mu_0}{\\pi} \\exp\\left(-\\mu_{0}^{-1} \\tau_\\text{BoA}\\right) q(\\mu, \\phi; -\\mu_0, \\phi_0) \\\\\n",
    "\\end{aligned}\n",
    "$$\n",
    "\n",
    "The Fourier expansion of the BDRF is given in section [1.5](#1.5-OPTIONAL:-Choose-BDRF),\n",
    "\n",
    "$$q\\left(\\mu, \\phi; -\\mu', \\phi'\\right) = \\sum_{m=0} q^m\\left(\\mu, \\mu'\\right)\\cos\\left(m\\left(\\phi' - \\phi\\right)\\right)$$\n",
    "\n",
    "As before, for all $m, n \\in \\mathbb{N}^0$,\n",
    "\n",
    "$$\\int_0^{2\\pi} \\cos\\left(m\\left(\\phi'-\\phi\\right)\\right) \\cos\\left(n\\left(\\phi_0 - \\phi'\\right)\\right) \\mathrm{d}\\phi' = \\delta_{mn}(1 + \\delta_{m0})\\pi\\cos(m(\\phi_0 - \\phi))$$\n",
    "\n",
    "and so one gets\n",
    "\n",
    "$$\n",
    "\\begin{aligned}\n",
    "&\\frac{1}{\\pi}\\int_0^1 \\int_0^{2\\pi} \\mu' u\\left(\\tau_\\text{BoA}, -\\mu', \\phi'\\right) q\\left(\\mu, \\phi; -\\mu', \\phi'\\right) \\mathrm{d}\\phi' \\mathrm{d}\\mu' \\\\\n",
    "&= \\sum_{m=0} \\left\\{(1 + \\delta_{m0})\\int_0^1 \\mu' u^m\\left(\\tau_\\text{BoA}, -\\mu'\\right) q^m\\left(\\mu, -\\mu'\\right)\\mathrm{d}\\mu'\\right\\}\\cos(m(\\phi_0 - \\phi))\n",
    "\\end{aligned}\n",
    "$$\n",
    "\n",
    "which implies that the contribution of the surface reflection to the $m$th Fourier mode of the radiative transfer equation is\n",
    "\n",
    "$$\n",
    "(1 + \\delta_{m0})\\int_0^1 \\mu' u^m\\left(\\tau_\\text{BoA}, -\\mu'\\right) q^m\\left(\\mu, -\\mu'\\right)\\mathrm{d}\\mu' + \\frac{I_0 \\mu_0}{\\pi} \\exp\\left(-\\mu_{0}^{-1} \\tau_\\text{BoA}\\right) q^m\\left(\\mu, -\\mu_0\\right)\n",
    "$$"
   ]
  },
  {
   "cell_type": "markdown",
   "id": "735cac63",
   "metadata": {},
   "source": [
    "### 3.2.2 Important terms"
   ]
  },
  {
   "cell_type": "markdown",
   "id": "fe996aec",
   "metadata": {},
   "source": [
    "For $m \\geq 0$, each Fourier mode $u^m$ satisfies the equation\n",
    "\n",
    "$$\n",
    "\\mu \\frac{d u^m(\\tau, \\mu)}{d \\tau}=u^m(\\tau, \\mu)-\\int_{-1}^1 D^m\\left(\\mu, \\mu'\\right) u^m\\left(\\tau, \\mu'\\right) \\mathrm{d} \\mu' - Q^m(\\tau, \\mu) - \\delta_{0m}s(\\tau)\n",
    "$$\n",
    "\n",
    "where\n",
    "\n",
    "$$\n",
    "\\begin{aligned}\n",
    "D^m\\left(\\mu, \\mu' \\right) &= \\frac{\\omega}{2} \\sum_{\\ell=m}^\\text{NLeg} \\mathscr{g}_\\ell^m P_\\ell^m\\left(\\mu'\\right)P_\\ell^m(\\mu) \\\\\n",
    "Q^m(\\tau, \\mu) &= X^m(\\mu) \\exp\\left(-\\mu_{0}^{-1} \\tau\\right) \\\\\n",
    "X^m(\\mu) &= \\frac{\\omega I_0 (2 - \\delta_{0m})}{4 \\pi}\\sum_{\\ell=m}^\\text{NLeg} \\mathscr{g}_\\ell^m P_\\ell^m\\left(-\\mu_0\\right)P_\\ell^m(\\mu)\n",
    "\\end{aligned}\n",
    "$$\n",
    "\n",
    "and the approach will be to solve for each $u^m$ then construct the full solution."
   ]
  },
  {
   "cell_type": "markdown",
   "id": "e6d6e98b",
   "metadata": {},
   "source": [
    "## 3.3 Delta-M scaling"
   ]
  },
  {
   "cell_type": "markdown",
   "id": "5a99d60e",
   "metadata": {},
   "source": [
    "Continuing from section [1.3.1](#1.3.1-OPTIONAL:-Choose-delta-M-scaling), substitute the truncated, $\\delta-M$ approximated phase function\n",
    "\n",
    "$$\n",
    "p\\left(\\mu, \\phi; \\mu', \\phi'\\right) = 4 \\pi f \\delta\\left(\\mu - \\mu'\\right)\\delta\\left(\\phi - \\phi'\\right) + (1 - f) p^*\\left(\\mu, \\phi; \\mu', \\phi'\\right)\n",
    "$$\n",
    "\n",
    "into the radiative transfer equation to get\n",
    "\n",
    "$$\n",
    "\\begin{aligned}\n",
    "\\mu \\frac{\\partial u(\\tau, \\mu, \\phi)}{\\partial \\tau} = \\ &(1 - \\omega f) u(\\tau, \\mu, \\phi) -\\frac{(1 - f)\\omega}{4 \\pi} \\int_{-1}^{1} \\int_{0}^{2 \\pi} p^*\\left(\\mu, \\phi ; \\mu', \\phi'\\right) u\\left(\\tau, \\mu', \\phi'\\right) \\mathrm{d} \\phi' \\mathrm{d} \\mu' \\\\\n",
    "&-\\omega I_0 \\left(f \\delta(\\mu - \\mu_0)\\delta(\\phi - \\phi_0) + \\frac{1 - f}{4 \\pi} p^*\\left(\\mu, \\phi ;-\\mu_{0}, \\phi_{0}\\right)\\right) \\exp\\left(-\\mu_{0}^{-1} \\tau\\right)\n",
    "\\end{aligned}\n",
    "$$\n",
    "\n",
    "Note that the term $s$ for the isotropic sources is omitted as it is unaffected by $\\delta-M$ scaling. Shift the $\\delta$-function term to the direct beam to get\n",
    "\n",
    "$$\\mu\\frac{\\partial u_\\text{direct}(\\tau, \\mu, \\phi)}{\\partial\\tau} = (1 - \\omega f)u_\\text{direct}(\\tau, \\mu, \\phi), \\quad u_\\text{direct}(0, \\mu, \\phi) = I_0 \\delta(\\mu + \\mu_0) \\delta(\\phi - \\phi_0)$$\n",
    "\n",
    "Therefore, $\\omega f$ of the direct beam that would originally be considered scattered is added back into the direct beam."
   ]
  },
  {
   "cell_type": "markdown",
   "id": "9ff01466",
   "metadata": {},
   "source": [
    "Denote the remaining diffuse intensity as $u^*$, and the augmented direct intensity as $u^*_\\text{direct}$. Perform the change of variables\n",
    "\n",
    "$$\\tau^* = (1 - \\omega f) \\tau \\iff \\frac{\\mathrm{d}\\tau}{\\mathrm{d}\\tau^*} = \\frac{1}{1 - \\omega f}, \n",
    "\\quad \\omega^* = \\frac{1-f}{1 - \\omega f} \\omega$$\n",
    "\n",
    "to get\n",
    "\n",
    "$$\n",
    "\\begin{aligned}\n",
    "\\mu \\frac{\\partial u^*(\\tau^*, \\mu, \\phi)}{\\partial \\tau^*} = u^*(\\tau^*, \\mu, \\phi) &-\\frac{\\omega^*}{4 \\pi} \\int_{-1}^{1} \\int_{0}^{2 \\pi} p^*\\left(\\mu, \\phi ; \\mu', \\phi'\\right) u^*\\left(\\tau^*, \\mu', \\phi'\\right) \\mathrm{d} \\phi' \\mathrm{d} \\mu' \\\\\n",
    "&-\\frac{\\omega^* I_0}{4 \\pi} p^*\\left(\\mu, \\phi ;-\\mu_{0}, \\phi_{0}\\right) \\exp\\left(-\\mu_{0}^{-1} \\tau^*\\right)\n",
    "\\end{aligned}\n",
    "$$\n",
    "and\n",
    "$$\n",
    "\\begin{aligned}\n",
    "&\\mu\\frac{\\partial u^*_\\text{direct}(\\tau^*, \\mu, \\phi)}{\\partial\\tau^*} = u^*_\\text{direct}(\\tau^*, \\mu, \\phi), \\quad u^*_\\text{direct}(0, \\mu, \\phi) = I_0 \\delta(\\mu + \\mu_0) \\delta(\\phi - \\phi_0) \\\\\n",
    "&\\implies u^*_\\text{direct}(\\tau^*, \\mu, \\phi) = I_0 \\delta(\\mu + \\mu_0) \\delta(\\phi - \\phi_0) \\exp\\left(-\\mu_{0}^{-1} \\tau^*\\right)\n",
    "\\end{aligned}\n",
    "$$\n",
    "\n",
    "This is exactly the starting problem but with every $\\tau$, $\\omega$, $p$ swapped for $\\tau^*$, $\\omega^*$, $p^*$ respectively. If there is an isotropic internal source $s$, transform it to $s^*$ such that $s^*(\\tau^*) = \\frac{\\mathrm{d}\\tau}{\\mathrm{d}\\tau^*} s(\\tau)$ for all $\\tau, \\tau^*$. Internally, this is handled by `PythonicDISORT.subroutines.affine_transform_poly_coeffs`. In the literature, the transformed terms are described as having been $\\delta-M$ scaled (or just \"delta-scaled\"). See [[5]](#cite-Wis1977) and [[6]](#cite-JWW1976) for more details on $\\delta-M$ scaling."
   ]
  },
  {
   "cell_type": "markdown",
   "id": "6fceb453",
   "metadata": {},
   "source": [
    "### 3.3.1 Scaling a multi-layer atmosphere"
   ]
  },
  {
   "cell_type": "markdown",
   "id": "5e0ca2d8",
   "metadata": {},
   "source": [
    "*This is implemented in* `pydisort.py`.\n",
    "\n",
    "When scaling a multi-layer atmosphere, do not directly scale `tau_arr` for that will lead to discontinuity between each layer that has a different scale parameter $1 - \\omega f$. Instead, **scale the optical thickness** of each layer. Therefore, while $\\tau_0^* = (1 - \\omega_0 f_0)\\tau_0$, in general $\\tau_l^* \\neq (1 - \\omega_l f_l)\\tau_l$."
   ]
  },
  {
   "cell_type": "code",
   "execution_count": 33,
   "id": "2810b839",
   "metadata": {},
   "outputs": [
    {
     "name": "stdout",
     "output_type": "stream",
     "text": [
      "Delta-M scaled `tau_arr` with 0 = [0.         0.49498871 0.98997741 1.48496612 1.97995483 2.47494354\n",
      " 2.96993224 3.46492095 3.95990966 4.45489836 4.94988707 5.44487578\n",
      " 5.93986449 6.43485319 6.9298419  7.42483061 7.91981931]\n"
     ]
    }
   ],
   "source": [
    "# Example: Delta-M scaling of tau_arr\n",
    "thickness_arr = np.append(tau_arr[0], np.diff(tau_arr))\n",
    "scaled_thickness_arr = (1 - omega_arr * f_arr) * thickness_arr\n",
    "# Include 0 in the array for computational reasons\n",
    "scaled_tau_arr_with_0 = np.append(0, np.cumsum(scaled_thickness_arr))\n",
    "print(\"Delta-M scaled `tau_arr` with 0 =\", scaled_tau_arr_with_0)"
   ]
  },
  {
   "cell_type": "markdown",
   "id": "05e4ec46",
   "metadata": {},
   "source": [
    "## 3.4 System of ODEs"
   ]
  },
  {
   "cell_type": "markdown",
   "id": "f73b8abf",
   "metadata": {},
   "source": [
    "*We will prove equations (7a) and (7b) of* [[1]](#cite-STWJ1988) *in this subsection.*"
   ]
  },
  {
   "cell_type": "markdown",
   "id": "191c4f6b",
   "metadata": {},
   "source": [
    "Continuing from section [3.2](#3.2-Fourier-expansion-of-solution), the goal is to (approximately) solve the equation\n",
    "\n",
    "$$\n",
    "\\mu \\frac{d u^m(\\tau, \\mu)}{d \\tau}=u^m(\\tau, \\mu)-\\int_{-1}^1 D^m\\left(\\mu, \\mu'\\right) u^m\\left(\\tau, \\mu'\\right) \\mathrm{d} \\mu' - Q^m(\\tau, \\mu) - \\delta_{0m}s(\\tau)\n",
    "$$\n",
    "\n",
    "for each Fourier mode $m$. This is accomplished this through discretization of the $\\mu$ integral. Split the $\\mu$ integral into two integrals: from $-1$ to $0$ and from $0$ to $1$ since there is a singularity at $\\mu = 0$. Next, approximate each integral by Gauss-Legendre quadrature. This is the *double-Gauss method* from [[7]](#cite-Syk1951)."
   ]
  },
  {
   "cell_type": "markdown",
   "id": "54087f37",
   "metadata": {},
   "source": [
    "By double-Gauss quadrature, the ODE can be approximated as\n",
    "\n",
    "\n",
    "$$\n",
    "\\mu_i \\frac{d u^m(\\tau, \\mu_i)}{d \\tau}=u^m(\\tau, \\mu_i)-\\sum_{|j| = 1}^N w_j D^m\\left(\\mu_i, \\mu_j\\right) u^m\\left(\\tau, \\mu_j\\right) - Q^m(\\tau, \\mu_i) - \\delta_{0m}s(\\tau)\n",
    "$$\n",
    "\n",
    "for $i = 1, \\dots, N$, where $2N$ equals the number of quadrature points. Define\n",
    "\n",
    "$$\n",
    "\\begin{aligned}\n",
    "&\\alpha = M^{-1}\\left(D^{+} W - I\\right) &&\\beta = M^{-1} D^{-} W \\\\\n",
    "&D^{+}[i,j] = D^m\\left(\\mu_i, \\mu_j\\right) = D^m\\left(-\\mu_i,-\\mu_j\\right) &&D^{-}[i,j] = D^m\\left(-\\mu_i, \\mu_j\\right) = D^m\\left(\\mu_i,-\\mu_j\\right) \\\\\n",
    "&W[i,j] = w_i\\delta_{ij} &&M[i,j] = \\mu_i\\delta_{ij} \\\\ \n",
    "&Q^{\\pm}(\\tau)[i] = Q^m\\left(\\tau, \\pm \\mu_i\\right) &&u^\\pm[i] = u^m(\\pm \\mu_i)\n",
    "\\end{aligned}\n",
    "$$\n",
    "\n",
    "and, omitting the $\\tau$ argument, \n",
    "\n",
    "$$\n",
    "\\tilde{Q}^\\pm = M^{-1} Q^\\pm(\\tau), \\quad \\tilde{\\mathrm{S}} = s(\\tau) M^{-1}\n",
    "$$ \n",
    "\n",
    "Note that $s(\\tau)$ is a scalar. The **claim** is that the discretized equation for each Fourier mode can be re-expressed as the system of ODEs\n",
    "\n",
    "$$\n",
    "\\begin{bmatrix} \\frac{\\mathrm{d}u^+}{\\mathrm{d}\\tau} \\\\ \\frac{\\mathrm{d}u^-}{\\mathrm{d}\\tau} \\end{bmatrix} = \\begin{bmatrix} -\\alpha & -\\beta \\\\ \\beta & \\alpha \\end{bmatrix} \\begin{bmatrix} u^+ \\\\ u^- \\end{bmatrix} + \\begin{bmatrix} -\\tilde{Q}^+ \\\\ \\tilde{Q}^- \\end{bmatrix} + \\delta_{0m}\\begin{bmatrix} -\\tilde{\\mathrm{S}} \\\\ \\tilde{\\mathrm{S}} \\end{bmatrix}\n",
    "$$"
   ]
  },
  {
   "cell_type": "markdown",
   "id": "be7a3b01",
   "metadata": {},
   "source": [
    "**Proof**"
   ]
  },
  {
   "cell_type": "markdown",
   "id": "22cb7bab",
   "metadata": {},
   "source": [
    "On the RHS, substitute $\\alpha, \\beta, \\tilde{Q}^\\pm, \\tilde{S}(\\tau)$ to get\n",
    "\n",
    "$$\n",
    "\\begin{aligned}\n",
    "&\\begin{bmatrix} -\\alpha & -\\beta \\\\ \\beta & \\alpha \\end{bmatrix} \\begin{bmatrix} u^+ \\\\ u^- \\end{bmatrix} + \\begin{bmatrix} -\\tilde{Q}^+ \\\\ \\tilde{Q}^- \\end{bmatrix} + \\delta_{0m}\\begin{bmatrix} - \\tilde{S} \\\\ \\tilde{S} \\end{bmatrix} \\\\\n",
    "&= \\begin{bmatrix} -M^{-1}\\left(D^{+} W - I\\right) & -M^{-1} D^{-} W \\\\ M^{-1} D^{-} W & M^{-1}\\left(D^{+} W - I\\right) \\end{bmatrix} \\begin{bmatrix} u^+ \\\\ u^- \\end{bmatrix} + \\begin{bmatrix} -M^{-1} Q^+ \\\\ M^{-1} Q^- \\end{bmatrix} + \\delta_{0m}\\begin{bmatrix} -M^{-1} s(\\tau) \\\\ M^{-1} s(\\tau) \\end{bmatrix} \\\\\n",
    "&= \\begin{bmatrix} -M^{-1} & \\\\ & M^{-1} \\end{bmatrix} \\left( \\begin{bmatrix} D^{+} W - I & D^{-} W \\\\ D^{-} W & D^{+} W - I \\end{bmatrix} \\begin{bmatrix} u^+ \\\\ u^- \\end{bmatrix} + \\begin{bmatrix} Q^+ \\\\ Q^- \\end{bmatrix} + \\delta_{0m}s(\\tau) \\right) \\\\\n",
    "&= \\begin{bmatrix} -\\mu_1^{-1} & & & & & \\\\ & \\ddots & & & & \\\\ & & -\\mu_N^{-1} & & & \\\\ & & & \\mu_1^{-1} & & \\\\ & & & & \\ddots & \\\\ & & & & & \\mu_N^{-1} \\end{bmatrix} \\left( \\left( \\begin{bmatrix} D^{+} W & D^{-} W \\\\ D^{-} W & D^{+} W \\end{bmatrix} - I \\right) \\begin{bmatrix} u^+ \\\\ u^- \\end{bmatrix} + \\begin{bmatrix} Q^+ \\\\ Q^- \\end{bmatrix} + \\delta_{0m}s(\\tau) \\right)\n",
    "\\end{aligned}\n",
    "$$\n",
    "\n",
    "and so\n",
    "\n",
    "$$\n",
    "\\begin{bmatrix} \\frac{\\mathrm{d}u^+}{\\mathrm{d}\\tau} \\\\ \\frac{\\mathrm{d}u^-}{\\mathrm{d}\\tau} \\end{bmatrix} = \\begin{bmatrix} \\mu_1^{-1} & & & & & \\\\ & \\ddots & & & & \\\\ & & \\mu_N^{-1} & & & \\\\ & & & -\\mu_1^{-1} & & \\\\ & & & & \\ddots & \\\\ & & & & & -\\mu_N^{-1} \\end{bmatrix} \\left(\\begin{bmatrix} u^+ \\\\ u^- \\end{bmatrix} - \\begin{bmatrix} D^{+} W & D^{-} W \\\\ D^{-} W & D^{+} W \\end{bmatrix} \\begin{bmatrix} u^+ \\\\ u^- \\end{bmatrix} - \\begin{bmatrix} Q^+ \\\\ Q^- \\end{bmatrix} - \\delta_{0m}s(\\tau) \\right)\n",
    "$$\n",
    "\n",
    "Multiply across by the $\\mu_i$ values to see that the system is consistent with the discretized equation for each Fourier mode."
   ]
  },
  {
   "cell_type": "markdown",
   "id": "d2e0124b",
   "metadata": {},
   "source": [
    "**Discretization of surface reflection terms**"
   ]
  },
  {
   "cell_type": "markdown",
   "id": "5ed4d3a3",
   "metadata": {},
   "source": [
    "Gauss-Legendre quadrature is also used to perform the discretization\n",
    "\n",
    "$$\\int_0^1 \\mu'q^m\\left(\\mu_i, -\\mu'\\right) u^m\\left(\\tau_\\text{BoA}, -\\mu'\\right) \\mathrm{d}\\mu' \\approx \\sum_{j=1}^\\text{N} w_j \\mu_j q^m(\\mu_i, -\\mu_j) u^m(\\tau_\\text{BoA}, -\\mu_j)$$\n",
    "\n",
    "for $i = 1, \\dots, N$ and $0 < \\mu_i, \\mu_j \\leq 1$. With reference to section [3.2.1](#3.2.1-Surface-reflection), define\n",
    "\n",
    "$$\n",
    "\\begin{aligned}\n",
    "\\mathscr{D}[i, j] &= (1 + \\delta_{m0})q^m\\left(\\mu_i,-\\mu_j\\right) \\\\\n",
    "\\mathscr{X}[i] &= \\frac{I_0 \\mu_0}{\\pi} q^m\\left(\\mu_i, -\\mu_0\\right)\n",
    "\\end{aligned}\n",
    "$$\n",
    "\n",
    "so that the discretized surface reflection can be re-expressed as the system \n",
    "\n",
    "$$\n",
    "Ru^- + \\mathscr{X}\\exp\\left(-\\mu_{0}^{-1} \\tau_{\\text{BoA}}\\right)\n",
    "$$\n",
    "\n",
    "where $R := \\mathscr{D} M W$."
   ]
  },
  {
   "cell_type": "markdown",
   "id": "f7252846",
   "metadata": {},
   "source": [
    "### 3.4.1 How to choose NQuad and NLeg?"
   ]
  },
  {
   "cell_type": "markdown",
   "id": "f009ab80",
   "metadata": {},
   "source": [
    "The main consideration when choosing the number of streams is the finding that $\\text{NQuad} < \\text{NLeg}$ results in large errors, see [[1, Chapter VI]](#cite-Cha1960) and [[8, section 3.7]](#cite-STWLE2000). Increasing $\\text{NQuad}$ past the threshold generally results in better accuracy, though monotone convergence is not guaranteed when using the double-Gauss quadrature scheme, see [[7]](#cite-Syk1951) for a discussion on the convergence of different quadrature schemes. Given, however, that the computational complexity of `pydisort` scales linearly with $\\text{NLeg}$ and cubicly with $\\text{NQuad}$, it is recommended to choose $\\text{NQuad}$ based on the computational resources and time available, then choose $\\text{NLeg} = \\text{NQuad}$. The only option in Stamnes' DISORT [[3]](#cite-Sta1999) is $\\text{NLeg} = \\text{NQuad}$."
   ]
  },
  {
   "cell_type": "markdown",
   "id": "7df1c23c",
   "metadata": {},
   "source": [
    "An added complication is that realistic phase functions are often so complicated that they require many Legendre coefficients to be accurately represented. If $\\text{NLeg}$ is large, having even $\\text{NQuad} = \\text{NLeg}$ will be expensive. An increase in $\\text{NQuad}$ increases computational costs because one will need to solve larger systems and compute more Fourier modes $u^m$."
   ]
  },
  {
   "cell_type": "markdown",
   "id": "1dfd487e",
   "metadata": {},
   "source": [
    "When $\\text{NLeg}$ is large, large systems are needed for accuracy. One does not need to solve for all $\\text{NLeg}$ Fourier modes to accurately construct the full solution though. Therefore, we introduced the parameter $\\text{NFourier}$ for the user to choose the number of Fourier modes to use in constructing the full solution. In PythonicDISORT $\\text{NFourier}$ must be guessed or tuned. In Stamnes' DISORT, $\\text{NFourier}$ is chosen adaptively, though somewhat crudely, using the Cauchy convergence criterion, see [[8, section 3.7]](#cite-STWLE2000). In PythonicDISORT, that same Cauchy / Fourier convergence evaluation will be returned for the last $(m = \\text{NFourier - 1})$ Fourier term if the optional flag `return_Fourier_error = True` is passed to $u$, see section [3.7](#3.7-The-full-solution) in this notebook."
   ]
  },
  {
   "cell_type": "markdown",
   "id": "f1acd6e5",
   "metadata": {},
   "source": [
    "### 3.4.2 Assembly of system"
   ]
  },
  {
   "cell_type": "markdown",
   "id": "924c8cc3",
   "metadata": {},
   "source": [
    "One will need to loop everything until but excluding section [3.7](#3.7-The-full-solution) over Fourier mode indices $m = 0$ to $m = \\text{NFourier}$ (outer loop) and atmospheric layer indices $l = 0$ to $l = \\text{NLayers}$ (inner loop). PythonicDISORT is structured differently to maximize computational speed, but the same solutions are attainable through simple for-loops."
   ]
  },
  {
   "cell_type": "code",
   "execution_count": 34,
   "id": "9d81156b",
   "metadata": {},
   "outputs": [],
   "source": [
    "# Only one loop will be demonstrated\n",
    "m = 0\n",
    "l = NLayers - 1"
   ]
  },
  {
   "cell_type": "markdown",
   "id": "2015f088",
   "metadata": {},
   "source": [
    "**Setup** in `_solve_for_gen_and_part_sols.py`"
   ]
  },
  {
   "cell_type": "code",
   "execution_count": 35,
   "id": "24e35e87",
   "metadata": {},
   "outputs": [],
   "source": [
    "M_inv = 1 / mu_arr_pos\n",
    "\n",
    "ells = np.arange(m, NLeg)\n",
    "degree_tile = np.tile(ells, (N, 1)).T\n",
    "fac = sc.special.poch(ells + m + 1, -2 * m)\n",
    "signs = np.empty(NLeg - m)\n",
    "signs[::2] = 1\n",
    "signs[1::2] = -1\n",
    "\n",
    "asso_leg_term_pos = sc.special.lpmv(m, degree_tile, mu_arr_pos)\n",
    "asso_leg_term_neg = asso_leg_term_pos * signs[:, None]\n",
    "asso_leg_term_mu0 = sc.special.lpmv(m, ells, -mu0)\n",
    "\n",
    "\n",
    "weighted_asso_Leg_coeffs_l = ((2 * np.arange(NLeg) + 1) * Leg_coeffs[l, :])[ells] * fac\n",
    "omega_l = omega_arr[l]"
   ]
  },
  {
   "cell_type": "markdown",
   "id": "16b46c7e",
   "metadata": {},
   "source": [
    "**Generate** $\\mathscr{D}$ **and** $\\mathscr{X}$ **(BDRF terms)**  in `_solve_for_coeffs.py`"
   ]
  },
  {
   "cell_type": "code",
   "execution_count": 36,
   "id": "f6822d0c",
   "metadata": {
    "code_folding": []
   },
   "outputs": [],
   "source": [
    "if m < NBDRF:\n",
    "    mathscr_D_neg = (1 + (m == 0) * 1) * BDRF_Fourier_modes[m](mu_arr_pos, -mu_arr_pos)\n",
    "    R = mathscr_D_neg * (mu_arr_pos * W)[None, :]\n",
    "\n",
    "    if I0 > 0:\n",
    "        mathscr_X_pos = (mu0 * I0 / pi) * BDRF_Fourier_modes[m](\n",
    "            mu_arr_pos, -np.array([mu0])\n",
    "        )[:, 0]"
   ]
  },
  {
   "cell_type": "markdown",
   "id": "9e414a5a",
   "metadata": {},
   "source": [
    "**Generate** $D$ **and** $X$ **(phase function terms)** in `_solve_for_gen_and_part_sols.py`"
   ]
  },
  {
   "cell_type": "code",
   "execution_count": 37,
   "id": "4d12c69d",
   "metadata": {},
   "outputs": [],
   "source": [
    "# Take precautions against overflow and underflow\n",
    "if np.any(weighted_asso_Leg_coeffs_l > 0) and np.all(np.isfinite(asso_leg_term_pos)):\n",
    "    D_temp = weighted_asso_Leg_coeffs_l[None, :] * asso_leg_term_pos.T\n",
    "    D_pos = (omega_l / 2) * D_temp @ asso_leg_term_pos\n",
    "    D_neg = (omega_l / 2) * D_temp @ asso_leg_term_neg\n",
    "\n",
    "    if I0 > 0:\n",
    "        X_temp = (\n",
    "            (omega_l * I0 * (2 - (m == 0)) / (4 * pi))\n",
    "            * weighted_asso_Leg_coeffs_l\n",
    "            * asso_leg_term_mu0\n",
    "        )\n",
    "        X_pos = X_temp @ asso_leg_term_pos\n",
    "        X_neg = X_temp @ asso_leg_term_neg"
   ]
  },
  {
   "cell_type": "markdown",
   "id": "9e92901b",
   "metadata": {},
   "source": [
    "**Assemble the coefficient matrix and direct beam source vector** in `_solve_for_gen_and_part_sols.py`"
   ]
  },
  {
   "cell_type": "code",
   "execution_count": 38,
   "id": "88ec4674",
   "metadata": {},
   "outputs": [],
   "source": [
    "alpha = M_inv[:, None] * (D_pos * W[None, :] - np.eye(N))\n",
    "beta = M_inv[:, None] * D_neg * W[None, :]\n",
    "A = np.vstack([np.hstack([-alpha, -beta]), np.hstack([beta, alpha])])\n",
    "if I0 > 0:\n",
    "    X_tilde = np.concatenate([-M_inv * X_pos, M_inv * X_neg])"
   ]
  },
  {
   "cell_type": "markdown",
   "id": "dfc6e0a3",
   "metadata": {},
   "source": [
    "## 3.5 Diagonalization of coefficient matrix"
   ]
  },
  {
   "cell_type": "markdown",
   "id": "75bcb1df",
   "metadata": {},
   "source": [
    "*This is implemented in* `_solve_for_gen_and_part_sols.py`.\n",
    "\n",
    "We will for most part omit the Fourier mode index $m$ in this subsection and in section [3.6](#3.6-General-solution-for-each-mode-and-layer). Continuing from section [3.4](#3.4-System-of-ODEs), the system of ODEs for each Fourier mode is\n",
    "\n",
    "$$\n",
    "\\begin{bmatrix} \\frac{\\mathrm{d}u^+}{\\mathrm{d}\\tau} \\\\ \\frac{\\mathrm{d}u^-}{\\mathrm{d}\\tau} \\end{bmatrix} = \\begin{bmatrix} -\\alpha & -\\beta \\\\ \\beta & \\alpha \\end{bmatrix} \\begin{bmatrix} u^+ \\\\ u^- \\end{bmatrix} + \\begin{bmatrix} -\\tilde{Q}^+ \\\\ \\tilde{Q}^- \\end{bmatrix} + \\delta_{0m} \\begin{bmatrix} -\\tilde{\\mathrm{S}} \\\\ \\tilde{\\mathrm{S}} \\end{bmatrix}\n",
    "$$"
   ]
  },
  {
   "cell_type": "markdown",
   "id": "12e9f00b",
   "metadata": {},
   "source": [
    "The goal is to diagonalize the coefficient matrix, which we denote $A$, such that $A = G\\Sigma G^{-1}$. We will use the reduction of order method in [[1]](#cite-STWJ1988), but with minor sign differences, to solve for the eigenpairs of the coefficient matrix from the eigenequation\n",
    "\n",
    "$$\n",
    "\\begin{bmatrix} -\\alpha & -\\beta \\\\ \\beta & \\alpha \\end{bmatrix} \\begin{bmatrix} G^+ \\\\ G^- \\end{bmatrix} = k \\begin{bmatrix} G^+ \\\\ G^- \\end{bmatrix}\n",
    "$$"
   ]
  },
  {
   "cell_type": "markdown",
   "id": "77a3ccdb",
   "metadata": {},
   "source": [
    "Perform the multiplication on the LHS to get the equations\n",
    "\n",
    "$$\n",
    "\\begin{aligned}\n",
    "\\alpha G^{+} + \\beta G^{-} & = -k G^{+} \\\\\n",
    "\\beta G^{+} + \\alpha G^{-} & = k G^{-}\n",
    "\\end{aligned}\n",
    "$$\n",
    "\n",
    "Next, add then subtract the equations to get\n",
    "\n",
    "$$\n",
    "\\begin{aligned}\n",
    "& (\\alpha + \\beta)\\left(G^{-} + G^{+}\\right) = k\\left(G^{-} - G^{+}\\right) \\\\\n",
    "& (\\alpha - \\beta)\\left(G^{-} - G^{+}\\right) = k\\left(G^{-} + G^{+}\\right)\n",
    "\\end{aligned}\n",
    "$$\n",
    "\n",
    "Finally, combine the equations to get\n",
    "\n",
    "$$\n",
    "(\\alpha - \\beta) (\\alpha + \\beta) \\left(G^- + G^+\\right) = k^2 \\left(G^- + G^+\\right)\n",
    "$$\n",
    "\n",
    "which can be solved for the eigenvalues $k$ which are always real. Subsequently, $G^+, G^-$, the eigenvector matrix\n",
    "\n",
    "$$G = \\begin{bmatrix} G^+ \\\\ G^- \\end{bmatrix}$$\n",
    "\n",
    "and $G^{-1}$ can all be determined. Denote the vector of eigenvalues as $K$ and arrange its entries as negative then positive, from largest to smallest magnitude. This completes the diagonalization $A = G \\Sigma G^{-1}$ where the diagonal of $\\Sigma$ is $K$."
   ]
  },
  {
   "cell_type": "markdown",
   "id": "1d024844",
   "metadata": {},
   "source": [
    "There are three special cases to consider. First, if there is no $\\mathscr{v}$ contribution (see section [1.7](#1.7-OPTIONAL:-Choose-isotropic-internal-sources)) then one does not need $G^{-1}$ and can leave the diagonalization incomplete. Second, if $g_\\ell = 0$ for all $\\ell \\geq m$, then one immediately knows that $A = \\text{Diag}\\left(\\begin{bmatrix} M^{-1} & M^{-1} \\end{bmatrix}\\right)$ which saves us a lot of computation. Finally, if $\\omega = 1$, matrix $A$ will have two eigenvalues of value $0$, which makes it undiagonalizable. It is still possible to express $A = G J G^{-1}$, but $J$ will be a Jordan matrix and one will need to use generalized eigenvectors to solve the system of ODEs. These have not yet been implemented, which is why $\\omega = 1$ is not a valid input (see section [1.1](#1.1-Choose-optical-properties))."
   ]
  },
  {
   "cell_type": "code",
   "execution_count": 39,
   "id": "79a3aa59",
   "metadata": {},
   "outputs": [],
   "source": [
    "K_squared, eigenvecs_GpG = np.linalg.eig((alpha - beta) @ (alpha + beta))\n",
    "if m == 0:\n",
    "    if np.any(K_squared < 1e-9): # Then |K| < 1e-3\n",
    "        warn(\n",
    "            \"Single-scattering albedo for layer \"\n",
    "            + str(l)\n",
    "            + \" (counting from 0) is too close to 1. Solutions may be inaccurate.\"\n",
    "        ) # This warning was omitted from PythonicDISORT for a significant speed up\n",
    "\n",
    "# Eigenvalues arranged negative then positive, from largest to smallest magnitude\n",
    "K = np.concatenate([-np.sqrt(K_squared), np.sqrt(K_squared)])\n",
    "eigenvecs_GpG = np.hstack((eigenvecs_GpG, eigenvecs_GpG))\n",
    "eigenvecs_GmG = (alpha + beta) @ eigenvecs_GpG / K\n",
    "\n",
    "# Eigenvector matrix\n",
    "G_pos = (eigenvecs_GpG - eigenvecs_GmG) / 2\n",
    "G_neg = (eigenvecs_GpG + eigenvecs_GmG) / 2\n",
    "G = np.vstack((G_pos, G_neg))\n",
    "G_inv = np.linalg.inv(G)"
   ]
  },
  {
   "cell_type": "markdown",
   "id": "67a2ffd0",
   "metadata": {},
   "source": [
    "**Verification of diagonalization**"
   ]
  },
  {
   "cell_type": "code",
   "execution_count": 40,
   "id": "32f6cd1e",
   "metadata": {
    "tags": [
     "hide_input"
    ]
   },
   "outputs": [
    {
     "name": "stdout",
     "output_type": "stream",
     "text": [
      "Passed all tests\n"
     ]
    }
   ],
   "source": [
    "assert np.allclose(G * K[None, :] @ G_inv, A)\n",
    "\n",
    "print(\"Passed all tests\")"
   ]
  },
  {
   "cell_type": "markdown",
   "id": "d5dbd535",
   "metadata": {},
   "source": [
    "## 3.6 General solution for each mode and layer"
   ]
  },
  {
   "cell_type": "markdown",
   "id": "7e92478e",
   "metadata": {},
   "source": [
    "For each Fourier mode $m$ and layer $l$, the general solution is\n",
    "\n",
    "$$\n",
    "u^m_l = v^m_l + \\left(\\mathscr{v}_\\text{direct}\\right)^m_l + \\delta_{0m} \\mathscr{v}_l^m\n",
    "$$\n",
    "\n",
    "where $v$ denotes the homogeneous solution and $\\mathscr{v}_\\text{direct}, \\mathscr{v}$ denote particular solutions."
   ]
  },
  {
   "cell_type": "markdown",
   "id": "39932af3",
   "metadata": {},
   "source": [
    "Define \n",
    "\n",
    "$$\n",
    "\\tilde{Q} = \\begin{bmatrix} -\\tilde{Q}^+ \\\\ \\tilde{Q}^- \\end{bmatrix}\n",
    "$$ \n",
    "\n",
    "and $\\tilde{X}$ to be such that $\\tilde{X}\\exp\\left(-\\mu_0^{-1} \\tau\\right) = \\tilde{Q}$. Recall that $K$ is the vector of eigenvalues and $G$ is the matrix of eigenvectors."
   ]
  },
  {
   "cell_type": "markdown",
   "id": "6da9edc1",
   "metadata": {},
   "source": [
    "### 3.6.1 The particular solutions"
   ]
  },
  {
   "cell_type": "markdown",
   "id": "7277dd5a",
   "metadata": {},
   "source": [
    "**Direct beam source** *(implemented in* `_solve_for_gen_and_part_sols.py`*)*"
   ]
  },
  {
   "cell_type": "markdown",
   "id": "09957a31",
   "metadata": {},
   "source": [
    "Particular solutions $\\mathscr{v}_\\text{direct}$ for the direct beam source satisfy\n",
    "\n",
    "$$\n",
    "\\frac{\\mathrm{d}\\mathscr{v}_\\text{direct}}{\\mathrm{d}\\tau} = A \\mathscr{v}_\\text{direct} + \\tilde{Q}(\\tau)\n",
    "$$\n",
    "\n",
    "where\n",
    "\n",
    "$$\n",
    "\\tilde{Q}(\\tau) = \\tilde{X} \\exp\\left(-\\mu_0^{-1} \\tau\\right)\n",
    "$$\n",
    "\n",
    "Substitute the ansatz\n",
    "\n",
    "$$\n",
    "\\mathscr{v}_\\text{direct}(\\tau) = B\\exp\\left(-\\mu_0^{-1} \\tau\\right)\n",
    "$$\n",
    "\n",
    "into the full equation to get\n",
    "\n",
    "$$\n",
    "\\begin{aligned}\n",
    "&-\\mu_0^{-1} B\\exp\\left(-\\mu_0^{-1} \\tau\\right) = AB\\exp\\left(-\\mu_0^{-1} \\tau\\right) + \\tilde{X}\\exp\\left(-\\mu_0^{-1} \\tau\\right) \\\\\n",
    "&\\implies -\\mu_0^{-1} B = AB + \\tilde{X} \\\\\n",
    "&\\implies -\\left(\\mu_0^{-1} I + A\\right)B = \\tilde{X}\n",
    "\\end{aligned}\n",
    "$$\n",
    "\n",
    "which we solve for $B$. Note the numerical instability if $\\mu_0^{-1}$ happens to be close to an eigenvalue. One solution to this is dithering, see [[9]](#cite-LSJLTWS2015), and it is implemented in Stamnes' DISORT [[9]](#cite-LSJLTWS2015), though we would want the dithering to be transparent to the user. PythonicDISORT currently does not have a way to deal with this unlikely possibility."
   ]
  },
  {
   "cell_type": "code",
   "execution_count": 41,
   "id": "3d1e398c",
   "metadata": {},
   "outputs": [],
   "source": [
    "if I0 > 0:\n",
    "    B = -G / (1 / mu0 + K)[None, :] @ G_inv @ X_tilde"
   ]
  },
  {
   "cell_type": "markdown",
   "id": "32db54cc",
   "metadata": {},
   "source": [
    "**Verification of particular solution for direct beam source**"
   ]
  },
  {
   "cell_type": "code",
   "execution_count": 42,
   "id": "3ef17801",
   "metadata": {},
   "outputs": [],
   "source": [
    "Ntau = 100\n",
    "\n",
    "tau_test_arr = np.random.random(Ntau) * tau_arr[-1]"
   ]
  },
  {
   "cell_type": "markdown",
   "id": "41a24990",
   "metadata": {},
   "source": [
    "The *autograd* package allows for fast and machine precise differentiation with respect to $\\tau$:"
   ]
  },
  {
   "cell_type": "code",
   "execution_count": 43,
   "id": "2e515c6f",
   "metadata": {},
   "outputs": [
    {
     "name": "stdout",
     "output_type": "stream",
     "text": [
      "Max pointwise error ratio = 1.7643697839498343e-07\n"
     ]
    }
   ],
   "source": [
    "if I0 > 0:\n",
    "    mathscr_v_direct = lambda tau: B[:, None] * np.exp(-tau[None, :] / mu0)\n",
    "\n",
    "    LHS = np.sum(ag.jacobian(mathscr_v_direct)(tau_test_arr), axis=-1)\n",
    "    RHS = A @ mathscr_v_direct(tau_test_arr) + X_tilde[:, None] * np.exp(\n",
    "        -tau_test_arr[None, :] / mu0\n",
    "    )\n",
    "\n",
    "    print(\"Max pointwise error ratio =\", np.max(np.abs((RHS - LHS) / LHS)))\n",
    "else:\n",
    "    print(\"There is no direct beam source\")"
   ]
  },
  {
   "cell_type": "markdown",
   "id": "f617f40d",
   "metadata": {},
   "source": [
    "**Isotropic internal source** *(implemented as the function* `_mathscr_v` *in* `subroutines.py`*)*"
   ]
  },
  {
   "cell_type": "markdown",
   "id": "67a88c08",
   "metadata": {},
   "source": [
    "Particular solutions $\\mathscr{v}$ for the isotropic internal source satisfy\n",
    "\n",
    "$$\n",
    "\\frac{\\mathrm{d}\\mathscr{v}}{\\mathrm{d}\\tau} = A\\mathscr{v} - \\begin{bmatrix} \\tilde{\\mathrm{S}}(\\tau) \\\\ -\\tilde{\\mathrm{S}}(\\tau) \\end{bmatrix}\n",
    "$$\n",
    "\n",
    "where  \n",
    "\n",
    "$$\n",
    "\\tilde{\\mathrm{S}}(\\tau) = M^{-1} s(\\tau), \\quad s(\\tau) = \\mathscr{a}_{0} + \\mathscr{a}_{1} \\tau + \\dots + \\mathscr{a}_{n} \\tau^n\n",
    "$$"
   ]
  },
  {
   "cell_type": "markdown",
   "id": "9157b316",
   "metadata": {},
   "source": [
    "Substitute the ansatz\n",
    "\n",
    "$$ \n",
    "\\mathscr{v}(\\tau) = \\left(\\mathscr{b}_0 + \\mathscr{b}_1 \\tau + \\dots + \\mathscr{b}_n \\tau^n\\right)\\begin{bmatrix} M^{-1} \\\\ -M^{-1} \\end{bmatrix}\n",
    "$$\n",
    "\n",
    "to get\n",
    "\n",
    "$$\\mathscr{b}_{n-i} = \\sum_{j=0}^i \\frac{(n-j)!}{(n-i)!} A^{-(i-j+1)} \\mathscr{a}_{n-j}$$\n",
    "\n",
    "for $i = 0, 1, \\dots, n$. Use the diagonalization $A = G\\Sigma G^{-1}$ and define\n",
    "\n",
    "$$\\mathscr{b}_{n-i}^\\Sigma = \\sum_{j=0}^i \\frac{(n-j)!}{(n-i)!} \\Sigma^{-(i-j+1)} \\mathscr{a}_{n-j}$$\n",
    "\n",
    "to get\n",
    "\n",
    "$$ \n",
    "\\mathscr{v}(\\tau) = G\\left(\\mathscr{b}_0^\\Sigma + \\mathscr{b}_1^\\Sigma \\tau + \\dots + \\mathscr{b}_n^\\Sigma \\tau^n\\right)G^{-1} \\begin{bmatrix} M^{-1} \\\\ -M^{-1} \\end{bmatrix}\n",
    "$$\n",
    "\n",
    "In theory, internal sources which vary with $\\mu$ and $\\phi$ can be accomodated through Legendre expansion, but use cases in the context of atmospheric radiation seem limited and the extra flexibility does not seem worth the overhead."
   ]
  },
  {
   "cell_type": "markdown",
   "id": "fd7a2f4a",
   "metadata": {},
   "source": [
    "**Verification of the particular solution for the isotropic internal source in a pseudo multi-layer atmosphere**"
   ]
  },
  {
   "cell_type": "code",
   "execution_count": 44,
   "id": "3c333cfd",
   "metadata": {},
   "outputs": [],
   "source": [
    "Ntau = 100\n",
    "\n",
    "tau_test_arr = np.random.random(Ntau) * tau_arr[-1]\n",
    "l = np.argmax(tau_test_arr[:, None] <= tau_arr[None, :], axis=1)\n",
    "l_uniq, l_inv = np.unique(l, return_inverse=True)"
   ]
  },
  {
   "cell_type": "code",
   "execution_count": 45,
   "id": "773eea1a",
   "metadata": {},
   "outputs": [
    {
     "name": "stdout",
     "output_type": "stream",
     "text": [
      "Max pointwise error ratio = 3.0352337687809473e-07\n"
     ]
    }
   ],
   "source": [
    "# This function is not actually meant to be called by users\n",
    "from PythonicDISORT.subroutines import _mathscr_v\n",
    "\n",
    "mathscr_v_tau = lambda tau: _mathscr_v(\n",
    "    tau, l_inv, Nscoeffs,\n",
    "    s_poly_coeffs[l_uniq],\n",
    "    np.tile(G, (NLayers, 1, 1))[l_uniq], # The atmospheric layers have identical optical properties\n",
    "    np.tile(K, (NLayers, 1))[l_uniq],\n",
    "    np.tile(G_inv, (NLayers, 1, 1))[l_uniq],\n",
    "    mu_arr,\n",
    "    autograd_compatible=True,\n",
    ")\n",
    "LHS = np.sum(ag.jacobian(mathscr_v_tau)(tau_test_arr), axis=-1)\n",
    "RHS = A @ mathscr_v_tau(tau_test_arr) - s(tau_test_arr)[None, :] / mu_arr[:, None]\n",
    "\n",
    "print(\"Max pointwise error ratio =\", np.max(np.abs((RHS - LHS) / LHS)))"
   ]
  },
  {
   "cell_type": "markdown",
   "id": "3245b434",
   "metadata": {},
   "source": [
    "### 3.6.2 The homogeneous solution"
   ]
  },
  {
   "cell_type": "markdown",
   "id": "bd6071b2",
   "metadata": {},
   "source": [
    "*This is implemented in* `_solve_for_coeffs.py`.\n",
    "\n",
    "The homogeneous solution $v$ can be split into\n",
    "\n",
    "$$\n",
    "v = \\begin{bmatrix} v^+ \\\\ v^- \\end{bmatrix}, \\quad  v^\\pm(\\tau) = G^\\pm E(\\tau) \\xi\n",
    "$$\n",
    "\n",
    "where the $i$th diagonal entry of diagonal matrix $E(\\tau)$ is $\\exp(k_i\\tau)$ and the coefficient vector $\\xi$ is to be determined from the boundary conditions. Assume, for now, that there is only one atmospheric layer with $\\tau \\in [0, \\tau_{0}]$. The BCs are\n",
    "\n",
    "$$\n",
    "u^-(0) = b^-_m, \\quad u^+\\left(\\tau_{0}\\right) = b^+_m + \\text{surface reflection}\n",
    "$$\n",
    "\n",
    "where $b^\\pm_m$ is the $m$th column of matrix $b^\\pm$. The surface reflection is given by\n",
    "\n",
    "$$\n",
    "\\begin{aligned}\n",
    "&\\int_0^1 \\mu' \\mathscr{D}^m\\left(\\mu, -\\mu'\\right) u^m\\left(\\tau_0, -\\mu'\\right) \\mathrm{d}\\mu' + \\mathscr{X}^m(\\mu)\\exp\\left(-\\mu_{0}^{-1} \\tau_0\\right) \\\\\n",
    "&\\approx Ru^- + \\mathscr{X}\\exp\\left(-\\mu_{0}^{-1} \\tau\\right) \\\\\n",
    "&= R\\left[v^-(\\tau_0) + B^-\\exp\\left(-\\mu_0^{-1} \\tau_0\\right) + \\delta_{0m} \\mathscr{v}^-(\\tau_0)\\right] + \\mathscr{X}\\exp\\left(-\\mu_{0}^{-1} \\tau_0\\right)\n",
    "\\end{aligned}\n",
    "$$"
   ]
  },
  {
   "cell_type": "markdown",
   "id": "e8007121",
   "metadata": {},
   "source": [
    "By the principle of superposition,\n",
    "\n",
    "$$\n",
    "\\begin{aligned}\n",
    "&v^-(0) &&= b^-_m - B^- - \\delta_{0m}\\mathscr{v}^-(0) \\\\ \n",
    "v^+\\left( \\tau_{0} \\right) - R&v^-\\left(\\tau_{0}\\right) &&= b^+_m + \\left(\\mathscr{X} + RB^- - B^+\\right)\\exp\\left(-\\mu_0^{-1} \\tau_{0}\\right) + \\delta_{0m}(R\\mathscr{v}^-(\\tau_{0}) - \\mathscr{v}^+(\\tau_{0}))\n",
    "\\end{aligned}\n",
    "$$\n",
    "\n",
    "This produces the system\n",
    "\n",
    "$$\n",
    "\\begin{bmatrix} G^- \\\\ \\left(G^+ - RG^-\\right) E(\\tau_{0}) \\end{bmatrix} \\xi = \\begin{bmatrix} b^-_m - B^- - \\delta_{0m}\\mathscr{v}^-(0) \\\\ b^+_m + \\left(\\mathscr{X} + RB^- - B^+\\right)\\exp\\left(-\\mu_0^{-1} \\tau_{0}\\right) + \\delta_{0m}(R + I)\\mathscr{v}^-(\\tau_{0})\\end{bmatrix}\n",
    "$$\n",
    "\n",
    "which can be solved to determine $\\xi$."
   ]
  },
  {
   "cell_type": "markdown",
   "id": "eee875d4",
   "metadata": {},
   "source": [
    "**Stamnes-Conklin's substitutions to address ill-conditioning**"
   ]
  },
  {
   "cell_type": "markdown",
   "id": "03e8cc79",
   "metadata": {},
   "source": [
    "The problem with the above formulation is that for large $\\tau_0$, the terms in $E(\\tau_0)$ that correspond to positive eigenvalues will be large. This may result in overflow or at least an ill-conditioned system. A solution to this problem is given by Stamnes and Conklin in [[4]](#cite-SC1984). First, re-express the system as\n",
    "\n",
    "$$\n",
    "\\begin{bmatrix} G^{--} & G^{-+} \\\\ \\left(G^+ - RG^-\\right)^- E^-(\\tau_0) & \\left(G^+ - RG^-\\right)^+ E^+(\\tau_0) \\end{bmatrix} \\begin{bmatrix} \\xi^- \\\\ \\xi^+ \\end{bmatrix} = \\text{RHS}\n",
    "$$\n",
    "\n",
    "where the extra superscripts $+$ and $-$ correspond to only positive or only negative eigenvalues respectively. Recall that the eigenvalues are arranged negative then positive, e.g. $G^- = \\begin{bmatrix} G^{--} & G^{-+} \\end{bmatrix}$. Next, substitute $\\xi^- = C^-$ and $\\xi^+ = C^+ E^-(\\tau_0)$ to get\n",
    "\n",
    "$$\n",
    "\\begin{bmatrix} G^{--} & G^{-+} E^-(\\tau_0) \\\\ \\left(G^+ - RG^-\\right)^- E^-(\\tau_0) &  \\left(G^+ - RG^-\\right)^+ \\end{bmatrix} \\begin{bmatrix} C^- \\\\ C^+ \\end{bmatrix} = \\text{RHS}\n",
    "$$\n",
    "\n",
    "This reformulated system has no positive exponents so there is no risk of overflow. Furthermore, when $\\tau_0$ is large the matrix becomes approximately block diagonal and so it remains well-conditioned. Solve for $C$ but do not construct $\\xi$. Instead, use the factor of $E^-(\\tau_0)$ to avoid positive exponents when constructing the general solution. This method is generalizable to multiple atmospheric layers, see section [4](#4.-Solve-for-multiple-layers)."
   ]
  },
  {
   "cell_type": "code",
   "execution_count": 46,
   "id": "c1399d5b",
   "metadata": {
    "code_folding": []
   },
   "outputs": [],
   "source": [
    "tau_l = tau_arr[-1]\n",
    "\n",
    "if I0 > 0:\n",
    "    B_pos, B_neg = B[:N], B[N:]\n",
    "El = np.exp(K * tau_l)\n",
    "\n",
    "# Ensure the BCs are of the correct shape\n",
    "if b_pos_is_scalar and m == 0:\n",
    "    b_pos_m = np.full(N, b_pos)\n",
    "elif b_pos_is_vector and m == 0:\n",
    "    b_pos_m = b_pos\n",
    "elif (b_pos_is_scalar or b_pos_is_vector) and not m == 0:\n",
    "    b_pos_m = np.zeros(N)\n",
    "else:\n",
    "    b_pos_m = b_pos[:, m]\n",
    "    \n",
    "if b_neg_is_scalar and m == 0:\n",
    "    b_neg_m = np.full(N, b_neg)\n",
    "elif b_neg_is_vector and m == 0:\n",
    "    b_neg_m = b_neg\n",
    "elif (b_neg_is_scalar or b_neg_is_vector) and not m == 0:\n",
    "    b_neg_m = np.zeros(N)\n",
    "else:\n",
    "    b_neg_m = b_neg[:, m]\n",
    "\n",
    "# Note that the isotropic internal source is excluded\n",
    "if I0 > 0:\n",
    "    if m < NBDRF:\n",
    "        BDRF_RHS_contribution = mathscr_X_pos + R @ B_neg\n",
    "    else:\n",
    "        BDRF_RHS_contribution = 0\n",
    "    RHS = np.concatenate(\n",
    "        [\n",
    "            b_neg_m - B_neg,\n",
    "            b_pos_m + (BDRF_RHS_contribution - B_pos) * np.exp(-tau_l / mu0),\n",
    "        ]\n",
    "    )\n",
    "else:\n",
    "    RHS = np.concatenate([b_neg_m, b_pos_m])"
   ]
  },
  {
   "cell_type": "markdown",
   "id": "b4479af5",
   "metadata": {},
   "source": [
    "**Solving the system naively**"
   ]
  },
  {
   "cell_type": "code",
   "execution_count": 47,
   "id": "acad8093",
   "metadata": {},
   "outputs": [
    {
     "name": "stdout",
     "output_type": "stream",
     "text": [
      "Condition number = 2.070275567380413e+163\n"
     ]
    }
   ],
   "source": [
    "if m < NBDRF:\n",
    "    BDRF_LHS_contribution = R @ G_neg\n",
    "else:\n",
    "    BDRF_LHS_contribution = 0\n",
    "\n",
    "LHS = np.vstack((G_neg, (G_pos - BDRF_LHS_contribution) * El[None, :]))\n",
    "\n",
    "print(\"Condition number =\", np.linalg.cond(LHS))\n",
    "# The system is too ill-conditioned to be solved if the optical thickness is large\n",
    "# xi = np.linalg.solve(LHS, RHS)"
   ]
  },
  {
   "cell_type": "markdown",
   "id": "f3d9db1b",
   "metadata": {},
   "source": [
    "**Solving the system with Stamnes-Conklin's substitutions**"
   ]
  },
  {
   "cell_type": "code",
   "execution_count": 48,
   "id": "b4596ea9",
   "metadata": {},
   "outputs": [
    {
     "name": "stdout",
     "output_type": "stream",
     "text": [
      "Condition number = 305.3680451121954\n"
     ]
    }
   ],
   "source": [
    "El_neg = np.exp(K[:N] * tau_l)\n",
    "\n",
    "if m < NBDRF:\n",
    "    BDRF_LHS_contribution = R @ G_neg\n",
    "else:\n",
    "    BDRF_LHS_contribution = 0\n",
    "\n",
    "LHS = np.vstack((G_neg, G_pos - BDRF_LHS_contribution))\n",
    "LHS[:N, N:] *= El_neg[None, :]\n",
    "LHS[N:, :N] *= El_neg[None, :]\n",
    "\n",
    "# Decreasing the single-scattering albedo will decrease the condition number\n",
    "print(\"Condition number =\", np.linalg.cond(LHS))\n",
    "C = np.linalg.solve(LHS, RHS)"
   ]
  },
  {
   "cell_type": "markdown",
   "id": "c5cd5cc8",
   "metadata": {},
   "source": [
    "Finally, the general solution for one Fourier mode $m$ is"
   ]
  },
  {
   "cell_type": "code",
   "execution_count": 49,
   "id": "5e28b122",
   "metadata": {},
   "outputs": [],
   "source": [
    "# The general solution for one Fourier mode\n",
    "\n",
    "# Use the factor of E^-(\\tau_0) attached to the coefficients (see Section 3.6.2)\n",
    "# to avoid positive exponents when constructing the general solution for one Fourier mode\n",
    "if I0 > 0:\n",
    "\n",
    "    def um(tau):\n",
    "        tau = np.atleast_1d(tau)\n",
    "        exponent = np.vstack(\n",
    "            (\n",
    "                K[:N, None] * tau[None, :],\n",
    "                K[N:, None] * (tau - tau_l)[None, :],\n",
    "            )\n",
    "        )\n",
    "        return np.squeeze(\n",
    "            (G * C[None, :]) @ np.exp(exponent)\n",
    "            + B[:, None] * np.exp(-tau[None, :] / mu0)\n",
    "        )\n",
    "\n",
    "else:\n",
    "\n",
    "    def um(tau):\n",
    "        tau = np.atleast_1d(tau)\n",
    "        exponent = np.vstack(\n",
    "            (\n",
    "                K[:N, None] * tau[None, :],\n",
    "                K[N:, None] * (tau - tau_l)[None, :],\n",
    "            )\n",
    "        )\n",
    "        return np.squeeze((G * C[None, :]) @ np.exp(exponent))"
   ]
  },
  {
   "cell_type": "markdown",
   "id": "6093190e",
   "metadata": {},
   "source": [
    "### 3.6.3 Verification of the general solution"
   ]
  },
  {
   "cell_type": "markdown",
   "id": "f5f9a98b",
   "metadata": {},
   "source": [
    "**Does the general solution satisfy the BCs?**"
   ]
  },
  {
   "cell_type": "code",
   "execution_count": 50,
   "id": "5db8eb24",
   "metadata": {
    "code_folding": [],
    "tags": [
     "hide_input"
    ]
   },
   "outputs": [
    {
     "name": "stdout",
     "output_type": "stream",
     "text": [
      "Passed all tests\n"
     ]
    }
   ],
   "source": [
    "# At top of atmosphere\n",
    "assert np.allclose(um(0)[N:], b_neg_m)\n",
    "\n",
    "# At bottom of atmosphere\n",
    "if m < NBDRF:\n",
    "    if I0 > 0:\n",
    "        surface_reflection = R @ um(tau_arr[-1])[N:] + mathscr_X_pos * np.exp(\n",
    "            -tau_arr[-1] / mu0\n",
    "        )\n",
    "    else:\n",
    "        surface_reflection = R @ um(tau_arr[-1])[N:]\n",
    "else:\n",
    "    surface_reflection = 0\n",
    "\n",
    "assert np.allclose(um(tau_arr[-1])[:N], b_pos_m + surface_reflection)\n",
    "\n",
    "\n",
    "print(\"Passed all tests\")"
   ]
  },
  {
   "cell_type": "markdown",
   "id": "e4376cf8",
   "metadata": {},
   "source": [
    "**Does the general solution satisfy the Fourier mode equation?**"
   ]
  },
  {
   "cell_type": "markdown",
   "id": "c69dd124",
   "metadata": {},
   "source": [
    "This verification test will not reflect quadrature error because the test itself relies on quadrature. It will not reflect phase function truncation error either. This verification essentially checks whether the general solution satisfies the approximate ODE\n",
    "\n",
    "$$\n",
    "\\mu_i \\frac{d u^m(\\tau, \\mu_i)}{d \\tau}=u^m(\\tau, \\mu_i)-\\sum_{|j| = 1}^N w_j D^m\\left(\\mu_i, \\mu_j\\right) u^m\\left(\\tau, \\mu_j\\right) - Q^m(\\tau, \\mu_i) - \\delta_{0m}s(\\tau)\n",
    "$$\n",
    "\n",
    "but does not evaluate how well this system approximates the true equation."
   ]
  },
  {
   "cell_type": "code",
   "execution_count": 51,
   "id": "28be111a",
   "metadata": {},
   "outputs": [],
   "source": [
    "Ntau = 100\n",
    "\n",
    "tau_test_arr = np.random.random(Ntau) * tau_arr[-1]"
   ]
  },
  {
   "cell_type": "code",
   "execution_count": 52,
   "id": "ddbcdb01",
   "metadata": {
    "tags": [
     "hide_input"
    ]
   },
   "outputs": [
    {
     "name": "stdout",
     "output_type": "stream",
     "text": [
      "Max pointwise error ratio = 1.2046980356350024e-06\n"
     ]
    }
   ],
   "source": [
    "D = np.hstack((np.vstack((D_pos, D_neg)), np.vstack((D_neg, D_pos))))\n",
    "LHS = mu_arr[:, None] * np.sum(ag.jacobian(um)(tau_test_arr), axis=-1)\n",
    "if I0 > 0:\n",
    "    RHS = (\n",
    "        um(tau_test_arr)\n",
    "        - np.einsum(\"ij, jt, j -> it\", D, um(tau_test_arr), full_weights_mu, optimize=True)\n",
    "        - np.concatenate([X_pos, X_neg])[:, None] * np.exp(-tau_test_arr[None, :] / mu0)\n",
    "    )\n",
    "else:\n",
    "    RHS = (\n",
    "        um(tau_test_arr)\n",
    "        - np.einsum(\"ij, jt, j -> it\", D, um(tau_test_arr), full_weights_mu, optimize=True)\n",
    "    )\n",
    "\n",
    "print(\n",
    "    \"Max pointwise error ratio =\",\n",
    "    np.max(np.abs((RHS - LHS) / LHS)),\n",
    ")"
   ]
  },
  {
   "cell_type": "markdown",
   "id": "7394658b",
   "metadata": {},
   "source": [
    "## 3.7 The full solution"
   ]
  },
  {
   "cell_type": "markdown",
   "id": "68a49a51",
   "metadata": {},
   "source": [
    "*This is implemented in* `_assemble_intensity_and_fluxes.py`.\n",
    "\n",
    "The above must be repeated for $\\text{NFourier}$ Fourier modes. The full numerical solution given by PythonicDISORT is\n",
    "\n",
    "$$\n",
    "u(\\mu, \\tau, \\phi) \\approx \\sum_{m=0}^\\text{NFourier} u^m(\\mu_i,\\tau)\\cos\\left(m\\left(\\phi_0 - \\phi\\right)\\right)\n",
    "$$\n",
    "\n",
    "This solution is continuous and variable in $\\tau$ and $\\phi$, which are its arguments, but discrete in $\\mu$ and fixed to the quadrature points $\\mu_i$. The output of $u$ is 3D and its $0, 1, 2$ axes capture variation with $\\mu, \\tau, \\phi$ respectively. The first half of the $\\mu$ indices correspond to $u^+$ (upward) and the second half to $u^-$ (downward). If the atmosphere has multiple layers, then the returned function is a piecewise function comprising of the \"full\" solution for each atmospheric layer."
   ]
  },
  {
   "cell_type": "markdown",
   "id": "ee15761a",
   "metadata": {},
   "source": [
    "**IMPORTANT:** Reminder that PythonicDISORT will output the **diffuse intensity**. Add the intensity of the direct beam to get the total intensity."
   ]
  },
  {
   "cell_type": "markdown",
   "id": "ed4f974b",
   "metadata": {},
   "source": [
    "**Interpolation**"
   ]
  },
  {
   "cell_type": "markdown",
   "id": "b7f00a70",
   "metadata": {},
   "source": [
    "If values of $u$ are desired at non-quadrature points, i.e. at $\\mu \\neq \\mu_i$, then interpolation is required. The method used in Stamnes' DISORT is the non-standard *iteration of the source-function method* (see [[8, sections 2.7 & 2.8]](#cite-STWLE2000) and [[11]](#cite-Sta1982)). We may implement this in PythonicDISORT in the future. \n",
    "\n",
    "A simple and mostly reliable alternative is polynomial interpolation. Since $\\mu_i$ are Legendre points, uniform convergence is guaranteed as $N \\rightarrow \\infty$, see [[10, chapter 8]](#cite-Tre1996). Polynomial interpolation is implemented in `PythonicDISORT.subroutines.interpolate` and under the hood it uses `scipy.interpolate.BarycentricInterpolator` which is numerically stable, see section [6.3](#6.3-Intensity-comparisons-at-interpolation-points) for an example of use and accuracy tests."
   ]
  },
  {
   "cell_type": "markdown",
   "id": "32d0b0d8",
   "metadata": {},
   "source": [
    "**Assessment of Fourier convergence**"
   ]
  },
  {
   "cell_type": "markdown",
   "id": "19f0a0ef",
   "metadata": {},
   "source": [
    "In Stamnes' DISORT, $\\text{NFourier}$ is chosen adaptively using the Cauchy convergence criterion, see [[8, section 3.7]](#cite-STWLE2000). In PythonicDISORT, that same Cauchy / Fourier convergence evaluation \n",
    "\n",
    "$$\n",
    "\\max _{\\mu_i, \\tau, \\phi} \\frac{\\left|u^\\text{NFourier}(\\tau, \\phi) \\cos \\left(\\text{NFourier}\\left(\\phi_0-\\phi\\right)\\right)\\right|}{\\left|u(\\tau, \\phi)\\right|}\n",
    "$$\n",
    "\n",
    "will be returned for the last Fourier term, for the $\\tau, \\phi$ values provided, if the optional flag `return_Fourier_error = True` is passed to $u$. The default is `return_Fourier_error = False`."
   ]
  },
  {
   "cell_type": "markdown",
   "id": "390ae2b6",
   "metadata": {},
   "source": [
    "**Indefinite integration with respect to** $\\tau$"
   ]
  },
  {
   "cell_type": "markdown",
   "id": "779e1cdd",
   "metadata": {},
   "source": [
    "Pass `is_antiderivative_wrt_tau = True` (defaults to `False`) to switch to an antiderivative of the function with respect to `tau`. Since every output function of `pydisort` is continuous, its antiderivatives are also continuous."
   ]
  },
  {
   "cell_type": "markdown",
   "id": "ada4fda8",
   "metadata": {},
   "source": [
    "### 3.7.1 Verification and visualization: uncorrected"
   ]
  },
  {
   "cell_type": "markdown",
   "id": "87efd624",
   "metadata": {},
   "source": [
    "We include the (Lambertian) BDRF and (isotropic) BCs but omit all other optional arguments and treat the atmosphere as single layered. These verifications require the *autograd* package and requires $u$ to be compatible with *autograd*. The latter is enabled by passing `autograd_compatible=True` into `pydisort`, but this will slow it down."
   ]
  },
  {
   "cell_type": "code",
   "execution_count": 53,
   "id": "01be0afd",
   "metadata": {},
   "outputs": [],
   "source": [
    "# Include the (Lambertian) BDRF and (isotropic) BCs\n",
    "u = PythonicDISORT.pydisort(\n",
    "    tau_arr[-1], omega_arr[0],\n",
    "    NQuad,\n",
    "    Leg_coeffs_all[0, :],\n",
    "    mu0, I0, phi0,\n",
    "    BDRF_Fourier_modes=BDRF_Fourier_modes,\n",
    "    b_pos=b_pos,\n",
    "    b_neg=b_neg,\n",
    "    autograd_compatible=True\n",
    ")[-1]"
   ]
  },
  {
   "cell_type": "code",
   "execution_count": 54,
   "id": "320e873d",
   "metadata": {
    "tags": [
     "hide_input"
    ]
   },
   "outputs": [],
   "source": [
    "# Number of phi grid points\n",
    "# This selection should ensure that the phi quadrature is at least as accurate as the mu quadrature\n",
    "Nphi = int((NQuad * pi) // 2) * 2 + 1\n",
    "phi_arr, full_weights_phi = PythonicDISORT.subroutines.Clenshaw_Curtis_quad(Nphi)"
   ]
  },
  {
   "cell_type": "markdown",
   "id": "88a90a8c",
   "metadata": {},
   "source": [
    "**Does the full solution satisfy the BCs?**"
   ]
  },
  {
   "cell_type": "code",
   "execution_count": 55,
   "id": "7a5ca3b1",
   "metadata": {},
   "outputs": [],
   "source": [
    "# Setup for tests\n",
    "\n",
    "# Ensure the BCs are of the correct shape for the tests\n",
    "if b_pos_is_scalar or b_pos_is_vector:\n",
    "    b_pos_m = np.zeros((N, NFourier))\n",
    "    b_pos_m[:, 0] = b_pos\n",
    "else:\n",
    "    b_pos_m = b_pos[:, m]\n",
    "if b_neg_is_scalar or b_neg_is_vector:\n",
    "    b_neg_m = np.zeros((N, NFourier))\n",
    "    b_neg_m[:, 0] = b_pos\n",
    "else:\n",
    "    b_neg_m = b_neg[:, m]\n",
    "\n",
    "\n",
    "# BDRF (for bottom BC)\n",
    "def BDRF(mu, phi, mu_p, phi_p):\n",
    "    mu, phi, mu_p, phi_p = np.atleast_1d(mu, phi, mu_p, phi_p)\n",
    "    return np.sum(\n",
    "        np.array([f(mu, -mu_p) for f in BDRF_Fourier_modes])[:, :, None, :, None]\n",
    "        * np.cos(\n",
    "            np.arange(NBDRF)[:, None, None]\n",
    "            * (phi[None, :, None] - phi_p[None, None, :])\n",
    "        )[:, None, :, None, :],\n",
    "        axis=0,\n",
    "    )\n",
    "\n",
    "\n",
    "BDRF_contribution = np.einsum(\n",
    "    \"ijkl, kl, k, l -> ij\",\n",
    "    BDRF(mu_arr_pos, phi_arr, mu_arr_pos, phi_arr),\n",
    "    mu_arr_pos[:, None] * u(tau_arr[-1], phi_arr)[N:, :],\n",
    "    W,\n",
    "    full_weights_phi,\n",
    "    optimize=True,\n",
    ") / pi + (I0 * mu0) / pi * np.exp(-tau_arr[-1] / mu0) * BDRF(\n",
    "    mu_arr_pos, phi_arr, -mu0, phi0\n",
    ")"
   ]
  },
  {
   "cell_type": "code",
   "execution_count": 56,
   "id": "a6d6b2b7",
   "metadata": {},
   "outputs": [
    {
     "name": "stdout",
     "output_type": "stream",
     "text": [
      "Passed all tests\n"
     ]
    }
   ],
   "source": [
    "# At top of atmosphere\n",
    "assert np.allclose(\n",
    "    u(0, phi_arr)[N:, :],\n",
    "    b_neg_m @ np.cos(np.arange(NFourier)[:, None] * (phi0 - phi_arr)),\n",
    ")\n",
    "\n",
    "# At bottom of atmosphere\n",
    "assert np.allclose(\n",
    "    u(tau_arr[-1], phi_arr)[:N, :],\n",
    "    b_pos_m @ np.cos(np.arange(NFourier)[:, None] * (phi0 - phi_arr)) + BDRF_contribution,\n",
    ")\n",
    "print(\"Passed all tests\")"
   ]
  },
  {
   "cell_type": "markdown",
   "id": "70540fcc",
   "metadata": {},
   "source": [
    "**Does the full solution satisfy the radiative transfer equation?**"
   ]
  },
  {
   "cell_type": "code",
   "execution_count": 57,
   "id": "0c4e9767",
   "metadata": {},
   "outputs": [],
   "source": [
    "# mu_arr is arranged as it is for code efficiency and readability\n",
    "# For presentation purposes we re-arrange mu_arr from smallest to largest\n",
    "reorder_mu = np.argsort(mu_arr)\n",
    "\n",
    "full_weights_mu_RO = full_weights_mu[reorder_mu]\n",
    "mu_arr_RO = mu_arr[reorder_mu]\n",
    "\n",
    "MU_ARR, PHI_ARR = np.meshgrid(phi_arr, mu_arr_RO)"
   ]
  },
  {
   "cell_type": "code",
   "execution_count": 58,
   "id": "cf1b1388",
   "metadata": {},
   "outputs": [],
   "source": [
    "# Plots will be created for only this value of tau\n",
    "tau_pt = 1.  # Must be a float for auto-differentiation to work"
   ]
  },
  {
   "cell_type": "code",
   "execution_count": 59,
   "id": "ae559251",
   "metadata": {
    "tags": [
     "hide_input"
    ]
   },
   "outputs": [],
   "source": [
    "LHS = (\n",
    "    mu_arr_RO[:, None] * ag.jacobian(lambda tau: u(tau, phi_arr))(tau_pt)[reorder_mu, :]\n",
    ")\n",
    "RHS = (\n",
    "    u(tau_pt, phi_arr)[reorder_mu]\n",
    "    - (omega_l / (4 * pi))\n",
    "    * np.einsum(\n",
    "        \"ijkl, kl, k, l -> ij\",\n",
    "        p_HG_muphi(mu_arr_RO, phi_arr, mu_arr_RO, phi_arr),\n",
    "        u(tau_pt, phi_arr)[reorder_mu],\n",
    "        full_weights_mu_RO,\n",
    "        full_weights_phi,\n",
    "        optimize=True,\n",
    "    )\n",
    "    - (omega_l * I0 / (4 * pi))\n",
    "    * p_HG_muphi(mu_arr_RO, phi_arr, -mu0, phi0)\n",
    "    * np.exp(-tau_pt / mu0)\n",
    ")\n",
    "error = np.abs(RHS - LHS)"
   ]
  },
  {
   "cell_type": "markdown",
   "id": "2d0d37b0",
   "metadata": {},
   "source": [
    "Similar to the verification in section [3.6.3](#3.6.3-Verification-of-the-general-solution), this verification will not reflect quadrature and truncation errors."
   ]
  },
  {
   "cell_type": "code",
   "execution_count": 60,
   "id": "976d4f63",
   "metadata": {
    "tags": [
     "hide_input"
    ]
   },
   "outputs": [
    {
     "data": {
      "text/plain": [
       "<matplotlib.legend.Legend at 0x1fd7d17d210>"
      ]
     },
     "execution_count": 60,
     "metadata": {},
     "output_type": "execute_result"
    },
    {
     "data": {
      "image/png": "[encoded data removed]",
      "text/plain": [
       "<Figure size 900x600 with 2 Axes>"
      ]
     },
     "metadata": {},
     "output_type": "display_data"
    }
   ],
   "source": [
    "plot = error\n",
    "\n",
    "fig = plt.figure(figsize=(9, 6))\n",
    "_contourf = plt.contourf(MU_ARR, PHI_ARR, plot, norm=mpl.colors.LogNorm())\n",
    "plt.plot(phi0, -mu0, \"o\", color=\"red\", label=\"Direct beam\")\n",
    "plt.xlabel(r\"$\\phi$\")\n",
    "plt.ylabel(r\"$\\mu$\")\n",
    "plt.colorbar(_contourf)\n",
    "plt.title(r\"Uncorrected pointwise errors at $\\tau =$\" + str(tau_pt))\n",
    "plt.legend()"
   ]
  },
  {
   "cell_type": "code",
   "execution_count": 61,
   "id": "70023a70",
   "metadata": {
    "scrolled": true,
    "tags": [
     "hide_input"
    ]
   },
   "outputs": [
    {
     "name": "stdout",
     "output_type": "stream",
     "text": [
      "At tau = 1.0\n",
      "Max pointwise error = 0.08290932623069014\n"
     ]
    }
   ],
   "source": [
    "print(\"At tau = \" + str(tau_pt))\n",
    "print(\"Max pointwise error =\", np.max(error))"
   ]
  },
  {
   "cell_type": "markdown",
   "id": "a86ecace",
   "metadata": {},
   "source": [
    "### 3.7.2 NT corrections"
   ]
  },
  {
   "cell_type": "markdown",
   "id": "f64918ae",
   "metadata": {},
   "source": [
    "*This is implemented in* `disort.py`.\n",
    "\n",
    "This subsection summarizes the main points from [[12]](#cite-NT1988) and from *Appendix A* of [[8]](#cite-STWLE2000) but omits most of the mathematical explanation. Recall that $\\tau^*, \\omega^*, p^*$ denote $\\delta-M$ scaled parameters and $f$ is the scattering fraction into peak. Nakajima-Tanaka (NT) corrections are disabled by default, enable them with the flag `NT_cor = True`. Note that if $I_0 = 0$, $f = 0$ or only $\\text{NLeg}$ coefficients are supplied in `Leg_coeffs_all`, then NT corrections will remain disabled."
   ]
  },
  {
   "cell_type": "markdown",
   "id": "c11b6904",
   "metadata": {},
   "source": [
    "The $\\delta-M$ method allows for accurate flux computation, but intensity values remain inaccurate particularly at backscattering angles and around the direct beam. These inaccuracies are largely caused by truncation of the Legendre series of the phase function. Nakajima and Tanaka proposed intensity corrections to reduce these accuracies. This correction is applied to the intensity but not to the flux as the latter is already accurate. This unfortunately means that flux values calculated by integrating the corrected intensity will differ slightly from values given by the flux functions. Note that NT corrections ignore, or rather have not been derived for, the isotropic internal source $s$, see [[8, section 3.6.3]](#cite-STWLE2000), and they ignore surface reflection, see section [3.7.3](#3.7.3-Verification-and-visualization:-NT-corrected)."
   ]
  },
  {
   "cell_type": "markdown",
   "id": "06207f6c",
   "metadata": {},
   "source": [
    "**TMS correction**"
   ]
  },
  {
   "cell_type": "markdown",
   "id": "73b1b162",
   "metadata": {},
   "source": [
    "For the first of two NT corrections, named *TMS*, one approximates $u_\\text{true} \\approx u_\\text{TMS} = u^* + \\left(\\tilde{u}_1^* - u_1^*\\right)$. One has that $u_1^*$ and $\\tilde{u}_1^*$ are true solutions to the single-scattering equations for\n",
    "\n",
    "$$\n",
    "\\begin{aligned}\n",
    "\\mu \\frac{\\partial \\tilde{u}_1^*(\\tau^*, \\mu, \\phi)}{\\partial \\tau^*} &= \\tilde{u}_1^*(\\tau^*, \\mu, \\phi) -\\frac{\\omega^* I_0}{(1 - f) 4 \\pi} p\\left(\\mu, \\phi ;-\\mu_{0}, \\phi_{0}\\right) \\exp\\left(-\\mu_{0}^{-1} \\tau^*\\right) \\\\\n",
    "\\mu \\frac{\\partial u_1^*(\\tau^*, \\mu, \\phi)}{\\partial \\tau^*} &= u_1^*(\\tau^*, \\mu, \\phi) -\\frac{\\omega^* I_0}{4 \\pi} p^*\\left(\\mu, \\phi ;-\\mu_{0}, \\phi_{0}\\right) \\exp\\left(-\\mu_{0}^{-1} \\tau^*\\right)\n",
    "\\end{aligned}\n",
    "$$\n",
    "\n",
    "respectively. Note that by construction (section [1.3.1](#1.3.1-OPTIONAL:-Choose-delta-M-scaling)), $p^*$ has a finite number of (non-zero) Legendre coefficients. In contrast, $p$ is the original phase function and in general has infinite Legendre coefficients. Unlike the Henyey-Greenstein phase function, realistic phase functions derived from Mie equations generally only have series representations. This lack of a closed-form means that it is impossible to input the true $p$ into PythonicDISORT. Instead, use a large (`NLeg_all`) number of Legendre coefficients to very accurately approximate $p$."
   ]
  },
  {
   "cell_type": "markdown",
   "id": "4912b19f",
   "metadata": {},
   "source": [
    "By superposition, every correction term, i.e. every term but $u^*$, must satisfy homogeneous BCs. This is not true when there is surface reflection but we will only discuss this complication in section [3.7.3](#3.7.3-Verification-and-visualization:-NT-corrected). The correction function $\\left(\\tilde{u}_1^* - u_1^*\\right)$ can be analytically determined. The TMS correction to the solution is applied for each atmospheric layer. For $\\mu > 0$ and $\\tau \\in [\\tau_{l-1}, \\tau_{l}]$, one has\n",
    "\n",
    "$$\n",
    "\\begin{aligned}\n",
    "\\left(\\tilde{u}_1^* - u_1^*\\right)(\\tau^*, \\mu, \\phi) &= \\mathscr{B}_l(\\mu, \\phi)\\left[\\exp\\left(-\\frac{\\tau^*}{\\mu_0}\\right) - \\exp\\left(\\frac{\\tau^* - \\tau^*_{l}}{\\mu} - \\frac{\\tau^*_{l}}{\\mu_0}\\right)\\right] + \\text{Contribution from layers below} \\\\\n",
    "\\left(\\tilde{u}_1^* - u_1^*\\right)(\\tau^*, -\\mu, \\phi) &= \\mathscr{B}_l(-\\mu, \\phi)\\left[\\exp\\left(-\\frac{\\tau^*}{\\mu_0}\\right) - \\exp\\left(\\frac{\\tau^*_{l-1} - \\tau^*}{\\mu} - \\frac{\\tau^*_{l-1}}{\\mu_0}\\right)\\right] + \\text{Contribution from layers above}\n",
    "\\end{aligned}\n",
    "$$\n",
    "\n",
    "The contributions of layer $j$ to the layers above and below it are\n",
    "\n",
    "$$\n",
    "\\begin{aligned}\n",
    "&\\mathscr{B}_j(\\mu, \\phi)\\left[\\exp\\left(\\frac{\\tau^* - \\tau^*_{j-1}}{\\mu} - \\frac{\\tau^*_{j-1}}{\\mu_0}\\right) - \\exp\\left(\\frac{\\tau^* - \\tau^*_j}{\\mu} - \\frac{\\tau^*_j}{\\mu_0}\\right) \\right] \\\\\n",
    "&\\mathscr{B}_j(-\\mu, \\phi)\\left[ \\exp\\left(\\frac{\\tau^*_j - \\tau^*}{\\mu} - \\frac{\\tau^*_j}{\\mu_0}\\right) - \\exp\\left(\\frac{ \\tau^*_{j-1} - \\tau^*}{\\mu} - \\frac{\\tau^*_{j-1}}{\\mu_0}\\right)\\right]\n",
    "\\end{aligned}\n",
    "$$\n",
    "\n",
    "respectively. The correction source terms give\n",
    "\n",
    "$$\n",
    "\\mathscr{B}_l(\\mu, \\phi) = \\left(\\frac{\\mu_0}{\\mu_0 + \\mu}\\right) \\frac{\\omega^*_l I_0}{4 \\pi} \\left(\\frac{p_l}{1-f} - p^*_l\\right)\\left(\\mu, \\phi ;-\\mu_{0}, \\phi_{0}\\right)\n",
    "$$\n",
    "\n",
    "Note the singularity if $\\mu = -\\mu_0$, i.e. $\\mu_0$ coincides with a quadrature angle, in $\\mathscr{B}_l$. This is a special case which we have not implemented."
   ]
  },
  {
   "cell_type": "markdown",
   "id": "dc57bc49",
   "metadata": {},
   "source": [
    "**IMS correction**"
   ]
  },
  {
   "cell_type": "markdown",
   "id": "45f68b9a",
   "metadata": {},
   "source": [
    "The TMS correction substantially reduces the truncation error everywhere except around the direct beam. A second NT correction named *IMS* is required to address the significant errors that remain. One incorporates the IMS through the approximation $u_\\text{true} \\approx u_\\text{TMS} + u_\\text{IMS}$. It is impractical to determine $u_\\text{IMS}$ exactly and both [[8]](#cite-STWLE2000) and [[12]](#cite-NT1988) make many approximations to determine $u_\\text{IMS}$. Follow [[8]](#cite-STWLE2000) and approximate the IMS correction as\n",
    "\n",
    "$$\n",
    "\\begin{aligned}\n",
    "u_\\text{IMS}(\\tau, -\\mu, \\phi) \\approx \\frac{I_0}{4 \\pi} \\frac{\\left(\\bar{\\omega} \\bar{f}\\right)^2}{1-\\bar{\\omega} \\bar{f}}\\left[2 p_r\\left(-\\mu, \\phi ;-\\mu_0, \\phi_0\\right)-p_r^2\\left(-\\mu, \\phi ;-\\mu_0, \\phi_0\\right)\\right]\\chi\\left(\\tau,-\\mu,-\\mu_0',-\\mu_0'\\right)\n",
    "\\end{aligned}\n",
    "$$\n",
    "\n",
    "for $\\mu > 0$, and take $u_\\text{IMS}(\\tau, -\\mu, \\phi) \\approx 0$ for $\\mu \\leq 0$, i.e. **the correction applies only to the downward intensities.** One has that $p_r = p - p^*$ is the residual phase function from the $\\delta-M$ approximation (section [1.3.1](#1.3.1-OPTIONAL:-Choose-delta-M-scaling)) and\n",
    "\n",
    "$$\n",
    "p_r^2\\left(-\\mu, \\phi ;-\\mu_0, \\phi_0\\right) = \\frac{1}{4 \\pi} \\int_0^{2 \\pi} \\int_{-1}^1 p_r\\left(-\\mu, \\phi ; \\mu', \\phi'\\right) p_r\\left(\\mu', \\phi' ;-\\mu_0, \\phi_0\\right) \\mathrm{d} \\phi' \\mathrm{d} \\mu'\n",
    "$$\n",
    "\n",
    "Using the series expansion for the residual phase function and the optical properties that are averaged over all atmospheric layers (explicit formulas given further below), one gets\n",
    "\n",
    "$$\n",
    "\\begin{aligned}\n",
    "u_\\text{IMS}\\approx \\frac{I_0}{4 \\pi} \\frac{\\left(\\bar{\\omega} \\bar{f}\\right)^2}{1-\\bar{\\omega} \\bar{f}}\\left[\\sum_{\\ell=0}^\\infty (2\\ell + 1) \\left(2\\bar{g}_\\ell - \\bar{g}_\\ell^2\\right)P_\\ell(\\nu)\\right]\\chi\\left(\\tau, -\\mu, -\\mu_0', -\\mu_0'\\right)\n",
    "\\end{aligned}\n",
    "$$\n",
    "\n",
    "As with $p$, truncate the series at `NLeg_all` and assume that the remaining Legendre terms are negligible.\n"
   ]
  },
  {
   "cell_type": "markdown",
   "id": "74eb9bc7",
   "metadata": {},
   "source": [
    "Derive the function\n",
    "\n",
    "$$\n",
    "\\begin{aligned}\n",
    "&\\chi\\left(\\tau, -\\mu, -\\mu', -\\mu^{\\prime \\prime}\\right) = \\frac{\\exp\\left({-\\tau \\big/ \\mu}\\right)}{\\mu \\mu'} \\int_0^\\tau \\exp\\left(\\frac{t}{\\mu} - \\frac{t}{\\mu'}\\right) \\left(\\int_0^t \\exp\\left(\\frac{t'}{\\mu'} - \\frac{t'}{\\mu^{\\prime \\prime}}\\right) \\mathrm{d} t' \\right)\\mathrm{d} t \\\\\n",
    "&\\implies \\chi\\left(\\tau, -\\mu, -\\mu_0', -\\mu_0'\\right) = \\frac{1}{x\\mu\\mu'_0}\\left[\\left(\\tau-\\frac{1}{x}\\right) \\exp\\left(-\\frac{\\tau}{\\mu_0'}\\right)+\\frac{\\exp\\left(-\\tau\\big/\\mu\\right)}{x}\\right], \\quad x = \\frac{1}{\\mu}-\\frac{1}{\\mu_0'}\n",
    "\\end{aligned}\n",
    "$$\n",
    "\n",
    "which is further detailed in [[8]](#cite-STWLE2000). Since there are cases in which $\\mu_0 = \\mu_0'$, we do not allow $\\mu_0$ to coincide with a quadrature angle (see section [1.4](#1.4-Choose-direct-beam-source)) to avoid singularities due to $x = 0$. Singularities may still arise but are very unlikely given this precaution. Dithering can prevent singularities altogether but we have not implemented it. "
   ]
  },
  {
   "cell_type": "markdown",
   "id": "ea213815",
   "metadata": {},
   "source": [
    "Finally, one gets from [[8]](#cite-STWLE2000) the optical values that are averaged over all atmospheric layers and a scaled $\\mu_0$:\n",
    "\n",
    "$$\n",
    "\\begin{aligned}\n",
    "\\bar{\\omega}&=\\sum_{l=1}^L \\omega_l \\tau_l \\bigg/ \\sum_{l=1}^L \\tau_l \\\\\n",
    "\\bar{f}&=\\sum_{l=1}^L f_l \\omega_l \\tau_l \\bigg/ \\sum_{l=1}^L \\omega_l \\tau_l \\\\\n",
    "\\bar{g}_{\\ell}&=\\sum_{l=1}^L g_{l, \\ell}^r \\omega_l \\tau_l \\bigg/ \\sum_{l=1}^L f_l \\omega_l \\tau_l \\\\\n",
    "g_{l, \\ell}^r &= \n",
    "\\begin{cases} f_l, &\\ell \\leq \\text{NLeg} \\\\\n",
    "g_{l, \\ell}, &\\ell > \\text{NLeg} \\end{cases} \\\\\n",
    "\\mu_0' &= \\frac{\\mu_0} {1-\\bar{\\omega} \\bar{f}}\n",
    "\\end{aligned}\n",
    "$$"
   ]
  },
  {
   "cell_type": "markdown",
   "id": "429280f5",
   "metadata": {},
   "source": [
    "### 3.7.3 Verification and visualization: NT corrected"
   ]
  },
  {
   "cell_type": "markdown",
   "id": "981fb713",
   "metadata": {},
   "source": [
    "We include the (Lambertian) BDRF and (isotropic) BCs."
   ]
  },
  {
   "cell_type": "code",
   "execution_count": 62,
   "id": "b6e6217d",
   "metadata": {
    "tags": [
     "hide_input"
    ]
   },
   "outputs": [],
   "source": [
    "# Include the (Lambertian) BDRF and (isotropic) BCs\n",
    "\n",
    "# With delta-M scaling but without NT corrections\n",
    "u_dM = PythonicDISORT.pydisort(\n",
    "    tau_arr[-1], omega_arr[0],\n",
    "    NQuad,\n",
    "    Leg_coeffs_all[0, :],\n",
    "    mu0, I0, phi0,\n",
    "    BDRF_Fourier_modes=BDRF_Fourier_modes,\n",
    "    b_pos=b_pos,\n",
    "    b_neg=b_neg,\n",
    "    f_arr=f_arr[0],\n",
    "    autograd_compatible=True,\n",
    ")[-1]\n",
    "\n",
    "# With both delta-M scaling and NT corrections\n",
    "u_NT = PythonicDISORT.pydisort(\n",
    "    tau_arr[-1], omega_arr[0],\n",
    "    NQuad,\n",
    "    Leg_coeffs_all[0, :],\n",
    "    mu0, I0, phi0,\n",
    "    BDRF_Fourier_modes=BDRF_Fourier_modes,\n",
    "    b_pos=b_pos,\n",
    "    b_neg=b_neg,\n",
    "    f_arr=f_arr[0],\n",
    "    NT_cor=True,\n",
    "    autograd_compatible=True,\n",
    ")[-1]"
   ]
  },
  {
   "cell_type": "markdown",
   "id": "658700db",
   "metadata": {},
   "source": [
    "**Does the full solution satisfy the BCs?**"
   ]
  },
  {
   "cell_type": "markdown",
   "id": "cc41dc94",
   "metadata": {},
   "source": [
    "If there is no surface reflection the NT corrected full solution would satisfy the BCs. If there is surface reflection, however, one would have had corrected the intensity without correcting the reflected intensity. Consequently, the BC at BoA would no longer be satisfied. Observe that the error in the BC is small, at least for current parameters, and so we will simply ignore it. This is also the choice Stamnes et. al. make in DISORT2, see [[8, section 3.6.3]](#cite-STWLE2000). In DISORT3, they account for the BDRF when solving for the TMS / single-scattering correction but not for the IMS correction, see [[9, section 3.5.2]](#cite-LSJLTWS2015)."
   ]
  },
  {
   "cell_type": "markdown",
   "id": "debba91c",
   "metadata": {},
   "source": [
    "The BC at ToA remains satisfied:"
   ]
  },
  {
   "cell_type": "code",
   "execution_count": 63,
   "id": "4a4a4d5a",
   "metadata": {},
   "outputs": [
    {
     "name": "stdout",
     "output_type": "stream",
     "text": [
      "Passed all tests\n"
     ]
    }
   ],
   "source": [
    "# Setup for tests\n",
    "\n",
    "# Ensure the BCs are of the correct shape for the tests\n",
    "if b_pos_is_scalar or b_pos_is_vector:\n",
    "    b_pos_m = np.zeros((N, NFourier))\n",
    "    b_pos_m[:, 0] = b_pos\n",
    "else:\n",
    "    b_pos_m = b_pos[:, m]\n",
    "if b_neg_is_scalar or b_neg_is_vector:\n",
    "    b_neg_m = np.zeros((N, NFourier))\n",
    "    b_neg_m[:, 0] = b_pos\n",
    "else:\n",
    "    b_neg_m = b_neg[:, m]\n",
    "\n",
    "# At top of atmosphere\n",
    "assert np.allclose(\n",
    "    u_NT(0, phi_arr)[N:, :],\n",
    "    b_neg_m @ np.cos(np.arange(NFourier)[:, None] * (phi0 - phi_arr)),\n",
    ")\n",
    "\n",
    "print(\"Passed all tests\")"
   ]
  },
  {
   "cell_type": "markdown",
   "id": "559d7f18",
   "metadata": {},
   "source": [
    "The BC at BoA, on the other hand, is not satisfied because the surface reflection was not corrected, though the error is small:"
   ]
  },
  {
   "cell_type": "code",
   "execution_count": 64,
   "id": "1bd15d6d",
   "metadata": {},
   "outputs": [
    {
     "name": "stdout",
     "output_type": "stream",
     "text": [
      "The BC at BoA is satisfied: False\n",
      "Max pointwise error = 2.261569316541756e-08\n"
     ]
    }
   ],
   "source": [
    "BDRF_contribution_NT = np.einsum(\n",
    "    \"ijkl, kl, k, l -> ij\",\n",
    "    BDRF(mu_arr_pos, phi_arr, -mu_arr_pos, phi_arr),\n",
    "    mu_arr_pos[:, None] * u_NT(tau_arr[-1], phi_arr)[N:, :],\n",
    "    W,\n",
    "    full_weights_phi,\n",
    "    optimize=True,\n",
    ") / pi + (I0 * mu0) / pi * np.exp(-scaled_tau_arr_with_0[-1] / mu0) * BDRF(\n",
    "    mu_arr_pos, phi_arr, -mu0, phi0\n",
    ")\n",
    "BC_Error = np.abs(\n",
    "    u_NT(tau_arr[-1], phi_arr)[:N, :]\n",
    "    - (\n",
    "        b_pos_m @ np.cos(np.arange(NFourier)[:, None] * (phi0 - phi_arr))\n",
    "        + BDRF_contribution_NT\n",
    "    )\n",
    ")\n",
    "\n",
    "print(\"The BC at BoA is satisfied:\", np.allclose(BC_Error, 0))\n",
    "print(\n",
    "    \"Max pointwise error =\",\n",
    "    np.max(BC_Error),\n",
    ")"
   ]
  },
  {
   "cell_type": "markdown",
   "id": "42c57007",
   "metadata": {},
   "source": [
    "**Does the full solution satisfy the radiative transfer equation?**"
   ]
  },
  {
   "cell_type": "code",
   "execution_count": 65,
   "id": "c4eeb9fc",
   "metadata": {},
   "outputs": [],
   "source": [
    "# Plots will be created for only this value of tau\n",
    "tau_pt = 1.  # Must be a float for auto-differentiation to work"
   ]
  },
  {
   "cell_type": "code",
   "execution_count": 66,
   "id": "fc7ae1f2",
   "metadata": {
    "tags": [
     "hide_input"
    ]
   },
   "outputs": [],
   "source": [
    "LHS_NT = (\n",
    "    mu_arr_RO[:, None]\n",
    "    * ag.jacobian(lambda tau: u_NT(tau, phi_arr))(tau_pt)[reorder_mu, :]\n",
    ")\n",
    "RHS_NT = (\n",
    "    u_NT(tau_pt, phi_arr)[reorder_mu]\n",
    "    - (omega_l / (4 * pi))\n",
    "    * np.einsum(\n",
    "        \"ijkl, kl, k, l -> ij\",\n",
    "        p_HG_muphi(mu_arr_RO, phi_arr, mu_arr_RO, phi_arr),\n",
    "        u_NT(tau_pt, phi_arr)[reorder_mu],\n",
    "        full_weights_mu_RO,\n",
    "        full_weights_phi,\n",
    "        optimize=True,\n",
    "    )\n",
    "    - (omega_l * I0 / (4 * pi))\n",
    "    * p_HG_muphi(mu_arr_RO, phi_arr, -mu0, phi0)\n",
    "    * np.exp(-tau_pt / mu0)\n",
    ")\n",
    "error_NT = np.abs(RHS_NT - LHS_NT)"
   ]
  },
  {
   "cell_type": "markdown",
   "id": "268745db",
   "metadata": {},
   "source": [
    "Similar to the verification in section [3.6.3](#3.6.3-Verification-of-the-general-solution), this verification will not reflect quadrature and truncation errors."
   ]
  },
  {
   "cell_type": "code",
   "execution_count": 67,
   "id": "24b6b4f9",
   "metadata": {},
   "outputs": [
    {
     "data": {
      "text/plain": [
       "<matplotlib.legend.Legend at 0x1fd7d7bba50>"
      ]
     },
     "execution_count": 67,
     "metadata": {},
     "output_type": "execute_result"
    },
    {
     "data": {
      "image/png": "[encoded data removed]",
      "text/plain": [
       "<Figure size 900x600 with 2 Axes>"
      ]
     },
     "metadata": {},
     "output_type": "display_data"
    }
   ],
   "source": [
    "plot = error_NT\n",
    "\n",
    "fig = plt.figure(figsize=(9, 6))\n",
    "_contourf = plt.contourf(MU_ARR, PHI_ARR, plot, norm=mpl.colors.LogNorm())\n",
    "plt.plot(phi0, -mu0, \"o\", color=\"red\", label=\"Direct beam\")\n",
    "plt.xlabel(r\"$\\phi$\")\n",
    "plt.ylabel(r\"$\\mu$\")\n",
    "plt.colorbar(_contourf)\n",
    "plt.title(r\"NT corrected pointwise errors at $\\tau =$\" + str(tau_pt))\n",
    "plt.legend()"
   ]
  },
  {
   "cell_type": "code",
   "execution_count": 68,
   "id": "4b991f63",
   "metadata": {},
   "outputs": [
    {
     "name": "stdout",
     "output_type": "stream",
     "text": [
      "At tau = 1.0\n",
      "Max pointwise error = 0.01049863599851647\n"
     ]
    }
   ],
   "source": [
    "print(\"At tau = \" + str(tau_pt))\n",
    "print(\"Max pointwise error =\", np.max(error_NT))"
   ]
  },
  {
   "cell_type": "markdown",
   "id": "c82919f7",
   "metadata": {},
   "source": [
    "## 3.8 Computation of flux"
   ]
  },
  {
   "cell_type": "markdown",
   "id": "0fe27fd8",
   "metadata": {},
   "source": [
    "*This is implemented in* `disort.py`.\n",
    "\n",
    "PythonicDISORT also returns the positive (upward) and negative (downward) (energetic) flux functions. One has that\n",
    "\n",
    "$$\n",
    "F_\\text{total}^\\pm(\\tau) = F_\\text{diffuse}^\\pm(\\tau) + F_\\text{direct}^\\pm(\\tau)\n",
    "$$\n"
   ]
  },
  {
   "cell_type": "markdown",
   "id": "ddfea9f9",
   "metadata": {},
   "source": [
    "**Direct (beam) flux**"
   ]
  },
  {
   "cell_type": "markdown",
   "id": "5d21962c",
   "metadata": {},
   "source": [
    "Since the direct beam is\n",
    "\n",
    "$$u_\\text{direct}(\\tau, \\mu, \\phi) = I_0 \\delta(\\mu + \\mu_0) \\delta(\\phi - \\phi_0) \\exp\\left(-\\mu_{0}^{-1} \\tau\\right)$$\n",
    "\n",
    "and $\\mu_0 > 0$, one has \n",
    "\n",
    "$$F_\\text{direct}^+(\\tau) \\equiv 0, \\quad F_\\text{direct}^-(\\tau) = I_0 \\mu_0 \\exp\\left(-\\mu_{0}^{-1} \\tau\\right)$$"
   ]
  },
  {
   "cell_type": "markdown",
   "id": "0cfc204e",
   "metadata": {},
   "source": [
    "**Diffuse flux**"
   ]
  },
  {
   "cell_type": "markdown",
   "id": "e85f1c8c",
   "metadata": {},
   "source": [
    "The diffuse flux equals\n",
    "\n",
    "$$\n",
    "\\begin{aligned}\n",
    "F_\\text{diffuse}^\\pm(\\tau) &= \\int_{0}^{1} \\int_{0}^{2 \\pi} \\mu u\\left(\\tau, \\pm\\mu, \\phi\\right) \\mathrm{d} \\phi \\mathrm{d} \\mu \\\\\n",
    "&= \\sum_{m=0}^\\infty \\left(\\int_{0}^{1} \\mu u^m(\\tau, \\pm\\mu) \\mathrm{d} \\mu \\int_{0}^{2 \\pi} \\cos\\left(m\\left(\\phi_0 - \\phi\\right)\\right) \\mathrm{d} \\phi \\right) \\\\\n",
    "&= 2\\pi \\int_{0}^{1} \\mu u^0\\left(\\tau, \\pm\\mu\\right) \\mathrm{d} \\mu \\\\\n",
    "&\\approx 2\\pi \\sum_{i = 1}^N w_i\\mu_i u^0\\left(\\tau, \\pm\\mu_i\\right)\n",
    "\\end{aligned}\n",
    "$$\n",
    "\n",
    "using the Fourier expansion of $u$ from section [3.2](#3.2-Fourier-expansion-of-solution). In the last line, the $\\mu$ integral can be approximated by Gauss-Legendre quadrature. Only the $0$th moment matters for the flux. Pass `is_antiderivative_wrt_tau=True` to switch to an antiderivative of the function with respect to `tau`. The upwelling and downwelling are respectively \n",
    "\n",
    "$$F_\\text{total}^+(0), \\quad F_\\text{total}^-(\\tau_\\text{BoA})$$ "
   ]
  },
  {
   "cell_type": "markdown",
   "id": "26665498",
   "metadata": {},
   "source": [
    "### 3.8.1 Impact of delta-M scaling on flux calculations"
   ]
  },
  {
   "cell_type": "markdown",
   "id": "e093ebd1",
   "metadata": {},
   "source": [
    "When one performs $\\delta-M$ scaling one artificially augments the direct beam at the expense of the diffuse radiation. If one only cared about the total upward and downward flux, then the calculations will be identical to above. If one wishes to distinguish between direct and diffuse fluxes like in Stamnes' DISORT [[9]](#cite-LSJLTWS2015), then one will need to exercise more caution. The direct fluxes must be\n",
    "\n",
    "$$F_\\text{direct}^+(\\tau) \\equiv 0, \\quad F_\\text{direct}^-(\\tau) = I_0 \\mu_0 \\exp\\left(-\\mu_{0}^{-1} \\tau\\right)$$\n",
    "\n",
    "With $\\delta-M$ scaling, however, one gets a larger value for the downward direct flux since the direct beam was augmented, i.e.\n",
    "\n",
    "$$F_\\text{direct}^-(\\tau^*) = I_0 \\mu_0 \\exp\\left(-\\mu_{0}^{-1} \\tau^*\\right) > I_0 \\mu_0 \\exp\\left(-\\mu_{0}^{-1} \\tau\\right) = F_\\text{direct}^-(\\tau)$$\n",
    "\n",
    "Therefore, one will need to reclassify the additional downward flux from direct to diffuse, as is done in Stamnes' DISORT."
   ]
  },
  {
   "cell_type": "markdown",
   "id": "93d8c134",
   "metadata": {},
   "source": [
    "### 3.8.2 Verification of flux"
   ]
  },
  {
   "cell_type": "markdown",
   "id": "6bad9364",
   "metadata": {},
   "source": [
    "**Does integrating the intensity functions produce the flux functions?**"
   ]
  },
  {
   "cell_type": "markdown",
   "id": "2790cdd2",
   "metadata": {},
   "source": [
    "This test may fail if NT corrections are enabled, i.e. `NT_cor = True`, because the corrections are only applied to the intensity and not the fluxes."
   ]
  },
  {
   "cell_type": "raw",
   "id": "596b265c",
   "metadata": {},
   "source": [
    "Ntau = 100 # Number of tau test points\n",
    "tau_test_arr = np.random.random(Ntau) * tau_arr[-1]\n",
    "\n",
    "# Number of phi grid points\n",
    "# This selection should ensure that the phi quadrature is at least as accurate as the mu quadrature\n",
    "Nphi = int((NQuad * pi) // 2) * 2 + 1  \n",
    "phi_arr, full_weights_phi = PythonicDISORT.subroutines.Clenshaw_Curtis_quad(Nphi)"
   ]
  },
  {
   "cell_type": "code",
   "execution_count": 69,
   "id": "88090b2a",
   "metadata": {},
   "outputs": [],
   "source": [
    "# No NT corrections or delta scaling but includes (isotropic) BCs\n",
    "flux_up, flux_down, u0, u = PythonicDISORT.pydisort(\n",
    "    tau_arr[-1], omega_arr[0],\n",
    "    NQuad,\n",
    "    Leg_coeffs_all[0, :],\n",
    "    mu0, I0, phi0,\n",
    "    b_pos=b_pos,\n",
    "    b_neg=b_neg,\n",
    ")[1:]\n",
    "u_cache = u(tau_test_arr, phi_arr)"
   ]
  },
  {
   "cell_type": "code",
   "execution_count": 70,
   "id": "d345c6d3",
   "metadata": {
    "tags": [
     "hide_input"
    ]
   },
   "outputs": [],
   "source": [
    "flux_up_test = np.einsum(\n",
    "    \"itp, i, p -> t\",\n",
    "    mu_arr_pos[:, None, None] * u_cache[:N, :],\n",
    "    W,\n",
    "    full_weights_phi,\n",
    "    optimize=True,\n",
    ")\n",
    "flux_down_test = np.einsum(\n",
    "    \"itp, i, p -> t\",\n",
    "    mu_arr_pos[:, None, None] * u_cache[N:, :],\n",
    "    W,\n",
    "    full_weights_phi,\n",
    "    optimize=True,\n",
    ")"
   ]
  },
  {
   "cell_type": "code",
   "execution_count": 71,
   "id": "96307082",
   "metadata": {},
   "outputs": [
    {
     "name": "stdout",
     "output_type": "stream",
     "text": [
      "Flux up\n",
      "Max pointwise error = 1.037407937332091e-10\n",
      "\n",
      "Flux down (diffuse only)\n",
      "Max pointwise error = 3.9077430180611827e-10\n"
     ]
    }
   ],
   "source": [
    "print(\"Flux up\")\n",
    "print(\n",
    "    \"Max pointwise error =\",\n",
    "     np.max(np.abs(flux_up(tau_test_arr) - flux_up_test)),\n",
    ")\n",
    "print()\n",
    "print(\"Flux down (diffuse only)\")\n",
    "print(\n",
    "    \"Max pointwise error =\",\n",
    "    np.max(np.abs(flux_down(tau_test_arr)[0] - flux_down_test)),\n",
    ")"
   ]
  },
  {
   "cell_type": "markdown",
   "id": "7790e4cb",
   "metadata": {},
   "source": [
    "**Does** $\\delta-M$ **scaling result in more accurate fluxes?**"
   ]
  },
  {
   "cell_type": "markdown",
   "id": "f1b37f2f",
   "metadata": {},
   "source": [
    "We increase $g$ to $0.9$ to make the phase function more anisotropic to better demonstrate the effect of $\\delta-M$ scaling."
   ]
  },
  {
   "cell_type": "code",
   "execution_count": 72,
   "id": "234815ae",
   "metadata": {},
   "outputs": [],
   "source": [
    "g_dM = 0.9\n",
    "Leg_coeffs_all_dM = g_dM ** np.arange(128)\n",
    "f = Leg_coeffs_all_dM[NLeg]"
   ]
  },
  {
   "cell_type": "code",
   "execution_count": 73,
   "id": "ecd9552a",
   "metadata": {},
   "outputs": [],
   "source": [
    "# Fluxes without delta-scaling\n",
    "flux_up, flux_down = PythonicDISORT.pydisort(\n",
    "    tau_arr[-1], omega_arr[0], \n",
    "    NQuad, \n",
    "    Leg_coeffs_all_dM,\n",
    "    mu0, I0, phi0, \n",
    "    only_flux=True\n",
    ")[1:3]\n",
    "\n",
    "# Fluxes with delta-scaling\n",
    "flux_up_dS, flux_down_dS = PythonicDISORT.pydisort(\n",
    "    tau_arr[-1], omega_arr[0],\n",
    "    NQuad,\n",
    "    Leg_coeffs_all_dM,\n",
    "    mu0, I0, phi0,\n",
    "    only_flux=True,\n",
    "    f_arr=f,\n",
    ")[1:3]\n",
    "\n",
    "# Fluxes calculated using large NQuad and NLeg\n",
    "# (we take this as the \"true\" solution against which to measure error)\n",
    "flux_up_true, flux_down_true = PythonicDISORT.pydisort(\n",
    "    tau_arr[-1], omega_arr[0], \n",
    "    128, \n",
    "    Leg_coeffs_all_dM, \n",
    "    mu0, I0, phi0, \n",
    "    only_flux=True,\n",
    "    f_arr=f,\n",
    ")[1:3]"
   ]
  },
  {
   "cell_type": "code",
   "execution_count": 74,
   "id": "1c942f45",
   "metadata": {},
   "outputs": [
    {
     "name": "stdout",
     "output_type": "stream",
     "text": [
      "Without delta-scaling, i.e. f = 0\n",
      "Flux up: Max pointwise error = 0.000885776764962598\n",
      "Flux down: Max pointwise error = 0.0009825647153407502\n",
      "\n",
      "With delta-scaling, f = 0.18530201888518416\n",
      "Flux up: Max pointwise error = 0.00010464831237211314\n",
      "Flux down: Max pointwise error = 9.898073301650712e-05\n"
     ]
    }
   ],
   "source": [
    "print(\"Without delta-scaling, i.e. f =\", 0)\n",
    "print(\n",
    "    \"Flux up: Max pointwise error =\",\n",
    "    np.max(np.abs(flux_up(tau_test_arr) - flux_up_true(tau_test_arr))),\n",
    ")\n",
    "print(\n",
    "    \"Flux down: Max pointwise error =\",\n",
    "    np.max(\n",
    "        np.abs(\n",
    "            np.sum(flux_down(tau_test_arr), axis=0)\n",
    "            - np.sum(flux_down_true(tau_test_arr), axis=0)\n",
    "        ),\n",
    "    ),\n",
    ")\n",
    "print()\n",
    "\n",
    "print(\"With delta-scaling, f =\", f)\n",
    "print(\n",
    "    \"Flux up: Max pointwise error =\",\n",
    "    np.max(np.abs(flux_up_dS(tau_test_arr) - flux_up_true(tau_test_arr))),\n",
    ")\n",
    "print(\n",
    "    \"Flux down: Max pointwise error =\",\n",
    "    np.max(\n",
    "        np.abs(\n",
    "            np.sum(flux_down_dS(tau_test_arr), axis=0)\n",
    "            - np.sum(flux_down_true(tau_test_arr), axis=0)\n",
    "        ),\n",
    "    ),\n",
    ")"
   ]
  },
  {
   "cell_type": "markdown",
   "id": "62131840",
   "metadata": {},
   "source": [
    "### 3.8.3 Reflectance and transmittance"
   ]
  },
  {
   "cell_type": "markdown",
   "id": "ed237332",
   "metadata": {},
   "source": [
    "**Incident flux**"
   ]
  },
  {
   "cell_type": "markdown",
   "id": "699d10ef",
   "metadata": {},
   "source": [
    "In order to compute the reflectance and transmittance, one will first need to determine the incident flux at each boundary. This includes both the direct flux from the direct beam at $\\tau = 0$, which equals $I_0 \\mu_0$ (see section [3.8](#3.8-Computation-of-flux)), and flux from the boundary conditions.\n",
    "\n",
    "Focusing on the BCs, recall from section [1.6](#1.6-OPTIONAL:-Choose-boundary-sources) that they are\n",
    "\n",
    "$$\n",
    "u\\left(\\tau_\\text{BoA}, \\mu_i, \\phi \\right) = \\sum_{m = 0}^{\\text{NFourier}}b^+_{im}\\cos(m(\\phi_0 - \\phi)), \\quad u(0, -\\mu_i, \\phi) = \\sum_{m = 0}^{\\text{NFourier}}b^-_{im}\\cos(m(\\phi_0 - \\phi)) \\quad i = 1, \\dots, N\n",
    "$$\n",
    "\n",
    "The incident flux from the BCs, which we denote $F_{b^\\pm}$, are\n",
    "\n",
    "$$F_{b^\\pm} = 2 \\pi \\sum_{i = 0}^N w_i \\mu_i b^\\pm_{i0}$$\n",
    "\n",
    "respectively, where $w_i$ are quadrature weights.  Once again, only the $0$th moment matters for the flux. If the BCs are constant over $\\mu$, this simplifies to\n",
    "\n",
    "$$F_{b^\\pm} = \\pi b^\\pm$$"
   ]
  },
  {
   "cell_type": "markdown",
   "id": "882a21c4",
   "metadata": {},
   "source": [
    "**Computation and interpretation of reflectance, transmittance and absorption**"
   ]
  },
  {
   "cell_type": "markdown",
   "id": "720a5dd7",
   "metadata": {},
   "source": [
    "Reflectance, $\\mathscr{R}$, and transmittance, $\\mathscr{T}$, can be computed only if the incident radiation comes entirely from one side of the atmosphere, usually downward onto the top layer. Generally, reflectance and transmittance are computed first, then absorptance $\\mathscr{A}$ is calculated from the fact that the three ratios must sum to $1$ with respect to a specific source. As an example, we will calculate the reflectance, transmittance and absorptance with respect to the direct beam:\n",
    "\n",
    "$$\n",
    "\\mathscr{R} = \\frac{F_\\text{Total}^+(0)}{I_0 \\mu_0}, \\quad \\mathscr{T} = \\frac{F_\\text{Total}^-(\\tau_0)}{I_0 \\mu_0}, \\quad \\mathscr{A} = 1 - \\mathscr{R} - \\mathscr{T}\n",
    "$$\n",
    "\n",
    "which requires us to set the BCs $b^\\pm = 0$."
   ]
  },
  {
   "cell_type": "code",
   "execution_count": 75,
   "id": "458a4fd4",
   "metadata": {
    "tags": [
     "hide_input"
    ]
   },
   "outputs": [
    {
     "name": "stdout",
     "output_type": "stream",
     "text": [
      "Reflectance = 0.6295114218170893\n",
      "Transmittance = 0.37047238476113153\n",
      "Absorptance = 1.619342177916483e-05\n"
     ]
    }
   ],
   "source": [
    "# Example calculation\n",
    "flux_up, flux_down = PythonicDISORT.pydisort(\n",
    "    tau_arr[-1], omega_arr[0], \n",
    "    NQuad, \n",
    "    Leg_coeffs_all[-1, :],\n",
    "    mu0, I0, phi0, \n",
    "    only_flux=True\n",
    ")[1:3]\n",
    "\n",
    "Ref = flux_up(0) / (I0 * mu0)\n",
    "Trans = np.sum(flux_down(tau_arr[-1]), axis=0) / (I0 * mu0)\n",
    "\n",
    "print(\"Reflectance =\", Ref)\n",
    "print(\"Transmittance =\", Trans)\n",
    "print(\"Absorptance =\", 1 - Ref - Trans)"
   ]
  },
  {
   "cell_type": "markdown",
   "id": "ac3ce759",
   "metadata": {},
   "source": [
    "# 4. Solve for multiple layers"
   ]
  },
  {
   "cell_type": "markdown",
   "id": "1c8ef541",
   "metadata": {},
   "source": [
    "*This is implemented in* `_solve_for_coeffs.py`.\n",
    "\n",
    "If the atmosphere has multiple layers, they will be coupled through their BCs as the solution must be continuous in $\\tau$. Notice that the BCs are only used to solve for the coefficients of the homogeneous solution. Hence, one first solves for the general solution of each layer up to unknown coefficients before solving for all the coefficients simultaneously through a generalization of section [3.6.2](#3.6.2-The-homogeneous-solution). One then constructs the \"full solution\" for each layer as per section [3.7](#3.7-The-full-solution). The full solution for the entire multi-layer atmosphere branches to the \"full solution\" of individual layers depending on the $\\tau$ input."
   ]
  },
  {
   "cell_type": "markdown",
   "id": "38db6f05",
   "metadata": {},
   "source": [
    "**Multi-layer generalization of section [3.6.2](#3.6.2-The-homogeneous-solution)**"
   ]
  },
  {
   "cell_type": "markdown",
   "id": "edf0b154",
   "metadata": {},
   "source": [
    "Given $\\text{NLayers} = L + 1$ layers demarcated by $[0, \\tau_0], [\\tau_0, \\tau_1], [\\tau_1, \\tau_2], \\dots, [\\tau_{L-1}, \\tau_L]$ with $\\tau_L = \\tau_\\text{BoA}$. Denote $\\mathscr{E}_i = \\exp\\left(-\\mu_0^{-1} \\tau_i\\right)$. The BCs are\n",
    "\n",
    "$$\n",
    "\\begin{aligned}\n",
    "&v^-(0) &&= b^-_m - B_0^- - \\delta_{0m}\\mathscr{v}^-_0(0) \\\\ \n",
    "v^+\\left( \\tau_{L} \\right) - R&v^-\\left(\\tau_{L}\\right) &&=  b^+_m + \\left(\\mathscr{X} + RB_L^- - B_L^+\\right)\\mathscr{E}_L + \\delta_{0m}(R\\mathscr{v}^-(\\tau_{L}) - \\mathscr{v}^+(\\tau_{L}))\n",
    "\\end{aligned}\n",
    "$$"
   ]
  },
  {
   "cell_type": "markdown",
   "id": "70fbb9e5",
   "metadata": {},
   "source": [
    "Since the full solution is continuous in $\\tau$ but neither particular solution is necessarily continuous in $\\tau$, one has that\n",
    "\n",
    "$$\n",
    "\\begin{aligned}\n",
    "&v_0^-\\left(\\tau_0\\right) + B_0^-\\mathscr{E}_0 + \\delta_{0m}\\mathscr{v}^-_0(\\tau_0) = v_1^-\\left(\\tau_0\\right) + B_1^-\\mathscr{E}_0 + \\delta_{0m}\\mathscr{v}^-_1(\\tau_0) &&v_0^+\\left(\\tau_0\\right) + B_0^+\\mathscr{E}_0 + \\delta_{0m}\\mathscr{v}^+_0(\\tau_0) = v_1^+\\left(\\tau_0\\right) + B_1^+\\mathscr{E}_0 + \\delta_{0m}\\mathscr{v}^+_1(\\tau_0) \\\\\n",
    "&v_1^-\\left(\\tau_1\\right) + B_1^-\\mathscr{E}_1 + \\delta_{0m}\\mathscr{v}^-_1(\\tau_1) = v_2^-\\left(\\tau_1\\right) + B_2^-\\mathscr{E}_1 + \\delta_{0m}\\mathscr{v}^-_2(\\tau_1) &&v_1^+\\left(\\tau_1\\right) + B_1^+\\mathscr{E}_1 + \\delta_{0m}\\mathscr{v}^+_1(\\tau_1) = v_2^+\\left(\\tau_1\\right) + B_2^+\\mathscr{E}_1 + \\delta_{0m}\\mathscr{v}^+_2(\\tau_1) \\\\\n",
    "&\\quad \\vdots &&\\quad \\vdots\\\\\n",
    "&v_{L-1}^-\\left(\\tau_{L-1}\\right) + B_{L-1}^-\\mathscr{E}_{L-1} + \\delta_{0m}\\mathscr{v}^-_{L-1}(\\tau_{L-1}) &&v_{L-1}^+\\left(\\tau_{L-1}\\right) + B_{L-1}^+\\mathscr{E}_{L-1} + \\delta_{0m}\\mathscr{v}^+_{L-1}(\\tau_{L-1}) \\\\\n",
    "&= v_{L}^-\\left(\\tau_{L-1}\\right) + B_{L}^-\\mathscr{E}_{L-1} + \\delta_{0m}\\mathscr{v}^-_{L}(\\tau_{L-1}) &&  = v_{L}^+\\left(\\tau_{L-1}\\right) + B_{L}^+\\mathscr{E}_{L-1} + \\delta_{0m}\\mathscr{v}^+_{L}(\\tau_{L-1})\n",
    "\\end{aligned}\n",
    "$$"
   ]
  },
  {
   "cell_type": "markdown",
   "id": "2b9289ab",
   "metadata": {},
   "source": [
    "Denote $E_{i} = E_l(\\tau_i)$, where $E_l(\\tau_i)$ is a diagonal matrix with $\\exp(k_{lj}\\tau_i)$ as diagonal entry $j$. We omit the index $l$ of $E_l(\\tau_i)$ because it will always match the index of the accompanying eigenvector matrix $G_l$, which will in turn match the index of the coefficient vector $\\xi_l$. The BCs produce a system with\n",
    "\n",
    "$$\n",
    "\\begin{aligned}\n",
    "\\text{LHS} &= \\begin{bmatrix} \n",
    "G^-_0 & 0 & 0 & & 0 & 0 \\\\ \n",
    "G^+_0 E_{0} & -G^+_1 E_{0} & 0 & & 0 & 0 \\\\ \n",
    "G^-_0 E_{0} & -G^-_1 E_{0} & 0 & & 0 & 0 \\\\ \n",
    "0 & G^+_1 E_{1} & -G^+_2 E_{1} & & 0 & 0 \\\\ \n",
    "0 & G^-_1 E_{1} & -G^-_2 E_{1} & & 0 & 0 \\\\\n",
    "& & & \\ddots & & \\\\\n",
    "0 & 0 & 0 & & G^+_{L-1} E_{L-1} & -G^+_L E_{L-1} \\\\ \n",
    "0 & 0 & 0 & & G^-_{L-1} E_{L-1} & -G^-_L E_{L-1} \\\\\n",
    "0 & 0 & 0 & & 0 & \\left(G^+_L - RG^-_L\\right) E_L\n",
    "\\end{bmatrix} \n",
    "\\begin{bmatrix} \n",
    "\\xi_0 \\\\ \n",
    "\\xi_1 \\\\ \n",
    "\\xi_2 \\\\ \n",
    "\\vdots \\\\\n",
    "\\xi_{L-1} \\\\\n",
    "\\xi_L \n",
    "\\end{bmatrix} \\\\\n",
    "\\text{RHS} &= \\begin{bmatrix} b^-_m - B_0^- - \\delta_{0m}\\mathscr{v}^-_0(0) \\\\ \n",
    "\\left(B^+_1 - B^+_0\\right)\\mathscr{E}_0 + \\delta_{0m}\\left(\\mathscr{v}^+_1 - \\mathscr{v}^+_0\\right)(\\tau_0)  \\\\\n",
    "\\left(B^-_1 - B^-_0\\right)\\mathscr{E}_0 + \\delta_{0m}\\left(\\mathscr{v}^-_1 - \\mathscr{v}^-_0\\right)(\\tau_0) \\\\ \n",
    "\\left(B^+_2 - B^+_1\\right)\\mathscr{E}_1 + \\delta_{0m}\\left(\\mathscr{v}^+_2 - \\mathscr{v}^+_1\\right)(\\tau_1) \\\\\n",
    "\\left(B^-_2 - B^-_1\\right)\\mathscr{E}_1 + \\delta_{0m}\\left(\\mathscr{v}^-_2 - \\mathscr{v}^-_1\\right)(\\tau_1)\\\\ \n",
    "\\vdots \\\\\n",
    "\\left(B^+_{L} - B^+_{L-1}\\right)\\mathscr{E}_{L-1} + \\delta_{0m}\\left(\\mathscr{v}^+_{L} - \\mathscr{v}^+_{L-1}\\right)(\\tau_{L-1}) \\\\ \n",
    "\\left(B^-_{L} - B^-_{L-1}\\right)\\mathscr{E}_{L-1} + \\delta_{0m}\\left(\\mathscr{v}^-_{L} - \\mathscr{v}^-_{L-1}\\right)(\\tau_{L-1}) \\\\ \n",
    "b^+_m + \\left(\\mathscr{X} + RB_L^- - B_L^+\\right)\\mathscr{E}_L + \\delta_{0m}(R\\mathscr{v}^-(\\tau_{L}) - \\mathscr{v}^+(\\tau_{L}))\n",
    "\\end{bmatrix}\n",
    "\\end{aligned}\n",
    "$$"
   ]
  },
  {
   "cell_type": "markdown",
   "id": "bbd0b39e",
   "metadata": {},
   "source": [
    "As in section [3.6.2](#3.6.2-The-homogeneous-solution), we have additional superscripts $+$ and $-$ to denote only positive or only negative eigenvalues respectively. The multi-layer Stamnes-Conklin's substitutions [[4]](#cite-SC1984) are \n",
    "\n",
    "$$\n",
    "\\begin{aligned}\n",
    "&\\xi_0^- = C_0^- &&\\xi_0^+ = E^-_0 C_0^+ \\\\\n",
    "&\\xi_1^- = E^+_0 C_1^- &&\\xi_1^+ = E^-_1 C_1^+ \\\\\n",
    "&\\quad \\vdots &&\\quad \\vdots \\\\\n",
    "&\\xi_L^- = E^+_{L-1} C_L^- && \\xi_L^+ = E^-_L C_L^+\n",
    "\\end{aligned}\n",
    "$$"
   ]
  },
  {
   "cell_type": "markdown",
   "id": "4c292eef",
   "metadata": {},
   "source": [
    "Recall that the eigenvalues are arranged negative then positive, e.g. $G^+_1 E_1 = \\begin{bmatrix} G^{+-}_1 E^-_1 & G^{++}_1 E^+_1 \\end{bmatrix}$. Denote $E_{ij} = E^+_iE^-_j$. Every entry of $E_{ij}$ will have a negative exponent if $i < j$. After substitutions the LHS becomes\n",
    "\n",
    "$$\n",
    "\\begin{bmatrix} \n",
    "G^{--}_0 & G^{-+}_0 E^-_0 & 0 & 0 & & 0 & 0 & 0 & 0 \\\\ \n",
    "G^{+-}_0 E^-_0 & G^{++}_0 & -G^{+-}_1 & -G^{++}_1 E_{01} & & 0 & 0 & 0 & 0 \\\\ \n",
    "G^{--}_0 E^-_0 & G^{-+}_0 & -G^{--}_1 & -G^{-+}_1 E_{01} & & 0 & 0 & 0 & 0 \\\\ \n",
    "& & & & \\ddots & & & & \\\\\n",
    "0 & 0 & 0 & 0 & & G^{+-}_{L-1} E_{L-2,\\,L-1} & G^{++}_{L-1} & -G^{+-}_{L} & -G^{++}_{L}E_{L-1,\\,L} \\\\ \n",
    "0 & 0 & 0 & 0 & & G^{--}_{L-1} E_{L-2,\\,L-1} & G^{-+}_{L-1} & -G^{--}_{L} & -G^{-+}_{L}E_{L-1,\\,L} \\\\\n",
    "0 & 0 & 0 & 0 & & 0 & 0 & \\left(G^+_L - RG^-_L\\right)^-E_{L-1,\\,L} & \\left(G^+_L - RG^-_L\\right)^+\n",
    "\\end{bmatrix} \n",
    "\\begin{bmatrix} \n",
    "C^-_0 \\\\ \n",
    "C^+_0 \\\\ \n",
    "C^-_1 \\\\ \n",
    "C^+_1 \\\\ \n",
    "\\vdots \\\\\n",
    "C^-_{L-1} \\\\\n",
    "C^+_{L-1} \\\\\n",
    "C^-_L \\\\\n",
    "C^+_L \\\\\n",
    "\\end{bmatrix} \n",
    "$$\n",
    "\n",
    "while the RHS remains the same. This system will always be well-conditioned as the LHS converges to a block diagonal matrix when $\\tau \\rightarrow \\infty$."
   ]
  },
  {
   "cell_type": "markdown",
   "id": "421d85dc",
   "metadata": {},
   "source": [
    "**Sparsity of the LHS matrix**"
   ]
  },
  {
   "cell_type": "markdown",
   "id": "49d08e83",
   "metadata": {},
   "source": [
    "If the atmosphere has at least three layers, the LHS matrix becomes a $6N - 1$ band matrix with a density of\n",
    "\n",
    "$$\\frac{4N^2(2L + 1)}{(2N(L + 1))^2} = \\frac{2L + 1}{(L + 1)^2}$$\n",
    "\n",
    "It gets sparser as the number of layers increases. We recommend using `scipy.linalg.solve_banded` if the density of the matrix is less than $0.2$ or equivalently when $L \\geq 9 \\iff \\text{NLayers} \\geq 10$ but users may choose their own threshold using the `use_banded_solver_NLayers` argument in `pydisort`, see section [1.2](#1.2-Choose-computational-parameters)."
   ]
  },
  {
   "cell_type": "markdown",
   "id": "9d2368e4",
   "metadata": {},
   "source": [
    "**Example assembly of LHS matrix**"
   ]
  },
  {
   "cell_type": "code",
   "execution_count": 76,
   "id": "e830ec06",
   "metadata": {},
   "outputs": [],
   "source": [
    "G_collect_m = np.random.random((NLayers, NQuad, NQuad))\n",
    "K_collect_m = np.random.random((NLayers, NQuad))"
   ]
  },
  {
   "cell_type": "code",
   "execution_count": 77,
   "id": "08f6eea2",
   "metadata": {},
   "outputs": [],
   "source": [
    "# Assemble LHS\n",
    "dim = NLayers * NQuad\n",
    "LHS = np.zeros((dim, dim))\n",
    "\n",
    "G_0_nn = G_collect_m[0, N:, :N]\n",
    "G_0_np = G_collect_m[0, N:, N:]\n",
    "G_L_pn = G_collect_m[-1, :N, :N]\n",
    "G_L_nn = G_collect_m[-1, N:, :N]\n",
    "G_L_pp = G_collect_m[-1, :N, N:]\n",
    "G_L_np = G_collect_m[-1, N:, N:]\n",
    "E_Lm1L = np.exp(\n",
    "    K_collect_m[-1, :N] * (scaled_tau_arr_with_0[-1] - scaled_tau_arr_with_0[-2])\n",
    ")\n",
    "if m < NBDRF:\n",
    "    BDRF_LHS_contribution_neg = R @ G_L_nn\n",
    "    BDRF_LHS_contribution_pos = R @ G_L_np\n",
    "else:\n",
    "    BDRF_LHS_contribution_neg = 0\n",
    "    BDRF_LHS_contribution_pos = 0\n",
    "\n",
    "# BCs for the entire atmosphere\n",
    "LHS[:N, :N] = G_0_nn\n",
    "LHS[:N, N : NQuad] = (\n",
    "    G_0_np\n",
    "    * np.exp(K_collect_m[0, :N] * scaled_tau_arr_with_0[1])[None, :]\n",
    ")\n",
    "LHS[-N:, -NQuad : -N] = (G_L_pn - BDRF_LHS_contribution_neg) * E_Lm1L[None, :]\n",
    "LHS[-N:, -N:] = G_L_pp - BDRF_LHS_contribution_pos\n",
    "\n",
    "# Interlayer / continuity BCs\n",
    "for l in range(NLayers - 1):\n",
    "    G_l_pn = G_collect_m[l, :N, :N]\n",
    "    G_l_nn = G_collect_m[l, N:, :N]\n",
    "    G_l_ap = G_collect_m[l, :, N:]\n",
    "    G_lp1_an = G_collect_m[l + 1, :, :N]\n",
    "    G_lp1_pp = G_collect_m[l + 1, :N, N:]\n",
    "    G_lp1_np = G_collect_m[l + 1, N:, N:]\n",
    "    scaled_tau_arr_lm1 = scaled_tau_arr_with_0[l]\n",
    "    scaled_tau_arr_l = scaled_tau_arr_with_0[l + 1]\n",
    "    scaled_tau_arr_lp1 = scaled_tau_arr_with_0[l + 2]\n",
    "    # Postive eigenvalues\n",
    "    K_l_pos = K_collect_m[l, N:]\n",
    "    K_lp1_pos = K_collect_m[l + 1, N:]\n",
    "    E_lm1l = np.exp(K_l_pos * (scaled_tau_arr_lm1 - scaled_tau_arr_l))\n",
    "    E_llp1 = np.exp(K_lp1_pos * (scaled_tau_arr_l - scaled_tau_arr_lp1))\n",
    "\n",
    "    start_row = N + l * NQuad\n",
    "    start_col = l * NQuad\n",
    "    LHS[start_row : N + start_row, start_col : N + start_col] = G_l_pn * E_lm1l[None, :]\n",
    "    LHS[N + start_row : 2 * N + start_row, start_col : N + start_col] = G_l_nn * E_lm1l[None, :]\n",
    "    LHS[start_row : 2 * N + start_row, N + start_col : 2 * N + start_col] = G_l_ap\n",
    "    LHS[start_row : 2 * N + start_row, 2 * N + start_col : 3 * N + start_col] = -G_lp1_an\n",
    "    LHS[start_row : N + start_row, 3 * N + start_col : 4 * N + start_col] = -G_lp1_pp * E_llp1[None, :]\n",
    "    LHS[N + start_row : 2 * N + start_row, 3 * N + start_col : 4 * N + start_col] = -G_lp1_np * E_llp1[None, :]"
   ]
  },
  {
   "cell_type": "code",
   "execution_count": 78,
   "id": "00b07927",
   "metadata": {},
   "outputs": [
    {
     "data": {
      "text/plain": [
       "<matplotlib.image.AxesImage at 0x1fd7d116250>"
      ]
     },
     "execution_count": 78,
     "metadata": {},
     "output_type": "execute_result"
    },
    {
     "data": {
      "image/png": "[encoded data removed]",
      "text/plain": [
       "<Figure size 640x480 with 1 Axes>"
      ]
     },
     "metadata": {},
     "output_type": "display_data"
    }
   ],
   "source": [
    "#%matplotlib ipympl\n",
    "\n",
    "plt.spy(LHS)"
   ]
  },
  {
   "cell_type": "markdown",
   "id": "3c95d047",
   "metadata": {},
   "source": [
    "**Regarding memory usage**"
   ]
  },
  {
   "cell_type": "markdown",
   "id": "7df4dd6c",
   "metadata": {},
   "source": [
    "PythonicDISORT has been optimized for speed over memory usage. The output functions store multiple tensors, the largest of which has dimensions $\\text{NFourier} \\times \\text{NLayers} \\times \\text{NQuad} \\times \\text{NQuad}$. When $u$ is called, a tensor of dimensions $\\text{NFourier} \\times \\text{Ntau} \\times \\text{NQuad} \\times \\text{NQuad}$ is constructed, where $\\text{Ntau}$ is the length of the $\\tau$ input and is in general large. A more memory efficient method would be to input the $\\tau$ and $\\phi$ values into `pydisort` and have the output be the solution evaluated at those values rather than a function. This is how Stamnes' DISORT works [[1]](#cite-STWJ1988). This way, the largest tensor that PythonicDISORT needs to construct will have dimensions $\\text{Ntau} \\times \\text{NQuad} \\times \\text{NQuad}$, but the tradeoff will be less speed and flexibility. Even within our current design paradigm there are avenues for memory optimization. Depending on the phase function of each atmospheric layer, the $\\text{NFourier} \\times \\text{NLayers} \\times \\text{NQuad} \\times \\text{NQuad}$ tensor may be sparse. Therefore, it may be beneficial to implement a sparse tensor framework or otherwise memory efficient variants of PythonicDISORT."
   ]
  },
  {
   "cell_type": "markdown",
   "id": "ec947f1a",
   "metadata": {},
   "source": [
    "## 4.1 Verification of multi-layer solver"
   ]
  },
  {
   "cell_type": "markdown",
   "id": "59468927",
   "metadata": {},
   "source": [
    "**When a single-layer atmosphere is broken into multiple homogeneous layers is the solution the same?**"
   ]
  },
  {
   "cell_type": "code",
   "execution_count": 79,
   "id": "fbd6c6ba",
   "metadata": {},
   "outputs": [],
   "source": [
    "Ntau = 100\n",
    "\n",
    "tau_test_arr = np.sort(np.random.random(Ntau) * tau_arr[-1])"
   ]
  },
  {
   "cell_type": "code",
   "execution_count": 80,
   "id": "fa1e2477",
   "metadata": {},
   "outputs": [],
   "source": [
    "# Turn everything on\n",
    "flux_up_1layer, flux_down_1layer, u0, u_1layer = PythonicDISORT.pydisort(\n",
    "    tau_arr[-1], omega_arr[0],\n",
    "    NQuad,\n",
    "    Leg_coeffs_all[0, :],\n",
    "    mu0, I0, phi0,\n",
    "    b_pos=b_pos,\n",
    "    b_neg=b_neg,\n",
    "    f_arr=f_arr[0],\n",
    "    s_poly_coeffs=s_poly_coeffs[0, :],\n",
    "    NT_cor=True,\n",
    ")[1:]\n",
    "\n",
    "flux_up_16layers, flux_down_16layers, u0, u_16layers = PythonicDISORT.pydisort(\n",
    "    tau_arr, omega_arr,\n",
    "    NQuad,\n",
    "    Leg_coeffs_all,\n",
    "    mu0, I0, phi0,\n",
    "    b_pos=b_pos,\n",
    "    b_neg=b_neg,\n",
    "    f_arr=f_arr,\n",
    "    s_poly_coeffs=s_poly_coeffs,\n",
    "    NT_cor=True,\n",
    ")[1:]"
   ]
  },
  {
   "cell_type": "code",
   "execution_count": 81,
   "id": "24032801",
   "metadata": {},
   "outputs": [
    {
     "name": "stdout",
     "output_type": "stream",
     "text": [
      "Passed all tests\n"
     ]
    }
   ],
   "source": [
    "assert np.allclose(flux_up_1layer(tau_test_arr), flux_up_16layers(tau_test_arr))\n",
    "assert np.allclose(flux_down_1layer(tau_test_arr), flux_down_16layers(tau_test_arr))\n",
    "assert np.allclose(u_1layer(tau_test_arr, phi_arr), u_16layers(tau_test_arr, phi_arr))\n",
    "\n",
    "print(\"Passed all tests\")"
   ]
  },
  {
   "cell_type": "markdown",
   "id": "b3bd1639",
   "metadata": {},
   "source": [
    "# 5. Timing PythonicDISORT"
   ]
  },
  {
   "cell_type": "markdown",
   "id": "078e607d",
   "metadata": {},
   "source": [
    "The time taken is dependent on hardware and on input parameters, but this section should give a sense of the speed of PythonicDISORT. PythonicDISORT was timed on a personal laptop and the parameters that affect its speed the most are"
   ]
  },
  {
   "cell_type": "code",
   "execution_count": 82,
   "id": "146bc9cf",
   "metadata": {
    "tags": [
     "hide_input"
    ]
   },
   "outputs": [
    {
     "name": "stdout",
     "output_type": "stream",
     "text": [
      "NQuad, NLeg, NFourier, NLayers = 16 16 16 16\n"
     ]
    }
   ],
   "source": [
    "print(\"NQuad, NLeg, NFourier, NLayers =\", NQuad, NLeg, NFourier, NLayers)"
   ]
  },
  {
   "cell_type": "markdown",
   "id": "416dc04a",
   "metadata": {},
   "source": [
    "**Time taken to solve the radiative transfer equation (for a multi-layer atmosphere)**\n",
    "\n",
    "The default configuration in these tests is direct beam source with $\\text{NLayers}$ atmospheric layers."
   ]
  },
  {
   "cell_type": "code",
   "execution_count": 83,
   "id": "b22d2337",
   "metadata": {
    "tags": [
     "hide_input"
    ]
   },
   "outputs": [
    {
     "name": "stdout",
     "output_type": "stream",
     "text": [
      "Intensity\n",
      "38.4 ms ± 2.78 ms per loop (mean ± std. dev. of 7 runs, 10 loops each)\n",
      "\n",
      "Intensity with only one layer\n",
      "3.31 ms ± 92.6 µs per loop (mean ± std. dev. of 7 runs, 100 loops each)\n",
      "\n",
      "Intensity with blackbody emission and Lambertian BDRF\n",
      "35.8 ms ± 1.75 ms per loop (mean ± std. dev. of 7 runs, 10 loops each)\n",
      "\n",
      "Only fluxes\n",
      "2.77 ms ± 9.4 µs per loop (mean ± std. dev. of 7 runs, 100 loops each)\n",
      "\n",
      "Only fluxes with delta-M scaling\n",
      "3.15 ms ± 30.9 µs per loop (mean ± std. dev. of 7 runs, 100 loops each)\n"
     ]
    }
   ],
   "source": [
    "print(\"Intensity\")\n",
    "%timeit PythonicDISORT.pydisort(tau_arr, omega_arr, NQuad, Leg_coeffs_all, mu0, I0, phi0)\n",
    "print()\n",
    "\n",
    "print(\"Intensity with only one layer\")\n",
    "%timeit PythonicDISORT.pydisort(tau_arr[-1], omega_arr[0], NQuad, Leg_coeffs_all[0, :], mu0, I0, phi0)\n",
    "print()\n",
    "\n",
    "print(\"Intensity with blackbody emission and Lambertian BDRF\")\n",
    "%timeit PythonicDISORT.pydisort(tau_arr, omega_arr, NQuad, Leg_coeffs_all, mu0, I0, phi0, s_poly_coeffs=s_poly_coeffs, BDRF_Fourier_modes=BDRF_Fourier_modes)\n",
    "print()\n",
    "\n",
    "print(\"Only fluxes\")\n",
    "%timeit PythonicDISORT.pydisort(tau_arr, omega_arr, NQuad, Leg_coeffs_all, mu0, I0, phi0, only_flux=True)\n",
    "print()\n",
    "\n",
    "print(\"Only fluxes with delta-M scaling\")\n",
    "%timeit PythonicDISORT.pydisort(tau_arr, omega_arr, NQuad, Leg_coeffs_all, mu0, I0, phi0, only_flux=True, f_arr=f_arr)"
   ]
  },
  {
   "cell_type": "markdown",
   "id": "41446198",
   "metadata": {},
   "source": [
    "**Time taken to evaluate the solution at just one point**"
   ]
  },
  {
   "cell_type": "code",
   "execution_count": 84,
   "id": "b5e84dd4",
   "metadata": {},
   "outputs": [],
   "source": [
    "# Setup\n",
    "flux_up, flux_down, u0, u = PythonicDISORT.pydisort(\n",
    "    tau_arr, omega_arr,\n",
    "    NQuad,\n",
    "    Leg_coeffs_all,\n",
    "    mu0, I0, phi0,\n",
    ")[1:]\n",
    "\n",
    "u_1 = PythonicDISORT.pydisort(\n",
    "    tau_arr[-1], omega_arr[0],\n",
    "    NQuad,\n",
    "    Leg_coeffs_all[0, :],\n",
    "    mu0, I0, phi0,\n",
    ")[-1]\n",
    "\n",
    "u_NT = PythonicDISORT.pydisort(\n",
    "    tau_arr, omega_arr,\n",
    "    NQuad,\n",
    "    Leg_coeffs_all,\n",
    "    mu0, I0, phi0,\n",
    "    f_arr=f_arr,\n",
    "    NT_cor=True,\n",
    ")[-1]\n",
    "\n",
    "u_NT_1 = PythonicDISORT.pydisort(\n",
    "    tau_arr[-1], omega_arr[0],\n",
    "    NQuad,\n",
    "    Leg_coeffs_all[0, :],\n",
    "    mu0, I0, phi0,\n",
    "    f_arr=f_arr[0],\n",
    "    NT_cor=True,\n",
    ")[-1]\n",
    "\n",
    "u_iso = PythonicDISORT.pydisort(\n",
    "    tau_arr, omega_arr,\n",
    "    NQuad,\n",
    "    Leg_coeffs_all,\n",
    "    mu0, 0, phi0,\n",
    "    s_poly_coeffs=s_poly_coeffs,\n",
    ")[-1]\n",
    "\n",
    "Ntau_time = 1000\n",
    "Nphi_time = 100\n",
    "tau_test_arr_time = np.sort(np.random.random(Ntau_time) * tau_arr[-1])\n",
    "phi_arr_time = np.random.random(Nphi_time) * 2 * pi"
   ]
  },
  {
   "cell_type": "code",
   "execution_count": 85,
   "id": "558d759b",
   "metadata": {
    "tags": [
     "hide_input"
    ]
   },
   "outputs": [
    {
     "name": "stdout",
     "output_type": "stream",
     "text": [
      "Intensity\n",
      "199 µs ± 3.04 µs per loop (mean ± std. dev. of 7 runs, 1,000 loops each)\n",
      "\n",
      "Intensity with only one layer\n",
      "179 µs ± 612 ns per loop (mean ± std. dev. of 7 runs, 10,000 loops each)\n",
      "\n",
      "Intensity with NT corrections\n",
      "7.31 ms ± 22.8 µs per loop (mean ± std. dev. of 7 runs, 100 loops each)\n",
      "\n",
      "Intensity with NT corrections and only one layer\n",
      "1.09 ms ± 10.3 µs per loop (mean ± std. dev. of 7 runs, 1,000 loops each)\n",
      "\n",
      "Intensity with only blackbody emission\n",
      "390 µs ± 1.92 µs per loop (mean ± std. dev. of 7 runs, 1,000 loops each)\n",
      "\n",
      "Up and down fluxes respectively\n",
      "67.8 µs ± 429 ns per loop (mean ± std. dev. of 7 runs, 10,000 loops each)\n",
      "74 µs ± 1.68 µs per loop (mean ± std. dev. of 7 runs, 10,000 loops each)\n"
     ]
    }
   ],
   "source": [
    "print(\"Intensity\")\n",
    "%timeit u(tau_test_arr_time[Ntau_time//2], phi_arr_time[Nphi_time//2])\n",
    "print()\n",
    "\n",
    "print(\"Intensity with only one layer\")\n",
    "%timeit u_1(tau_test_arr_time[Ntau_time//2], phi_arr_time[Nphi_time//2])\n",
    "print()\n",
    "\n",
    "print(\"Intensity with NT corrections\")\n",
    "%timeit u_NT(tau_test_arr_time[Ntau_time//2], phi_arr_time[Nphi_time//2])\n",
    "print()\n",
    "\n",
    "print(\"Intensity with NT corrections and only one layer\")\n",
    "%timeit u_NT_1(tau_test_arr_time[Ntau_time//2], phi_arr_time[Nphi_time//2])\n",
    "print()\n",
    "\n",
    "print(\"Intensity with only blackbody emission\")\n",
    "%timeit u_iso(tau_test_arr_time[Ntau_time//2], phi_arr_time[Nphi_time//2])\n",
    "print()\n",
    "\n",
    "print(\"Up and down fluxes respectively\")\n",
    "%timeit flux_up(0)\n",
    "%timeit flux_down(tau_arr[-1])"
   ]
  },
  {
   "cell_type": "markdown",
   "id": "4220516f",
   "metadata": {},
   "source": [
    "**Time taken to evaluate the solution at a large number of points**"
   ]
  },
  {
   "cell_type": "code",
   "execution_count": 86,
   "id": "0038aa17",
   "metadata": {},
   "outputs": [
    {
     "name": "stdout",
     "output_type": "stream",
     "text": [
      "Number of tau points = 1000 , Number of phi points = 100\n",
      "\n",
      "Intensity\n",
      "37 ms ± 907 µs per loop (mean ± std. dev. of 7 runs, 10 loops each)\n",
      "\n",
      "Intensity with only one layer\n",
      "35.6 ms ± 867 µs per loop (mean ± std. dev. of 7 runs, 10 loops each)\n",
      "\n",
      "Intensity with NT corrections\n",
      "192 ms ± 2.57 ms per loop (mean ± std. dev. of 7 runs, 10 loops each)\n",
      "\n",
      "Intensity with NT corrections and only one layer\n",
      "58.3 ms ± 463 µs per loop (mean ± std. dev. of 7 runs, 10 loops each)\n",
      "\n",
      "Intensity with only blackbody emission\n",
      "36.6 ms ± 134 µs per loop (mean ± std. dev. of 7 runs, 10 loops each)\n",
      "\n",
      "Up and down fluxes respectively\n",
      "350 µs ± 8.19 µs per loop (mean ± std. dev. of 7 runs, 1,000 loops each)\n",
      "379 µs ± 1.58 µs per loop (mean ± std. dev. of 7 runs, 1,000 loops each)\n"
     ]
    }
   ],
   "source": [
    "print(\"Number of tau points =\", Ntau_time, \", Number of phi points =\", Nphi_time)\n",
    "print()\n",
    "\n",
    "print(\"Intensity\")\n",
    "%timeit u(tau_test_arr_time, phi_arr_time)\n",
    "print()\n",
    "\n",
    "print(\"Intensity with only one layer\")\n",
    "%timeit u_1(tau_test_arr_time, phi_arr_time)\n",
    "print()\n",
    "\n",
    "print(\"Intensity with NT corrections\")\n",
    "%timeit u_NT(tau_test_arr_time, phi_arr_time)\n",
    "print()\n",
    "\n",
    "print(\"Intensity with NT corrections and only one layer\")\n",
    "%timeit u_NT_1(tau_test_arr_time, phi_arr_time)\n",
    "print()\n",
    "\n",
    "print(\"Intensity with only blackbody emission\")\n",
    "%timeit u_iso(tau_test_arr_time, phi_arr_time)\n",
    "print()\n",
    "\n",
    "print(\"Up and down fluxes respectively\")\n",
    "%timeit flux_up(tau_test_arr_time)\n",
    "%timeit flux_down(tau_test_arr_time)"
   ]
  },
  {
   "cell_type": "markdown",
   "id": "072db819",
   "metadata": {},
   "source": [
    "See section [6.5](#6.5-Timing-Stamnes'-DISORT) for the runtimes of a Python-wrapped Stamnes' FORTRAN DISORT [[3]](#cite-Sta1999) for comparison. There are three factors which significantly slow PythonicDISORT down relative to Stamnes' DISORT. First, Python inherently has more overhead than FORTRAN. This cannot be helped. Second, PythonicDISORT has for-loops over the atmospheric layers $l$ and over the Fourier modes $m$. We have removed as many for-loops as possible and the most expensive operations have all been vectorized. Removing or speeding up the remaining for-loops should make PythonicDISORT faster. Finally, our current implementation of the NT corrections, especially the TMS correction, seems slow and we hope to further optimize it."
   ]
  },
  {
   "cell_type": "markdown",
   "id": "a9aeb413",
   "metadata": {},
   "source": [
    "# 6. Comparisons against Stamnes' DISORT"
   ]
  },
  {
   "cell_type": "markdown",
   "id": "071bbadb",
   "metadata": {},
   "source": [
    "Inspired by [[13]](#cite-CM2020), we created a Python wrapper around version 4.0.99 of Stamnes' FORTRAN DISORT [[3]](#cite-Sta1999) using F2PY with `O3` optimizations. Note that Stamnes' DISORT has 32-bit precision whereas PythonicDISORT has 64-bit precision. We will compare pointwise the solutions from PythonicDISORT against those from Stamnes' DISORT.\n",
    "\n",
    "**For some tests, we do not compare intensities at polar angles that are within** $10^\\circ$ **of the direct beam.** This is because, even with NT corrections, there tends to be large inaccuracies at $\\mu$ points that are extremely close to the direct beam."
   ]
  },
  {
   "cell_type": "markdown",
   "id": "18eb8945",
   "metadata": {},
   "source": [
    "**PythonicDISORT**"
   ]
  },
  {
   "cell_type": "code",
   "execution_count": 87,
   "id": "71e1d202",
   "metadata": {},
   "outputs": [],
   "source": [
    "# PythonicDISORT\n",
    "mu_arr, flux_up_NT, flux_down_NT, u0, u_NT = PythonicDISORT.pydisort(\n",
    "    tau_arr, omega_arr,\n",
    "    NQuad,\n",
    "    Leg_coeffs_all,\n",
    "    mu0, I0, phi0,\n",
    "    f_arr=f_arr,\n",
    "    NT_cor=True\n",
    ")"
   ]
  },
  {
   "cell_type": "markdown",
   "id": "99c7630a",
   "metadata": {},
   "source": [
    "**Setup for tests**"
   ]
  },
  {
   "cell_type": "code",
   "execution_count": 88,
   "id": "84d2272a",
   "metadata": {},
   "outputs": [],
   "source": [
    "# Reorder mu_arr from smallest to largest\n",
    "reorder_mu = np.argsort(mu_arr)\n",
    "mu_arr_RO = mu_arr[reorder_mu]\n",
    "\n",
    "# We may not want to compare intensities around the direct beam\n",
    "deg_around_beam_to_not_compare = 0\n",
    "mu_to_compare = (\n",
    "    np.abs(np.arccos(np.abs(mu_arr_RO)) - np.arccos(mu0)) * 180 / pi\n",
    "    > deg_around_beam_to_not_compare\n",
    ")"
   ]
  },
  {
   "cell_type": "code",
   "execution_count": 89,
   "id": "7b1d17ad",
   "metadata": {},
   "outputs": [],
   "source": [
    "# Number of phi grid points\n",
    "# This selection should ensure that the phi quadrature is at least as accurate as the mu quadrature\n",
    "Nphi = int((NQuad * pi) // 2) * 2 + 1\n",
    "phi_arr, full_weights_phi = PythonicDISORT.subroutines.Clenshaw_Curtis_quad(Nphi)\n",
    "\n",
    "Ntau = 100  # Number of tau test points\n",
    "tau_test_arr = np.random.random(Ntau) * tau_arr[-1]\n",
    "\n",
    "#tau_test_arr_small = np.random.choice(tau_test_arr, size=10, replace=False)\n",
    "#phi_arr_small = np.random.choice(phi_arr, size=10, replace=False)\n",
    "\n",
    "MU_ARR, PHI_ARR = np.meshgrid(phi_arr, mu_arr_RO)"
   ]
  },
  {
   "cell_type": "markdown",
   "id": "6ddaa60e",
   "metadata": {},
   "source": [
    "**Stamnes' DISORT**"
   ]
  },
  {
   "cell_type": "markdown",
   "id": "12a3734e",
   "metadata": {},
   "source": [
    "We generated reference solutions using our F2py-wrapped Stamnes' DISORT (version 4.0.99) and those results will be loaded, rather than re-generated, if DISORT is unavailable."
   ]
  },
  {
   "cell_type": "code",
   "execution_count": 90,
   "id": "633e643b",
   "metadata": {},
   "outputs": [],
   "source": [
    "disort_is_installed = True\n",
    "try:\n",
    "    import disort\n",
    "except ImportError:\n",
    "    disort_is_installed = False"
   ]
  },
  {
   "cell_type": "code",
   "execution_count": 91,
   "id": "c61dda6e",
   "metadata": {},
   "outputs": [],
   "source": [
    "# Test Problem 3a:  Henyey-Greenstein Scattering (Compare To Ref. VH2, Table 37)\n",
    "nlyr = NLayers\n",
    "nmom = NLeg\n",
    "nstr = NQuad\n",
    "numu = NQuad\n",
    "nphi = Nphi\n",
    "ntau = Ntau\n",
    "usrang = False\n",
    "usrtau = True\n",
    "ibcnd = 0\n",
    "onlyfl = False\n",
    "prnt = np.array([False, False, False, False, False])  # Prints to cmd instead of this notebook\n",
    "plank = False\n",
    "lamber = True\n",
    "deltamplus = False\n",
    "do_pseudo_sphere = False\n",
    "dtauc = np.append(tau_arr[0], np.diff(tau_arr))\n",
    "ssalb = omega_arr\n",
    "pmom = Leg_coeffs_all.T\n",
    "temper = np.zeros(nlyr + 1)\n",
    "wvnmlo = 0\n",
    "wvnmhi = 0\n",
    "utau = tau_test_arr\n",
    "umu0 = mu0\n",
    "phi0 = phi0\n",
    "umu = mu_arr_RO\n",
    "phi = phi_arr\n",
    "fbeam = I0\n",
    "fisot = 0\n",
    "albedo = 0\n",
    "btemp = 0\n",
    "ttemp = 0\n",
    "temis = 0\n",
    "earth_radius = 6371\n",
    "h_lyr = np.zeros(nlyr + 1)\n",
    "rhoq = np.zeros((nstr // 2, nstr + 1, nstr))\n",
    "rhou = np.zeros((numu, nstr // 2 + 1, nstr))\n",
    "rho_accurate = np.zeros((numu, nphi))\n",
    "bemst = np.zeros(nstr // 2)\n",
    "emust = np.zeros(numu)\n",
    "accur = 0\n",
    "header = \"Test Problem 3:  Henyey-Greenstein Scattering, g = 0.75 (Compare To Ref. VH2, Table 37)\"\n",
    "rfldir = np.zeros(ntau)\n",
    "rfldn = np.zeros(ntau)\n",
    "flup = np.zeros(ntau)\n",
    "dfdt = np.zeros(ntau)\n",
    "uavg = np.zeros(ntau)\n",
    "uu = np.zeros((numu, ntau, nphi))\n",
    "albmed = np.zeros(numu)\n",
    "trnmed = np.zeros(numu)"
   ]
  },
  {
   "cell_type": "code",
   "execution_count": 92,
   "id": "1a1ccbb9",
   "metadata": {},
   "outputs": [],
   "source": [
    "if disort_is_installed:\n",
    "    # Run disort, putting DFDT, UAVG, and UU in a, b, and c, respectively\n",
    "    rfldir, rfldn, flup, dfdt, uavg, uu, albmed, trnmed = disort.disort(usrang, usrtau, ibcnd, onlyfl, prnt, plank, lamber, deltamplus, do_pseudo_sphere, dtauc, ssalb,\n",
    "                            pmom, temper, wvnmlo, wvnmhi, utau, umu0, phi0 * 180/pi, umu, phi * 180/pi, fbeam, fisot, albedo, btemp, ttemp,\n",
    "                            temis, earth_radius, h_lyr, rhoq, rhou, rho_accurate, bemst, emust, accur, header, rfldir,\n",
    "                            rfldn, flup, dfdt, uavg, uu, albmed, trnmed)\n",
    "else:\n",
    "    results = np.load(\"section6_testresults1.npz\")\n",
    "    # Load saved results from Stamnes' DISORT\n",
    "    uu = results[\"uu\"]\n",
    "    flup = results[\"flup\"]\n",
    "    rfldn = results[\"rfldn\"]\n",
    "    rfldir = results[\"rfldir\"]\n",
    "    # Load comparison points\n",
    "    tau_test_arr = results[\"tau_test_arr\"]\n",
    "    phi_arr = results[\"phi_arr\"]"
   ]
  },
  {
   "cell_type": "code",
   "execution_count": 93,
   "id": "4b8b863d",
   "metadata": {},
   "outputs": [
    {
     "data": {
      "text/plain": [
       "'np.savez(\\n    \"section6_testresults1\",\\n    phi_arr=phi_arr,\\n    tau_test_arr=tau_test_arr,\\n    uu=uu,\\n    flup=flup,\\n    rfldn=rfldn,\\n    rfldir=rfldir,\\n)'"
      ]
     },
     "execution_count": 93,
     "metadata": {},
     "output_type": "execute_result"
    }
   ],
   "source": [
    "'''np.savez(\n",
    "    \"section6_testresults1\",\n",
    "    phi_arr=phi_arr,\n",
    "    tau_test_arr=tau_test_arr,\n",
    "    uu=uu,\n",
    "    flup=flup,\n",
    "    rfldn=rfldn,\n",
    "    rfldir=rfldir,\n",
    ")'''"
   ]
  },
  {
   "cell_type": "markdown",
   "id": "67eca120",
   "metadata": {},
   "source": [
    "## 6.1 Flux comparisons"
   ]
  },
  {
   "cell_type": "code",
   "execution_count": 94,
   "id": "fb2fe052",
   "metadata": {},
   "outputs": [
    {
     "name": "stdout",
     "output_type": "stream",
     "text": [
      "Max pointwise differences\n",
      "\n",
      "Upward (diffuse) fluxes\n",
      "Difference = 6.532663532277105e-05\n",
      "Difference ratio = 0.0002160416447560456\n",
      "\n",
      "Downward (diffuse) fluxes\n",
      "Difference = 2.8550151430328796e-05\n",
      "Difference ratio = 5.632378885911436e-05\n",
      "\n",
      "Direct (downward) fluxes\n",
      "Difference = 1.6786607304197787e-07\n",
      "Difference ratio = 1.6912025692617562e-06\n"
     ]
    }
   ],
   "source": [
    "print(\"Max pointwise differences\")\n",
    "print()\n",
    "\n",
    "# Upward (diffuse) fluxes\n",
    "print(\"Upward (diffuse) fluxes\")\n",
    "diff_flux_up_NT = np.abs(flup - flux_up_NT(tau_test_arr))\n",
    "ratio_flux_up_NT = np.divide(\n",
    "    diff_flux_up_NT,\n",
    "    flup,\n",
    "    out=np.zeros_like(diff_flux_up_NT),\n",
    "    where=flup > 1e-8,\n",
    ")\n",
    "print(\"Difference =\", np.max(diff_flux_up_NT))\n",
    "print(\"Difference ratio =\", np.max(ratio_flux_up_NT))\n",
    "print()\n",
    "\n",
    "# Downward (diffuse) fluxes\n",
    "print(\"Downward (diffuse) fluxes\")\n",
    "diff_flux_down_NT_diffuse = np.abs(rfldn - flux_down_NT(tau_test_arr)[0])\n",
    "ratio_flux_down_NT_diffuse = np.divide(\n",
    "    diff_flux_down_NT_diffuse,\n",
    "    rfldn,\n",
    "    out=np.zeros_like(diff_flux_down_NT_diffuse),\n",
    "    where=rfldn > 1e-8,\n",
    ")\n",
    "print(\"Difference =\", np.max(diff_flux_down_NT_diffuse))\n",
    "print(\n",
    "    \"Difference ratio =\",\n",
    "    np.max(ratio_flux_down_NT_diffuse),\n",
    ")\n",
    "print()\n",
    "\n",
    "# Direct (downward) fluxes\n",
    "print(\"Direct (downward) fluxes\")\n",
    "diff_flux_down_NT_direct = np.abs(rfldir - flux_down_NT(tau_test_arr)[1])\n",
    "ratio_flux_down_NT_direct = np.divide(\n",
    "    diff_flux_down_NT_direct,\n",
    "    rfldir,\n",
    "    out=np.zeros_like(diff_flux_down_NT_direct),\n",
    "    where=rfldir > 1e-8,\n",
    ")\n",
    "print(\"Difference =\", np.max(diff_flux_down_NT_direct))\n",
    "print(\n",
    "    \"Difference ratio =\",\n",
    "    np.max(ratio_flux_down_NT_direct),\n",
    ")"
   ]
  },
  {
   "cell_type": "markdown",
   "id": "d6749fed",
   "metadata": {},
   "source": [
    "## 6.2 Intensity comparisons"
   ]
  },
  {
   "cell_type": "code",
   "execution_count": 95,
   "id": "7b7263c0",
   "metadata": {},
   "outputs": [],
   "source": [
    "diff = np.abs(uu - u_NT(tau_test_arr, phi_arr)[reorder_mu])[mu_to_compare]\n",
    "diff_ratio = np.divide(\n",
    "    diff,\n",
    "    uu[mu_to_compare],\n",
    "    out=np.zeros_like(diff),\n",
    "    where=uu[mu_to_compare] > 1e-8,\n",
    ")"
   ]
  },
  {
   "cell_type": "code",
   "execution_count": 96,
   "id": "afa9294f",
   "metadata": {},
   "outputs": [],
   "source": [
    "max_diff_tau_index = np.argmax(np.max(diff, axis=(0, 2)))\n",
    "max_ratio_tau_index = np.argmax(np.max(diff_ratio, axis=(0, 2)))\n",
    "\n",
    "# Plots will be created for only these values of tau\n",
    "diff_tau_pt = tau_test_arr[max_diff_tau_index]\n",
    "ratio_tau_pt = tau_test_arr[max_ratio_tau_index]"
   ]
  },
  {
   "cell_type": "code",
   "execution_count": 97,
   "id": "3babf027",
   "metadata": {},
   "outputs": [
    {
     "data": {
      "text/plain": [
       "<matplotlib.legend.Legend at 0x1fd7d7ba890>"
      ]
     },
     "execution_count": 97,
     "metadata": {},
     "output_type": "execute_result"
    },
    {
     "data": {
      "image/png": "[encoded data removed]",
      "text/plain": [
       "<Figure size 900x600 with 2 Axes>"
      ]
     },
     "metadata": {},
     "output_type": "display_data"
    }
   ],
   "source": [
    "plot = diff[:, max_diff_tau_index, :]\n",
    "\n",
    "fig = plt.figure(figsize=(9, 6))\n",
    "_contourf = plt.contourf(MU_ARR, PHI_ARR, plot, norm=mpl.colors.LogNorm())\n",
    "plt.plot(phi0, -mu0, \"o\", color=\"red\", label=\"Direct beam\")\n",
    "plt.xlabel(r\"$\\phi$\")\n",
    "plt.ylabel(r\"$\\mu$\")\n",
    "plt.colorbar(_contourf)\n",
    "plt.title(r\"Difference in intensities at $\\tau =$\" + str(np.around(diff_tau_pt, 2)))\n",
    "plt.legend()"
   ]
  },
  {
   "cell_type": "code",
   "execution_count": 98,
   "id": "a1a94c0e",
   "metadata": {},
   "outputs": [
    {
     "name": "stdout",
     "output_type": "stream",
     "text": [
      "At tau = 1.0902184904378442\n",
      "Max pointwise difference = 0.008182094680030616\n"
     ]
    }
   ],
   "source": [
    "print(\"At tau = \" + str(diff_tau_pt))\n",
    "print(\"Max pointwise difference =\", np.max(diff[:, max_diff_tau_index, :]))"
   ]
  },
  {
   "cell_type": "code",
   "execution_count": 99,
   "id": "5bae9e0b",
   "metadata": {},
   "outputs": [
    {
     "data": {
      "text/plain": [
       "<matplotlib.legend.Legend at 0x1fd7d3006d0>"
      ]
     },
     "execution_count": 99,
     "metadata": {},
     "output_type": "execute_result"
    },
    {
     "data": {
      "image/png": "[encoded data removed]",
      "text/plain": [
       "<Figure size 900x600 with 2 Axes>"
      ]
     },
     "metadata": {},
     "output_type": "display_data"
    }
   ],
   "source": [
    "plot = diff_ratio[:, max_ratio_tau_index, :]\n",
    "\n",
    "fig = plt.figure(figsize=(9, 6))\n",
    "_contourf = plt.contourf(MU_ARR, PHI_ARR, plot, norm=mpl.colors.LogNorm())\n",
    "plt.plot(phi0, -mu0, \"o\", color=\"red\", label=\"Direct beam\")\n",
    "plt.xlabel(r\"$\\phi$\")\n",
    "plt.ylabel(r\"$\\mu$\")\n",
    "plt.colorbar(_contourf)\n",
    "plt.title(\n",
    "    r\"Difference ratios of intensities at $\\tau =$\" + str(np.around(ratio_tau_pt, 2))\n",
    ")\n",
    "plt.legend()"
   ]
  },
  {
   "cell_type": "code",
   "execution_count": 100,
   "id": "f65b752d",
   "metadata": {},
   "outputs": [
    {
     "name": "stdout",
     "output_type": "stream",
     "text": [
      "At tau = 7.895109241022296\n",
      "Max pointwise difference ratio = 0.00306476211048801\n"
     ]
    }
   ],
   "source": [
    "print(\"At tau = \" + str(ratio_tau_pt))\n",
    "print(\"Max pointwise difference ratio =\", np.max(diff_ratio[:, max_ratio_tau_index, :]))"
   ]
  },
  {
   "cell_type": "markdown",
   "id": "06c63538",
   "metadata": {},
   "source": [
    "## 6.3 Intensity comparisons at interpolation points"
   ]
  },
  {
   "cell_type": "code",
   "execution_count": 101,
   "id": "8341f62b",
   "metadata": {},
   "outputs": [],
   "source": [
    "Nmu = 50\n",
    "mu_test_arr_pos = np.sort(np.random.random(size=Nmu))\n",
    "mu_test_arr_neg = -np.flip(mu_test_arr_pos)\n",
    "test_tau = 0.2\n",
    "test_phi = pi"
   ]
  },
  {
   "cell_type": "code",
   "execution_count": 102,
   "id": "4be1402f",
   "metadata": {
    "code_folding": []
   },
   "outputs": [],
   "source": [
    "# Test Problem 3a:  Henyey-Greenstein Scattering (Compare To Ref. VH2, Table 37)\n",
    "nlyr = NLayers\n",
    "nmom = NLeg\n",
    "nstr = NQuad\n",
    "numu = 2 * Nmu\n",
    "nphi = 1\n",
    "ntau = 1\n",
    "usrang = True\n",
    "usrtau = True\n",
    "ibcnd = 0\n",
    "onlyfl = False\n",
    "prnt = np.array([False, False, False, False, False])  # Prints to cmd instead of this notebook\n",
    "plank = False\n",
    "lamber = True\n",
    "deltamplus = False\n",
    "do_pseudo_sphere = False\n",
    "dtauc = np.append(tau_arr[0], np.diff(tau_arr))\n",
    "ssalb = omega_arr\n",
    "pmom = Leg_coeffs_all.T\n",
    "temper = np.zeros(nlyr + 1)\n",
    "wvnmlo = 0\n",
    "wvnmhi = 0\n",
    "utau = test_tau\n",
    "umu0 = mu0\n",
    "phi0 = phi0\n",
    "umu = np.concatenate((mu_test_arr_neg, mu_test_arr_pos)) # Needs to be in increasing order\n",
    "phi = test_phi\n",
    "fbeam = I0\n",
    "fisot = 0\n",
    "albedo = 0\n",
    "btemp = 0\n",
    "ttemp = 0\n",
    "temis = 0\n",
    "earth_radius = 6371\n",
    "h_lyr = np.zeros(nlyr + 1)\n",
    "rhoq = np.zeros((nstr // 2, nstr + 1, nstr))\n",
    "rhou = np.zeros((numu, nstr // 2 + 1, nstr))\n",
    "rho_accurate = np.zeros((numu, nphi))\n",
    "bemst = np.zeros(nstr // 2)\n",
    "emust = np.zeros(numu)\n",
    "accur = 0\n",
    "header = \"Test Problem 3:  Henyey-Greenstein Scattering, g = 0.75 (Compare To Ref. VH2, Table 37)\"\n",
    "rfldir = np.zeros(ntau)\n",
    "rfldn = np.zeros(ntau)\n",
    "flup = np.zeros(ntau)\n",
    "dfdt = np.zeros(ntau)\n",
    "uavg = np.zeros(ntau)\n",
    "uu_interpol = np.zeros((numu, ntau, nphi))\n",
    "albmed = np.zeros(numu)\n",
    "trnmed = np.zeros(numu)"
   ]
  },
  {
   "cell_type": "code",
   "execution_count": 103,
   "id": "743e1f68",
   "metadata": {},
   "outputs": [],
   "source": [
    "if disort_is_installed:\n",
    "    # Run disort, putting DFDT, UAVG, and UU in a, b, and c, respectively\n",
    "    rfldir, rfldn, flup, dfdt, uavg, uu_interpol, albmed, trnmed = disort.disort(usrang, usrtau, ibcnd, onlyfl, prnt, plank, lamber, deltamplus, do_pseudo_sphere, dtauc, ssalb,\n",
    "                            pmom, temper, wvnmlo, wvnmhi, utau, umu0, phi0 * 180/pi, umu, phi * 180/pi, fbeam, fisot, albedo, btemp, ttemp,\n",
    "                            temis, earth_radius, h_lyr, rhoq, rhou, rho_accurate, bemst, emust, accur, header, rfldir,\n",
    "                            rfldn, flup, dfdt, uavg, uu_interpol, albmed, trnmed)\n",
    "else:\n",
    "    results = np.load(\"section6_testresults2.npz\")\n",
    "    # Load saved results from Stamnes' DISORT\n",
    "    uu_interpol = results[\"uu_interpol\"]\n",
    "    # Load comparison points\n",
    "    mu_test_arr_pos = results[\"mu_test_arr_pos\"]\n",
    "    test_tau = results[\"test_tau\"]\n",
    "    test_phi = results[\"test_phi\"]\n",
    "    \n",
    "    Nmu = len(mu_test_arr_pos)\n",
    "    mu_test_arr_neg = -np.flip(mu_test_arr_pos)"
   ]
  },
  {
   "cell_type": "code",
   "execution_count": 104,
   "id": "efd1405c",
   "metadata": {},
   "outputs": [
    {
     "data": {
      "text/plain": [
       "'np.savez(\\n    \"section6_testresults2\",\\n    mu_test_arr_pos=mu_test_arr_pos,\\n    test_tau=test_tau,\\n    test_phi=test_phi,\\n    uu_interpol=uu_interpol,\\n)'"
      ]
     },
     "execution_count": 104,
     "metadata": {},
     "output_type": "execute_result"
    }
   ],
   "source": [
    "'''np.savez(\n",
    "    \"section6_testresults2\",\n",
    "    mu_test_arr_pos=mu_test_arr_pos,\n",
    "    test_tau=test_tau,\n",
    "    test_phi=test_phi,\n",
    "    uu_interpol=uu_interpol,\n",
    ")'''"
   ]
  },
  {
   "cell_type": "code",
   "execution_count": 105,
   "id": "a36e1248",
   "metadata": {},
   "outputs": [
    {
     "data": {
      "image/png": "[encoded data removed]",
      "text/plain": [
       "<Figure size 900x600 with 2 Axes>"
      ]
     },
     "metadata": {},
     "output_type": "display_data"
    }
   ],
   "source": [
    "u_interpol = PythonicDISORT.subroutines.interpolate(u_NT)\n",
    "mu_arr_plot = np.linspace(0, 1, 101)\n",
    "\n",
    "fig = plt.figure(figsize=(9, 6))\n",
    "plt.subplot((211))\n",
    "plt.title(\n",
    "    r\"Intensities at interpolated $\\mu$ values at $(\\tau, \\phi) =$\"\n",
    "    + \"(\"\n",
    "    + str(np.around(test_tau, 2))\n",
    "    + \",\"\n",
    "    + str(np.around(test_phi, 2))\n",
    "    + \")\"\n",
    ")\n",
    "plt.xlim([0,1])\n",
    "plt.tick_params(labelbottom=False)\n",
    "plt.plot(mu_arr_plot, u_interpol(mu_arr_plot, test_tau, test_phi), color=\"#1f77b4\")\n",
    "plt.plot(mu_arr_pos, u_NT(test_tau, test_phi)[:N], \"o\", color=\"#1f77b4\", label=\"Upward\")\n",
    "plt.plot(mu_arr_plot, u_interpol(-mu_arr_plot, test_tau, test_phi), color=\"#ff7f0e\")\n",
    "plt.plot(mu_arr_pos, u_NT(test_tau, test_phi)[N:], \"o\", color=\"#ff7f0e\", label=\"Downward\")\n",
    "plt.ylabel(\"Intensity\")\n",
    "plt.legend()\n",
    "plt.grid()\n",
    "plt.subplot((212))\n",
    "plt.title(\"Differences\")\n",
    "plt.xlim([0,1])\n",
    "plt.semilogy(\n",
    "    mu_test_arr_pos,\n",
    "    np.abs(u_interpol(mu_test_arr_pos, test_tau, test_phi) - uu_interpol[Nmu:].ravel()),\n",
    "    \".\",\n",
    "    color=\"#1f77b4\"\n",
    ")\n",
    "plt.semilogy(\n",
    "    -mu_test_arr_neg,\n",
    "    np.abs(u_interpol(mu_test_arr_neg, test_tau, test_phi) - uu_interpol[:Nmu].ravel()),\n",
    "    \".\",\n",
    "    color=\"#ff7f0e\"\n",
    ")\n",
    "plt.axvline(mu0, color=\"red\", label=\"Direct beam\")\n",
    "plt.ylabel(\"Differences\")\n",
    "plt.xlabel(r\"$\\mu$\")\n",
    "plt.legend()\n",
    "plt.grid()"
   ]
  },
  {
   "cell_type": "markdown",
   "id": "7ef9c7d6",
   "metadata": {},
   "source": [
    "The interpolation is less accurate (at least in a relative sense) near the atmospheric boundaries and near $\\mu=0$ or $1$."
   ]
  },
  {
   "cell_type": "markdown",
   "id": "61102823",
   "metadata": {},
   "source": [
    "## 6.4 PyTest"
   ]
  },
  {
   "cell_type": "markdown",
   "id": "42a61a60",
   "metadata": {},
   "source": [
    "We use PyTest to implement test problems 1 to 9 and 11 of version 4.0.99 of Stamnes' FORTRAN DISORT [[3]](#cite-Sta1999). Test problem 11 is equivalent to our verification test in section [4.1](#4.1-Verification-of-multi-layer-solver). All test parameters are copied from DISORT's `disotest.f90` and `DISOTESTAUX.f` unless stated otherwise. Except for test problem 11 which is an internal consistency test, we compare the solutions from PythonicDISORT against corresponding solutions from Stamnes' DISORT which are saved in `.npz` files.\n",
    "\n",
    "We compare fluxes at the $\\tau$ points given in `disotest.f90`, and at $\\mu$ and $\\phi$ quadrature points for the intensity. For some tests, we do not compare intensity values at polar angles that are within $10^\\circ$ of the direct beam. Our test criteria is that every point that has difference greater than $10^{-3}$ must have a difference ratio of less than $10^{-2}$ $(1\\%)$ for the intensity, or $10^{-3}$ $(0.1\\%)$ for the fluxes. **With PyTest installed, execute the console command** `pytest` **in the** `pydisotest` **directory to run these tests.**  Add the flag `-s` to print the differences to console."
   ]
  },
  {
   "cell_type": "markdown",
   "id": "61d61eee",
   "metadata": {},
   "source": [
    "## 6.5 Timing Stamnes' DISORT"
   ]
  },
  {
   "cell_type": "markdown",
   "id": "b3425ef1",
   "metadata": {},
   "source": [
    "Note that we time our F2PY-wrapped Stamnes' DISORT rather than the original FORTRAN DISORT which is faster. Compare against PythonicDISORT's times in section [5](#5.-Timing-PythonicDISORT)."
   ]
  },
  {
   "cell_type": "code",
   "execution_count": 106,
   "id": "44057b1b",
   "metadata": {},
   "outputs": [],
   "source": [
    "# Test Problem 3a:  Henyey-Greenstein Scattering (Compare To Ref. VH2, Table 37)\n",
    "nlyr = NLayers\n",
    "nmom = NLeg\n",
    "nstr = NQuad\n",
    "numu = NQuad\n",
    "nphi = Nphi\n",
    "ntau = Ntau\n",
    "usrang = False\n",
    "usrtau = True\n",
    "ibcnd = 0\n",
    "onlyfl = False\n",
    "prnt = np.array([False, False, False, False, False])  # Prints to cmd instead of this notebook\n",
    "plank = False\n",
    "lamber = True\n",
    "deltamplus = False\n",
    "do_pseudo_sphere = False\n",
    "dtauc = np.append(tau_arr[0], np.diff(tau_arr))\n",
    "ssalb = omega_arr\n",
    "pmom = Leg_coeffs_all.T\n",
    "temper = np.zeros(nlyr + 1)\n",
    "wvnmlo = 0\n",
    "wvnmhi = 0\n",
    "utau = tau_test_arr\n",
    "umu0 = mu0\n",
    "phi0 = phi0\n",
    "umu = mu_arr_RO\n",
    "phi = phi_arr\n",
    "fbeam = I0\n",
    "fisot = 0\n",
    "albedo = 0\n",
    "btemp = 0\n",
    "ttemp = 0\n",
    "temis = 0\n",
    "earth_radius = 6371\n",
    "h_lyr = np.zeros(nlyr + 1)\n",
    "rhoq = np.zeros((nstr // 2, nstr + 1, nstr))\n",
    "rhou = np.zeros((numu, nstr // 2 + 1, nstr))\n",
    "rho_accurate = np.zeros((numu, nphi))\n",
    "bemst = np.zeros(nstr // 2)\n",
    "emust = np.zeros(numu)\n",
    "accur = 0\n",
    "header = \"Test Problem 3:  Henyey-Greenstein Scattering, g = 0.75 (Compare To Ref. VH2, Table 37)\"\n",
    "rfldir = np.zeros(ntau)\n",
    "rfldn = np.zeros(ntau)\n",
    "flup = np.zeros(ntau)\n",
    "dfdt = np.zeros(ntau)\n",
    "uavg = np.zeros(ntau)\n",
    "uu = np.zeros((numu, ntau, nphi))\n",
    "albmed = np.zeros(numu)\n",
    "trnmed = np.zeros(numu)"
   ]
  },
  {
   "cell_type": "markdown",
   "id": "fe4380fb",
   "metadata": {},
   "source": [
    "**Time taken to compute the solution at just one point**"
   ]
  },
  {
   "cell_type": "code",
   "execution_count": 107,
   "id": "c019a92c",
   "metadata": {},
   "outputs": [],
   "source": [
    "# Changed parameters\n",
    "ntau = 1\n",
    "utau = tau_test_arr_time[Ntau_time//2]\n",
    "nphi = 1\n",
    "phi = phi_arr_time[Nphi_time//2]\n",
    "\n",
    "\n",
    "rho_accurate = np.zeros((numu, nphi))\n",
    "rfldir = np.zeros(ntau)\n",
    "rfldn = np.zeros(ntau)\n",
    "flup = np.zeros(ntau)\n",
    "dfdt = np.zeros(ntau)\n",
    "uavg = np.zeros(ntau)\n",
    "uu = np.zeros((numu, ntau, nphi))"
   ]
  },
  {
   "cell_type": "code",
   "execution_count": 108,
   "id": "2be0a6cc",
   "metadata": {},
   "outputs": [
    {
     "name": "stdout",
     "output_type": "stream",
     "text": [
      "Intensity\n",
      "3.67 ms ± 239 µs per loop (mean ± std. dev. of 7 runs, 100 loops each)\n",
      "\n",
      "Only fluxes\n",
      "405 µs ± 29.9 µs per loop (mean ± std. dev. of 7 runs, 1,000 loops each)\n"
     ]
    }
   ],
   "source": [
    "if disort_is_installed:\n",
    "    print(\"Intensity\")\n",
    "    %timeit disort.disort(usrang, usrtau, ibcnd, False, prnt, plank, lamber, deltamplus, do_pseudo_sphere, dtauc, ssalb, pmom, temper, wvnmlo, wvnmhi, utau, umu0, phi0, umu, phi, fbeam, fisot, albedo, btemp, ttemp, temis, earth_radius, h_lyr, rhoq, rhou, rho_accurate, bemst, emust, accur, header, rfldir, rfldn, flup, dfdt, uavg, uu, albmed, trnmed)\n",
    "    print()\n",
    "\n",
    "    print(\"Only fluxes\")\n",
    "    %timeit disort.disort(usrang, usrtau, ibcnd, True, prnt, plank, lamber, deltamplus, do_pseudo_sphere, dtauc, ssalb, pmom, temper, wvnmlo, wvnmhi, utau, umu0, phi0, umu, phi, fbeam, fisot, albedo, btemp, ttemp, temis, earth_radius, h_lyr, rhoq, rhou, rho_accurate, bemst, emust, accur, header, rfldir, rfldn, flup, dfdt, uavg, uu, albmed, trnmed)\n",
    "else:\n",
    "    print(\"RECENT TIMING TESTS\")\n",
    "    print()\n",
    "    print(\"Intensity\")\n",
    "    print(\"3.66 ms ± 272 µs per loop (mean ± std. dev. of 7 runs, 100 loops each)\")\n",
    "    print()\n",
    "    print(\"Only fluxes\")\n",
    "    print(\"367 µs ± 4.55 µs per loop (mean ± std. dev. of 7 runs, 1,000 loops each)\")"
   ]
  },
  {
   "cell_type": "markdown",
   "id": "7a36a9cf",
   "metadata": {},
   "source": [
    "**Time taken to compute the solution at a large number of points**"
   ]
  },
  {
   "cell_type": "code",
   "execution_count": 109,
   "id": "985fc9fd",
   "metadata": {
    "code_folding": []
   },
   "outputs": [
    {
     "name": "stdout",
     "output_type": "stream",
     "text": [
      "Number of tau points = 1000 , Number of phi points = 100\n"
     ]
    }
   ],
   "source": [
    "# Changed parameters\n",
    "ntau = Ntau_time\n",
    "utau = tau_test_arr_time\n",
    "nphi = Nphi_time\n",
    "phi = phi_arr_time\n",
    "print(\"Number of tau points =\", ntau, \", Number of phi points =\", nphi)\n",
    "\n",
    "\n",
    "rho_accurate = np.zeros((numu, nphi))\n",
    "rfldir = np.zeros(ntau)\n",
    "rfldn = np.zeros(ntau)\n",
    "flup = np.zeros(ntau)\n",
    "dfdt = np.zeros(ntau)\n",
    "uavg = np.zeros(ntau)\n",
    "uu = np.zeros((numu, ntau, nphi))"
   ]
  },
  {
   "cell_type": "code",
   "execution_count": 110,
   "id": "949eff79",
   "metadata": {},
   "outputs": [
    {
     "name": "stdout",
     "output_type": "stream",
     "text": [
      "Intensity\n",
      "1.48 s ± 74.3 ms per loop (mean ± std. dev. of 7 runs, 1 loop each)\n",
      "\n",
      "Only fluxes\n",
      "10.7 ms ± 69.9 µs per loop (mean ± std. dev. of 7 runs, 100 loops each)\n"
     ]
    }
   ],
   "source": [
    "if disort_is_installed:\n",
    "    print(\"Intensity\")\n",
    "    %timeit disort.disort(usrang, usrtau, ibcnd, False, prnt, plank, lamber, deltamplus, do_pseudo_sphere, dtauc, ssalb, pmom, temper, wvnmlo, wvnmhi, utau, umu0, phi0, umu, phi, fbeam, fisot, albedo, btemp, ttemp, temis, earth_radius, h_lyr, rhoq, rhou, rho_accurate, bemst, emust, accur, header, rfldir, rfldn, flup, dfdt, uavg, uu, albmed, trnmed)\n",
    "    print()\n",
    "\n",
    "    print(\"Only fluxes\")\n",
    "    %timeit disort.disort(usrang, usrtau, ibcnd, True, prnt, plank, lamber, deltamplus, do_pseudo_sphere, dtauc, ssalb, pmom, temper, wvnmlo, wvnmhi, utau, umu0, phi0, umu, phi, fbeam, fisot, albedo, btemp, ttemp, temis, earth_radius, h_lyr, rhoq, rhou, rho_accurate, bemst, emust, accur, header, rfldir, rfldn, flup, dfdt, uavg, uu, albmed, trnmed)\n",
    "else:\n",
    "    print(\"RECENT TIMING TESTS\")\n",
    "    print()\n",
    "    print(\"Intensity\")\n",
    "    print(\"1.57 s ± 114 ms per loop (mean ± std. dev. of 7 runs, 1 loop each)\")\n",
    "    print()\n",
    "    print(\"Only fluxes\")\n",
    "    print(\"11.7 ms ± 58.3 µs per loop (mean ± std. dev. of 7 runs, 100 loops each)\")"
   ]
  },
  {
   "cell_type": "markdown",
   "id": "abeb9eae",
   "metadata": {},
   "source": [
    "A surprisingly long time is taken by our F2PY-wrapped DISORT to compute the intensity at a large number of points."
   ]
  },
  {
   "cell_type": "markdown",
   "id": "aed4cb45",
   "metadata": {},
   "source": [
    "<!--bibtex\n",
    "\n",
    "@article{Sta1982,\n",
    "title = {On the computation of angular distributions of radiation in planetary atmospheres},\n",
    "journal = {Journal of Quantitative Spectroscopy and Radiative Transfer},\n",
    "volume = {28},\n",
    "number = {1},\n",
    "pages = {47-51},\n",
    "year = {1982},\n",
    "issn = {0022-4073},\n",
    "doi = {https://doi.org/10.1016/0022-4073(82)90096-6},\n",
    "url = {https://www.sciencedirect.com/science/article/pii/0022407382900966},\n",
    "author = {Knut Stamnes},\n",
    "abstract = {The discrete ordinate approximation to the radiative transfer equation is used to derive simple analytic expressions for the intensity in a vertically inhomogeneous plane parallel atmosphere. This approach allows one to compute the intensity at arbitrary depths and angles. The merit and soundness of these expressions, which are interpolatory in nature, are discussed and it is conjectured that they are superior to any other standard interpolation scheme as far as accuracy is concerned. The computational time also compares favorably with that of standard interpolation schemes such as cubic splines.}\n",
    "}\n",
    "\n",
    "@software{CM2020,\n",
    "author = {Connour, Kyle and Wolff, Michael},\n",
    "license = {BSD-3-Clause},\n",
    "title = {{pyRT_DISORT: A pre-processing front-end to help make DISORT simulations easier in Python}},\n",
    "url = {https://github.com/kconnour/pyRT_DISORT},\n",
    "version = {1.0.0},\n",
    "year={2020}\n",
    "}\n",
    "\n",
    "@inbook{Tre1996,\n",
    "  author    = {Trefethen, L. N.},\n",
    "  title     = {In Finite difference and spectral methods for ordinary and partial differential equations},\n",
    "  chapter   = {Chapter 8. Chebyshev spectral methods},\n",
    "  year      = {1996},\n",
    "  pages     = {260–300}\n",
    "}\n",
    "\n",
    "@article{NT1988,\n",
    "title = {Algorithms for radiative intensity calculations in moderately thick atmospheres using a truncation approximation},\n",
    "journal = {Journal of Quantitative Spectroscopy and Radiative Transfer},\n",
    "volume = {40},\n",
    "number = {1},\n",
    "pages = {51-69},\n",
    "year = {1988},\n",
    "issn = {0022-4073},\n",
    "doi = {10.1016/0022-4073(88)90031-3},\n",
    "url = {https://www.sciencedirect.com/science/article/pii/0022407388900313},\n",
    "author = {T. Nakajima and M. Tanaka},\n",
    "abstract = {The efficiency of numerical calculations is discussed for selected algorithms employing the discrete ordinate method and the truncation approximation for the solar radiative intensity in moderately thick, plane-parallel scattering atmospheres. It is found that truncation of the phase function causes a significant error in the computed intensity and the magnitude of this error depends significantly on how the intensity is retrieved from the truncated radiative transfer equation. A newly developed retrieval algorithm, the IMS- method, yields the intensity field with an error ⪅1% when the number of discrete path is as small as 10 in the hemisphere for aerosol-laden atmospheres with optical thickness ⪅1.}\n",
    "}\n",
    "\n",
    "@article{YTA1971,\n",
    "title = {Radiative heat transfer in water clouds by infrared radiation},\n",
    "journal = {Journal of Quantitative Spectroscopy and Radiative Transfer},\n",
    "volume = {11},\n",
    "number = {6},\n",
    "pages = {697-708},\n",
    "year = {1971},\n",
    "issn = {0022-4073},\n",
    "doi = {10.1016/0022-4073(71)90048-3},\n",
    "url = {https://www.sciencedirect.com/science/article/pii/0022407371900483},\n",
    "author = {Giichi Yamamoto and Masayuki Tanaka and Shoji Asano},\n",
    "abstract = {Radiative heat transfer in water clouds is studied by the method of discrete ordinates, taking into account not only scattering, absorption and emission by cloud droplets but also absorption and emission by water vapor in the cloud. According to Semuelson the method of discrete ordinates is not very amenable to studies involving the intermediate optical thickness, because of instabilities that are inherent in the method for the intermediate optical thickness. A method of avoiding these instabilities is shown in this paper. Numerical calculation for the spectral region from 5 to 40 μ was carried out on the model altostratus clouds, and that only for the window region on the model stratocumulus and nimbostratus clouds. The radiative temperature change in a very thin cloud is everywhere cooling. With increasing cloud thickness, however, the upper parts of the cloud undergo cooling, while the lower parts undergo heating. The rate of both heating and cooling is largest near the surface. In a semi-infinitely thick cloud the cloud top undergoes cooling at a rate of about 30°C/hr and effective cooling extends to about 100 m interior from the cloud boundary.}\n",
    "}\n",
    "\n",
    "@book{Cha1960, \n",
    "      author = \"S.  Chandrasekhar\",\n",
    "      title = \"Radiative Transfer\",\n",
    "      year = \"1960\",\n",
    "      publisher = \"Dover\",\n",
    "}\n",
    "\n",
    "@article{Wis1977,\n",
    "      author = \"W. J.  Wiscombe\",\n",
    "      title = \"The Delta–M Method: Rapid Yet Accurate Radiative Flux Calculations for Strongly Asymmetric Phase Functions\",\n",
    "      journal = \"Journal of Atmospheric Sciences\",\n",
    "      year = \"1977\",\n",
    "      publisher = \"American Meteorological Society\",\n",
    "      address = \"Boston MA, USA\",\n",
    "      volume = \"34\",\n",
    "      number = \"9\",\n",
    "      doi = \"10.1175/1520-0469(1977)034<1408:TDMRYA>2.0.CO;2\",\n",
    "      pages=      \"1408 - 1422\",\n",
    "      url = \"https://journals.ametsoc.org/view/journals/atsc/34/9/1520-0469_1977_034_1408_tdmrya_2_0_co_2.xml\"\n",
    "}\n",
    "\n",
    "@article{Syk1951,\n",
    "    author = {Sykes, J. B.},\n",
    "    title = \"{Approximate Integration of the Equation of Transfer}\",\n",
    "    journal = {Monthly Notices of the Royal Astronomical Society},\n",
    "    volume = {111},\n",
    "    number = {4},\n",
    "    pages = {377-386},\n",
    "    year = {1951},\n",
    "    month = {08},\n",
    "    abstract = \"{The value of numerical integration in obtaining approximate solutions of an equation of transfer, and the different methods at our disposal, are discussed. It is shown that although the Newton-Cotes method, used by Kourganoff, is better than the Gauss method, used by Chandrasekhar, both are inferior to a new method, the double-Gauss, discovered by the author. The errors in the approximate values of the source-function and the limb-darkening in all three methods are tabulated for various approximations, and illustrated by graphs.}\",\n",
    "    issn = {0035-8711},\n",
    "    doi = {10.1093/mnras/111.4.377},\n",
    "    url = {10.1093/mnras/111.4.377},\n",
    "    eprint = {https://academic.oup.com/mnras/article-pdf/111/4/377/8077435/mnras111-0377.pdf},\n",
    "}\n",
    "\n",
    "\n",
    "@article{STWJ1988,\n",
    "author = {Knut Stamnes and S-Chee Tsay and Warren Wiscombe and Kolf Jayaweera},\n",
    "journal = {Appl. Opt.},\n",
    "keywords = {Electromagnetic radiation; Multiple scattering; Optical depth; Radiative transfer; Reflection; Thermal emission},\n",
    "number = {12},\n",
    "pages = {2502--2509},\n",
    "publisher = {Optica Publishing Group},\n",
    "title = {Numerically stable algorithm for discrete-ordinate-method radiative transfer in multiple scattering and emitting layered media},\n",
    "volume = {27},\n",
    "month = {Jun},\n",
    "year = {1988},\n",
    "url = {http://opg.optica.org/ao/abstract.cfm?URI=ao-27-12-2502},\n",
    "doi = {10.1364/AO.27.002502},\n",
    "abstract = {We summarize an advanced, thoroughly documented, and quite general purpose discrete ordinate algorithm for time-independent transfer calculations in vertically inhomogeneous, nonisothermal, plane-parallel media. Atmospheric applications ranging from the UV to the radar region of the electromagnetic spectrum are possible. The physical processes included are thermal emission, scattering, absorption, and bidirectional reflection and emissionat the lower boundary. The medium may be forced at the top boundary by parallel or diffuse radiation and by internal and boundary thermal sources as well. We provide a brief account of the theoretical basis as well as a discussion of the numerical implementation of the theory. The recent advances made by ourselves and our collaborators---advances in both formulation and numerical solution---are all incorporated in the algorithm. Prominent among these advances are the complete conquest of two ill-conditioning problems which afflicted all previous discrete ordinate implementations: (1) the computation of eigenvalues and eigenvectors and (2) the inversion of the matrix determining the constants of integration. Copies of the fortran program on microcomputer diskettes are available for interested users.},\n",
    "}\n",
    "\n",
    "\n",
    "\n",
    "@article{STWLE2000,\n",
    "author = {Stamnes, Knut and Tsay, Si-Chee and Wiscombe, Warren and Laszlo, Istvan and Einaudi, Franco},\n",
    "year = {2000},\n",
    "month = {02},\n",
    "pages = {},\n",
    "title = {General Purpose Fortran Program for Discrete-Ordinate-Method Radiative Transfer in Scattering and Emitting Layered Media: An Update of DISORT}\n",
    "}\n",
    "\n",
    "@article{SS1981,\n",
    "      author = \"Knut  Stamnes and Roy A.  Swanson\",\n",
    "      title = \"A New Look at the Discrete Ordinate Method for Radiative Transfer Calculations in Anisotropically Scattering Atmospheres\",\n",
    "      journal = \"Journal of Atmospheric Sciences\",\n",
    "      year = \"1981\",\n",
    "      publisher = \"American Meteorological Society\",\n",
    "      address = \"Boston MA, USA\",\n",
    "      volume = \"38\",\n",
    "      number = \"2\",\n",
    "      doi = \"10.1175/1520-0469(1981)038<0387:ANLATD>2.0.CO;2\",\n",
    "      pages=      \"387 - 399\",\n",
    "      url = \"https://journals.ametsoc.org/view/journals/atsc/38/2/1520-0469_1981_038_0387_anlatd_2_0_co_2.xml\"\n",
    "}\n",
    "\n",
    "@article{SC1984,\n",
    "title = {A new multi-layer discrete ordinate approach to radiative transfer in vertically inhomogeneous atmospheres},\n",
    "journal = {Journal of Quantitative Spectroscopy and Radiative Transfer},\n",
    "volume = {31},\n",
    "number = {3},\n",
    "pages = {273-282},\n",
    "year = {1984},\n",
    "issn = {0022-4073},\n",
    "doi = {10.1016/0022-4073(84)90031-1},\n",
    "url = {https://www.sciencedirect.com/science/article/pii/0022407384900311},\n",
    "author = {Knut Stamnes and Paul Conklin},\n",
    "abstract = {A recently developed matrix formulation of the discrete ordinate method is extended for application to an inhomogeneous atmosphere. The solution yields fluxes, as well as the complete azimuthal dependence of the intensity at any level in the atmosphere. The numerical aspects of the solution are discussed and numerical verification is provided by comparing computed results with those obtained by other methods. In particular, it is shown that a simple scaling scheme, which removes the positive exponentials in the coefficient matrix when solving for the constants of integration, provides unconditionally stable solutions for arbitrary optical thicknesses. An assessment of the accuracy to be expected is also provided, and it is shown that low-order discrete ordinate approximations yield very accurate flux values.}\n",
    "}\n",
    "\n",
    "@article{MH2017,\n",
    "title = {A demonstration of adjoint methods for multi-dimensional remote sensing of the atmosphere and surface},\n",
    "journal = {Journal of Quantitative Spectroscopy and Radiative Transfer},\n",
    "volume = {204},\n",
    "pages = {215-231},\n",
    "year = {2018},\n",
    "issn = {0022-4073},\n",
    "doi = {10.1016/j.jqsrt.2017.09.031},\n",
    "url = {https://www.sciencedirect.com/science/article/pii/S0022407317305198},\n",
    "author = {William G.K. Martin and Otto P. Hasekamp},\n",
    "keywords = {Adjoint methods, Three-dimensional vector radiative transfer, Linearization, Remote sensing, Parameter derivatives, Searchlight functions},\n",
    "abstract = {In previous work, we derived the adjoint method as a computationally efficient path to three-dimensional (3D) retrievals of clouds and aerosols. In this paper we will demonstrate the use of adjoint methods for retrieving two-dimensional (2D) fields of cloud extinction. The demonstration uses a new 2D radiative transfer solver (FSDOM). This radiation code was augmented with adjoint methods to allow efficient derivative calculations needed to retrieve cloud and surface properties from multi-angle reflectance measurements. The code was then used in three synthetic retrieval studies. Our retrieval algorithm adjusts the cloud extinction field and surface albedo to minimize the measurement misfit function with a gradient-based, quasi-Newton approach. At each step we compute the value of the misfit function and its gradient with two calls to the solver FSDOM. First we solve the forward radiative transfer equation to compute the residual misfit with measurements, and second we solve the adjoint radiative transfer equation to compute the gradient of the misfit function with respect to all unknowns. The synthetic retrieval studies verify that adjoint methods are scalable to retrieval problems with many measurements and unknowns. We can retrieve the vertically-integrated optical depth of moderately thick clouds as a function of the horizontal coordinate. It is also possible to retrieve the vertical profile of clouds that are separated by clear regions. The vertical profile retrievals improve for smaller cloud fractions. This leads to the conclusion that cloud edges actually increase the amount of information that is available for retrieving the vertical profile of clouds. However, to exploit this information one must retrieve the horizontally heterogeneous cloud properties with a 2D (or 3D) model. This prototype shows that adjoint methods can efficiently compute the gradient of the misfit function. This work paves the way for the application of similar methods to 3D remote sensing problems.}\n",
    "}\n",
    "\n",
    "@article{MCB2014,\n",
    "title = {Adjoint methods for adjusting three-dimensional atmosphere and surface properties to fit multi-angle/multi-pixel polarimetric measurements},\n",
    "journal = {Journal of Quantitative Spectroscopy and Radiative Transfer},\n",
    "volume = {144},\n",
    "pages = {68-85},\n",
    "year = {2014},\n",
    "issn = {0022-4073},\n",
    "doi = {10.1016/j.jqsrt.2014.03.030},\n",
    "url = {https://www.sciencedirect.com/science/article/pii/S002240731400154X},\n",
    "author = {William Martin and Brian Cairns and Guillaume Bal},\n",
    "keywords = {Adjoint methods, Three-dimensional vector radiative transfer, Linearization, Remote sensing, Parameter derivatives},\n",
    "abstract = {This paper derives an efficient procedure for using the three-dimensional (3D) vector radiative transfer equation (VRTE) to adjust atmosphere and surface properties and improve their fit with multi-angle/multi-pixel radiometric and polarimetric measurements of scattered sunlight. The proposed adjoint method uses the 3D VRTE to compute the measurement misfit function and the adjoint 3D VRTE to compute its gradient with respect to all unknown parameters. In the remote sensing problems of interest, the scalar-valued misfit function quantifies agreement with data as a function of atmosphere and surface properties, and its gradient guides the search through this parameter space. Remote sensing of the atmosphere and surface in a three-dimensional region may require thousands of unknown parameters and millions of data points. Many approaches would require calls to the 3D VRTE solver in proportion to the number of unknown parameters or measurements. To avoid this issue of scale, we focus on computing the gradient of the misfit function as an alternative to the Jacobian of the measurement operator. The resulting adjoint method provides a way to adjust 3D atmosphere and surface properties with only two calls to the 3D VRTE solver for each spectral channel, regardless of the number of retrieval parameters, measurement view angles or pixels. This gives a procedure for adjusting atmosphere and surface parameters that will scale to the large problems of 3D remote sensing. For certain types of multi-angle/multi-pixel polarimetric measurements, this encourages the development of a new class of three-dimensional retrieval algorithms with more flexible parametrizations of spatial heterogeneity, less reliance on data screening procedures, and improved coverage in terms of the resolved physical processes in the Earth׳s atmosphere.}\n",
    "}\n",
    "\n",
    "@article{LSJLTWS2015,\n",
    "title = {Improved discrete ordinate solutions in the presence of an anisotropically reflecting lower boundary: Upgrades of the DISORT computational tool},\n",
    "journal = {Journal of Quantitative Spectroscopy and Radiative Transfer},\n",
    "volume = {157},\n",
    "pages = {119-134},\n",
    "year = {2015},\n",
    "issn = {0022-4073},\n",
    "doi = {10.1016/j.jqsrt.2015.02.014},\n",
    "url = {https://www.sciencedirect.com/science/article/pii/S0022407315000679},\n",
    "author = {Z. Lin and S. Stamnes and Z. Jin and I. Laszlo and S.-C. Tsay and W.J. Wiscombe and K. Stamnes},\n",
    "keywords = {Radiative transfer model, BRDF, Cox–Munk, Ross–Li, RPV, Single scattering correction},\n",
    "abstract = {A successor version 3 of DISORT (DISORT3) is presented with important upgrades that improve the accuracy, efficiency, and stability of the algorithm. Compared with version 2 (DISORT2 released in 2000) these upgrades include (a) a redesigned BRDF computation that improves both speed and accuracy, (b) a revised treatment of the single scattering correction, and (c) additional efficiency and stability upgrades for beam sources. In DISORT3 the BRDF computation is improved in the following three ways: (i) the Fourier decomposition is prepared “off-line”, thus avoiding the repeated internal computations done in DISORT2; (ii) a large enough number of terms in the Fourier expansion of the BRDF is employed to guarantee accurate values of the expansion coefficients (default is 200 instead of 50 in DISORT2); (iii) in the post-processing step the reflection of the direct attenuated beam from the lower boundary is included resulting in a more accurate single scattering correction. These improvements in the treatment of the BRDF have led to improved accuracy and a several-fold increase in speed. In addition, the stability of beam sources has been improved by removing a singularity occurring when the cosine of the incident beam angle is too close to the reciprocal of any of the eigenvalues. The efficiency for beam sources has been further improved from reducing by a factor of 2 (compared to DISORT2) the dimension of the linear system of equations that must be solved to obtain the particular solutions, and by replacing the LINPAK routines used in DISORT2 by LAPACK 3.5 in DISORT3. These beam source stability and efficiency upgrades bring enhanced stability and an additional 5–7% improvement in speed. Numerical results are provided to demonstrate and quantify the improvements in accuracy and efficiency of DISORT3 compared to DISORT2.}\n",
    "}\n",
    "\n",
    "@article {JWW1976,\n",
    "      author = \"J. H.  Joseph and W. J.  Wiscombe and J. A.  Weinman\",\n",
    "      title = \"The Delta-Eddington Approximation for Radiative Flux Transfer\",\n",
    "      journal = \"Journal of Atmospheric Sciences\",\n",
    "      year = \"1976\",\n",
    "      publisher = \"American Meteorological Society\",\n",
    "      address = \"Boston MA, USA\",\n",
    "      volume = \"33\",\n",
    "      number = \"12\",\n",
    "      doi = \"10.1175/1520-0469(1976)033<2452:TDEAFR>2.0.CO;2\",\n",
    "      pages=      \"2452 - 2459\",\n",
    "      url = \"https://journals.ametsoc.org/view/journals/atsc/33/12/1520-0469_1976_033_2452_tdeafr_2_0_co_2.xml\"\n",
    "}\n",
    "\n",
    "@Article{HMMNPW2017,\n",
    "AUTHOR = {Hase, N. and Miller, S. M. and Maa{\\ss}, P. and Notholt, J. and Palm, M. and Warneke, T.},\n",
    "TITLE = {Atmospheric inverse modeling via sparse reconstruction},\n",
    "JOURNAL = {Geoscientific Model Development},\n",
    "VOLUME = {10},\n",
    "YEAR = {2017},\n",
    "NUMBER = {10},\n",
    "PAGES = {3695--3713},\n",
    "URL = {https://gmd.copernicus.org/articles/10/3695/2017/},\n",
    "DOI = {10.5194/gmd-10-3695-2017}\n",
    "}\n",
    "\n",
    "@article {FL1992,\n",
    "      author = \"Qiang  Fu and K. N.  Liou\",\n",
    "      title = \"On the Correlated k-Distribution Method for Radiative Transfer in Nonhomogeneous Atmospheres\",\n",
    "      journal = \"Journal of Atmospheric Sciences\",\n",
    "      year = \"1992\",\n",
    "      publisher = \"American Meteorological Society\",\n",
    "      address = \"Boston MA, USA\",\n",
    "      volume = \"49\",\n",
    "      number = \"22\",\n",
    "      doi = \"10.1175/1520-0469(1992)049<2139:OTCDMF>2.0.CO;2\",\n",
    "      pages=      \"2139 - 2156\",\n",
    "      url = \"https://journals.ametsoc.org/view/journals/atsc/49/22/1520-0469_1992_049_2139_otcdmf_2_0_co_2.xml\"\n",
    "}\n",
    "\n",
    "@inproceedings{FJ1999,\n",
    "  title={Computer-based underwater imaging analysis},\n",
    "  author={Georges R. Fournier and Miroslaw Jonasz},\n",
    "  booktitle={Optics \\& Photonics},\n",
    "  year={1999}\n",
    "}\n",
    "\n",
    "@article{DM2010,\n",
    "\tdoi = {10.1088/0034-4885/73/2/026801},\n",
    "\turl = {10.1088/0034-4885/73/2/026801},\n",
    "\tyear = 2010,\n",
    "\tmonth = {jan},\n",
    "\tpublisher = {{IOP} Publishing},\n",
    "\tvolume = {73},\n",
    "\tnumber = {2},\n",
    "\tpages = {026801},\n",
    "\tauthor = {Anthony B Davis and Alexander Marshak},\n",
    "\ttitle = {Solar radiation transport in the cloudy atmosphere: a 3D perspective on observations and climate impacts},\n",
    "\tjournal = {Reports on Progress in Physics},\n",
    "\tabstract = {The interplay of sunlight with clouds is a ubiquitous and often pleasant visual experience, but it conjures up major challenges for weather, climate, environmental science and beyond. Those engaged in the characterization of clouds (and the clear air nearby) by remote sensing methods are even more confronted. The problem comes, on the one hand, from the spatial complexity of real clouds and, on the other hand, from the dominance of multiple scattering in the radiation transport. The former ingredient contrasts sharply with the still popular representation of clouds as homogeneous plane-parallel slabs for the purposes of radiative transfer computations. In typical cloud scenes the opposite asymptotic transport regimes of diffusion and ballistic propagation coexist. We survey the three-dimensional (3D) atmospheric radiative transfer literature over the past 50 years and identify three concurrent and intertwining thrusts: first, how to assess the damage (bias) caused by 3D effects in the operational 1D radiative transfer models? Second, how to mitigate this damage? Finally, can we exploit 3D radiative transfer phenomena to innovate observation methods and technologies? We quickly realize that the smallest scale resolved computationally or observationally may be artificial but is nonetheless a key quantity that separates the 3D radiative transfer solutions into two broad and complementary classes: stochastic and deterministic. Both approaches draw on classic and contemporary statistical, mathematical and computational physics.}\n",
    "}\n",
    "\n",
    "@article{DFDM2021,\n",
    "      author = \"Linda Forster and Anthony B. Davis and David J. Diner and Bernhard Mayer\",\n",
    "      title = \"Toward Cloud Tomography from Space Using MISR and MODIS: Locating the “Veiled Core” in Opaque Convective Clouds\",\n",
    "      journal = \"Journal of the Atmospheric Sciences\",\n",
    "      year = \"2021\",\n",
    "      publisher = \"American Meteorological Society\",\n",
    "      address = \"Boston MA, USA\",\n",
    "      volume = \"78\",\n",
    "      number = \"1\",\n",
    "      doi = \"10.1175/JAS-D-19-0262.1\",\n",
    "      pages=      \"155 - 166\",\n",
    "      url = \"https://journals.ametsoc.org/view/journals/atsc/78/1/jas-d-19-0262.1.xml\"\n",
    "}\n",
    "\n",
    "@article{DDET2022,\n",
    "title = {Cloud tomographic retrieval algorithms. I: Surrogate minimization method},\n",
    "journal = {Journal of Quantitative Spectroscopy and Radiative Transfer},\n",
    "volume = {277},\n",
    "pages = {107954},\n",
    "year = {2022},\n",
    "issn = {0022-4073},\n",
    "doi = {10.1016/j.jqsrt.2021.107954},\n",
    "url = {https://www.sciencedirect.com/science/article/pii/S0022407321004465},\n",
    "author = {Adrian Doicu and Alexandru Doicu and Dmitry Efremenko and Thomas Trautmann},\n",
    "keywords = {Cloud tomographic retrieval, Multi-dimensional models},\n",
    "abstract = {A cloud tomographic retrieval algorithm relying on (i) the spherical harmonics discrete ordinate method for computing the radiative transfer and (ii) the surrogate minimization method for solving the inverse problem has been designed. The retrieval algorithm uses regularization, accelerated projected gradient methods, and two types of surrogate functions. The performances of the retrieval algorithm are analyzed on a few synthetic two- and three-dimensional problems.}\n",
    "}\n",
    "\n",
    "@misc{Sta1999, \n",
    "\ttitle={LLLab disort website}, \n",
    "\turl={http://www.rtatmocn.com/disort/}, \n",
    "\tjournal={Light and Life Lab (LLLab)}, \n",
    "\tauthor={Stamnes, S.}, \n",
    "\tyear={1999}\n",
    "} \n",
    "\n",
    "@INPROCEEDINGS{ALHSAV2020,\n",
    "  author={Aides, Amit and Levis, Aviad and Holodovsky, Vadim and Schechner, Yoav Y. and Althausen, Dietrich and Vainiger, Adi},\n",
    "  booktitle={2020 IEEE International Conference on Computational Photography (ICCP)}, \n",
    "  title={Distributed Sky Imaging Radiometry and Tomography}, \n",
    "  year={2020},\n",
    "  volume={},\n",
    "  number={},\n",
    "  pages={1-12},\n",
    "  doi={10.1109/ICCP48838.2020.9105241}}\n",
    "\n",
    "@article {MW1980,\n",
    "      author = \"W. E.  Meador and W. R.  Weaver\",\n",
    "      title = \"Two-Stream Approximations to Radiative Transfer in Planetary Atmospheres: A Unified Description of Existing Methods and a New Improvement\",\n",
    "      journal = \"Journal of Atmospheric Sciences\",\n",
    "      year = \"1980\",\n",
    "      publisher = \"American Meteorological Society\",\n",
    "      address = \"Boston MA, USA\",\n",
    "      volume = \"37\",\n",
    "      number = \"3\",\n",
    "      doi = \"10.1175/1520-0469(1980)037<0630:TSATRT>2.0.CO;2\",\n",
    "      pages=      \"630 - 643\",\n",
    "      url = \"https://journals.ametsoc.org/view/journals/atsc/37/3/1520-0469_1980_037_0630_tsatrt_2_0_co_2.xml\"\n",
    "}\n",
    "\n",
    "\n",
    "-->"
   ]
  },
  {
   "cell_type": "markdown",
   "id": "5d518f59",
   "metadata": {},
   "source": [
    "# References\n",
    "\n",
    "**1)** <a id=\"cite-STWJ1988\"/><sup><a href=#ref-1>[^]</a><a href=#ref-3>[^]</a><a href=#ref-10>[^]</a><a href=#ref-19>[^]</a><a href=#ref-22>[^]</a><a href=#ref-29>[^]</a><a href=#ref-49>[^]</a></sup>Knut Stamnes and S-Chee Tsay and Warren Wiscombe and Kolf Jayaweera. 1988. _Numerically stable algorithm for discrete-ordinate-method radiative transfer in multiple scattering and emitting layered media_. [URL](http://opg.optica.org/ao/abstract.cfm?URI=ao-27-12-2502)\n",
    "\n",
    "**2)** <a id=\"cite-Cha1960\"/><sup><a href=#ref-2>[^]</a><a href=#ref-24>[^]</a></sup>S.  Chandrasekhar. 1960. _Radiative Transfer_.\n",
    "\n",
    "**3)** <a id=\"cite-Sta1999\"/><sup><a href=#ref-4>[^]</a><a href=#ref-5>[^]</a><a href=#ref-7>[^]</a><a href=#ref-8>[^]</a><a href=#ref-9>[^]</a><a href=#ref-12>[^]</a><a href=#ref-14>[^]</a><a href=#ref-15>[^]</a><a href=#ref-16>[^]</a><a href=#ref-17>[^]</a><a href=#ref-27>[^]</a><a href=#ref-50>[^]</a><a href=#ref-52>[^]</a><a href=#ref-53>[^]</a></sup>Stamnes, S.. 1999. _LLLab disort website_. [URL](http://www.rtatmocn.com/disort/)\n",
    "\n",
    "**4)** <a id=\"cite-SC1984\"/><sup><a href=#ref-6>[^]</a><a href=#ref-32>[^]</a><a href=#ref-48>[^]</a></sup>Knut Stamnes and Paul Conklin. 1984. _A new multi-layer discrete ordinate approach to radiative transfer in vertically inhomogeneous atmospheres_. [URL](https://www.sciencedirect.com/science/article/pii/0022407384900311)\n",
    "\n",
    "**5)** <a id=\"cite-Wis1977\"/><sup><a href=#ref-11>[^]</a><a href=#ref-20>[^]</a></sup>W. J.  Wiscombe. 1977. _The Delta–M Method: Rapid Yet Accurate Radiative Flux Calculations for Strongly Asymmetric Phase Functions_. [URL](https://journals.ametsoc.org/view/journals/atsc/34/9/1520-0469_1977_034_1408_tdmrya_2_0_co_2.xml)\n",
    "\n",
    "**6)** <a id=\"cite-JWW1976\"/><sup><a href=#ref-13>[^]</a><a href=#ref-21>[^]</a></sup>J. H.  Joseph and W. J.  Wiscombe and J. A.  Weinman. 1976. _The Delta-Eddington Approximation for Radiative Flux Transfer_. [URL](https://journals.ametsoc.org/view/journals/atsc/33/12/1520-0469_1976_033_2452_tdeafr_2_0_co_2.xml)\n",
    "\n",
    "**7)** <a id=\"cite-Syk1951\"/><sup><a href=#ref-23>[^]</a><a href=#ref-26>[^]</a></sup>Sykes, J. B.. 1951. _Approximate Integration of the Equation of Transfer_. [URL](10.1093/mnras/111.4.377)\n",
    "\n",
    "**8)** <a id=\"cite-STWLE2000\"/><sup><a href=#ref-25>[^]</a><a href=#ref-28>[^]</a><a href=#ref-35>[^]</a><a href=#ref-36>[^]</a><a href=#ref-38>[^]</a><a href=#ref-39>[^]</a><a href=#ref-40>[^]</a><a href=#ref-42>[^]</a><a href=#ref-43>[^]</a><a href=#ref-44>[^]</a><a href=#ref-45>[^]</a></sup>Stamnes, Knut and Tsay, Si-Chee and Wiscombe, Warren and Laszlo, Istvan and Einaudi, Franco. 2000. _General Purpose Fortran Program for Discrete-Ordinate-Method Radiative Transfer in Scattering and Emitting Layered Media: An Update of DISORT_.\n",
    "\n",
    "**9)** <a id=\"cite-LSJLTWS2015\"/><sup><a href=#ref-30>[^]</a><a href=#ref-31>[^]</a><a href=#ref-46>[^]</a><a href=#ref-47>[^]</a></sup>Z. Lin and S. Stamnes and Z. Jin and I. Laszlo and S.-C. Tsay and W.J. Wiscombe and K. Stamnes. 2015. _Improved discrete ordinate solutions in the presence of an anisotropically reflecting lower boundary: Upgrades of the DISORT computational tool_. [URL](https://www.sciencedirect.com/science/article/pii/S0022407315000679)\n",
    "\n",
    "**10)** <a id=\"cite-Tre1996\"/><sup><a href=#ref-33>[^]</a></sup>Trefethen, L. N.. 1996. _In Finite difference and spectral methods for ordinary and partial differential equations_.\n",
    "\n",
    "**11)** <a id=\"cite-Sta1982\"/><sup><a href=#ref-34>[^]</a></sup>Knut Stamnes. 1982. _On the computation of angular distributions of radiation in planetary atmospheres_. [URL](https://www.sciencedirect.com/science/article/pii/0022407382900966)\n",
    "\n",
    "**12)** <a id=\"cite-NT1988\"/><sup><a href=#ref-37>[^]</a><a href=#ref-41>[^]</a></sup>T. Nakajima and M. Tanaka. 1988. _Algorithms for radiative intensity calculations in moderately thick atmospheres using a truncation approximation_. [URL](https://www.sciencedirect.com/science/article/pii/0022407388900313)\n",
    "\n",
    "**13)** <a id=\"cite-CM2020\"/><sup><a href=#ref-51>[^]</a></sup>Connour, Kyle and Wolff, Michael. 2020. _pyRT_DISORT: A pre-processing front-end to help make DISORT simulations easier in Python_. [URL](https://github.com/kconnour/pyRT_DISORT)\n",
    "\n"
   ]
  }
 ],
 "metadata": {
  "hide_input": false,
  "kernelspec": {
   "display_name": "Python 3 (ipykernel)",
   "language": "python",
   "name": "python3"
  },
  "language_info": {
   "codemirror_mode": {
    "name": "ipython",
    "version": 3
   },
   "file_extension": ".py",
   "mimetype": "text/x-python",
   "name": "python",
   "nbconvert_exporter": "python",
   "pygments_lexer": "ipython3",
   "version": "3.13.0"
  }
 },
 "nbformat": 4,
 "nbformat_minor": 5
}
