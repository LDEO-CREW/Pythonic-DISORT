{
 "cells": [
  {
   "cell_type": "markdown",
   "id": "9c2ae25a",
   "metadata": {},
   "source": [
    "# Solving the radiative transfer equation for a single atmospheric layer using the discrete ordinates method in Python"
   ]
  },
  {
   "cell_type": "markdown",
   "id": "7650e02f",
   "metadata": {
    "hide_input": true
   },
   "source": [
    "by Dion Ho Jia Xu"
   ]
  },
  {
   "cell_type": "code",
   "execution_count": 1,
   "id": "d438e85f",
   "metadata": {
    "format": "row"
   },
   "outputs": [],
   "source": [
    "import numpy as np\n",
    "import scipy as sc\n",
    "\n",
    "from math import pi\n",
    "from numpy.polynomial import legendre\n",
    "from scipy import fft\n",
    "from scipy import integrate"
   ]
  },
  {
   "cell_type": "markdown",
   "id": "e7cd6607",
   "metadata": {},
   "source": [
    "# Table of Contents\n",
    "* [1. List of parameters to set](#1.-List-of-parameters-to-set)\n",
    "\t* [1.1 Hyperparameter list (excludes phase function) (TODO)](#1.1-Hyperparameter-list-%28excludes-phase-function%29-%28TODO%29)\n",
    "\t* [1.2 Computational variable list](#1.2-Computational-variable-list)\n",
    "\t* [1.3 Legendre expansion of the phase function](#1.3-Legendre-expansion-of-the-phase-function)\n",
    "\t\t* [1.3.1 Phase functions (TODO)](#1.3.1-Phase-functions-%28TODO%29)\n",
    "* [2. PyDISORT algorithm](#2.-PyDISORT-algorithm)\n",
    "\t* [2.1 Subroutines](#2.1-Subroutines)\n",
    "\t* [2.2 Main algorithm](#2.2-Main-algorithm)\n",
    "\t* [2.3 Breakdown and verification of PyDISORT](#2.3-Breakdown-and-verification-of-PyDISORT)\n",
    "\t\t* [2.3.1 Re-derivation of equations (6a) to (6d) in [1]](#2.3.1-Re-derivation-of-equations-%286a%29-to-%286d%29-in-[[1]])\n",
    "\t\t* [2.3.2 Re-derivation of equations (7a) and (7b) in [1]](#2.3.2-Re-derivation-of-equations-%287a%29-and-%287b%29-in-[[1]])\n",
    "\t\t* [2.3.3 Solving the system for each Fourier mode](#2.3.3-Solving-the-system-for-each-Fourier-mode)\n",
    "\t\t* [2.3.4 Constructing the general solution for each Fourier mode](#2.3.4-Constructing-the-general-solution-for-each-Fourier-mode)\n",
    "\t\t\t* [2.3.4.1 Verification of the general solution for one Fourier mode](#2.3.4.1-Verification-of-the-general-solution-for-one-Fourier-mode)\n",
    "\t\t* [2.3.5 The full solution and computation of flux, reflectivity, transmittivity](#2.3.5-The-full-solution-and-computation-of-flux,-reflectivity,-transmittivity)\n",
    "\t\t\t* [2.3.5.1 Verification of full solution](#2.3.5.1-Verification-of-full-solution)\n",
    "\t\t\t* [2.3.5.2 Verification of flux, reflectivity, transmittivity (TODO)](#2.3.5.2-Verification-of-flux,-reflectivity,-transmittivity-%28TODO%29)\n",
    "\t\t\t* [2.3.5.3 Timing PyDISORT](#2.3.5.3-Timing-PyDISORT)\n"
   ]
  },
  {
   "cell_type": "markdown",
   "id": "1252f792",
   "metadata": {},
   "source": [
    "We wish to solve the radiative transfer equation\n",
    "\n",
    "\\begin{align*}\n",
    "\\mu \\frac{\\partial u(\\tau, \\mu, \\phi)}{\\partial \\tau} = \\ u(\\tau, \\mu, \\phi) &-\\frac{\\omega_0}{4 \\pi} \\int_{-1}^{1} \\int_{0}^{2 \\pi} p\\left(\\mu, \\phi ; \\mu', \\phi'\\right) u\\left(\\tau, \\mu', \\phi'\\right) \\mathrm{d} \\phi' \\mathrm{d} \\mu' \\\\\n",
    "&-\\frac{\\omega_0 I_0}{4 \\pi} p\\left(\\mu, \\phi ;-\\mu_{0}, \\phi_{0}\\right) \\exp\\left(-\\mu_{0}^{-1} \\tau\\right)\n",
    "\\end{align*}\n",
    "\n",
    "with Dirichlet boundary conditions. This will be done numerically using the Discrete Ordinates Method."
   ]
  },
  {
   "cell_type": "markdown",
   "id": "66dde436",
   "metadata": {},
   "source": [
    "============================================== Start of required user input ==================================================="
   ]
  },
  {
   "cell_type": "markdown",
   "id": "ff99ba1a",
   "metadata": {},
   "source": [
    "# 1. List of parameters to set"
   ]
  },
  {
   "cell_type": "markdown",
   "id": "1d52f3ac",
   "metadata": {},
   "source": [
    "## 1.1 Hyperparameter list (excludes phase function) (TODO)"
   ]
  },
  {
   "cell_type": "markdown",
   "id": "27764183",
   "metadata": {},
   "source": [
    "The variable names generally follow those in Stamnes et. al.'s seminal 1988 paper [[1]](#cite-STWJ1988), with the equivalent variable in their DISORT code [[2]](#cite-Sta1999) in brackets."
   ]
  },
  {
   "cell_type": "markdown",
   "id": "5f10e74f",
   "metadata": {},
   "source": [
    "* Optical depth (DTAUC), i.e. bottom of atmosphere as we define the top to be $\\tau = 0$."
   ]
  },
  {
   "cell_type": "code",
   "execution_count": 2,
   "id": "1f555ceb",
   "metadata": {},
   "outputs": [],
   "source": [
    "tau_prime = (25 / 8) * (10**-2)  # There may be ill-conditioning if tau_prime > 1"
   ]
  },
  {
   "cell_type": "markdown",
   "id": "4ed18f9d",
   "metadata": {},
   "source": [
    "*TODO: Implement the scheme by Yamamoto et al. (1971) to address potential ill-conditioning if `tau_prime` $> 1$? See [[3]](#cite-SS1981) as a first reference*"
   ]
  },
  {
   "cell_type": "markdown",
   "id": "9a7cb9f8",
   "metadata": {},
   "source": [
    "* Single-scattering albedo (SSALB). We assume independence from $\\tau$. The permissible range of values is $[0,1)$."
   ]
  },
  {
   "cell_type": "code",
   "execution_count": 3,
   "id": "da1154a5",
   "metadata": {},
   "outputs": [],
   "source": [
    "w0 = 0.2"
   ]
  },
  {
   "cell_type": "code",
   "execution_count": 4,
   "id": "7fe4b5bf",
   "metadata": {},
   "outputs": [],
   "source": [
    "assert w0 >= 0\n",
    "assert w0 < 1"
   ]
  },
  {
   "cell_type": "markdown",
   "id": "88d2926d",
   "metadata": {},
   "source": [
    "* Parameters for the incident collimated beam "
   ]
  },
  {
   "cell_type": "code",
   "execution_count": 5,
   "id": "52dafd3a",
   "metadata": {},
   "outputs": [],
   "source": [
    "# Intensity (FBEAM)\n",
    "I0 = 10 * pi\n",
    "# Cosine of polar angle (UMU0)\n",
    "mu0 = pi / 4\n",
    "# Azimuthal angle (PHI0)\n",
    "phi0 = pi / 3"
   ]
  },
  {
   "cell_type": "markdown",
   "id": "265b83a4",
   "metadata": {},
   "source": [
    " * Array of $\\mu$-varying Dirichlet boundary conditions for Fourier modes (No direct equivalent in Stamnes' DISORT [[2]](#cite-Sta1999), but see variable *IBCND*). Computational variables `NLeg` and `NQuad` are specified below.\n",
    "\n",
    "$$\n",
    "u(0, -\\mu_i, \\phi) = b^-_i \\sum_{m = 0}^{\\mbox{NLeg}}\\cos(m(\\phi_0 - \\phi)), \\quad u\\left(\\tau', \\mu_i, \\phi \\right) = b^+_i \\sum_{m = 0}^{\\mbox{NLeg}}\\cos(m(\\phi_0 - \\phi)), \\quad i = 1, \\dots, \\mbox{NQuad}\n",
    "$$\n",
    "\n",
    "The hemispheric flux contribution of each BC is $\\pi b^\\pm$."
   ]
  },
  {
   "cell_type": "code",
   "execution_count": 6,
   "id": "8c2bd769",
   "metadata": {},
   "outputs": [],
   "source": [
    "# At top of atmosphere\n",
    "b_neg = 0\n",
    "\n",
    "# At bottom of atmosphere\n",
    "b_pos = 0"
   ]
  },
  {
   "cell_type": "markdown",
   "id": "0d22111d",
   "metadata": {},
   "source": [
    "* Whether to only compute flux values (ONLYFL). If `True`, `PyDISORT` will be much faster because we will only need to solve the $0$th Fourier mode integro-differential equation; see Sections [2.3.2](#2.3.2-Re-derivation-of-equations-%287a%29-and-%287b%29-in-[[1]]) and [2.3.5](#2.3.5-The-full-solution-and-computation-of-flux,-reflectivity,-transmittivity)."
   ]
  },
  {
   "cell_type": "code",
   "execution_count": 7,
   "id": "58e038c2",
   "metadata": {},
   "outputs": [],
   "source": [
    "only_flux = False"
   ]
  },
  {
   "cell_type": "markdown",
   "id": "855af7bc",
   "metadata": {},
   "source": [
    "## 1.2 Computational variable list"
   ]
  },
  {
   "cell_type": "markdown",
   "id": "e63b1f84",
   "metadata": {},
   "source": [
    "* Number of Legendre coefficients for the phase function (NMOM). Equal to the number of Fourier modes."
   ]
  },
  {
   "cell_type": "code",
   "execution_count": 8,
   "id": "d329e9ff",
   "metadata": {},
   "outputs": [],
   "source": [
    "NLeg = 32"
   ]
  },
  {
   "cell_type": "markdown",
   "id": "70d51344",
   "metadata": {},
   "source": [
    "* Number of evaluation points for quadrature approximation of the polar or $\\mu$ integral (NSTR). This parameter is also known as the number of \"streams\"."
   ]
  },
  {
   "cell_type": "code",
   "execution_count": 9,
   "id": "70938256",
   "metadata": {},
   "outputs": [],
   "source": [
    "NQuad = 32"
   ]
  },
  {
   "cell_type": "markdown",
   "id": "a8566fa0",
   "metadata": {},
   "source": [
    "`NQuad` is required to be greater than $2$, even, and less than or equal to `NLeg`. It is generally a good idea to have `NQuad` = `NLeg`."
   ]
  },
  {
   "cell_type": "code",
   "execution_count": 10,
   "id": "98ff8911",
   "metadata": {},
   "outputs": [],
   "source": [
    "assert NQuad > 2\n",
    "assert NQuad % 2 == 0\n",
    "assert NQuad <= NLeg"
   ]
  },
  {
   "cell_type": "markdown",
   "id": "4f834616",
   "metadata": {},
   "source": [
    "## 1.3 Legendre expansion of the phase function"
   ]
  },
  {
   "cell_type": "markdown",
   "id": "59d5c631",
   "metadata": {},
   "source": [
    "Following the method in [[1]](#cite-STWJ1988) but with slightly different notations and definitions, we expand the phase function\n",
    "\n",
    "$$\n",
    "p(\\cos\\gamma) \\approx \\sum_{\\ell=0} g_\\ell P_\\ell(\\cos\\gamma), \\quad g_\\ell = \\frac{2\\ell + 1}{2}\\int_{-1}^{1} p(\\cos\\gamma) P_\\ell(\\cos\\gamma) \\mathrm{d}\\cos\\gamma\n",
    "$$"
   ]
  },
  {
   "cell_type": "markdown",
   "id": "05020faa",
   "metadata": {},
   "source": [
    "The angle $\\gamma$ is between the incident vector $\\left(\\theta', \\phi'\\right)$ and the scattering vector $(\\theta, \\phi)$ such that\n",
    "\n",
    "$$\n",
    "\\cos\\gamma = \\cos\\theta'\\cos\\theta + \\sin\\theta'\\sin\\theta\\cos\\left(\\phi'-\\phi\\right)\n",
    "$$\n",
    "\n",
    "and so by the addition theorem for spherical harmonics\n",
    "\n",
    "$$\n",
    "P_\\ell(\\cos\\gamma) = P_\\ell\\left(\\cos\\theta'\\right)P_\\ell(\\cos\\theta) + 2\\sum_{m=1}^\\ell \\frac{(\\ell-m)!}{(\\ell+m)!}P_\\ell^m\\left(\\cos\\theta'\\right)P_\\ell^m(\\cos\\theta)\\cos\\left(m\\left(\\phi'-\\phi\\right)\\right)\n",
    "$$"
   ]
  },
  {
   "cell_type": "markdown",
   "id": "49d29fc7",
   "metadata": {},
   "source": [
    "### 1.3.1 Phase functions (TODO)"
   ]
  },
  {
   "cell_type": "markdown",
   "id": "843eb5b7",
   "metadata": {},
   "source": [
    "Phase functions in Stamnes' DISORT [[2]](#cite-Sta1999):\n",
    "\n",
    "    1) Isotropic\n",
    "    2) Rayleigh\n",
    "    3) Henyey-Greenstein with asymmetry factor GG\n",
    "    4) Haze L as specified by Garcia/Siewert\n",
    "    5) Cloud C.1 as specified by Garcia/Siewert\n",
    "    6) Aerosol as specified by Kokhanovsky \n",
    "    7) Cloud as specified by Kokhanovsky"
   ]
  },
  {
   "cell_type": "markdown",
   "id": "5a04bb03",
   "metadata": {},
   "source": [
    "**Henyey-Greenstein phase function**"
   ]
  },
  {
   "cell_type": "markdown",
   "id": "962d17ec",
   "metadata": {},
   "source": [
    "The exact definition varies between sources by a constant factor. The definition here follows [[1]](#cite-STWJ1988), though the phase function is not explicitly defined in the paper."
   ]
  },
  {
   "cell_type": "markdown",
   "id": "ab39f82f",
   "metadata": {},
   "source": [
    "$$\\frac{1-g^2}{\\left(1+g^2-2 g \\cos \\gamma\\right)^{3 / 2}}$$"
   ]
  },
  {
   "cell_type": "markdown",
   "id": "18e61849",
   "metadata": {},
   "source": [
    "*TODO: Implement delta-scaled HG function (follow [[4]](#cite-JWW1976) & [[5]](#cite-Wis1977)?)*"
   ]
  },
  {
   "cell_type": "markdown",
   "id": "0c55f15d",
   "metadata": {},
   "source": [
    "* Asymmetry factor (GG)"
   ]
  },
  {
   "cell_type": "code",
   "execution_count": 11,
   "id": "d62297c9",
   "metadata": {},
   "outputs": [],
   "source": [
    "g = 0.75"
   ]
  },
  {
   "cell_type": "markdown",
   "id": "cb51c848",
   "metadata": {},
   "source": [
    "* Phase function\n",
    "\n",
    "`p_HG_nu` is equivalent to `p_HG` except that it uses $\\nu = \\cos\\gamma$. `p_HG_muphi` is also equivalent except that it uses\n",
    "\n",
    "$$\n",
    "\\cos\\gamma = \\cos\\theta'\\cos\\theta + \\sin\\theta'\\sin\\theta\\cos\\left(\\phi'-\\phi\\right)\n",
    "$$\n",
    "\n",
    "and $\\mu = \\cos\\theta$, $\\mu' = \\cos\\theta'$; see [[6]](#cite-MW1980) but note that $\\omega_0$ is outside our phase function."
   ]
  },
  {
   "cell_type": "code",
   "execution_count": 12,
   "id": "31dcb77c",
   "metadata": {},
   "outputs": [],
   "source": [
    "p_HG = lambda gamma: (1 - g**2) / ((1 + g**2 - 2 * g * np.cos(gamma)) ** (3 / 2))\n",
    "p_HG_nu = lambda nu: (1 - g**2) / ((1 + g**2 - 2 * g * nu) ** (3 / 2))\n",
    "\n",
    "def p_HG_muphi(mu, phi, mu_p, phi_p):\n",
    "    mu, phi, mu_p, phi_p = np.atleast_1d(mu, phi, mu_p, phi_p)\n",
    "    return np.squeeze(\n",
    "        (1 - g**2)\n",
    "        / (\n",
    "            1\n",
    "            + g**2\n",
    "            - 2\n",
    "            * g\n",
    "            * np.moveaxis(\n",
    "                np.outer(mu, mu_p)[:, :, None, None]\n",
    "                + np.tensordot(\n",
    "                    np.outer(np.sqrt(1 - mu**2), np.sqrt(1 - mu_p**2)),\n",
    "                    np.cos(phi[:, None] - phi_p[None, :]),\n",
    "                    axes=0,\n",
    "                ),\n",
    "                source=(2, 1),\n",
    "                destination=(1, 2),\n",
    "            )\n",
    "        )\n",
    "        ** (3 / 2)\n",
    "    )"
   ]
  },
  {
   "cell_type": "markdown",
   "id": "06b14d0e",
   "metadata": {},
   "source": [
    "* Normalized array of $g_\\ell$ values $\\big((2\\ell + 1) \\times \\mbox{PMOM}\\big)$"
   ]
  },
  {
   "cell_type": "code",
   "execution_count": 13,
   "id": "e4216352",
   "metadata": {},
   "outputs": [],
   "source": [
    "m_arr = np.arange(NLeg)\n",
    "Leg_coeffs = (2 * m_arr + 1) * g**m_arr"
   ]
  },
  {
   "cell_type": "markdown",
   "id": "64c41735",
   "metadata": {},
   "source": [
    "**Integral derivation of Legendre coefficients for verification**"
   ]
  },
  {
   "cell_type": "markdown",
   "id": "5ec4f8c5",
   "metadata": {},
   "source": [
    "This algorithm can be used to derive the Legendre coefficients for other phase functions. The algorithm can also be vectorized, but we would no longer be able to use `scipy.integrate.quad` for integration."
   ]
  },
  {
   "cell_type": "code",
   "execution_count": 14,
   "id": "30c7248d",
   "metadata": {},
   "outputs": [
    {
     "name": "stdout",
     "output_type": "stream",
     "text": [
      "Passed all tests\n"
     ]
    }
   ],
   "source": [
    "Leg_coeffs_test = np.empty(NLeg)\n",
    "for ell in range(NLeg):\n",
    "    integrand = lambda nu: p_HG_nu(nu) * legendre.Legendre(np.append(np.zeros(ell), 1))(nu)\n",
    "    Leg_coeffs_test[ell] = ((2 * ell + 1) / 2) * integrate.quad(integrand, -1, 1)[0]\n",
    "\n",
    "assert np.allclose(Leg_coeffs, Leg_coeffs_test)\n",
    "\n",
    "print(\"Passed all tests\")"
   ]
  },
  {
   "cell_type": "markdown",
   "id": "8d865c41",
   "metadata": {},
   "source": [
    "================================================ End of required user input ==================================================="
   ]
  },
  {
   "cell_type": "markdown",
   "id": "93201d17",
   "metadata": {},
   "source": [
    "==================================================== Start of algorithm ===================================================="
   ]
  },
  {
   "cell_type": "markdown",
   "id": "2882ef4f",
   "metadata": {},
   "source": [
    "# 2. PyDISORT algorithm"
   ]
  },
  {
   "cell_type": "markdown",
   "id": "181cfd40",
   "metadata": {},
   "source": [
    "## 2.1 Subroutines"
   ]
  },
  {
   "cell_type": "code",
   "execution_count": 15,
   "id": "e48d1faf",
   "metadata": {},
   "outputs": [],
   "source": [
    "def generate_Ds(m):\n",
    "    ells = np.arange(m, NLeg)\n",
    "    Dm_term = Leg_coeffs[ells] * (\n",
    "        sc.special.factorial(ells - m) / sc.special.factorial(ells + m)\n",
    "    )\n",
    "\n",
    "    degree_tile = np.tile(ells, (N, 1)).T\n",
    "    asso_leg_term_pos = sc.special.lpmv(m, degree_tile, mu_arr_pos)\n",
    "    asso_leg_term_neg = sc.special.lpmv(m, degree_tile, mu_arr_neg)\n",
    "    # We use broadcasting instead of diagonal matrices for computational efficiency\n",
    "    D_temp = (Dm_term)[None, :] * asso_leg_term_pos.T\n",
    "\n",
    "    D_pos = (w0 / 2) * D_temp @ asso_leg_term_pos\n",
    "    D_neg = (w0 / 2) * D_temp @ asso_leg_term_neg\n",
    "\n",
    "    return D_pos, D_neg\n",
    "\n",
    "\n",
    "def generate_Xs(m):\n",
    "    if m == 0:\n",
    "        prefactor = w0 * I0 / (4 * pi)\n",
    "    else:\n",
    "        prefactor = w0 * I0 / (2 * pi)\n",
    "\n",
    "    ells = np.arange(m, NLeg)\n",
    "    Xm_term = Leg_coeffs[ells] * (\n",
    "        sc.special.factorial(ells - m) / sc.special.factorial(ells + m)\n",
    "    )\n",
    "    Xm_term2 = sc.special.lpmv(m, ells, -mu0)\n",
    "    X_temp = prefactor * Xm_term * Xm_term2\n",
    "\n",
    "    degree_tile = np.tile(ells, (N, 1)).T\n",
    "    X_pos = X_temp @ sc.special.lpmv(m, degree_tile, mu_arr_pos)\n",
    "    X_neg = X_temp @ sc.special.lpmv(m, degree_tile, mu_arr_neg)\n",
    "\n",
    "    return X_pos, X_neg"
   ]
  },
  {
   "cell_type": "markdown",
   "id": "453dff34",
   "metadata": {},
   "source": [
    "## 2.2 Main algorithm"
   ]
  },
  {
   "cell_type": "code",
   "execution_count": 16,
   "id": "339f1c6d",
   "metadata": {},
   "outputs": [],
   "source": [
    "def PyDISORT(\n",
    "    b_pos, b_neg, only_flux, NQuad, tau_prime, w0, Leg_coeffs, mu0, phi0, I0\n",
    "):  # The argument order approximately follows that of Stamnes' DISORT\n",
    "    NLeg = len(Leg_coeffs)\n",
    "    # We require NQuad to be >2, even and <= NLeg\n",
    "    assert NQuad > 2\n",
    "    assert NQuad % 2 == 0\n",
    "    assert NQuad <= NLeg\n",
    "    # We assume that NQuad is even\n",
    "    N = NQuad // 2\n",
    "\n",
    "    # For positive mu values (the weights are identical for both domains)\n",
    "    mu_arr_pos, weights = legendre.leggauss(N)\n",
    "    mu_arr_pos = mu_arr_pos * (1 / 2) + (1 / 2)\n",
    "    weights = weights / 2\n",
    "    # For negative mu values\n",
    "    mu_arr_neg = -mu_arr_pos\n",
    "\n",
    "    if not only_flux:\n",
    "        GC_collect = np.empty((NQuad, NQuad, NLeg))\n",
    "        eigenvals_collect = np.empty((NQuad, NLeg))\n",
    "        B_collect = np.empty((NQuad, NLeg))\n",
    "\n",
    "    not_complex = True\n",
    "    for m in range(NLeg):\n",
    "        D_pos, D_neg = generate_Ds(m)\n",
    "        # We use broadcasting instead of diagonal matrices for computational efficiency\n",
    "        M_inv = 1 / mu_arr_pos\n",
    "        W = weights[None, :]\n",
    "        alpha = M_inv[:, None] * (D_pos * W - np.eye(N))\n",
    "        beta = M_inv[:, None] * D_neg * W\n",
    "        A = np.vstack((np.hstack((-alpha, -beta)), np.hstack((beta, alpha))))\n",
    "\n",
    "        eigenvals_squared, eigenvecs_GpG = np.linalg.eig(\n",
    "            (alpha - beta) @ (alpha + beta)\n",
    "        )\n",
    "        eigenvals = np.concatenate(\n",
    "            (\n",
    "                np.sqrt(eigenvals_squared.astype(complex)),\n",
    "                -np.sqrt(eigenvals_squared.astype(complex)),\n",
    "            )\n",
    "        )\n",
    "        # The eigenvalues are often, but not always real. It is more computationally efficient to work with real values.\n",
    "        # Since the matrix is real, we can obtain a real eigenvector if the corresponding eigenvalue is real, and\n",
    "        # the eigenvector will be complex if the corresponding eigenvalue is complex.\n",
    "        if np.allclose(np.imag(eigenvals), 0):\n",
    "            eigenvals = np.real(eigenvals)\n",
    "        elif not_complex and not only_flux:\n",
    "            eigenvals_collect = eigenvals_collect.astype(complex)\n",
    "            GC_collect = GC_collect.astype(complex)\n",
    "            not_complex = False\n",
    "\n",
    "        eigenvecs_GpG = np.hstack((eigenvecs_GpG, eigenvecs_GpG))\n",
    "        eigenvecs_GmG = (alpha + beta) @ eigenvecs_GpG / -eigenvals\n",
    "\n",
    "        G_pos = (eigenvecs_GpG + eigenvecs_GmG) / 2\n",
    "        G_neg = (eigenvecs_GpG - eigenvecs_GmG) / 2\n",
    "        G = np.vstack((G_pos, G_neg))\n",
    "\n",
    "        X_pos, X_neg = generate_Xs(m)\n",
    "        X_tilde = np.concatenate((-M_inv * X_pos, M_inv * X_neg))\n",
    "\n",
    "        B = np.linalg.solve(-(np.eye(NQuad) / mu0 + A), X_tilde)\n",
    "        B_pos, B_neg = B[:N], B[N:]\n",
    "        Dk_tau_prime = np.exp(eigenvals * tau_prime)\n",
    "\n",
    "        LHS = np.vstack((G_pos * Dk_tau_prime[None, :], G_neg))\n",
    "        RHS = np.concatenate((b_pos - B_pos * np.exp(-tau_prime / mu0), b_neg - B_neg))\n",
    "        C = np.linalg.solve(LHS, RHS)\n",
    "\n",
    "        if only_flux:\n",
    "\n",
    "            def flux_up(tau):\n",
    "                tau = np.atleast_1d(tau)\n",
    "                um = (G_pos * C[None, :]) @ np.exp(np.outer(eigenvals, tau)) + np.outer(\n",
    "                    B_pos, np.exp(-tau / mu0)\n",
    "                )\n",
    "                return np.squeeze(2 * pi * (mu_arr_pos * weights) @ um)\n",
    "\n",
    "            def flux_down(tau):\n",
    "                tau = np.atleast_1d(tau)\n",
    "                um = (G_neg * C[None, :]) @ np.exp(np.outer(eigenvals, tau)) + np.outer(\n",
    "                    B_neg, np.exp(-tau / mu0)\n",
    "                )\n",
    "                return np.squeeze(2 * pi * (mu_arr_pos * weights) @ um)\n",
    "\n",
    "            return np.concatenate((mu_arr_pos, mu_arr_neg)), flux_up, flux_down\n",
    "\n",
    "        GC_collect[:, :, m] = G * C[None, :]\n",
    "        eigenvals_collect[:, m] = eigenvals\n",
    "        B_collect[:, m] = B\n",
    "\n",
    "    def flux_up(tau):\n",
    "        tau = np.atleast_1d(tau)\n",
    "        um = GC_collect[:N, :, 0] @ np.exp(\n",
    "            np.outer(eigenvals_collect[:, 0], tau)\n",
    "        ) + np.outer(B_collect[:N, 0], np.exp(-tau / mu0))\n",
    "        return np.squeeze(2 * pi * (mu_arr_pos * weights) @ um)\n",
    "\n",
    "    def flux_down(tau):\n",
    "        tau = np.atleast_1d(tau)\n",
    "        um = GC_collect[N:, :, 0] @ np.exp(\n",
    "            np.outer(eigenvals_collect[:, 0], tau)\n",
    "        ) + np.outer(B_collect[N:, 0], np.exp(-tau / mu0))\n",
    "        return np.squeeze(2 * pi * (mu_arr_pos * weights) @ um)\n",
    "\n",
    "    def u(tau, phi):\n",
    "        tau = np.atleast_1d(tau)\n",
    "        # um must be real; the second term is already real\n",
    "        um = np.real(\n",
    "            np.einsum(\n",
    "                \"ijm, jmt -> imt\",\n",
    "                GC_collect,\n",
    "                np.exp(np.tensordot(eigenvals_collect, tau, axes=0)),\n",
    "                optimize=True,\n",
    "            )\n",
    "        ) + np.tensordot(B_collect, np.exp(-tau / mu0), axes=0)\n",
    "\n",
    "        return np.squeeze(\n",
    "            np.tensordot(um, np.cos(np.outer(np.arange(NLeg), phi0 - phi)), axes=(1, 0))\n",
    "        )\n",
    "\n",
    "    return np.concatenate((mu_arr_pos, mu_arr_neg)), u, flux_up, flux_down"
   ]
  },
  {
   "cell_type": "markdown",
   "id": "2eb30fd8",
   "metadata": {},
   "source": [
    "===================================================== End of algorithm ====================================================="
   ]
  },
  {
   "cell_type": "markdown",
   "id": "5fdfd5bc",
   "metadata": {},
   "source": [
    "## 2.3 Breakdown and verification of PyDISORT"
   ]
  },
  {
   "cell_type": "markdown",
   "id": "29043208",
   "metadata": {},
   "source": [
    "Generation of Gauss-Legendre quadrature weights and points to numerically integrate over $\\mu$ from $-1$ to $1$"
   ]
  },
  {
   "cell_type": "code",
   "execution_count": 17,
   "id": "180909f8",
   "metadata": {},
   "outputs": [],
   "source": [
    "# We assume that NQuad is even\n",
    "N = NQuad // 2\n",
    "\n",
    "# For positive mu values (the weights are identical for both domains)\n",
    "mu_arr_pos, weights = legendre.leggauss(N)\n",
    "mu_arr_pos = mu_arr_pos * (1 / 2) + (1 / 2)\n",
    "weights = weights / 2\n",
    "\n",
    "# For negative mu values\n",
    "mu_arr_neg = -mu_arr_pos"
   ]
  },
  {
   "cell_type": "markdown",
   "id": "f993c0fb",
   "metadata": {},
   "source": [
    "Algorithm to generate Clenshaw-Curtis quadrature weights and points for numerical integration over $\\phi$. Required for tests."
   ]
  },
  {
   "cell_type": "code",
   "execution_count": 18,
   "id": "50ac9910",
   "metadata": {},
   "outputs": [],
   "source": [
    "def Clenshaw_Curtis_quad(Nphi, a=0, b=2 * pi):\n",
    "    # Ensure that the number of nodes is odd and greater than 2\n",
    "    assert Nphi > 2\n",
    "    assert Nphi % 2 == 1\n",
    "\n",
    "    Nphi -= 1  # The extra index corresponds to the point 0 which we will add later\n",
    "    Nphi_pos = Nphi // 2\n",
    "    phi_arr_pos = np.cos(pi * np.arange(Nphi_pos) / Nphi)\n",
    "    phi_arr = np.hstack((phi_arr_pos, 0, -phi_arr_pos))\n",
    "    d = np.hstack((2, 2 / (1 - 4 * np.arange(1, Nphi_pos + 1) ** 2)))\n",
    "    pos_weights_phi = sc.fft.idct(d, type=1)\n",
    "    pos_weights_phi[0] /= 2\n",
    "    full_weights_phi = np.hstack((pos_weights_phi, pos_weights_phi[:-1]))\n",
    "    return phi_arr * ((b - a) / 2) + ((b + a) / 2), full_weights_phi * ((b - a) / 2)"
   ]
  },
  {
   "cell_type": "markdown",
   "id": "fd8ee345",
   "metadata": {},
   "source": [
    "**Verification of quadrature weights and points on test integral**"
   ]
  },
  {
   "cell_type": "markdown",
   "id": "157d2874",
   "metadata": {},
   "source": [
    "$$\\int_{a}^{b} e^x \\ \\mathrm{d}x = e^b - e^a$$"
   ]
  },
  {
   "cell_type": "code",
   "execution_count": 19,
   "id": "3a8926fa",
   "metadata": {},
   "outputs": [
    {
     "name": "stdout",
     "output_type": "stream",
     "text": [
      "Gauss-Legendre quadrature % error = 0.0\n"
     ]
    }
   ],
   "source": [
    "# Gauss-Legendre quadrature; integrate from -1 to 1\n",
    "mu_arr = np.concatenate((mu_arr_pos, mu_arr_neg))\n",
    "full_weights_mu = np.concatenate((weights, weights))\n",
    "\n",
    "true_sol = np.exp(1) - np.exp(-1)\n",
    "print(\n",
    "    \"Gauss-Legendre quadrature % error =\",\n",
    "    np.abs((true_sol - np.sum(np.exp(mu_arr) * full_weights_mu)) / true_sol),\n",
    ")"
   ]
  },
  {
   "cell_type": "code",
   "execution_count": 20,
   "id": "f449ffd3",
   "metadata": {},
   "outputs": [
    {
     "name": "stdout",
     "output_type": "stream",
     "text": [
      "Clenshaw-Curtis quadrature % error = 2.1270086547936496e-16\n"
     ]
    }
   ],
   "source": [
    "# Clenshaw-Curtis quadrature; integrate from 0 to 2pi\n",
    "phi_arr, full_weights_phi = Clenshaw_Curtis_quad(33)\n",
    "\n",
    "true_sol = np.exp(2*pi) - 1\n",
    "print(\n",
    "    \"Clenshaw-Curtis quadrature % error =\",\n",
    "    np.abs((true_sol - np.sum(np.exp(phi_arr) * full_weights_phi)) / true_sol),\n",
    ")"
   ]
  },
  {
   "cell_type": "markdown",
   "id": "3bb0df06",
   "metadata": {},
   "source": [
    "**Normalization verification of `p_HG`**"
   ]
  },
  {
   "cell_type": "markdown",
   "id": "441203c1",
   "metadata": {},
   "source": [
    "Similar to equation (2) of [[6]](#cite-MW1980), we expect\n",
    "\n",
    "$$\n",
    "\\frac{1}{4 \\pi} \\int_{-1}^1 \\int_0^{2 \\pi} p\\left(\\mu, \\phi ; \\mu^{\\prime}, \\phi^{\\prime}\\right) d \\phi d \\mu = 1\n",
    "$$"
   ]
  },
  {
   "cell_type": "code",
   "execution_count": 21,
   "id": "e7c23464",
   "metadata": {},
   "outputs": [
    {
     "name": "stdout",
     "output_type": "stream",
     "text": [
      "L_inf % error = 0.062211405074487525\n"
     ]
    }
   ],
   "source": [
    "phi_arr, full_weights_phi = Clenshaw_Curtis_quad(33)\n",
    "mu_arr = np.concatenate((mu_arr_pos, mu_arr_neg))\n",
    "full_weights_mu = np.concatenate((weights, weights))\n",
    "\n",
    "normalize_pHG = np.tensordot(\n",
    "    np.tensordot(\n",
    "        p_HG_muphi(mu_arr, phi_arr, mu_arr, phi_arr), full_weights_mu, axes=(0, 0)\n",
    "    ),\n",
    "    full_weights_phi,\n",
    "    axes=(0, 0),\n",
    ") / (4 * pi)\n",
    "print(\"L_inf % error =\", np.linalg.norm(normalize_pHG - 1, ord=np.infty))"
   ]
  },
  {
   "cell_type": "markdown",
   "id": "0b135f22",
   "metadata": {},
   "source": [
    "### 2.3.1 Re-derivation of equations (6a) to (6d) in [[1]](#cite-STWJ1988)"
   ]
  },
  {
   "cell_type": "markdown",
   "id": "7a99d371",
   "metadata": {},
   "source": [
    "We have the definitions and expansions\n",
    "\n",
    "$$\n",
    "\\begin{align*}\n",
    "u\\left(\\tau, \\mu, \\phi\\right) &\\approx \\sum_{n=0} u^n\\left(\\tau, \\mu\\right)\\cos\\left(n\\left(\\phi_0 - \\phi\\right)\\right) \\quad \\mbox{(Fourier cosine expansion)}\\\\\n",
    "p\\left(\\cos\\gamma\\right) &\\approx \\sum_{\\ell=0} g_\\ell P_\\ell\\left(\\cos\\gamma\\right)\n",
    "\\end{align*}\n",
    "$$\n",
    "$$\n",
    "\\begin{aligned}\n",
    "g_\\ell &= \\frac{2\\ell + 1}{2}\\int_{-1}^{1} p\\left(\\cos\\gamma\\right) P_\\ell\\left(\\cos\\gamma\\right) \\mathrm{d}\\cos\\gamma, \\quad &&g_\\ell^m = \\frac{\\left(\\ell-m\\right)!}{\\left(\\ell+m\\right)!} g_\\ell \\\\\n",
    "\\mu &= \\cos\\left(\\theta\\right), \\quad &&\\,\\mu' = \\cos\\left(\\theta'\\right)\n",
    "\\end{aligned}\n",
    "$$\n",
    "\n",
    "As before, we have\n",
    "\n",
    "$$\n",
    "\\begin{align*}\n",
    "\\cos\\gamma &= \\cos\\theta'\\cos\\theta + \\sin\\theta'\\sin\\theta\\cos\\left(\\phi'-\\phi\\right) \\\\\n",
    "P_\\ell\\left(\\cos\\gamma\\right) &= P_\\ell\\left(\\mu'\\right)P_\\ell\\left(\\mu\\right) + 2\\sum_{m=1}^\\ell \\frac{\\left(\\ell-m\\right)!}{\\left(\\ell+m\\right)!}P_\\ell^m(\\mu')P_\\ell^m\\left(\\mu\\right)\\cos\\left(m\\left(\\phi'-\\phi\\right)\\right)\n",
    "\\end{align*}\n",
    "$$\n",
    "\n",
    "Consequently, we can expand the `p_HG_muphi` form of the HG phase function\n",
    "\n",
    "$$\n",
    "p\\left(\\mu, \\phi; \\mu', \\phi'\\right) \\approx \\sum_{\\ell=0} \\left[ g_\\ell P_\\ell\\left(\\mu'\\right)P_\\ell\\left(\\mu\\right) + 2\\sum_{m=1}^\\ell g_\\ell^m P_\\ell^m(\\mu')P_\\ell^m\\left(\\mu\\right)\\cos\\left(m\\left(\\phi'-\\phi\\right)\\right) \\right]\n",
    "$$"
   ]
  },
  {
   "cell_type": "markdown",
   "id": "877d8d22",
   "metadata": {},
   "source": [
    "We will first focus on the double integral term of the radiative transfer equation. We substitute the expansion of $p(\\mu, \\phi; \\mu', \\phi')$ and $u(\\tau, \\mu, \\phi)$ to get\n",
    "\n",
    "$$\n",
    "\\begin{align*}\n",
    "&\\frac{\\omega_0}{4 \\pi} \\int_{-1}^{1} \\int_{0}^{2 \\pi} p\\left(\\mu, \\phi ; \\mu', \\phi'\\right) u\\left(\\tau, \\mu', \\phi'\\right) \\mathrm{d} \\phi' \\mathrm{d} \\mu' \\\\\n",
    "&\\approx \\frac{\\omega_0}{4 \\pi} \\int_{-1}^{1} \\left[ \\int_{0}^{2 \\pi} \\sum_{n=0} \\sum_{\\ell=0} u^n g_\\ell P_\\ell\\left(\\mu'\\right)P_\\ell(\\mu) \\cos\\left(n\\left(\\phi_0 - \\phi'\\right)\\right) + 2\\sum_{n=0} \\sum_{\\ell=0} \\sum_{m=1}^\\ell u^n g_\\ell^m P_\\ell^m(\\mu')P_\\ell^m(\\mu)\\cos\\left(m\\left(\\phi'-\\phi\\right)\\right) \\cos\\left(n\\left(\\phi_0 - \\phi'\\right)\\right) \\mathrm{d} \\phi' \\right] \\mathrm{d} \\mu' \\\\\n",
    "&= \\frac{\\omega_0}{4 \\pi} \\int_{-1}^{1} \\left[ \\int_{0}^{2 \\pi} \\sum_{\\ell=0} u^0 g_\\ell P_\\ell\\left(\\mu'\\right)P_\\ell(\\mu) + 2\\sum_{n=1} \\sum_{\\ell=n} \\sum_{m=1}^\\ell u^n g_\\ell^m P_\\ell^m(\\mu')P_\\ell^m(\\mu)\\cos\\left(m\\left(\\phi'-\\phi\\right)\\right) \\cos\\left(n\\left(\\phi_0 - \\phi'\\right)\\right) \\mathrm{d} \\phi' \\right] \\mathrm{d} \\mu' \\\\\n",
    "&= \\frac{\\omega_0}{4 \\pi} \\int_{-1}^{1} \\left[ 2\\pi \\sum_{\\ell=0} u^0 g_\\ell P_\\ell\\left(\\mu'\\right)P_\\ell(\\mu) + 2\\pi\\sum_{n=1} \\sum_{\\ell=n} u^n g_\\ell^n P_\\ell^n(\\mu')P_\\ell^n(\\mu)\\cos\\left(n\\left(\\phi_0 - \\phi\\right)\\right) \\right] \\mathrm{d} \\mu' \\\\\n",
    "&= \\int_{-1}^{1} \\sum_{m=0} \\left\\{ \\frac{\\omega_0}{2} \\sum_{\\ell=m} u^m g_\\ell^m P_\\ell^m(\\mu')P_\\ell^m(\\mu) \\right\\} \\cos\\left(m\\left(\\phi_0 - \\phi\\right)\\right) \\mathrm{d} \\mu'\n",
    "\\end{align*}\n",
    "$$\n",
    "\n",
    "The term in the curly brackets of the last line is the contribution of the double-integral term to the $m$th Fourier moment of the radiative transfer equation."
   ]
  },
  {
   "cell_type": "markdown",
   "id": "4332606f",
   "metadata": {},
   "source": [
    "Next, we will focus on the source term. Once again, we substitute the expansion of $p(\\mu, \\phi; \\mu', \\phi')$ to get\n",
    "\n",
    "$$\n",
    "\\frac{\\omega_0 I_0}{4 \\pi} p\\left(\\mu, \\phi ;-\\mu_{0}, \\phi_{0}\\right) \\exp\\left(-\\mu_{0}^{-1} \\tau\\right) \\approx \\frac{\\omega_0 I_0}{4 \\pi} \\exp\\left(-\\mu_{0}^{-1} \\tau\\right) \\left[ \\sum_{\\ell=0} g_\\ell P_\\ell\\left(-\\mu_0\\right)P_\\ell(\\mu) + 2\\sum_{\\ell=0}\\sum_{m=1}^\\ell g_\\ell^m P_\\ell^m\\left(-\\mu_0\\right)P_\\ell^m(\\mu)\\cos\\left(m\\left(\\phi_0-\\phi\\right)\\right) \\right]\n",
    "$$\n",
    "\n",
    "It is immediately apparent that the contribution to the $0$th moment is\n",
    "\n",
    "$$\n",
    "\\frac{\\omega_0 I_0}{4 \\pi} \\exp\\left(-\\mu_{0}^{-1} \\tau\\right)\\sum_{\\ell=0} g_\\ell P_\\ell\\left(-\\mu_0\\right)P_\\ell(\\mu)\n",
    "$$\n",
    "\n",
    "For $n \\geq 1$, to determine the contribution to the $n$th moment, we multiply by $\\pi^{-1}\\cos\\left(n\\left(\\phi_0-\\phi\\right)\\right)$ and integrate over $\\phi$ from $0$ to $2\\pi$ to get\n",
    "\n",
    "$$\n",
    "\\begin{align*}\n",
    "&\\frac{\\omega_0 I_0}{4 \\pi} \\exp\\left(-\\mu_{0}^{-1} \\tau\\right) \\int_{0}^{2\\pi} \\frac{2}{\\pi}\\sum_{\\ell=0}\\sum_{m=1}^\\ell g_\\ell^m P_\\ell^m\\left(-\\mu_0\\right)P_\\ell^m(\\mu)\\cos\\left(m\\left(\\phi_0-\\phi\\right)\\right)\\cos\\left(n\\left(\\phi_0-\\phi\\right)\\right) \\mathrm{d}\\phi \\\\\n",
    "&= \\frac{\\omega_0 I_0}{4 \\pi} \\exp\\left(-\\mu_{0}^{-1} \\tau\\right) \\int_{0}^{2\\pi} \\frac{2}{\\pi}\\sum_{\\ell=n}\\sum_{m=1}^\\ell g_\\ell^m P_\\ell^m\\left(-\\mu_0\\right)P_\\ell^m(\\mu)\\cos\\left(m\\left(\\phi_0-\\phi\\right)\\right)\\cos\\left(n\\left(\\phi_0-\\phi\\right)\\right) \\mathrm{d}\\phi \\\\\n",
    "&= \\frac{\\omega_0 I_0}{2 \\pi} \\exp\\left(-\\mu_{0}^{-1} \\tau\\right) \\sum_{\\ell=n} g_\\ell^n P_\\ell^n\\left(-\\mu_0\\right)P_\\ell^n(\\mu)\n",
    "\\end{align*}\n",
    "$$\n",
    "\n",
    "Therefore, the contribution of the source term to the $m$th Fourier moment of the radiative transfer equation (we perform the change of variables $m = n$) is\n",
    "\n",
    "$$\n",
    "\\kappa_m\\exp\\left(-\\mu_{0}^{-1} \\tau\\right)\\sum_{\\ell=0} g^m_\\ell P_\\ell^m\\left(-\\mu_0\\right)P_\\ell^m(\\mu), \\quad \\kappa_m = \\begin{cases} \\frac{\\omega_0 I_0}{4 \\pi}, &m = 0 \\\\ \\frac{\\omega_0 I_0}{2 \\pi}, &m \\geq 1 \\end{cases}\n",
    "$$"
   ]
  },
  {
   "cell_type": "markdown",
   "id": "fe996aec",
   "metadata": {},
   "source": [
    "Consequently, for each Fourier mode, $m \\geq 0$, we have the integro-differential equation\n",
    "\n",
    "$$\n",
    "\\mu \\frac{d u^m(\\tau, \\mu)}{d \\tau}=u^m(\\tau, \\mu)-\\int_{-1}^1 D^m\\left(\\tau, \\mu, \\mu^{\\prime}\\right) u^m\\left(\\tau, \\mu^{\\prime}\\right) d \\mu^{\\prime} - Q^m(\\mu)\n",
    "$$\n",
    "\n",
    "where\n",
    "\n",
    "$$\n",
    "\\begin{align*}\n",
    "D^m\\left(\\mu, \\mu' \\right) &= \\frac{\\omega_0}{2} \\sum_{\\ell=m} u^m g_\\ell^m P_\\ell^m(\\mu')P_\\ell^m(\\mu) \\\\\n",
    "Q^m(\\mu) &= X^m(\\mu) \\exp\\left(-\\mu_{0}^{-1} \\tau\\right) \\\\\n",
    "X^m(\\mu) &= \\kappa_m\\sum_{\\ell=0} g^m_\\ell P_\\ell^m\\left(-\\mu_0\\right)P_\\ell^m(\\mu), \\quad \\kappa_m = \\begin{cases} \\frac{\\omega_0 I_0}{4 \\pi}, &m = 0 \\\\ \\frac{\\omega_0 I_0}{2 \\pi}, &m \\geq 1 \\end{cases}\n",
    "\\end{align*}\n",
    "$$\n",
    "\n",
    "Unlike in [[1]](#cite-STWJ1988), our source term, $Q$, only contains the \"beam\" term and not a \"thermal\" term. It is also only dependent on $\\mu$."
   ]
  },
  {
   "cell_type": "markdown",
   "id": "423ee287",
   "metadata": {},
   "source": [
    "**This is the non-vectorized version of the `generate_Ds` subroutine for verification**"
   ]
  },
  {
   "cell_type": "code",
   "execution_count": 22,
   "id": "d01e4f67",
   "metadata": {},
   "outputs": [
    {
     "name": "stdout",
     "output_type": "stream",
     "text": [
      "Passed all tests\n"
     ]
    }
   ],
   "source": [
    "for m in range(NLeg):\n",
    "    D_pos_test, D_neg_test = np.zeros((N, N)), np.zeros((N, N))\n",
    "    for i in range(N):\n",
    "        for j in range(N):\n",
    "            for ell in range(m, NLeg):\n",
    "                D_pos_test[i, j] += (\n",
    "                    (w0 / 2)\n",
    "                    # * (2 * ell + 1) # Moved into the main algorithm\n",
    "                    * Leg_coeffs[ell]\n",
    "                    * (sc.special.factorial(ell - m) / sc.special.factorial(ell + m))\n",
    "                    * sc.special.lpmv(m, ell, mu_arr_pos[i])\n",
    "                    * sc.special.lpmv(m, ell, mu_arr_pos[j])\n",
    "                )\n",
    "                D_neg_test[i, j] += (\n",
    "                    (w0 / 2)\n",
    "                    # * (2 * ell + 1) # Moved into the main algorithm\n",
    "                    * Leg_coeffs[ell]\n",
    "                    * (sc.special.factorial(ell - m) / sc.special.factorial(ell + m))\n",
    "                    * sc.special.lpmv(m, ell, mu_arr_neg[i])\n",
    "                    * sc.special.lpmv(m, ell, mu_arr_pos[j])\n",
    "                )\n",
    "\n",
    "    assert np.allclose(D_pos_test, generate_Ds(m)[0])\n",
    "    assert np.allclose(D_neg_test, generate_Ds(m)[1])\n",
    "\n",
    "print(\"Passed all tests\")"
   ]
  },
  {
   "cell_type": "markdown",
   "id": "f81bde95",
   "metadata": {},
   "source": [
    "**This is the non-vectorized version of the `generate_Xs` subroutine (for the non-trivial case $m = 0$) for verification**"
   ]
  },
  {
   "cell_type": "code",
   "execution_count": 23,
   "id": "f9566866",
   "metadata": {},
   "outputs": [
    {
     "name": "stdout",
     "output_type": "stream",
     "text": [
      "Passed all tests\n"
     ]
    }
   ],
   "source": [
    "for m in range(NLeg):\n",
    "    if m == 0:\n",
    "        prefactor = w0 * I0 / (4 * pi)\n",
    "    else:\n",
    "        prefactor = w0 * I0 / (2 * pi)\n",
    "    X_pos_test, X_neg_test = np.zeros(N), np.zeros(N)\n",
    "    for i in range(N):\n",
    "        for ell in range(m, NLeg):\n",
    "            X_pos_test[i] += (\n",
    "                prefactor\n",
    "                * Leg_coeffs[ell]\n",
    "                * (sc.special.factorial(ell - m) / sc.special.factorial(ell + m))\n",
    "                * sc.special.lpmv(m, ell, -mu0)\n",
    "                * sc.special.lpmv(m, ell, mu_arr_pos[i])\n",
    "            )\n",
    "            X_neg_test[i] += (\n",
    "                prefactor\n",
    "                * Leg_coeffs[ell]\n",
    "                * (sc.special.factorial(ell - m) / sc.special.factorial(ell + m))\n",
    "                * sc.special.lpmv(m, ell, -mu0)\n",
    "                * sc.special.lpmv(m, ell, mu_arr_neg[i])\n",
    "            )\n",
    "\n",
    "    assert np.allclose(X_pos_test, generate_Xs(m)[0])\n",
    "    assert np.allclose(X_neg_test, generate_Xs(m)[1])\n",
    "\n",
    "print(\"Passed all tests\")"
   ]
  },
  {
   "cell_type": "markdown",
   "id": "05e4ec46",
   "metadata": {},
   "source": [
    "### 2.3.2 Re-derivation of equations (7a) and (7b) in [[1]](#cite-STWJ1988)"
   ]
  },
  {
   "cell_type": "markdown",
   "id": "54087f37",
   "metadata": {},
   "source": [
    "We split the $\\mu$ integral into two integrals: from $-1$ to $0$ and from $0$ to $1$. We approximate each integral by Gauss-Legendre quadrature. This is the *double-Gauss method*; see [[7]](#cite-Syk1951) for more details. By double-Gauss, or any other double quadrature method (more general quadrature methods can used, but we will lose important symmetries), we can approximate each Fourier mode integro-differential equation as\n",
    "\n",
    "\n",
    "$$\n",
    "\\mu_i \\frac{d u^m(\\tau, \\mu_i)}{d \\tau}=u^m(\\tau, \\mu_i)-\\sum_{j \\neq 0} w_j D^m\\left(\\tau, \\mu_i, \\mu_i^{\\prime}\\right) u^m\\left(\\tau, \\mu_i^{\\prime}\\right) d \\mu_i^{\\prime} - Q^m(\\mu_i)\n",
    "$$\n",
    "\n",
    "For $i,j = 1, \\dots, N$, where $2N$ is the number of quadrature points, we define\n",
    "\n",
    "$$\n",
    "\\begin{aligned}\n",
    "&\\alpha = M^{-1}\\left(D^{+} W - I\\right) &&\\beta = M^{-1} D^{-} W \\\\\n",
    "&D^{+}[i,j] = D^m\\left(\\mu_i, \\mu_j\\right) = D^m\\left(-\\mu_i,-\\mu_j\\right) &&D^{-}[i,j] = D^m\\left(-\\mu_i, \\mu_j\\right) = D^m\\left(\\mu_i,-\\mu_j\\right) \\\\\n",
    "&W[i,j] = w_i\\delta_{ij} &&M[i,j] = \\mu_i\\delta_{ij} \\\\ \n",
    "&u^\\pm[i] = u^m(\\pm \\mu_i) &&Q^{\\pm}[i] = Q^m\\left(\\pm \\mu_i\\right) \n",
    "\\end{aligned}\n",
    "$$\n",
    "\n",
    "We also define $\\tilde{Q}^\\pm = M^{-1} Q^\\pm$. We claim that the Fourier mode approximations can be re-expressed as the system\n",
    "\n",
    "$$\n",
    "\\begin{bmatrix} \\frac{\\mathrm{d}u^+}{\\mathrm{d}\\tau} \\\\ \\frac{\\mathrm{d}u^-}{\\mathrm{d}\\tau} \\end{bmatrix} = \\begin{bmatrix} -\\alpha & -\\beta \\\\ \\beta & \\alpha \\end{bmatrix} \\begin{bmatrix} u^+ \\\\ u^- \\end{bmatrix} + \\begin{bmatrix} -\\tilde{Q}^+ \\\\ \\tilde{Q}^- \\end{bmatrix}\n",
    "$$"
   ]
  },
  {
   "cell_type": "markdown",
   "id": "22cb7bab",
   "metadata": {},
   "source": [
    "Substitute $\\alpha, \\beta, \\tilde{Q}$ on the RHS:\n",
    "\n",
    "$$\n",
    "\\begin{align*}\n",
    "\\begin{bmatrix} -\\alpha & -\\beta \\\\ \\beta & \\alpha \\end{bmatrix} \\begin{bmatrix} u^+ \\\\ u^- \\end{bmatrix} + \\begin{bmatrix} -\\tilde{Q}^+ \\\\ \\tilde{Q}^- \\end{bmatrix} &= \\begin{bmatrix} -M^{-1}\\left(D^{+} W - I\\right) & -M^{-1} D^{-} W \\\\ M^{-1} D^{-} W & M^{-1}\\left(D^{+} W - I\\right) \\end{bmatrix} \\begin{bmatrix} u^+ \\\\ u^- \\end{bmatrix} + \\begin{bmatrix} -M^{-1} Q^+ \\\\ M^{-1} Q^- \\end{bmatrix} \\\\\n",
    "&= \\begin{bmatrix} -M^{-1} & \\\\ & M^{-1} \\end{bmatrix} \\left( \\begin{bmatrix} D^{+} W - I & D^{-} W \\\\ D^{-} W & D^{+} W - I \\end{bmatrix} \\begin{bmatrix} u^+ \\\\ u^- \\end{bmatrix} + \\begin{bmatrix} Q^+ \\\\ Q^- \\end{bmatrix} \\right) \\\\\n",
    "&= \\begin{bmatrix} -\\mu_0^{-1} & & & & & \\\\ & \\ddots & & & & \\\\ & & -\\mu_N^{-1} & & & \\\\ & & & \\mu_0^{-1} & & \\\\ & & & & \\ddots & \\\\ & & & & & \\mu_N^{-1} \\end{bmatrix} \\left( \\left( \\begin{bmatrix} D^{+} W & D^{-} W \\\\ D^{-} W & D^{+} W \\end{bmatrix} - I \\right) \\begin{bmatrix} u^+ \\\\ u^- \\end{bmatrix} + \\begin{bmatrix} Q^+ \\\\ Q^- \\end{bmatrix} \\right) \\\\\n",
    "&= \\begin{bmatrix} \\mu_0^{-1} & & & & & \\\\ & \\ddots & & & & \\\\ & & \\mu_N^{-1} & & & \\\\ & & & -\\mu_0^{-1} & & \\\\ & & & & \\ddots & \\\\ & & & & & -\\mu_N^{-1} \\end{bmatrix} \\left(\\begin{bmatrix} u^+ \\\\ u^- \\end{bmatrix} - W \\begin{bmatrix} D^{+} & D^{-} \\\\ D^{-} & D^{+} \\end{bmatrix} - \\begin{bmatrix} Q^+ \\\\ Q^- \\end{bmatrix} \\right)\n",
    "\\end{align*}\n",
    "$$\n",
    "\n",
    "Finally, we multiply across by the $\\mu_i$ values to see that the system is consistent with the Fourier mode approximations."
   ]
  },
  {
   "cell_type": "markdown",
   "id": "dfc6e0a3",
   "metadata": {},
   "source": [
    "### 2.3.3 Solving the system for each Fourier mode"
   ]
  },
  {
   "cell_type": "markdown",
   "id": "75bcb1df",
   "metadata": {},
   "source": [
    "As previously derived, the system is"
   ]
  },
  {
   "cell_type": "markdown",
   "id": "2beec0ff",
   "metadata": {},
   "source": [
    "$$\n",
    "\\begin{bmatrix} \\frac{\\mathrm{d}u^+}{\\mathrm{d}\\tau} \\\\ \\frac{\\mathrm{d}u^-}{\\mathrm{d}\\tau} \\end{bmatrix} = \\begin{bmatrix} -\\alpha & -\\beta \\\\ \\beta & \\alpha \\end{bmatrix} \\begin{bmatrix} u^+ \\\\ u^- \\end{bmatrix} + \\begin{bmatrix} -\\tilde{Q}^+ \\\\ \\tilde{Q}^- \\end{bmatrix}\n",
    "$$"
   ]
  },
  {
   "cell_type": "markdown",
   "id": "12e9f00b",
   "metadata": {},
   "source": [
    "Define $\\tilde{Q} = \\begin{bmatrix} -\\tilde{Q}^+ \\tilde{Q}^- \\end{bmatrix}^T$ and $\\tilde{X} = \\exp\\left(\\mu_0^{-1} \\tau\\right)\\tilde{Q}$. We first address the homogeneous problem, when $\\tilde{Q} = 0$, and solve for the eigenpairs of the coefficient matrix from the eigenequation\n",
    "\n",
    "$$\n",
    "\\begin{bmatrix} -\\alpha & -\\beta \\\\ \\beta & \\alpha \\end{bmatrix} \\begin{bmatrix} G^+ \\\\ G^- \\end{bmatrix} = k \\begin{bmatrix} G^+ \\\\ G^- \\end{bmatrix}\n",
    "$$"
   ]
  },
  {
   "cell_type": "markdown",
   "id": "77a3ccdb",
   "metadata": {},
   "source": [
    "Following the reduction order method in [[1]](#cite-STWJ1988), but with minor sign differences, we can solve\n",
    "\n",
    "$$\n",
    "(\\alpha - \\beta) (\\alpha + \\beta) \\left(G^+ + G^-\\right) = k^2 \\left(G^+ + G^-\\right)\n",
    "$$\n",
    "\n",
    "for eigenvalues $k$. Given also that\n",
    "\n",
    "$$\n",
    "(\\alpha + \\beta) \\left(G^+ + G^-\\right) = -k \\left(G^+ - G^-\\right)\n",
    "$$\n",
    "\n",
    "we can solve for $G^+$ and $G^-$, and consequently construct the eigenvector matrix $G = \\begin{bmatrix} G^+ & G^- \\end{bmatrix}^T$."
   ]
  },
  {
   "cell_type": "code",
   "execution_count": 24,
   "id": "4d12c69d",
   "metadata": {},
   "outputs": [],
   "source": [
    "m = 3  # We will need to repeat the following blocks of code for each Fourier mode, m"
   ]
  },
  {
   "cell_type": "code",
   "execution_count": 25,
   "id": "88ec4674",
   "metadata": {},
   "outputs": [],
   "source": [
    "D_pos, D_neg = generate_Ds(m)\n",
    "# We use broadcasting instead of diagonal matrices for computational efficiency\n",
    "M_inv = 1 / mu_arr_pos\n",
    "W = weights[None, :]\n",
    "alpha = M_inv[:, None] * (D_pos * W - np.eye(N))\n",
    "beta = M_inv[:, None] * D_neg * W\n",
    "A = np.vstack((np.hstack((-alpha, -beta)), np.hstack((beta, alpha))))\n",
    "\n",
    "eigenvals_squared, eigenvecs_GpG = np.linalg.eig((alpha - beta) @ (alpha + beta))\n",
    "eigenvals = np.concatenate(\n",
    "    (\n",
    "        np.sqrt(eigenvals_squared.astype(complex)),\n",
    "        -np.sqrt(eigenvals_squared.astype(complex)),\n",
    "    )\n",
    ")\n",
    "# The eigenvalues are often, but not always real. It is more computationally efficient to work with real values.\n",
    "# Since the matrix is real, we can obtain a real eigenvector if the corresponding eigenvalue is real, and\n",
    "# the eigenvector will be complex if the corresponding eigenvalue is complex.\n",
    "if np.allclose(np.imag(eigenvals), 0):\n",
    "    eigenvals = np.real(eigenvals)\n",
    "\n",
    "eigenvecs_GpG = np.hstack((eigenvecs_GpG, eigenvecs_GpG))\n",
    "eigenvecs_GmG = (alpha + beta) @ eigenvecs_GpG / -eigenvals\n",
    "\n",
    "G_pos = (eigenvecs_GpG + eigenvecs_GmG) / 2\n",
    "G_neg = (eigenvecs_GpG - eigenvecs_GmG) / 2\n",
    "G = np.vstack((G_pos, G_neg))"
   ]
  },
  {
   "cell_type": "markdown",
   "id": "67a2ffd0",
   "metadata": {},
   "source": [
    "**Verification of eigenpairs**"
   ]
  },
  {
   "cell_type": "code",
   "execution_count": 26,
   "id": "32f6cd1e",
   "metadata": {},
   "outputs": [
    {
     "name": "stdout",
     "output_type": "stream",
     "text": [
      "Passed all tests\n"
     ]
    }
   ],
   "source": [
    "assert np.allclose((A @ G) / eigenvals, G)\n",
    "\n",
    "print(\"Passed all tests\")"
   ]
  },
  {
   "cell_type": "markdown",
   "id": "d5dbd535",
   "metadata": {},
   "source": [
    "### 2.3.4 Constructing the general solution for each Fourier mode"
   ]
  },
  {
   "cell_type": "markdown",
   "id": "7e92478e",
   "metadata": {},
   "source": [
    "The general solution is\n",
    "\n",
    "$$\n",
    "u = u_h + u_p\n",
    "$$"
   ]
  },
  {
   "cell_type": "markdown",
   "id": "09957a31",
   "metadata": {},
   "source": [
    "The particular solution, $u_p$, satisfies\n",
    "\n",
    "$$\n",
    "\\frac{\\mathrm{d}u_p}{\\mathrm{d}\\tau} = A u_p + \\tilde{Q}\n",
    "$$\n",
    "\n",
    "where\n",
    "\n",
    "$$\n",
    "A = \\begin{bmatrix} -\\alpha & -\\beta \\\\ \\beta & \\alpha \\end{bmatrix}, \\quad \\tilde{Q} = \\tilde{X} \\exp\\left(-\\mu_0^{-1} \\tau\\right)\n",
    "$$\n",
    "\n",
    "Assume the ansatz\n",
    "\n",
    "$$\n",
    "u_p = B\\exp\\left(-\\mu_0^{-1} \\tau\\right)\n",
    "$$\n",
    "\n",
    "for $B$ to be determined. Substitution into the full equation gives\n",
    "\n",
    "\\begin{align*}\n",
    "&-\\mu_0^{-1} B\\exp\\left(-\\mu_0^{-1} \\tau\\right) = AB\\exp\\left(-\\mu_0^{-1} \\tau\\right) + \\tilde{X}\\exp\\left(-\\mu_0^{-1} \\tau\\right) \\\\\n",
    "&\\implies -\\mu_0^{-1} B = AB + \\tilde{X} \\\\\n",
    "&\\implies -\\left(\\mu_0^{-1} I + A\\right)B = \\tilde{X}\n",
    "\\end{align*}\n",
    "\n",
    "which we can solve for $B$."
   ]
  },
  {
   "cell_type": "code",
   "execution_count": 27,
   "id": "3d1e398c",
   "metadata": {},
   "outputs": [],
   "source": [
    "X_pos, X_neg = generate_Xs(m)\n",
    "X_tilde = np.concatenate((-M_inv * X_pos, M_inv * X_neg))\n",
    "\n",
    "B = np.linalg.solve(-(np.eye(NQuad) / mu0 + A), X_tilde)"
   ]
  },
  {
   "cell_type": "markdown",
   "id": "32db54cc",
   "metadata": {},
   "source": [
    "**Verification of particular solution**"
   ]
  },
  {
   "cell_type": "code",
   "execution_count": 28,
   "id": "c3ae9085",
   "metadata": {},
   "outputs": [],
   "source": [
    "Ntau = 2**9  # Number of tau grid points\n",
    "tau_arr = np.linspace(0, tau_prime, Ntau)\n",
    "h = tau_arr[1] - tau_arr[0]  # grid spacing\n",
    "\n",
    "# Construct 1st derivative matrix with 2nd order accuracy\n",
    "first_deriv = np.zeros((Ntau, Ntau))\n",
    "diagonal = np.ones(Ntau) / (2 * h)\n",
    "first_deriv += np.diag(diagonal[:-1], 1)\n",
    "first_deriv += np.diag(-diagonal[:-1], -1)\n",
    "first_deriv[0, :3] = np.array([-3 / 2, 2, -1 / 2]) / h\n",
    "first_deriv[-1, -3:] = np.array([1 / 2, -2, 3 / 2]) / h\n",
    "first_deriv = first_deriv.T # This is due to tau being indexed by columns instead of rows"
   ]
  },
  {
   "cell_type": "code",
   "execution_count": 29,
   "id": "db1069c3",
   "metadata": {},
   "outputs": [
    {
     "name": "stdout",
     "output_type": "stream",
     "text": [
      "Pointwise L_inf % error: 1.3009691165637128e-07\n"
     ]
    }
   ],
   "source": [
    "up = np.outer(B, np.exp(-tau_arr / mu0))\n",
    "RHS = up @ first_deriv\n",
    "LHS = A @ up + np.outer(X_tilde, np.exp(-tau_arr / mu0))\n",
    "\n",
    "print(\"Pointwise L_inf % error:\", np.linalg.norm((RHS - LHS) / RHS))"
   ]
  },
  {
   "cell_type": "markdown",
   "id": "bd6071b2",
   "metadata": {},
   "source": [
    "The homogenous solution, $u_h$, is\n",
    "\n",
    "$$\n",
    "u_h = \\begin{bmatrix} u_h^+ \\\\ u_h^- \\end{bmatrix}, \\quad u_h^\\pm(\\tau) = G^\\pm \\mbox{Diag}(C) K\n",
    "$$\n",
    "\n",
    "where $K[j] = \\exp(k_j\\tau)$ and the coefficient vector $C$ is to be determined from the boundary conditions. We define $\\tau \\in [0, \\tau']$ and assume Dirichlet BCs (more general BCs are possible but not implemented)\n",
    "\n",
    "$$\n",
    "u^-(0) = b^-, \\quad u^+_i\\left( \\tau' \\right) = b^+\n",
    "$$\n",
    "\n",
    "By superposition\n",
    "\n",
    "$$\n",
    "u_h^-(0) = b^- - B^-, \\quad u_h^+\\left( \\tau' \\right) = b^+ - B^+\\exp\\left(-\\mu_0^{-1} \\tau'\\right)\n",
    "$$\n",
    "\n",
    "and this produces the system\n",
    "\n",
    "$$\n",
    "\\begin{bmatrix} G^+ D_k\\left( \\tau' \\right) \\\\ G^- \\end{bmatrix} C = \\begin{bmatrix} b^+ - B^+\\exp\\left(-\\mu_0^{-1} \\tau'\\right) \\\\ b^- - B^- \\end{bmatrix}\n",
    "$$\n",
    "\n",
    "which we can solve to determine $C$."
   ]
  },
  {
   "cell_type": "code",
   "execution_count": 30,
   "id": "acad8093",
   "metadata": {},
   "outputs": [],
   "source": [
    "B_pos, B_neg = B[:N], B[N:]\n",
    "Dk_tau_prime = np.exp(eigenvals * tau_prime)\n",
    "\n",
    "LHS = np.vstack((G_pos * Dk_tau_prime[None, :], G_neg))\n",
    "RHS = np.concatenate((b_pos - B_pos * np.exp(-tau_prime / mu0), b_neg - B_neg))\n",
    "C = np.linalg.solve(LHS, RHS)"
   ]
  },
  {
   "cell_type": "markdown",
   "id": "6093190e",
   "metadata": {},
   "source": [
    "#### 2.3.4.1 Verification of the general solution for one Fourier mode"
   ]
  },
  {
   "cell_type": "code",
   "execution_count": 31,
   "id": "5e28b122",
   "metadata": {},
   "outputs": [],
   "source": [
    "# The general solution for one Fourier mode\n",
    "def um(tau):\n",
    "    result = (G * C[None, :]) @ np.exp(np.outer(eigenvals, tau)) + np.outer(\n",
    "        B, np.exp(-tau / mu0)\n",
    "    )\n",
    "\n",
    "    # The general solution must be real\n",
    "    assert np.allclose(np.imag(result), 0)\n",
    "    return np.real(result)"
   ]
  },
  {
   "cell_type": "markdown",
   "id": "f5f9a98b",
   "metadata": {},
   "source": [
    "**Does the general solution satisfy the BCs?**"
   ]
  },
  {
   "cell_type": "code",
   "execution_count": 32,
   "id": "5db8eb24",
   "metadata": {},
   "outputs": [
    {
     "name": "stdout",
     "output_type": "stream",
     "text": [
      "Passed all tests\n"
     ]
    }
   ],
   "source": [
    "# At top of atmosphere\n",
    "assert np.allclose(um(0)[N:], b_neg)\n",
    "\n",
    "# At bottom of atmosphere\n",
    "assert np.allclose(um(tau_prime)[:N], b_pos)\n",
    "\n",
    "print(\"Passed all tests\")"
   ]
  },
  {
   "cell_type": "markdown",
   "id": "55085c43",
   "metadata": {},
   "source": [
    "**Does the general solution satisfy the system of ODEs?**"
   ]
  },
  {
   "cell_type": "code",
   "execution_count": 33,
   "id": "2fbc7e8c",
   "metadata": {},
   "outputs": [
    {
     "name": "stdout",
     "output_type": "stream",
     "text": [
      "Pointwise L_inf % error: 0.026988727349968232\n"
     ]
    }
   ],
   "source": [
    "um_cache = um(tau_arr)\n",
    "RHS = um_cache @ first_deriv\n",
    "LHS = A @ um_cache + np.outer(X_tilde, np.exp(-tau_arr / mu0))\n",
    "\n",
    "print(\"Pointwise L_inf % error:\", np.linalg.norm((RHS - LHS) / RHS, ord=np.infty))"
   ]
  },
  {
   "cell_type": "markdown",
   "id": "e4376cf8",
   "metadata": {},
   "source": [
    "**Does the general solution satisfy the Fourier mode integro-differential equation?**"
   ]
  },
  {
   "cell_type": "code",
   "execution_count": 34,
   "id": "ddbcdb01",
   "metadata": {},
   "outputs": [
    {
     "name": "stdout",
     "output_type": "stream",
     "text": [
      "L_inf % error: 0.026988727349061378\n"
     ]
    }
   ],
   "source": [
    "D = np.hstack((np.vstack((D_pos, D_neg)), np.vstack((D_neg, D_pos))))\n",
    "RHS = mu_arr[:, None] * um(tau_arr) @ first_deriv\n",
    "LHS = (\n",
    "    um_cache\n",
    "    - np.tensordot(\n",
    "        np.einsum(\"ij, jt -> ijt\", D, um_cache, optimize=True),\n",
    "        full_weights_mu,\n",
    "        axes=(1, 0),\n",
    "    )\n",
    "    - np.outer(np.concatenate((X_pos, X_neg)), np.exp(-tau_arr / mu0))\n",
    ")\n",
    "print(\"L_inf % error:\", np.linalg.norm((RHS - LHS) / RHS, ord=np.infty))"
   ]
  },
  {
   "cell_type": "markdown",
   "id": "7394658b",
   "metadata": {},
   "source": [
    "### 2.3.5 The full solution and computation of flux, reflectivity, transmittivity"
   ]
  },
  {
   "cell_type": "markdown",
   "id": "68a49a51",
   "metadata": {},
   "source": [
    "The above must be repeated for each Fourier mode. The full solution given by `PyDISORT` is\n",
    "\n",
    "$$\n",
    "u(\\tau, \\mu, \\phi) = \\sum_{m=0} u^m(\\mu,\\tau)\\cos\\left(m\\left(\\phi_0 - \\phi\\right)\\right)\n",
    "$$\n",
    "\n",
    "This solution is continuous and variable with respect to $\\tau$ and $\\phi$ but discrete and fixed with respect to $\\mu$. The function output is 3-dimensional and axes $0, 1, 2$ capture $\\mu, \\tau, \\phi$ variation respectively. The solution $u$ is easily split into $u^+$ and $u^-$ by halving the $\\mu$ index."
   ]
  },
  {
   "cell_type": "markdown",
   "id": "153e08d1",
   "metadata": {},
   "source": [
    "`PyDISORT` also returns the positive and negative (hemispheric) flux functions\n",
    "\n",
    "$$\n",
    "\\begin{align*}\n",
    "\\mbox{Flux}^\\pm(\\tau) &= \\int_{0}^{1} \\int_{0}^{2 \\pi} \\mu u\\left(\\tau, \\pm\\mu, \\phi\\right) \\mathrm{d} \\phi \\mathrm{d} \\mu \\\\\n",
    "& \\approx \\sum_{m=0} \\left(\\int_{0}^{1} \\mu u^m(\\tau, \\pm\\mu) \\mathrm{d} \\mu \\int_{0}^{2 \\pi} \\cos\\left(m\\left(\\phi_0 - \\phi\\right)\\right) \\mathrm{d} \\phi \\right) \\\\\n",
    "&= 2\\pi \\int_{0}^{1} \\mu u^0\\left(\\tau, \\pm\\mu\\right) \\mathrm{d} \\mu \\\\\n",
    "&\\approx 2\\pi \\sum_{i = 1} w_i\\mu_i u^0\\left(\\tau, \\pm\\mu_i\\right)\n",
    "\\end{align*}\n",
    "$$\n",
    "\n",
    "In the last line we use Gauss-Legendre quadrature to approximate the $\\mu$ integral."
   ]
  },
  {
   "cell_type": "code",
   "execution_count": 35,
   "id": "320e873d",
   "metadata": {},
   "outputs": [],
   "source": [
    "Ntau = 2**9  # Number of tau grid points\n",
    "Nphi = 2**6 + 1  # Number of phi grid points\n",
    "\n",
    "tau_arr = np.linspace(0, tau_prime, Ntau)\n",
    "h = tau_arr[1] - tau_arr[0]  # grid spacing\n",
    "phi_arr, full_weights_phi = Clenshaw_Curtis_quad(Nphi)\n",
    "\n",
    "# Construct 1st derivative matrix with 2nd order accuracy\n",
    "first_deriv = np.zeros((Ntau, Ntau))\n",
    "diagonal = np.ones(Ntau) / (2 * h)\n",
    "first_deriv += np.diag(diagonal[:-1], 1)\n",
    "first_deriv += np.diag(-diagonal[:-1], -1)\n",
    "first_deriv[0, :3] = np.array([-3 / 2, 2, -1 / 2]) / h\n",
    "first_deriv[-1, -3:] = np.array([1 / 2, -2, 3 / 2]) / h\n",
    "first_deriv = first_deriv.T # This is due to tau being indexed by columns instead of rows\n",
    "\n",
    "mu_arr, u, flux_up, flux_down = PyDISORT(\n",
    "    b_pos, b_neg, False, NQuad, tau_prime, w0, Leg_coeffs, mu0, phi0, I0\n",
    ")\n",
    "full_weights_mu = np.concatenate((weights, weights))"
   ]
  },
  {
   "cell_type": "markdown",
   "id": "ada4fda8",
   "metadata": {},
   "source": [
    "#### 2.3.5.1 Verification of full solution"
   ]
  },
  {
   "cell_type": "markdown",
   "id": "10f93d91",
   "metadata": {},
   "source": [
    "**Does the full solution satisfy the BCs?**"
   ]
  },
  {
   "cell_type": "code",
   "execution_count": 36,
   "id": "72481edd",
   "metadata": {},
   "outputs": [
    {
     "name": "stdout",
     "output_type": "stream",
     "text": [
      "Passed all tests\n"
     ]
    }
   ],
   "source": [
    "# At top of atmosphere\n",
    "assert np.allclose(\n",
    "    u(0, phi_arr)[N:, :],\n",
    "    np.tensordot(\n",
    "        np.repeat(np.atleast_1d(b_neg)[:, None], N // len(np.atleast_1d(b_neg))),\n",
    "        np.sum(np.cos(np.outer(phi0 - phi_arr, np.arange(NLeg))), axis=1),\n",
    "        axes=0,\n",
    "    ),\n",
    ")\n",
    "\n",
    "# At bottom of atmosphere\n",
    "assert np.allclose(\n",
    "    u(tau_prime, phi_arr)[:N, :],\n",
    "    np.tensordot(\n",
    "        np.repeat(np.atleast_1d(b_pos)[:, None], N // len(np.atleast_1d(b_pos))),\n",
    "        np.sum(np.cos(np.outer(phi0 - phi_arr, np.arange(NLeg))), axis=1),\n",
    "        axes=0,\n",
    "    ),\n",
    ")\n",
    "\n",
    "print(\"Passed all tests\")"
   ]
  },
  {
   "cell_type": "markdown",
   "id": "6b28d3e2",
   "metadata": {},
   "source": [
    "**Does the full solution satisfy the radiative transfer equation?**"
   ]
  },
  {
   "cell_type": "code",
   "execution_count": 37,
   "id": "787a2ae4",
   "metadata": {},
   "outputs": [],
   "source": [
    "u_cache = u(tau_arr, phi_arr)\n",
    "LHS = mu_arr[:, None, None] * np.moveaxis(\n",
    "    np.tensordot(u_cache, first_deriv, axes=(1, 0)),\n",
    "    source=2,\n",
    "    destination=1,\n",
    ")"
   ]
  },
  {
   "cell_type": "code",
   "execution_count": 38,
   "id": "ae559251",
   "metadata": {},
   "outputs": [],
   "source": [
    "# WARNING: The integrand is a 5-dimensional tensor and so constructing it \n",
    "#          can be computationally intensive depending on parameters\n",
    "integrand = np.einsum(\n",
    "    \"ijkl, ktl -> itjkl\",\n",
    "    p_HG_muphi(mu_arr, phi_arr, mu_arr, phi_arr),\n",
    "    u_cache,\n",
    "    optimize=True,\n",
    ")\n",
    "RHS = (\n",
    "    u_cache\n",
    "    - (w0 / (4 * pi))\n",
    "    * np.tensordot(\n",
    "        np.tensordot(integrand, full_weights_mu, axes=(3, 0)),\n",
    "        full_weights_phi,\n",
    "        axes=(3, 0),\n",
    "    )\n",
    "    - (w0 * I0 / (4 * pi))\n",
    "    * np.moveaxis(\n",
    "        np.tensordot(\n",
    "            p_HG_muphi(mu_arr, phi_arr, -mu0, phi0), np.exp(-tau_arr / mu0), axes=0\n",
    "        ),\n",
    "        source=2,\n",
    "        destination=1,\n",
    "    )\n",
    ")"
   ]
  },
  {
   "cell_type": "code",
   "execution_count": 39,
   "id": "7af46b05",
   "metadata": {},
   "outputs": [
    {
     "name": "stdout",
     "output_type": "stream",
     "text": [
      "L2 error = 0.5791894464735415\n",
      "% error in L2 norm = 0.00046645793984488186\n"
     ]
    }
   ],
   "source": [
    "print(\"L2 error =\", np.linalg.norm(LHS - RHS))\n",
    "print(\"% error in L2 norm =\", np.linalg.norm(LHS - RHS)/np.linalg.norm(RHS))"
   ]
  },
  {
   "cell_type": "markdown",
   "id": "f53938c4",
   "metadata": {},
   "source": [
    "The pointwise error may be large. This discrepancy is partly due the integrals in the radiative transfer equation; information about individual points tends to be lost upon integration. Fortunately, we are more interested in the flux, which is an aggregated quantity, than in intensity values at specific points."
   ]
  },
  {
   "cell_type": "markdown",
   "id": "8a73eabd",
   "metadata": {},
   "source": [
    "#### 2.3.5.2 Verification of flux, reflectivity, transmittivity (TODO)"
   ]
  },
  {
   "cell_type": "markdown",
   "id": "ac45b1ca",
   "metadata": {},
   "source": [
    "**Does integrating the intensity functions produce the flux functions?**"
   ]
  },
  {
   "cell_type": "code",
   "execution_count": 40,
   "id": "2fc72cc4",
   "metadata": {},
   "outputs": [],
   "source": [
    "flux_up_test = np.tensordot(\n",
    "    np.tensordot(\n",
    "        mu_arr_pos[:, None, None] * u_cache[:N, :], weights, axes=(0, 0)\n",
    "    ),\n",
    "    full_weights_phi,\n",
    "    axes=(1, 0),\n",
    ")\n",
    "flux_down_test = np.tensordot(\n",
    "    np.tensordot(\n",
    "        mu_arr_pos[:, None, None] * u_cache[N:, :], weights, axes=(0, 0)\n",
    "    ),\n",
    "    full_weights_phi,\n",
    "    axes=(1, 0),\n",
    ")\n",
    "\n",
    "assert np.allclose(flux_up_test, flux_up(tau_arr))\n",
    "assert np.allclose(flux_down_test, flux_down(tau_arr))"
   ]
  },
  {
   "cell_type": "code",
   "execution_count": 41,
   "id": "a53535fd",
   "metadata": {},
   "outputs": [
    {
     "name": "stdout",
     "output_type": "stream",
     "text": [
      "Upwelling and downwelling = 0.015779198843884804 0.17074312408273246\n"
     ]
    }
   ],
   "source": [
    "print(\"Upwelling and downwelling =\", flux_up(0), flux_down(tau_prime))"
   ]
  },
  {
   "cell_type": "markdown",
   "id": "23141775",
   "metadata": {},
   "source": [
    "*TODO: Calculate Reflectivity and Transmitivity (See [[6]](#cite-MW1980)). Verify that they are equal if $\\omega_0 = 1$*"
   ]
  },
  {
   "cell_type": "markdown",
   "id": "b3bd1639",
   "metadata": {},
   "source": [
    "#### 2.3.5.3 Timing PyDISORT"
   ]
  },
  {
   "cell_type": "markdown",
   "id": "a55ab1a9",
   "metadata": {},
   "source": [
    "The time taken will of course be parameter-dependent, but this should give a sense of the speed of `PyDISORT`."
   ]
  },
  {
   "cell_type": "markdown",
   "id": "416dc04a",
   "metadata": {},
   "source": [
    "**Time taken to solve the radiative transfer equation**"
   ]
  },
  {
   "cell_type": "code",
   "execution_count": 42,
   "id": "b22d2337",
   "metadata": {},
   "outputs": [
    {
     "name": "stdout",
     "output_type": "stream",
     "text": [
      "28.2 ms ± 1.64 ms per loop (mean ± std. dev. of 7 runs, 10 loops each)\n",
      "1.36 ms ± 41.2 µs per loop (mean ± std. dev. of 7 runs, 1000 loops each)\n"
     ]
    }
   ],
   "source": [
    "# For intensity\n",
    "%timeit PyDISORT(b_pos, b_neg, False, NQuad, tau_prime, w0, Leg_coeffs, mu0, phi0, I0)\n",
    "\n",
    "# For flux\n",
    "%timeit PyDISORT(b_pos, b_neg, True, NQuad, tau_prime, w0, Leg_coeffs, mu0, phi0, I0)"
   ]
  },
  {
   "cell_type": "markdown",
   "id": "41446198",
   "metadata": {},
   "source": [
    "**Time taken to evaluate the solution at a point**"
   ]
  },
  {
   "cell_type": "code",
   "execution_count": 43,
   "id": "558d759b",
   "metadata": {},
   "outputs": [
    {
     "name": "stdout",
     "output_type": "stream",
     "text": [
      "94.4 µs ± 1.1 µs per loop (mean ± std. dev. of 7 runs, 10000 loops each)\n",
      "14 µs ± 756 ns per loop (mean ± std. dev. of 7 runs, 100000 loops each)\n",
      "13.3 µs ± 63.9 ns per loop (mean ± std. dev. of 7 runs, 100000 loops each)\n"
     ]
    }
   ],
   "source": [
    "# For intensity\n",
    "%timeit u(tau_arr[Ntau//2], phi_arr[Nphi//2])\n",
    "\n",
    "# For flux\n",
    "%timeit flux_up(0)\n",
    "%timeit flux_down(tau_prime)"
   ]
  },
  {
   "cell_type": "markdown",
   "id": "aed4cb45",
   "metadata": {},
   "source": [
    "<!--bibtex\n",
    "\n",
    "\n",
    "@book{Cha1960, \n",
    "      author = \"S.  Chandrasekhar\",\n",
    "      title = \"Radiative Transfer\",\n",
    "      year = \"1960\",\n",
    "      publisher = \"Dover\",\n",
    "}\n",
    "\n",
    "@article{Wis1977,\n",
    "      author = \"W. J.  Wiscombe\",\n",
    "      title = \"The Delta–M Method: Rapid Yet Accurate Radiative Flux Calculations for Strongly Asymmetric Phase Functions\",\n",
    "      journal = \"Journal of Atmospheric Sciences\",\n",
    "      year = \"1977\",\n",
    "      publisher = \"American Meteorological Society\",\n",
    "      address = \"Boston MA, USA\",\n",
    "      volume = \"34\",\n",
    "      number = \"9\",\n",
    "      doi = \"10.1175/1520-0469(1977)034<1408:TDMRYA>2.0.CO;2\",\n",
    "      pages=      \"1408 - 1422\",\n",
    "      url = \"https://journals.ametsoc.org/view/journals/atsc/34/9/1520-0469_1977_034_1408_tdmrya_2_0_co_2.xml\"\n",
    "}\n",
    "\n",
    "@article{Syk1951,\n",
    "    author = {Sykes, J. B.},\n",
    "    title = \"{Approximate Integration of the Equation of Transfer}\",\n",
    "    journal = {Monthly Notices of the Royal Astronomical Society},\n",
    "    volume = {111},\n",
    "    number = {4},\n",
    "    pages = {377-386},\n",
    "    year = {1951},\n",
    "    month = {08},\n",
    "    abstract = \"{The value of numerical integration in obtaining approximate solutions of an equation of transfer, and the different methods at our disposal, are discussed. It is shown that although the Newton-Cotes method, used by Kourganoff, is better than the Gauss method, used by Chandrasekhar, both are inferior to a new method, the double-Gauss, discovered by the author. The errors in the approximate values of the source-function and the limb-darkening in all three methods are tabulated for various approximations, and illustrated by graphs.}\",\n",
    "    issn = {0035-8711},\n",
    "    doi = {10.1093/mnras/111.4.377},\n",
    "    url = {https://doi.org/10.1093/mnras/111.4.377},\n",
    "    eprint = {https://academic.oup.com/mnras/article-pdf/111/4/377/8077435/mnras111-0377.pdf},\n",
    "}\n",
    "\n",
    "\n",
    "@article{STWJ1988,\n",
    "author = {Knut Stamnes and S-Chee Tsay and Warren Wiscombe and Kolf Jayaweera},\n",
    "journal = {Appl. Opt.},\n",
    "keywords = {Electromagnetic radiation; Multiple scattering; Optical depth; Radiative transfer; Reflection; Thermal emission},\n",
    "number = {12},\n",
    "pages = {2502--2509},\n",
    "publisher = {Optica Publishing Group},\n",
    "title = {Numerically stable algorithm for discrete-ordinate-method radiative transfer in multiple scattering and emitting layered media},\n",
    "volume = {27},\n",
    "month = {Jun},\n",
    "year = {1988},\n",
    "url = {http://opg.optica.org/ao/abstract.cfm?URI=ao-27-12-2502},\n",
    "doi = {10.1364/AO.27.002502},\n",
    "abstract = {We summarize an advanced, thoroughly documented, and quite general purpose discrete ordinate algorithm for time-independent transfer calculations in vertically inhomogeneous, nonisothermal, plane-parallel media. Atmospheric applications ranging from the UV to the radar region of the electromagnetic spectrum are possible. The physical processes included are thermal emission, scattering, absorption, and bidirectional reflection and emissionat the lower boundary. The medium may be forced at the top boundary by parallel or diffuse radiation and by internal and boundary thermal sources as well. We provide a brief account of the theoretical basis as well as a discussion of the numerical implementation of the theory. The recent advances made by ourselves and our collaborators---advances in both formulation and numerical solution---are all incorporated in the algorithm. Prominent among these advances are the complete conquest of two ill-conditioning problems which afflicted all previous discrete ordinate implementations: (1) the computation of eigenvalues and eigenvectors and (2) the inversion of the matrix determining the constants of integration. Copies of the fortran program on microcomputer diskettes are available for interested users.},\n",
    "}\n",
    "\n",
    "\n",
    "\n",
    "@article{STL2000,\n",
    "author = {Stamnes, Knut and Tsay, Si-Chee and Wiscombe, Warren and Laszlo, Istvan and Einaudi, Franco},\n",
    "year = {2000},\n",
    "month = {02},\n",
    "pages = {},\n",
    "title = {General Purpose Fortran Program for Discrete-Ordinate-Method Radiative Transfer in Scattering and Emitting Layered Media: An Update of DISORT}\n",
    "}\n",
    "\n",
    "@article{SS1981,\n",
    "      author = \"Knut  Stamnes and Roy A.  Swanson\",\n",
    "      title = \"A New Look at the Discrete Ordinate Method for Radiative Transfer Calculations in Anisotropically Scattering Atmospheres\",\n",
    "      journal = \"Journal of Atmospheric Sciences\",\n",
    "      year = \"1981\",\n",
    "      publisher = \"American Meteorological Society\",\n",
    "      address = \"Boston MA, USA\",\n",
    "      volume = \"38\",\n",
    "      number = \"2\",\n",
    "      doi = \"10.1175/1520-0469(1981)038<0387:ANLATD>2.0.CO;2\",\n",
    "      pages=      \"387 - 399\",\n",
    "      url = \"https://journals.ametsoc.org/view/journals/atsc/38/2/1520-0469_1981_038_0387_anlatd_2_0_co_2.xml\"\n",
    "}\n",
    "\n",
    "@article{SC1984,\n",
    "title = {A new multi-layer discrete ordinate approach to radiative transfer in vertically inhomogeneous atmospheres},\n",
    "journal = {Journal of Quantitative Spectroscopy and Radiative Transfer},\n",
    "volume = {31},\n",
    "number = {3},\n",
    "pages = {273-282},\n",
    "year = {1984},\n",
    "issn = {0022-4073},\n",
    "doi = {https://doi.org/10.1016/0022-4073(84)90031-1},\n",
    "url = {https://www.sciencedirect.com/science/article/pii/0022407384900311},\n",
    "author = {Knut Stamnes and Paul Conklin},\n",
    "abstract = {A recently developed matrix formulation of the discrete ordinate method is extended for application to an inhomogeneous atmosphere. The solution yields fluxes, as well as the complete azimuthal dependence of the intensity at any level in the atmosphere. The numerical aspects of the solution are discussed and numerical verification is provided by comparing computed results with those obtained by other methods. In particular, it is shown that a simple scaling scheme, which removes the positive exponentials in the coefficient matrix when solving for the constants of integration, provides unconditionally stable solutions for arbitrary optical thicknesses. An assessment of the accuracy to be expected is also provided, and it is shown that low-order discrete ordinate approximations yield very accurate flux values.}\n",
    "}\n",
    "\n",
    "@article{MH2017,\n",
    "title = {A demonstration of adjoint methods for multi-dimensional remote sensing of the atmosphere and surface},\n",
    "journal = {Journal of Quantitative Spectroscopy and Radiative Transfer},\n",
    "volume = {204},\n",
    "pages = {215-231},\n",
    "year = {2018},\n",
    "issn = {0022-4073},\n",
    "doi = {https://doi.org/10.1016/j.jqsrt.2017.09.031},\n",
    "url = {https://www.sciencedirect.com/science/article/pii/S0022407317305198},\n",
    "author = {William G.K. Martin and Otto P. Hasekamp},\n",
    "keywords = {Adjoint methods, Three-dimensional vector radiative transfer, Linearization, Remote sensing, Parameter derivatives, Searchlight functions},\n",
    "abstract = {In previous work, we derived the adjoint method as a computationally efficient path to three-dimensional (3D) retrievals of clouds and aerosols. In this paper we will demonstrate the use of adjoint methods for retrieving two-dimensional (2D) fields of cloud extinction. The demonstration uses a new 2D radiative transfer solver (FSDOM). This radiation code was augmented with adjoint methods to allow efficient derivative calculations needed to retrieve cloud and surface properties from multi-angle reflectance measurements. The code was then used in three synthetic retrieval studies. Our retrieval algorithm adjusts the cloud extinction field and surface albedo to minimize the measurement misfit function with a gradient-based, quasi-Newton approach. At each step we compute the value of the misfit function and its gradient with two calls to the solver FSDOM. First we solve the forward radiative transfer equation to compute the residual misfit with measurements, and second we solve the adjoint radiative transfer equation to compute the gradient of the misfit function with respect to all unknowns. The synthetic retrieval studies verify that adjoint methods are scalable to retrieval problems with many measurements and unknowns. We can retrieve the vertically-integrated optical depth of moderately thick clouds as a function of the horizontal coordinate. It is also possible to retrieve the vertical profile of clouds that are separated by clear regions. The vertical profile retrievals improve for smaller cloud fractions. This leads to the conclusion that cloud edges actually increase the amount of information that is available for retrieving the vertical profile of clouds. However, to exploit this information one must retrieve the horizontally heterogeneous cloud properties with a 2D (or 3D) model. This prototype shows that adjoint methods can efficiently compute the gradient of the misfit function. This work paves the way for the application of similar methods to 3D remote sensing problems.}\n",
    "}\n",
    "\n",
    "@article{MCB2014,\n",
    "title = {Adjoint methods for adjusting three-dimensional atmosphere and surface properties to fit multi-angle/multi-pixel polarimetric measurements},\n",
    "journal = {Journal of Quantitative Spectroscopy and Radiative Transfer},\n",
    "volume = {144},\n",
    "pages = {68-85},\n",
    "year = {2014},\n",
    "issn = {0022-4073},\n",
    "doi = {https://doi.org/10.1016/j.jqsrt.2014.03.030},\n",
    "url = {https://www.sciencedirect.com/science/article/pii/S002240731400154X},\n",
    "author = {William Martin and Brian Cairns and Guillaume Bal},\n",
    "keywords = {Adjoint methods, Three-dimensional vector radiative transfer, Linearization, Remote sensing, Parameter derivatives},\n",
    "abstract = {This paper derives an efficient procedure for using the three-dimensional (3D) vector radiative transfer equation (VRTE) to adjust atmosphere and surface properties and improve their fit with multi-angle/multi-pixel radiometric and polarimetric measurements of scattered sunlight. The proposed adjoint method uses the 3D VRTE to compute the measurement misfit function and the adjoint 3D VRTE to compute its gradient with respect to all unknown parameters. In the remote sensing problems of interest, the scalar-valued misfit function quantifies agreement with data as a function of atmosphere and surface properties, and its gradient guides the search through this parameter space. Remote sensing of the atmosphere and surface in a three-dimensional region may require thousands of unknown parameters and millions of data points. Many approaches would require calls to the 3D VRTE solver in proportion to the number of unknown parameters or measurements. To avoid this issue of scale, we focus on computing the gradient of the misfit function as an alternative to the Jacobian of the measurement operator. The resulting adjoint method provides a way to adjust 3D atmosphere and surface properties with only two calls to the 3D VRTE solver for each spectral channel, regardless of the number of retrieval parameters, measurement view angles or pixels. This gives a procedure for adjusting atmosphere and surface parameters that will scale to the large problems of 3D remote sensing. For certain types of multi-angle/multi-pixel polarimetric measurements, this encourages the development of a new class of three-dimensional retrieval algorithms with more flexible parametrizations of spatial heterogeneity, less reliance on data screening procedures, and improved coverage in terms of the resolved physical processes in the Earth׳s atmosphere.}\n",
    "}\n",
    "\n",
    "@article{LSJLTWS2015,\n",
    "title = {Improved discrete ordinate solutions in the presence of an anisotropically reflecting lower boundary: Upgrades of the DISORT computational tool},\n",
    "journal = {Journal of Quantitative Spectroscopy and Radiative Transfer},\n",
    "volume = {157},\n",
    "pages = {119-134},\n",
    "year = {2015},\n",
    "issn = {0022-4073},\n",
    "doi = {https://doi.org/10.1016/j.jqsrt.2015.02.014},\n",
    "url = {https://www.sciencedirect.com/science/article/pii/S0022407315000679},\n",
    "author = {Z. Lin and S. Stamnes and Z. Jin and I. Laszlo and S.-C. Tsay and W.J. Wiscombe and K. Stamnes},\n",
    "keywords = {Radiative transfer model, BRDF, Cox–Munk, Ross–Li, RPV, Single scattering correction},\n",
    "abstract = {A successor version 3 of DISORT (DISORT3) is presented with important upgrades that improve the accuracy, efficiency, and stability of the algorithm. Compared with version 2 (DISORT2 released in 2000) these upgrades include (a) a redesigned BRDF computation that improves both speed and accuracy, (b) a revised treatment of the single scattering correction, and (c) additional efficiency and stability upgrades for beam sources. In DISORT3 the BRDF computation is improved in the following three ways: (i) the Fourier decomposition is prepared “off-line”, thus avoiding the repeated internal computations done in DISORT2; (ii) a large enough number of terms in the Fourier expansion of the BRDF is employed to guarantee accurate values of the expansion coefficients (default is 200 instead of 50 in DISORT2); (iii) in the post-processing step the reflection of the direct attenuated beam from the lower boundary is included resulting in a more accurate single scattering correction. These improvements in the treatment of the BRDF have led to improved accuracy and a several-fold increase in speed. In addition, the stability of beam sources has been improved by removing a singularity occurring when the cosine of the incident beam angle is too close to the reciprocal of any of the eigenvalues. The efficiency for beam sources has been further improved from reducing by a factor of 2 (compared to DISORT2) the dimension of the linear system of equations that must be solved to obtain the particular solutions, and by replacing the LINPAK routines used in DISORT2 by LAPACK 3.5 in DISORT3. These beam source stability and efficiency upgrades bring enhanced stability and an additional 5–7% improvement in speed. Numerical results are provided to demonstrate and quantify the improvements in accuracy and efficiency of DISORT3 compared to DISORT2.}\n",
    "}\n",
    "\n",
    "@article {JWW1976,\n",
    "      author = \"J. H.  Joseph and W. J.  Wiscombe and J. A.  Weinman\",\n",
    "      title = \"The Delta-Eddington Approximation for Radiative Flux Transfer\",\n",
    "      journal = \"Journal of Atmospheric Sciences\",\n",
    "      year = \"1976\",\n",
    "      publisher = \"American Meteorological Society\",\n",
    "      address = \"Boston MA, USA\",\n",
    "      volume = \"33\",\n",
    "      number = \"12\",\n",
    "      doi = \"10.1175/1520-0469(1976)033<2452:TDEAFR>2.0.CO;2\",\n",
    "      pages=      \"2452 - 2459\",\n",
    "      url = \"https://journals.ametsoc.org/view/journals/atsc/33/12/1520-0469_1976_033_2452_tdeafr_2_0_co_2.xml\"\n",
    "}\n",
    "\n",
    "@Article{HMMNPW2017,\n",
    "AUTHOR = {Hase, N. and Miller, S. M. and Maa{\\ss}, P. and Notholt, J. and Palm, M. and Warneke, T.},\n",
    "TITLE = {Atmospheric inverse modeling via sparse reconstruction},\n",
    "JOURNAL = {Geoscientific Model Development},\n",
    "VOLUME = {10},\n",
    "YEAR = {2017},\n",
    "NUMBER = {10},\n",
    "PAGES = {3695--3713},\n",
    "URL = {https://gmd.copernicus.org/articles/10/3695/2017/},\n",
    "DOI = {10.5194/gmd-10-3695-2017}\n",
    "}\n",
    "\n",
    "@article {FL1992,\n",
    "      author = \"Qiang  Fu and K. N.  Liou\",\n",
    "      title = \"On the Correlated k-Distribution Method for Radiative Transfer in Nonhomogeneous Atmospheres\",\n",
    "      journal = \"Journal of Atmospheric Sciences\",\n",
    "      year = \"1992\",\n",
    "      publisher = \"American Meteorological Society\",\n",
    "      address = \"Boston MA, USA\",\n",
    "      volume = \"49\",\n",
    "      number = \"22\",\n",
    "      doi = \"10.1175/1520-0469(1992)049<2139:OTCDMF>2.0.CO;2\",\n",
    "      pages=      \"2139 - 2156\",\n",
    "      url = \"https://journals.ametsoc.org/view/journals/atsc/49/22/1520-0469_1992_049_2139_otcdmf_2_0_co_2.xml\"\n",
    "}\n",
    "\n",
    "@inproceedings{FJ1999,\n",
    "  title={Computer-based underwater imaging analysis},\n",
    "  author={Georges R. Fournier and Miroslaw Jonasz},\n",
    "  booktitle={Optics \\& Photonics},\n",
    "  year={1999}\n",
    "}\n",
    "\n",
    "@article{DM2010,\n",
    "\tdoi = {10.1088/0034-4885/73/2/026801},\n",
    "\turl = {https://doi.org/10.1088/0034-4885/73/2/026801},\n",
    "\tyear = 2010,\n",
    "\tmonth = {jan},\n",
    "\tpublisher = {{IOP} Publishing},\n",
    "\tvolume = {73},\n",
    "\tnumber = {2},\n",
    "\tpages = {026801},\n",
    "\tauthor = {Anthony B Davis and Alexander Marshak},\n",
    "\ttitle = {Solar radiation transport in the cloudy atmosphere: a 3D perspective on observations and climate impacts},\n",
    "\tjournal = {Reports on Progress in Physics},\n",
    "\tabstract = {The interplay of sunlight with clouds is a ubiquitous and often pleasant visual experience, but it conjures up major challenges for weather, climate, environmental science and beyond. Those engaged in the characterization of clouds (and the clear air nearby) by remote sensing methods are even more confronted. The problem comes, on the one hand, from the spatial complexity of real clouds and, on the other hand, from the dominance of multiple scattering in the radiation transport. The former ingredient contrasts sharply with the still popular representation of clouds as homogeneous plane-parallel slabs for the purposes of radiative transfer computations. In typical cloud scenes the opposite asymptotic transport regimes of diffusion and ballistic propagation coexist. We survey the three-dimensional (3D) atmospheric radiative transfer literature over the past 50 years and identify three concurrent and intertwining thrusts: first, how to assess the damage (bias) caused by 3D effects in the operational 1D radiative transfer models? Second, how to mitigate this damage? Finally, can we exploit 3D radiative transfer phenomena to innovate observation methods and technologies? We quickly realize that the smallest scale resolved computationally or observationally may be artificial but is nonetheless a key quantity that separates the 3D radiative transfer solutions into two broad and complementary classes: stochastic and deterministic. Both approaches draw on classic and contemporary statistical, mathematical and computational physics.}\n",
    "}\n",
    "\n",
    "@article{DFDM2021,\n",
    "      author = \"Linda Forster and Anthony B. Davis and David J. Diner and Bernhard Mayer\",\n",
    "      title = \"Toward Cloud Tomography from Space Using MISR and MODIS: Locating the “Veiled Core” in Opaque Convective Clouds\",\n",
    "      journal = \"Journal of the Atmospheric Sciences\",\n",
    "      year = \"2021\",\n",
    "      publisher = \"American Meteorological Society\",\n",
    "      address = \"Boston MA, USA\",\n",
    "      volume = \"78\",\n",
    "      number = \"1\",\n",
    "      doi = \"10.1175/JAS-D-19-0262.1\",\n",
    "      pages=      \"155 - 166\",\n",
    "      url = \"https://journals.ametsoc.org/view/journals/atsc/78/1/jas-d-19-0262.1.xml\"\n",
    "}\n",
    "\n",
    "@article{DDET2022,\n",
    "title = {Cloud tomographic retrieval algorithms. I: Surrogate minimization method},\n",
    "journal = {Journal of Quantitative Spectroscopy and Radiative Transfer},\n",
    "volume = {277},\n",
    "pages = {107954},\n",
    "year = {2022},\n",
    "issn = {0022-4073},\n",
    "doi = {https://doi.org/10.1016/j.jqsrt.2021.107954},\n",
    "url = {https://www.sciencedirect.com/science/article/pii/S0022407321004465},\n",
    "author = {Adrian Doicu and Alexandru Doicu and Dmitry Efremenko and Thomas Trautmann},\n",
    "keywords = {Cloud tomographic retrieval, Multi-dimensional models},\n",
    "abstract = {A cloud tomographic retrieval algorithm relying on (i) the spherical harmonics discrete ordinate method for computing the radiative transfer and (ii) the surrogate minimization method for solving the inverse problem has been designed. The retrieval algorithm uses regularization, accelerated projected gradient methods, and two types of surrogate functions. The performances of the retrieval algorithm are analyzed on a few synthetic two- and three-dimensional problems.}\n",
    "}\n",
    "\n",
    "@misc{Sta1999, \n",
    "\ttitle={LLLab disort website}, \n",
    "\turl={http://www.rtatmocn.com/disort/}, \n",
    "\tjournal={Light and Life Lab (LLLab)}, \n",
    "\tauthor={Stamnes, S.}, \n",
    "\tyear={1999}\n",
    "} \n",
    "\n",
    "@INPROCEEDINGS{ALHSAV2020,\n",
    "  author={Aides, Amit and Levis, Aviad and Holodovsky, Vadim and Schechner, Yoav Y. and Althausen, Dietrich and Vainiger, Adi},\n",
    "  booktitle={2020 IEEE International Conference on Computational Photography (ICCP)}, \n",
    "  title={Distributed Sky Imaging Radiometry and Tomography}, \n",
    "  year={2020},\n",
    "  volume={},\n",
    "  number={},\n",
    "  pages={1-12},\n",
    "  doi={10.1109/ICCP48838.2020.9105241}}\n",
    "\n",
    "@article {MW1980,\n",
    "      author = \"W. E.  Meador and W. R.  Weaver\",\n",
    "      title = \"Two-Stream Approximations to Radiative Transfer in Planetary Atmospheres: A Unified Description of Existing Methods and a New Improvement\",\n",
    "      journal = \"Journal of Atmospheric Sciences\",\n",
    "      year = \"1980\",\n",
    "      publisher = \"American Meteorological Society\",\n",
    "      address = \"Boston MA, USA\",\n",
    "      volume = \"37\",\n",
    "      number = \"3\",\n",
    "      doi = \"10.1175/1520-0469(1980)037<0630:TSATRT>2.0.CO;2\",\n",
    "      pages=      \"630 - 643\",\n",
    "      url = \"https://journals.ametsoc.org/view/journals/atsc/37/3/1520-0469_1980_037_0630_tsatrt_2_0_co_2.xml\"\n",
    "}\n",
    "\n",
    "\n",
    "-->"
   ]
  },
  {
   "cell_type": "markdown",
   "id": "084f3900",
   "metadata": {},
   "source": [
    "# References\n",
    "\n",
    "1) <a id=\"cite-STWJ1988\"/><sup><a href=#ref-1>[^]</a><a href=#ref-2>[^]</a><a href=#ref-3>[^]</a><a href=#ref-7>[^]</a><a href=#ref-9>[^]</a><a href=#ref-14>[^]</a><a href=#ref-15>[^]</a><a href=#ref-16>[^]</a><a href=#ref-18>[^]</a></sup>Knut Stamnes and S-Chee Tsay and Warren Wiscombe and Kolf Jayaweera. 1988. _Numerically stable algorithm for discrete-ordinate-method radiative transfer in multiple scattering and emitting layered media_. [URL](http://opg.optica.org/ao/abstract.cfm?URI=ao-27-12-2502)\n",
    "\n",
    "2) <a id=\"cite-Sta1999\"/><sup><a href=#ref-4>[^]</a><a href=#ref-6>[^]</a><a href=#ref-8>[^]</a></sup>Stamnes, S.. 1999. _LLLab disort website_. [URL](http://www.rtatmocn.com/disort/)\n",
    "\n",
    "3) <a id=\"cite-SS1981\"/><sup><a href=#ref-5>[^]</a></sup>Knut  Stamnes and Roy A.  Swanson. 1981. _A New Look at the Discrete Ordinate Method for Radiative Transfer Calculations in Anisotropically Scattering Atmospheres_. [URL](https://journals.ametsoc.org/view/journals/atsc/38/2/1520-0469_1981_038_0387_anlatd_2_0_co_2.xml)\n",
    "\n",
    "4) <a id=\"cite-JWW1976\"/><sup><a href=#ref-10>[^]</a></sup>J. H.  Joseph and W. J.  Wiscombe and J. A.  Weinman. 1976. _The Delta-Eddington Approximation for Radiative Flux Transfer_. [URL](https://journals.ametsoc.org/view/journals/atsc/33/12/1520-0469_1976_033_2452_tdeafr_2_0_co_2.xml)\n",
    "\n",
    "5) <a id=\"cite-Wis1977\"/><sup><a href=#ref-11>[^]</a></sup>W. J.  Wiscombe. 1977. _The Delta–M Method: Rapid Yet Accurate Radiative Flux Calculations for Strongly Asymmetric Phase Functions_. [URL](https://journals.ametsoc.org/view/journals/atsc/34/9/1520-0469_1977_034_1408_tdmrya_2_0_co_2.xml)\n",
    "\n",
    "6) <a id=\"cite-MW1980\"/><sup><a href=#ref-12>[^]</a><a href=#ref-13>[^]</a></sup>W. E.  Meador and W. R.  Weaver. 1980. _Two-Stream Approximations to Radiative Transfer in Planetary Atmospheres: A Unified Description of Existing Methods and a New Improvement_. [URL](https://journals.ametsoc.org/view/journals/atsc/37/3/1520-0469_1980_037_0630_tsatrt_2_0_co_2.xml)\n",
    "\n",
    "7) <a id=\"cite-Syk1951\"/><sup><a href=#ref-17>[^]</a></sup>Sykes, J. B.. 1951. _Approximate Integration of the Equation of Transfer_. [URL](https://doi.org/10.1093/mnras/111.4.377)\n",
    "\n"
   ]
  }
 ],
 "metadata": {
  "kernelspec": {
   "display_name": "Python 3 (ipykernel)",
   "language": "python",
   "name": "python3"
  },
  "language_info": {
   "codemirror_mode": {
    "name": "ipython",
    "version": 3
   },
   "file_extension": ".py",
   "mimetype": "text/x-python",
   "name": "python",
   "nbconvert_exporter": "python",
   "pygments_lexer": "ipython3",
   "version": "3.10.7"
  }
 },
 "nbformat": 4,
 "nbformat_minor": 5
}
