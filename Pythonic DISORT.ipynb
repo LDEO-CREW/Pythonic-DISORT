{
 "cells": [
  {
   "cell_type": "markdown",
   "id": "2bb6eda2",
   "metadata": {},
   "source": [
    "Solving the radiative transfer equation for a single atmospheric layer using the discrete ordinates method in Python"
   ]
  },
  {
   "cell_type": "markdown",
   "id": "7650e02f",
   "metadata": {
    "hide_input": true
   },
   "source": [
    "by Dion HO Jia Xu"
   ]
  },
  {
   "cell_type": "code",
   "execution_count": 1,
   "id": "d438e85f",
   "metadata": {
    "format": "row",
    "tags": [
     "hide_input"
    ]
   },
   "outputs": [],
   "source": [
    "import numpy as np\n",
    "import scipy as sc\n",
    "import matplotlib.pyplot as plt\n",
    "from mpl_toolkits.mplot3d import Axes3D\n",
    "from inspect import signature\n",
    "from math import pi\n",
    "from numpy.polynomial import legendre\n",
    "from scipy import integrate"
   ]
  },
  {
   "cell_type": "markdown",
   "id": "e7cd6607",
   "metadata": {},
   "source": [
    "# Table of Contents\n",
    "* [1. USER INPUT REQUIRED: List of parameters to set -- TODO](#1.-USER-INPUT-REQUIRED:-List-of-parameters-to-set----TODO)\n",
    "\t* [1.1 Hyperparameter list (excludes phase function)](#1.1-Hyperparameter-list-%28excludes-phase-function%29)\n",
    "\t* [1.2 Computational variable list](#1.2-Computational-variable-list)\n",
    "\t* [1.3 Phase functions and their Legendre expansion](#1.3-Phase-functions-and-their-Legendre-expansion)\n",
    "\t\t* [1.3.1 Phase functions](#1.3.1-Phase-functions)\n",
    "\t\t* [1.3.2 $\\delta-M$ scaled Legendre coefficients](#1.3.2-$\\delta-M$-scaled-Legendre-coefficients)\n",
    "* [2. Tensor product coding philosophy and importing PyDISORT -- TODO](#2.-Tensor-product-coding-philosophy-and-importing-PyDISORT----TODO)\n",
    "* [3. Breakdown and verification of single layer solver](#3.-Breakdown-and-verification-of-single-layer-solver)\n",
    "\t* [3.1 Quadrature](#3.1-Quadrature)\n",
    "\t\t* [3.1.1 Verification of quadrature weights and points on test integral](#3.1.1-Verification-of-quadrature-weights-and-points-on-test-integral)\n",
    "\t\t* [3.1.2 Normalization verification of the phase function](#3.1.2-Normalization-verification-of-the-phase-function)\n",
    "\t* [3.2 Derivation of the integro-differential equation for each Fourier mode](#3.2-Derivation-of-the-integro-differential-equation-for-each-Fourier-mode)\n",
    "\t* [3.3 $\\delta-M$ scaling in the Radiative Transfer Equation](#3.3-$\\delta-M$-scaling-in-the-Radiative-Transfer-Equation)\n",
    "\t* [3.4 Derivation of the system of ODEs for each Fourier mode](#3.4-Derivation-of-the-system-of-ODEs-for-each-Fourier-mode)\n",
    "\t* [3.5 Solving the system of ODEs for each Fourier mode](#3.5-Solving-the-system-of-ODEs-for-each-Fourier-mode)\n",
    "\t* [3.6 Constructing the general solution for each Fourier mode -- TODO](#3.6-Constructing-the-general-solution-for-each-Fourier-mode----TODO)\n",
    "\t\t* [3.6.1 The particular solution](#3.6.1-The-particular-solution)\n",
    "\t\t* [3.6.2 The homogeneous solution](#3.6.2-The-homogeneous-solution)\n",
    "\t\t* [3.6.3 Verification of the general solution](#3.6.3-Verification-of-the-general-solution)\n",
    "\t* [3.7 The full solution](#3.7-The-full-solution)\n",
    "\t\t* [3.7.1 Verification of full solution](#3.7.1-Verification-of-full-solution)\n",
    "\t\t* [3.7.2 Nakajima-Tanaka (NT) corrections -- TODO](#3.7.2-Nakajima-Tanaka-%28NT%29-corrections----TODO)\n",
    "\t\t* [3.7.3 Verification of NT corrected full solution](#3.7.3-Verification-of-NT-corrected-full-solution)\n",
    "\t\t* [3.7.4 Computation of flux](#3.7.4-Computation-of-flux)\n",
    "\t\t\t* [3.7.4.1 Verification of flux](#3.7.4.1-Verification-of-flux)\n",
    "\t\t\t* [3.7.4.2 Reflectance and transmittance](#3.7.4.2-Reflectance-and-transmittance)\n",
    "\t\t* [3.7.5 Timing PyDISORT](#3.7.5-Timing-PyDISORT)\n",
    "* [4. Solving for multiple atmospheric layers -- TODO](#4.-Solving-for-multiple-atmospheric-layers----TODO)\n",
    "* [5. Comparisons with Stamnes' FORTRAN DISORT -- TODO](#5.-Comparisons-with-Stamnes'-FORTRAN-DISORT----TODO)\n"
   ]
  },
  {
   "cell_type": "markdown",
   "id": "5373074c",
   "metadata": {},
   "source": [
    "Denote the optical depth as $\\tau$, the cosine of the polar angle as $\\mu$ (positive is upwards), and the azimuthal angle as $\\phi$ (positive is counterclockwise when looking down on the atmospheric layer). We wish to solve the Radiative Transfer Equation\n",
    "\n",
    "$$\n",
    "\\begin{aligned}\n",
    "\\mu \\frac{\\partial u(\\tau, \\mu, \\phi)}{\\partial \\tau} = u(\\tau, \\mu, \\phi) &-\\frac{\\omega_0}{4 \\pi} \\int_{-1}^{1} \\int_{0}^{2 \\pi} p\\left(\\mu, \\phi ; \\mu', \\phi'\\right) u\\left(\\tau, \\mu', \\phi'\\right) \\mathrm{d} \\phi' \\mathrm{d} \\mu' \\\\\n",
    "&-\\frac{\\omega_0 I_0}{4 \\pi} p\\left(\\mu, \\phi ;-\\mu_{0}, \\phi_{0}\\right) \\exp\\left(-\\mu_{0}^{-1} \\tau\\right)\n",
    "\\end{aligned}\n",
    "$$\n",
    "\n",
    "with Dirichlet boundary conditions for the **diffuse** intensity, $u = u_\\text{diffuse}$. This will be done numerically using the Discrete Ordinates Method as is the standard. The total intensity is given by\n",
    "\n",
    "$$u_\\text{total} = u_\\text{diffuse} + u_\\text{direct}$$\n",
    "\n",
    "where \n",
    "\n",
    "$$u_\\text{direct}(\\tau, \\mu, \\phi) = I_0 \\delta(\\mu + \\mu_0) \\delta(\\phi - \\phi_0) \\exp\\left(-\\mu_{0}^{-1} \\tau\\right)$$"
   ]
  },
  {
   "cell_type": "markdown",
   "id": "403129c6",
   "metadata": {},
   "source": [
    "**IMPORTANT:** Note that `PyDISORT` will output the **diffuse intensity** and the **total flux**. One will need to separately add the intensity of the direct beam to get the total intensity."
   ]
  },
  {
   "cell_type": "markdown",
   "id": "ff99ba1a",
   "metadata": {},
   "source": [
    "# 1. USER INPUT REQUIRED: List of parameters to set -- TODO"
   ]
  },
  {
   "cell_type": "markdown",
   "id": "a8b1e3fa",
   "metadata": {},
   "source": [
    "*TODO: Edit variables for multiple atmopsheric layers. Right now the code and exposition is only for one atmospheric layer.*"
   ]
  },
  {
   "cell_type": "markdown",
   "id": "7d1d7d98",
   "metadata": {},
   "source": [
    "For many parameters, it is possible to adjust the code to accomodate a wider range of values. Doing that, however, would slow-down and convolute the code. These special cases should also rarely arise in physical models."
   ]
  },
  {
   "cell_type": "markdown",
   "id": "1d52f3ac",
   "metadata": {},
   "source": [
    "## 1.1 Hyperparameter list (excludes phase function)"
   ]
  },
  {
   "cell_type": "markdown",
   "id": "27764183",
   "metadata": {},
   "source": [
    "The variable names generally follow those in Stamnes et. al.'s 1988 paper [[1]](#cite-STWJ1988), with the equivalent variable in their FORTRAN DISORT code [[2]](#cite-Sta1999) in brackets."
   ]
  },
  {
   "cell_type": "markdown",
   "id": "5f10e74f",
   "metadata": {},
   "source": [
    "* **Optical depth (DTAUC)**\n",
    "\n",
    "The atmospheric layer is demarcated by $\\tau \\in [0, \\tau_0]$. We implemented Stamnes-Conklin's substitutions [[3]](#cite-SC1984) to accomodate large `tau0` values. Nonetheless, since `tau0` will be exponentiated, large `tau0` values will still cause inaccuracies."
   ]
  },
  {
   "cell_type": "code",
   "execution_count": 2,
   "id": "1f555ceb",
   "metadata": {},
   "outputs": [],
   "source": [
    "tau0 = 10"
   ]
  },
  {
   "cell_type": "markdown",
   "id": "9a7cb9f8",
   "metadata": {},
   "source": [
    "* **Single-scattering albedo (SSALB)**\n",
    "\n",
    "We assume the single-scattering albedo $\\omega_0$ to be independent from $\\tau$."
   ]
  },
  {
   "cell_type": "code",
   "execution_count": 3,
   "id": "da1154a5",
   "metadata": {},
   "outputs": [],
   "source": [
    "w0 = 0.75"
   ]
  },
  {
   "cell_type": "markdown",
   "id": "c4b3ecf9",
   "metadata": {},
   "source": [
    "We require $\\omega_0 \\in [0,1)$, and values too close to $1$ will cause instability."
   ]
  },
  {
   "cell_type": "code",
   "execution_count": 4,
   "id": "f28ffcf1",
   "metadata": {
    "tags": [
     "hide_input"
    ]
   },
   "outputs": [],
   "source": [
    "assert w0 >= 0\n",
    "assert w0 < 1"
   ]
  },
  {
   "cell_type": "markdown",
   "id": "88d2926d",
   "metadata": {},
   "source": [
    "* **Parameters for the incident collimated (direct) beam**\n",
    "\n",
    "The flux contribution of this beam is $I_0 \\mu_0$. We do not allow $\\mu_0$ to equal a quadrature / computational angle and `PyDISORT` will check for this."
   ]
  },
  {
   "cell_type": "code",
   "execution_count": 5,
   "id": "52dafd3a",
   "metadata": {
    "code_folding": []
   },
   "outputs": [],
   "source": [
    "# Intensity (FBEAM)\n",
    "I0 = 4 * pi\n",
    "# Cosine of polar angle (UMU0)\n",
    "mu0 = 0.1\n",
    "# Azimuthal angle (PHI0)\n",
    "phi0 = pi"
   ]
  },
  {
   "cell_type": "markdown",
   "id": "e0b01491",
   "metadata": {},
   "source": [
    "We do not allow $\\mu_0 \\leq 0$. The PyDISORT module is not designed to model a beam shining up from the surface into the bottom of the atmosphere. Small `mu0` values will cause instability. We also require both angles to be principal."
   ]
  },
  {
   "cell_type": "code",
   "execution_count": 6,
   "id": "12caf2ce",
   "metadata": {
    "tags": [
     "hide_input"
    ]
   },
   "outputs": [],
   "source": [
    "assert 0 < mu0 and mu0 < 1\n",
    "assert 0 <= phi0 and phi0 < 2 * pi"
   ]
  },
  {
   "cell_type": "markdown",
   "id": "265b83a4",
   "metadata": {},
   "source": [
    " * **Dirichlet boundary conditions (No direct equivalent in Stamnes' DISORT [[2]](#cite-Sta1999), but see variable *IBCND*)**"
   ]
  },
  {
   "cell_type": "markdown",
   "id": "ab6a7466",
   "metadata": {},
   "source": [
    "$$\n",
    "u\\left(\\tau_0, \\mu_i, \\phi \\right) = \\sum_{m = 0}^{\\text{NLeg}}b^+_{im}\\cos(m(\\phi_0 - \\phi)), \\quad u(0, -\\mu_i, \\phi) = \\sum_{m = 0}^{\\text{NLeg}}b^-_{im}\\cos(m(\\phi_0 - \\phi)), \\quad i = 1, \\dots, N\n",
    "$$\n",
    "\n",
    "where $b^\\pm$ are to be specified, and variables `NLeg` and `N` are specified further down."
   ]
  },
  {
   "cell_type": "markdown",
   "id": "bdeac418",
   "metadata": {},
   "source": [
    "If $u\\left(\\tau_0, \\mu, \\phi \\right) = \\psi^+(\\mu, \\phi)$ and $u\\left(\\tau_0, -\\mu, \\phi \\right) = \\psi^-(\\mu, \\phi)$, then $\\psi^+$ and $\\psi^-$ must first be discretized in $\\mu$, following which $b^+_{im}$ and $b^-_{im}$ are the truncated Fourier coefficients of $\\psi^+_i$ and $\\psi^-_i$ respectively. The boundary functions $\\psi^+$ and $\\psi^-$ are assumed to be even about $\\phi = \\phi_0$. Non-Dirichlet BCs are possible but not implemented."
   ]
  },
  {
   "cell_type": "code",
   "execution_count": 7,
   "id": "8c2bd769",
   "metadata": {
    "code_folding": []
   },
   "outputs": [],
   "source": [
    "# These should actually be matrices with row index i and column index m,\n",
    "# but it is ok for them to be a constant.\n",
    "# Do NOT input a vector,\n",
    "# while we can implement code to make sense of vector inputs it would be unnecessarily confusing.\n",
    "\n",
    "# At bottom of atmosphere\n",
    "b_pos = 0\n",
    "\n",
    "# At top of atmosphere\n",
    "b_neg = 0"
   ]
  },
  {
   "cell_type": "markdown",
   "id": "855af7bc",
   "metadata": {},
   "source": [
    "## 1.2 Computational variable list"
   ]
  },
  {
   "cell_type": "markdown",
   "id": "82ef686f",
   "metadata": {},
   "source": [
    "* **Whether to only compute the flux, or compute both flux and intensity (ONLYFL)**\n",
    "\n",
    "If `True`, `PyDISORT` will be much faster because we will only need to solve the $0$th Fourier mode integro-differential equation, see section [3.7.4](#3.7.4-Computation-of-flux)."
   ]
  },
  {
   "cell_type": "code",
   "execution_count": 8,
   "id": "e1330118",
   "metadata": {},
   "outputs": [],
   "source": [
    "only_flux = False"
   ]
  },
  {
   "cell_type": "markdown",
   "id": "e63b1f84",
   "metadata": {},
   "source": [
    "* **Number of phase function Legendre coefficients to be used in the basic solver (NMOM)**\n",
    "\n",
    "The **basic solver** solves the radiative transfer equation without corrections. The number of Fourier modes also equals `NLeg`."
   ]
  },
  {
   "cell_type": "code",
   "execution_count": 9,
   "id": "d329e9ff",
   "metadata": {},
   "outputs": [],
   "source": [
    "NLeg = 16"
   ]
  },
  {
   "cell_type": "markdown",
   "id": "70d51344",
   "metadata": {},
   "source": [
    "* **Number of quadrature points for the polar or $\\mu$ integral (NSTR)**\n",
    "\n",
    "This parameter is also known as the number of \"streams\" in the literature and in Stamnes' DISORT [[2]](#cite-Sta1999)."
   ]
  },
  {
   "cell_type": "code",
   "execution_count": 10,
   "id": "70938256",
   "metadata": {},
   "outputs": [],
   "source": [
    "NQuad = 16"
   ]
  },
  {
   "cell_type": "markdown",
   "id": "a8566fa0",
   "metadata": {},
   "source": [
    "We require `NQuad` to be $\\geq 2$, and even. `NLeg` must obviously be $> 0$. We recommend but do not impose `NLeg` $\\geq$ `NQuad`, and it is generally a good idea to have them be equal."
   ]
  },
  {
   "cell_type": "code",
   "execution_count": 11,
   "id": "98ff8911",
   "metadata": {
    "tags": [
     "hide_input"
    ]
   },
   "outputs": [],
   "source": [
    "assert NQuad >= 2\n",
    "assert NQuad % 2 == 0\n",
    "assert NLeg > 0"
   ]
  },
  {
   "cell_type": "markdown",
   "id": "94c51440",
   "metadata": {},
   "source": [
    "We define $N = \\text{NQuad} \\ / \\ 2$. This variable will be used extensively later on."
   ]
  },
  {
   "cell_type": "code",
   "execution_count": 12,
   "id": "7873aa19",
   "metadata": {},
   "outputs": [],
   "source": [
    "N = NQuad // 2"
   ]
  },
  {
   "cell_type": "markdown",
   "id": "f19572ec",
   "metadata": {},
   "source": [
    "Each BC input must be a scalar or a matrix of dimension $N \\times \\text{NLeg}$."
   ]
  },
  {
   "cell_type": "code",
   "execution_count": 13,
   "id": "bbaccafc",
   "metadata": {
    "code_folding": [],
    "tags": [
     "hide_input"
    ]
   },
   "outputs": [],
   "source": [
    "# This ensures that the BC inputs are of the correct shape\n",
    "if len(np.atleast_1d(b_pos)) == 1:\n",
    "    b_pos = np.full((N, NLeg), b_pos)\n",
    "else:\n",
    "    assert np.shape(b_pos) == (N, NLeg)\n",
    "if len(np.atleast_1d(b_neg)) == 1:\n",
    "    b_neg = np.full((N, NLeg), b_pos)\n",
    "else:\n",
    "    assert np.shape(b_neg) == (N, NLeg)"
   ]
  },
  {
   "cell_type": "markdown",
   "id": "4f834616",
   "metadata": {},
   "source": [
    "## 1.3 Phase functions and their Legendre expansion"
   ]
  },
  {
   "cell_type": "markdown",
   "id": "59d5c631",
   "metadata": {},
   "source": [
    "We assume that the phase function is only directly dependent on the scattering angle $\\gamma$, i.e. the scattering medium has spherical symmetry. Following the method in [[1]](#cite-STWJ1988) but with slightly different notations and definitions, we expand the phase function in a Legendre series:\n",
    "\n",
    "$$\n",
    "p(\\cos\\gamma) \\approx \\sum_{\\ell=0} g_\\ell P_\\ell(\\cos\\gamma), \\quad g_\\ell = \\frac{2\\ell + 1}{2}\\int_{-1}^{1} p(\\cos\\gamma) P_\\ell(\\cos\\gamma) \\mathrm{d}\\cos\\gamma\n",
    "$$"
   ]
  },
  {
   "cell_type": "markdown",
   "id": "05020faa",
   "metadata": {},
   "source": [
    "The scattering angle $\\gamma$ is between the incident vector $\\left(\\theta', \\phi'\\right)$ and the scattering vector $(\\theta, \\phi)$ such that\n",
    "\n",
    "$$\n",
    "\\begin{aligned}\n",
    "\\cos\\gamma &= \\cos\\theta'\\cos\\theta + \\sin\\theta'\\sin\\theta\\cos\\left(\\phi'-\\phi\\right) \\\\\n",
    "\\iff \\nu &= \\mu' \\mu + \\sqrt{1 - \\mu'^2} \\sqrt{1 - \\mu^2} \\cos\\left(\\phi'-\\phi\\right)\n",
    "\\end{aligned}\n",
    "$$\n",
    "\n",
    "where we define\n",
    "\n",
    "$$\n",
    "\\nu = \\cos\\gamma, \\quad \\mu = \\cos\\theta, \\quad\\mu' = \\cos\\theta'\n",
    "$$\n",
    "\n",
    "Therefore, by the addition theorem for spherical harmonics\n",
    "\n",
    "$$\n",
    "P_\\ell(\\cos\\gamma) = P_\\ell\\left(\\cos\\theta'\\right)P_\\ell(\\cos\\theta) + 2\\sum_{m=1}^\\ell \\frac{(\\ell-m)!}{(\\ell+m)!}P_\\ell^m\\left(\\cos\\theta'\\right)P_\\ell^m(\\cos\\theta)\\cos\\left(m\\left(\\phi'-\\phi\\right)\\right)\n",
    "$$"
   ]
  },
  {
   "cell_type": "markdown",
   "id": "49d29fc7",
   "metadata": {},
   "source": [
    "### 1.3.1 Phase functions"
   ]
  },
  {
   "cell_type": "markdown",
   "id": "843eb5b7",
   "metadata": {},
   "source": [
    "Phase functions in Stamnes' DISORT [[2]](#cite-Sta1999):\n",
    "* Isotropic\n",
    "* Rayleigh\n",
    "* Henyey-Greenstein with asymmetry factor\n",
    "* Haze L as specified by Garcia/Siewert\n",
    "* Cloud C.1 as specified by Garcia/Siewert\n",
    "* Aerosol as specified by Kokhanovsky \n",
    "* Cloud as specified by Kokhanovsky"
   ]
  },
  {
   "cell_type": "markdown",
   "id": "3f9b2d19",
   "metadata": {},
   "source": [
    "In general, we will use the $\\nu$-argument form of a phase function as it is the most straightforward to integrate. In our exposition, however, we will generally express a phase function with arguments $\\mu, \\phi, \\mu', \\phi'$ for consistency with the radiative transfer equation."
   ]
  },
  {
   "cell_type": "markdown",
   "id": "5a04bb03",
   "metadata": {},
   "source": [
    "**Henyey-Greenstein phase function**"
   ]
  },
  {
   "cell_type": "markdown",
   "id": "962d17ec",
   "metadata": {},
   "source": [
    "The exact definition varies between sources by a constant factor. The definition here follows [[1]](#cite-STWJ1988), though the phase function is not explicitly defined in that paper:\n",
    "\n",
    "$$\\frac{1-g^2}{\\left(1+g^2-2 g \\nu\\right)^{3 / 2}}$$"
   ]
  },
  {
   "cell_type": "markdown",
   "id": "0c55f15d",
   "metadata": {},
   "source": [
    "* **Asymmetry factor (GG)**"
   ]
  },
  {
   "cell_type": "code",
   "execution_count": 14,
   "id": "d62297c9",
   "metadata": {},
   "outputs": [],
   "source": [
    "g = 0.75"
   ]
  },
  {
   "cell_type": "markdown",
   "id": "abd6cac4",
   "metadata": {},
   "source": [
    "The magnitude of `g` must be less than $1$. Magnitudes close to $1$ will cause instability."
   ]
  },
  {
   "cell_type": "code",
   "execution_count": 15,
   "id": "ccd3df5b",
   "metadata": {
    "tags": [
     "hide_input"
    ]
   },
   "outputs": [],
   "source": [
    "assert np.abs(g) < 1"
   ]
  },
  {
   "cell_type": "markdown",
   "id": "cb51c848",
   "metadata": {},
   "source": [
    "* **Phase function**"
   ]
  },
  {
   "cell_type": "code",
   "execution_count": 16,
   "id": "31dcb77c",
   "metadata": {},
   "outputs": [],
   "source": [
    "p_HG_nu = lambda nu, g: (1 - g**2) / ((1 + g**2 - 2 * g * nu) ** (3 / 2))"
   ]
  },
  {
   "cell_type": "markdown",
   "id": "06b14d0e",
   "metadata": {},
   "source": [
    "* ***Weighted* array of phase function Legendre coefficients $g_\\ell$ $\\big((2\\ell + 1) \\times \\text{PMOM}\\big)$**\n",
    "\n",
    "`Leg_coeffs_full` contains far more Legendre coefficients than can feasibly be used in the basic solver, so only `NLeg` coefficients are used. We require the entire `Leg_coeffs_full` to approximate the residual phase function for the Nakajima-Tanaka (NT) IMS intensity correction though, see section [3.7.2](#3.7.2-Nakajima-Tanaka-Nakajima-Tanaka-3.7.2-Nakajima-Tanaka-Nakajima-Tanaka-3.7.2-Nakajima-Tanaka-Nakajima-Tanaka-3.7.2-Nakajima-Tanaka-Nakajima-Tanaka-3.7.2-Nakajima-Tanaka-%28NT%29-corrections----TODO)."
   ]
  },
  {
   "cell_type": "code",
   "execution_count": 17,
   "id": "e4216352",
   "metadata": {},
   "outputs": [],
   "source": [
    "NLeg_full = 100 # Variable not required in PyDISORT\n",
    "m_arr = np.arange(NLeg_full)\n",
    "\n",
    "Leg_coeffs_full = (2 * m_arr + 1) * g**m_arr"
   ]
  },
  {
   "cell_type": "code",
   "execution_count": 18,
   "id": "22713e49",
   "metadata": {},
   "outputs": [],
   "source": [
    "Leg_coeffs = Leg_coeffs_full[:NLeg]"
   ]
  },
  {
   "cell_type": "markdown",
   "id": "668b07b4",
   "metadata": {},
   "source": [
    "* **A tuple containing the true phase function with vector argument $\\nu$ and asymmetry factor $g$**\n",
    "\n",
    "These need to be supplied to `PyDISORT` to enable NT corrections, see section [3.7.2](#3.7.2-Nakajima-Tanaka-Nakajima-Tanaka-3.7.2-Nakajima-Tanaka-Nakajima-Tanaka-3.7.2-Nakajima-Tanaka-Nakajima-Tanaka-3.7.2-Nakajima-Tanaka-Nakajima-Tanaka-3.7.2-Nakajima-Tanaka-%28NT%29-corrections----TODO)."
   ]
  },
  {
   "cell_type": "code",
   "execution_count": 19,
   "id": "67f2bf3e",
   "metadata": {},
   "outputs": [],
   "source": [
    "p_for_NT_with_g = (p_HG_nu, g)"
   ]
  },
  {
   "cell_type": "code",
   "execution_count": 20,
   "id": "532f2a42",
   "metadata": {
    "code_folding": [],
    "tags": [
     "hide_input"
    ]
   },
   "outputs": [],
   "source": [
    "# Verify that the true phase function has two arguments\n",
    "assert len(signature(p_for_NT_with_g[0]).parameters) == 2"
   ]
  },
  {
   "cell_type": "markdown",
   "id": "64c41735",
   "metadata": {},
   "source": [
    "**Integral derivation of Legendre coefficients for verification**"
   ]
  },
  {
   "cell_type": "code",
   "execution_count": 21,
   "id": "6ad0fddd",
   "metadata": {},
   "outputs": [
    {
     "name": "stdout",
     "output_type": "stream",
     "text": [
      "Passed all tests\n"
     ]
    }
   ],
   "source": [
    "Leg_coeffs_full_test = np.empty(NLeg_full)\n",
    "for ell in range(NLeg_full):\n",
    "    integrand = lambda nu: p_HG_nu(nu, g) * sc.special.eval_legendre(ell, nu)\n",
    "    Leg_coeffs_full_test[ell] = ((2 * ell + 1) / 2) * integrate.quad(integrand, -1, 1)[0]\n",
    "\n",
    "assert np.allclose(Leg_coeffs_full, Leg_coeffs_full_test)\n",
    "\n",
    "print(\"Passed all tests\")"
   ]
  },
  {
   "cell_type": "markdown",
   "id": "edbb74d3",
   "metadata": {},
   "source": [
    "[Skip verification](#1.3.2-$\\delta-M$-scaled-Legendre-coefficients)"
   ]
  },
  {
   "cell_type": "markdown",
   "id": "5ec4f8c5",
   "metadata": {},
   "source": [
    "The following algorithm can be used to derive the Legendre coefficients for a general phase function. The algorithm can also be vectorized, but we would no longer be able to use `scipy.integrate.quad` for integration."
   ]
  },
  {
   "cell_type": "markdown",
   "id": "4868357a",
   "metadata": {},
   "source": [
    "### 1.3.2 $\\delta-M$ scaled Legendre coefficients"
   ]
  },
  {
   "cell_type": "markdown",
   "id": "11a4325a",
   "metadata": {},
   "source": [
    "Standard Legendre series approximation of highly anisotropic phase functions require a large number of terms to accurately capture their strong directional scattering. The Henyey-Greenstein phase function, for example, is strongly forward scattering. We can use fewer Legendre terms if we re-express the phase function as a linear combination of a $\\delta$-function and a more isotropic remainder. We follow the method in [[5]](#cite-Wis1977) for scaling the first $2M$ Legendre coefficients of a phase function such that they become the coefficients of the remainder."
   ]
  },
  {
   "cell_type": "markdown",
   "id": "c9f5735d",
   "metadata": {},
   "source": [
    "$$\n",
    "\\begin{aligned}\n",
    "&p(\\cos \\gamma) \\approx 2 f \\delta(1-\\cos \\gamma) + (1 - f) \\sum_{\\ell=0}^{2 M-1} (2 \\ell+1) g_\\ell^* P_\\ell(\\cos \\gamma), \\quad g^*_\\ell = \\frac{g_\\ell - f}{1 - f} \\\\\n",
    "&\\iff p(\\mu, \\phi; \\mu', \\phi') \\approx 4 \\pi f \\delta(\\mu - \\mu')\\delta(\\phi - \\phi') + (1 - f) p^*(\\mu, \\phi; \\mu', \\phi')\n",
    "\\end{aligned}\n",
    "$$\n",
    "\n",
    "where $\\mu = \\cos\\theta$, $\\mu' = \\cos\\theta'$, and the fractional scattering into peak $f \\in [0, 1)$ is to be chosen, with $f = 0$ equivalent to no $\\delta-M$ scaling. The first $2M$ Legendre coefficients of this re-expression will agree with those of the phase function."
   ]
  },
  {
   "cell_type": "markdown",
   "id": "99bf3743",
   "metadata": {},
   "source": [
    "We generally choose $f = g_{2M} = g_\\text{NLeg}$ so that the scaled Legendre series is equivalent to the standard Legendre series in the limit $M \\rightarrow \\infty$. An implication of this is that $\\delta-M$ scaling is unimpactful for large $M$, which is desirable. This choice of $f$ with $M = 1$ is equivalent to the delta-Eddington method, see [[6]](#cite-JWW1976). We discuss the impact of this phase function re-expression on the radiative transfer equation in section [3.3](#3.3-$\\delta-M$-scaling-in-the-Radiative-Transfer-Equation)."
   ]
  },
  {
   "cell_type": "markdown",
   "id": "4e172a8e",
   "metadata": {},
   "source": [
    "* **Fractional scattering into peak (Automatically chosen in Stamnes' DISORT [[2]](#cite-Sta1999))**"
   ]
  },
  {
   "cell_type": "code",
   "execution_count": 22,
   "id": "962f6f2d",
   "metadata": {},
   "outputs": [],
   "source": [
    "# The RHS is an UNWEIGHTED Legendre coefficient\n",
    "f = g**NLeg"
   ]
  },
  {
   "cell_type": "markdown",
   "id": "70a6b852",
   "metadata": {},
   "source": [
    "We require $0 \\leq f < 1$. Values close to $1$ will cause instability."
   ]
  },
  {
   "cell_type": "code",
   "execution_count": 23,
   "id": "e85c7dcc",
   "metadata": {
    "tags": [
     "hide_input"
    ]
   },
   "outputs": [],
   "source": [
    "assert 0 <= f < 1"
   ]
  },
  {
   "cell_type": "markdown",
   "id": "2882ef4f",
   "metadata": {},
   "source": [
    "# 2. Tensor product coding philosophy and importing PyDISORT -- TODO"
   ]
  },
  {
   "cell_type": "markdown",
   "id": "21530f1e",
   "metadata": {},
   "source": [
    "[Skip section](#3.-Breakdown-and-verification-of-single-layer-solver)"
   ]
  },
  {
   "cell_type": "markdown",
   "id": "873c32a1",
   "metadata": {},
   "source": [
    "When coding tensor products we use the following methods in order of preference:\n",
    "\n",
    "* Broadcasting: e.g. outer product of `array1` and `array2` is coded as `array1[:, None] * array2[None, :]`.\n",
    "* NumPy function `einsum` with `optimize=True`: `np.einsum` uses Einstein's summation convention. The documentation can be found at https://numpy.org/doc/stable/reference/generated/numpy.einsum.html.\n",
    "\n",
    "We believe that this is the best balance between code readability and speed. Other common functions for tensor products are `np.outer` and `np.tensordot` but we do not use them."
   ]
  },
  {
   "cell_type": "markdown",
   "id": "05e75765",
   "metadata": {},
   "source": [
    "The following imports the full PyDISORT module:"
   ]
  },
  {
   "cell_type": "code",
   "execution_count": 24,
   "id": "fc4db2d4",
   "metadata": {},
   "outputs": [],
   "source": [
    "%run -i \"subroutines.py\"\n",
    "%run -i \"basic_solver.py\"\n",
    "%run -i \"PyDISORT.py\" # TODO: Implement IMS correction"
   ]
  },
  {
   "cell_type": "markdown",
   "id": "5fdfd5bc",
   "metadata": {},
   "source": [
    "# 3. Breakdown and verification of single layer solver"
   ]
  },
  {
   "cell_type": "markdown",
   "id": "a3a4f605",
   "metadata": {},
   "source": [
    "In this section we break down and explain the code for solving the radiative transfer equation for a single atmospheric layer. Unless otherwise stated, we will take $\\delta-M$ scaling to be disabled (`f == 0`) and we will not apply NT corrections (`callable(p_for_NT_with_g[0]) == False`). We will explain $\\delta-M$ scaling and NT corrections in their independent sections. We begin with the quadrature algorithms that we will need."
   ]
  },
  {
   "cell_type": "markdown",
   "id": "df50562e",
   "metadata": {},
   "source": [
    "## 3.1 Quadrature"
   ]
  },
  {
   "cell_type": "markdown",
   "id": "29043208",
   "metadata": {},
   "source": [
    "Generation of Gauss-Legendre quadrature weights and points to numerically integrate over $\\mu$ from $-1$ to $1$."
   ]
  },
  {
   "cell_type": "code",
   "execution_count": 25,
   "id": "180909f8",
   "metadata": {},
   "outputs": [],
   "source": [
    "# For positive mu values (the weights are identical for both domains)\n",
    "mu_arr_pos, weights_mu = legendre.leggauss(N)\n",
    "mu_arr_pos = transform_interval(mu_arr_pos, 0, 1)  # mu_arr_neg = -mu_arr_pos\n",
    "weights_mu = transform_weights(weights_mu, 0, 1)"
   ]
  },
  {
   "cell_type": "markdown",
   "id": "f993c0fb",
   "metadata": {},
   "source": [
    "Function to generate Clenshaw-Curtis quadrature weights and points for numerical integration over $\\phi$. Required for tests."
   ]
  },
  {
   "cell_type": "code",
   "execution_count": 26,
   "id": "50ac9910",
   "metadata": {
    "tags": [
     "hide_input"
    ]
   },
   "outputs": [],
   "source": [
    "def Clenshaw_Curtis_quad(Nphi, c=0, d=(2 * pi)):\n",
    "    # Ensure that the number of nodes is odd and greater than 2\n",
    "    assert Nphi > 2\n",
    "    assert Nphi % 2 == 1\n",
    "\n",
    "    Nphi -= 1  # The extra index corresponds to the point 0 which we will add later\n",
    "    Nphi_pos = Nphi // 2\n",
    "    phi_arr_pos = np.cos(pi * np.arange(Nphi_pos) / Nphi)\n",
    "    phi_arr = np.hstack((phi_arr_pos, 0, -phi_arr_pos))\n",
    "    diff = np.hstack((2, 2 / (1 - 4 * np.arange(1, Nphi_pos + 1) ** 2)))\n",
    "    weights_phi_pos = sc.fft.idct(diff, type=1)\n",
    "    weights_phi_pos[0] /= 2\n",
    "    full_weights_phi = np.hstack((weights_phi_pos, weights_phi_pos[:-1]))\n",
    "\n",
    "    return transform_interval(phi_arr, c, d), transform_weights(full_weights_phi, c, d)"
   ]
  },
  {
   "cell_type": "markdown",
   "id": "fd8ee345",
   "metadata": {},
   "source": [
    "### 3.1.1 Verification of quadrature weights and points on test integral"
   ]
  },
  {
   "cell_type": "markdown",
   "id": "0a278019",
   "metadata": {},
   "source": [
    "[Skip verifications](#3.2-Derivation-of-the-integro-differential-equation-for-each-Fourier-mode)"
   ]
  },
  {
   "cell_type": "markdown",
   "id": "157d2874",
   "metadata": {},
   "source": [
    "$$\\int_{a}^{b} e^x \\ \\mathrm{d}x = e^b - e^a$$"
   ]
  },
  {
   "cell_type": "code",
   "execution_count": 27,
   "id": "3a8926fa",
   "metadata": {
    "code_folding": [],
    "tags": [
     "hide_input"
    ]
   },
   "outputs": [
    {
     "name": "stdout",
     "output_type": "stream",
     "text": [
      "Gauss-Legendre quadrature error ratio = 0.0\n"
     ]
    }
   ],
   "source": [
    "# Gauss-Legendre quadrature; integrate from -1 to 1\n",
    "mu_arr = np.concatenate((mu_arr_pos, -mu_arr_pos))\n",
    "full_weights_mu = np.concatenate((weights_mu, weights_mu))\n",
    "true_sol = np.exp(1) - np.exp(-1)\n",
    "\n",
    "\n",
    "print(\n",
    "    \"Gauss-Legendre quadrature error ratio =\",\n",
    "    np.abs((true_sol - np.sum(np.exp(mu_arr) * full_weights_mu)) / true_sol),\n",
    ")"
   ]
  },
  {
   "cell_type": "code",
   "execution_count": 28,
   "id": "f449ffd3",
   "metadata": {
    "code_folding": [],
    "tags": [
     "hide_input"
    ]
   },
   "outputs": [
    {
     "name": "stdout",
     "output_type": "stream",
     "text": [
      "Clenshaw-Curtis quadrature error ratio = 0.0\n"
     ]
    }
   ],
   "source": [
    "# Clenshaw-Curtis quadrature; integrate from 0 to 2pi\n",
    "phi_arr, full_weights_phi = Clenshaw_Curtis_quad(NQuad * 3 + 1)\n",
    "true_sol = np.exp(2 * pi) - 1\n",
    "\n",
    "\n",
    "print(\n",
    "    \"Clenshaw-Curtis quadrature error ratio =\",\n",
    "    np.abs((true_sol - np.sum(np.exp(phi_arr) * full_weights_phi)) / true_sol),\n",
    ")"
   ]
  },
  {
   "cell_type": "markdown",
   "id": "3bb0df06",
   "metadata": {},
   "source": [
    "### 3.1.2 Normalization verification of the phase function"
   ]
  },
  {
   "cell_type": "markdown",
   "id": "441203c1",
   "metadata": {},
   "source": [
    "Similar to equation (2) of [[4]](#cite-MW1980), we expect\n",
    "\n",
    "$$\n",
    "\\frac{1}{4 \\pi} \\int_{-1}^1 \\int_0^{2 \\pi} p\\left(\\mu, \\phi ; \\mu^{\\prime}, \\phi^{\\prime}\\right) d \\phi d \\mu = 1\n",
    "$$\n",
    "\n",
    "though there will be some error as we truncated the Legendre series of the phase function."
   ]
  },
  {
   "cell_type": "code",
   "execution_count": 29,
   "id": "3b9f7a83",
   "metadata": {},
   "outputs": [],
   "source": [
    "def p_HG_muphi(mu, phi, mu_p, phi_p, g):\n",
    "    nu = calculate_nu(mu, phi, mu_p, phi_p)\n",
    "    return p_HG_nu(nu, g)"
   ]
  },
  {
   "cell_type": "code",
   "execution_count": 30,
   "id": "e7c23464",
   "metadata": {
    "tags": [
     "hide_input"
    ]
   },
   "outputs": [
    {
     "name": "stdout",
     "output_type": "stream",
     "text": [
      "Max pointwise error ratio = 0.00259397122865046\n"
     ]
    }
   ],
   "source": [
    "phi_arr, full_weights_phi = Clenshaw_Curtis_quad(NQuad * 3 + 1)\n",
    "mu_arr = np.concatenate((mu_arr_pos, -mu_arr_pos))\n",
    "full_weights_mu = np.concatenate((weights_mu, weights_mu))\n",
    "\n",
    "normalize_pHG = np.einsum(\n",
    "    \"ijkl, i, j -> kl\",\n",
    "    p_HG_muphi(mu_arr, phi_arr, mu_arr, phi_arr, g),\n",
    "    full_weights_mu,\n",
    "    full_weights_phi,\n",
    "    optimize=True,\n",
    ") / (4 * pi)\n",
    "\n",
    "\n",
    "print(\"Max pointwise error ratio =\", np.max(np.abs(normalize_pHG - 1)))"
   ]
  },
  {
   "cell_type": "markdown",
   "id": "0b135f22",
   "metadata": {},
   "source": [
    "## 3.2 Derivation of the integro-differential equation for each Fourier mode"
   ]
  },
  {
   "cell_type": "markdown",
   "id": "be81279f",
   "metadata": {},
   "source": [
    "*We will re-derive equations (6a) to (6d) in [[1]](#cite-STWJ1988) in this subsection.*"
   ]
  },
  {
   "cell_type": "markdown",
   "id": "1fae7cb1",
   "metadata": {},
   "source": [
    "We wish to turn the problem of solving the radiative transfer equation\n",
    "\n",
    "$$\n",
    "\\begin{aligned}\n",
    "\\mu \\frac{\\partial u(\\tau, \\mu, \\phi)}{\\partial \\tau} = u(\\tau, \\mu, \\phi) &-\\frac{\\omega_0}{4 \\pi} \\int_{-1}^{1} \\int_{0}^{2 \\pi} p\\left(\\mu, \\phi ; \\mu', \\phi'\\right) u\\left(\\tau, \\mu', \\phi'\\right) \\mathrm{d} \\phi' \\mathrm{d} \\mu' \\\\\n",
    "&-\\frac{\\omega_0 I_0}{4 \\pi} p\\left(\\mu, \\phi ;-\\mu_{0}, \\phi_{0}\\right) \\exp\\left(-\\mu_{0}^{-1} \\tau\\right)\n",
    "\\end{aligned}\n",
    "$$\n",
    "\n",
    "into the problem of solving\n",
    "\n",
    "$$\n",
    "\\mu \\frac{d u^m(\\tau, \\mu)}{d \\tau}=u^m(\\tau, \\mu)-\\int_{-1}^1 D^m\\left(\\tau, \\mu, \\mu^{\\prime}\\right) u^m\\left(\\tau, \\mu^{\\prime}\\right) d \\mu^{\\prime} - Q^m(\\mu)\n",
    "$$\n",
    "\n",
    "for each Fourier mode $m$."
   ]
  },
  {
   "cell_type": "markdown",
   "id": "d96955f2",
   "metadata": {},
   "source": [
    "**Definitions and expansions**"
   ]
  },
  {
   "cell_type": "markdown",
   "id": "7a99d371",
   "metadata": {},
   "source": [
    "We have the definitions and expansions\n",
    "\n",
    "$$\n",
    "\\begin{aligned}\n",
    "u\\left(\\tau, \\mu, \\phi\\right) &\\approx \\sum_{n=0} u^n\\left(\\tau, \\mu\\right)\\cos\\left(n\\left(\\phi_0 - \\phi\\right)\\right) \\quad \\text{(Fourier cosine expansion)}\\\\\n",
    "p\\left(\\cos\\gamma\\right) &\\approx \\sum_{\\ell=0} g_\\ell P_\\ell\\left(\\cos\\gamma\\right)\n",
    "\\end{aligned}\n",
    "$$\n",
    "$$\n",
    "\\begin{aligned}\n",
    "g_\\ell &= \\frac{2\\ell + 1}{2}\\int_{-1}^{1} p\\left(\\cos\\gamma\\right) P_\\ell\\left(\\cos\\gamma\\right) \\mathrm{d}\\cos\\gamma, \\quad &&g_\\ell^m = \\frac{\\left(\\ell-m\\right)!}{\\left(\\ell+m\\right)!} g_\\ell \\\\\n",
    "\\mu &= \\cos\\left(\\theta\\right), \\quad &&\\,\\mu' = \\cos\\left(\\theta'\\right)\n",
    "\\end{aligned}\n",
    "$$\n",
    "\n",
    "As before, we have\n",
    "\n",
    "$$\n",
    "\\begin{aligned}\n",
    "\\cos\\gamma &= \\cos\\theta'\\cos\\theta + \\sin\\theta'\\sin\\theta\\cos\\left(\\phi'-\\phi\\right) \\\\\n",
    "P_\\ell\\left(\\cos\\gamma\\right) &= P_\\ell\\left(\\mu'\\right)P_\\ell\\left(\\mu\\right) + 2\\sum_{m=1}^\\ell \\frac{\\left(\\ell-m\\right)!}{\\left(\\ell+m\\right)!}P_\\ell^m(\\mu')P_\\ell^m\\left(\\mu\\right)\\cos\\left(m\\left(\\phi'-\\phi\\right)\\right)\n",
    "\\end{aligned}\n",
    "$$\n",
    "\n",
    "Consequently, we can expand the `p_HG_muphi` form of the HG phase function\n",
    "\n",
    "$$\n",
    "p\\left(\\mu, \\phi; \\mu', \\phi'\\right) \\approx \\sum_{\\ell=0} \\left[ g_\\ell P_\\ell\\left(\\mu'\\right)P_\\ell\\left(\\mu\\right) + 2\\sum_{m=1}^\\ell g_\\ell^m P_\\ell^m(\\mu')P_\\ell^m\\left(\\mu\\right)\\cos\\left(m\\left(\\phi'-\\phi\\right)\\right) \\right]\n",
    "$$"
   ]
  },
  {
   "cell_type": "markdown",
   "id": "e4b5f6c3",
   "metadata": {},
   "source": [
    "**Multiple scattering term**"
   ]
  },
  {
   "cell_type": "markdown",
   "id": "877d8d22",
   "metadata": {},
   "source": [
    "We first focus on the multiple scattering term of the radiative transfer equation. We substitute the expansion of $p(\\mu, \\phi; \\mu', \\phi')$ and $u(\\tau, \\mu, \\phi)$ to get\n",
    "\n",
    "$$\n",
    "\\begin{aligned}\n",
    "&\\frac{\\omega_0}{4 \\pi} \\int_{-1}^{1} \\int_{0}^{2 \\pi} p\\left(\\mu, \\phi ; \\mu', \\phi'\\right) u\\left(\\tau, \\mu', \\phi'\\right) \\mathrm{d} \\phi' \\mathrm{d} \\mu' \\\\\n",
    "&\\approx \\frac{\\omega_0}{4 \\pi} \\int_{-1}^{1} \\left[ \\int_{0}^{2 \\pi} \\sum_{n=0} \\sum_{\\ell=0} u^n g_\\ell P_\\ell\\left(\\mu'\\right)P_\\ell(\\mu) \\cos\\left(n\\left(\\phi_0 - \\phi'\\right)\\right) + 2\\sum_{n=0} \\sum_{\\ell=0} \\sum_{m=1}^\\ell u^n g_\\ell^m P_\\ell^m(\\mu')P_\\ell^m(\\mu)\\cos\\left(m\\left(\\phi'-\\phi\\right)\\right) \\cos\\left(n\\left(\\phi_0 - \\phi'\\right)\\right) \\mathrm{d} \\phi' \\right] \\mathrm{d} \\mu' \\\\\n",
    "&= \\frac{\\omega_0}{4 \\pi} \\int_{-1}^{1} \\left[ \\int_{0}^{2 \\pi} \\sum_{\\ell=0} u^0 g_\\ell P_\\ell\\left(\\mu'\\right)P_\\ell(\\mu) + 2\\sum_{n=1} \\sum_{\\ell=n} \\sum_{m=1}^\\ell u^n g_\\ell^m P_\\ell^m(\\mu')P_\\ell^m(\\mu)\\cos\\left(m\\left(\\phi'-\\phi\\right)\\right) \\cos\\left(n\\left(\\phi_0 - \\phi'\\right)\\right) \\mathrm{d} \\phi' \\right] \\mathrm{d} \\mu' \\\\\n",
    "&= \\frac{\\omega_0}{4 \\pi} \\int_{-1}^{1} \\left[ 2\\pi \\sum_{\\ell=0} u^0 g_\\ell P_\\ell\\left(\\mu'\\right)P_\\ell(\\mu) + 2\\pi\\sum_{n=1} \\sum_{\\ell=n} u^n g_\\ell^n P_\\ell^n(\\mu')P_\\ell^n(\\mu)\\cos\\left(n\\left(\\phi_0 - \\phi\\right)\\right) \\right] \\mathrm{d} \\mu' \\\\\n",
    "&= \\int_{-1}^{1} \\sum_{m=0} \\left\\{ \\frac{\\omega_0}{2} \\sum_{\\ell=m} u^m g_\\ell^m P_\\ell^m(\\mu')P_\\ell^m(\\mu) \\right\\} \\cos\\left(m\\left(\\phi_0 - \\phi\\right)\\right) \\mathrm{d} \\mu'\n",
    "\\end{aligned}\n",
    "$$\n",
    "\n",
    "The term in the curly brackets of the last line is the contribution of the double-integral term to the $m$th Fourier moment of the radiative transfer equation."
   ]
  },
  {
   "cell_type": "markdown",
   "id": "0fdd37d3",
   "metadata": {},
   "source": [
    "**Source term**"
   ]
  },
  {
   "cell_type": "markdown",
   "id": "4332606f",
   "metadata": {},
   "source": [
    "Next, we focus on the source term. Once again, we substitute the expansion of $p(\\mu, \\phi; \\mu', \\phi')$ to get\n",
    "\n",
    "$$\n",
    "\\frac{\\omega_0 I_0}{4 \\pi} p\\left(\\mu, \\phi ;-\\mu_{0}, \\phi_{0}\\right) \\exp\\left(-\\mu_{0}^{-1} \\tau\\right) \\approx \\frac{\\omega_0 I_0}{4 \\pi} \\exp\\left(-\\mu_{0}^{-1} \\tau\\right) \\left[ \\sum_{\\ell=0} g_\\ell P_\\ell\\left(-\\mu_0\\right)P_\\ell(\\mu) + 2\\sum_{\\ell=0}\\sum_{m=1}^\\ell g_\\ell^m P_\\ell^m\\left(-\\mu_0\\right)P_\\ell^m(\\mu)\\cos\\left(m\\left(\\phi_0-\\phi\\right)\\right) \\right]\n",
    "$$\n",
    "\n",
    "It is immediately apparent that the contribution to the $0$th moment is\n",
    "\n",
    "$$\n",
    "\\frac{\\omega_0 I_0}{4 \\pi} \\exp\\left(-\\mu_{0}^{-1} \\tau\\right)\\sum_{\\ell=0} g_\\ell P_\\ell\\left(-\\mu_0\\right)P_\\ell(\\mu)\n",
    "$$\n",
    "\n",
    "For $n \\geq 1$, to determine the contribution to the $n$th moment, we multiply by $\\pi^{-1}\\cos\\left(n\\left(\\phi_0-\\phi\\right)\\right)$ and integrate over $\\phi$ from $0$ to $2\\pi$ to get\n",
    "\n",
    "$$\n",
    "\\begin{aligned}\n",
    "&\\frac{\\omega_0 I_0}{4 \\pi} \\exp\\left(-\\mu_{0}^{-1} \\tau\\right) \\int_{0}^{2\\pi} \\frac{2}{\\pi}\\sum_{\\ell=0}\\sum_{m=1}^\\ell g_\\ell^m P_\\ell^m\\left(-\\mu_0\\right)P_\\ell^m(\\mu)\\cos\\left(m\\left(\\phi_0-\\phi\\right)\\right)\\cos\\left(n\\left(\\phi_0-\\phi\\right)\\right) \\mathrm{d}\\phi \\\\\n",
    "&= \\frac{\\omega_0 I_0}{4 \\pi} \\exp\\left(-\\mu_{0}^{-1} \\tau\\right) \\int_{0}^{2\\pi} \\frac{2}{\\pi}\\sum_{\\ell=n}\\sum_{m=1}^\\ell g_\\ell^m P_\\ell^m\\left(-\\mu_0\\right)P_\\ell^m(\\mu)\\cos\\left(m\\left(\\phi_0-\\phi\\right)\\right)\\cos\\left(n\\left(\\phi_0-\\phi\\right)\\right) \\mathrm{d}\\phi \\\\\n",
    "&= \\frac{\\omega_0 I_0}{2 \\pi} \\exp\\left(-\\mu_{0}^{-1} \\tau\\right) \\sum_{\\ell=n} g_\\ell^n P_\\ell^n\\left(-\\mu_0\\right)P_\\ell^n(\\mu)\n",
    "\\end{aligned}\n",
    "$$\n",
    "\n",
    "Therefore, the contribution of the source term to the $m$th Fourier moment of the radiative transfer equation (we perform the change of variables $m = n$) is\n",
    "\n",
    "$$\n",
    "\\frac{\\omega_0 I_0 (2 - \\delta_{0m})}{4 \\pi}\\exp\\left(-\\mu_{0}^{-1} \\tau\\right)\\sum_{\\ell=0} g^m_\\ell P_\\ell^m\\left(-\\mu_0\\right)P_\\ell^m(\\mu)\n",
    "$$"
   ]
  },
  {
   "cell_type": "markdown",
   "id": "735cac63",
   "metadata": {},
   "source": [
    "**Important terms and their formulas**"
   ]
  },
  {
   "cell_type": "markdown",
   "id": "fe996aec",
   "metadata": {},
   "source": [
    "Consequently, for each Fourier mode, $m \\geq 0$, we have the integro-differential equation\n",
    "\n",
    "$$\n",
    "\\mu \\frac{d u^m(\\tau, \\mu)}{d \\tau}=u^m(\\tau, \\mu)-\\int_{-1}^1 D^m\\left(\\mu, \\mu^{\\prime}\\right) u^m\\left(\\tau, \\mu^{\\prime}\\right) d \\mu^{\\prime} - Q^m(\\mu)\n",
    "$$\n",
    "\n",
    "where\n",
    "\n",
    "$$\n",
    "\\begin{aligned}\n",
    "D^m\\left(\\mu, \\mu' \\right) &= \\frac{\\omega_0}{2} \\sum_{\\ell=m} g_\\ell^m P_\\ell^m(\\mu')P_\\ell^m(\\mu) \\\\\n",
    "Q^m(\\mu, \\tau) &= X^m(\\mu) \\exp\\left(-\\mu_{0}^{-1} \\tau\\right) \\\\\n",
    "X^m(\\mu) &= \\frac{\\omega_0 I_0 (2 - \\delta_{0m})}{4 \\pi}\\sum_{\\ell=0} g^m_\\ell P_\\ell^m\\left(-\\mu_0\\right)P_\\ell^m(\\mu)\n",
    "\\end{aligned}\n",
    "$$\n",
    "\n",
    "and our approach will be to solve for each $u^m$ then construct the full solution. Unlike in [[1]](#cite-STWJ1988), our source term $Q$ only contains the \"beam\" term and not a \"thermal\" term. We currently do not intend to add the thermal term."
   ]
  },
  {
   "cell_type": "markdown",
   "id": "e6d6e98b",
   "metadata": {},
   "source": [
    "## 3.3 $\\delta-M$ scaling in the Radiative Transfer Equation"
   ]
  },
  {
   "cell_type": "markdown",
   "id": "5a99d60e",
   "metadata": {},
   "source": [
    "Substitute the truncated, $\\delta-M$ approximated phase function\n",
    "\n",
    "$$\n",
    "p(\\mu, \\phi; \\mu', \\phi') = 4 \\pi f \\delta(\\mu - \\mu')\\delta(\\phi - \\phi') + (1 - f) p^*(\\mu, \\phi; \\mu', \\phi')\n",
    "$$\n",
    "\n",
    "into the radiative transfer equation to get\n",
    "\n",
    "\\begin{aligned}\n",
    "\\mu \\frac{\\partial u(\\tau, \\mu, \\phi)}{\\partial \\tau} = \\ &(1 - \\omega_0 f) u(\\tau, \\mu, \\phi) -\\frac{(1 - f)\\omega_0}{4 \\pi} \\int_{-1}^{1} \\int_{0}^{2 \\pi} p^*\\left(\\mu, \\phi ; \\mu', \\phi'\\right) u\\left(\\tau, \\mu', \\phi'\\right) \\mathrm{d} \\phi' \\mathrm{d} \\mu' \\\\\n",
    "&-\\omega_0 I_0 \\left(f \\delta(\\mu - \\mu_0)\\delta(\\phi - \\phi_0) + \\frac{1 - f}{4 \\pi} p^*\\left(\\mu, \\phi ;-\\mu_{0}, \\phi_{0}\\right)\\right) \\exp\\left(-\\mu_{0}^{-1} \\tau\\right)\n",
    "\\end{aligned}\n",
    "\n",
    "We shift the $\\delta$-function term to the **direct** beam to get\n",
    "\n",
    "$$u^*_\\text{direct} = (1 + \\omega_0 f) I_0 \\delta(\\mu + \\mu_0)\\delta(\\phi - \\phi_0) \\exp\\left(-\\mu_{0}^{-1} \\tau\\right)$$\n",
    "\n",
    "For the remaining **diffuse** intensity, which we denote $u^*$, we perform the change of variables\n",
    "\n",
    "$$\\tau^* = (1 - \\omega_0 f) \\tau \\iff \\frac{\\mathrm{d}\\tau}{\\mathrm{d}\\tau^*} = (1 - \\omega_0 f)^{-1}, \n",
    "\\quad \\omega^*_0 = \\frac{1-f}{1 - \\omega_0 f} \\omega_0$$\n",
    "\n",
    "to get\n",
    "\n",
    "$$\n",
    "\\begin{aligned}\n",
    "\\mu \\frac{\\partial u^*(\\tau^*, \\mu, \\phi)}{\\partial \\tau^*} = u^*(\\tau^*, \\mu, \\phi) &-\\frac{\\omega^*_0}{4 \\pi} \\int_{-1}^{1} \\int_{0}^{2 \\pi} p^*\\left(\\mu, \\phi ; \\mu', \\phi'\\right) u^*\\left(\\tau^*, \\mu', \\phi'\\right) \\mathrm{d} \\phi' \\mathrm{d} \\mu' \\\\\n",
    "&-\\frac{\\omega^*_0 I_0}{4 \\pi} p^*\\left(\\mu, \\phi ;-\\mu_{0}, \\phi_{0}\\right) \\exp\\left(-\\mu_{0}^{-1} \\tau\\right)\n",
    "\\end{aligned}\n",
    "$$\n",
    "\n",
    "which is in the exact same form as the radiative transfer equation for $u$, but with $\\tau$, $\\omega_0$, $p$ swapped for $\\tau^*$, $\\omega^*_0$, $p^*$ respectively. In the literature, $\\tau$, $\\omega_0$, $p$ are described as being $\\delta-M$ scaled to $\\tau^*$, $\\omega^*_0$, $p^*$ respectively. See [[5]](#cite-Wis1977) for more details on $\\delta-M$ scaling."
   ]
  },
  {
   "cell_type": "markdown",
   "id": "05e4ec46",
   "metadata": {},
   "source": [
    "## 3.4 Derivation of the system of ODEs for each Fourier mode"
   ]
  },
  {
   "cell_type": "markdown",
   "id": "f73b8abf",
   "metadata": {},
   "source": [
    "*We will prove equations (7a) and (7b) in [[1]](#cite-STWJ1988) in this subsection.*"
   ]
  },
  {
   "cell_type": "markdown",
   "id": "54087f37",
   "metadata": {},
   "source": [
    "In order to solve the integro-differential equation\n",
    "\n",
    "$$\n",
    "\\mu \\frac{d u^m(\\tau, \\mu)}{d \\tau}=u^m(\\tau, \\mu)-\\int_{-1}^1 D^m\\left(\\mu, \\mu^{\\prime}\\right) u^m\\left(\\tau, \\mu^{\\prime}\\right) d \\mu^{\\prime} - Q^m(\\mu)\n",
    "$$\n",
    "\n",
    "for each Fourier mode $m$, we need to discretize the $\\mu$ integral. We split the $\\mu$ integral into two integrals: from $-1$ to $0$ and from $0$ to $1$. We approximate each integral by Gauss-Legendre quadrature. This is the *double-Gauss method*; see [[7]](#cite-Syk1951) for more details. By double-Gauss, or any other double quadrature method (more general quadrature methods can be used, but we will lose important symmetries), we can approximate the integro-differential equation as\n",
    "\n",
    "\n",
    "$$\n",
    "\\mu_i \\frac{d u^m(\\tau, \\mu_i)}{d \\tau}=u^m(\\tau, \\mu_i)-\\sum_{j \\neq 0} w_j D^m\\left(\\mu_i, \\mu_j\\right) u^m\\left(\\tau, \\mu_j\\right) - Q^m(\\mu_i)\n",
    "$$\n",
    "\n",
    "For $i,j = 1, \\dots, N$, where $2N$ is the number of quadrature points, we define\n",
    "\n",
    "$$\n",
    "\\begin{aligned}\n",
    "&\\alpha = M^{-1}\\left(D^{+} W - I\\right) &&\\beta = M^{-1} D^{-} W \\\\\n",
    "&D^{+}[i,j] = D^m\\left(\\mu_i, \\mu_j\\right) = D^m\\left(-\\mu_i,-\\mu_j\\right) &&D^{-}[i,j] = D^m\\left(-\\mu_i, \\mu_j\\right) = D^m\\left(\\mu_i,-\\mu_j\\right) \\\\\n",
    "&W[i,j] = w_i\\delta_{ij} &&M[i,j] = \\mu_i\\delta_{ij} \\\\ \n",
    "&u^\\pm[i] = u^m(\\pm \\mu_i) &&Q^{\\pm}[i] = Q^m\\left(\\pm \\mu_i\\right) \n",
    "\\end{aligned}\n",
    "$$\n",
    "\n",
    "We also define $\\tilde{Q}^\\pm = M^{-1} Q^\\pm$. We claim that the discretized equation for each Fourier mode can be re-expressed as the system of ODEs\n",
    "\n",
    "$$\n",
    "\\begin{bmatrix} \\frac{\\mathrm{d}u^+}{\\mathrm{d}\\tau} \\\\ \\frac{\\mathrm{d}u^-}{\\mathrm{d}\\tau} \\end{bmatrix} = \\begin{bmatrix} -\\alpha & -\\beta \\\\ \\beta & \\alpha \\end{bmatrix} \\begin{bmatrix} u^+ \\\\ u^- \\end{bmatrix} + \\begin{bmatrix} -\\tilde{Q}^+ \\\\ \\tilde{Q}^- \\end{bmatrix}\n",
    "$$"
   ]
  },
  {
   "cell_type": "markdown",
   "id": "be7a3b01",
   "metadata": {},
   "source": [
    "**Proof**"
   ]
  },
  {
   "cell_type": "markdown",
   "id": "22cb7bab",
   "metadata": {},
   "source": [
    "On the RHS, substitute $\\alpha, \\beta, \\tilde{Q}^\\pm$:\n",
    "\n",
    "$$\n",
    "\\begin{aligned}\n",
    "\\begin{bmatrix} -\\alpha & -\\beta \\\\ \\beta & \\alpha \\end{bmatrix} \\begin{bmatrix} u^+ \\\\ u^- \\end{bmatrix} + \\begin{bmatrix} -\\tilde{Q}^+ \\\\ \\tilde{Q}^- \\end{bmatrix} &= \\begin{bmatrix} -M^{-1}\\left(D^{+} W - I\\right) & -M^{-1} D^{-} W \\\\ M^{-1} D^{-} W & M^{-1}\\left(D^{+} W - I\\right) \\end{bmatrix} \\begin{bmatrix} u^+ \\\\ u^- \\end{bmatrix} + \\begin{bmatrix} -M^{-1} Q^+ \\\\ M^{-1} Q^- \\end{bmatrix} \\\\\n",
    "&= \\begin{bmatrix} -M^{-1} & \\\\ & M^{-1} \\end{bmatrix} \\left( \\begin{bmatrix} D^{+} W - I & D^{-} W \\\\ D^{-} W & D^{+} W - I \\end{bmatrix} \\begin{bmatrix} u^+ \\\\ u^- \\end{bmatrix} + \\begin{bmatrix} Q^+ \\\\ Q^- \\end{bmatrix} \\right) \\\\\n",
    "&= \\begin{bmatrix} -\\mu_0^{-1} & & & & & \\\\ & \\ddots & & & & \\\\ & & -\\mu_N^{-1} & & & \\\\ & & & \\mu_0^{-1} & & \\\\ & & & & \\ddots & \\\\ & & & & & \\mu_N^{-1} \\end{bmatrix} \\left( \\left( \\begin{bmatrix} D^{+} W & D^{-} W \\\\ D^{-} W & D^{+} W \\end{bmatrix} - I \\right) \\begin{bmatrix} u^+ \\\\ u^- \\end{bmatrix} + \\begin{bmatrix} Q^+ \\\\ Q^- \\end{bmatrix} \\right) \\\\\n",
    "&= \\begin{bmatrix} \\mu_0^{-1} & & & & & \\\\ & \\ddots & & & & \\\\ & & \\mu_N^{-1} & & & \\\\ & & & -\\mu_0^{-1} & & \\\\ & & & & \\ddots & \\\\ & & & & & -\\mu_N^{-1} \\end{bmatrix} \\left(\\begin{bmatrix} u^+ \\\\ u^- \\end{bmatrix} - W \\begin{bmatrix} D^{+} & D^{-} \\\\ D^{-} & D^{+} \\end{bmatrix} - \\begin{bmatrix} Q^+ \\\\ Q^- \\end{bmatrix} \\right)\n",
    "\\end{aligned}\n",
    "$$\n",
    "\n",
    "Finally, we multiply across by the $\\mu_i$ values to see that the system is consistent with the discretized equation for each Fourier mode."
   ]
  },
  {
   "cell_type": "markdown",
   "id": "dfc6e0a3",
   "metadata": {},
   "source": [
    "## 3.5 Solving the system of ODEs for each Fourier mode"
   ]
  },
  {
   "cell_type": "markdown",
   "id": "75bcb1df",
   "metadata": {},
   "source": [
    "As previously derived, the system of ODEs for each Fourier mode is"
   ]
  },
  {
   "cell_type": "markdown",
   "id": "2beec0ff",
   "metadata": {},
   "source": [
    "$$\n",
    "\\begin{bmatrix} \\frac{\\mathrm{d}u^+}{\\mathrm{d}\\tau} \\\\ \\frac{\\mathrm{d}u^-}{\\mathrm{d}\\tau} \\end{bmatrix} = \\begin{bmatrix} -\\alpha & -\\beta \\\\ \\beta & \\alpha \\end{bmatrix} \\begin{bmatrix} u^+ \\\\ u^- \\end{bmatrix} + \\begin{bmatrix} -\\tilde{Q}^+ \\\\ \\tilde{Q}^- \\end{bmatrix}\n",
    "$$"
   ]
  },
  {
   "cell_type": "markdown",
   "id": "12e9f00b",
   "metadata": {},
   "source": [
    "Define $\\tilde{Q} = \\begin{bmatrix} -\\tilde{Q}^+ \\tilde{Q}^- \\end{bmatrix}^T$ and $\\tilde{X} = \\exp\\left(\\mu_0^{-1} \\tau\\right)\\tilde{Q}$. We first address the homogeneous problem, when $\\tilde{Q} = 0$, and solve for the eigenpairs of the coefficient matrix from the eigenequation\n",
    "\n",
    "$$\n",
    "\\begin{bmatrix} -\\alpha & -\\beta \\\\ \\beta & \\alpha \\end{bmatrix} \\begin{bmatrix} G^+ \\\\ G^- \\end{bmatrix} = k \\begin{bmatrix} G^+ \\\\ G^- \\end{bmatrix}\n",
    "$$"
   ]
  },
  {
   "cell_type": "markdown",
   "id": "77a3ccdb",
   "metadata": {},
   "source": [
    "Following the reduction order method in [[1]](#cite-STWJ1988), but with minor sign differences, we can solve\n",
    "\n",
    "$$\n",
    "(\\alpha - \\beta) (\\alpha + \\beta) \\left(G^+ + G^-\\right) = k^2 \\left(G^+ + G^-\\right)\n",
    "$$\n",
    "\n",
    "for eigenvalues $k$ which are always real. Given also that\n",
    "\n",
    "$$\n",
    "(\\alpha + \\beta) \\left(G^+ + G^-\\right) = -k \\left(G^+ - G^-\\right)\n",
    "$$\n",
    "\n",
    "we can solve for $G^+$ and $G^-$. Consequently, we can construct the eigenvector matrix $G = \\begin{bmatrix} G^+ & G^- \\end{bmatrix}^T$."
   ]
  },
  {
   "cell_type": "code",
   "execution_count": 31,
   "id": "4d12c69d",
   "metadata": {},
   "outputs": [],
   "source": [
    "m = 2  # We will need to repeat the following blocks of code for each Fourier mode, m\n",
    "\n",
    "# (Associated) Legendre polynomial orders and degrees \n",
    "ells = np.arange(m, NLeg)\n",
    "degree_tile = np.tile(ells, (N, 1)).T"
   ]
  },
  {
   "cell_type": "code",
   "execution_count": 32,
   "id": "88ec4674",
   "metadata": {},
   "outputs": [],
   "source": [
    "D_pos, D_neg = generate_Ds(m, Leg_coeffs, mu_arr_pos, w0, ells, degree_tile)\n",
    "M_inv = 1 / mu_arr_pos\n",
    "W = weights_mu[None, :]\n",
    "alpha = M_inv[:, None] * (D_pos * W - np.eye(N))\n",
    "beta = M_inv[:, None] * D_neg * W\n",
    "A = np.vstack((np.hstack((-alpha, -beta)), np.hstack((beta, alpha))))\n",
    "\n",
    "eigenvals_squared, eigenvecs_GpG = np.linalg.eig((alpha - beta) @ (alpha + beta))\n",
    "# Eigenvalues arranged negative then positive, from largest absolute value to smallest\n",
    "eigenvals = np.concatenate((-np.sqrt(eigenvals_squared), np.sqrt(eigenvals_squared)))\n",
    "eigenvecs_GpG = np.hstack((eigenvecs_GpG, eigenvecs_GpG))\n",
    "eigenvecs_GmG = (alpha + beta) @ eigenvecs_GpG / -eigenvals\n",
    "\n",
    "# Eigenvectors\n",
    "G_pos = (eigenvecs_GpG + eigenvecs_GmG) / 2\n",
    "G_neg = (eigenvecs_GpG - eigenvecs_GmG) / 2\n",
    "G = np.vstack((G_pos, G_neg))"
   ]
  },
  {
   "cell_type": "markdown",
   "id": "67a2ffd0",
   "metadata": {},
   "source": [
    "**Verification of eigenpairs**"
   ]
  },
  {
   "cell_type": "markdown",
   "id": "291151f2",
   "metadata": {},
   "source": [
    "[Skip verification](#3.6-Constructing-the-general-solution-for-each-Fourier-mode)"
   ]
  },
  {
   "cell_type": "code",
   "execution_count": 33,
   "id": "32f6cd1e",
   "metadata": {
    "tags": [
     "hide_input"
    ]
   },
   "outputs": [
    {
     "name": "stdout",
     "output_type": "stream",
     "text": [
      "Passed all tests\n"
     ]
    }
   ],
   "source": [
    "assert np.allclose((A @ G) / eigenvals, G)\n",
    "print(\"Passed all tests\")"
   ]
  },
  {
   "cell_type": "markdown",
   "id": "d5dbd535",
   "metadata": {},
   "source": [
    "## 3.6 Constructing the general solution for each Fourier mode -- TODO"
   ]
  },
  {
   "cell_type": "markdown",
   "id": "0ea3e9a3",
   "metadata": {},
   "source": [
    "*TODO: Use autodiff in the verification tests*"
   ]
  },
  {
   "cell_type": "markdown",
   "id": "7e92478e",
   "metadata": {},
   "source": [
    "For each Fourier mode $m$, the general solution is\n",
    "\n",
    "$$\n",
    "u^m = v^m + w^m\n",
    "$$\n",
    "\n",
    "where $v$, $w$ denotes the homogeneous and particular solutions respectively. We will omit the superscript $m$ going forward."
   ]
  },
  {
   "cell_type": "markdown",
   "id": "6da9edc1",
   "metadata": {},
   "source": [
    "### 3.6.1 The particular solution"
   ]
  },
  {
   "cell_type": "markdown",
   "id": "09957a31",
   "metadata": {},
   "source": [
    "The particular solution (vector), $v$, satisfies\n",
    "\n",
    "$$\n",
    "\\frac{\\mathrm{d}v}{\\mathrm{d}\\tau} = A v + \\tilde{Q}\n",
    "$$\n",
    "\n",
    "where\n",
    "\n",
    "$$\n",
    "A = \\begin{bmatrix} -\\alpha & -\\beta \\\\ \\beta & \\alpha \\end{bmatrix}, \\quad \\tilde{Q} = \\tilde{X} \\exp\\left(-\\mu_0^{-1} \\tau\\right)\n",
    "$$\n",
    "\n",
    "Assume the ansatz\n",
    "\n",
    "$$\n",
    "v(\\tau) = B\\exp\\left(-\\mu_0^{-1} \\tau\\right)\n",
    "$$\n",
    "\n",
    "for $B$ to be determined. Substitution into the full equation gives\n",
    "\n",
    "\\begin{aligned}\n",
    "&-\\mu_0^{-1} B\\exp\\left(-\\mu_0^{-1} \\tau\\right) = AB\\exp\\left(-\\mu_0^{-1} \\tau\\right) + \\tilde{X}\\exp\\left(-\\mu_0^{-1} \\tau\\right) \\\\\n",
    "&\\implies -\\mu_0^{-1} B = AB + \\tilde{X} \\\\\n",
    "&\\implies -\\left(\\mu_0^{-1} I + A\\right)B = \\tilde{X}\n",
    "\\end{aligned}\n",
    "\n",
    "which we can solve for $B$."
   ]
  },
  {
   "cell_type": "code",
   "execution_count": 34,
   "id": "3d1e398c",
   "metadata": {},
   "outputs": [],
   "source": [
    "X_pos, X_neg = generate_Xs(m, Leg_coeffs, w0, mu0, I0, mu_arr_pos, ells, degree_tile)\n",
    "X_tilde = np.concatenate((-M_inv * X_pos, M_inv * X_neg))\n",
    "\n",
    "B = np.linalg.solve(-(np.eye(NQuad) / mu0 + A), X_tilde)"
   ]
  },
  {
   "cell_type": "markdown",
   "id": "32db54cc",
   "metadata": {},
   "source": [
    "**Verification of particular solution**"
   ]
  },
  {
   "cell_type": "markdown",
   "id": "933c3e08",
   "metadata": {},
   "source": [
    "[Skip verification](#3.6.2-The-homogeneous-solution)"
   ]
  },
  {
   "cell_type": "code",
   "execution_count": 35,
   "id": "c3ae9085",
   "metadata": {
    "tags": [
     "hide_input"
    ]
   },
   "outputs": [],
   "source": [
    "# Number of tau grid points\n",
    "# Should try multiple values to check if the tau-grid is the limiting factor for accuracy (which is good)\n",
    "Ntau = int(tau0 * 1000) + 1\n",
    "\n",
    "tau_arr = np.linspace(0, tau0, Ntau)\n",
    "h = tau_arr[1] - tau_arr[0]  # grid spacing\n",
    "# Construct 1st derivative matrix with 2nd order accuracy\n",
    "first_deriv = np.zeros((Ntau, Ntau))\n",
    "diagonal = np.ones(Ntau) / (2 * h)\n",
    "first_deriv += np.diag(diagonal[:-1], 1)\n",
    "first_deriv += np.diag(-diagonal[:-1], -1)\n",
    "first_deriv = first_deriv[1:-1, :].T # This is due to tau being indexed by columns instead of rows"
   ]
  },
  {
   "cell_type": "code",
   "execution_count": 36,
   "id": "db1069c3",
   "metadata": {
    "tags": [
     "hide_input"
    ]
   },
   "outputs": [
    {
     "name": "stdout",
     "output_type": "stream",
     "text": [
      "Max pointwise error ratio =  1.6666472769033648e-05\n"
     ]
    }
   ],
   "source": [
    "up = B[:, None] * np.exp(-tau_arr[None, :] / mu0)\n",
    "RHS = up @ first_deriv\n",
    "LHS = (A @ up + X_tilde[:, None] * np.exp(-tau_arr[None, :] / mu0))[:, 1:-1]\n",
    "\n",
    "\n",
    "print(\"Max pointwise error ratio = \", np.max(np.abs((RHS - LHS)/RHS)))"
   ]
  },
  {
   "cell_type": "markdown",
   "id": "3245b434",
   "metadata": {},
   "source": [
    "### 3.6.2 The homogeneous solution"
   ]
  },
  {
   "cell_type": "markdown",
   "id": "bd6071b2",
   "metadata": {},
   "source": [
    "The homogeneous solution (vector), $w$, can be split into\n",
    "\n",
    "$$\n",
    "w = \\begin{bmatrix} w^+ \\\\ w^- \\end{bmatrix}, \\quad  w^\\pm(\\tau) = G^\\pm \\text{Diag}(K(\\tau)) \\xi\n",
    "$$\n",
    "\n",
    "where $K(\\tau)[j] = \\exp(k_j\\tau)$ and the coefficient vector $\\xi$ is to be determined from the boundary conditions. Given $\\tau \\in [0, \\tau_0]$ and Dirichlet BCs \n",
    "\n",
    "$$\n",
    "w^-(0) = b^-_m, \\quad w^+\\left( \\tau_0 \\right) = b^+_m\n",
    "$$\n",
    "\n",
    "where $b^\\pm_m$ is the $m$th column of matrix $b^\\pm$, we have by superposition\n",
    "\n",
    "$$\n",
    "w^-(0) = b^-_m - B^-, \\quad w^+\\left( \\tau_0 \\right) = b^+_m - B^+\\exp\\left(-\\mu_0^{-1} \\tau_0\\right)\n",
    "$$\n",
    "\n",
    "This produces the system\n",
    "\n",
    "$$\n",
    "\\begin{bmatrix} G^- \\\\ G^+ \\text{Diag}(K(\\tau_0))  \\end{bmatrix} \\xi = \\begin{bmatrix} b^-_m - B^- \\\\ b^+_m - B^+\\exp\\left(-\\mu_0^{-1} \\tau_0\\right) \\end{bmatrix}\n",
    "$$\n",
    "\n",
    "which we can solve to determine $\\xi$."
   ]
  },
  {
   "cell_type": "markdown",
   "id": "eee875d4",
   "metadata": {},
   "source": [
    "**Stamnes-Conklin's substitutions to address ill-conditioning**"
   ]
  },
  {
   "cell_type": "markdown",
   "id": "03e8cc79",
   "metadata": {},
   "source": [
    "The problem with the above formulation is that for large $\\tau_0$, the terms in $K\\left(\\tau_0\\right)$ that correspond to positive eigenvalues will be large. This may result in overflow or at least an ill-conditioned system. A solution to this problem is given by Stamnes and Conklin in [[3]](#cite-SC1984). First, re-express the system as\n",
    "\n",
    "$$\n",
    "\\begin{bmatrix} G^{--} & G^{-+} \\\\ G^{+-} \\text{Diag}\\left(K^-\\left(\\tau_0\\right)\\right) & G^{++} \\text{Diag}\\left(K^+\\left(\\tau_0\\right)\\right) \\end{bmatrix} \\begin{bmatrix} \\xi^- \\\\ \\xi^+ \\end{bmatrix} = \\begin{bmatrix} b^-_m - B^- \\\\ b^+_m - B^+\\exp\\left(-\\mu_0^{-1} \\tau_0 \\right) \\end{bmatrix}\n",
    "$$\n",
    "\n",
    "where $K^\\pm\\left(\\tau_0\\right)$, $G^{-\\pm}$ and $G^{+\\pm}$ correspond to positive and negative eigenvalues respectively. Recall that the eigenvalues are arranged negative then positive, e.g. $G^+ \\text{Diag}\\left(K\\left(\\tau_0\\right)\\right) = \\begin{bmatrix} G^{+-} \\text{Diag}\\left(K^-\\left(\\tau_0\\right)\\right) & G^{++} \\text{Diag}\\left(K^+\\left(\\tau_0\\right)\\right) \\end{bmatrix}$. \n",
    "\n",
    "Next, substitute $\\xi^- = C^-$ and $\\xi^+ = C^+ \\text{Diag}\\left(K^-\\left(\\tau_0\\right)\\right)$ to get\n",
    "\n",
    "$$\n",
    "\\begin{bmatrix} G^{--} & G^{-+} \\text{Diag}\\left(K^-\\left(\\tau_0\\right)\\right) \\\\ G^{+-} \\text{Diag}\\left(K^-\\left(\\tau_0\\right)\\right) &  G^{++} \\end{bmatrix} \\begin{bmatrix} C^- \\\\ C^+ \\end{bmatrix} = \\begin{bmatrix} b^-_m - B^-  \\\\ b^+_m - B^+\\exp\\left(-\\mu_0^{-1} \\tau_0 \\right) \\end{bmatrix}\n",
    "$$\n",
    "\n",
    "This reformulated system has no positive exponents so there is no risk of overflow. Furthermore, when $\\tau_0$ is large the matrix becomes approximately block diagonal and so it remains well-conditioned. We solve for $C$ and do not construct $\\xi$ because we will use the factor of $\\text{Diag}\\left(K^-\\left(\\tau_0\\right)\\right)$ to avoid positive exponents when we construct the general solution. This method is easily generalizable to multiple atmospheric layers, see section [4](#4.-Solving-for-multiple-atmospheric-layers----TODO)."
   ]
  },
  {
   "cell_type": "markdown",
   "id": "b4479af5",
   "metadata": {},
   "source": [
    "**Solving the system naively**"
   ]
  },
  {
   "cell_type": "code",
   "execution_count": 37,
   "id": "acad8093",
   "metadata": {},
   "outputs": [
    {
     "name": "stdout",
     "output_type": "stream",
     "text": [
      "Condition number = 2.1364151747752398e+210\n"
     ]
    }
   ],
   "source": [
    "B_pos, B_neg = B[:N], B[N:]\n",
    "K_tau0 = np.exp(eigenvals * tau0)\n",
    "\n",
    "LHS = np.vstack((G_neg, G_pos * K_tau0[None, :]))\n",
    "print(\"Condition number =\", np.linalg.cond(LHS))\n",
    "RHS = np.concatenate((b_neg[:, m] - B_neg, b_pos[:, m] - B_pos * np.exp(-tau0 / mu0)))\n",
    "# The system is too ill-conditioned to be solved if tau0 is large\n",
    "xi = np.linalg.solve(LHS, RHS)"
   ]
  },
  {
   "cell_type": "markdown",
   "id": "f3d9db1b",
   "metadata": {},
   "source": [
    "**Solving the system with Stamnes-Conklin's substitutions**"
   ]
  },
  {
   "cell_type": "code",
   "execution_count": 38,
   "id": "b4596ea9",
   "metadata": {},
   "outputs": [
    {
     "name": "stdout",
     "output_type": "stream",
     "text": [
      "Condition number = 1.3564204353292901\n"
     ]
    }
   ],
   "source": [
    "B_pos, B_neg = B[:N], B[N:]\n",
    "K_tau0_neg = np.exp(eigenvals[:N] * tau0)\n",
    "\n",
    "LHS = np.vstack((G_neg, G_pos))\n",
    "LHS[:N, N:] *= K_tau0_neg[None, :]\n",
    "LHS[N:, :N] *= K_tau0_neg[None, :]\n",
    "print(\"Condition number =\", np.linalg.cond(LHS))\n",
    "RHS = np.concatenate((b_neg[:, m] - B_neg, b_pos[:, m] - B_pos * np.exp(-tau0 / mu0)))\n",
    "C = np.linalg.solve(LHS, RHS)"
   ]
  },
  {
   "cell_type": "markdown",
   "id": "c5cd5cc8",
   "metadata": {},
   "source": [
    "Finally, we have the general solution for one Fourier mode $m$."
   ]
  },
  {
   "cell_type": "code",
   "execution_count": 39,
   "id": "5e28b122",
   "metadata": {},
   "outputs": [],
   "source": [
    "# The general solution for one Fourier mode\n",
    "\n",
    "# Note that we use the factor of Diag(K_-(\\tau_0)) attached to the coefficients (see Section 3.6.2)\n",
    "# to avoid positive exponents when we construct the general solution for one Fourier mode\n",
    "def um(tau):\n",
    "    tau = np.atleast_1d(tau)\n",
    "    exponent = np.vstack(\n",
    "        (\n",
    "            eigenvals[:N, None] * tau[None, :],\n",
    "            eigenvals[N:, None] * (tau - tau0)[None, :],\n",
    "        )\n",
    "    )\n",
    "    return (G * C[None, :]) @ np.exp(exponent) + B[:, None] * np.exp(\n",
    "        -tau[None, :] / mu0\n",
    "    )"
   ]
  },
  {
   "cell_type": "markdown",
   "id": "6093190e",
   "metadata": {},
   "source": [
    "### 3.6.3 Verification of the general solution"
   ]
  },
  {
   "cell_type": "markdown",
   "id": "98aad9af",
   "metadata": {},
   "source": [
    "[Skip verification](#3.7-The-full-solution)"
   ]
  },
  {
   "cell_type": "markdown",
   "id": "f5f9a98b",
   "metadata": {},
   "source": [
    "**Does the general solution satisfy the BCs?**"
   ]
  },
  {
   "cell_type": "code",
   "execution_count": 40,
   "id": "5db8eb24",
   "metadata": {
    "tags": [
     "hide_input"
    ]
   },
   "outputs": [
    {
     "name": "stdout",
     "output_type": "stream",
     "text": [
      "Passed all tests\n"
     ]
    }
   ],
   "source": [
    "# At top of atmosphere\n",
    "assert np.allclose(um(0)[N:], b_neg)\n",
    "\n",
    "# At bottom of atmosphere\n",
    "assert np.allclose(um(tau0)[:N], b_pos)\n",
    "print(\"Passed all tests\")"
   ]
  },
  {
   "cell_type": "markdown",
   "id": "55085c43",
   "metadata": {},
   "source": [
    "**Does the general solution satisfy the system of ODEs?**"
   ]
  },
  {
   "cell_type": "code",
   "execution_count": 41,
   "id": "2fbc7e8c",
   "metadata": {
    "tags": [
     "hide_input"
    ]
   },
   "outputs": [
    {
     "name": "stdout",
     "output_type": "stream",
     "text": [
      "Max pointwise error =  0.06844748958275204\n",
      "Max pointwise error ratio =  0.8201262270716073\n"
     ]
    }
   ],
   "source": [
    "um_cache = um(tau_arr)\n",
    "LHS = um_cache @ first_deriv\n",
    "RHS = (A @ um_cache + X_tilde[:, None] * np.exp(-tau_arr[None, :] / mu0))[:, 1:-1]\n",
    "\n",
    "print(\n",
    "    \"Max pointwise error = \",\n",
    "    np.max(np.abs(RHS - LHS)),\n",
    ")\n",
    "print(\n",
    "    \"Max pointwise error ratio = \",\n",
    "    np.max(np.abs((RHS - LHS)) / np.maximum(np.abs(LHS), np.abs(RHS))),\n",
    ")"
   ]
  },
  {
   "cell_type": "markdown",
   "id": "e4376cf8",
   "metadata": {},
   "source": [
    "**Does the general solution satisfy the Fourier mode integro-differential equation?**"
   ]
  },
  {
   "cell_type": "code",
   "execution_count": 42,
   "id": "ddbcdb01",
   "metadata": {
    "tags": [
     "hide_input"
    ]
   },
   "outputs": [
    {
     "name": "stdout",
     "output_type": "stream",
     "text": [
      "Max pointwise error =  0.0013590298168577597\n",
      "Max pointwise error ratio =  0.820126227213594\n"
     ]
    }
   ],
   "source": [
    "D = np.hstack((np.vstack((D_pos, D_neg)), np.vstack((D_neg, D_pos))))\n",
    "LHS = mu_arr[:, None] * um(tau_arr) @ first_deriv\n",
    "RHS = (\n",
    "    um_cache\n",
    "    - np.einsum(\"ij, jt, j -> it\", D, um_cache, full_weights_mu, optimize=True)\n",
    "    - np.concatenate((X_pos, X_neg))[:, None] * np.exp(-tau_arr[None, :] / mu0)\n",
    ")[:, 1:-1]\n",
    "\n",
    "print(\n",
    "    \"Max pointwise error = \",\n",
    "    np.max(np.abs(RHS - LHS)),\n",
    ")\n",
    "print(\n",
    "    \"Max pointwise error ratio = \",\n",
    "    np.max(np.abs((RHS - LHS)) / np.maximum(np.abs(LHS), np.abs(RHS))),\n",
    ")"
   ]
  },
  {
   "cell_type": "markdown",
   "id": "7394658b",
   "metadata": {},
   "source": [
    "## 3.7 The full solution"
   ]
  },
  {
   "cell_type": "markdown",
   "id": "68a49a51",
   "metadata": {},
   "source": [
    "The above must be repeated for each Fourier mode $m$. The full numerical solution given by `PyDISORT` is\n",
    "\n",
    "$$\n",
    "\\sum_{m=0} u^m(\\mu_i,\\tau)\\cos\\left(m\\left(\\phi_0 - \\phi\\right)\\right) \\approx u(\\mu, \\tau, \\phi)\n",
    "$$\n",
    "\n",
    "This solution is continuous and variable in $\\tau$ and $\\phi$ but discrete in $\\mu$ and fixed to the quadrature points. One can use interpolation to evaluate the function at other $\\mu$ values. The function output is 3D and axes $0, 1, 2$ capture $\\mu, \\tau, \\phi$ variation respectively. The first half of the $\\mu$ indices correspond to $u^+$ (upwards) and the second half to $u^-$ (downwards)."
   ]
  },
  {
   "cell_type": "markdown",
   "id": "ee15761a",
   "metadata": {},
   "source": [
    "**IMPORTANT:** reminder that `PyDISORT` will output the **diffuse intensity** and the **total flux**. One will need to manually add the intensity of the direct beam to get the total intensity."
   ]
  },
  {
   "cell_type": "markdown",
   "id": "ada4fda8",
   "metadata": {},
   "source": [
    "### 3.7.1 Verification of full solution"
   ]
  },
  {
   "cell_type": "markdown",
   "id": "092253a9",
   "metadata": {},
   "source": [
    "[Skip verifications](#3.7.2-Nakajima-Tanaka-Nakajima-Tanaka-3.7.2-Nakajima-Tanaka-Nakajima-Tanaka-3.7.2-Nakajima-Tanaka-Nakajima-Tanaka-3.7.2-Nakajima-Tanaka-Nakajima-Tanaka-3.7.2-Nakajima-Tanaka-%28NT%29-corrections----TODO)"
   ]
  },
  {
   "cell_type": "code",
   "execution_count": null,
   "id": "593cf86d",
   "metadata": {},
   "outputs": [],
   "source": []
  },
  {
   "cell_type": "code",
   "execution_count": 43,
   "id": "320e873d",
   "metadata": {
    "tags": [
     "hide_input"
    ]
   },
   "outputs": [],
   "source": [
    "Ntau = int(tau0 * 100) + 1  # Number of tau grid points\n",
    "Nphi = int((NQuad * pi) // 2) * 2 + 1  # Number of phi grid points\n",
    "\n",
    "tau_arr = np.linspace(0, tau0, Ntau)\n",
    "h = tau_arr[1] - tau_arr[0]  # grid spacing\n",
    "phi_arr, full_weights_phi = Clenshaw_Curtis_quad(Nphi)\n",
    "\n",
    "# Construct 1st derivative matrix with 2nd order accuracy\n",
    "first_deriv = np.zeros((Ntau, Ntau))\n",
    "diagonal = np.ones(Ntau) / (2 * h)\n",
    "first_deriv += np.diag(diagonal[:-1], 1)\n",
    "first_deriv += np.diag(-diagonal[:-1], -1)\n",
    "first_deriv = first_deriv[1:-1, :].T # This is due to tau being indexed by columns instead of rows\n",
    "\n",
    "full_weights_mu = np.concatenate((weights_mu, weights_mu))"
   ]
  },
  {
   "cell_type": "code",
   "execution_count": 44,
   "id": "01be0afd",
   "metadata": {},
   "outputs": [],
   "source": [
    "# Call PyDISORT from module\n",
    "mu_arr, u, flux_up, flux_down = PyDISORT(\n",
    "    b_pos, b_neg, False, NQuad, NLeg, Leg_coeffs_full, tau0, w0, mu0, phi0, I0\n",
    ")"
   ]
  },
  {
   "cell_type": "markdown",
   "id": "88a90a8c",
   "metadata": {},
   "source": [
    "**Does the full solution satisfy the BCs?**"
   ]
  },
  {
   "cell_type": "code",
   "execution_count": 45,
   "id": "2698896b",
   "metadata": {
    "tags": [
     "hide_input"
    ]
   },
   "outputs": [
    {
     "name": "stdout",
     "output_type": "stream",
     "text": [
      "Passed all tests\n"
     ]
    }
   ],
   "source": [
    "# At top of atmosphere\n",
    "assert np.allclose(\n",
    "    u(0, phi_arr)[N:, :], b_neg @ np.cos(np.arange(NLeg)[:, None] * (phi0 - phi_arr))\n",
    ")\n",
    "\n",
    "# At bottom of atmosphere\n",
    "assert np.allclose(\n",
    "    u(tau0, phi_arr)[:N, :], b_pos @ np.cos(np.arange(NLeg)[:, None] * (phi0 - phi_arr))\n",
    ")\n",
    "print(\"Passed all tests\")"
   ]
  },
  {
   "cell_type": "markdown",
   "id": "70540fcc",
   "metadata": {},
   "source": [
    "**Does the full solution satisfy the radiative transfer equation?**"
   ]
  },
  {
   "cell_type": "code",
   "execution_count": 46,
   "id": "4282e67f",
   "metadata": {
    "tags": [
     "hide_input"
    ]
   },
   "outputs": [],
   "source": [
    "u_cache = u(tau_arr, phi_arr)"
   ]
  },
  {
   "cell_type": "code",
   "execution_count": 47,
   "id": "ae559251",
   "metadata": {
    "tags": [
     "hide_input"
    ]
   },
   "outputs": [],
   "source": [
    "LHS = mu_arr[:, None, None] * np.einsum(\"itp, tj -> ijp\", u_cache, first_deriv)\n",
    "RHS = (\n",
    "    u_cache\n",
    "    - (w0 / (4 * pi))\n",
    "    * np.einsum(\n",
    "        \"ijkl, ktl, k, l -> itj\",\n",
    "        p_HG_muphi(mu_arr, phi_arr, mu_arr, phi_arr, g),\n",
    "        u_cache,\n",
    "        full_weights_mu,\n",
    "        full_weights_phi,\n",
    "        optimize=True,\n",
    "    )\n",
    "    - (w0 * I0 / (4 * pi))\n",
    "    * p_HG_muphi(mu_arr, phi_arr, -mu0, phi0, g)[:, None, :]\n",
    "    * np.exp(-tau_arr[None, :, None] / mu0)\n",
    ")[:, 1:-1, :]"
   ]
  },
  {
   "cell_type": "code",
   "execution_count": 48,
   "id": "70023a70",
   "metadata": {
    "scrolled": true,
    "tags": [
     "hide_input"
    ]
   },
   "outputs": [
    {
     "name": "stdout",
     "output_type": "stream",
     "text": [
      "Max pointwise error =  0.9937679147943221\n",
      "Max pointwise error at [-0.102  0.     3.142]\n",
      "\n",
      "Max pointwise error ratio =  1.9992978531542296\n"
     ]
    }
   ],
   "source": [
    "max_error_index = np.unravel_index(np.abs(RHS - LHS).argmax(), RHS.shape)\n",
    "\n",
    "print(\"Max pointwise error = \", np.max(np.abs((RHS - LHS))))\n",
    "print(\n",
    "    \"Max pointwise error at\",\n",
    "    np.around(\n",
    "        (\n",
    "            mu_arr[max_error_index[0]],\n",
    "            tau_arr[max_error_index[1]],\n",
    "            phi_arr[max_error_index[2]],\n",
    "        ),\n",
    "        3,\n",
    "    ),\n",
    ")\n",
    "print()\n",
    "print(\n",
    "    \"Max pointwise error ratio = \",\n",
    "    np.max(np.abs((RHS - LHS)) / np.maximum(np.abs(LHS), np.abs(RHS))),\n",
    ")"
   ]
  },
  {
   "cell_type": "code",
   "execution_count": 49,
   "id": "6afcf6d4",
   "metadata": {
    "tags": [
     "hide_input"
    ]
   },
   "outputs": [],
   "source": [
    "MU_ARR, PHI_ARR = np.meshgrid(phi_arr, mu_arr)"
   ]
  },
  {
   "cell_type": "code",
   "execution_count": 50,
   "id": "976d4f63",
   "metadata": {
    "tags": [
     "hide_input"
    ]
   },
   "outputs": [
    {
     "data": {
      "text/plain": [
       "<matplotlib.legend.Legend at 0x1850f028d60>"
      ]
     },
     "execution_count": 50,
     "metadata": {},
     "output_type": "execute_result"
    },
    {
     "data": {
      "application/vnd.jupyter.widget-view+json": {
       "model_id": "05686387df0e4686ba52d5b9cada9850",
       "version_major": 2,
       "version_minor": 0
      },
      "image/png": "[encoded data removed]",
      "text/html": [
       "\n",
       "            <div style=\"display: inline-block;\">\n",
       "                <div class=\"jupyter-widgets widget-label\" style=\"text-align: center;\">\n",
       "                    Figure\n",
       "                </div>\n",
       "                <img src='data:image/png;base64,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' width=900.0/>\n",
       "            </div>\n",
       "        "
      ],
      "text/plain": [
       "Canvas(toolbar=Toolbar(toolitems=[('Home', 'Reset original view', 'home', 'home'), ('Back', 'Back to previous …"
      ]
     },
     "metadata": {},
     "output_type": "display_data"
    }
   ],
   "source": [
    "%matplotlib widget\n",
    "error = np.abs(RHS - LHS)[:, max_error_index[1], :]\n",
    "\n",
    "fig = plt.figure(figsize=(9, 6))\n",
    "ax = plt.axes(projection=\"3d\")\n",
    "ax.contourf(MU_ARR, PHI_ARR, error, 200)\n",
    "ax.scatter(\n",
    "    phi0,\n",
    "    -mu0,\n",
    "    np.linspace(0, np.max(error) * 1.1, 200),\n",
    "    marker=\".\",\n",
    "    color=\"red\",\n",
    "    label=\"Direct beam at $\\mu$ = \"\n",
    "    + str(-mu0)\n",
    "    + \", $\\phi$ = \"\n",
    "    + str(np.around(phi0, 3)),\n",
    ")\n",
    "ax.set_xlabel(r\"$\\phi$\")\n",
    "ax.set_ylabel(r\"$\\mu$\")\n",
    "ax.set_zlabel(\"Pointwise error\")\n",
    "plt.title(r\"Pointwise error at $\\tau$ = \" + str(np.around(tau_arr[max_error_index[1]], 3)))\n",
    "plt.legend()"
   ]
  },
  {
   "cell_type": "markdown",
   "id": "a86ecace",
   "metadata": {},
   "source": [
    "### 3.7.2 Nakajima-Tanaka (NT) corrections -- TODO"
   ]
  },
  {
   "cell_type": "markdown",
   "id": "f64918ae",
   "metadata": {},
   "source": [
    "This subsection summarizes the main points from [[8]](#cite-NT1988) and Appendix A of [[9]](#cite-STWLE2000) but omits most of the mathematical explanation. Recall that $\\tau^*, \\omega^*_0, p^*$ denote $\\delta-M$ scaled parameters and $f$ is the scattering fraction into the peak. `PyDISORT` requires the true phase function with vector arguments $\\nu$ and hyperparameter $g$ to perform NT corrections. The true phase function must be supplied through the first element of the tuple variable `p_for_NT_with_g`; the second element of `p_for_NT_with_g` supplies the asymmetry factor $g$. The flag to enable NT corrections is `callable(p_for_NT_with_g[0]) == True`."
   ]
  },
  {
   "cell_type": "markdown",
   "id": "c11b6904",
   "metadata": {},
   "source": [
    "The $\\delta-M$ method allows for accurate flux computation, but intensity values remain inaccurate particularly at very small or very large scattering angles with respect to the direct beam. This is caused by the truncation of the Legendre series of the phase function. Nakajima and Tanaka use perturbation theory to reduce the truncation error. This correction is applied to the intensity but not to the flux as the latter is already accurate. This unfortunately means that flux values calculated by integrating the intensity will differ slightly from values given by the flux functions."
   ]
  },
  {
   "cell_type": "markdown",
   "id": "619f0bc6",
   "metadata": {},
   "source": [
    "**Notations**"
   ]
  },
  {
   "cell_type": "markdown",
   "id": "74c58c24",
   "metadata": {},
   "source": [
    "We denote the radiative transfer equation with a general source function $J$,\n",
    "\n",
    "$$\n",
    "\\mu \\frac{\\partial u(\\tau, \\mu, \\phi)}{\\partial \\tau} = u(\\tau, \\mu, \\phi) -\\frac{\\omega_0}{4 \\pi} \\int_{-1}^{1} \\int_{0}^{2 \\pi} p\\left(\\mu, \\phi ; \\mu', \\phi'\\right) u\\left(\\tau, \\mu', \\phi'\\right) \\mathrm{d} \\phi' \\mathrm{d} \\mu' - J\n",
    "$$\n",
    "\n",
    "by the functional notation $\\mathcal{F}(u, \\tau, \\omega_0, p; J)$. For example, the original radiative transfer is denoted\n",
    "\n",
    "$$\\mathcal{F}\\left(u, \\tau, \\omega_0, p; \\frac{\\omega_0 I_0}{4 \\pi} p\\left(\\mu, \\phi ;-\\mu_{0}, \\phi_{0}\\right) \\exp\\left(-\\mu_{0}^{-1} \\tau\\right)\\right)$$\n",
    "\n",
    "using this notation. The NT correction method can be considered an extension of the $\\delta-M$ method. For the $\\delta-M$ method, we approximate $u_\\text{true} \\approx u^*$\n",
    "where $u_\\text{true}$ is the true solution to the original radiative transfer equation, and $u^*$ is the true solution to \n",
    "\n",
    "$$\\mathcal{F}\\left(u^*, \\tau^*, \\omega^*_0, p^*; \\frac{\\omega^*_0 I_0}{4 \\pi} p^*\\left(\\mu, \\phi ;-\\mu_{0}, \\phi_{0}\\right) \\exp\\left(-\\mu_{0}^{-1} \\tau^*\\right)\\right)$$\n",
    "\n",
    "We can only determine $u^*$ up to some numerical error. This numerical error comes from the eigenvalue solver, quadrature, linear system solver and so on, but does not come from truncation. There is no truncation since $p^*$ is defined as a truncated phase function and we use every term."
   ]
  },
  {
   "cell_type": "markdown",
   "id": "06207f6c",
   "metadata": {},
   "source": [
    "**TMS correction**"
   ]
  },
  {
   "cell_type": "markdown",
   "id": "73b1b162",
   "metadata": {},
   "source": [
    "For the first of two NT corrections, named *TMS*, we approximate $u_\\text{true} \\approx u_\\text{TMS} := u^* - u_1^* + \\tilde{u}_1^*$, where $u_1^*$ and $\\tilde{u}_1^*$ are true solutions to the single-scattering equations\n",
    "\n",
    "$$\\mathcal{F}\\left(u_1^*, \\tau^*, 0, 0; \\frac{\\omega^*_0 I_0}{4 \\pi} p^*\\left(\\mu, \\phi ;-\\mu_{0}, \\phi_{0}\\right) \\exp\\left(-\\mu_{0}^{-1} \\tau^*\\right)\\right), \\quad \\mathcal{F}\\left(\\tilde{u}_1^*, \\tau^*, 0, 0; \\frac{\\omega^*_0 I_0}{(1 - f) 4 \\pi} p\\left(\\mu, \\phi ;-\\mu_{0}, \\phi_{0}\\right) \\exp\\left(-\\mu_{0}^{-1} \\tau^*\\right)\\right)$$\n",
    "\n",
    "respectively. By the principle of superposition, every correction term, i.e. every term but $u^*$, must satisfy homogeneous BCs. We can solve for $u_1^*$ and $\\tilde{u}_1^*$ analytically:\n",
    "\n",
    "$$\n",
    "\\begin{aligned}\n",
    "u_1^*(\\tau^*, \\mu_i, \\phi) &= \\mathcal{B}(\\tau^*, \\mu_i, \\phi)\\left[\\exp\\left(-\\frac{\\tau^*}{\\mu_0}\\right) - \\exp\\left(\\frac{\\tau^* - \\tau^*_0}{\\mu_i} - \\frac{\\tau^*_0}{\\mu_0}\\right)\\right] \\\\\n",
    "u_1^*(\\tau^*, -\\mu_i, \\phi) &= \\mathcal{B}(\\tau^*, -\\mu_i, \\phi)\\left[\\exp\\left(-\\frac{\\tau^*}{\\mu_0}\\right) - \\exp\\left(-\\frac{\\tau^*}{\\mu_i}\\right)\\right] \\\\\n",
    "\\end{aligned}\n",
    "$$\n",
    "\n",
    "and $\\tilde{u}_1^*(\\tau^*, \\pm\\mu_i, \\phi)$ are identical except with $\\mathcal{B}$ swapped for $\\tilde{\\mathcal{B}}$. The source terms give\n",
    "\n",
    "$$\n",
    "\\begin{aligned}\n",
    "\\mathcal{B}(\\tau^*, \\pm\\mu_i, \\phi) &= \\left(\\pm \\frac{\\mu_i}{\\mu_0} + 1 \\right)^{-1} \\frac{\\omega^*_0 I_0}{4 \\pi} p^*\\left(\\pm\\mu_i, \\phi ;-\\mu_{0}, \\phi_{0}\\right) \\exp\\left(-\\mu_{0}^{-1} \\tau^*\\right) \\\\\n",
    "\\tilde{\\mathcal{B}}(\\tau^*, \\pm\\mu_i, \\phi) &= \\left(\\pm \\frac{\\mu_i}{\\mu_0} + 1 \\right)^{-1} \\frac{\\omega^*_0 I_0}{(1 - f) 4 \\pi} p\\left(\\pm\\mu_i, \\phi ;-\\mu_{0}, \\phi_{0}\\right)\n",
    "\\end{aligned}\n",
    "$$"
   ]
  },
  {
   "cell_type": "markdown",
   "id": "dc57bc49",
   "metadata": {},
   "source": [
    "**IMS correction (TODO)**"
   ]
  },
  {
   "cell_type": "markdown",
   "id": "d680ae89",
   "metadata": {},
   "source": [
    "*TODO: Complete description of IMS correction.*"
   ]
  },
  {
   "cell_type": "markdown",
   "id": "45f68b9a",
   "metadata": {},
   "source": [
    "The TMS correction substantially reduces the truncation error for all angles except backscattering angles and those close to the direct beam. Thus, a second NT correction, named *IMS*, is required. For the IMS, we claim that $u_\\text{true} \\approx u_\\text{TMS} + u_\\text{IMS}$ where $u_\\text{IMS}$ is the true solution to\n",
    "\n",
    "$$\\mathcal{F}\\left(u_\\text{IMS}, \\tau, \\omega, p; -J_1 - J_2 - J_3\\right)$$\n",
    "\n",
    "where\n",
    "\n",
    "\\begin{aligned}\n",
    "J_1 &= \\\\\n",
    "J_2 &= \\\\\n",
    "J_3 &=\n",
    "\\end{aligned}"
   ]
  },
  {
   "cell_type": "markdown",
   "id": "429280f5",
   "metadata": {},
   "source": [
    "### 3.7.3 Verification of NT corrected full solution"
   ]
  },
  {
   "cell_type": "markdown",
   "id": "1fe65541",
   "metadata": {},
   "source": [
    "[Skip verifications](#3.7.4-Computation-of-flux)"
   ]
  },
  {
   "cell_type": "code",
   "execution_count": 51,
   "id": "b6e6217d",
   "metadata": {
    "tags": [
     "hide_input"
    ]
   },
   "outputs": [],
   "source": [
    "mu_arr, u_NT, flux_up_NT, flux_down_NT = PyDISORT(\n",
    "    b_pos, b_neg, \n",
    "    False, \n",
    "    NQuad, NLeg, Leg_coeffs_full, \n",
    "    tau0, w0, \n",
    "    mu0, phi0, I0, \n",
    "    f=f, p_for_NT_with_g=p_for_NT_with_g\n",
    ")"
   ]
  },
  {
   "cell_type": "markdown",
   "id": "658700db",
   "metadata": {},
   "source": [
    "**Does the full solution satisfy the BCs?**"
   ]
  },
  {
   "cell_type": "code",
   "execution_count": 52,
   "id": "20dcddf8",
   "metadata": {
    "tags": [
     "hide_input"
    ]
   },
   "outputs": [
    {
     "name": "stdout",
     "output_type": "stream",
     "text": [
      "Passed all tests\n"
     ]
    }
   ],
   "source": [
    "# At top of atmosphere\n",
    "assert np.allclose(\n",
    "    u_NT(0, phi_arr)[N:, :],\n",
    "    b_neg @ np.cos(np.arange(NLeg)[:, None] * (phi0 - phi_arr)[None, :]),\n",
    ")\n",
    "\n",
    "# At bottom of atmosphere\n",
    "assert np.allclose(\n",
    "    u_NT(tau0, phi_arr)[:N, :],\n",
    "    b_pos @ np.cos(np.arange(NLeg)[:, None] * (phi0 - phi_arr)[None, :]),\n",
    ")\n",
    "print(\"Passed all tests\")"
   ]
  },
  {
   "cell_type": "markdown",
   "id": "42c57007",
   "metadata": {},
   "source": [
    "**Does the full solution satisfy the radiative transfer equation?**"
   ]
  },
  {
   "cell_type": "code",
   "execution_count": 53,
   "id": "f3fe34b5",
   "metadata": {
    "tags": [
     "hide_input"
    ]
   },
   "outputs": [],
   "source": [
    "u_NT_cache = u_NT(tau_arr, phi_arr)"
   ]
  },
  {
   "cell_type": "code",
   "execution_count": 54,
   "id": "fc7ae1f2",
   "metadata": {
    "tags": [
     "hide_input"
    ]
   },
   "outputs": [],
   "source": [
    "LHS_NT = mu_arr[:, None, None] * np.einsum(\"itp, tj -> ijp\", u_NT_cache, first_deriv)\n",
    "RHS_NT = (\n",
    "    u_NT_cache\n",
    "    - (w0 / (4 * pi))\n",
    "    * np.einsum(\n",
    "        \"ijkl, ktl, k, l -> itj\",\n",
    "        p_HG_muphi(mu_arr, phi_arr, mu_arr, phi_arr, g),\n",
    "        u_NT_cache,\n",
    "        full_weights_mu,\n",
    "        full_weights_phi,\n",
    "        optimize=True,\n",
    "    )\n",
    "    - (w0 * I0 / (4 * pi))\n",
    "    * p_HG_muphi(mu_arr, phi_arr, -mu0, phi0, g)[:, None, :]\n",
    "    * np.exp(-tau_arr[None, :, None] / mu0)\n",
    ")[:, 1:-1, :]"
   ]
  },
  {
   "cell_type": "code",
   "execution_count": 55,
   "id": "ca6ba0d5",
   "metadata": {
    "scrolled": true,
    "tags": [
     "hide_input"
    ]
   },
   "outputs": [
    {
     "name": "stdout",
     "output_type": "stream",
     "text": [
      "Max pointwise error =  0.5571213089304745\n",
      "Max pointwise error at [-0.02   0.     3.142]\n",
      "\n",
      "Max pointwise error ratio =  1.997994327864042\n"
     ]
    }
   ],
   "source": [
    "max_error_index_NT = np.unravel_index(np.abs(RHS_NT - LHS_NT).argmax(), RHS_NT.shape)\n",
    "\n",
    "print(\"Max pointwise error = \", np.max(np.abs((RHS_NT - LHS_NT))))\n",
    "print(\n",
    "    \"Max pointwise error at\",\n",
    "    np.around(\n",
    "        (\n",
    "            mu_arr[max_error_index_NT[0]],\n",
    "            tau_arr[max_error_index_NT[1]],\n",
    "            phi_arr[max_error_index_NT[2]],\n",
    "        ),\n",
    "        3,\n",
    "    ),\n",
    ")\n",
    "print()\n",
    "print(\n",
    "    \"Max pointwise error ratio = \",\n",
    "    np.max(np.abs((RHS_NT - LHS_NT)) / np.maximum(np.abs(LHS_NT), np.abs(RHS_NT))),\n",
    ")"
   ]
  },
  {
   "cell_type": "code",
   "execution_count": 56,
   "id": "54b275c3",
   "metadata": {
    "tags": [
     "hide_input"
    ]
   },
   "outputs": [
    {
     "data": {
      "text/plain": [
       "<matplotlib.legend.Legend at 0x1850ee10850>"
      ]
     },
     "execution_count": 56,
     "metadata": {},
     "output_type": "execute_result"
    },
    {
     "data": {
      "application/vnd.jupyter.widget-view+json": {
       "model_id": "88b4500969dc453f8477f958192c1c17",
       "version_major": 2,
       "version_minor": 0
      },
      "image/png": "[encoded data removed]",
      "text/html": [
       "\n",
       "            <div style=\"display: inline-block;\">\n",
       "                <div class=\"jupyter-widgets widget-label\" style=\"text-align: center;\">\n",
       "                    Figure\n",
       "                </div>\n",
       "                <img src='data:image/png;base64,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' width=900.0/>\n",
       "            </div>\n",
       "        "
      ],
      "text/plain": [
       "Canvas(toolbar=Toolbar(toolitems=[('Home', 'Reset original view', 'home', 'home'), ('Back', 'Back to previous …"
      ]
     },
     "metadata": {},
     "output_type": "display_data"
    }
   ],
   "source": [
    "%matplotlib widget\n",
    "tau_index = 35\n",
    "error_NT = np.abs(RHS_NT - LHS_NT)[:, max_error_index_NT[1], :]\n",
    "\n",
    "fig = plt.figure(figsize=(9, 6))\n",
    "ax = plt.axes(projection=\"3d\")\n",
    "ax.contourf(MU_ARR, PHI_ARR, error_NT, 200)\n",
    "ax.scatter(\n",
    "    phi0,\n",
    "    -mu0,\n",
    "    np.linspace(0, np.max(error_NT) * 1.1, 200),\n",
    "    marker=\".\",\n",
    "    color=\"red\",\n",
    "    label=\"Direct beam at $\\mu$ = \"\n",
    "    + str(-mu0)\n",
    "    + \", $\\phi$ = \"\n",
    "    + str(np.around(phi0, 3)),\n",
    ")\n",
    "ax.set_xlabel(r\"$\\phi$\")\n",
    "ax.set_ylabel(r\"$\\mu$\")\n",
    "ax.set_zlabel(\"Pointwise error\")\n",
    "plt.title(\n",
    "    r\"Pointwise error at $\\tau$ = \" + str(np.around(tau_arr[max_error_index_NT[1]], 3))\n",
    ")\n",
    "plt.legend()"
   ]
  },
  {
   "cell_type": "markdown",
   "id": "c82919f7",
   "metadata": {},
   "source": [
    "### 3.7.4 Computation of flux"
   ]
  },
  {
   "cell_type": "markdown",
   "id": "0fe27fd8",
   "metadata": {},
   "source": [
    "`PyDISORT` also returns the positive and negative (hemispheric) flux functions. We have that\n",
    "\n",
    "$$\n",
    "F_\\text{total}^\\pm(\\tau) = F_\\text{diffuse}^\\pm(\\tau) + F_\\text{direct}^\\pm(\\tau)\n",
    "$$\n"
   ]
  },
  {
   "cell_type": "markdown",
   "id": "ddfea9f9",
   "metadata": {},
   "source": [
    "**Direct (beam) flux**"
   ]
  },
  {
   "cell_type": "markdown",
   "id": "5d21962c",
   "metadata": {},
   "source": [
    "Since the direct beam is\n",
    "\n",
    "$$u_\\text{direct}(\\tau, \\mu, \\phi) = I_0 \\delta(\\mu + \\mu_0) \\delta(\\phi - \\phi_0) \\exp\\left(-\\mu_{0}^{-1} \\tau\\right)$$\n",
    "\n",
    "and $\\mu_0 > 0$, we have \n",
    "\n",
    "$$F_\\text{direct}^+(\\tau) \\equiv 0, \\quad F_\\text{direct}^-(\\tau) = I_0 \\mu_0 \\exp\\left(-\\mu_{0}^{-1} \\tau\\right)$$"
   ]
  },
  {
   "cell_type": "markdown",
   "id": "0cfc204e",
   "metadata": {},
   "source": [
    "**Diffuse flux**"
   ]
  },
  {
   "cell_type": "markdown",
   "id": "e85f1c8c",
   "metadata": {},
   "source": [
    "The diffuse flux equals\n",
    "\n",
    "$$\n",
    "\\begin{aligned}\n",
    "F_\\text{diffuse}^\\pm(\\tau) &= \\int_{0}^{1} \\int_{0}^{2 \\pi} \\mu u\\left(\\tau, \\pm\\mu, \\phi\\right) \\mathrm{d} \\phi \\mathrm{d} \\mu \\\\\n",
    "&= \\sum_{m=0}^\\infty \\left(\\int_{0}^{1} \\mu u^m(\\tau, \\pm\\mu) \\mathrm{d} \\mu \\int_{0}^{2 \\pi} \\cos\\left(m\\left(\\phi_0 - \\phi\\right)\\right) \\mathrm{d} \\phi \\right) \\\\\n",
    "&= 2\\pi \\int_{0}^{1} \\mu u^0\\left(\\tau, \\pm\\mu\\right) \\mathrm{d} \\mu \\\\\n",
    "&\\approx 2\\pi \\sum_{i = 1} w_i\\mu_i u^0\\left(\\tau, \\pm\\mu_i\\right)\n",
    "\\end{aligned}\n",
    "$$\n",
    "\n",
    "where we used the cosine expansion of $u$ from section [3.2](#3.2-Derivation-of-the-integro-differential-equation-for-each-Fourier-mode). In the last line we approximated the $\\mu$ integral by some quadrature rule. Only the $0$th moment matters for the flux. With $\\delta-M$ scaling, we have\n",
    "\n",
    "$$\n",
    "F_\\text{direct}^-(\\tau) \\equiv (1 + \\omega_0 f) I_0 \\mu_0 \\exp\\left(-\\mu_{0}^{-1} \\tau\\right), \\quad F_\\text{diffuse}^\\pm(\\tau^*_0) \\approx 2\\pi \\sum_{i = 1} w_i\\mu_i u^{*0}\\left(\\tau^*_0, \\pm\\mu_i\\right)\n",
    "$$\n",
    "\n",
    "instead. Note that $\\tau$ has to be mapped to $\\tau^*$ before being inputted into $F_\\text{diffuse}^\\pm$. The upwelling and downwelling are respectively \n",
    "\n",
    "$$F_\\text{total}^+(0), \\quad F_\\text{total}^-(\\tau_0)$$ "
   ]
  },
  {
   "cell_type": "markdown",
   "id": "a3aa1573",
   "metadata": {},
   "source": [
    "**IMPORTANT:** reminder that `PyDISORT` will output the **diffuse intensity** and the **total flux**. One will need to separately / manually add the intensity of the direct beam to get the total intensity."
   ]
  },
  {
   "cell_type": "markdown",
   "id": "93d8c134",
   "metadata": {},
   "source": [
    "#### 3.7.4.1 Verification of flux"
   ]
  },
  {
   "cell_type": "markdown",
   "id": "bba01a31",
   "metadata": {},
   "source": [
    "[Skip verification](#3.7.4.2-Reflectance-and-transmittance)"
   ]
  },
  {
   "cell_type": "markdown",
   "id": "6bad9364",
   "metadata": {},
   "source": [
    "**Does integrating the intensity functions produce the flux functions?**"
   ]
  },
  {
   "cell_type": "markdown",
   "id": "2790cdd2",
   "metadata": {},
   "source": [
    "This will only be true if\n",
    "* `callable(p_for_NT_with_g[0]) == False`, because the corrections are applied only to the intensity and not the fluxes\n",
    "* We manually add the direct flux to `flux_up_test` and `flux_down_test`, since `PyDISORT` only outputs the diffuse, and not total, intensity"
   ]
  },
  {
   "cell_type": "code",
   "execution_count": 57,
   "id": "d345c6d3",
   "metadata": {
    "tags": [
     "hide_input"
    ]
   },
   "outputs": [
    {
     "name": "stdout",
     "output_type": "stream",
     "text": [
      "Passed all tests\n"
     ]
    }
   ],
   "source": [
    "flux_up_test = np.einsum(\n",
    "    \"itp, i, p -> t\",\n",
    "    mu_arr_pos[:, None, None] * u_cache[:N, :],\n",
    "    weights_mu,\n",
    "    full_weights_phi,\n",
    "    optimize=True,\n",
    ")\n",
    "flux_down_test = np.einsum(\n",
    "    \"itp, i, p -> t\",\n",
    "    mu_arr_pos[:, None, None] * u_cache[N:, :],\n",
    "    weights_mu,\n",
    "    full_weights_phi,\n",
    "    optimize=True,\n",
    ")\n",
    "# Add the direct flux and account for delta-M scaling\n",
    "if np.issubdtype(type(f), np.number):\n",
    "    flux_down_test += I0 * mu0 * np.exp(-tau_arr / mu0)\n",
    "else:\n",
    "    flux_down_test += (1 + w0 * f) * I0 * mu0 * np.exp(-tau_arr / mu0)\n",
    "\n",
    "\n",
    "assert np.allclose(flux_up_test, flux_up(tau_arr))\n",
    "assert np.allclose(flux_down_test, flux_down(tau_arr))\n",
    "print(\"Passed all tests\")"
   ]
  },
  {
   "cell_type": "markdown",
   "id": "62131840",
   "metadata": {},
   "source": [
    "#### 3.7.4.2 Reflectance and transmittance"
   ]
  },
  {
   "cell_type": "markdown",
   "id": "ed237332",
   "metadata": {},
   "source": [
    "**Incident flux**"
   ]
  },
  {
   "cell_type": "markdown",
   "id": "699d10ef",
   "metadata": {},
   "source": [
    "In order to compute the reflectance and transmittance, we first need to determine the incident flux. The incident flux from the direct beam is $I_0 \\mu_0$. With $\\delta-M$ scaling, the apparent direct flux becomes $(1 + \\omega_0 f) I_0 \\mu_0$. Of course the true direct flux remains $I_0 \\mu_0$. This discrepancy is explained in [[6]](#cite-MW1980): under $\\delta-M$ scaling, the apparent direct flux \"includes scattered radiation traveling in very nearly the same direction as the incident beam\".\n",
    "\n",
    "Recall that the boundary conditions are\n",
    "\n",
    "$$\n",
    "u\\left(\\tau_0, \\mu_i, \\phi \\right) = \\sum_{m = 0}^{\\text{NLeg}}b^+_{im}\\cos(m(\\phi_0 - \\phi)), \\quad u(0, -\\mu_i, \\phi) = \\sum_{m = 0}^{\\text{NLeg}}b^-_{im}\\cos(m(\\phi_0 - \\phi)) \\quad i = 1, \\dots, N\n",
    "$$\n",
    "\n",
    "The incident flux from the BCs, which we denote $F_{b^\\pm}$, are\n",
    "\n",
    "$$F_{b^\\pm} = 2 \\pi \\sum_{i = 0}^N w_i \\mu_i b^\\pm_{i0}$$\n",
    "\n",
    "respectively, where $w_i$ are quadrature weights.  Once again, only the $0$th moment matters for the flux. If the BCs are constant over $\\mu$, we will instead have \n",
    "\n",
    "$$F_{b^\\pm} = \\pi b^\\pm$$"
   ]
  },
  {
   "cell_type": "markdown",
   "id": "882a21c4",
   "metadata": {},
   "source": [
    "**Computation and interpretation of reflectance and transmittance values**"
   ]
  },
  {
   "cell_type": "markdown",
   "id": "720a5dd7",
   "metadata": {},
   "source": [
    "Reflectance, $R$, and transmittance, $T$, values only make sense if the incident radiation comes entirely from one side of the atmosphere, usually downwards onto the top layer. Moreover, we generally want to calculate reflectance and transmittance with respect to a specific source. As an example, we calculate the reflectance and transmittance with respect to the direct beam:\n",
    "\n",
    "$$R = \\frac{F_\\text{Total}^+(0)}{I_0 \\mu_0}, \\quad T = \\frac{F_\\text{Total}^-(\\tau_0)}{I_0 \\mu_0}$$\n",
    "\n",
    "which requires us to set the BCs $b^\\pm = 0$."
   ]
  },
  {
   "cell_type": "code",
   "execution_count": 58,
   "id": "794cad7f",
   "metadata": {
    "tags": [
     "hide_input"
    ]
   },
   "outputs": [
    {
     "name": "stdout",
     "output_type": "stream",
     "text": [
      "Reflectance, R = 0.32536980646778285\n",
      "Transmittance, T = 0.0016119410342509172\n"
     ]
    }
   ],
   "source": [
    "flux_up, flux_down = PyDISORT(0, 0, True, NQuad, NLeg, Leg_coeffs_full, tau0, w0, mu0, phi0, I0)[1:3]\n",
    "\n",
    "\n",
    "print(\"Reflectance, R =\", flux_up(0) / (I0 * mu0))\n",
    "print(\"Transmittance, T =\", flux_down(tau0) / (I0 * mu0))"
   ]
  },
  {
   "cell_type": "markdown",
   "id": "2b544964",
   "metadata": {},
   "source": [
    "**Verification of reflectance and transmittance**"
   ]
  },
  {
   "cell_type": "markdown",
   "id": "3fa996f9",
   "metadata": {},
   "source": [
    "[Skip verification](#3.7.5-Timing-PyDISORT)"
   ]
  },
  {
   "cell_type": "markdown",
   "id": "d2945321",
   "metadata": {},
   "source": [
    "We expect the reflectance and transmittance to be independent of the incident flux."
   ]
  },
  {
   "cell_type": "code",
   "execution_count": 59,
   "id": "0a48f1b1",
   "metadata": {},
   "outputs": [
    {
     "name": "stdout",
     "output_type": "stream",
     "text": [
      "Passed all tests\n"
     ]
    }
   ],
   "source": [
    "num_of_tests = 100\n",
    "min_I0, max_I0 = 0, 1e10\n",
    "\n",
    "\n",
    "for i in range(num_of_tests):\n",
    "    I0_test = np.random.uniform(min_I0, max_I0)\n",
    "    flux_up, flux_down = PyDISORT(\n",
    "        0, 0, True, NQuad, NLeg, Leg_coeffs_full, tau0, w0, mu0, phi0, I0_test\n",
    "    )[1:3]\n",
    "    R = flux_up(0) / (I0_test * mu0)\n",
    "    T = flux_down(tau0) / (I0_test * mu0)\n",
    "\n",
    "    I0_test = np.random.uniform(min_I0, max_I0)\n",
    "    flux_up, flux_down = PyDISORT(\n",
    "        0, 0, True, NQuad, NLeg, Leg_coeffs_full, tau0, w0, mu0, phi0, I0_test\n",
    "    )[1:3]\n",
    "    assert np.isclose(R, flux_up(0) / (I0_test * mu0))\n",
    "    assert np.isclose(T, flux_down(tau0) / (I0_test * mu0))\n",
    "print(\"Passed all tests\")"
   ]
  },
  {
   "cell_type": "markdown",
   "id": "b3bd1639",
   "metadata": {},
   "source": [
    "### 3.7.5 Timing PyDISORT"
   ]
  },
  {
   "cell_type": "markdown",
   "id": "e7894cda",
   "metadata": {},
   "source": [
    "[Skip section](#4.-Solving-for-multiple-atmospheric-layers----TODO)"
   ]
  },
  {
   "cell_type": "markdown",
   "id": "078e607d",
   "metadata": {},
   "source": [
    "The time taken will of course be parameter-dependent, but this should give a sense of the speed of `PyDISORT`. The parameters that affect the speed of `PyDISORT` the most are"
   ]
  },
  {
   "cell_type": "code",
   "execution_count": 60,
   "id": "146bc9cf",
   "metadata": {
    "tags": [
     "hide_input"
    ]
   },
   "outputs": [
    {
     "name": "stdout",
     "output_type": "stream",
     "text": [
      "NLeg, NQuad = 16 16\n"
     ]
    }
   ],
   "source": [
    "print(\"NLeg, NQuad =\", NLeg, NQuad)"
   ]
  },
  {
   "cell_type": "markdown",
   "id": "416dc04a",
   "metadata": {},
   "source": [
    "**Time taken to solve the radiative transfer equation**"
   ]
  },
  {
   "cell_type": "code",
   "execution_count": 61,
   "id": "b22d2337",
   "metadata": {
    "tags": [
     "hide_input"
    ]
   },
   "outputs": [
    {
     "name": "stdout",
     "output_type": "stream",
     "text": [
      "Intensity\n",
      "8.8 ms ± 677 µs per loop (mean ± std. dev. of 7 runs, 100 loops each)\n",
      "\n",
      "Fluxes\n",
      "1.18 ms ± 171 µs per loop (mean ± std. dev. of 7 runs, 1,000 loops each)\n",
      "\n",
      "Intensity with corrections\n",
      "8.07 ms ± 656 µs per loop (mean ± std. dev. of 7 runs, 100 loops each)\n",
      "\n",
      "Fluxes with corrections\n",
      "1.1 ms ± 57.9 µs per loop (mean ± std. dev. of 7 runs, 1,000 loops each)\n"
     ]
    }
   ],
   "source": [
    "print(\"Intensity\")\n",
    "%timeit PyDISORT(b_pos, b_neg, False, NQuad, NLeg, Leg_coeffs_full, tau0, w0, mu0, phi0, I0)\n",
    "print()\n",
    "\n",
    "print(\"Fluxes\")\n",
    "%timeit PyDISORT(b_pos, b_neg, True, NQuad, NLeg, Leg_coeffs_full, tau0, w0, mu0, phi0, I0)\n",
    "print()\n",
    "\n",
    "print(\"Intensity with corrections\")\n",
    "%timeit PyDISORT(b_pos, b_neg, False, NQuad, NLeg, Leg_coeffs_full, tau0, w0, mu0, phi0, I0, f=f, p_for_NT_with_g=p_for_NT_with_g)\n",
    "print()\n",
    "\n",
    "print(\"Fluxes with corrections\")\n",
    "%timeit PyDISORT(b_pos, b_neg, True, NQuad, NLeg, Leg_coeffs_full, tau0, w0, mu0, phi0, I0, f=f, p_for_NT_with_g=p_for_NT_with_g)"
   ]
  },
  {
   "cell_type": "markdown",
   "id": "41446198",
   "metadata": {},
   "source": [
    "**Time taken to evaluate the solution at a point**"
   ]
  },
  {
   "cell_type": "code",
   "execution_count": 62,
   "id": "558d759b",
   "metadata": {
    "tags": [
     "hide_input"
    ]
   },
   "outputs": [
    {
     "data": {
      "text/plain": [
       "'print(\"Intensity\")\\n%timeit u(tau_arr[Ntau//2], phi_arr[Nphi//2])\\nprint()\\n\\nprint(\"Fluxes\")\\n%timeit flux_up(0)\\n%timeit flux_down(tau0)\\nprint()\\n\\nprint(\"Intensity with corrections\")\\n%timeit u_NT(tau_arr[Ntau//2], phi_arr[Nphi//2])\\nprint()\\n\\nprint(\"Fluxes with corrections\")\\n%timeit flux_up_NT(0)\\n%timeit flux_down_NT(tau0)'"
      ]
     },
     "execution_count": 62,
     "metadata": {},
     "output_type": "execute_result"
    }
   ],
   "source": [
    "'''print(\"Intensity\")\n",
    "%timeit u(tau_arr[Ntau//2], phi_arr[Nphi//2])\n",
    "print()\n",
    "\n",
    "print(\"Fluxes\")\n",
    "%timeit flux_up(0)\n",
    "%timeit flux_down(tau0)\n",
    "print()\n",
    "\n",
    "print(\"Intensity with corrections\")\n",
    "%timeit u_NT(tau_arr[Ntau//2], phi_arr[Nphi//2])\n",
    "print()\n",
    "\n",
    "print(\"Fluxes with corrections\")\n",
    "%timeit flux_up_NT(0)\n",
    "%timeit flux_down_NT(tau0)'''"
   ]
  },
  {
   "cell_type": "markdown",
   "id": "ac3ce759",
   "metadata": {},
   "source": [
    "# 4. Solving for multiple atmospheric layers -- TODO"
   ]
  },
  {
   "cell_type": "markdown",
   "id": "1c8ef541",
   "metadata": {},
   "source": [
    "If we have multiple atmospheric layers, they will be linked through their BCs. Notice that we only use the BCs to solve for the coefficients of the homogeneous solution. Hence, we solve for multiple atmospheric layers by looping through the single layer solver for each layer before solving for the coefficients of every homogeneous solution simultaneously through a generalization of section [3.6.2](#3.6.2-The-homogeneous-solution)."
   ]
  },
  {
   "cell_type": "markdown",
   "id": "38db6f05",
   "metadata": {},
   "source": [
    "**Multi-layer generalization of section [3.6.2](#3.6.2-The-homogeneous-solution)**"
   ]
  },
  {
   "cell_type": "markdown",
   "id": "2b9289ab",
   "metadata": {},
   "source": [
    "We add a subscript to index the atmospheric layer. For $L$ atmospheric layers we have that $\\tau_L = \\tau_0$. Suppose we have $L=3$ atmospheric layers demarcated by $[0, \\tau_1]$, $[\\tau_1, \\tau_2]$, $[\\tau_2, \\tau_3]$, and with homogeneous solutions $w_1$, $w_2$, $w_3$. We have the BCs\n",
    "\n",
    "$$\n",
    "\\begin{aligned}\n",
    "&w_1^-\\left(0\\right) = b^-_m - B_1^-, &&w_1^+\\left(\\tau_1\\right) + B_1^+\\exp\\left(-\\mu_0^{-1} \\tau_1\\right) = w_2^+\\left(\\tau_1\\right) + B_2^+\\exp\\left(-\\mu_0^{-1} \\tau_1\\right) \\\\\n",
    "&w_2^-\\left(\\tau_1\\right) + B_2^-\\exp\\left(-\\mu_0^{-1} \\tau_1\\right) = w_1^-\\left(\\tau_1\\right) + B_1^-\\exp\\left(-\\mu_0^{-1} \\tau_1\\right), &&w_2^+\\left(\\tau_2\\right) + B_2^+\\exp\\left(-\\mu_0^{-1} \\tau_2\\right) = w_3^+\\left(\\tau_2\\right) + B_2^+\\exp\\left(-\\mu_0^{-1} \\tau_2\\right) \\\\\n",
    "&w_3^-\\left(\\tau_2\\right) + B_3^-\\exp\\left(-\\mu_0^{-1} \\tau_2\\right) = w_2^-\\left(\\tau_2\\right) + B_2^-\\exp\\left(-\\mu_0^{-1} \\tau_2\\right), && w_3^+\\left( \\tau_0 \\right) = b^+_m - B_3^+\\exp\\left(-\\mu_0^{-1} \\tau_0\\right)\n",
    "\\end{aligned}\n",
    "$$\n",
    "\n",
    "where $B^\\pm_i$ comes from the particular solution for each atmospheric layer and are therefore known. Denote $E_j = \\text{Diag}\\left(K_i\\left(\\tau_j\\right)\\right)$, the subscript index $i$ of $K_i$ can be omitted since it will always match that of $G_i$. The BCs produce the system\n",
    "\n",
    "$$\n",
    "\\begin{bmatrix} \n",
    "G^-_1 & 0 & 0 \\\\ \n",
    "G^+_1 E_1 & -G^+_2 E_1 & 0 \\\\ \n",
    "-G^-_1 E_1 & G^-_2 E_1 & 0 \\\\ \n",
    "0 & G^+_2 E_2 & -G^+_3 E_2 \\\\ \n",
    "0 & -G^-_2 E_2 & G^-_3 E_2 \\\\\n",
    "0 & 0 & G^+_3 E_0\n",
    "\\end{bmatrix} \n",
    "\\begin{bmatrix} \n",
    "\\xi_1 \\\\ \n",
    "\\xi_2 \\\\ \n",
    "\\xi_3 \n",
    "\\end{bmatrix} \n",
    "= \n",
    "\\begin{bmatrix} b^-_m - B^-_1 \\\\ \n",
    "\\left(B^+_2 - B^+_1\\right)\\exp\\left(-\\mu_0^{-1} \\tau_1\\right) \\\\\n",
    "\\left(B^-_1 - B^-_2\\right)\\exp\\left(-\\mu_0^{-1} \\tau_1\\right) \\\\ \n",
    "\\left(B^+_3 - B^+_2\\right)\\exp\\left(-\\mu_0^{-1} \\tau_2\\right) \\\\ \n",
    "\\left(B^-_2 - B^-_3\\right)\\exp\\left(-\\mu_0^{-1} \\tau_2\\right) \\\\ \n",
    "b^+_m - B^+_3 \\exp\\left(-\\mu_0^{-1} \\tau_0\\right) \n",
    "\\end{bmatrix}\n",
    "$$"
   ]
  },
  {
   "cell_type": "markdown",
   "id": "bbd0b39e",
   "metadata": {},
   "source": [
    "Further denote $E^\\pm_j = \\text{Diag}\\left(K^\\pm_i\\left(\\tau_j\\right)\\right)$. The multi-layer Stamnes-Conklin's substitutions [[3]](#cite-SC1984) are \n",
    "\n",
    "$$\n",
    "\\begin{aligned}\n",
    "&\\xi_1^- = C_1^- &&\\xi_1^+ = C_1^+ E^-_1 \\\\\n",
    "&\\xi_2^- = C_2^- E^+_1 &&\\xi_2^+ = C_2^+ E^-_2 \\\\\n",
    "&\\xi_3^- = C_3^- E^+_2 &&\\xi_3^+ = C_3^+ E^-_3\n",
    "\\end{aligned}\n",
    "$$\n",
    "\n",
    "Recall that the eigenvalues are arranged negative then positive, e.g. $G^+_1 E_1 = \\begin{bmatrix} G^{+-}_1 E^-_1 & G^{++}_1 E^+_1 \\end{bmatrix}$. Further denote $E^\\pm_{jk} = \\text{Diag}\\left(K^\\pm_i\\left(\\tau_j - \\tau_k\\right)\\right)$. The post-substitution system is\n",
    "\n",
    "$$\n",
    "\\begin{bmatrix} \n",
    "G^{--}_1 & G^{-+}_1 E^-_1 & 0 & 0 & 0 & 0 \\\\ \n",
    "G^{+-}_1 E^-_1 & G^{++}_1 & -G^{+-}_2 & -G^{++}_2 E^-_{21} & 0 & 0 \\\\ \n",
    "-G^{--}_1 E^-_1 & -G^{-+}_1 & G^{--}_2 & G^{-+}_2 E^-_{21} & 0 & 0 \\\\ \n",
    "0 & 0 & G^{+-}_2 E^-_{21} & G^{++}_2 & -G^{+-}_3 & -G^{++}_3 E^-_{32} \\\\ \n",
    "0 & 0 & -G^{--}_2 E^-_{21} & -G^{-+}_2 & G^{--}_3 & G^{-+}_3 E^-_{32} \\\\\n",
    "0 & 0 & 0 & 0 & G^{+-}_3 E^-_{32} & G^{++}_3\n",
    "\\end{bmatrix} \n",
    "\\begin{bmatrix} \n",
    "C^-_1 \\\\ \n",
    "C^+_1 \\\\ \n",
    "C^-_2 \\\\ \n",
    "C^+_2 \\\\ \n",
    "C^-_3 \\\\\n",
    "C^+_3 \\\\\n",
    "\\end{bmatrix} \n",
    "= \n",
    "\\begin{bmatrix} b^-_m - B^-_1 \\\\ \n",
    "\\left(B^+_2 - B^+_1\\right)\\exp\\left(-\\mu_0^{-1} \\tau_1\\right) \\\\\n",
    "\\left(B^-_1 - B^-_2\\right)\\exp\\left(-\\mu_0^{-1} \\tau_1\\right) \\\\ \n",
    "\\left(B^+_3 - B^+_2\\right)\\exp\\left(-\\mu_0^{-1} \\tau_2\\right) \\\\ \n",
    "\\left(B^-_2 - B^-_3\\right)\\exp\\left(-\\mu_0^{-1} \\tau_2\\right) \\\\ \n",
    "b^+_m - B^+_3 \\exp\\left(-\\mu_0^{-1} \\tau_0\\right) \n",
    "\\end{bmatrix}\n",
    "$$\n",
    "\n",
    "which is always well-conditioned. Note that $\\tau_3 = \\tau_0$."
   ]
  },
  {
   "cell_type": "code",
   "execution_count": null,
   "id": "39a81cfd",
   "metadata": {},
   "outputs": [],
   "source": []
  },
  {
   "cell_type": "markdown",
   "id": "f4629705",
   "metadata": {},
   "source": [
    "*TODO: Change exposition to $L$ atmospheric layers instead of the current 3? Discuss de-coupling of system for small $\\omega_0$.* "
   ]
  },
  {
   "cell_type": "markdown",
   "id": "d3efcc1f",
   "metadata": {},
   "source": [
    "*TODO: Add discussions on other changes required for a multi-layer solver like changes to the inputs and changes to the corrections? These write-ups can be in their own (sub)sections.*"
   ]
  },
  {
   "cell_type": "markdown",
   "id": "d0f52f32",
   "metadata": {},
   "source": [
    "*TODO: For a multi-layer system, discuss $R_{\\text{sys}}$, Lambertian surface and even BDRF?*"
   ]
  },
  {
   "cell_type": "markdown",
   "id": "a9aeb413",
   "metadata": {},
   "source": [
    "# 5. Comparisons with Stamnes' FORTRAN DISORT -- TODO"
   ]
  },
  {
   "cell_type": "markdown",
   "id": "452ee0f9",
   "metadata": {},
   "source": [
    "[[2]](#cite-Sta1999)"
   ]
  },
  {
   "cell_type": "code",
   "execution_count": null,
   "id": "c61dda6e",
   "metadata": {},
   "outputs": [],
   "source": [
    "import disort\n",
    "\n",
    "# Perform DISORT'S built-in test 1 by populating every variable\n",
    "nlyr = 1\n",
    "nmom = NLeg\n",
    "nstr = NQuad\n",
    "numu = NQuad\n",
    "nphi = Nphi\n",
    "ntau = Ntau\n",
    "usrang = True\n",
    "usrtau = True\n",
    "ibcnd = 0\n",
    "onlyfl = False\n",
    "prnt = np.array([True, False, False, False, True]) # Prints to CMD instead of here\n",
    "plank = False\n",
    "lamber = False\n",
    "deltamplus = True\n",
    "do_pseudo_sphere = False\n",
    "dtauc = 3.125*10**-2\n",
    "ssalb = 0.200000003\n",
    "pmom = np.zeros(17)\n",
    "pmom[0] = 1\n",
    "temper = np.zeros(2)\n",
    "wvnmlo = 0\n",
    "wvnmhi = 0\n",
    "utau = np.array([0, 3.125*10**-2])\n",
    "umu0 = 0.100000001\n",
    "phi0 = 0\n",
    "umu = np.array([-1, -0.5, -0.100000001, 0.100000001, 0.5, 1])\n",
    "phi = np.array([0])\n",
    "fbeam = 31.4159279\n",
    "fisot = 0\n",
    "albedo = 0\n",
    "btemp = 0\n",
    "ttemp = 0\n",
    "temis = 0\n",
    "earth_radius = 6371\n",
    "h_lyr = np.zeros(2)\n",
    "rhoq = np.zeros((8, 9, 16))\n",
    "rhou = np.zeros((6, 9, 16))\n",
    "rho_accurate = np.zeros((6, 1))\n",
    "bemst = np.zeros(8)\n",
    "emust = np.zeros(6)\n",
    "accur = 0\n",
    "header = 'Test Case No. 1a:  Isotropic Scattering, Ref. VH1, Table 12:  b =  0.03125, a = 0.20'\n",
    "rfldir = np.zeros(2)\n",
    "rfldn = np.zeros(2)\n",
    "flup = np.zeros(2)\n",
    "dfdt = np.zeros(2)\n",
    "uavg = np.zeros(2)\n",
    "uu = np.zeros((6, 2, 1), 'f')\n",
    "albmed = np.zeros(6)\n",
    "trnmed = np.zeros(6)\n",
    "\n",
    "# If desired, print the module documentation which shows all functions\n",
    "#print(disort1.__doc__)\n",
    "\n",
    "# More practically, if desired print the \"disort\" function's inputs and outputs\n",
    "print(disort.disort.__doc__)\n",
    "\n",
    "# Run disort, putting DFDT, UAVG, and UU in a, b, and c, respectively\n",
    "rfldir, rfldn, flup, dfdt, uavg, uu, albmed, trnmed = disort.disort(usrang, usrtau, ibcnd, onlyfl, prnt, plank, lamber, deltamplus, do_pseudo_sphere, dtauc, ssalb,\n",
    "                        pmom, temper, wvnmlo, wvnmhi, utau, umu0, phi0, umu, phi, fbeam, fisot, albedo, btemp, ttemp,\n",
    "                        temis, earth_radius, h_lyr, rhoq, rhou, rho_accurate, bemst, emust, accur, header, rfldir,\n",
    "                        rfldn, flup, dfdt, uavg, uu, albmed, trnmed)\n",
    "\n",
    "print(uu, flup)\n"
   ]
  },
  {
   "cell_type": "code",
   "execution_count": 64,
   "id": "949eff79",
   "metadata": {},
   "outputs": [
    {
     "name": "stdout",
     "output_type": "stream",
     "text": [
      "5.01 ms ± 309 µs per loop (mean ± std. dev. of 7 runs, 100 loops each)\n"
     ]
    }
   ],
   "source": [
    "%timeit disort.disort(usrang, usrtau, ibcnd, onlyfl, prnt, plank, lamber, deltamplus, do_pseudo_sphere, dtauc, ssalb, pmom, temper, wvnmlo, wvnmhi, utau, umu0, phi0, umu, phi, fbeam, fisot, albedo, btemp, ttemp, temis, earth_radius, h_lyr, rhoq, rhou, rho_accurate, bemst, emust, accur, header, rfldir, rfldn, flup, dfdt, uavg, uu, albmed, trnmed)"
   ]
  },
  {
   "cell_type": "markdown",
   "id": "aed4cb45",
   "metadata": {},
   "source": [
    "<!--bibtex\n",
    "\n",
    "@article{NT1988,\n",
    "title = {Algorithms for radiative intensity calculations in moderately thick atmospheres using a truncation approximation},\n",
    "journal = {Journal of Quantitative Spectroscopy and Radiative Transfer},\n",
    "volume = {40},\n",
    "number = {1},\n",
    "pages = {51-69},\n",
    "year = {1988},\n",
    "issn = {0022-4073},\n",
    "doi = {https://doi.org/10.1016/0022-4073(88)90031-3},\n",
    "url = {https://www.sciencedirect.com/science/article/pii/0022407388900313},\n",
    "author = {T. Nakajima and M. Tanaka},\n",
    "abstract = {The efficiency of numerical calculations is discussed for selected algorithms employing the discrete ordinate method and the truncation approximation for the solar radiative intensity in moderately thick, plane-parallel scattering atmospheres. It is found that truncation of the phase function causes a significant error in the computed intensity and the magnitude of this error depends significantly on how the intensity is retrieved from the truncated radiative transfer equation. A newly developed retrieval algorithm, the TMS- method, yields the intensity field with an error ⪅1% when the number of discrete path is as small as 10 in the hemisphere for aerosol-laden atmospheres with optical thickness ⪅1.}\n",
    "}\n",
    "\n",
    "@article{YTA1971,\n",
    "title = {Radiative heat transfer in water clouds by infrared radiation},\n",
    "journal = {Journal of Quantitative Spectroscopy and Radiative Transfer},\n",
    "volume = {11},\n",
    "number = {6},\n",
    "pages = {697-708},\n",
    "year = {1971},\n",
    "issn = {0022-4073},\n",
    "doi = {https://doi.org/10.1016/0022-4073(71)90048-3},\n",
    "url = {https://www.sciencedirect.com/science/article/pii/0022407371900483},\n",
    "author = {Giichi Yamamoto and Masayuki Tanaka and Shoji Asano},\n",
    "abstract = {Radiative heat transfer in water clouds is studied by the method of discrete ordinates, taking into account not only scattering, absorption and emission by cloud droplets but also absorption and emission by water vapor in the cloud. According to Semuelson the method of discrete ordinates is not very amenable to studies involving the intermediate optical thickness, because of instabilities that are inherent in the method for the intermediate optical thickness. A method of avoiding these instabilities is shown in this paper. Numerical calculation for the spectral region from 5 to 40 μ was carried out on the model altostratus clouds, and that only for the window region on the model stratocumulus and nimbostratus clouds. The radiative temperature change in a very thin cloud is everywhere cooling. With increasing cloud thickness, however, the upper parts of the cloud undergo cooling, while the lower parts undergo heating. The rate of both heating and cooling is largest near the surface. In a semi-infinitely thick cloud the cloud top undergoes cooling at a rate of about 30°C/hr and effective cooling extends to about 100 m interior from the cloud boundary.}\n",
    "}\n",
    "\n",
    "@book{Cha1960, \n",
    "      author = \"S.  Chandrasekhar\",\n",
    "      title = \"Radiative Transfer\",\n",
    "      year = \"1960\",\n",
    "      publisher = \"Dover\",\n",
    "}\n",
    "\n",
    "@article{Wis1977,\n",
    "      author = \"W. J.  Wiscombe\",\n",
    "      title = \"The Delta–M Method: Rapid Yet Accurate Radiative Flux Calculations for Strongly Asymmetric Phase Functions\",\n",
    "      journal = \"Journal of Atmospheric Sciences\",\n",
    "      year = \"1977\",\n",
    "      publisher = \"American Meteorological Society\",\n",
    "      address = \"Boston MA, USA\",\n",
    "      volume = \"34\",\n",
    "      number = \"9\",\n",
    "      doi = \"10.1175/1520-0469(1977)034<1408:TDMRYA>2.0.CO;2\",\n",
    "      pages=      \"1408 - 1422\",\n",
    "      url = \"https://journals.ametsoc.org/view/journals/atsc/34/9/1520-0469_1977_034_1408_tdmrya_2_0_co_2.xml\"\n",
    "}\n",
    "\n",
    "@article{Syk1951,\n",
    "    author = {Sykes, J. B.},\n",
    "    title = \"{Approximate Integration of the Equation of Transfer}\",\n",
    "    journal = {Monthly Notices of the Royal Astronomical Society},\n",
    "    volume = {111},\n",
    "    number = {4},\n",
    "    pages = {377-386},\n",
    "    year = {1951},\n",
    "    month = {08},\n",
    "    abstract = \"{The value of numerical integration in obtaining approximate solutions of an equation of transfer, and the different methods at our disposal, are discussed. It is shown that although the Newton-Cotes method, used by Kourganoff, is better than the Gauss method, used by Chandrasekhar, both are inferior to a new method, the double-Gauss, discovered by the author. The errors in the approximate values of the source-function and the limb-darkening in all three methods are tabulated for various approximations, and illustrated by graphs.}\",\n",
    "    issn = {0035-8711},\n",
    "    doi = {10.1093/mnras/111.4.377},\n",
    "    url = {https://doi.org/10.1093/mnras/111.4.377},\n",
    "    eprint = {https://academic.oup.com/mnras/article-pdf/111/4/377/8077435/mnras111-0377.pdf},\n",
    "}\n",
    "\n",
    "\n",
    "@article{STWJ1988,\n",
    "author = {Knut Stamnes and S-Chee Tsay and Warren Wiscombe and Kolf Jayaweera},\n",
    "journal = {Appl. Opt.},\n",
    "keywords = {Electromagnetic radiation; Multiple scattering; Optical depth; Radiative transfer; Reflection; Thermal emission},\n",
    "number = {12},\n",
    "pages = {2502--2509},\n",
    "publisher = {Optica Publishing Group},\n",
    "title = {Numerically stable algorithm for discrete-ordinate-method radiative transfer in multiple scattering and emitting layered media},\n",
    "volume = {27},\n",
    "month = {Jun},\n",
    "year = {1988},\n",
    "url = {http://opg.optica.org/ao/abstract.cfm?URI=ao-27-12-2502},\n",
    "doi = {10.1364/AO.27.002502},\n",
    "abstract = {We summarize an advanced, thoroughly documented, and quite general purpose discrete ordinate algorithm for time-independent transfer calculations in vertically inhomogeneous, nonisothermal, plane-parallel media. Atmospheric applications ranging from the UV to the radar region of the electromagnetic spectrum are possible. The physical processes included are thermal emission, scattering, absorption, and bidirectional reflection and emissionat the lower boundary. The medium may be forced at the top boundary by parallel or diffuse radiation and by internal and boundary thermal sources as well. We provide a brief account of the theoretical basis as well as a discussion of the numerical implementation of the theory. The recent advances made by ourselves and our collaborators---advances in both formulation and numerical solution---are all incorporated in the algorithm. Prominent among these advances are the complete conquest of two ill-conditioning problems which afflicted all previous discrete ordinate implementations: (1) the computation of eigenvalues and eigenvectors and (2) the inversion of the matrix determining the constants of integration. Copies of the fortran program on microcomputer diskettes are available for interested users.},\n",
    "}\n",
    "\n",
    "\n",
    "\n",
    "@article{STWLE2000,\n",
    "author = {Stamnes, Knut and Tsay, Si-Chee and Wiscombe, Warren and Laszlo, Istvan and Einaudi, Franco},\n",
    "year = {2000},\n",
    "month = {02},\n",
    "pages = {},\n",
    "title = {General Purpose Fortran Program for Discrete-Ordinate-Method Radiative Transfer in Scattering and Emitting Layered Media: An Update of DISORT}\n",
    "}\n",
    "\n",
    "@article{SS1981,\n",
    "      author = \"Knut  Stamnes and Roy A.  Swanson\",\n",
    "      title = \"A New Look at the Discrete Ordinate Method for Radiative Transfer Calculations in Anisotropically Scattering Atmospheres\",\n",
    "      journal = \"Journal of Atmospheric Sciences\",\n",
    "      year = \"1981\",\n",
    "      publisher = \"American Meteorological Society\",\n",
    "      address = \"Boston MA, USA\",\n",
    "      volume = \"38\",\n",
    "      number = \"2\",\n",
    "      doi = \"10.1175/1520-0469(1981)038<0387:ANLATD>2.0.CO;2\",\n",
    "      pages=      \"387 - 399\",\n",
    "      url = \"https://journals.ametsoc.org/view/journals/atsc/38/2/1520-0469_1981_038_0387_anlatd_2_0_co_2.xml\"\n",
    "}\n",
    "\n",
    "@article{SC1984,\n",
    "title = {A new multi-layer discrete ordinate approach to radiative transfer in vertically inhomogeneous atmospheres},\n",
    "journal = {Journal of Quantitative Spectroscopy and Radiative Transfer},\n",
    "volume = {31},\n",
    "number = {3},\n",
    "pages = {273-282},\n",
    "year = {1984},\n",
    "issn = {0022-4073},\n",
    "doi = {https://doi.org/10.1016/0022-4073(84)90031-1},\n",
    "url = {https://www.sciencedirect.com/science/article/pii/0022407384900311},\n",
    "author = {Knut Stamnes and Paul Conklin},\n",
    "abstract = {A recently developed matrix formulation of the discrete ordinate method is extended for application to an inhomogeneous atmosphere. The solution yields fluxes, as well as the complete azimuthal dependence of the intensity at any level in the atmosphere. The numerical aspects of the solution are discussed and numerical verification is provided by comparing computed results with those obtained by other methods. In particular, it is shown that a simple scaling scheme, which removes the positive exponentials in the coefficient matrix when solving for the constants of integration, provides unconditionally stable solutions for arbitrary optical thicknesses. An assessment of the accuracy to be expected is also provided, and it is shown that low-order discrete ordinate approximations yield very accurate flux values.}\n",
    "}\n",
    "\n",
    "@article{MH2017,\n",
    "title = {A demonstration of adjoint methods for multi-dimensional remote sensing of the atmosphere and surface},\n",
    "journal = {Journal of Quantitative Spectroscopy and Radiative Transfer},\n",
    "volume = {204},\n",
    "pages = {215-231},\n",
    "year = {2018},\n",
    "issn = {0022-4073},\n",
    "doi = {https://doi.org/10.1016/j.jqsrt.2017.09.031},\n",
    "url = {https://www.sciencedirect.com/science/article/pii/S0022407317305198},\n",
    "author = {William G.K. Martin and Otto P. Hasekamp},\n",
    "keywords = {Adjoint methods, Three-dimensional vector radiative transfer, Linearization, Remote sensing, Parameter derivatives, Searchlight functions},\n",
    "abstract = {In previous work, we derived the adjoint method as a computationally efficient path to three-dimensional (3D) retrievals of clouds and aerosols. In this paper we will demonstrate the use of adjoint methods for retrieving two-dimensional (2D) fields of cloud extinction. The demonstration uses a new 2D radiative transfer solver (FSDOM). This radiation code was augmented with adjoint methods to allow efficient derivative calculations needed to retrieve cloud and surface properties from multi-angle reflectance measurements. The code was then used in three synthetic retrieval studies. Our retrieval algorithm adjusts the cloud extinction field and surface albedo to minimize the measurement misfit function with a gradient-based, quasi-Newton approach. At each step we compute the value of the misfit function and its gradient with two calls to the solver FSDOM. First we solve the forward radiative transfer equation to compute the residual misfit with measurements, and second we solve the adjoint radiative transfer equation to compute the gradient of the misfit function with respect to all unknowns. The synthetic retrieval studies verify that adjoint methods are scalable to retrieval problems with many measurements and unknowns. We can retrieve the vertically-integrated optical depth of moderately thick clouds as a function of the horizontal coordinate. It is also possible to retrieve the vertical profile of clouds that are separated by clear regions. The vertical profile retrievals improve for smaller cloud fractions. This leads to the conclusion that cloud edges actually increase the amount of information that is available for retrieving the vertical profile of clouds. However, to exploit this information one must retrieve the horizontally heterogeneous cloud properties with a 2D (or 3D) model. This prototype shows that adjoint methods can efficiently compute the gradient of the misfit function. This work paves the way for the application of similar methods to 3D remote sensing problems.}\n",
    "}\n",
    "\n",
    "@article{MCB2014,\n",
    "title = {Adjoint methods for adjusting three-dimensional atmosphere and surface properties to fit multi-angle/multi-pixel polarimetric measurements},\n",
    "journal = {Journal of Quantitative Spectroscopy and Radiative Transfer},\n",
    "volume = {144},\n",
    "pages = {68-85},\n",
    "year = {2014},\n",
    "issn = {0022-4073},\n",
    "doi = {https://doi.org/10.1016/j.jqsrt.2014.03.030},\n",
    "url = {https://www.sciencedirect.com/science/article/pii/S002240731400154X},\n",
    "author = {William Martin and Brian Cairns and Guillaume Bal},\n",
    "keywords = {Adjoint methods, Three-dimensional vector radiative transfer, Linearization, Remote sensing, Parameter derivatives},\n",
    "abstract = {This paper derives an efficient procedure for using the three-dimensional (3D) vector radiative transfer equation (VRTE) to adjust atmosphere and surface properties and improve their fit with multi-angle/multi-pixel radiometric and polarimetric measurements of scattered sunlight. The proposed adjoint method uses the 3D VRTE to compute the measurement misfit function and the adjoint 3D VRTE to compute its gradient with respect to all unknown parameters. In the remote sensing problems of interest, the scalar-valued misfit function quantifies agreement with data as a function of atmosphere and surface properties, and its gradient guides the search through this parameter space. Remote sensing of the atmosphere and surface in a three-dimensional region may require thousands of unknown parameters and millions of data points. Many approaches would require calls to the 3D VRTE solver in proportion to the number of unknown parameters or measurements. To avoid this issue of scale, we focus on computing the gradient of the misfit function as an alternative to the Jacobian of the measurement operator. The resulting adjoint method provides a way to adjust 3D atmosphere and surface properties with only two calls to the 3D VRTE solver for each spectral channel, regardless of the number of retrieval parameters, measurement view angles or pixels. This gives a procedure for adjusting atmosphere and surface parameters that will scale to the large problems of 3D remote sensing. For certain types of multi-angle/multi-pixel polarimetric measurements, this encourages the development of a new class of three-dimensional retrieval algorithms with more flexible parametrizations of spatial heterogeneity, less reliance on data screening procedures, and improved coverage in terms of the resolved physical processes in the Earth׳s atmosphere.}\n",
    "}\n",
    "\n",
    "@article{LSJLTWS2015,\n",
    "title = {Improved discrete ordinate solutions in the presence of an anisotropically reflecting lower boundary: Upgrades of the DISORT computational tool},\n",
    "journal = {Journal of Quantitative Spectroscopy and Radiative Transfer},\n",
    "volume = {157},\n",
    "pages = {119-134},\n",
    "year = {2015},\n",
    "issn = {0022-4073},\n",
    "doi = {https://doi.org/10.1016/j.jqsrt.2015.02.014},\n",
    "url = {https://www.sciencedirect.com/science/article/pii/S0022407315000679},\n",
    "author = {Z. Lin and S. Stamnes and Z. Jin and I. Laszlo and S.-C. Tsay and W.J. Wiscombe and K. Stamnes},\n",
    "keywords = {Radiative transfer model, BRDF, Cox–Munk, Ross–Li, RPV, Single scattering correction},\n",
    "abstract = {A successor version 3 of DISORT (DISORT3) is presented with important upgrades that improve the accuracy, efficiency, and stability of the algorithm. Compared with version 2 (DISORT2 released in 2000) these upgrades include (a) a redesigned BRDF computation that improves both speed and accuracy, (b) a revised treatment of the single scattering correction, and (c) additional efficiency and stability upgrades for beam sources. In DISORT3 the BRDF computation is improved in the following three ways: (i) the Fourier decomposition is prepared “off-line”, thus avoiding the repeated internal computations done in DISORT2; (ii) a large enough number of terms in the Fourier expansion of the BRDF is employed to guarantee accurate values of the expansion coefficients (default is 200 instead of 50 in DISORT2); (iii) in the post-processing step the reflection of the direct attenuated beam from the lower boundary is included resulting in a more accurate single scattering correction. These improvements in the treatment of the BRDF have led to improved accuracy and a several-fold increase in speed. In addition, the stability of beam sources has been improved by removing a singularity occurring when the cosine of the incident beam angle is too close to the reciprocal of any of the eigenvalues. The efficiency for beam sources has been further improved from reducing by a factor of 2 (compared to DISORT2) the dimension of the linear system of equations that must be solved to obtain the particular solutions, and by replacing the LINPAK routines used in DISORT2 by LAPACK 3.5 in DISORT3. These beam source stability and efficiency upgrades bring enhanced stability and an additional 5–7% improvement in speed. Numerical results are provided to demonstrate and quantify the improvements in accuracy and efficiency of DISORT3 compared to DISORT2.}\n",
    "}\n",
    "\n",
    "@article {JWW1976,\n",
    "      author = \"J. H.  Joseph and W. J.  Wiscombe and J. A.  Weinman\",\n",
    "      title = \"The Delta-Eddington Approximation for Radiative Flux Transfer\",\n",
    "      journal = \"Journal of Atmospheric Sciences\",\n",
    "      year = \"1976\",\n",
    "      publisher = \"American Meteorological Society\",\n",
    "      address = \"Boston MA, USA\",\n",
    "      volume = \"33\",\n",
    "      number = \"12\",\n",
    "      doi = \"10.1175/1520-0469(1976)033<2452:TDEAFR>2.0.CO;2\",\n",
    "      pages=      \"2452 - 2459\",\n",
    "      url = \"https://journals.ametsoc.org/view/journals/atsc/33/12/1520-0469_1976_033_2452_tdeafr_2_0_co_2.xml\"\n",
    "}\n",
    "\n",
    "@Article{HMMNPW2017,\n",
    "AUTHOR = {Hase, N. and Miller, S. M. and Maa{\\ss}, P. and Notholt, J. and Palm, M. and Warneke, T.},\n",
    "TITLE = {Atmospheric inverse modeling via sparse reconstruction},\n",
    "JOURNAL = {Geoscientific Model Development},\n",
    "VOLUME = {10},\n",
    "YEAR = {2017},\n",
    "NUMBER = {10},\n",
    "PAGES = {3695--3713},\n",
    "URL = {https://gmd.copernicus.org/articles/10/3695/2017/},\n",
    "DOI = {10.5194/gmd-10-3695-2017}\n",
    "}\n",
    "\n",
    "@article {FL1992,\n",
    "      author = \"Qiang  Fu and K. N.  Liou\",\n",
    "      title = \"On the Correlated k-Distribution Method for Radiative Transfer in Nonhomogeneous Atmospheres\",\n",
    "      journal = \"Journal of Atmospheric Sciences\",\n",
    "      year = \"1992\",\n",
    "      publisher = \"American Meteorological Society\",\n",
    "      address = \"Boston MA, USA\",\n",
    "      volume = \"49\",\n",
    "      number = \"22\",\n",
    "      doi = \"10.1175/1520-0469(1992)049<2139:OTCDMF>2.0.CO;2\",\n",
    "      pages=      \"2139 - 2156\",\n",
    "      url = \"https://journals.ametsoc.org/view/journals/atsc/49/22/1520-0469_1992_049_2139_otcdmf_2_0_co_2.xml\"\n",
    "}\n",
    "\n",
    "@inproceedings{FJ1999,\n",
    "  title={Computer-based underwater imaging analysis},\n",
    "  author={Georges R. Fournier and Miroslaw Jonasz},\n",
    "  booktitle={Optics \\& Photonics},\n",
    "  year={1999}\n",
    "}\n",
    "\n",
    "@article{DM2010,\n",
    "\tdoi = {10.1088/0034-4885/73/2/026801},\n",
    "\turl = {https://doi.org/10.1088/0034-4885/73/2/026801},\n",
    "\tyear = 2010,\n",
    "\tmonth = {jan},\n",
    "\tpublisher = {{IOP} Publishing},\n",
    "\tvolume = {73},\n",
    "\tnumber = {2},\n",
    "\tpages = {026801},\n",
    "\tauthor = {Anthony B Davis and Alexander Marshak},\n",
    "\ttitle = {Solar radiation transport in the cloudy atmosphere: a 3D perspective on observations and climate impacts},\n",
    "\tjournal = {Reports on Progress in Physics},\n",
    "\tabstract = {The interplay of sunlight with clouds is a ubiquitous and often pleasant visual experience, but it conjures up major challenges for weather, climate, environmental science and beyond. Those engaged in the characterization of clouds (and the clear air nearby) by remote sensing methods are even more confronted. The problem comes, on the one hand, from the spatial complexity of real clouds and, on the other hand, from the dominance of multiple scattering in the radiation transport. The former ingredient contrasts sharply with the still popular representation of clouds as homogeneous plane-parallel slabs for the purposes of radiative transfer computations. In typical cloud scenes the opposite asymptotic transport regimes of diffusion and ballistic propagation coexist. We survey the three-dimensional (3D) atmospheric radiative transfer literature over the past 50 years and identify three concurrent and intertwining thrusts: first, how to assess the damage (bias) caused by 3D effects in the operational 1D radiative transfer models? Second, how to mitigate this damage? Finally, can we exploit 3D radiative transfer phenomena to innovate observation methods and technologies? We quickly realize that the smallest scale resolved computationally or observationally may be artificial but is nonetheless a key quantity that separates the 3D radiative transfer solutions into two broad and complementary classes: stochastic and deterministic. Both approaches draw on classic and contemporary statistical, mathematical and computational physics.}\n",
    "}\n",
    "\n",
    "@article{DFDM2021,\n",
    "      author = \"Linda Forster and Anthony B. Davis and David J. Diner and Bernhard Mayer\",\n",
    "      title = \"Toward Cloud Tomography from Space Using MISR and MODIS: Locating the “Veiled Core” in Opaque Convective Clouds\",\n",
    "      journal = \"Journal of the Atmospheric Sciences\",\n",
    "      year = \"2021\",\n",
    "      publisher = \"American Meteorological Society\",\n",
    "      address = \"Boston MA, USA\",\n",
    "      volume = \"78\",\n",
    "      number = \"1\",\n",
    "      doi = \"10.1175/JAS-D-19-0262.1\",\n",
    "      pages=      \"155 - 166\",\n",
    "      url = \"https://journals.ametsoc.org/view/journals/atsc/78/1/jas-d-19-0262.1.xml\"\n",
    "}\n",
    "\n",
    "@article{DDET2022,\n",
    "title = {Cloud tomographic retrieval algorithms. I: Surrogate minimization method},\n",
    "journal = {Journal of Quantitative Spectroscopy and Radiative Transfer},\n",
    "volume = {277},\n",
    "pages = {107954},\n",
    "year = {2022},\n",
    "issn = {0022-4073},\n",
    "doi = {https://doi.org/10.1016/j.jqsrt.2021.107954},\n",
    "url = {https://www.sciencedirect.com/science/article/pii/S0022407321004465},\n",
    "author = {Adrian Doicu and Alexandru Doicu and Dmitry Efremenko and Thomas Trautmann},\n",
    "keywords = {Cloud tomographic retrieval, Multi-dimensional models},\n",
    "abstract = {A cloud tomographic retrieval algorithm relying on (i) the spherical harmonics discrete ordinate method for computing the radiative transfer and (ii) the surrogate minimization method for solving the inverse problem has been designed. The retrieval algorithm uses regularization, accelerated projected gradient methods, and two types of surrogate functions. The performances of the retrieval algorithm are analyzed on a few synthetic two- and three-dimensional problems.}\n",
    "}\n",
    "\n",
    "@misc{Sta1999, \n",
    "\ttitle={LLLab disort website}, \n",
    "\turl={http://www.rtatmocn.com/disort/}, \n",
    "\tjournal={Light and Life Lab (LLLab)}, \n",
    "\tauthor={Stamnes, S.}, \n",
    "\tyear={1999}\n",
    "} \n",
    "\n",
    "@INPROCEEDINGS{ALHSAV2020,\n",
    "  author={Aides, Amit and Levis, Aviad and Holodovsky, Vadim and Schechner, Yoav Y. and Althausen, Dietrich and Vainiger, Adi},\n",
    "  booktitle={2020 IEEE International Conference on Computational Photography (ICCP)}, \n",
    "  title={Distributed Sky Imaging Radiometry and Tomography}, \n",
    "  year={2020},\n",
    "  volume={},\n",
    "  number={},\n",
    "  pages={1-12},\n",
    "  doi={10.1109/ICCP48838.2020.9105241}}\n",
    "\n",
    "@article {MW1980,\n",
    "      author = \"W. E.  Meador and W. R.  Weaver\",\n",
    "      title = \"Two-Stream Approximations to Radiative Transfer in Planetary Atmospheres: A Unified Description of Existing Methods and a New Improvement\",\n",
    "      journal = \"Journal of Atmospheric Sciences\",\n",
    "      year = \"1980\",\n",
    "      publisher = \"American Meteorological Society\",\n",
    "      address = \"Boston MA, USA\",\n",
    "      volume = \"37\",\n",
    "      number = \"3\",\n",
    "      doi = \"10.1175/1520-0469(1980)037<0630:TSATRT>2.0.CO;2\",\n",
    "      pages=      \"630 - 643\",\n",
    "      url = \"https://journals.ametsoc.org/view/journals/atsc/37/3/1520-0469_1980_037_0630_tsatrt_2_0_co_2.xml\"\n",
    "}\n",
    "\n",
    "\n",
    "-->"
   ]
  },
  {
   "cell_type": "markdown",
   "id": "2af18a94",
   "metadata": {},
   "source": [
    "# References\n",
    "\n",
    "<a id=\"cite-STWJ1988\"/><sup><a href=#ref-1>[^]</a><a href=#ref-6>[^]</a><a href=#ref-8>[^]</a><a href=#ref-13>[^]</a><a href=#ref-14>[^]</a><a href=#ref-16>[^]</a><a href=#ref-18>[^]</a></sup>Knut Stamnes and S-Chee Tsay and Warren Wiscombe and Kolf Jayaweera. 1988. _Numerically stable algorithm for discrete-ordinate-method radiative transfer in multiple scattering and emitting layered media_. [URL](http://opg.optica.org/ao/abstract.cfm?URI=ao-27-12-2502)\n",
    "\n",
    "<a id=\"cite-Sta1999\"/><sup><a href=#ref-2>[^]</a><a href=#ref-4>[^]</a><a href=#ref-5>[^]</a><a href=#ref-7>[^]</a><a href=#ref-11>[^]</a><a href=#ref-23>[^]</a></sup>Stamnes, S.. 1999. _LLLab disort website_. [URL](http://www.rtatmocn.com/disort/)\n",
    "\n",
    "<a id=\"cite-SC1984\"/><sup><a href=#ref-3>[^]</a><a href=#ref-19>[^]</a><a href=#ref-22>[^]</a></sup>Knut Stamnes and Paul Conklin. 1984. _A new multi-layer discrete ordinate approach to radiative transfer in vertically inhomogeneous atmospheres_. [URL](https://www.sciencedirect.com/science/article/pii/0022407384900311)\n",
    "\n",
    "<a id=\"cite-Wis1977\"/><sup><a href=#ref-9>[^]</a><a href=#ref-15>[^]</a></sup>W. J.  Wiscombe. 1977. _The Delta–M Method: Rapid Yet Accurate Radiative Flux Calculations for Strongly Asymmetric Phase Functions_. [URL](https://journals.ametsoc.org/view/journals/atsc/34/9/1520-0469_1977_034_1408_tdmrya_2_0_co_2.xml)\n",
    "\n",
    "<a id=\"cite-JWW1976\"/><sup><a href=#ref-10>[^]</a></sup>J. H.  Joseph and W. J.  Wiscombe and J. A.  Weinman. 1976. _The Delta-Eddington Approximation for Radiative Flux Transfer_. [URL](https://journals.ametsoc.org/view/journals/atsc/33/12/1520-0469_1976_033_2452_tdeafr_2_0_co_2.xml)\n",
    "\n",
    "<a id=\"cite-MW1980\"/><sup><a href=#ref-12>[^]</a></sup>W. E.  Meador and W. R.  Weaver. 1980. _Two-Stream Approximations to Radiative Transfer in Planetary Atmospheres: A Unified Description of Existing Methods and a New Improvement_. [URL](https://journals.ametsoc.org/view/journals/atsc/37/3/1520-0469_1980_037_0630_tsatrt_2_0_co_2.xml)\n",
    "\n",
    "<a id=\"cite-Syk1951\"/><sup><a href=#ref-17>[^]</a></sup>Sykes, J. B.. 1951. _Approximate Integration of the Equation of Transfer_. [URL](https://doi.org/10.1093/mnras/111.4.377)\n",
    "\n",
    "<a id=\"cite-NT1988\"/><sup><a href=#ref-20>[^]</a></sup>T. Nakajima and M. Tanaka. 1988. _Algorithms for radiative intensity calculations in moderately thick atmospheres using a truncation approximation_. [URL](https://www.sciencedirect.com/science/article/pii/0022407388900313)\n",
    "\n",
    "<a id=\"cite-STWLE2000\"/><sup><a href=#ref-21>[^]</a></sup>Stamnes, Knut and Tsay, Si-Chee and Wiscombe, Warren and Laszlo, Istvan and Einaudi, Franco. 2000. _General Purpose Fortran Program for Discrete-Ordinate-Method Radiative Transfer in Scattering and Emitting Layered Media: An Update of DISORT_.\n",
    "\n"
   ]
  }
 ],
 "metadata": {
  "hide_input": false,
  "kernelspec": {
   "display_name": "Python 3 (ipykernel)",
   "language": "python",
   "name": "python3"
  },
  "language_info": {
   "codemirror_mode": {
    "name": "ipython",
    "version": 3
   },
   "file_extension": ".py",
   "mimetype": "text/x-python",
   "name": "python",
   "nbconvert_exporter": "python",
   "pygments_lexer": "ipython3",
   "version": "3.10.6"
  }
 },
 "nbformat": 4,
 "nbformat_minor": 5
}
